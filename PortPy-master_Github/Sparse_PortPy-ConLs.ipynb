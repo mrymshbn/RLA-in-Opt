{
 "cells": [
  {
   "cell_type": "code",
   "execution_count": 2,
   "id": "65739bac",
   "metadata": {},
   "outputs": [],
   "source": [
    "import scipy\n",
    "import random\n",
    "import portpy.photon as pp\n",
    "import numpy as np\n",
    "from cvxpy import *\n",
    "from scipy import sparse\n",
    "import sklearn.metrics\n",
    "import cProfile\n",
    "import time\n",
    "import sys\n",
    "import psutil\n",
    "from sklearn.decomposition import PCA\n",
    "from scipy.linalg import hadamard\n",
    "import matplotlib.pyplot as plt\n",
    "import cvxpy as cp\n",
    "from scipy.optimize import lsq_linear\n",
    "import scipy.sparse"
   ]
  },
  {
   "cell_type": "code",
   "execution_count": 3,
   "id": "7217211f",
   "metadata": {},
   "outputs": [
    {
     "name": "stdout",
     "output_type": "stream",
     "text": [
      "creating rinds.. This step may take some time due to dilation\n",
      "rinds created!!\n",
      "Creating BEV..\n",
      "Loading sparse influence matrix...\n",
      "Done\n",
      "Objective Start\n",
      "Objective done\n",
      "Constraints Start\n",
      "Structure ESOPHAGUS not available!\n",
      "Structure ESOPHAGUS not available!\n",
      "Constraints done\n",
      "===============================================================================\n",
      "                                     CVXPY                                     \n",
      "                                     v1.5.1                                    \n",
      "===============================================================================\n",
      "(CVXPY) Jun 06 12:53:03 AM: Your problem has 1946 variables, 110663 constraints, and 0 parameters.\n",
      "(CVXPY) Jun 06 12:53:03 AM: It is compliant with the following grammars: DCP, DQCP\n",
      "(CVXPY) Jun 06 12:53:03 AM: (If you need to solve this problem multiple times, but with different data, consider using parameters.)\n",
      "(CVXPY) Jun 06 12:53:03 AM: CVXPY will first compile your problem; then, it will invoke a numerical solver to obtain a solution.\n",
      "(CVXPY) Jun 06 12:53:03 AM: Your problem is compiled with the CPP canonicalization backend.\n",
      "-------------------------------------------------------------------------------\n",
      "                                  Compilation                                  \n",
      "-------------------------------------------------------------------------------\n",
      "(CVXPY) Jun 06 12:53:03 AM: Compiling problem (target solver=MOSEK).\n",
      "(CVXPY) Jun 06 12:53:03 AM: Reduction chain: Dcp2Cone -> CvxAttr2Constr -> ConeMatrixStuffing -> MOSEK\n",
      "(CVXPY) Jun 06 12:53:03 AM: Applying reduction Dcp2Cone\n",
      "(CVXPY) Jun 06 12:53:03 AM: Applying reduction CvxAttr2Constr\n",
      "(CVXPY) Jun 06 12:53:03 AM: Applying reduction ConeMatrixStuffing\n",
      "(CVXPY) Jun 06 12:53:03 AM: Applying reduction MOSEK\n",
      "(CVXPY) Jun 06 12:53:04 AM: Finished problem compilation (took 1.026e+00 seconds).\n",
      "-------------------------------------------------------------------------------\n",
      "                                Numerical solver                               \n",
      "-------------------------------------------------------------------------------\n",
      "(CVXPY) Jun 06 12:53:04 AM: Invoking solver MOSEK  to obtain a solution.\n",
      "\n",
      "\n",
      "(CVXPY) Jun 06 12:53:04 AM: Problem\n",
      "(CVXPY) Jun 06 12:53:04 AM:   Name                   :                 \n",
      "(CVXPY) Jun 06 12:53:04 AM:   Objective sense        : maximize        \n",
      "(CVXPY) Jun 06 12:53:04 AM:   Type                   : CONIC (conic optimization problem)\n",
      "(CVXPY) Jun 06 12:53:04 AM:   Constraints            : 1959            \n",
      "(CVXPY) Jun 06 12:53:04 AM:   Affine conic cons.     : 0               \n",
      "(CVXPY) Jun 06 12:53:04 AM:   Disjunctive cons.      : 0               \n",
      "(CVXPY) Jun 06 12:53:04 AM:   Cones                  : 13              \n",
      "(CVXPY) Jun 06 12:53:04 AM:   Scalar variables       : 215748          \n",
      "(CVXPY) Jun 06 12:53:04 AM:   Matrix variables       : 0               \n",
      "(CVXPY) Jun 06 12:53:04 AM:   Integer variables      : 0               \n",
      "(CVXPY) Jun 06 12:53:04 AM: \n",
      "(CVXPY) Jun 06 12:53:04 AM: Optimizer started.\n",
      "(CVXPY) Jun 06 12:53:04 AM: Presolve started.\n",
      "(CVXPY) Jun 06 12:53:04 AM: Linear dependency checker started.\n",
      "(CVXPY) Jun 06 12:53:05 AM: Linear dependency checker terminated.\n",
      "(CVXPY) Jun 06 12:53:05 AM: Eliminator started.\n",
      "(CVXPY) Jun 06 12:53:05 AM: Freed constraints in eliminator : 0\n",
      "(CVXPY) Jun 06 12:53:05 AM: Eliminator terminated.\n",
      "(CVXPY) Jun 06 12:53:05 AM: Eliminator - tries                  : 1                 time                   : 0.00            \n",
      "(CVXPY) Jun 06 12:53:05 AM: Lin. dep.  - tries                  : 1                 time                   : 0.03            \n",
      "(CVXPY) Jun 06 12:53:05 AM: Lin. dep.  - primal attempts        : 1                 successes              : 1               \n",
      "(CVXPY) Jun 06 12:53:05 AM: Lin. dep.  - dual attempts          : 0                 successes              : 0               \n",
      "(CVXPY) Jun 06 12:53:05 AM: Lin. dep.  - primal deps.           : 0                 dual deps.             : 0               \n",
      "(CVXPY) Jun 06 12:53:05 AM: Presolve terminated. Time: 0.19    \n",
      "(CVXPY) Jun 06 12:53:05 AM: Optimizer  - threads                : 4               \n",
      "(CVXPY) Jun 06 12:53:05 AM: Optimizer  - solved problem         : the primal      \n",
      "(CVXPY) Jun 06 12:53:05 AM: Optimizer  - Constraints            : 1959            \n",
      "(CVXPY) Jun 06 12:53:05 AM: Optimizer  - Cones                  : 13              \n",
      "(CVXPY) Jun 06 12:53:05 AM: Optimizer  - Scalar variables       : 63183             conic                  : 50518           \n",
      "(CVXPY) Jun 06 12:53:05 AM: Optimizer  - Semi-definite variables: 0                 scalarized             : 0               \n",
      "(CVXPY) Jun 06 12:53:05 AM: Factor     - setup time             : 0.19            \n",
      "(CVXPY) Jun 06 12:53:05 AM: Factor     - dense det. time        : 0.00              GP order time          : 0.00            \n",
      "(CVXPY) Jun 06 12:53:05 AM: Factor     - nonzeros before factor : 2.46e+05          after factor           : 2.47e+05        \n",
      "(CVXPY) Jun 06 12:53:05 AM: Factor     - dense dim.             : 4                 flops                  : 8.21e+07        \n",
      "(CVXPY) Jun 06 12:53:05 AM: ITE PFEAS    DFEAS    GFEAS    PRSTATUS   POBJ              DOBJ              MU       TIME  \n",
      "(CVXPY) Jun 06 12:53:05 AM: 0   1.4e+02  2.3e+02  1.4e+01  0.00e+00   -1.300000000e+01  -0.000000000e+00  1.0e+00  0.52  \n",
      "(CVXPY) Jun 06 12:53:05 AM: 1   1.2e+02  1.9e+02  1.3e+01  -9.63e-01  4.679787643e+03   4.692415819e+03   8.4e-01  0.56  \n",
      "(CVXPY) Jun 06 12:53:05 AM: 2   7.5e+01  1.2e+02  9.1e+00  -8.68e-01  6.575663964e+03   6.586712761e+03   5.3e-01  0.59  \n",
      "(CVXPY) Jun 06 12:53:05 AM: 3   3.3e+01  5.4e+01  4.7e+00  -6.48e-01  5.483660804e+03   5.491376940e+03   2.3e-01  0.64  \n",
      "(CVXPY) Jun 06 12:53:05 AM: 4   1.7e+01  2.8e+01  2.3e+00  -1.90e-01  2.759695648e+03   2.764885110e+03   1.2e-01  0.66  \n",
      "(CVXPY) Jun 06 12:53:05 AM: 5   1.4e+01  2.3e+01  1.8e+00  1.40e-01   2.641460111e+03   2.645958464e+03   9.9e-02  0.69  \n",
      "(CVXPY) Jun 06 12:53:05 AM: 6   6.9e+00  1.1e+01  7.0e-01  3.32e-01   1.135836563e+03   1.138391456e+03   4.9e-02  0.72  \n",
      "(CVXPY) Jun 06 12:53:05 AM: 7   2.6e+00  4.3e+00  1.7e-01  6.90e-01   6.433717496e+02   6.443825583e+02   1.8e-02  0.77  \n",
      "(CVXPY) Jun 06 12:53:05 AM: 8   7.7e-01  1.3e+00  2.9e-02  9.19e-01   2.519392152e+02   2.522318222e+02   5.5e-03  0.80  \n",
      "(CVXPY) Jun 06 12:53:05 AM: 9   1.9e-01  3.1e-01  3.7e-03  1.00e+00   1.112136823e+02   1.112831916e+02   1.4e-03  0.83  \n",
      "(CVXPY) Jun 06 12:53:05 AM: 10  5.2e-02  8.4e-02  5.2e-04  1.01e+00   6.185792813e+01   6.187635074e+01   3.6e-04  0.88  \n",
      "(CVXPY) Jun 06 12:53:05 AM: 11  1.3e-02  2.2e-02  7.0e-05  1.00e+00   4.731442626e+01   4.731918194e+01   9.5e-05  0.91  \n",
      "(CVXPY) Jun 06 12:53:05 AM: 12  4.1e-03  6.7e-03  1.2e-05  1.00e+00   4.361501519e+01   4.361646033e+01   2.9e-05  0.95  \n",
      "(CVXPY) Jun 06 12:53:05 AM: 13  1.3e-03  2.1e-03  2.1e-06  9.99e-01   4.251789702e+01   4.251835712e+01   9.3e-06  0.98  \n",
      "(CVXPY) Jun 06 12:53:05 AM: 14  4.8e-04  7.9e-04  4.9e-07  9.99e-01   4.220398669e+01   4.220415339e+01   3.4e-06  1.02  \n",
      "(CVXPY) Jun 06 12:53:05 AM: 15  1.1e-04  1.7e-04  5.0e-08  1.00e+00   4.207786880e+01   4.207790508e+01   7.5e-07  1.05  \n",
      "(CVXPY) Jun 06 12:53:05 AM: 16  6.0e-06  9.7e-06  6.2e-10  1.00e+00   4.204776556e+01   4.204776775e+01   4.2e-08  1.09  \n",
      "(CVXPY) Jun 06 12:53:05 AM: 17  5.6e-06  9.1e-06  5.3e-10  5.71e-01   4.204729098e+01   4.204729299e+01   3.9e-08  1.12  \n",
      "(CVXPY) Jun 06 12:53:05 AM: 18  4.8e-06  7.8e-06  4.2e-10  9.28e-01   4.204684154e+01   4.204684326e+01   3.3e-08  1.16  \n",
      "(CVXPY) Jun 06 12:53:05 AM: 19  3.2e-06  5.3e-06  2.4e-10  9.85e-01   4.204654155e+01   4.204654271e+01   2.2e-08  1.19  \n",
      "(CVXPY) Jun 06 12:53:05 AM: 20  1.6e-06  2.6e-06  8.3e-11  9.43e-01   4.204577094e+01   4.204577151e+01   1.1e-08  1.20  \n",
      "(CVXPY) Jun 06 12:53:06 AM: 21  4.1e-07  2.9e-06  5.0e-12  1.02e+00   4.204543515e+01   4.204543523e+01   1.7e-09  1.25  \n",
      "(CVXPY) Jun 06 12:53:06 AM: 22  2.3e-07  3.5e-06  2.1e-12  9.95e-01   4.204540413e+01   4.204540417e+01   9.4e-10  1.31  \n",
      "(CVXPY) Jun 06 12:53:06 AM: Optimizer terminated. Time: 1.34    \n",
      "(CVXPY) Jun 06 12:53:06 AM: \n",
      "(CVXPY) Jun 06 12:53:06 AM: \n",
      "(CVXPY) Jun 06 12:53:06 AM: Interior-point solution summary\n"
     ]
    },
    {
     "name": "stdout",
     "output_type": "stream",
     "text": [
      "(CVXPY) Jun 06 12:53:06 AM:   Problem status  : PRIMAL_AND_DUAL_FEASIBLE\n",
      "(CVXPY) Jun 06 12:53:06 AM:   Solution status : OPTIMAL\n",
      "(CVXPY) Jun 06 12:53:06 AM:   Primal.  obj: 4.2045404128e+01    nrm: 1e+02    Viol.  con: 5e-06    var: 6e-07    cones: 0e+00  \n",
      "(CVXPY) Jun 06 12:53:06 AM:   Dual.    obj: 4.2045404171e+01    nrm: 6e+03    Viol.  con: 0e+00    var: 1e-08    cones: 0e+00  \n",
      "-------------------------------------------------------------------------------\n",
      "                                    Summary                                    \n",
      "-------------------------------------------------------------------------------\n",
      "(CVXPY) Jun 06 12:53:06 AM: Problem status: optimal\n",
      "(CVXPY) Jun 06 12:53:06 AM: Optimal value: 4.205e+01\n",
      "(CVXPY) Jun 06 12:53:06 AM: Compilation took 1.026e+00 seconds\n",
      "(CVXPY) Jun 06 12:53:06 AM: Solver (including time spent in interface) took 1.843e+00 seconds\n",
      "Creating BEV..\n",
      "Loading full influence matrix..\n",
      "Done\n"
     ]
    }
   ],
   "source": [
    "data_dir = r'../data'\n",
    "data = pp.DataExplorer(data_dir=data_dir)\n",
    "patient_id = 'Lung_Phantom_Patient_1'\n",
    "data.patient_id = patient_id\n",
    "ct = pp.CT(data)\n",
    "structs = pp.Structures(data)\n",
    "beams = pp.Beams(data)\n",
    "opt_params = data.load_config_opt_params(protocol_name='Lung_2Gy_30Fx')\n",
    "structs.create_opt_structures(opt_params)\n",
    "inf_matrix_sparse = pp.InfluenceMatrix(ct=ct, structs=structs, beams=beams)\n",
    "protocol_name = 'Lung_2Gy_30Fx'\n",
    "clinical_criteria = pp.ClinicalCriteria(data, protocol_name)\n",
    "plan_sparse = pp.Plan(ct, structs, beams, inf_matrix_sparse, clinical_criteria)\n",
    "opt = pp.Optimization(plan_sparse, opt_params=opt_params)\n",
    "opt.create_cvxpy_problem()\n",
    "\n",
    "sol_sparse = opt.solve(solver='MOSEK', verbose=True)\n",
    "dose_sparse_1d = plan_sparse.inf_matrix.A @ (sol_sparse['optimal_intensity'] * plan_sparse.get_num_of_fractions())\n",
    "x_sparse =sol_sparse['optimal_intensity'] * plan_sparse.get_num_of_fractions()\n",
    "\n",
    "beams_full = pp.Beams(data, load_inf_matrix_full=True)\n",
    "inf_matrix_full = pp.InfluenceMatrix(ct=ct, structs=structs, beams=beams_full, is_full=True)\n",
    "plan_full = pp.Plan(ct, structs, beams, inf_matrix_full, clinical_criteria)\n",
    "dose_full_1d = plan_full.inf_matrix.A @ (sol_sparse['optimal_intensity'] * plan_full.get_num_of_fractions())\n",
    "\n",
    "A_dense = plan_full.inf_matrix.A\n",
    "A_sparse = plan_sparse.inf_matrix.A\n"
   ]
  },
  {
   "cell_type": "code",
   "execution_count": 4,
   "id": "134daf96",
   "metadata": {},
   "outputs": [
    {
     "data": {
      "text/html": [
       "<div>\n",
       "<style scoped>\n",
       "    .dataframe tbody tr th:only-of-type {\n",
       "        vertical-align: middle;\n",
       "    }\n",
       "\n",
       "    .dataframe tbody tr th {\n",
       "        vertical-align: top;\n",
       "    }\n",
       "\n",
       "    .dataframe thead th {\n",
       "        text-align: right;\n",
       "    }\n",
       "</style>\n",
       "<table border=\"1\" class=\"dataframe\">\n",
       "  <thead>\n",
       "    <tr style=\"text-align: right;\">\n",
       "      <th></th>\n",
       "      <th>patient_id</th>\n",
       "      <th>disease_site</th>\n",
       "      <th>ptv_vol_cc</th>\n",
       "      <th>num_beams</th>\n",
       "    </tr>\n",
       "  </thead>\n",
       "  <tbody>\n",
       "    <tr>\n",
       "      <th>0</th>\n",
       "      <td>Lung_Phantom_Patient_1</td>\n",
       "      <td>Lung</td>\n",
       "      <td>43.902</td>\n",
       "      <td>72</td>\n",
       "    </tr>\n",
       "  </tbody>\n",
       "</table>\n",
       "</div>"
      ],
      "text/plain": [
       "               patient_id disease_site  ptv_vol_cc  num_beams\n",
       "0  Lung_Phantom_Patient_1         Lung      43.902         72"
      ]
     },
     "metadata": {},
     "output_type": "display_data"
    }
   ],
   "source": [
    "# specify the patient data location.\n",
    "data_dir = r'../data'\n",
    "# Use PortPy DataExplorer class to explore PortPy data\n",
    "data = pp.DataExplorer(data_dir=data_dir)\n",
    "# display the existing patients in console or browser.\n",
    "data.display_list_of_patients()"
   ]
  },
  {
   "cell_type": "code",
   "execution_count": 5,
   "id": "482b1879",
   "metadata": {},
   "outputs": [
    {
     "data": {
      "text/html": [
       "<div>\n",
       "<style scoped>\n",
       "    .dataframe tbody tr th:only-of-type {\n",
       "        vertical-align: middle;\n",
       "    }\n",
       "\n",
       "    .dataframe tbody tr th {\n",
       "        vertical-align: top;\n",
       "    }\n",
       "\n",
       "    .dataframe thead th {\n",
       "        text-align: right;\n",
       "    }\n",
       "</style>\n",
       "<table border=\"1\" class=\"dataframe\">\n",
       "  <thead>\n",
       "    <tr style=\"text-align: right;\">\n",
       "      <th></th>\n",
       "      <th>ID</th>\n",
       "      <th>gantry_angle</th>\n",
       "      <th>collimator_angle</th>\n",
       "      <th>couch_angle</th>\n",
       "      <th>beam_modality</th>\n",
       "      <th>energy_MV</th>\n",
       "      <th>influence_matrix(sparse/full)</th>\n",
       "      <th>iso_center</th>\n",
       "      <th>MLC_name</th>\n",
       "      <th>machine_name</th>\n",
       "    </tr>\n",
       "  </thead>\n",
       "  <tbody>\n",
       "    <tr>\n",
       "      <th>0</th>\n",
       "      <td>0</td>\n",
       "      <td>0</td>\n",
       "      <td>0</td>\n",
       "      <td>0</td>\n",
       "      <td>Photon</td>\n",
       "      <td>6</td>\n",
       "      <td>Both</td>\n",
       "      <td>{'x_mm': 79.47996, 'y_mm': 134.0219, 'z_mm': 3...</td>\n",
       "      <td>VARIAN MILLENIUM 120</td>\n",
       "      <td>VARIAN TRUE BEAM</td>\n",
       "    </tr>\n",
       "    <tr>\n",
       "      <th>1</th>\n",
       "      <td>1</td>\n",
       "      <td>5</td>\n",
       "      <td>0</td>\n",
       "      <td>0</td>\n",
       "      <td>Photon</td>\n",
       "      <td>6</td>\n",
       "      <td>Both</td>\n",
       "      <td>{'x_mm': 79.47996, 'y_mm': 134.0219, 'z_mm': 3...</td>\n",
       "      <td>VARIAN MILLENIUM 120</td>\n",
       "      <td>VARIAN TRUE BEAM</td>\n",
       "    </tr>\n",
       "    <tr>\n",
       "      <th>2</th>\n",
       "      <td>2</td>\n",
       "      <td>10</td>\n",
       "      <td>0</td>\n",
       "      <td>0</td>\n",
       "      <td>Photon</td>\n",
       "      <td>6</td>\n",
       "      <td>Both</td>\n",
       "      <td>{'x_mm': 79.47996, 'y_mm': 134.0219, 'z_mm': 3...</td>\n",
       "      <td>VARIAN MILLENIUM 120</td>\n",
       "      <td>VARIAN TRUE BEAM</td>\n",
       "    </tr>\n",
       "    <tr>\n",
       "      <th>3</th>\n",
       "      <td>3</td>\n",
       "      <td>15</td>\n",
       "      <td>0</td>\n",
       "      <td>0</td>\n",
       "      <td>Photon</td>\n",
       "      <td>6</td>\n",
       "      <td>Both</td>\n",
       "      <td>{'x_mm': 79.47996, 'y_mm': 134.0219, 'z_mm': 3...</td>\n",
       "      <td>VARIAN MILLENIUM 120</td>\n",
       "      <td>VARIAN TRUE BEAM</td>\n",
       "    </tr>\n",
       "    <tr>\n",
       "      <th>4</th>\n",
       "      <td>4</td>\n",
       "      <td>20</td>\n",
       "      <td>0</td>\n",
       "      <td>0</td>\n",
       "      <td>Photon</td>\n",
       "      <td>6</td>\n",
       "      <td>Both</td>\n",
       "      <td>{'x_mm': 79.47996, 'y_mm': 134.0219, 'z_mm': 3...</td>\n",
       "      <td>VARIAN MILLENIUM 120</td>\n",
       "      <td>VARIAN TRUE BEAM</td>\n",
       "    </tr>\n",
       "  </tbody>\n",
       "</table>\n",
       "</div>"
      ],
      "text/plain": [
       "   ID  gantry_angle  collimator_angle  couch_angle beam_modality energy_MV  \\\n",
       "0   0             0                 0            0        Photon         6   \n",
       "1   1             5                 0            0        Photon         6   \n",
       "2   2            10                 0            0        Photon         6   \n",
       "3   3            15                 0            0        Photon         6   \n",
       "4   4            20                 0            0        Photon         6   \n",
       "\n",
       "  influence_matrix(sparse/full)  \\\n",
       "0                          Both   \n",
       "1                          Both   \n",
       "2                          Both   \n",
       "3                          Both   \n",
       "4                          Both   \n",
       "\n",
       "                                          iso_center              MLC_name  \\\n",
       "0  {'x_mm': 79.47996, 'y_mm': 134.0219, 'z_mm': 3...  VARIAN MILLENIUM 120   \n",
       "1  {'x_mm': 79.47996, 'y_mm': 134.0219, 'z_mm': 3...  VARIAN MILLENIUM 120   \n",
       "2  {'x_mm': 79.47996, 'y_mm': 134.0219, 'z_mm': 3...  VARIAN MILLENIUM 120   \n",
       "3  {'x_mm': 79.47996, 'y_mm': 134.0219, 'z_mm': 3...  VARIAN MILLENIUM 120   \n",
       "4  {'x_mm': 79.47996, 'y_mm': 134.0219, 'z_mm': 3...  VARIAN MILLENIUM 120   \n",
       "\n",
       "       machine_name  \n",
       "0  VARIAN TRUE BEAM  \n",
       "1  VARIAN TRUE BEAM  \n",
       "2  VARIAN TRUE BEAM  \n",
       "3  VARIAN TRUE BEAM  \n",
       "4  VARIAN TRUE BEAM  "
      ]
     },
     "execution_count": 5,
     "metadata": {},
     "output_type": "execute_result"
    }
   ],
   "source": [
    "# pick a patient from the existing patient list to get detailed info (e.g., beam angles, structures).\n",
    "data.patient_id = 'Lung_Phantom_Patient_1'\n",
    "# display the data of the patient in console or browser.\n",
    "beams_df, structs_df = data.display_patient_metadata(return_beams_df=True, return_structs_df=True)\n",
    "beams_df.head()"
   ]
  },
  {
   "cell_type": "code",
   "execution_count": 6,
   "id": "62d9cded",
   "metadata": {},
   "outputs": [
    {
     "data": {
      "text/html": [
       "<div>\n",
       "<style scoped>\n",
       "    .dataframe tbody tr th:only-of-type {\n",
       "        vertical-align: middle;\n",
       "    }\n",
       "\n",
       "    .dataframe tbody tr th {\n",
       "        vertical-align: top;\n",
       "    }\n",
       "\n",
       "    .dataframe thead th {\n",
       "        text-align: right;\n",
       "    }\n",
       "</style>\n",
       "<table border=\"1\" class=\"dataframe\">\n",
       "  <thead>\n",
       "    <tr style=\"text-align: right;\">\n",
       "      <th></th>\n",
       "      <th>name</th>\n",
       "      <th>volume_cc</th>\n",
       "    </tr>\n",
       "  </thead>\n",
       "  <tbody>\n",
       "    <tr>\n",
       "      <th>0</th>\n",
       "      <td>GTV</td>\n",
       "      <td>27.629362</td>\n",
       "    </tr>\n",
       "    <tr>\n",
       "      <th>1</th>\n",
       "      <td>LUNGS_NOT_GTV</td>\n",
       "      <td>2983.244630</td>\n",
       "    </tr>\n",
       "    <tr>\n",
       "      <th>2</th>\n",
       "      <td>PTV</td>\n",
       "      <td>43.901787</td>\n",
       "    </tr>\n",
       "    <tr>\n",
       "      <th>3</th>\n",
       "      <td>CORD</td>\n",
       "      <td>5.307685</td>\n",
       "    </tr>\n",
       "    <tr>\n",
       "      <th>4</th>\n",
       "      <td>HEART</td>\n",
       "      <td>841.405457</td>\n",
       "    </tr>\n",
       "  </tbody>\n",
       "</table>\n",
       "</div>"
      ],
      "text/plain": [
       "            name    volume_cc\n",
       "0            GTV    27.629362\n",
       "1  LUNGS_NOT_GTV  2983.244630\n",
       "2            PTV    43.901787\n",
       "3           CORD     5.307685\n",
       "4          HEART   841.405457"
      ]
     },
     "execution_count": 6,
     "metadata": {},
     "output_type": "execute_result"
    }
   ],
   "source": [
    "structs_df.head()"
   ]
  },
  {
   "cell_type": "code",
   "execution_count": 7,
   "id": "cd80f18b",
   "metadata": {},
   "outputs": [
    {
     "name": "stdout",
     "output_type": "stream",
     "text": [
      "زمان کل اجرای ساخت ماتریس پراکنده  \t: 0.21366620063781738 ثانیه\n"
     ]
    }
   ],
   "source": [
    "# Get the threshold value used by PortPy to truncate the matrix    \n",
    "# sparse tol is 1% of the maximum of influence matrix of planner beams\n",
    "\n",
    "start_time = time.time()\n",
    "\n",
    "# The sparse and full matrices are both pre-calculated and included in PorPy data.\n",
    "#   The sparse matrix; however, was obtained by simply zeroing out the small elements in the full matrix that were\n",
    "#   less than a threshold specified in \"my_plan.inf_matrix.sparse_tol\". Here, we manually generate the sparse\n",
    "#   matrix from the full matrix using this threshold to clarify the process\n",
    "\n",
    "#  Get A_sparse and A_dense\n",
    "A_dense = plan_full.inf_matrix.A\n",
    "A_sparse = plan_sparse.inf_matrix.A\n",
    "\n",
    "# Get the threshold value used by PortPy to truncate the matrix\n",
    "# sparse tol is 1% of the maximum of influence matrix of planner beams\n",
    "sparse_tol = plan_sparse.inf_matrix.sparse_tol\n",
    "# sparse_tol = 0.01*np.amax(A_dense)\n",
    "\n",
    "# Truncate the full matrix\n",
    "A_dense[A_dense <= sparse_tol] = 0\n",
    "test = np.abs(A_dense - A_sparse.todense()) <= 1e-3\n",
    "\n",
    "# Check if both influence matrices agree\n",
    "assert test.all()\n",
    "\n",
    "end_time = time.time()\n",
    "total_execution_time = end_time - start_time\n",
    "print(f\"زمان کل اجرای ساخت ماتریس پراکنده  \\t: {total_execution_time} ثانیه\")"
   ]
  },
  {
   "cell_type": "code",
   "execution_count": 8,
   "id": "396d7e26",
   "metadata": {},
   "outputs": [
    {
     "name": "stdout",
     "output_type": "stream",
     "text": [
      "[[ True  True  True ...  True  True  True]\n",
      " [ True  True  True ...  True  True  True]\n",
      " [ True  True  True ...  True  True  True]\n",
      " ...\n",
      " [ True  True  True ...  True  True  True]\n",
      " [ True  True  True ...  True  True  True]\n",
      " [ True  True  True ...  True  True  True]]\n"
     ]
    }
   ],
   "source": [
    "print(test)"
   ]
  },
  {
   "cell_type": "code",
   "execution_count": 9,
   "id": "09bed549",
   "metadata": {
    "scrolled": true
   },
   "outputs": [
    {
     "name": "stdout",
     "output_type": "stream",
     "text": [
      "A_dense:\n",
      "[[0. 0. 0. 0. 0. 0. 0. 0. 0. 0. 0. 0. 0. 0. 0. 0. 0. 0. 0. 0. 0. 0. 0.]\n",
      " [0. 0. 0. 0. 0. 0. 0. 0. 0. 0. 0. 0. 0. 0. 0. 0. 0. 0. 0. 0. 0. 0. 0.]\n",
      " [0. 0. 0. 0. 0. 0. 0. 0. 0. 0. 0. 0. 0. 0. 0. 0. 0. 0. 0. 0. 0. 0. 0.]\n",
      " [0. 0. 0. 0. 0. 0. 0. 0. 0. 0. 0. 0. 0. 0. 0. 0. 0. 0. 0. 0. 0. 0. 0.]\n",
      " [0. 0. 0. 0. 0. 0. 0. 0. 0. 0. 0. 0. 0. 0. 0. 0. 0. 0. 0. 0. 0. 0. 0.]\n",
      " [0. 0. 0. 0. 0. 0. 0. 0. 0. 0. 0. 0. 0. 0. 0. 0. 0. 0. 0. 0. 0. 0. 0.]]\n",
      "A_sparse:\n",
      "  (9917, 233)\t0.016086647\n",
      "  (9918, 233)\t0.017288812\n",
      "  (9919, 233)\t0.017336378\n",
      "  (10040, 234)\t0.01604795\n",
      "  (10041, 234)\t0.016188115\n",
      "  (10042, 234)\t0.016508544\n",
      "  (10043, 234)\t0.017050294\n",
      "  (10044, 234)\t0.018119987\n",
      "  (10045, 234)\t0.01847046\n",
      "  (10046, 234)\t0.016722668\n",
      "  (10101, 235)\t0.016639015\n",
      "  (10102, 235)\t0.016785383\n",
      "  (10103, 235)\t0.016535586\n",
      "  (10104, 235)\t0.01627703\n",
      "  (10105, 235)\t0.016100962\n",
      "  (10108, 235)\t0.016029088\n",
      "  (10508, 77)\t0.016020946\n",
      "  (10626, 77)\t0.016256336\n",
      "  (10627, 78)\t0.016463526\n",
      "  (10682, 77)\t0.016085567\n",
      "  (10739, 78)\t0.01686624\n",
      "  (10746, 1)\t0.016138604\n",
      "  (10747, 2)\t0.016261403\n",
      "  (10792, 77)\t0.017039998\n",
      "  (10796, 80)\t0.016190127\n",
      "  :\t:\n",
      "  (48984, 152)\t0.017012874\n",
      "  (48985, 152)\t0.019042177\n",
      "  (48986, 153)\t0.019351574\n",
      "  (48994, 73)\t0.016959269\n",
      "  (48995, 74)\t0.017156206\n",
      "  (48996, 75)\t0.017043525\n",
      "  (48997, 231)\t0.030435037\n",
      "  (48998, 231)\t0.025730232\n",
      "  (49015, 150)\t0.020870049\n",
      "  (49016, 150)\t0.018263452\n",
      "  (49016, 151)\t0.01726623\n",
      "  (49017, 151)\t0.020519523\n",
      "  (49018, 152)\t0.020573804\n",
      "  (49019, 153)\t0.019002602\n",
      "  (49020, 153)\t0.018151326\n",
      "  (49028, 73)\t0.017787106\n",
      "  (50610, 150)\t0.016132336\n",
      "  (50728, 150)\t0.016305214\n",
      "  (50784, 150)\t0.01615596\n",
      "  (50842, 151)\t0.016141612\n",
      "  (50895, 150)\t0.017120201\n",
      "  (50899, 153)\t0.016412409\n",
      "  (50949, 151)\t0.016151024\n",
      "  (50950, 152)\t0.01621793\n",
      "  (51002, 153)\t0.016717097\n",
      "\n",
      "A_sparse:\n",
      "[[0. 0. 0. 0. 0. 0. 0. 0. 0. 0. 0. 0. 0. 0. 0. 0. 0. 0. 0. 0. 0. 0. 0.]\n",
      " [0. 0. 0. 0. 0. 0. 0. 0. 0. 0. 0. 0. 0. 0. 0. 0. 0. 0. 0. 0. 0. 0. 0.]\n",
      " [0. 0. 0. 0. 0. 0. 0. 0. 0. 0. 0. 0. 0. 0. 0. 0. 0. 0. 0. 0. 0. 0. 0.]\n",
      " [0. 0. 0. 0. 0. 0. 0. 0. 0. 0. 0. 0. 0. 0. 0. 0. 0. 0. 0. 0. 0. 0. 0.]\n",
      " [0. 0. 0. 0. 0. 0. 0. 0. 0. 0. 0. 0. 0. 0. 0. 0. 0. 0. 0. 0. 0. 0. 0.]\n",
      " [0. 0. 0. 0. 0. 0. 0. 0. 0. 0. 0. 0. 0. 0. 0. 0. 0. 0. 0. 0. 0. 0. 0.]]\n"
     ]
    }
   ],
   "source": [
    "print(\"A_dense:\")\n",
    "print(A_dense[1:7, 0:23])\n",
    "\n",
    "print(\"A_sparse:\")\n",
    "print(A_sparse)\n",
    "\n",
    "print(\"\\nA_sparse:\")\n",
    "print((A_sparse.todense())[1:7, 0:23])\n"
   ]
  },
  {
   "cell_type": "code",
   "execution_count": 13,
   "id": "290b2177",
   "metadata": {},
   "outputs": [
    {
     "data": {
      "text/plain": [
       "(60183, 542)"
      ]
     },
     "execution_count": 13,
     "metadata": {},
     "output_type": "execute_result"
    }
   ],
   "source": [
    "A_sparse.todense().shape"
   ]
  },
  {
   "cell_type": "code",
   "execution_count": 14,
   "id": "55f7ca34",
   "metadata": {},
   "outputs": [
    {
     "name": "stdout",
     "output_type": "stream",
     "text": [
      " A_hat = (60183, 542)\n",
      " A = (60183, 542)\n",
      " p = (60183,)\n"
     ]
    }
   ],
   "source": [
    "A_hat = A_sparse\n",
    "A = A_dense\n",
    "p = dose_full_1d\n",
    "print(f' A_hat = {A_hat.shape}\\n A = {A.shape}\\n p = {p.shape}')"
   ]
  },
  {
   "cell_type": "markdown",
   "id": "a7e0cdb6",
   "metadata": {},
   "source": [
    "<center> \n",
    "Minimize $\\lVert Ax - p \\rVert_{2}^2$\n",
    "</center>\n",
    "<center>\n",
    "subject to $x \\succeq 0$\n",
    "</center>\n",
    "\n",
    "                                                            p = دوزتجویزی"
   ]
  },
  {
   "cell_type": "code",
   "execution_count": 21,
   "id": "36b39dc0",
   "metadata": {},
   "outputs": [
    {
     "name": "stdout",
     "output_type": "stream",
     "text": [
      "زمان حل مسُله  0.5927515029907227 ثانیه\n"
     ]
    }
   ],
   "source": [
    "start_time = time.time()\n",
    "\n",
    "# حل مسئله کمترین مربعات با قید نامنفی بودن x\n",
    "sol_dense = lsq_linear (A, p, bounds=(0, np.inf))\n",
    "\n",
    "end_time = time.time ()\n",
    "\n",
    "total_execution_time = end_time - start_time\n",
    "print(f\"زمان حل مسُله  {total_execution_time} ثانیه\")\n",
    "\n",
    "# چاپ بردار x بهینه\n",
    "# print(f\"بردار x بهینه: {result.x}\")\n"
   ]
  },
  {
   "cell_type": "markdown",
   "id": "5d9c092b",
   "metadata": {},
   "source": [
    "<center> \n",
    "Minimize $\\lVert A^*x - p \\rVert_{2}^2$\n",
    "</center>\n",
    "<center>\n",
    "subject to $x \\succeq 0$\n",
    "</center>"
   ]
  },
  {
   "cell_type": "code",
   "execution_count": 22,
   "id": "83ac178b",
   "metadata": {},
   "outputs": [
    {
     "name": "stdout",
     "output_type": "stream",
     "text": [
      "زمان حل مسُله  0.19490408897399902 ثانیه\n"
     ]
    }
   ],
   "source": [
    "start_time = time.time()\n",
    "\n",
    "# حل مسئله کمترین مربعات با قید نامنفی بودن x\n",
    "sol_sparse = lsq_linear (A_hat ,  p, bounds=(0, np.inf))\n",
    "\n",
    "end_time = time.time()\n",
    "\n",
    "total_execution_time = end_time - start_time\n",
    "print(f\"زمان حل مسُله  {total_execution_time} ثانیه\")\n",
    "\n",
    "# print(f\"بردار x بهینه: {x_JL_1.x}\")\n"
   ]
  },
  {
   "cell_type": "code",
   "execution_count": 23,
   "id": "13ae8c25",
   "metadata": {
    "scrolled": true
   },
   "outputs": [
    {
     "data": {
      "text/plain": [
       "       message: The unconstrained solution is optimal.\n",
       "       success: True\n",
       "        status: 3\n",
       "           fun: [ 0.000e+00  0.000e+00 ...  0.000e+00  0.000e+00]\n",
       "             x: [ 9.622e+00  2.369e+00 ...  1.095e+00  6.576e+00]\n",
       "           nit: 0\n",
       "          cost: 44138.278491278164\n",
       "    optimality: 4.02296907429673e-09\n",
       "   active_mask: [ 0.000e+00  0.000e+00 ...  0.000e+00  0.000e+00]\n",
       " unbounded_sol: (array([ 9.622e+00,  2.369e+00, ...,  1.095e+00,  6.576e+00]), 2, 85, 297.1137105260492, 1.8880159324568982e-08, 87.85576648995347, 3.505247262610761, 255.93518980671277)"
      ]
     },
     "execution_count": 23,
     "metadata": {},
     "output_type": "execute_result"
    }
   ],
   "source": [
    "sol_sparse"
   ]
  },
  {
   "cell_type": "code",
   "execution_count": 27,
   "id": "f19818af",
   "metadata": {},
   "outputs": [],
   "source": [
    "x_sparse = sol_sparse.x\n",
    "x_sparse = sol_dense.x"
   ]
  },
  {
   "cell_type": "markdown",
   "id": "15f82aff",
   "metadata": {},
   "source": [
    "   ## DVH Plot"
   ]
  },
  {
   "cell_type": "code",
   "execution_count": 28,
   "id": "836c26e8",
   "metadata": {},
   "outputs": [
    {
     "data": {
      "image/png": "[encoded data removed]",
      "text/plain": [
       "<Figure size 700x500 with 1 Axes>"
      ]
     },
     "metadata": {},
     "output_type": "display_data"
    },
    {
     "name": "stdout",
     "output_type": "stream",
     "text": [
      "Done!\n"
     ]
    }
   ],
   "source": [
    "#  DVH\n",
    "\n",
    "dose_full = plan_full.inf_matrix.A @ x_full\n",
    "dose_sparse = plan_full.inf_matrix.A @ x_sparse\n",
    "\n",
    "\n",
    "fig, ax = plt.subplots(figsize=(7, 5))\n",
    "struct_names = ['PTV', 'ESOPHAGUS', 'HEART', 'CORD']\n",
    "ax = pp.Visualization.plot_dvh(plan_full, dose_1d=dose_sparse, struct_names=struct_names, style='solid', ax=ax)\n",
    "ax = pp.Visualization.plot_dvh(plan_full, dose_1d=dose_full, struct_names=struct_names, style='dotted', ax=ax)\n",
    "ax.set_title('-  PortPy Sparse  .. Dense ')\n",
    "plt.show()\n",
    "print('Done!')"
   ]
  },
  {
   "cell_type": "code",
   "execution_count": 30,
   "id": "d3c9b95e",
   "metadata": {},
   "outputs": [
    {
     "name": "stdout",
     "output_type": "stream",
     "text": [
      "خطای نسبی بین دو بردار: 0.15216012218936803\n"
     ]
    }
   ],
   "source": [
    "sol_ls_A_full = scipy.sparse.linalg.lsqr(A_dense, dose_sparse_1d)\n",
    "x_A_full = sol_ls_A_full[0]\n",
    "\n",
    "relative_error = np.linalg.norm(x_A_full - x_sparse) / np.linalg.norm(x_A_full)\n",
    "print(\"خطای نسبی بین دو بردار:\", relative_error)\n"
   ]
  },
  {
   "cell_type": "code",
   "execution_count": 25,
   "id": "3119dc67",
   "metadata": {},
   "outputs": [
    {
     "data": {
      "text/plain": [
       "True"
      ]
     },
     "execution_count": 25,
     "metadata": {},
     "output_type": "execute_result"
    }
   ],
   "source": [
    "##  بررسی  پراکندگی ماتریس\n",
    "\n",
    "is_sparse = sparse.issparse(S)\n",
    "is_sparse"
   ]
  },
  {
   "cell_type": "code",
   "execution_count": 8,
   "id": "e71f72a2",
   "metadata": {},
   "outputs": [],
   "source": [
    "sol_ls_A_full = scipy.sparse.linalg.lsqr(A_full, dose_sparse_1d)\n",
    "x_A_full = sol_ls_A_full[0]\n",
    "#error = x_A_full - x_sparse \n",
    "#error[0:6]"
   ]
  },
  {
   "cell_type": "code",
   "execution_count": 9,
   "id": "6b412d11",
   "metadata": {},
   "outputs": [
    {
     "name": "stdout",
     "output_type": "stream",
     "text": [
      "x_sparse = (542,) \tx_A_full =  (542,)  \td = (60183,)\n",
      "\n",
      "x_sparse = 1   \tx_A_full =  1\t d = 1\n"
     ]
    }
   ],
   "source": [
    "print(f'x_sparse = {x_sparse.shape} \\tx_A_full =  {x_A_full.shape}  \\td = {d.shape}')\n",
    "print(f'\\nx_sparse = {x_sparse.ndim}   \\tx_A_full =  {x_A_full.ndim}\\t d = {d.ndim}')"
   ]
  },
  {
   "cell_type": "code",
   "execution_count": 10,
   "id": "cbf8d2d5",
   "metadata": {},
   "outputs": [
    {
     "name": "stdout",
     "output_type": "stream",
     "text": [
      "x_sparse :\t [ 9.62226636  2.36910471  2.05475162  2.7434795  17.12041277  9.16261768]\n"
     ]
    }
   ],
   "source": [
    "x_sparse = sol_ls_A_sparse[0]\n",
    "print(f'x_sparse :\\t {x_sparse[0:6]}')\n"
   ]
  },
  {
   "cell_type": "code",
   "execution_count": 11,
   "id": "acbb2e16",
   "metadata": {},
   "outputs": [
    {
     "name": "stdout",
     "output_type": "stream",
     "text": [
      "تعداد عناصر غیر صفر در ماتریس S.A: 0.619340695251971\n",
      "تعداد عناصر غیر صفر در ماتریس کامل: 0.010287595772622898\n",
      "تعداد عناصر غیر صفر در ماتریس portpy_sparse: 0.010287595772622898\n"
     ]
    }
   ],
   "source": [
    "#  تعداد عناصر غیر صفر\n",
    "\n",
    "num_non_zero_elements_dense = np.count_nonzero(S @ A)/293764\n",
    "print(\"تعداد عناصر غیر صفر در ماتریس S.A:\", num_non_zero_elements_dense)\n",
    "\n",
    "num_non_zero_elements_A_full = np.count_nonzero(A)/32619186\n",
    "print(\"تعداد عناصر غیر صفر در ماتریس کامل:\", num_non_zero_elements_A_full)\n",
    "num_non_zero_elements_dense = S.getnnz()/32619186\n",
    "print(\"تعداد عناصر غیر صفر در ماتریس portpy_sparse:\", num_non_zero_elements_dense)"
   ]
  },
  {
   "cell_type": "code",
   "execution_count": 12,
   "id": "81126c40",
   "metadata": {},
   "outputs": [
    {
     "name": "stdout",
     "output_type": "stream",
     "text": [
      "زمان حل کمترین مربعات0.7145979404449463 ثانیه\n"
     ]
    }
   ],
   "source": [
    "start_time = time.time()\n",
    "\n",
    "sol_ls_A_Sparse= scipy.sparse.linalg.lsqr(S @ A,S @ d)\n",
    "\n",
    "\n",
    "end_time = time.time()\n",
    "\n",
    "total_execution_time = end_time - start_time\n",
    "print(f\"زمان حل کمترین مربعات{total_execution_time} ثانیه\")"
   ]
  },
  {
   "cell_type": "code",
   "execution_count": 13,
   "id": "02408c56",
   "metadata": {},
   "outputs": [
    {
     "data": {
      "text/plain": [
       "0.026204946522896688"
      ]
     },
     "execution_count": 13,
     "metadata": {},
     "output_type": "execute_result"
    }
   ],
   "source": [
    "cost = cp.sum_squares((A @ x_A_full  - A @ x_sparse  )/ cp.norm(A @ x_A_full))\n",
    "prob = cp.Problem(Minimize(cost))\n",
    "prob.solve()"
   ]
  },
  {
   "cell_type": "code",
   "execution_count": 37,
   "id": "bbc4e7ab",
   "metadata": {
    "collapsed": true
   },
   "outputs": [
    {
     "name": "stdout",
     "output_type": "stream",
     "text": [
      "===============================================================================\n",
      "                                     CVXPY                                     \n",
      "                                     v1.3.1                                    \n",
      "===============================================================================\n",
      "(CVXPY) Dec 20 08:56:46 PM: Your problem has 0 variables, 0 constraints, and 0 parameters.\n",
      "(CVXPY) Dec 20 08:56:46 PM: It is compliant with the following grammars: DCP, DGP, DQCP\n",
      "(CVXPY) Dec 20 08:56:46 PM: (If you need to solve this problem multiple times, but with different data, consider using parameters.)\n",
      "(CVXPY) Dec 20 08:56:46 PM: CVXPY will first compile your problem; then, it will invoke a numerical solver to obtain a solution.\n",
      "-------------------------------------------------------------------------------\n",
      "                                  Compilation                                  \n",
      "-------------------------------------------------------------------------------\n",
      "(CVXPY) Dec 20 08:56:46 PM: Compiling problem (target solver=CONSTANT_SOLVER).\n",
      "(CVXPY) Dec 20 08:56:46 PM: Reduction chain: ConstantSolver\n",
      "(CVXPY) Dec 20 08:56:46 PM: Applying reduction ConstantSolver\n",
      "(CVXPY) Dec 20 08:56:46 PM: Finished problem compilation (took 5.984e-03 seconds).\n",
      "-------------------------------------------------------------------------------\n",
      "                                Numerical solver                               \n",
      "-------------------------------------------------------------------------------\n",
      "(CVXPY) Dec 20 08:56:46 PM: Invoking solver CONSTANT_SOLVER  to obtain a solution.\n",
      "-------------------------------------------------------------------------------\n",
      "                                    Summary                                    \n",
      "-------------------------------------------------------------------------------\n",
      "(CVXPY) Dec 20 08:56:46 PM: Problem status: optimal\n",
      "(CVXPY) Dec 20 08:56:46 PM: Optimal value: 2.716e-02\n",
      "(CVXPY) Dec 20 08:56:46 PM: Compilation took 5.984e-03 seconds\n",
      "(CVXPY) Dec 20 08:56:46 PM: Solver (including time spent in interface) took 2.993e-03 seconds\n"
     ]
    }
   ],
   "source": [
    "cost = cp.sum_squares((d  - A @ x_sparse  )/ cp.norm(d))\n",
    "prob_2 = cp.Problem(Minimize(cost))\n",
    "sol= prob_2.solve(solver='MOSEK', verbose=True)"
   ]
  },
  {
   "cell_type": "code",
   "execution_count": 15,
   "id": "3663489b",
   "metadata": {},
   "outputs": [
    {
     "name": "stdout",
     "output_type": "stream",
     "text": [
      "x_A_full :\t [ 6.52999074e+00  1.88267108e-01 -2.44620163e-05 -2.47787551e-05\n",
      "  1.44560819e+01  7.47028212e+00]\n"
     ]
    },
    {
     "data": {
      "text/plain": [
       "0.16187941970150713"
      ]
     },
     "execution_count": 15,
     "metadata": {},
     "output_type": "execute_result"
    }
   ],
   "source": [
    "import cvxpy as cp\n",
    "\n",
    "x_A_full = sol_ls_A_full[0]\n",
    "print(f'x_A_full :\\t {x_A_full[0:6]}')\n",
    "\n",
    "cost = cp.norm(A @ x_A_full - A @ x_sparse, \"fro\")/ cp.norm(A @ x_A_full, \"fro\")\n",
    "\n",
    "prob = cp.Problem(cp.Minimize(cost))\n",
    " \n",
    "prob.solve()\n"
   ]
  },
  {
   "cell_type": "code",
   "execution_count": 16,
   "id": "9c2c04f8",
   "metadata": {},
   "outputs": [
    {
     "data": {
      "text/plain": [
       "88276.63467348814"
      ]
     },
     "execution_count": 16,
     "metadata": {},
     "output_type": "execute_result"
    }
   ],
   "source": [
    "x_sparse = sol_ls_A_Sparse[0]\n",
    "cost = sum_squares(A @ x_sparse -  d)\n",
    "prob_original = Problem(Minimize(cost))\n",
    "prob_original.solve()"
   ]
  },
  {
   "cell_type": "code",
   "execution_count": 17,
   "id": "a432369c",
   "metadata": {},
   "outputs": [
    {
     "name": "stdout",
     "output_type": "stream",
     "text": [
      "نرم خطای نسبی بین دو بردار: 0.15216846525413494\n"
     ]
    }
   ],
   "source": [
    "def calculate_relative_error(vector1, vector2):\n",
    "   \n",
    "    array1 = np.array(x_A_full)\n",
    "    array2 = np.array(x_sparse)\n",
    "\n",
    "    norm_vector2 = np.linalg.norm(x_A_full)\n",
    "\n",
    "    relative_error = np.linalg.norm(array1 - array2) / norm_vector2\n",
    "\n",
    "    return relative_error\n",
    "\n",
    "error = calculate_relative_error(x_A_full, x_sparse)\n",
    "print(f\"نرم خطای نسبی بین دو بردار: {error}\")\n"
   ]
  },
  {
   "cell_type": "code",
   "execution_count": 18,
   "id": "ab903a3b",
   "metadata": {},
   "outputs": [
    {
     "name": "stdout",
     "output_type": "stream",
     "text": [
      "Mean Squared Error : 1.4668034939017354\n"
     ]
    }
   ],
   "source": [
    "## تابع (هدف)خطای میانگین مربعات\n",
    "## MSE = Mean Squared Error\n",
    "\n",
    "\n",
    "d_true = d          # دوز واقعی\n",
    "d_pred = A @ x_sparse   # دوز پیش‌بینی شده\n",
    "\n",
    "MSE = np.mean((d_true - d_pred) ** 2)\n",
    "print(\"Mean Squared Error :\", MSE)\n",
    "\n"
   ]
  },
  {
   "cell_type": "code",
   "execution_count": 19,
   "id": "59854436",
   "metadata": {},
   "outputs": [
    {
     "name": "stdout",
     "output_type": "stream",
     "text": [
      "Mean Squared Error : 3.7347394046163362\n"
     ]
    }
   ],
   "source": [
    "## تابع (هدف)خطای میانگین مربعات\n",
    "## MSE = Mean Squared Error\n",
    "\n",
    "d_true = A @ x_A_full         # دوز واقعی\n",
    "d_pred = A @ x_sparse   # دوز پیش‌بینی شده\n",
    "\n",
    "MSE = np.mean((d_true - d_pred) ** 2)\n",
    "print(\"Mean Squared Error :\", MSE)\n"
   ]
  },
  {
   "cell_type": "code",
   "execution_count": 25,
   "id": "bfa79f36",
   "metadata": {},
   "outputs": [
    {
     "name": "stdout",
     "output_type": "stream",
     "text": [
      "نرم خطای مطلق بین دو بردار: 707.3579014333015\n"
     ]
    }
   ],
   "source": [
    "import numpy as np\n",
    "\n",
    "def calculate_absolute_error(vector1, vector2):\n",
    "    array1 = np.array(x_A_full)\n",
    "    array2 = np.array(x_sparse)\n",
    "\n",
    "    absolute_error = np.linalg.norm(array1 - array2, ord=1) \n",
    "\n",
    "    return absolute_error\n",
    "\n",
    "\n",
    "error = calculate_absolute_error(x_A_full, x_sparse)\n",
    "print(f\"نرم خطای مطلق بین دو بردار: {error}\")\n"
   ]
  },
  {
   "cell_type": "code",
   "execution_count": 26,
   "id": "04a7cb19",
   "metadata": {},
   "outputs": [
    {
     "name": "stdout",
     "output_type": "stream",
     "text": [
      "بردار بهینه x: None\n",
      "زمان کل اجرای نرم یک ماتریس پراکنده  \n",
      ": 0.10984921455383301 ثانیه\n"
     ]
    }
   ],
   "source": [
    "import numpy as np\n",
    "from scipy.optimize import linprog\n",
    "\n",
    "start_time = time.time()\n",
    "\n",
    "c = np.ones(A_sparse.shape[1])  # تابع هدف معمولاً یک بردار تمام یک‌ها است\n",
    "  \n",
    "result = linprog(c, A_eq=A_sparse, b_eq=dose_full_1d, bounds=(0, None))\n",
    " \n",
    "x_opt = result.x\n",
    "print(\"بردار بهینه x:\", x_opt)\n",
    "\n",
    "end_time = time.time()\n",
    "total_execution_time = end_time - start_time\n",
    "print(f\"زمان کل اجرای نرم یک ماتریس پراکنده  \\n: {total_execution_time} ثانیه\")"
   ]
  },
  {
   "cell_type": "code",
   "execution_count": 27,
   "id": "6936dda5",
   "metadata": {},
   "outputs": [
    {
     "name": "stdout",
     "output_type": "stream",
     "text": [
      "میزان حافظه sol_ls_JL_1 : 0.00011444091796875 مگابایت\n"
     ]
    }
   ],
   "source": [
    "memory_usage_sol_ls_sparse = sys.getsizeof(sol_ls_A_sparse )\n",
    "megabyte_size_sol_ls_sparse = memory_usage_sol_ls_sparse / 1024 / 1024\n",
    "\n",
    "print(f\"میزان حافظه sol_ls_JL_1 : {megabyte_size_sol_ls_sparse} مگابایت\")"
   ]
  },
  {
   "cell_type": "code",
   "execution_count": 28,
   "id": "aa87e72d",
   "metadata": {},
   "outputs": [
    {
     "name": "stdout",
     "output_type": "stream",
     "text": [
      "میزان حافظه ساخت JL_1 : 4.57763671875e-05 مگابایت\n"
     ]
    }
   ],
   "source": [
    "memory_usage_A_sparse = sys.getsizeof(S )\n",
    "megabyte_size_A_sparse= memory_usage_A_sparse / 1024 / 1024\n",
    "\n",
    "print(f\"میزان حافظه ساخت JL_1 : {megabyte_size_A_sparse} مگابایت\")"
   ]
  },
  {
   "cell_type": "code",
   "execution_count": 29,
   "id": "0a31c54c",
   "metadata": {},
   "outputs": [
    {
     "name": "stdout",
     "output_type": "stream",
     "text": [
      " رتبه ماتریس تقریب = 542\n"
     ]
    }
   ],
   "source": [
    "r1 = np.linalg.matrix_rank(S @ A_full ) \n",
    "#r2 = np.linalg.matrix_rank(A_full)      \n",
    "print( f' رتبه ماتریس تقریب = {r1}')"
   ]
  },
  {
   "cell_type": "code",
   "execution_count": 30,
   "id": "93c96f44",
   "metadata": {},
   "outputs": [
    {
     "name": "stdout",
     "output_type": "stream",
     "text": [
      "نرم خطای نسبی بین دو بردار: 0.15216846525413494\n"
     ]
    }
   ],
   "source": [
    "import numpy as np\n",
    "\n",
    "def calculate_relative_error(vector1, vector2):\n",
    "   \n",
    "    array1 = np.array(x_A_full)\n",
    "    array2 = np.array(x_sparse)\n",
    "\n",
    "    norm_vector2 = np.linalg.norm(x_A_full)\n",
    "\n",
    "    relative_error = np.linalg.norm(x_A_full - x_sparse) / norm_vector2\n",
    "\n",
    "    return relative_error\n",
    "\n",
    "error = calculate_relative_error(x_A_full, x_sparse)\n",
    "print(f\"نرم خطای نسبی بین دو بردار: {error}\")\n"
   ]
  },
  {
   "cell_type": "raw",
   "id": "ccf13025",
   "metadata": {},
   "source": [
    "# Get the threshold value used by PortPy to truncate the matrix    \n",
    "# sparse tol is 1% of the maximum of influence matrix of planner beams\n",
    "\n",
    "\n",
    "# The sparse and full matrices are both pre-calculated and included in PorPy data.\n",
    "#   The sparse matrix; however, was obtained by simply zeroing out the small elements in the full matrix that were\n",
    "#   less than a threshold specified in \"my_plan.inf_matrix.sparse_tol\". Here, we manually generate the sparse\n",
    "#   matrix from the full matrix using this threshold to clarify the process\n",
    "\n",
    "#  Get A_sparse and A_full\n",
    "A_full = plan_full.inf_matrix.A\n",
    "A_sparse = plan_sparse.inf_matrix.A\n",
    "\n",
    "# Get the threshold value used by PortPy to truncate the matrix\n",
    "# sparse tol is 1% of the maximum of influence matrix of planner beams\n",
    "sparse_tol = plan_sparse.inf_matrix.sparse_tol\n",
    "# sparse_tol = 0.01*np.amax(A_full)\n",
    "\n",
    "# Truncate the full matrix\n",
    "A_full[A_full <= sparse_tol] = 0\n",
    "test = np.abs(A_full - A_sparse.todense()) <= 1e-3\n",
    "\n",
    "# Check if both influence matrices agree\n",
    "assert test.all()"
   ]
  }
 ],
 "metadata": {
  "kernelspec": {
   "display_name": "Python 3 (ipykernel)",
   "language": "python",
   "name": "python3"
  },
  "language_info": {
   "codemirror_mode": {
    "name": "ipython",
    "version": 3
   },
   "file_extension": ".py",
   "mimetype": "text/x-python",
   "name": "python",
   "nbconvert_exporter": "python",
   "pygments_lexer": "ipython3",
   "version": "3.10.9"
  }
 },
 "nbformat": 4,
 "nbformat_minor": 5
}
