{
 "cells": [
  {
   "cell_type": "code",
   "execution_count": 1,
   "id": "c21bb2c6",
   "metadata": {},
   "outputs": [],
   "source": [
    "import scipy\n",
    "import random\n",
    "import portpy.photon as pp\n",
    "import numpy as np\n",
    "from cvxpy import *\n",
    "from scipy import sparse\n",
    "import sklearn.metrics\n",
    "import time\n",
    "import sys\n",
    "import cvxpy as cp"
   ]
  },
  {
   "cell_type": "code",
   "execution_count": 2,
   "id": "86675c4d",
   "metadata": {},
   "outputs": [
    {
     "name": "stdout",
     "output_type": "stream",
     "text": [
      "creating rinds.. This step may take some time due to dilation\n",
      "rinds created!!\n",
      "Creating BEV..\n",
      "Loading sparse influence matrix...\n",
      "Done\n",
      "Objective Start\n",
      "Objective done\n",
      "Constraints Start\n",
      "Structure ESOPHAGUS not available!\n",
      "Structure ESOPHAGUS not available!\n",
      "Constraints done\n",
      "===============================================================================\n",
      "                                     CVXPY                                     \n",
      "                                     v1.3.1                                    \n",
      "===============================================================================\n",
      "(CVXPY) Oct 27 04:13:06 PM: Your problem has 1946 variables, 14 constraints, and 0 parameters.\n",
      "(CVXPY) Oct 27 04:13:06 PM: It is compliant with the following grammars: DCP, DQCP\n",
      "(CVXPY) Oct 27 04:13:06 PM: (If you need to solve this problem multiple times, but with different data, consider using parameters.)\n",
      "(CVXPY) Oct 27 04:13:06 PM: CVXPY will first compile your problem; then, it will invoke a numerical solver to obtain a solution.\n",
      "-------------------------------------------------------------------------------\n",
      "                                  Compilation                                  \n",
      "-------------------------------------------------------------------------------\n",
      "(CVXPY) Oct 27 04:13:06 PM: Compiling problem (target solver=MOSEK).\n",
      "(CVXPY) Oct 27 04:13:06 PM: Reduction chain: Dcp2Cone -> CvxAttr2Constr -> ConeMatrixStuffing -> MOSEK\n",
      "(CVXPY) Oct 27 04:13:06 PM: Applying reduction Dcp2Cone\n",
      "(CVXPY) Oct 27 04:13:06 PM: Applying reduction CvxAttr2Constr\n",
      "(CVXPY) Oct 27 04:13:06 PM: Applying reduction ConeMatrixStuffing\n",
      "(CVXPY) Oct 27 04:13:08 PM: Applying reduction MOSEK\n",
      "(CVXPY) Oct 27 04:13:10 PM: Finished problem compilation (took 3.824e+00 seconds).\n",
      "-------------------------------------------------------------------------------\n",
      "                                Numerical solver                               \n",
      "-------------------------------------------------------------------------------\n",
      "(CVXPY) Oct 27 04:13:10 PM: Invoking solver MOSEK  to obtain a solution.\n",
      "\n",
      "\n",
      "(CVXPY) Oct 27 04:13:12 PM: Problem\n",
      "(CVXPY) Oct 27 04:13:12 PM:   Name                   :                 \n",
      "(CVXPY) Oct 27 04:13:12 PM:   Objective sense        : maximize        \n",
      "(CVXPY) Oct 27 04:13:12 PM:   Type                   : CONIC (conic optimization problem)\n",
      "(CVXPY) Oct 27 04:13:12 PM:   Constraints            : 1959            \n",
      "(CVXPY) Oct 27 04:13:12 PM:   Affine conic cons.     : 0               \n",
      "(CVXPY) Oct 27 04:13:12 PM:   Disjunctive cons.      : 0               \n",
      "(CVXPY) Oct 27 04:13:12 PM:   Cones                  : 13              \n",
      "(CVXPY) Oct 27 04:13:12 PM:   Scalar variables       : 215748          \n",
      "(CVXPY) Oct 27 04:13:12 PM:   Matrix variables       : 0               \n",
      "(CVXPY) Oct 27 04:13:12 PM:   Integer variables      : 0               \n",
      "(CVXPY) Oct 27 04:13:12 PM: \n",
      "(CVXPY) Oct 27 04:13:12 PM: Optimizer started.\n",
      "(CVXPY) Oct 27 04:13:12 PM: Presolve started.\n",
      "(CVXPY) Oct 27 04:13:12 PM: Linear dependency checker started.\n",
      "(CVXPY) Oct 27 04:13:13 PM: Linear dependency checker terminated.\n",
      "(CVXPY) Oct 27 04:13:13 PM: Eliminator started.\n",
      "(CVXPY) Oct 27 04:13:13 PM: Freed constraints in eliminator : 0\n",
      "(CVXPY) Oct 27 04:13:13 PM: Eliminator terminated.\n",
      "(CVXPY) Oct 27 04:13:13 PM: Eliminator - tries                  : 1                 time                   : 0.00            \n",
      "(CVXPY) Oct 27 04:13:13 PM: Lin. dep.  - tries                  : 1                 time                   : 0.05            \n",
      "(CVXPY) Oct 27 04:13:13 PM: Lin. dep.  - number                 : 0               \n",
      "(CVXPY) Oct 27 04:13:13 PM: Presolve terminated. Time: 0.75    \n",
      "(CVXPY) Oct 27 04:13:14 PM: Problem\n",
      "(CVXPY) Oct 27 04:13:14 PM:   Name                   :                 \n",
      "(CVXPY) Oct 27 04:13:14 PM:   Objective sense        : maximize        \n",
      "(CVXPY) Oct 27 04:13:14 PM:   Type                   : CONIC (conic optimization problem)\n",
      "(CVXPY) Oct 27 04:13:14 PM:   Constraints            : 1959            \n",
      "(CVXPY) Oct 27 04:13:14 PM:   Affine conic cons.     : 0               \n",
      "(CVXPY) Oct 27 04:13:14 PM:   Disjunctive cons.      : 0               \n",
      "(CVXPY) Oct 27 04:13:14 PM:   Cones                  : 13              \n",
      "(CVXPY) Oct 27 04:13:14 PM:   Scalar variables       : 215748          \n",
      "(CVXPY) Oct 27 04:13:14 PM:   Matrix variables       : 0               \n",
      "(CVXPY) Oct 27 04:13:14 PM:   Integer variables      : 0               \n",
      "(CVXPY) Oct 27 04:13:14 PM: \n",
      "(CVXPY) Oct 27 04:13:14 PM: Optimizer  - threads                : 2               \n",
      "(CVXPY) Oct 27 04:13:14 PM: Optimizer  - solved problem         : the primal      \n",
      "(CVXPY) Oct 27 04:13:14 PM: Optimizer  - Constraints            : 1959\n",
      "(CVXPY) Oct 27 04:13:14 PM: Optimizer  - Cones                  : 13\n",
      "(CVXPY) Oct 27 04:13:14 PM: Optimizer  - Scalar variables       : 80782             conic                  : 50518           \n",
      "(CVXPY) Oct 27 04:13:14 PM: Optimizer  - Semi-definite variables: 0                 scalarized             : 0               \n",
      "(CVXPY) Oct 27 04:13:14 PM: Factor     - setup time             : 0.69              dense det. time        : 0.00            \n",
      "(CVXPY) Oct 27 04:13:14 PM: Factor     - ML order time          : 0.27              GP order time          : 0.00            \n",
      "(CVXPY) Oct 27 04:13:14 PM: Factor     - nonzeros before factor : 2.46e+05          after factor           : 2.47e+05        \n",
      "(CVXPY) Oct 27 04:13:14 PM: Factor     - dense dim.             : 4                 flops                  : 8.22e+07        \n",
      "(CVXPY) Oct 27 04:13:14 PM: ITE PFEAS    DFEAS    GFEAS    PRSTATUS   POBJ              DOBJ              MU       TIME  \n",
      "(CVXPY) Oct 27 04:13:14 PM: 0   1.4e+02  4.6e+02  1.4e+01  0.00e+00   -1.300000000e+01  0.000000000e+00   1.0e+00  1.92  \n",
      "(CVXPY) Oct 27 04:13:14 PM: 1   1.2e+02  4.1e+02  1.3e+01  -9.86e-01  4.131473144e+03   4.144316302e+03   8.8e-01  2.30  \n",
      "(CVXPY) Oct 27 04:13:14 PM: 2   6.8e+01  2.2e+02  9.5e+00  -9.79e-01  3.094326949e+04   3.095500114e+04   4.8e-01  2.45  \n",
      "(CVXPY) Oct 27 04:13:14 PM: 3   3.7e+01  1.2e+02  6.7e+00  -9.13e-01  2.557584936e+04   2.558558020e+04   2.6e-01  2.58  \n",
      "(CVXPY) Oct 27 04:13:14 PM: 4   1.4e+01  4.5e+01  3.3e+00  -7.64e-01  1.640479432e+04   1.640934897e+04   9.8e-02  2.73  \n",
      "(CVXPY) Oct 27 04:13:15 PM: 5   5.6e+00  1.8e+01  1.3e+00  -3.34e-01  1.093889194e+04   1.093978543e+04   4.0e-02  2.88  \n",
      "(CVXPY) Oct 27 04:13:15 PM: 6   2.3e+00  7.5e+00  4.3e-01  1.75e-01   6.846000428e+03   6.845975883e+03   1.6e-02  3.05  \n",
      "(CVXPY) Oct 27 04:13:15 PM: 7   8.9e-01  2.9e+00  1.1e-01  5.88e-01   3.360682466e+03   3.360609709e+03   6.3e-03  3.22  \n",
      "(CVXPY) Oct 27 04:13:15 PM: 8   3.5e-01  1.2e+00  3.0e-02  8.33e-01   1.471831416e+03   1.471769013e+03   2.5e-03  3.38  \n",
      "(CVXPY) Oct 27 04:13:15 PM: 9   1.3e-01  4.4e-01  7.2e-03  9.37e-01   5.963000267e+02   5.962595743e+02   9.5e-04  3.55  \n",
      "(CVXPY) Oct 27 04:13:15 PM: 10  5.4e-02  1.8e-01  1.9e-03  9.80e-01   2.794354503e+02   2.794136331e+02   3.8e-04  3.69  \n",
      "(CVXPY) Oct 27 04:13:16 PM: 11  1.9e-02  6.3e-02  4.1e-04  9.94e-01   1.242764277e+02   1.242668016e+02   1.4e-04  3.84  \n",
      "(CVXPY) Oct 27 04:13:16 PM: 12  7.8e-03  2.5e-02  1.1e-04  1.00e+00   7.813161372e+01   7.812729158e+01   5.5e-05  3.95  \n",
      "(CVXPY) Oct 27 04:13:16 PM: 13  2.8e-03  9.1e-03  2.3e-05  1.00e+00   5.422719759e+01   5.422550144e+01   2.0e-05  4.09  \n",
      "(CVXPY) Oct 27 04:13:16 PM: 14  1.3e-03  4.1e-03  7.1e-06  1.00e+00   4.690658089e+01   4.690577191e+01   8.9e-06  4.20  \n",
      "(CVXPY) Oct 27 04:13:16 PM: 15  4.3e-04  1.4e-03  1.4e-06  9.99e-01   4.377742727e+01   4.377714147e+01   3.0e-06  4.33  \n",
      "(CVXPY) Oct 27 04:13:16 PM: 16  1.4e-04  4.7e-04  2.8e-07  9.99e-01   4.262818861e+01   4.262808998e+01   1.0e-06  4.44  \n",
      "(CVXPY) Oct 27 04:13:16 PM: 17  6.3e-05  2.1e-04  8.1e-08  9.99e-01   4.229317671e+01   4.229313228e+01   4.5e-07  4.56  \n",
      "(CVXPY) Oct 27 04:13:16 PM: 18  1.6e-05  5.2e-05  1.0e-08  1.00e+00   4.210759535e+01   4.210758419e+01   1.1e-07  4.67  \n",
      "(CVXPY) Oct 27 04:13:17 PM: 19  2.3e-06  7.4e-06  5.5e-10  1.00e+00   4.205327967e+01   4.205327802e+01   1.6e-08  4.80  \n",
      "(CVXPY) Oct 27 04:13:17 PM: 20  8.8e-07  2.9e-06  1.3e-10  9.99e-01   4.204837457e+01   4.204837392e+01   6.2e-09  4.92  \n"
     ]
    },
    {
     "name": "stdout",
     "output_type": "stream",
     "text": [
      "(CVXPY) Oct 27 04:13:17 PM: 21  3.3e-07  1.1e-06  3.1e-11  1.00e+00   4.204653231e+01   4.204653206e+01   2.3e-09  5.05  \n",
      "(CVXPY) Oct 27 04:13:17 PM: 22  9.5e-08  3.1e-07  4.8e-12  9.56e-01   4.204568395e+01   4.204568387e+01   6.6e-10  5.19  \n",
      "(CVXPY) Oct 27 04:13:17 PM: 23  7.2e-08  7.8e-08  6.2e-13  1.01e+00   4.204544808e+01   4.204544806e+01   1.7e-10  5.31  \n",
      "(CVXPY) Oct 27 04:13:17 PM: Optimizer terminated. Time: 5.48    \n",
      "(CVXPY) Oct 27 04:13:17 PM: \n",
      "(CVXPY) Oct 27 04:13:17 PM: \n",
      "(CVXPY) Oct 27 04:13:17 PM: Interior-point solution summary\n",
      "(CVXPY) Oct 27 04:13:17 PM:   Problem status  : PRIMAL_AND_DUAL_FEASIBLE\n",
      "(CVXPY) Oct 27 04:13:17 PM:   Solution status : OPTIMAL\n",
      "(CVXPY) Oct 27 04:13:17 PM:   Primal.  obj: 4.2045448085e+01    nrm: 1e+02    Viol.  con: 6e-06    var: 2e-06    cones: 0e+00  \n",
      "(CVXPY) Oct 27 04:13:17 PM:   Dual.    obj: 4.2045448063e+01    nrm: 6e+03    Viol.  con: 0e+00    var: 8e-07    cones: 0e+00  \n",
      "-------------------------------------------------------------------------------\n",
      "                                    Summary                                    \n",
      "-------------------------------------------------------------------------------\n",
      "(CVXPY) Oct 27 04:13:18 PM: Problem status: optimal\n",
      "(CVXPY) Oct 27 04:13:18 PM: Optimal value: 4.205e+01\n",
      "(CVXPY) Oct 27 04:13:18 PM: Compilation took 3.824e+00 seconds\n",
      "(CVXPY) Oct 27 04:13:18 PM: Solver (including time spent in interface) took 7.655e+00 seconds\n"
     ]
    }
   ],
   "source": [
    "data_dir = r'../data'\n",
    "data = pp.DataExplorer(data_dir=data_dir)\n",
    "patient_id = 'Lung_Phantom_Patient_1'\n",
    "data.patient_id = patient_id\n",
    "ct = pp.CT(data)\n",
    "structs = pp.Structures(data)\n",
    "beams = pp.Beams(data)\n",
    "opt_params = data.load_config_opt_params(protocol_name='Lung_2Gy_30Fx')\n",
    "structs.create_opt_structures(opt_params)\n",
    "inf_matrix_sparse = pp.InfluenceMatrix(ct=ct, structs=structs, beams=beams)\n",
    "protocol_name = 'Lung_2Gy_30Fx'\n",
    "clinical_criteria = pp.ClinicalCriteria(data, protocol_name)\n",
    "plan_sparse = pp.Plan(ct, structs, beams, inf_matrix_sparse, clinical_criteria)\n",
    "opt = pp.Optimization(plan_sparse, opt_params=opt_params)\n",
    "opt.create_cvxpy_problem()\n",
    "\n",
    "sol_sparse = opt.solve(solver='MOSEK', verbose=True)\n",
    "\n",
    "dose_sparse_1d = plan_sparse.inf_matrix.A @ (sol_sparse['optimal_intensity'] * plan_sparse.get_num_of_fractions())\n",
    "x_sparse =sol_sparse['optimal_intensity'] * plan_sparse.get_num_of_fractions()\n"
   ]
  },
  {
   "cell_type": "code",
   "execution_count": 30,
   "id": "c169f8da",
   "metadata": {},
   "outputs": [
    {
     "name": "stdout",
     "output_type": "stream",
     "text": [
      "زمان ساخت ماتریس پراکنده\n",
      ": 0.003991365432739258 ثانیه\n"
     ]
    }
   ],
   "source": [
    "start_time = time.time()\n",
    "\n",
    "#sol_sparse = opt.solve(solver='MOSEK', verbose=True)\n",
    "dose_sparse_1d = plan_sparse.inf_matrix.A @ (sol_sparse['optimal_intensity'] * plan_sparse.get_num_of_fractions())\n",
    "plan_sparse = pp.Plan(ct, structs, beams, inf_matrix_sparse, clinical_criteria)\n",
    "A_sparse = plan_sparse.inf_matrix.A\n",
    "\n",
    "end_time = time.time()\n",
    "total_execution_time = end_time - start_time\n",
    "print(f\"زمان ساخت ماتریس پراکنده\\n: {total_execution_time} ثانیه\")\n",
    "\n"
   ]
  },
  {
   "cell_type": "code",
   "execution_count": 11,
   "id": "666b5764",
   "metadata": {},
   "outputs": [
    {
     "name": "stdout",
     "output_type": "stream",
     "text": [
      "رتبه ماتریس: 541\n",
      "زمان کل اجرا: 6.558530807495117 ثانیه\n"
     ]
    }
   ],
   "source": [
    "start_time = time.time()\n",
    "\n",
    "[U,S,V]=scipy.sparse.linalg.svds(A_sparse,k=541)\n",
    "\n",
    "rank = len([s for s in S if s > 1e-12])       #بدون تجزیه، چطور رتبه رو بدونم؟\n",
    "print(\"رتبه ماتریس:\", rank)\n",
    "\n",
    "\n",
    "end_time = time.time()\n",
    "total_execution_time = end_time - start_time\n",
    "print(f\"زمان کل اجرا: {total_execution_time} ثانیه\")"
   ]
  },
  {
   "cell_type": "code",
   "execution_count": 15,
   "id": "1e8c71b7",
   "metadata": {},
   "outputs": [
    {
     "data": {
      "text/plain": [
       "1"
      ]
     },
     "execution_count": 15,
     "metadata": {},
     "output_type": "execute_result"
    }
   ],
   "source": [
    "r = np.linalg.matrix_rank(A_sparse)       ##چرا رتبه یک شده؟\n",
    "r"
   ]
  },
  {
   "cell_type": "markdown",
   "id": "0a726cda",
   "metadata": {},
   "source": [
    "from scipy.linalg import matrix_rank\n",
    "rank = matrix_rank(A_sparse.toarray())\n",
    "print(\"رتبه ماتریس:\", rank)"
   ]
  },
  {
   "cell_type": "code",
   "execution_count": 27,
   "id": "ad203e13",
   "metadata": {},
   "outputs": [
    {
     "name": "stdout",
     "output_type": "stream",
     "text": [
      "زمان کل اجرای کمترین مربعات ماتریس پراکنده\n",
      ": 0.2670164108276367 ثانیه\n"
     ]
    }
   ],
   "source": [
    "start_time = time.time()\n",
    "\n",
    "sol_ls_A_sparse = scipy.sparse.linalg.lsqr(A_sparse, dose_sparse_1d)\n",
    "\n",
    "end_time = time.time()\n",
    "total_execution_time = end_time - start_time\n",
    "print(f\"زمان کل اجرای کمترین مربعات ماتریس پراکنده\\n: {total_execution_time} ثانیه\")\n"
   ]
  },
  {
   "cell_type": "code",
   "execution_count": 20,
   "id": "8c5fda09",
   "metadata": {},
   "outputs": [
    {
     "name": "stdout",
     "output_type": "stream",
     "text": [
      "میزان حافظه A_full : 124.43244171142578 مگابایت\n",
      "میزان حافظه A_sparse : 4.57763671875e-05 مگابایت\n"
     ]
    }
   ],
   "source": [
    "\n",
    "memory_usage_A_full = sys.getsizeof(A_full )\n",
    "megabyte_size_A_full = memory_usage_A_full / 1024 / 1024\n",
    "\n",
    "print(f\"میزان حافظه A_full : {megabyte_size_A_full} مگابایت\")\n",
    "\n",
    "memory_usage_A_sparse = sys.getsizeof(A_sparse )\n",
    "megabyte_size_A_sparse = memory_usage_A_sparse / 1024 / 1024\n",
    "\n",
    "print(f\"میزان حافظه A_sparse : {megabyte_size_A_sparse} مگابایت\")"
   ]
  },
  {
   "cell_type": "code",
   "execution_count": 5,
   "id": "37db57ab",
   "metadata": {},
   "outputs": [
    {
     "name": "stdout",
     "output_type": "stream",
     "text": [
      "dose shape : (60183,)\n",
      "A_sparse shape : (60183, 542)\n"
     ]
    }
   ],
   "source": [
    "print(f'dose shape : {dose_sparse_1d.shape}')\n",
    "print(f'A_sparse shape : {A_sparse.shape}')\n",
    "#print(f'A_full shape : {A_full.shape}')"
   ]
  },
  {
   "cell_type": "code",
   "execution_count": 24,
   "id": "38a7f29f",
   "metadata": {},
   "outputs": [
    {
     "name": "stdout",
     "output_type": "stream",
     "text": [
      " sol_ls_A_sparse میزان حافظه :\n",
      " 0.00011444091796875 مگابایت\n"
     ]
    }
   ],
   "source": [
    "\n",
    "memory_usage_sol_ls_A_sparse = sys.getsizeof(sol_ls_A_sparse )\n",
    "megabyte_size_sol_ls_A_sparse = memory_usage_sol_ls_A_sparse / 1024 / 1024\n",
    "\n",
    "print(f\" sol_ls_A_sparse میزان حافظه :\\n {megabyte_size_sol_ls_A_sparse} مگابایت\")\n"
   ]
  },
  {
   "cell_type": "markdown",
   "id": "dd92bfbd",
   "metadata": {},
   "source": [
    "### تحلیل خروجی های مسئله ی کمترین مربعات خطی"
   ]
  },
  {
   "cell_type": "code",
   "execution_count": 25,
   "id": "4771f8f7",
   "metadata": {},
   "outputs": [
    {
     "name": "stdout",
     "output_type": "stream",
     "text": [
      "x_star :\t [ 6.52999050e+00  1.88266842e-01 -2.47236293e-05 -2.50110712e-05]\n",
      "number_algorithm_execution_steps :\t 39\n",
      "Rightـhandـsideـvectorـnormـd :\t 0.013811075528736654\n",
      "L2 norm of residuals :\t0.013811075528736654\n",
      "sum_of_square1 :\t 60.77704428103041\n",
      "sum_of_square2 :\t 82.64578136918476\n",
      "Zeroـvector :\t [0. 0. 0. 0. 0. 0. 0. 0. 0. 0. 0. 0. 0. 0. 0. 0. 0. 0. 0. 0. 0. 0. 0. 0.]\n",
      "Returnـcode :\t 1\n"
     ]
    }
   ],
   "source": [
    "# جواب بهینه\n",
    "x_star = sol_ls_A_sparse[0]\n",
    "print(f'x_star :\\t {x_star[0:4]}')\n",
    "\n",
    "#  تعداد مراحل اجرای الگوریتم\n",
    "number_algorithm_execution_steps = sol_ls_A_sparse[2]\n",
    "print(f'number_algorithm_execution_steps :\\t {number_algorithm_execution_steps}')\n",
    "\n",
    "#  نرم بردار سمت راست d\n",
    "Rightـhandـsideـvectorـnormـd = sol_ls_A_sparse[3]\n",
    "print(f'Rightـhandـsideـvectorـnormـd :\\t {Rightـhandـsideـvectorـnormـd}')\n",
    "\n",
    "#شاخص برای ارزیابی خروجی الگوریتم کمترین مربعات است\tهرچقدر این نرم کوچکتر باشد نشانه بهتر بودن جواب بهینه است\n",
    "\n",
    "\n",
    "#نرم ضرب داخلی ماتریس در جواب\n",
    "l2_res = sol_ls_A_sparse[4]\n",
    "print(f'L2 norm of residuals :\\t{l2_res}')\n",
    "\n",
    "#   مجموع مربعات خطای سیستم \n",
    "sum_of_square1 = sol_ls_A_sparse[5]\n",
    "print(f'sum_of_square1 :\\t {sum_of_square1}')\n",
    "\n",
    "#   مجموع مربعات خطای ماتریس معکوس\n",
    "sum_of_square2 = sol_ls_A_sparse[6]\n",
    "print(f'sum_of_square2 :\\t {sum_of_square2}')\n",
    "\n",
    "# بردار صفر              ?????????????\n",
    "Zeroـvector = sol_ls_A_sparse[9]\n",
    "print(f'Zeroـvector :\\t {Zeroـvector[0:24]}')\n",
    "\n",
    "# کد بازگشتی \n",
    "Returnـcode = sol_ls_A_sparse[1]\n",
    "print(f'Returnـcode :\\t {Returnـcode}')"
   ]
  },
  {
   "cell_type": "markdown",
   "id": "b63e1ab3",
   "metadata": {},
   "source": [
    "####   کد بازگشتی=۱، نشان دهنده ی  موفقیت آمیز نبودن الگوریتم است. یعنی الگوریتم نتوانسته در تعداد مراحل مجاز مسئله را حل کند\n",
    "####   لذا از این الگوریتم زیر به جای قبلی استفاده می شود"
   ]
  },
  {
   "cell_type": "code",
   "execution_count": 26,
   "id": "2210b295",
   "metadata": {},
   "outputs": [
    {
     "name": "stdout",
     "output_type": "stream",
     "text": [
      "Converged after 62 iterations.\n",
      "Residual norm : 0.000016\n",
      "Returnـcode : ???\t1\n"
     ]
    }
   ],
   "source": [
    "import numpy as np\n",
    "from scipy.sparse import csc_matrix\n",
    "from scipy.sparse.linalg import lsmr\n",
    "\n",
    "A = csc_matrix(A_sparse) \n",
    "\n",
    "# پارامترهای الگوریتم\n",
    "tol = 1e-9\n",
    "maxiter = 1000\n",
    "\n",
    "# حل مسئله با LSMR\n",
    "Sol_Lsmr= lsmr(A, dose_sparse_1d, damp=0.0, atol=tol, btol=tol, maxiter=maxiter)\n",
    "   \n",
    "print(\"Converged after %d iterations.\" % Sol_Lsmr[2])\n",
    "print(\"Residual norm : %f\" % Sol_Lsmr[3])\n",
    "#print(f\"Solution vector:\\t {Sol_Lsmr[0]} \")\n",
    "print(f'Returnـcode : ???\\t{Sol_Lsmr[1]}')\n"
   ]
  },
  {
   "cell_type": "code",
   "execution_count": 5,
   "id": "c5afc17a",
   "metadata": {},
   "outputs": [
    {
     "name": "stdout",
     "output_type": "stream",
     "text": [
      "Creating BEV..\n",
      "Loading full influence matrix..\n",
      "Done\n"
     ]
    }
   ],
   "source": [
    "beams = pp.Beams(data)\n",
    "beams_full = pp.Beams(data, load_inf_matrix_full=True)\n",
    "inf_matrix_full = pp.InfluenceMatrix(ct=ct, structs=structs, beams=beams_full, is_full=True)\n",
    "plan_full = pp.Plan(ct, structs, beams, inf_matrix_full, clinical_criteria)\n",
    "A_full = plan_full.inf_matrix.A"
   ]
  },
  {
   "cell_type": "code",
   "execution_count": 29,
   "id": "b5a1cbd5",
   "metadata": {},
   "outputs": [
    {
     "name": "stdout",
     "output_type": "stream",
     "text": [
      "زمان کل اجرای کمترین مربعات ماتریس کامل\n",
      ": 12.808384418487549 ثانیه\n"
     ]
    }
   ],
   "source": [
    "start_time = time.time()\n",
    "\n",
    "sol_ls_A_full = scipy.sparse.linalg.lsqr(A_full, dose_sparse_1d)\n",
    "\n",
    "end_time = time.time()\n",
    "total_execution_time = end_time - start_time\n",
    "print(f\"زمان کل اجرای کمترین مربعات ماتریس کامل\\n: {total_execution_time} ثانیه\")\n",
    "\n"
   ]
  },
  {
   "cell_type": "code",
   "execution_count": 32,
   "id": "e51d06d1",
   "metadata": {},
   "outputs": [
    {
     "name": "stdout",
     "output_type": "stream",
     "text": [
      " میزان حافظه حل کمترین مربعات ماتریس کامل :\n",
      " 0.00011444091796875 مگابایت\n"
     ]
    }
   ],
   "source": [
    "\n",
    "memory_usage_sol_ls_A_full = sys.getsizeof(sol_ls_A_full )\n",
    "megabyte_size_sol_ls_A_full= memory_usage_sol_ls_A_full / 1024 / 1024\n",
    "\n",
    "print(f\" میزان حافظه حل کمترین مربعات ماتریس کامل :\\n {megabyte_size_sol_ls_A_full} مگابایت\")\n"
   ]
  },
  {
   "cell_type": "code",
   "execution_count": 105,
   "id": "df157e30",
   "metadata": {},
   "outputs": [
    {
     "name": "stdout",
     "output_type": "stream",
     "text": [
      "x_star :\t [-2.54878706 -2.03016544 -1.92035387 -2.45389775]\n",
      "number_algorithm_execution_steps :\t 42\n",
      "Rightـhandـsideـvectorـnormـd :\t 267.8564459470595\n",
      "L2 norm of residuals :\t 267.8564459470595\n",
      "sum_of_square1 :\t 68.28164415912218\n",
      "sum_of_square2 :\t 89.6008917445037\n",
      "Zeroـvector :\t[0. 0. 0. 0. 0. 0. 0. 0. 0. 0. 0. 0. 0. 0. 0. 0. 0. 0. 0. 0. 0. 0. 0. 0.]\n",
      "Returnـcode :\t2\n"
     ]
    }
   ],
   "source": [
    "# جواب بهینه\n",
    "x_star = sol_ls_A_full[0]\n",
    "print(f'x_star :\\t {x_star[0:4]}')\n",
    "   \n",
    "#  تعداد مراحل اجرای الگوریتم\n",
    "number_algorithm_execution_steps = sol_ls_A_full[2]\n",
    "print(f'number_algorithm_execution_steps :\\t {number_algorithm_execution_steps}')\n",
    "\n",
    "#  نرم بردار سمت راست d\n",
    "Rightـhandـsideـvectorـnormـd = sol_ls_A_full[3]\n",
    "print(f'Rightـhandـsideـvectorـnormـd :\\t {Rightـhandـsideـvectorـnormـd}')\n",
    "\n",
    "#شاخص برای ارزیابی خروجی الگوریتم کمترین مربعات است\tهرچقدر این نرم کوچکتر باشد نشانه بهتر بودن جواب بهینه است\n",
    "\n",
    "\n",
    "#نرم ضرب داخلی ماتریس در جواب\n",
    "l2_res = sol_ls_A_full[4]\n",
    "print(f'L2 norm of residuals :\\t {l2_res}')\n",
    "\n",
    "#   مجموع مربعات خطای سیستم \n",
    "sum_of_square1 = sol_ls_A_full[5]\n",
    "print(f'sum_of_square1 :\\t {sum_of_square1}')\n",
    "\n",
    "#   مجموع مربعات خطای ماتریس معکوس\n",
    "sum_of_square2 = sol_ls_A_full[6]\n",
    "print(f'sum_of_square2 :\\t {sum_of_square2}')\n",
    "\n",
    "# بردار صفر              ?????????????\n",
    "Zeroـvector = sol_ls_A_full[9]\n",
    "print(f'Zeroـvector :\\t{Zeroـvector[0:24]}')\n",
    "\n",
    "# کد بازگشتی \n",
    "Returnـcode = sol_ls_A_full[1]\n",
    "print(f'Returnـcode :\\t{Returnـcode}')"
   ]
  },
  {
   "cell_type": "code",
   "execution_count": 33,
   "id": "964e3de6",
   "metadata": {},
   "outputs": [
    {
     "name": "stdout",
     "output_type": "stream",
     "text": [
      "ابعاد ماتریس کامل : 2\n",
      "تعداد مقادیر غیر صفر ماتریس کامل:  10279072\n",
      "تعداد مقادیر غیر صفر ماتریس پراکنده:  335573\n"
     ]
    }
   ],
   "source": [
    "#Number of non-zero entries, equivalent to\n",
    "print(f'ابعاد ماتریس کامل : {A_full.ndim}')\n",
    "nonzero_count = np.count_nonzero(A_full)\n",
    "print(\"تعداد مقادیر غیر صفر ماتریس کامل: \", nonzero_count)\n",
    "print(\"تعداد مقادیر غیر صفر ماتریس پراکنده: \", A_sparse.getnnz())"
   ]
  },
  {
   "cell_type": "code",
   "execution_count": 34,
   "id": "dada2d96",
   "metadata": {},
   "outputs": [
    {
     "data": {
      "text/plain": [
       "True"
      ]
     },
     "execution_count": 34,
     "metadata": {},
     "output_type": "execute_result"
    }
   ],
   "source": [
    "## بررسی  پراکندگی ماتریس\n",
    "\n",
    "is_sparse = sparse.issparse(A_sparse)\n",
    "is_sparse"
   ]
  },
  {
   "cell_type": "code",
   "execution_count": 35,
   "id": "20f93699",
   "metadata": {},
   "outputs": [
    {
     "data": {
      "text/plain": [
       "False"
      ]
     },
     "execution_count": 35,
     "metadata": {},
     "output_type": "execute_result"
    }
   ],
   "source": [
    "## بررسی پراکندگی  ماتریس\n",
    "\n",
    "is_sparse = sparse.issparse(A_full)\n",
    "is_sparse"
   ]
  },
  {
   "cell_type": "code",
   "execution_count": 36,
   "id": "3cb62a94",
   "metadata": {},
   "outputs": [
    {
     "data": {
      "text/plain": [
       "'csr'"
      ]
     },
     "execution_count": 36,
     "metadata": {},
     "output_type": "execute_result"
    }
   ],
   "source": [
    "A_sparse.format"
   ]
  },
  {
   "cell_type": "code",
   "execution_count": 37,
   "id": "bd8bed3a",
   "metadata": {},
   "outputs": [
    {
     "data": {
      "text/plain": [
       "<bound method spmatrix.getmaxprint of <60183x542 sparse matrix of type '<class 'numpy.float32'>'\n",
       "\twith 335573 stored elements in Compressed Sparse Row format>>"
      ]
     },
     "execution_count": 37,
     "metadata": {},
     "output_type": "execute_result"
    }
   ],
   "source": [
    "A_sparse.getmaxprint         #Maximum number of elements to display when printed."
   ]
  },
  {
   "cell_type": "code",
   "execution_count": 38,
   "id": "175c5c43",
   "metadata": {},
   "outputs": [
    {
     "data": {
      "text/plain": [
       "(array([ 9917,  9918,  9919, ..., 50949, 50950, 51002]),\n",
       " array([233, 233, 233, ..., 151, 152, 153]))"
      ]
     },
     "execution_count": 38,
     "metadata": {},
     "output_type": "execute_result"
    }
   ],
   "source": [
    "A_sparse.nonzero()    #nonzero indices"
   ]
  },
  {
   "cell_type": "raw",
   "id": "c64aa6c6",
   "metadata": {},
   "source": [
    "# تریم کردن ماتریس کامل ـ صفر کردن درایه های زیر آستانه اش با،  sparse_tol\n",
    "sparse_tol = plan_sparse.inf_matrix.sparse_tol \n",
    "\n",
    "##trimmed_A_full = (A_full[A_full <= sparse_tol] = 0)\n",
    "\n",
    "trimmed_A_full = np.copy(A_full)\n",
    "trimmed_A_full[trimmed_A_full <= sparse_tol] = 0\n",
    "\n",
    "test = np.abs(A_full - A_sparse.todense()) <= 1e-3\n",
    "assert test.all()"
   ]
  },
  {
   "cell_type": "code",
   "execution_count": null,
   "id": "a9ec7d12",
   "metadata": {},
   "outputs": [],
   "source": []
  }
 ],
 "metadata": {
  "kernelspec": {
   "display_name": "Python 3 (ipykernel)",
   "language": "python",
   "name": "python3"
  },
  "language_info": {
   "codemirror_mode": {
    "name": "ipython",
    "version": 3
   },
   "file_extension": ".py",
   "mimetype": "text/x-python",
   "name": "python",
   "nbconvert_exporter": "python",
   "pygments_lexer": "ipython3",
   "version": "3.10.9"
  }
 },
 "nbformat": 4,
 "nbformat_minor": 5
}
