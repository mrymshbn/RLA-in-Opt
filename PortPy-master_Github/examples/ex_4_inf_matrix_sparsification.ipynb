{
 "cells": [
  {
   "cell_type": "markdown",
   "id": "c87cba9b",
   "metadata": {},
   "source": [
    "# <center>4. Sparsification of Dose Influence Matrix </center>\n",
    "\n",
    "### PortPy provides full dense influence matrix (i.e., including all scattering components) and a truncated sparse version (used for computational efficiency). This example clarifies the relationship and differences between these matrices by showing the followings:\n",
    "\n",
    "1. Generating a plan using the sparse matrix (default matrix in PortPy)\n",
    "2. Calculating the full dose for the plan using the full matrix and visualize the discrepancy between sparse and full dose.\n",
    "3. Manually calculating the sparse matrix from the full matrix"
   ]
  },
  {
   "cell_type": "markdown",
   "id": "9c39ff13",
   "metadata": {},
   "source": [
    "### 1) Generating a plan using the sparse matrix (default matrix in PortPy)"
   ]
  },
  {
   "cell_type": "code",
   "execution_count": 1,
   "id": "09ee5011",
   "metadata": {},
   "outputs": [],
   "source": [
    "import sys\n",
    "sys.path.append('..')"
   ]
  },
  {
   "cell_type": "code",
   "execution_count": 2,
   "id": "2fb76060",
   "metadata": {},
   "outputs": [],
   "source": [
    "import portpy.photon as pp\n",
    "import matplotlib.pyplot as plt\n",
    "import numpy as np"
   ]
  },
  {
   "cell_type": "markdown",
   "id": "c2b1516c",
   "metadata": {},
   "source": [
    "### 2) Calculating the full dose for the plan using the full matrix and visualize the discrepancy between sparse and full dose."
   ]
  },
  {
   "cell_type": "code",
   "execution_count": null,
   "id": "81073568",
   "metadata": {},
   "outputs": [],
   "source": [
    "# Note: It is often computationally impractical to use the full matrix for optimization. We just use the\n",
    "    #   full matrix to calculate the dose for the solution obtained by sparse matrix and show the resultant discrepancy\n",
    "\n",
    "# create plan_full object by specifying load_inf_matrix_full=True\n",
    "beams_full = pp.Beams(data, load_inf_matrix_full=True)\n",
    "# load influence matrix based upon beams and structure set\n",
    "inf_matrix_full = pp.InfluenceMatrix(ct=ct, structs=structs, beams=beams_full, is_full=True)\n",
    "plan_full = pp.Plan(ct, structs, beams, inf_matrix_full, clinical_criteria)\n",
    "# use the full influence matrix to calculate the dose for the plan obtained by sparse matrix\n",
    "dose_full_1d = plan_full.inf_matrix.A @ (sol_sparse['optimal_intensity'] * plan_full.get_num_of_fractions())\n",
    "\n",
    "# Visualize the DVH discrepancy\n",
    "struct_names = ['PTV', 'ESOPHAGUS', 'HEART', 'CORD']\n",
    "fig, ax = plt.subplots(figsize=(12, 8))\n",
    "# Turn on norm flag for same normalization for sparse and full dose.\n",
    "ax = pp.Visualization.plot_dvh(plan_sparse, dose_1d=dose_sparse_1d, struct_names=struct_names, style='solid', ax=ax, norm_flag=True)\n",
    "ax = pp.Visualization.plot_dvh(plan_full, dose_1d=dose_full_1d, struct_names=struct_names, style='dotted', ax=ax, norm_flag=True)\n",
    "ax.set_title('- Sparse    .. Full')\n",
    "plt.show()\n",
    "print('Done')\n"
   ]
  },
  {
   "cell_type": "markdown",
   "id": "71bb91ce",
   "metadata": {},
   "source": [
    "### 3) Manually calculating the sparse matrix from the full matrix"
   ]
  },
  {
   "cell_type": "code",
   "execution_count": null,
   "id": "f612f8db",
   "metadata": {},
   "outputs": [],
   "source": [
    "# The sparse and full matrices are both pre-calculated and included in PorPy data.\n",
    "#   The sparse matrix; however, was obtained by simply zeroing out the small elements in the full matrix that were\n",
    "#   less than a threshold specified in \"my_plan.inf_matrix.sparse_tol\". Here, we manually generate the sparse\n",
    "#   matrix from the full matrix using this threshold to clarify the process\n",
    "\n",
    "#  Get A_sparse and A_full\n",
    "A_full = plan_full.inf_matrix.A\n",
    "A_sparse = plan_sparse.inf_matrix.A\n",
    "\n",
    "# Get the threshold value used by PortPy to truncate the matrix\n",
    "# sparse tol is 1% of the maximum of influence matrix of planner beams\n",
    "sparse_tol = plan_sparse.inf_matrix.sparse_tol\n",
    "# sparse_tol = 0.01*np.amax(A_full)\n",
    "\n",
    "# Truncate the full matrix\n",
    "A_full[A_full <= sparse_tol] = 0\n",
    "test = np.abs(A_full - A_sparse.todense()) <= 1e-3\n",
    "\n",
    "# Check if both influence matrices agree\n",
    "assert test.all()"
   ]
  },
  {
   "cell_type": "code",
   "execution_count": null,
   "id": "bca5dafc",
   "metadata": {},
   "outputs": [],
   "source": []
  }
 ],
 "metadata": {
  "kernelspec": {
   "display_name": "Python 3 (ipykernel)",
   "language": "python",
   "name": "python3"
  },
  "language_info": {
   "codemirror_mode": {
    "name": "ipython",
    "version": 3
   },
   "file_extension": ".py",
   "mimetype": "text/x-python",
   "name": "python",
   "nbconvert_exporter": "python",
   "pygments_lexer": "ipython3",
   "version": "3.10.9"
  }
 },
 "nbformat": 4,
 "nbformat_minor": 5
}
