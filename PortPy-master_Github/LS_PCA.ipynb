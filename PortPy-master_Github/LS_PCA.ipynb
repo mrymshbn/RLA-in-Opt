{
 "cells": [
  {
   "cell_type": "code",
   "execution_count": 4,
   "id": "9bcc90c3",
   "metadata": {},
   "outputs": [],
   "source": [
    "import scipy\n",
    "import random\n",
    "import portpy.photon as pp\n",
    "import numpy as np\n",
    "from cvxpy import *\n",
    "from scipy import sparse\n",
    "import sklearn.metrics\n",
    "import cProfile\n",
    "import time\n",
    "import sys\n",
    "import psutil\n",
    "from sklearn.decomposition import PCA"
   ]
  },
  {
   "cell_type": "code",
   "execution_count": 3,
   "id": "1be9a3de",
   "metadata": {
    "collapsed": true
   },
   "outputs": [
    {
     "name": "stdout",
     "output_type": "stream",
     "text": [
      "creating rinds.. This step may take some time due to dilation\n",
      "rinds created!!\n",
      "Creating BEV..\n",
      "Loading sparse influence matrix...\n",
      "Done\n",
      "Objective Start\n",
      "Objective done\n",
      "Constraints Start\n",
      "Structure ESOPHAGUS not available!\n",
      "Structure ESOPHAGUS not available!\n",
      "Constraints done\n",
      "===============================================================================\n",
      "                                     CVXPY                                     \n",
      "                                     v1.3.1                                    \n",
      "===============================================================================\n",
      "(CVXPY) Oct 27 04:22:33 PM: Your problem has 1946 variables, 14 constraints, and 0 parameters.\n",
      "(CVXPY) Oct 27 04:22:33 PM: It is compliant with the following grammars: DCP, DQCP\n",
      "(CVXPY) Oct 27 04:22:33 PM: (If you need to solve this problem multiple times, but with different data, consider using parameters.)\n",
      "(CVXPY) Oct 27 04:22:33 PM: CVXPY will first compile your problem; then, it will invoke a numerical solver to obtain a solution.\n",
      "-------------------------------------------------------------------------------\n",
      "                                  Compilation                                  \n",
      "-------------------------------------------------------------------------------\n",
      "(CVXPY) Oct 27 04:22:33 PM: Compiling problem (target solver=MOSEK).\n",
      "(CVXPY) Oct 27 04:22:33 PM: Reduction chain: Dcp2Cone -> CvxAttr2Constr -> ConeMatrixStuffing -> MOSEK\n",
      "(CVXPY) Oct 27 04:22:33 PM: Applying reduction Dcp2Cone\n",
      "(CVXPY) Oct 27 04:22:33 PM: Applying reduction CvxAttr2Constr\n",
      "(CVXPY) Oct 27 04:22:33 PM: Applying reduction ConeMatrixStuffing\n",
      "(CVXPY) Oct 27 04:22:36 PM: Applying reduction MOSEK\n",
      "(CVXPY) Oct 27 04:22:37 PM: Finished problem compilation (took 3.713e+00 seconds).\n",
      "-------------------------------------------------------------------------------\n",
      "                                Numerical solver                               \n",
      "-------------------------------------------------------------------------------\n",
      "(CVXPY) Oct 27 04:22:37 PM: Invoking solver MOSEK  to obtain a solution.\n",
      "\n",
      "\n",
      "(CVXPY) Oct 27 04:22:38 PM: Problem\n",
      "(CVXPY) Oct 27 04:22:38 PM:   Name                   :                 \n",
      "(CVXPY) Oct 27 04:22:38 PM:   Objective sense        : maximize        \n",
      "(CVXPY) Oct 27 04:22:38 PM:   Type                   : CONIC (conic optimization problem)\n",
      "(CVXPY) Oct 27 04:22:38 PM:   Constraints            : 1959            \n",
      "(CVXPY) Oct 27 04:22:38 PM:   Affine conic cons.     : 0               \n",
      "(CVXPY) Oct 27 04:22:38 PM:   Disjunctive cons.      : 0               \n",
      "(CVXPY) Oct 27 04:22:38 PM:   Cones                  : 13              \n",
      "(CVXPY) Oct 27 04:22:38 PM:   Scalar variables       : 215748          \n",
      "(CVXPY) Oct 27 04:22:38 PM:   Matrix variables       : 0               \n",
      "(CVXPY) Oct 27 04:22:38 PM:   Integer variables      : 0               \n",
      "(CVXPY) Oct 27 04:22:38 PM: \n",
      "(CVXPY) Oct 27 04:22:38 PM: Optimizer started.\n",
      "(CVXPY) Oct 27 04:22:39 PM: Presolve started.\n",
      "(CVXPY) Oct 27 04:22:39 PM: Linear dependency checker started.\n",
      "(CVXPY) Oct 27 04:22:39 PM: Linear dependency checker terminated.\n",
      "(CVXPY) Oct 27 04:22:39 PM: Eliminator started.\n",
      "(CVXPY) Oct 27 04:22:39 PM: Freed constraints in eliminator : 0\n",
      "(CVXPY) Oct 27 04:22:39 PM: Eliminator terminated.\n",
      "(CVXPY) Oct 27 04:22:39 PM: Eliminator - tries                  : 1                 time                   : 0.00            \n",
      "(CVXPY) Oct 27 04:22:39 PM: Lin. dep.  - tries                  : 1                 time                   : 0.05            \n",
      "(CVXPY) Oct 27 04:22:39 PM: Lin. dep.  - number                 : 0               \n",
      "(CVXPY) Oct 27 04:22:39 PM: Presolve terminated. Time: 0.70    \n",
      "(CVXPY) Oct 27 04:22:40 PM: Problem\n",
      "(CVXPY) Oct 27 04:22:40 PM:   Name                   :                 \n",
      "(CVXPY) Oct 27 04:22:40 PM:   Objective sense        : maximize        \n",
      "(CVXPY) Oct 27 04:22:40 PM:   Type                   : CONIC (conic optimization problem)\n",
      "(CVXPY) Oct 27 04:22:40 PM:   Constraints            : 1959            \n",
      "(CVXPY) Oct 27 04:22:40 PM:   Affine conic cons.     : 0               \n",
      "(CVXPY) Oct 27 04:22:40 PM:   Disjunctive cons.      : 0               \n",
      "(CVXPY) Oct 27 04:22:40 PM:   Cones                  : 13              \n",
      "(CVXPY) Oct 27 04:22:40 PM:   Scalar variables       : 215748          \n",
      "(CVXPY) Oct 27 04:22:40 PM:   Matrix variables       : 0               \n",
      "(CVXPY) Oct 27 04:22:40 PM:   Integer variables      : 0               \n",
      "(CVXPY) Oct 27 04:22:40 PM: \n",
      "(CVXPY) Oct 27 04:22:40 PM: Optimizer  - threads                : 2               \n",
      "(CVXPY) Oct 27 04:22:40 PM: Optimizer  - solved problem         : the primal      \n",
      "(CVXPY) Oct 27 04:22:40 PM: Optimizer  - Constraints            : 1959\n",
      "(CVXPY) Oct 27 04:22:40 PM: Optimizer  - Cones                  : 13\n",
      "(CVXPY) Oct 27 04:22:40 PM: Optimizer  - Scalar variables       : 80782             conic                  : 50518           \n",
      "(CVXPY) Oct 27 04:22:40 PM: Optimizer  - Semi-definite variables: 0                 scalarized             : 0               \n",
      "(CVXPY) Oct 27 04:22:40 PM: Factor     - setup time             : 0.59              dense det. time        : 0.00            \n",
      "(CVXPY) Oct 27 04:22:40 PM: Factor     - ML order time          : 0.25              GP order time          : 0.00            \n",
      "(CVXPY) Oct 27 04:22:40 PM: Factor     - nonzeros before factor : 2.46e+05          after factor           : 2.47e+05        \n",
      "(CVXPY) Oct 27 04:22:40 PM: Factor     - dense dim.             : 4                 flops                  : 8.22e+07        \n",
      "(CVXPY) Oct 27 04:22:40 PM: ITE PFEAS    DFEAS    GFEAS    PRSTATUS   POBJ              DOBJ              MU       TIME  \n",
      "(CVXPY) Oct 27 04:22:40 PM: 0   1.4e+02  4.6e+02  1.4e+01  0.00e+00   -1.300000000e+01  0.000000000e+00   1.0e+00  1.75  \n",
      "(CVXPY) Oct 27 04:22:40 PM: 1   1.2e+02  4.1e+02  1.3e+01  -9.86e-01  4.131473144e+03   4.144316302e+03   8.8e-01  1.97  \n",
      "(CVXPY) Oct 27 04:22:41 PM: 2   6.8e+01  2.2e+02  9.5e+00  -9.79e-01  3.094326949e+04   3.095500114e+04   4.8e-01  2.09  \n",
      "(CVXPY) Oct 27 04:22:41 PM: 3   3.7e+01  1.2e+02  6.7e+00  -9.13e-01  2.557584936e+04   2.558558020e+04   2.6e-01  2.22  \n",
      "(CVXPY) Oct 27 04:22:41 PM: 4   1.4e+01  4.5e+01  3.3e+00  -7.64e-01  1.640479432e+04   1.640934897e+04   9.8e-02  2.33  \n",
      "(CVXPY) Oct 27 04:22:41 PM: 5   5.6e+00  1.8e+01  1.3e+00  -3.34e-01  1.093889194e+04   1.093978543e+04   4.0e-02  2.45  \n",
      "(CVXPY) Oct 27 04:22:41 PM: 6   2.3e+00  7.5e+00  4.3e-01  1.75e-01   6.846000428e+03   6.845975883e+03   1.6e-02  2.56  \n",
      "(CVXPY) Oct 27 04:22:41 PM: 7   8.9e-01  2.9e+00  1.1e-01  5.88e-01   3.360682466e+03   3.360609709e+03   6.3e-03  2.69  \n",
      "(CVXPY) Oct 27 04:22:41 PM: 8   3.5e-01  1.2e+00  3.0e-02  8.33e-01   1.471831416e+03   1.471769013e+03   2.5e-03  2.80  \n",
      "(CVXPY) Oct 27 04:22:41 PM: 9   1.3e-01  4.4e-01  7.2e-03  9.37e-01   5.963000267e+02   5.962595743e+02   9.5e-04  2.92  \n",
      "(CVXPY) Oct 27 04:22:41 PM: 10  5.4e-02  1.8e-01  1.9e-03  9.80e-01   2.794354503e+02   2.794136331e+02   3.8e-04  3.03  \n",
      "(CVXPY) Oct 27 04:22:42 PM: 11  1.9e-02  6.3e-02  4.1e-04  9.94e-01   1.242764277e+02   1.242668016e+02   1.4e-04  3.16  \n",
      "(CVXPY) Oct 27 04:22:42 PM: 12  7.8e-03  2.5e-02  1.1e-04  1.00e+00   7.813161372e+01   7.812729158e+01   5.5e-05  3.27  \n",
      "(CVXPY) Oct 27 04:22:42 PM: 13  2.8e-03  9.1e-03  2.3e-05  1.00e+00   5.422719759e+01   5.422550144e+01   2.0e-05  3.39  \n",
      "(CVXPY) Oct 27 04:22:42 PM: 14  1.3e-03  4.1e-03  7.1e-06  1.00e+00   4.690658089e+01   4.690577191e+01   8.9e-06  3.52  \n",
      "(CVXPY) Oct 27 04:22:42 PM: 15  4.3e-04  1.4e-03  1.4e-06  9.99e-01   4.377742727e+01   4.377714147e+01   3.0e-06  3.62  \n",
      "(CVXPY) Oct 27 04:22:42 PM: 16  1.4e-04  4.7e-04  2.8e-07  9.99e-01   4.262818861e+01   4.262808998e+01   1.0e-06  3.75  \n",
      "(CVXPY) Oct 27 04:22:42 PM: 17  6.3e-05  2.1e-04  8.1e-08  9.99e-01   4.229317671e+01   4.229313228e+01   4.5e-07  3.88  \n",
      "(CVXPY) Oct 27 04:22:42 PM: 18  1.6e-05  5.2e-05  1.0e-08  1.00e+00   4.210759535e+01   4.210758419e+01   1.1e-07  3.98  \n",
      "(CVXPY) Oct 27 04:22:43 PM: 19  2.3e-06  7.4e-06  5.5e-10  1.00e+00   4.205327967e+01   4.205327802e+01   1.6e-08  4.11  \n",
      "(CVXPY) Oct 27 04:22:43 PM: 20  8.8e-07  2.9e-06  1.3e-10  9.99e-01   4.204837457e+01   4.204837392e+01   6.2e-09  4.22  \n"
     ]
    },
    {
     "name": "stdout",
     "output_type": "stream",
     "text": [
      "(CVXPY) Oct 27 04:22:43 PM: 21  3.3e-07  1.1e-06  3.1e-11  1.00e+00   4.204653231e+01   4.204653206e+01   2.3e-09  4.34  \n",
      "(CVXPY) Oct 27 04:22:43 PM: 22  9.5e-08  3.1e-07  4.8e-12  9.56e-01   4.204568395e+01   4.204568387e+01   6.6e-10  4.49  \n",
      "(CVXPY) Oct 27 04:22:43 PM: 23  7.2e-08  7.8e-08  6.2e-13  1.01e+00   4.204544808e+01   4.204544806e+01   1.7e-10  4.62  \n",
      "(CVXPY) Oct 27 04:22:43 PM: Optimizer terminated. Time: 4.75    \n",
      "(CVXPY) Oct 27 04:22:43 PM: \n",
      "(CVXPY) Oct 27 04:22:43 PM: \n",
      "(CVXPY) Oct 27 04:22:43 PM: Interior-point solution summary\n",
      "(CVXPY) Oct 27 04:22:43 PM:   Problem status  : PRIMAL_AND_DUAL_FEASIBLE\n",
      "(CVXPY) Oct 27 04:22:43 PM:   Solution status : OPTIMAL\n",
      "(CVXPY) Oct 27 04:22:43 PM:   Primal.  obj: 4.2045448085e+01    nrm: 1e+02    Viol.  con: 6e-06    var: 2e-06    cones: 0e+00  \n",
      "(CVXPY) Oct 27 04:22:43 PM:   Dual.    obj: 4.2045448063e+01    nrm: 6e+03    Viol.  con: 0e+00    var: 8e-07    cones: 0e+00  \n",
      "-------------------------------------------------------------------------------\n",
      "                                    Summary                                    \n",
      "-------------------------------------------------------------------------------\n",
      "(CVXPY) Oct 27 04:22:43 PM: Problem status: optimal\n",
      "(CVXPY) Oct 27 04:22:43 PM: Optimal value: 4.205e+01\n",
      "(CVXPY) Oct 27 04:22:43 PM: Compilation took 3.713e+00 seconds\n",
      "(CVXPY) Oct 27 04:22:43 PM: Solver (including time spent in interface) took 6.524e+00 seconds\n",
      "Creating BEV..\n",
      "Loading full influence matrix..\n",
      "Done\n"
     ]
    }
   ],
   "source": [
    "data_dir = r'../data'\n",
    "data = pp.DataExplorer(data_dir=data_dir)\n",
    "patient_id = 'Lung_Phantom_Patient_1'\n",
    "data.patient_id = patient_id\n",
    "ct = pp.CT(data)\n",
    "structs = pp.Structures(data)\n",
    "beams = pp.Beams(data)\n",
    "opt_params = data.load_config_opt_params(protocol_name='Lung_2Gy_30Fx')\n",
    "structs.create_opt_structures(opt_params)\n",
    "inf_matrix_sparse = pp.InfluenceMatrix(ct=ct, structs=structs, beams=beams)\n",
    "protocol_name = 'Lung_2Gy_30Fx'\n",
    "clinical_criteria = pp.ClinicalCriteria(data, protocol_name)\n",
    "plan_sparse = pp.Plan(ct, structs, beams, inf_matrix_sparse, clinical_criteria)\n",
    "opt = pp.Optimization(plan_sparse, opt_params=opt_params)\n",
    "opt.create_cvxpy_problem()\n",
    "\n",
    "sol_sparse = opt.solve(solver='MOSEK', verbose=True)\n",
    "dose_sparse_1d = plan_sparse.inf_matrix.A @ (sol_sparse['optimal_intensity'] * plan_sparse.get_num_of_fractions())\n",
    "x_sparse =sol_sparse['optimal_intensity'] * plan_sparse.get_num_of_fractions()\n",
    "\n",
    "beams_full = pp.Beams(data, load_inf_matrix_full=True)\n",
    "inf_matrix_full = pp.InfluenceMatrix(ct=ct, structs=structs, beams=beams_full, is_full=True)\n",
    "plan_full = pp.Plan(ct, structs, beams, inf_matrix_full, clinical_criteria)\n",
    "dose_full_1d = plan_full.inf_matrix.A @ (sol_sparse['optimal_intensity'] * plan_full.get_num_of_fractions())\n",
    "\n",
    "A_full = plan_full.inf_matrix.A\n",
    "A_sparse = plan_sparse.inf_matrix.A\n"
   ]
  },
  {
   "cell_type": "code",
   "execution_count": 5,
   "id": "db68d603",
   "metadata": {},
   "outputs": [],
   "source": [
    "# 1. مرکزگرایی داده (اختیاری):\n",
    "mean = np.mean(A_full, axis=0)\n",
    "A_full_centered = A_full - mean\n",
    "\n",
    "# 2. اعمال PCA:\n",
    "n_components = 542  # تعداد مؤلفه‌های اصلی مورد نظر\n",
    "pca = PCA(n_components=n_components)\n",
    "principal_components = pca.fit_transform(A_full_centered)\n",
    "\n",
    "# مؤلفه‌های اصلی به ترتیب مقادیر ویژه بزرگتر به کوچکتر در principal_components ذخیره می‌شوند.\n"
   ]
  },
  {
   "cell_type": "code",
   "execution_count": 9,
   "id": "b341498e",
   "metadata": {},
   "outputs": [
    {
     "data": {
      "text/plain": [
       "(542, 60183)"
      ]
     },
     "execution_count": 9,
     "metadata": {},
     "output_type": "execute_result"
    }
   ],
   "source": [
    "T_Matrix_PCA = principal_components.transpose()\n",
    "\n",
    "T_Matrix_PCA.shape"
   ]
  },
  {
   "cell_type": "code",
   "execution_count": 10,
   "id": "127b68dc",
   "metadata": {},
   "outputs": [
    {
     "name": "stdout",
     "output_type": "stream",
     "text": [
      "زمان کل اجرای کمترین مربعات ماتریس PCA \n",
      ": 2.0116207599639893 ثانیه\n"
     ]
    }
   ],
   "source": [
    "start_time = time.time()\n",
    "\n",
    "sol_ls_A_PCA = scipy.sparse.linalg.lsqr(T_Matrix_PCA@A_full, T_Matrix_PCA@dose_full_1d)\n",
    "\n",
    "end_time = time.time()\n",
    "total_execution_time = end_time - start_time\n",
    "print(f\"زمان کل اجرای کمترین مربعات ماتریس PCA \\n: {total_execution_time} ثانیه\")\n"
   ]
  },
  {
   "cell_type": "code",
   "execution_count": 12,
   "id": "5a319ec2",
   "metadata": {},
   "outputs": [
    {
     "name": "stdout",
     "output_type": "stream",
     "text": [
      "x_star :\t [ 6.53035609e+00  1.87758974e-01 -1.66915830e-04  1.74868622e-03]\n",
      "number_algorithm_execution_steps :\t 161\n",
      "Rightـhandـsideـvectorـnormـd :\t 0.49475562933377715\n",
      "L2 norm of residuals :\t0.49475562933377715\n",
      "sum_of_square1 :\t 1963.8870373593206\n",
      "sum_of_square2 :\t 1194.8402869477388\n",
      "Zeroـvector :\t [0. 0. 0. 0. 0. 0. 0. 0. 0. 0. 0. 0. 0. 0. 0. 0. 0. 0. 0. 0. 0. 0. 0. 0.]\n",
      "Returnـcode :\t 1\n"
     ]
    }
   ],
   "source": [
    "# جواب بهینه\n",
    "x_star = sol_ls_A_PCA[0]\n",
    "print(f'x_star :\\t {x_star[0:4]}')\n",
    "\n",
    "#  تعداد مراحل اجرای الگوریتم\n",
    "number_algorithm_execution_steps = sol_ls_A_PCA[2]\n",
    "print(f'number_algorithm_execution_steps :\\t {number_algorithm_execution_steps}')\n",
    "\n",
    "#  نرم بردار سمت راست d\n",
    "Rightـhandـsideـvectorـnormـd = sol_ls_A_PCA[3]\n",
    "print(f'Rightـhandـsideـvectorـnormـd :\\t {Rightـhandـsideـvectorـnormـd}')\n",
    "\n",
    "#شاخص برای ارزیابی خروجی الگوریتم کمترین مربعات است\tهرچقدر این نرم کوچکتر باشد نشانه بهتر بودن جواب بهینه است\n",
    "\n",
    "\n",
    "#نرم ضرب داخلی ماتریس در جواب\n",
    "l2_res = sol_ls_A_PCA[4]\n",
    "print(f'L2 norm of residuals :\\t{l2_res}')\n",
    "\n",
    "#   مجموع مربعات خطای سیستم \n",
    "sum_of_square1 = sol_ls_A_PCA[5]\n",
    "print(f'sum_of_square1 :\\t {sum_of_square1}')\n",
    "\n",
    "#   مجموع مربعات خطای ماتریس معکوس\n",
    "sum_of_square2 = sol_ls_A_PCA[6]\n",
    "print(f'sum_of_square2 :\\t {sum_of_square2}')\n",
    "\n",
    "# بردار صفر              ?????????????\n",
    "Zeroـvector = sol_ls_A_PCA[9]\n",
    "print(f'Zeroـvector :\\t {Zeroـvector[0:24]}')\n",
    "\n",
    "# کد بازگشتی \n",
    "Returnـcode = sol_ls_A_PCA[1]\n",
    "print(f'Returnـcode :\\t {Returnـcode}')"
   ]
  },
  {
   "cell_type": "code",
   "execution_count": 22,
   "id": "f4d64f7b",
   "metadata": {},
   "outputs": [
    {
     "name": "stdout",
     "output_type": "stream",
     "text": [
      " PCA تعداد مؤلفه‌های غیر صفر ماتریس \t 32619186\n",
      "تعداد مؤلفه‌های غیر صفر ماتریس کامل\t 10279072\n"
     ]
    }
   ],
   "source": [
    "nonzero_count_T_Matrix_PCA = np.count_nonzero(T_Matrix_PCA)\n",
    "\n",
    "print(\" PCA تعداد مؤلفه‌های غیر صفر ماتریس \\t\", nonzero_count_T_Matrix_PCA)\n",
    "\n",
    "\n",
    "nonzero_count_A_full = np.count_nonzero(A_full)\n",
    "\n",
    "print(\"تعداد مؤلفه‌های غیر صفر ماتریس کامل\\t\", nonzero_count_A_full)\n"
   ]
  },
  {
   "cell_type": "code",
   "execution_count": 23,
   "id": "1287e037",
   "metadata": {},
   "outputs": [
    {
     "data": {
      "text/plain": [
       "False"
      ]
     },
     "execution_count": 23,
     "metadata": {},
     "output_type": "execute_result"
    }
   ],
   "source": [
    "## بررسی  پراکندگی ماتریس\n",
    "\n",
    "is_sparse = sparse.issparse(T_Matrix_PCA)\n",
    "is_sparse"
   ]
  },
  {
   "cell_type": "code",
   "execution_count": 24,
   "id": "c9bd04c8",
   "metadata": {
    "collapsed": true
   },
   "outputs": [
    {
     "ename": "AttributeError",
     "evalue": "'numpy.ndarray' object has no attribute 'format'",
     "output_type": "error",
     "traceback": [
      "\u001b[1;31m---------------------------------------------------------------------------\u001b[0m",
      "\u001b[1;31mAttributeError\u001b[0m                            Traceback (most recent call last)",
      "Input \u001b[1;32mIn [24]\u001b[0m, in \u001b[0;36m<cell line: 1>\u001b[1;34m()\u001b[0m\n\u001b[1;32m----> 1\u001b[0m \u001b[43mT_Matrix_PCA\u001b[49m\u001b[38;5;241;43m.\u001b[39;49m\u001b[43mformat\u001b[49m\n",
      "\u001b[1;31mAttributeError\u001b[0m: 'numpy.ndarray' object has no attribute 'format'"
     ]
    }
   ],
   "source": [
    "T_Matrix_PCA.format"
   ]
  },
  {
   "cell_type": "code",
   "execution_count": null,
   "id": "0f6ab819",
   "metadata": {},
   "outputs": [],
   "source": []
  }
 ],
 "metadata": {
  "kernelspec": {
   "display_name": "Python 3 (ipykernel)",
   "language": "python",
   "name": "python3"
  },
  "language_info": {
   "codemirror_mode": {
    "name": "ipython",
    "version": 3
   },
   "file_extension": ".py",
   "mimetype": "text/x-python",
   "name": "python",
   "nbconvert_exporter": "python",
   "pygments_lexer": "ipython3",
   "version": "3.10.9"
  }
 },
 "nbformat": 4,
 "nbformat_minor": 5
}
