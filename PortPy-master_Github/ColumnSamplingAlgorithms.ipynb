{
 "cells": [
  {
   "cell_type": "code",
   "execution_count": 1,
   "id": "4ef9f6bc",
   "metadata": {},
   "outputs": [],
   "source": [
    "import scipy\n",
    "import random\n",
    "import portpy.photon as pp\n",
    "import numpy as np\n",
    "from cvxpy import *\n",
    "from scipy import sparse\n",
    "import sklearn.metrics\n",
    "import cProfile\n",
    "import time\n",
    "import sys\n",
    "import psutil"
   ]
  },
  {
   "cell_type": "code",
   "execution_count": 2,
   "id": "de286b8e",
   "metadata": {},
   "outputs": [
    {
     "name": "stdout",
     "output_type": "stream",
     "text": [
      "creating rinds.. This step may take some time due to dilation\n",
      "rinds created!!\n",
      "Creating BEV..\n",
      "Loading sparse influence matrix...\n",
      "Done\n",
      "Objective Start\n",
      "Objective done\n",
      "Constraints Start\n",
      "Structure ESOPHAGUS not available!\n",
      "Structure ESOPHAGUS not available!\n",
      "Constraints done\n",
      "===============================================================================\n",
      "                                     CVXPY                                     \n",
      "                                     v1.4.1                                    \n",
      "===============================================================================\n",
      "(CVXPY) Nov 15 09:32:26 AM: Your problem has 1946 variables, 14 constraints, and 0 parameters.\n",
      "(CVXPY) Nov 15 09:32:26 AM: It is compliant with the following grammars: DCP, DQCP\n",
      "(CVXPY) Nov 15 09:32:26 AM: (If you need to solve this problem multiple times, but with different data, consider using parameters.)\n",
      "(CVXPY) Nov 15 09:32:26 AM: CVXPY will first compile your problem; then, it will invoke a numerical solver to obtain a solution.\n",
      "(CVXPY) Nov 15 09:32:26 AM: Your problem is compiled with the CPP canonicalization backend.\n",
      "-------------------------------------------------------------------------------\n",
      "                                  Compilation                                  \n",
      "-------------------------------------------------------------------------------\n",
      "(CVXPY) Nov 15 09:32:26 AM: Compiling problem (target solver=MOSEK).\n",
      "(CVXPY) Nov 15 09:32:26 AM: Reduction chain: Dcp2Cone -> CvxAttr2Constr -> ConeMatrixStuffing -> MOSEK\n",
      "(CVXPY) Nov 15 09:32:26 AM: Applying reduction Dcp2Cone\n",
      "(CVXPY) Nov 15 09:32:26 AM: Applying reduction CvxAttr2Constr\n",
      "(CVXPY) Nov 15 09:32:26 AM: Applying reduction ConeMatrixStuffing\n",
      "(CVXPY) Nov 15 09:32:27 AM: Applying reduction MOSEK\n",
      "(CVXPY) Nov 15 09:32:27 AM: Finished problem compilation (took 1.058e+00 seconds).\n",
      "-------------------------------------------------------------------------------\n",
      "                                Numerical solver                               \n",
      "-------------------------------------------------------------------------------\n",
      "(CVXPY) Nov 15 09:32:27 AM: Invoking solver MOSEK  to obtain a solution.\n",
      "\n",
      "\n",
      "(CVXPY) Nov 15 09:32:28 AM: Problem\n",
      "(CVXPY) Nov 15 09:32:28 AM:   Name                   :                 \n",
      "(CVXPY) Nov 15 09:32:28 AM:   Objective sense        : maximize        \n",
      "(CVXPY) Nov 15 09:32:28 AM:   Type                   : CONIC (conic optimization problem)\n",
      "(CVXPY) Nov 15 09:32:28 AM:   Constraints            : 1959            \n",
      "(CVXPY) Nov 15 09:32:28 AM:   Affine conic cons.     : 0               \n",
      "(CVXPY) Nov 15 09:32:28 AM:   Disjunctive cons.      : 0               \n",
      "(CVXPY) Nov 15 09:32:28 AM:   Cones                  : 13              \n",
      "(CVXPY) Nov 15 09:32:28 AM:   Scalar variables       : 215748          \n",
      "(CVXPY) Nov 15 09:32:28 AM:   Matrix variables       : 0               \n",
      "(CVXPY) Nov 15 09:32:28 AM:   Integer variables      : 0               \n",
      "(CVXPY) Nov 15 09:32:28 AM: \n",
      "(CVXPY) Nov 15 09:32:28 AM: Optimizer started.\n",
      "(CVXPY) Nov 15 09:32:28 AM: Presolve started.\n",
      "(CVXPY) Nov 15 09:32:28 AM: Linear dependency checker started.\n",
      "(CVXPY) Nov 15 09:32:28 AM: Linear dependency checker terminated.\n",
      "(CVXPY) Nov 15 09:32:28 AM: Eliminator started.\n",
      "(CVXPY) Nov 15 09:32:28 AM: Freed constraints in eliminator : 0\n",
      "(CVXPY) Nov 15 09:32:28 AM: Eliminator terminated.\n",
      "(CVXPY) Nov 15 09:32:28 AM: Eliminator - tries                  : 1                 time                   : 0.00            \n",
      "(CVXPY) Nov 15 09:32:28 AM: Lin. dep.  - tries                  : 1                 time                   : 0.03            \n",
      "(CVXPY) Nov 15 09:32:28 AM: Lin. dep.  - primal attempts        : 1                 successes              : 1               \n",
      "(CVXPY) Nov 15 09:32:28 AM: Lin. dep.  - dual attempts          : 0                 successes              : 0               \n",
      "(CVXPY) Nov 15 09:32:28 AM: Lin. dep.  - primal deps.           : 0                 dual deps.             : 0               \n",
      "(CVXPY) Nov 15 09:32:28 AM: Presolve terminated. Time: 0.16    \n",
      "(CVXPY) Nov 15 09:32:28 AM: Optimizer  - threads                : 2               \n",
      "(CVXPY) Nov 15 09:32:28 AM: Optimizer  - solved problem         : the primal      \n",
      "(CVXPY) Nov 15 09:32:28 AM: Optimizer  - Constraints            : 1959            \n",
      "(CVXPY) Nov 15 09:32:28 AM: Optimizer  - Cones                  : 13              \n",
      "(CVXPY) Nov 15 09:32:28 AM: Optimizer  - Scalar variables       : 63183             conic                  : 50518           \n",
      "(CVXPY) Nov 15 09:32:28 AM: Optimizer  - Semi-definite variables: 0                 scalarized             : 0               \n",
      "(CVXPY) Nov 15 09:32:28 AM: Factor     - setup time             : 0.16            \n",
      "(CVXPY) Nov 15 09:32:28 AM: Factor     - dense det. time        : 0.00              GP order time          : 0.00            \n",
      "(CVXPY) Nov 15 09:32:28 AM: Factor     - nonzeros before factor : 2.46e+05          after factor           : 2.47e+05        \n",
      "(CVXPY) Nov 15 09:32:28 AM: Factor     - dense dim.             : 4                 flops                  : 8.21e+07        \n",
      "(CVXPY) Nov 15 09:32:28 AM: ITE PFEAS    DFEAS    GFEAS    PRSTATUS   POBJ              DOBJ              MU       TIME  \n",
      "(CVXPY) Nov 15 09:32:28 AM: 0   1.4e+02  2.3e+02  1.4e+01  0.00e+00   -1.300000000e+01  -0.000000000e+00  1.0e+00  0.48  \n",
      "(CVXPY) Nov 15 09:32:28 AM: 1   1.2e+02  1.9e+02  1.3e+01  -9.63e-01  4.679787643e+03   4.692415819e+03   8.4e-01  0.53  \n",
      "(CVXPY) Nov 15 09:32:28 AM: 2   7.5e+01  1.2e+02  9.1e+00  -8.68e-01  6.575663964e+03   6.586712761e+03   5.3e-01  0.56  \n",
      "(CVXPY) Nov 15 09:32:28 AM: 3   3.3e+01  5.4e+01  4.7e+00  -6.48e-01  5.483660804e+03   5.491376940e+03   2.3e-01  0.61  \n",
      "(CVXPY) Nov 15 09:32:28 AM: 4   1.7e+01  2.8e+01  2.3e+00  -1.90e-01  2.759695648e+03   2.764885110e+03   1.2e-01  0.64  \n",
      "(CVXPY) Nov 15 09:32:28 AM: 5   1.4e+01  2.3e+01  1.8e+00  1.40e-01   2.641460111e+03   2.645958464e+03   9.9e-02  0.67  \n",
      "(CVXPY) Nov 15 09:32:28 AM: 6   6.9e+00  1.1e+01  7.0e-01  3.32e-01   1.135836563e+03   1.138391456e+03   4.9e-02  0.70  \n",
      "(CVXPY) Nov 15 09:32:28 AM: 7   2.6e+00  4.3e+00  1.7e-01  6.90e-01   6.433717495e+02   6.443825583e+02   1.8e-02  0.73  \n",
      "(CVXPY) Nov 15 09:32:28 AM: 8   7.7e-01  1.3e+00  2.9e-02  9.19e-01   2.519392152e+02   2.522318222e+02   5.5e-03  0.78  \n",
      "(CVXPY) Nov 15 09:32:28 AM: 9   1.9e-01  3.1e-01  3.7e-03  1.00e+00   1.112136823e+02   1.112831916e+02   1.4e-03  0.81  \n",
      "(CVXPY) Nov 15 09:32:28 AM: 10  5.2e-02  8.4e-02  5.2e-04  1.01e+00   6.185792813e+01   6.187635074e+01   3.6e-04  0.86  \n",
      "(CVXPY) Nov 15 09:32:28 AM: 11  1.3e-02  2.2e-02  7.0e-05  1.00e+00   4.731442626e+01   4.731918194e+01   9.5e-05  0.89  \n",
      "(CVXPY) Nov 15 09:32:29 AM: 12  4.1e-03  6.7e-03  1.2e-05  1.00e+00   4.361501519e+01   4.361646033e+01   2.9e-05  0.94  \n",
      "(CVXPY) Nov 15 09:32:29 AM: 13  1.3e-03  2.1e-03  2.1e-06  9.99e-01   4.251789704e+01   4.251835713e+01   9.3e-06  0.97  \n",
      "(CVXPY) Nov 15 09:32:29 AM: 14  4.8e-04  7.9e-04  4.9e-07  9.99e-01   4.220398674e+01   4.220415344e+01   3.4e-06  1.00  \n",
      "(CVXPY) Nov 15 09:32:29 AM: 15  1.1e-04  1.7e-04  5.0e-08  1.00e+00   4.207786880e+01   4.207790508e+01   7.5e-07  1.05  \n",
      "(CVXPY) Nov 15 09:32:29 AM: 16  6.0e-06  9.7e-06  6.2e-10  1.00e+00   4.204776554e+01   4.204776773e+01   4.2e-08  1.08  \n",
      "(CVXPY) Nov 15 09:32:29 AM: 17  2.8e-06  7.5e-05  2.1e-10  9.70e-01   4.204635473e+01   4.204635574e+01   2.0e-08  1.11  \n",
      "(CVXPY) Nov 15 09:32:29 AM: 18  1.2e-06  3.3e-05  6.7e-11  1.05e+00   4.204586990e+01   4.204587033e+01   9.4e-09  1.14  \n",
      "(CVXPY) Nov 15 09:32:29 AM: 19  5.4e-07  1.5e-05  1.9e-11  9.11e-01   4.204553745e+01   4.204553764e+01   3.9e-09  1.20  \n",
      "(CVXPY) Nov 15 09:32:29 AM: 20  1.9e-07  5.2e-06  4.2e-12  1.00e+00   4.204543386e+01   4.204543393e+01   1.4e-09  1.28  \n",
      "(CVXPY) Nov 15 09:32:29 AM: Optimizer terminated. Time: 1.30    \n",
      "(CVXPY) Nov 15 09:32:29 AM: \n",
      "(CVXPY) Nov 15 09:32:29 AM: \n",
      "(CVXPY) Nov 15 09:32:29 AM: Interior-point solution summary\n",
      "(CVXPY) Nov 15 09:32:29 AM:   Problem status  : PRIMAL_AND_DUAL_FEASIBLE\n",
      "(CVXPY) Nov 15 09:32:29 AM:   Solution status : OPTIMAL\n",
      "(CVXPY) Nov 15 09:32:29 AM:   Primal.  obj: 4.2045433863e+01    nrm: 1e+02    Viol.  con: 3e-06    var: 1e-06    cones: 0e+00  \n"
     ]
    },
    {
     "name": "stdout",
     "output_type": "stream",
     "text": [
      "(CVXPY) Nov 15 09:32:29 AM:   Dual.    obj: 4.2045433929e+01    nrm: 6e+03    Viol.  con: 0e+00    var: 2e-08    cones: 0e+00  \n",
      "-------------------------------------------------------------------------------\n",
      "                                    Summary                                    \n",
      "-------------------------------------------------------------------------------\n",
      "(CVXPY) Nov 15 09:32:29 AM: Problem status: optimal\n",
      "(CVXPY) Nov 15 09:32:29 AM: Optimal value: 4.205e+01\n",
      "(CVXPY) Nov 15 09:32:29 AM: Compilation took 1.058e+00 seconds\n",
      "(CVXPY) Nov 15 09:32:29 AM: Solver (including time spent in interface) took 1.803e+00 seconds\n",
      "Creating BEV..\n",
      "Loading full influence matrix..\n",
      "Done\n"
     ]
    }
   ],
   "source": [
    "data_dir = r'../data'\n",
    "data = pp.DataExplorer(data_dir=data_dir)\n",
    "patient_id = 'Lung_Phantom_Patient_1'\n",
    "data.patient_id = patient_id\n",
    "ct = pp.CT(data)\n",
    "structs = pp.Structures(data)\n",
    "beams = pp.Beams(data)\n",
    "opt_params = data.load_config_opt_params(protocol_name='Lung_2Gy_30Fx')\n",
    "structs.create_opt_structures(opt_params)\n",
    "inf_matrix_sparse = pp.InfluenceMatrix(ct=ct, structs=structs, beams=beams)\n",
    "protocol_name = 'Lung_2Gy_30Fx'\n",
    "clinical_criteria = pp.ClinicalCriteria(data, protocol_name)\n",
    "plan_sparse = pp.Plan(ct, structs, beams, inf_matrix_sparse, clinical_criteria)\n",
    "opt = pp.Optimization(plan_sparse, opt_params=opt_params)\n",
    "opt.create_cvxpy_problem()\n",
    "\n",
    "sol_sparse = opt.solve(solver='MOSEK', verbose=True)\n",
    "dose_sparse_1d = plan_sparse.inf_matrix.A @ (sol_sparse['optimal_intensity'] * plan_sparse.get_num_of_fractions())\n",
    "x_sparse =sol_sparse['optimal_intensity'] * plan_sparse.get_num_of_fractions()\n",
    "\n",
    "beams_full = pp.Beams(data, load_inf_matrix_full=True)\n",
    "inf_matrix_full = pp.InfluenceMatrix(ct=ct, structs=structs, beams=beams_full, is_full=True)\n",
    "plan_full = pp.Plan(ct, structs, beams, inf_matrix_full, clinical_criteria)\n",
    "dose_full_1d = plan_full.inf_matrix.A @ (sol_sparse['optimal_intensity'] * plan_full.get_num_of_fractions())\n",
    "\n",
    "A_full = plan_full.inf_matrix.A\n",
    "A_sparse = plan_sparse.inf_matrix.A\n"
   ]
  },
  {
   "cell_type": "code",
   "execution_count": 3,
   "id": "96984088",
   "metadata": {},
   "outputs": [
    {
     "data": {
      "text/plain": [
       "(542, 60183)"
      ]
     },
     "execution_count": 3,
     "metadata": {},
     "output_type": "execute_result"
    }
   ],
   "source": [
    "# چون نمی توان تعداد سطرهای ماتریس اثر را کم کرد، و هدف کم کردن تعداد سطرهاست\n",
    "#لذا برای اجرای الگوریتم نمونه برداری ستونی، ماتریس را ترانهاده می کنیم\n",
    "\n",
    "t_matrix = A_full.transpose()\n",
    "\n",
    "t_matrix.shape"
   ]
  },
  {
   "cell_type": "markdown",
   "id": "83ea1d7b",
   "metadata": {},
   "source": [
    "<br><center> ***Minimize*** $\\lVert BAx - Bd\\rVert_{2}^2$\n",
    "\n",
    "<br><center> ***Minimize*** $\\lVert BA^Tx - Bd\\rVert_{2}^2$\n",
    "\n",
    "<br><center> ***Minimize*** $\\lVert ABx - dB\\rVert_{2}^2$\n",
    "    \n",
    "<br><center> ***Minimize*** $\\lVert B^TAx - B^Td\\rVert_{2}^2$\n",
    " \n",
    "#کدام یک از این حالت ها در میاد؟  "
   ]
  },
  {
   "cell_type": "code",
   "execution_count": 8,
   "id": "ad5ca68e",
   "metadata": {},
   "outputs": [],
   "source": [
    "from scipy.sparse import csr_matrix\n",
    "\n",
    "def compute_probability(row):\n",
    "    row_sum = row.sum()\n",
    "    if row_sum == 0:\n",
    "        return 0\n",
    "    else:\n",
    "        return row.sum() / row_sum\n",
    "\n",
    "def insert_and_rescale(B, i, j, pi):\n",
    "    B[:, j] += pi * t_matrix[:, i]\n",
    "\n",
    "def compute_sparse_B(A_full, c):\n",
    "    d = t_matrix.shape[1]\n",
    "    if c < 1 or c > n:\n",
    "        return csr_matrix((t_matrix.shape[1], c))\n",
    "\n",
    "    num_rows, num_cols = A_full.shape\n",
    "    B = csr_matrix((num_rows, c))   \n",
    "\n",
    "    for i in range(d):\n",
    "        pi = compute_probability(A_full[:, i])\n",
    "        for j in range(c):\n",
    "            insert_and_rescale(B, i, j, pi)\n",
    "\n",
    "    return B\n"
   ]
  },
  {
   "cell_type": "code",
   "execution_count": 9,
   "id": "54f85507",
   "metadata": {
    "scrolled": true
   },
   "outputs": [
    {
     "ename": "ValueError",
     "evalue": "operands could not be broadcast together with remapped shapes [original->remapped]: (542,)  and requested shape (60183,1)",
     "output_type": "error",
     "traceback": [
      "\u001b[1;31m---------------------------------------------------------------------------\u001b[0m",
      "\u001b[1;31mValueError\u001b[0m                                Traceback (most recent call last)",
      "Cell \u001b[1;32mIn[9], line 4\u001b[0m\n\u001b[0;32m      2\u001b[0m n,d \u001b[38;5;241m=\u001b[39m A_full\u001b[38;5;241m.\u001b[39mshape\n\u001b[0;32m      3\u001b[0m c \u001b[38;5;241m=\u001b[39m d \n\u001b[1;32m----> 4\u001b[0m result_B \u001b[38;5;241m=\u001b[39m compute_sparse_B(A_full, c)\n\u001b[0;32m      7\u001b[0m end_time \u001b[38;5;241m=\u001b[39m time\u001b[38;5;241m.\u001b[39mtime()\n\u001b[0;32m      8\u001b[0m total_execution_time \u001b[38;5;241m=\u001b[39m end_time \u001b[38;5;241m-\u001b[39m start_time\n",
      "Cell \u001b[1;32mIn[8], line 24\u001b[0m, in \u001b[0;36mcompute_sparse_B\u001b[1;34m(A_full, c)\u001b[0m\n\u001b[0;32m     22\u001b[0m     pi \u001b[38;5;241m=\u001b[39m compute_probability(A_full[:, i])\n\u001b[0;32m     23\u001b[0m     \u001b[38;5;28;01mfor\u001b[39;00m j \u001b[38;5;129;01min\u001b[39;00m \u001b[38;5;28mrange\u001b[39m(c):\n\u001b[1;32m---> 24\u001b[0m         insert_and_rescale(B, i, j, pi)\n\u001b[0;32m     26\u001b[0m \u001b[38;5;28;01mreturn\u001b[39;00m B\n",
      "Cell \u001b[1;32mIn[8], line 11\u001b[0m, in \u001b[0;36minsert_and_rescale\u001b[1;34m(B, i, j, pi)\u001b[0m\n\u001b[0;32m     10\u001b[0m \u001b[38;5;28;01mdef\u001b[39;00m \u001b[38;5;21minsert_and_rescale\u001b[39m(B, i, j, pi):\n\u001b[1;32m---> 11\u001b[0m     B[:, j] \u001b[38;5;241m+\u001b[39m\u001b[38;5;241m=\u001b[39m pi \u001b[38;5;241m*\u001b[39m t_matrix[:, i]\n",
      "File \u001b[1;32m~\\anaconda3\\Lib\\site-packages\\cvxpy\\interface\\scipy_wrapper.py:47\u001b[0m, in \u001b[0;36mwrap_bin_op.<locals>.new_method\u001b[1;34m(self, other)\u001b[0m\n\u001b[0;32m     46\u001b[0m \u001b[38;5;28;01mdef\u001b[39;00m \u001b[38;5;21mnew_method\u001b[39m(\u001b[38;5;28mself\u001b[39m, other):\n\u001b[1;32m---> 47\u001b[0m     output \u001b[38;5;241m=\u001b[39m method(\u001b[38;5;28mself\u001b[39m, other)\n\u001b[0;32m     48\u001b[0m     \u001b[38;5;28;01mif\u001b[39;00m \u001b[38;5;28misinstance\u001b[39m(other, exp\u001b[38;5;241m.\u001b[39mExpression) \u001b[38;5;129;01mand\u001b[39;00m output \u001b[38;5;129;01mis\u001b[39;00m \u001b[38;5;129;01mnot\u001b[39;00m \u001b[38;5;28mNotImplemented\u001b[39m:\n\u001b[0;32m     49\u001b[0m         warnings\u001b[38;5;241m.\u001b[39mwarn(SCIPY_WRAPPER_DEPRECATION_MESSAGE,\n\u001b[0;32m     50\u001b[0m                       category\u001b[38;5;241m=\u001b[39m\u001b[38;5;167;01mFutureWarning\u001b[39;00m)\n",
      "File \u001b[1;32m~\\anaconda3\\Lib\\site-packages\\scipy\\sparse\\_base.py:469\u001b[0m, in \u001b[0;36m_spbase.__add__\u001b[1;34m(self, other)\u001b[0m\n\u001b[0;32m    467\u001b[0m     \u001b[38;5;28;01mreturn\u001b[39;00m \u001b[38;5;28mself\u001b[39m\u001b[38;5;241m.\u001b[39m_add_sparse(other)\n\u001b[0;32m    468\u001b[0m \u001b[38;5;28;01melif\u001b[39;00m isdense(other):\n\u001b[1;32m--> 469\u001b[0m     other \u001b[38;5;241m=\u001b[39m np\u001b[38;5;241m.\u001b[39mbroadcast_to(other, \u001b[38;5;28mself\u001b[39m\u001b[38;5;241m.\u001b[39mshape)\n\u001b[0;32m    470\u001b[0m     \u001b[38;5;28;01mreturn\u001b[39;00m \u001b[38;5;28mself\u001b[39m\u001b[38;5;241m.\u001b[39m_add_dense(other)\n\u001b[0;32m    471\u001b[0m \u001b[38;5;28;01melse\u001b[39;00m:\n",
      "File \u001b[1;32m<__array_function__ internals>:200\u001b[0m, in \u001b[0;36mbroadcast_to\u001b[1;34m(*args, **kwargs)\u001b[0m\n",
      "File \u001b[1;32m~\\anaconda3\\Lib\\site-packages\\numpy\\lib\\stride_tricks.py:413\u001b[0m, in \u001b[0;36mbroadcast_to\u001b[1;34m(array, shape, subok)\u001b[0m\n\u001b[0;32m    367\u001b[0m \u001b[38;5;129m@array_function_dispatch\u001b[39m(_broadcast_to_dispatcher, module\u001b[38;5;241m=\u001b[39m\u001b[38;5;124m'\u001b[39m\u001b[38;5;124mnumpy\u001b[39m\u001b[38;5;124m'\u001b[39m)\n\u001b[0;32m    368\u001b[0m \u001b[38;5;28;01mdef\u001b[39;00m \u001b[38;5;21mbroadcast_to\u001b[39m(array, shape, subok\u001b[38;5;241m=\u001b[39m\u001b[38;5;28;01mFalse\u001b[39;00m):\n\u001b[0;32m    369\u001b[0m \u001b[38;5;250m    \u001b[39m\u001b[38;5;124;03m\"\"\"Broadcast an array to a new shape.\u001b[39;00m\n\u001b[0;32m    370\u001b[0m \n\u001b[0;32m    371\u001b[0m \u001b[38;5;124;03m    Parameters\u001b[39;00m\n\u001b[1;32m   (...)\u001b[0m\n\u001b[0;32m    411\u001b[0m \u001b[38;5;124;03m           [1, 2, 3]])\u001b[39;00m\n\u001b[0;32m    412\u001b[0m \u001b[38;5;124;03m    \"\"\"\u001b[39;00m\n\u001b[1;32m--> 413\u001b[0m     \u001b[38;5;28;01mreturn\u001b[39;00m _broadcast_to(array, shape, subok\u001b[38;5;241m=\u001b[39msubok, readonly\u001b[38;5;241m=\u001b[39m\u001b[38;5;28;01mTrue\u001b[39;00m)\n",
      "File \u001b[1;32m~\\anaconda3\\Lib\\site-packages\\numpy\\lib\\stride_tricks.py:349\u001b[0m, in \u001b[0;36m_broadcast_to\u001b[1;34m(array, shape, subok, readonly)\u001b[0m\n\u001b[0;32m    346\u001b[0m     \u001b[38;5;28;01mraise\u001b[39;00m \u001b[38;5;167;01mValueError\u001b[39;00m(\u001b[38;5;124m'\u001b[39m\u001b[38;5;124mall elements of broadcast shape must be non-\u001b[39m\u001b[38;5;124m'\u001b[39m\n\u001b[0;32m    347\u001b[0m                      \u001b[38;5;124m'\u001b[39m\u001b[38;5;124mnegative\u001b[39m\u001b[38;5;124m'\u001b[39m)\n\u001b[0;32m    348\u001b[0m extras \u001b[38;5;241m=\u001b[39m []\n\u001b[1;32m--> 349\u001b[0m it \u001b[38;5;241m=\u001b[39m np\u001b[38;5;241m.\u001b[39mnditer(\n\u001b[0;32m    350\u001b[0m     (array,), flags\u001b[38;5;241m=\u001b[39m[\u001b[38;5;124m'\u001b[39m\u001b[38;5;124mmulti_index\u001b[39m\u001b[38;5;124m'\u001b[39m, \u001b[38;5;124m'\u001b[39m\u001b[38;5;124mrefs_ok\u001b[39m\u001b[38;5;124m'\u001b[39m, \u001b[38;5;124m'\u001b[39m\u001b[38;5;124mzerosize_ok\u001b[39m\u001b[38;5;124m'\u001b[39m] \u001b[38;5;241m+\u001b[39m extras,\n\u001b[0;32m    351\u001b[0m     op_flags\u001b[38;5;241m=\u001b[39m[\u001b[38;5;124m'\u001b[39m\u001b[38;5;124mreadonly\u001b[39m\u001b[38;5;124m'\u001b[39m], itershape\u001b[38;5;241m=\u001b[39mshape, order\u001b[38;5;241m=\u001b[39m\u001b[38;5;124m'\u001b[39m\u001b[38;5;124mC\u001b[39m\u001b[38;5;124m'\u001b[39m)\n\u001b[0;32m    352\u001b[0m \u001b[38;5;28;01mwith\u001b[39;00m it:\n\u001b[0;32m    353\u001b[0m     \u001b[38;5;66;03m# never really has writebackifcopy semantics\u001b[39;00m\n\u001b[0;32m    354\u001b[0m     broadcast \u001b[38;5;241m=\u001b[39m it\u001b[38;5;241m.\u001b[39mitviews[\u001b[38;5;241m0\u001b[39m]\n",
      "\u001b[1;31mValueError\u001b[0m: operands could not be broadcast together with remapped shapes [original->remapped]: (542,)  and requested shape (60183,1)"
     ]
    }
   ],
   "source": [
    "start_time = time.time()\n",
    "n,d = A_full.shape\n",
    "c = d \n",
    "result_B = compute_sparse_B(A_full, c)\n",
    "\n",
    "\n",
    "end_time = time.time()\n",
    "total_execution_time = end_time - start_time\n",
    "print(f\"زمان ساخت ماتریس : {total_execution_time} ثانیه\")\n"
   ]
  },
  {
   "cell_type": "code",
   "execution_count": 10,
   "id": "da0050f2",
   "metadata": {
    "scrolled": true
   },
   "outputs": [
    {
     "ename": "ValueError",
     "evalue": "operands could not be broadcast together with remapped shapes [original->remapped]: (542,)  and requested shape (60183,1)",
     "output_type": "error",
     "traceback": [
      "\u001b[1;31m---------------------------------------------------------------------------\u001b[0m",
      "\u001b[1;31mValueError\u001b[0m                                Traceback (most recent call last)",
      "Cell \u001b[1;32mIn[10], line 2\u001b[0m\n\u001b[0;32m      1\u001b[0m c \u001b[38;5;241m=\u001b[39m n\n\u001b[1;32m----> 2\u001b[0m result_B \u001b[38;5;241m=\u001b[39m compute_sparse_B(A_full, c)\n\u001b[0;32m      4\u001b[0m process \u001b[38;5;241m=\u001b[39m psutil\u001b[38;5;241m.\u001b[39mProcess()\n\u001b[0;32m      5\u001b[0m memory_usage \u001b[38;5;241m=\u001b[39m process\u001b[38;5;241m.\u001b[39mmemory_info()\u001b[38;5;241m.\u001b[39mrss \u001b[38;5;241m/\u001b[39m \u001b[38;5;241m1024\u001b[39m \u001b[38;5;241m/\u001b[39m \u001b[38;5;241m1024\u001b[39m\n",
      "Cell \u001b[1;32mIn[8], line 24\u001b[0m, in \u001b[0;36mcompute_sparse_B\u001b[1;34m(A_full, c)\u001b[0m\n\u001b[0;32m     22\u001b[0m     pi \u001b[38;5;241m=\u001b[39m compute_probability(A_full[:, i])\n\u001b[0;32m     23\u001b[0m     \u001b[38;5;28;01mfor\u001b[39;00m j \u001b[38;5;129;01min\u001b[39;00m \u001b[38;5;28mrange\u001b[39m(c):\n\u001b[1;32m---> 24\u001b[0m         insert_and_rescale(B, i, j, pi)\n\u001b[0;32m     26\u001b[0m \u001b[38;5;28;01mreturn\u001b[39;00m B\n",
      "Cell \u001b[1;32mIn[8], line 11\u001b[0m, in \u001b[0;36minsert_and_rescale\u001b[1;34m(B, i, j, pi)\u001b[0m\n\u001b[0;32m     10\u001b[0m \u001b[38;5;28;01mdef\u001b[39;00m \u001b[38;5;21minsert_and_rescale\u001b[39m(B, i, j, pi):\n\u001b[1;32m---> 11\u001b[0m     B[:, j] \u001b[38;5;241m+\u001b[39m\u001b[38;5;241m=\u001b[39m pi \u001b[38;5;241m*\u001b[39m t_matrix[:, i]\n",
      "File \u001b[1;32m~\\anaconda3\\Lib\\site-packages\\cvxpy\\interface\\scipy_wrapper.py:47\u001b[0m, in \u001b[0;36mwrap_bin_op.<locals>.new_method\u001b[1;34m(self, other)\u001b[0m\n\u001b[0;32m     46\u001b[0m \u001b[38;5;28;01mdef\u001b[39;00m \u001b[38;5;21mnew_method\u001b[39m(\u001b[38;5;28mself\u001b[39m, other):\n\u001b[1;32m---> 47\u001b[0m     output \u001b[38;5;241m=\u001b[39m method(\u001b[38;5;28mself\u001b[39m, other)\n\u001b[0;32m     48\u001b[0m     \u001b[38;5;28;01mif\u001b[39;00m \u001b[38;5;28misinstance\u001b[39m(other, exp\u001b[38;5;241m.\u001b[39mExpression) \u001b[38;5;129;01mand\u001b[39;00m output \u001b[38;5;129;01mis\u001b[39;00m \u001b[38;5;129;01mnot\u001b[39;00m \u001b[38;5;28mNotImplemented\u001b[39m:\n\u001b[0;32m     49\u001b[0m         warnings\u001b[38;5;241m.\u001b[39mwarn(SCIPY_WRAPPER_DEPRECATION_MESSAGE,\n\u001b[0;32m     50\u001b[0m                       category\u001b[38;5;241m=\u001b[39m\u001b[38;5;167;01mFutureWarning\u001b[39;00m)\n",
      "File \u001b[1;32m~\\anaconda3\\Lib\\site-packages\\scipy\\sparse\\_base.py:469\u001b[0m, in \u001b[0;36m_spbase.__add__\u001b[1;34m(self, other)\u001b[0m\n\u001b[0;32m    467\u001b[0m     \u001b[38;5;28;01mreturn\u001b[39;00m \u001b[38;5;28mself\u001b[39m\u001b[38;5;241m.\u001b[39m_add_sparse(other)\n\u001b[0;32m    468\u001b[0m \u001b[38;5;28;01melif\u001b[39;00m isdense(other):\n\u001b[1;32m--> 469\u001b[0m     other \u001b[38;5;241m=\u001b[39m np\u001b[38;5;241m.\u001b[39mbroadcast_to(other, \u001b[38;5;28mself\u001b[39m\u001b[38;5;241m.\u001b[39mshape)\n\u001b[0;32m    470\u001b[0m     \u001b[38;5;28;01mreturn\u001b[39;00m \u001b[38;5;28mself\u001b[39m\u001b[38;5;241m.\u001b[39m_add_dense(other)\n\u001b[0;32m    471\u001b[0m \u001b[38;5;28;01melse\u001b[39;00m:\n",
      "File \u001b[1;32m<__array_function__ internals>:200\u001b[0m, in \u001b[0;36mbroadcast_to\u001b[1;34m(*args, **kwargs)\u001b[0m\n",
      "File \u001b[1;32m~\\anaconda3\\Lib\\site-packages\\numpy\\lib\\stride_tricks.py:413\u001b[0m, in \u001b[0;36mbroadcast_to\u001b[1;34m(array, shape, subok)\u001b[0m\n\u001b[0;32m    367\u001b[0m \u001b[38;5;129m@array_function_dispatch\u001b[39m(_broadcast_to_dispatcher, module\u001b[38;5;241m=\u001b[39m\u001b[38;5;124m'\u001b[39m\u001b[38;5;124mnumpy\u001b[39m\u001b[38;5;124m'\u001b[39m)\n\u001b[0;32m    368\u001b[0m \u001b[38;5;28;01mdef\u001b[39;00m \u001b[38;5;21mbroadcast_to\u001b[39m(array, shape, subok\u001b[38;5;241m=\u001b[39m\u001b[38;5;28;01mFalse\u001b[39;00m):\n\u001b[0;32m    369\u001b[0m \u001b[38;5;250m    \u001b[39m\u001b[38;5;124;03m\"\"\"Broadcast an array to a new shape.\u001b[39;00m\n\u001b[0;32m    370\u001b[0m \n\u001b[0;32m    371\u001b[0m \u001b[38;5;124;03m    Parameters\u001b[39;00m\n\u001b[1;32m   (...)\u001b[0m\n\u001b[0;32m    411\u001b[0m \u001b[38;5;124;03m           [1, 2, 3]])\u001b[39;00m\n\u001b[0;32m    412\u001b[0m \u001b[38;5;124;03m    \"\"\"\u001b[39;00m\n\u001b[1;32m--> 413\u001b[0m     \u001b[38;5;28;01mreturn\u001b[39;00m _broadcast_to(array, shape, subok\u001b[38;5;241m=\u001b[39msubok, readonly\u001b[38;5;241m=\u001b[39m\u001b[38;5;28;01mTrue\u001b[39;00m)\n",
      "File \u001b[1;32m~\\anaconda3\\Lib\\site-packages\\numpy\\lib\\stride_tricks.py:349\u001b[0m, in \u001b[0;36m_broadcast_to\u001b[1;34m(array, shape, subok, readonly)\u001b[0m\n\u001b[0;32m    346\u001b[0m     \u001b[38;5;28;01mraise\u001b[39;00m \u001b[38;5;167;01mValueError\u001b[39;00m(\u001b[38;5;124m'\u001b[39m\u001b[38;5;124mall elements of broadcast shape must be non-\u001b[39m\u001b[38;5;124m'\u001b[39m\n\u001b[0;32m    347\u001b[0m                      \u001b[38;5;124m'\u001b[39m\u001b[38;5;124mnegative\u001b[39m\u001b[38;5;124m'\u001b[39m)\n\u001b[0;32m    348\u001b[0m extras \u001b[38;5;241m=\u001b[39m []\n\u001b[1;32m--> 349\u001b[0m it \u001b[38;5;241m=\u001b[39m np\u001b[38;5;241m.\u001b[39mnditer(\n\u001b[0;32m    350\u001b[0m     (array,), flags\u001b[38;5;241m=\u001b[39m[\u001b[38;5;124m'\u001b[39m\u001b[38;5;124mmulti_index\u001b[39m\u001b[38;5;124m'\u001b[39m, \u001b[38;5;124m'\u001b[39m\u001b[38;5;124mrefs_ok\u001b[39m\u001b[38;5;124m'\u001b[39m, \u001b[38;5;124m'\u001b[39m\u001b[38;5;124mzerosize_ok\u001b[39m\u001b[38;5;124m'\u001b[39m] \u001b[38;5;241m+\u001b[39m extras,\n\u001b[0;32m    351\u001b[0m     op_flags\u001b[38;5;241m=\u001b[39m[\u001b[38;5;124m'\u001b[39m\u001b[38;5;124mreadonly\u001b[39m\u001b[38;5;124m'\u001b[39m], itershape\u001b[38;5;241m=\u001b[39mshape, order\u001b[38;5;241m=\u001b[39m\u001b[38;5;124m'\u001b[39m\u001b[38;5;124mC\u001b[39m\u001b[38;5;124m'\u001b[39m)\n\u001b[0;32m    352\u001b[0m \u001b[38;5;28;01mwith\u001b[39;00m it:\n\u001b[0;32m    353\u001b[0m     \u001b[38;5;66;03m# never really has writebackifcopy semantics\u001b[39;00m\n\u001b[0;32m    354\u001b[0m     broadcast \u001b[38;5;241m=\u001b[39m it\u001b[38;5;241m.\u001b[39mitviews[\u001b[38;5;241m0\u001b[39m]\n",
      "\u001b[1;31mValueError\u001b[0m: operands could not be broadcast together with remapped shapes [original->remapped]: (542,)  and requested shape (60183,1)"
     ]
    }
   ],
   "source": [
    "c = n\n",
    "result_B = compute_sparse_B(A_full, c)\n",
    "\n",
    "process = psutil.Process()\n",
    "memory_usage = process.memory_info().rss / 1024 / 1024\n",
    "\n",
    "print(f\"میزان حافظه مصرفی: {memory_usage:.2f} مگابایت\")\n"
   ]
  },
  {
   "cell_type": "code",
   "execution_count": 12,
   "id": "21ce2b1c",
   "metadata": {},
   "outputs": [
    {
     "data": {
      "text/plain": [
       "<60183x60183 sparse matrix of type '<class 'numpy.float64'>'\n",
       "\twith 0 stored elements in Compressed Sparse Row format>"
      ]
     },
     "execution_count": 12,
     "metadata": {},
     "output_type": "execute_result"
    }
   ],
   "source": [
    "result_B"
   ]
  },
  {
   "cell_type": "code",
   "execution_count": 30,
   "id": "35b15df7",
   "metadata": {
    "collapsed": true
   },
   "outputs": [
    {
     "ename": "ValueError",
     "evalue": "operands could not be broadcast together with remapped shapes [original->remapped]: (542,)  and requested shape (60183,1)",
     "output_type": "error",
     "traceback": [
      "\u001b[1;31m---------------------------------------------------------------------------\u001b[0m",
      "\u001b[1;31mValueError\u001b[0m                                Traceback (most recent call last)",
      "Cell \u001b[1;32mIn[30], line 5\u001b[0m\n\u001b[0;32m      3\u001b[0m max_c \u001b[38;5;241m=\u001b[39m A_sparse\u001b[38;5;241m.\u001b[39mshape[\u001b[38;5;241m1\u001b[39m] \n\u001b[0;32m      4\u001b[0m c \u001b[38;5;241m=\u001b[39m random\u001b[38;5;241m.\u001b[39mrandint(min_c, max_c)\n\u001b[1;32m----> 5\u001b[0m B \u001b[38;5;241m=\u001b[39m compute_sparse_B(A_full, c)\n",
      "Cell \u001b[1;32mIn[22], line 24\u001b[0m, in \u001b[0;36mcompute_sparse_B\u001b[1;34m(A_full, c)\u001b[0m\n\u001b[0;32m     22\u001b[0m     pi \u001b[38;5;241m=\u001b[39m compute_probability(A_full[:, i])\n\u001b[0;32m     23\u001b[0m     \u001b[38;5;28;01mfor\u001b[39;00m j \u001b[38;5;129;01min\u001b[39;00m \u001b[38;5;28mrange\u001b[39m(c):\n\u001b[1;32m---> 24\u001b[0m         insert_and_rescale(B, i, j, pi)\n\u001b[0;32m     26\u001b[0m \u001b[38;5;28;01mreturn\u001b[39;00m B\n",
      "Cell \u001b[1;32mIn[22], line 11\u001b[0m, in \u001b[0;36minsert_and_rescale\u001b[1;34m(B, i, j, pi)\u001b[0m\n\u001b[0;32m     10\u001b[0m \u001b[38;5;28;01mdef\u001b[39;00m \u001b[38;5;21minsert_and_rescale\u001b[39m(B, i, j, pi):\n\u001b[1;32m---> 11\u001b[0m     B[:, j] \u001b[38;5;241m+\u001b[39m\u001b[38;5;241m=\u001b[39m pi \u001b[38;5;241m*\u001b[39m t_matrix[:, i]\n",
      "File \u001b[1;32m~\\anaconda3\\Lib\\site-packages\\cvxpy\\interface\\scipy_wrapper.py:47\u001b[0m, in \u001b[0;36mwrap_bin_op.<locals>.new_method\u001b[1;34m(self, other)\u001b[0m\n\u001b[0;32m     46\u001b[0m \u001b[38;5;28;01mdef\u001b[39;00m \u001b[38;5;21mnew_method\u001b[39m(\u001b[38;5;28mself\u001b[39m, other):\n\u001b[1;32m---> 47\u001b[0m     output \u001b[38;5;241m=\u001b[39m method(\u001b[38;5;28mself\u001b[39m, other)\n\u001b[0;32m     48\u001b[0m     \u001b[38;5;28;01mif\u001b[39;00m \u001b[38;5;28misinstance\u001b[39m(other, exp\u001b[38;5;241m.\u001b[39mExpression) \u001b[38;5;129;01mand\u001b[39;00m output \u001b[38;5;129;01mis\u001b[39;00m \u001b[38;5;129;01mnot\u001b[39;00m \u001b[38;5;28mNotImplemented\u001b[39m:\n\u001b[0;32m     49\u001b[0m         warnings\u001b[38;5;241m.\u001b[39mwarn(SCIPY_WRAPPER_DEPRECATION_MESSAGE,\n\u001b[0;32m     50\u001b[0m                       category\u001b[38;5;241m=\u001b[39m\u001b[38;5;167;01mFutureWarning\u001b[39;00m)\n",
      "File \u001b[1;32m~\\anaconda3\\Lib\\site-packages\\scipy\\sparse\\_base.py:469\u001b[0m, in \u001b[0;36m_spbase.__add__\u001b[1;34m(self, other)\u001b[0m\n\u001b[0;32m    467\u001b[0m     \u001b[38;5;28;01mreturn\u001b[39;00m \u001b[38;5;28mself\u001b[39m\u001b[38;5;241m.\u001b[39m_add_sparse(other)\n\u001b[0;32m    468\u001b[0m \u001b[38;5;28;01melif\u001b[39;00m isdense(other):\n\u001b[1;32m--> 469\u001b[0m     other \u001b[38;5;241m=\u001b[39m np\u001b[38;5;241m.\u001b[39mbroadcast_to(other, \u001b[38;5;28mself\u001b[39m\u001b[38;5;241m.\u001b[39mshape)\n\u001b[0;32m    470\u001b[0m     \u001b[38;5;28;01mreturn\u001b[39;00m \u001b[38;5;28mself\u001b[39m\u001b[38;5;241m.\u001b[39m_add_dense(other)\n\u001b[0;32m    471\u001b[0m \u001b[38;5;28;01melse\u001b[39;00m:\n",
      "File \u001b[1;32m<__array_function__ internals>:200\u001b[0m, in \u001b[0;36mbroadcast_to\u001b[1;34m(*args, **kwargs)\u001b[0m\n",
      "File \u001b[1;32m~\\anaconda3\\Lib\\site-packages\\numpy\\lib\\stride_tricks.py:413\u001b[0m, in \u001b[0;36mbroadcast_to\u001b[1;34m(array, shape, subok)\u001b[0m\n\u001b[0;32m    367\u001b[0m \u001b[38;5;129m@array_function_dispatch\u001b[39m(_broadcast_to_dispatcher, module\u001b[38;5;241m=\u001b[39m\u001b[38;5;124m'\u001b[39m\u001b[38;5;124mnumpy\u001b[39m\u001b[38;5;124m'\u001b[39m)\n\u001b[0;32m    368\u001b[0m \u001b[38;5;28;01mdef\u001b[39;00m \u001b[38;5;21mbroadcast_to\u001b[39m(array, shape, subok\u001b[38;5;241m=\u001b[39m\u001b[38;5;28;01mFalse\u001b[39;00m):\n\u001b[0;32m    369\u001b[0m \u001b[38;5;250m    \u001b[39m\u001b[38;5;124;03m\"\"\"Broadcast an array to a new shape.\u001b[39;00m\n\u001b[0;32m    370\u001b[0m \n\u001b[0;32m    371\u001b[0m \u001b[38;5;124;03m    Parameters\u001b[39;00m\n\u001b[1;32m   (...)\u001b[0m\n\u001b[0;32m    411\u001b[0m \u001b[38;5;124;03m           [1, 2, 3]])\u001b[39;00m\n\u001b[0;32m    412\u001b[0m \u001b[38;5;124;03m    \"\"\"\u001b[39;00m\n\u001b[1;32m--> 413\u001b[0m     \u001b[38;5;28;01mreturn\u001b[39;00m _broadcast_to(array, shape, subok\u001b[38;5;241m=\u001b[39msubok, readonly\u001b[38;5;241m=\u001b[39m\u001b[38;5;28;01mTrue\u001b[39;00m)\n",
      "File \u001b[1;32m~\\anaconda3\\Lib\\site-packages\\numpy\\lib\\stride_tricks.py:349\u001b[0m, in \u001b[0;36m_broadcast_to\u001b[1;34m(array, shape, subok, readonly)\u001b[0m\n\u001b[0;32m    346\u001b[0m     \u001b[38;5;28;01mraise\u001b[39;00m \u001b[38;5;167;01mValueError\u001b[39;00m(\u001b[38;5;124m'\u001b[39m\u001b[38;5;124mall elements of broadcast shape must be non-\u001b[39m\u001b[38;5;124m'\u001b[39m\n\u001b[0;32m    347\u001b[0m                      \u001b[38;5;124m'\u001b[39m\u001b[38;5;124mnegative\u001b[39m\u001b[38;5;124m'\u001b[39m)\n\u001b[0;32m    348\u001b[0m extras \u001b[38;5;241m=\u001b[39m []\n\u001b[1;32m--> 349\u001b[0m it \u001b[38;5;241m=\u001b[39m np\u001b[38;5;241m.\u001b[39mnditer(\n\u001b[0;32m    350\u001b[0m     (array,), flags\u001b[38;5;241m=\u001b[39m[\u001b[38;5;124m'\u001b[39m\u001b[38;5;124mmulti_index\u001b[39m\u001b[38;5;124m'\u001b[39m, \u001b[38;5;124m'\u001b[39m\u001b[38;5;124mrefs_ok\u001b[39m\u001b[38;5;124m'\u001b[39m, \u001b[38;5;124m'\u001b[39m\u001b[38;5;124mzerosize_ok\u001b[39m\u001b[38;5;124m'\u001b[39m] \u001b[38;5;241m+\u001b[39m extras,\n\u001b[0;32m    351\u001b[0m     op_flags\u001b[38;5;241m=\u001b[39m[\u001b[38;5;124m'\u001b[39m\u001b[38;5;124mreadonly\u001b[39m\u001b[38;5;124m'\u001b[39m], itershape\u001b[38;5;241m=\u001b[39mshape, order\u001b[38;5;241m=\u001b[39m\u001b[38;5;124m'\u001b[39m\u001b[38;5;124mC\u001b[39m\u001b[38;5;124m'\u001b[39m)\n\u001b[0;32m    352\u001b[0m \u001b[38;5;28;01mwith\u001b[39;00m it:\n\u001b[0;32m    353\u001b[0m     \u001b[38;5;66;03m# never really has writebackifcopy semantics\u001b[39;00m\n\u001b[0;32m    354\u001b[0m     broadcast \u001b[38;5;241m=\u001b[39m it\u001b[38;5;241m.\u001b[39mitviews[\u001b[38;5;241m0\u001b[39m]\n",
      "\u001b[1;31mValueError\u001b[0m: operands could not be broadcast together with remapped shapes [original->remapped]: (542,)  and requested shape (60183,1)"
     ]
    }
   ],
   "source": [
    "#c = 542   # با مقادیر بیشتر ارور میده\n",
    "min_c = 1\n",
    "max_c = A_sparse.shape[1] \n",
    "c = random.randint(min_c, max_c)\n",
    "B = compute_sparse_B(A_full, c)"
   ]
  },
  {
   "cell_type": "code",
   "execution_count": 14,
   "id": "0d300378",
   "metadata": {},
   "outputs": [
    {
     "data": {
      "text/plain": [
       "<60183x60183 sparse matrix of type '<class 'numpy.float64'>'\n",
       "\twith 0 stored elements in Compressed Sparse Row format>"
      ]
     },
     "execution_count": 14,
     "metadata": {},
     "output_type": "execute_result"
    }
   ],
   "source": [
    "B"
   ]
  },
  {
   "cell_type": "code",
   "execution_count": 15,
   "id": "15987beb",
   "metadata": {},
   "outputs": [
    {
     "data": {
      "text/plain": [
       "(60183, 60183)"
      ]
     },
     "execution_count": 15,
     "metadata": {},
     "output_type": "execute_result"
    }
   ],
   "source": [
    "B.shape"
   ]
  },
  {
   "cell_type": "code",
   "execution_count": 16,
   "id": "fee85e26",
   "metadata": {},
   "outputs": [
    {
     "data": {
      "text/plain": [
       "335573"
      ]
     },
     "execution_count": 16,
     "metadata": {},
     "output_type": "execute_result"
    }
   ],
   "source": [
    "num_non_zero_elements_A = A_sparse.getnnz()  # تعداد عناصر غیر صفر\n",
    "num_non_zero_elements_A"
   ]
  },
  {
   "cell_type": "code",
   "execution_count": 17,
   "id": "d236a1d3",
   "metadata": {},
   "outputs": [
    {
     "data": {
      "text/plain": [
       "0"
      ]
     },
     "execution_count": 17,
     "metadata": {},
     "output_type": "execute_result"
    }
   ],
   "source": [
    "num_non_zero_elements_B = B.getnnz()  # تعداد عناصر غیر صفر\n",
    "num_non_zero_elements_B"
   ]
  },
  {
   "cell_type": "code",
   "execution_count": 25,
   "id": "e3fbe075",
   "metadata": {},
   "outputs": [],
   "source": [
    "sol_ls_B_sparse = scipy.sparse.linalg.lsqr(B, dose_sparse_1d)"
   ]
  },
  {
   "cell_type": "code",
   "execution_count": 19,
   "id": "3e0b50a8",
   "metadata": {},
   "outputs": [
    {
     "name": "stdout",
     "output_type": "stream",
     "text": [
      "میزان حافظه مصرفی: 120 بایت\n"
     ]
    }
   ],
   "source": [
    "sol_ls_B_sparse = scipy.sparse.linalg.lsqr(B, dose_sparse_1d)\n",
    "\n",
    "# میزان حافظه مصرفی توسط متغیر sol_ls_B_sparse\n",
    "memory_usage = sys.getsizeof(sol_ls_B_sparse)\n",
    "print(f\"میزان حافظه مصرفی: {memory_usage} بایت\")\n"
   ]
  },
  {
   "cell_type": "code",
   "execution_count": 20,
   "id": "9f6c6fac",
   "metadata": {},
   "outputs": [
    {
     "name": "stdout",
     "output_type": "stream",
     "text": [
      "         319 function calls in 0.002 seconds\n",
      "\n",
      "   Ordered by: cumulative time\n",
      "\n",
      "   ncalls  tottime  percall  cumtime  percall filename:lineno(function)\n",
      "        1    0.000    0.000    0.002    0.002 {built-in method builtins.exec}\n",
      "        1    0.000    0.000    0.002    0.002 <string>:1(<module>)\n",
      "        1    0.000    0.000    0.002    0.002 1974681953.py:1(my_function)\n",
      "        1    0.000    0.000    0.002    0.002 lsqr.py:96(lsqr)\n",
      "        1    0.000    0.000    0.001    0.001 _interface.py:250(rmatvec)\n",
      "        1    0.000    0.000    0.001    0.001 _interface.py:297(_rmatvec)\n",
      "        1    0.000    0.000    0.001    0.001 _interface.py:531(adjoint)\n",
      "        1    0.000    0.000    0.001    0.001 _interface.py:800(_adjoint)\n",
      "        1    0.000    0.000    0.001    0.001 _interface.py:806(__init__)\n",
      "        2    0.000    0.000    0.000    0.000 _compressed.py:25(__init__)\n",
      "       13    0.000    0.000    0.000    0.000 {built-in method numpy.core._multiarray_umath.implement_array_function}\n",
      "        2    0.000    0.000    0.000    0.000 <__array_function__ internals>:177(norm)\n",
      "        2    0.000    0.000    0.000    0.000 linalg.py:2342(norm)\n",
      "        1    0.000    0.000    0.000    0.000 _base.py:725(T)\n",
      "        4    0.000    0.000    0.000    0.000 {method 'copy' of 'numpy.ndarray' objects}\n",
      "        1    0.000    0.000    0.000    0.000 _csr.py:140(transpose)\n",
      "        2    0.000    0.000    0.000    0.000 {method 'dot' of 'numpy.ndarray' objects}\n",
      "        4    0.000    0.000    0.000    0.000 _base.py:1269(_get_index_dtype)\n",
      "        1    0.000    0.000    0.000    0.000 _base.py:799(conj)\n",
      "        1    0.000    0.000    0.000    0.000 _data.py:83(conjugate)\n",
      "        1    0.000    0.000    0.000    0.000 _data.py:93(copy)\n",
      "        1    0.000    0.000    0.000    0.000 _compressed.py:1223(_with_data)\n",
      "        4    0.000    0.000    0.000    0.000 _sputils.py:147(get_index_dtype)\n",
      "        1    0.000    0.000    0.000    0.000 _interface.py:203(matvec)\n",
      "        1    0.000    0.000    0.000    0.000 _interface.py:191(_matvec)\n",
      "        1    0.000    0.000    0.000    0.000 _interface.py:305(matmat)\n",
      "        3    0.000    0.000    0.000    0.000 {built-in method numpy.zeros}\n",
      "        1    0.000    0.000    0.000    0.000 _interface.py:797(_matmat)\n",
      "        1    0.000    0.000    0.000    0.000 _base.py:395(dot)\n",
      "        2    0.000    0.000    0.000    0.000 _compressed.py:135(check_format)\n",
      "        1    0.000    0.000    0.000    0.000 _base.py:620(__matmul__)\n",
      "        1    0.000    0.000    0.000    0.000 _interface.py:840(aslinearoperator)\n",
      "        1    0.000    0.000    0.000    0.000 _base.py:505(_mul_dispatch)\n",
      "        1    0.000    0.000    0.000    0.000 _compressed.py:479(_mul_vector)\n",
      "        1    0.000    0.000    0.000    0.000 _interface.py:791(__init__)\n",
      "        1    0.000    0.000    0.000    0.000 _interface.py:159(__init__)\n",
      "        3    0.000    0.000    0.000    0.000 _sputils.py:238(isshape)\n",
      "        8    0.000    0.000    0.000    0.000 getlimits.py:668(__init__)\n",
      "        1    0.000    0.000    0.000    0.000 {built-in method scipy.sparse._sparsetools.csc_matvec}\n",
      "        2    0.000    0.000    0.000    0.000 _sputils.py:216(isintlike)\n",
      "        2    0.000    0.000    0.000    0.000 _compressed.py:1167(prune)\n",
      "        8    0.000    0.000    0.000    0.000 <__array_function__ internals>:177(can_cast)\n",
      "        2    0.000    0.000    0.000    0.000 <__array_function__ internals>:177(ndim)\n",
      "        2    0.000    0.000    0.000    0.000 _sputils.py:294(check_shape)\n",
      "        1    0.000    0.000    0.000    0.000 _matrix.py:21(_csc_container)\n",
      "        2    0.000    0.000    0.000    0.000 fromnumeric.py:3152(ndim)\n",
      "        2    0.000    0.000    0.000    0.000 _interface.py:144(__new__)\n",
      "        1    0.000    0.000    0.000    0.000 numerictypes.py:356(issubdtype)\n",
      "        2    0.000    0.000    0.000    0.000 numeric.py:1878(isscalar)\n",
      "        8    0.000    0.000    0.000    0.000 _base.py:286(nnz)\n",
      "        1    0.000    0.000    0.000    0.000 <__array_function__ internals>:177(atleast_1d)\n",
      "       21    0.000    0.000    0.000    0.000 {built-in method builtins.isinstance}\n",
      "        5    0.000    0.000    0.000    0.000 <frozen importlib._bootstrap>:405(parent)\n",
      "       18    0.000    0.000    0.000    0.000 {built-in method numpy.asarray}\n",
      "        2    0.000    0.000    0.000    0.000 _data.py:20(__init__)\n",
      "        1    0.000    0.000    0.000    0.000 shape_base.py:23(atleast_1d)\n",
      "        1    0.000    0.000    0.000    0.000 {method 'copy' of 'numpy.generic' objects}\n",
      "        8    0.000    0.000    0.000    0.000 _compressed.py:107(_getnnz)\n",
      "        2    0.000    0.000    0.000    0.000 numerictypes.py:282(issubclass_)\n",
      "        1    0.000    0.000    0.000    0.000 _sputils.py:360(is_pydata_spmatrix)\n",
      "        1    0.000    0.000    0.000    0.000 _sputils.py:211(isscalarlike)\n",
      "        4    0.000    0.000    0.000    0.000 getlimits.py:679(min)\n",
      "        2    0.000    0.000    0.000    0.000 _base.py:108(__init__)\n",
      "        4    0.000    0.000    0.000    0.000 _base.py:1461(issparse)\n",
      "        2    0.000    0.000    0.000    0.000 <frozen abc>:117(__instancecheck__)\n",
      "        6    0.000    0.000    0.000    0.000 _sputils.py:307(<genexpr>)\n",
      "        4    0.000    0.000    0.000    0.000 {method 'reshape' of 'numpy.ndarray' objects}\n",
      "       30    0.000    0.000    0.000    0.000 {built-in method builtins.len}\n",
      "        4    0.000    0.000    0.000    0.000 _util.py:144(_prune_array)\n",
      "        3    0.000    0.000    0.000    0.000 {method 'ravel' of 'numpy.ndarray' objects}\n",
      "        4    0.000    0.000    0.000    0.000 getlimits.py:692(max)\n",
      "        2    0.000    0.000    0.000    0.000 {built-in method builtins.any}\n",
      "        3    0.000    0.000    0.000    0.000 _data.py:23(_get_dtype)\n",
      "        6    0.000    0.000    0.000    0.000 {built-in method numpy.array}\n",
      "        7    0.000    0.000    0.000    0.000 {built-in method builtins.issubclass}\n",
      "        5    0.000    0.000    0.000    0.000 {method 'rpartition' of 'str' objects}\n",
      "        6    0.000    0.000    0.000    0.000 _csc.py:234(_swap)\n",
      "        2    0.000    0.000    0.000    0.000 {built-in method _abc._abc_instancecheck}\n",
      "        2    0.000    0.000    0.000    0.000 {built-in method __new__ of type object at 0x00007FFED10CA4B0}\n",
      "        9    0.000    0.000    0.000    0.000 _matrix.py:90(get_shape)\n",
      "        2    0.000    0.000    0.000    0.000 linalg.py:117(isComplexType)\n",
      "        1    0.000    0.000    0.000    0.000 _sputils.py:56(upcast_char)\n",
      "        2    0.000    0.000    0.000    0.000 {built-in method builtins.getattr}\n",
      "        2    0.000    0.000    0.000    0.000 {built-in method builtins.max}\n",
      "        6    0.000    0.000    0.000    0.000 _sputils.py:312(<genexpr>)\n",
      "        2    0.000    0.000    0.000    0.000 {method 'get' of 'dict' objects}\n",
      "        8    0.000    0.000    0.000    0.000 multiarray.py:502(can_cast)\n",
      "        6    0.000    0.000    0.000    0.000 {built-in method _operator.index}\n",
      "        2    0.000    0.000    0.000    0.000 _sputils.py:93(to_native)\n",
      "        4    0.000    0.000    0.000    0.000 {built-in method numpy.asanyarray}\n",
      "        1    0.000    0.000    0.000    0.000 {method 'astype' of 'numpy.ndarray' objects}\n",
      "        1    0.000    0.000    0.000    0.000 _sputils.py:267(isdense)\n",
      "        1    0.000    0.000    0.000    0.000 _base.py:296(format)\n",
      "        2    0.000    0.000    0.000    0.000 fromnumeric.py:3148(_ndim_dispatcher)\n",
      "        2    0.000    0.000    0.000    0.000 linalg.py:2338(_norm_dispatcher)\n",
      "        1    0.000    0.000    0.000    0.000 {method 'disable' of '_lsprof.Profiler' objects}\n",
      "        1    0.000    0.000    0.000    0.000 {method 'append' of 'list' objects}\n",
      "        1    0.000    0.000    0.000    0.000 shape_base.py:19(_atleast_1d_dispatcher)\n",
      "\n",
      "\n"
     ]
    }
   ],
   "source": [
    "def my_function():\n",
    "    sol_ls_B_sparse = scipy.sparse.linalg.lsqr(B, dose_sparse_1d)\n",
    "\n",
    "cProfile.run(\"my_function()\", sort=\"cumulative\")\n"
   ]
  },
  {
   "cell_type": "code",
   "execution_count": null,
   "id": "375d02f3",
   "metadata": {},
   "outputs": [],
   "source": []
  }
 ],
 "metadata": {
  "kernelspec": {
   "display_name": "Python 3 (ipykernel)",
   "language": "python",
   "name": "python3"
  },
  "language_info": {
   "codemirror_mode": {
    "name": "ipython",
    "version": 3
   },
   "file_extension": ".py",
   "mimetype": "text/x-python",
   "name": "python",
   "nbconvert_exporter": "python",
   "pygments_lexer": "ipython3",
   "version": "3.11.5"
  }
 },
 "nbformat": 4,
 "nbformat_minor": 5
}
