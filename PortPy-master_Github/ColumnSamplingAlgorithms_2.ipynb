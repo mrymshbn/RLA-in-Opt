{
 "cells": [
  {
   "cell_type": "code",
   "execution_count": 1,
   "id": "4ef9f6bc",
   "metadata": {},
   "outputs": [],
   "source": [
    "import scipy\n",
    "import random\n",
    "import portpy.photon as pp\n",
    "import numpy as np\n",
    "from cvxpy import *\n",
    "from scipy import sparse\n",
    "import sklearn.metrics\n",
    "import cProfile\n",
    "import time\n",
    "import sys\n",
    "import psutil\n",
    "import cvxpy as cp\n",
    "from scipy.linalg import LinAlgError\n",
    "import matplotlib.pyplot as plt"
   ]
  },
  {
   "cell_type": "code",
   "execution_count": 2,
   "id": "de286b8e",
   "metadata": {},
   "outputs": [
    {
     "name": "stdout",
     "output_type": "stream",
     "text": [
      "creating rinds.. This step may take some time due to dilation\n",
      "rinds created!!\n",
      "Creating BEV..\n",
      "Loading sparse influence matrix...\n",
      "Done\n",
      "Objective Start\n",
      "Objective done\n",
      "Constraints Start\n",
      "Structure ESOPHAGUS not available!\n",
      "Structure ESOPHAGUS not available!\n",
      "Constraints done\n",
      "===============================================================================\n",
      "                                     CVXPY                                     \n",
      "                                     v1.4.1                                    \n",
      "===============================================================================\n",
      "(CVXPY) Jan 28 02:47:26 PM: Your problem has 1946 variables, 14 constraints, and 0 parameters.\n",
      "(CVXPY) Jan 28 02:47:26 PM: It is compliant with the following grammars: DCP, DQCP\n",
      "(CVXPY) Jan 28 02:47:26 PM: (If you need to solve this problem multiple times, but with different data, consider using parameters.)\n",
      "(CVXPY) Jan 28 02:47:26 PM: CVXPY will first compile your problem; then, it will invoke a numerical solver to obtain a solution.\n",
      "(CVXPY) Jan 28 02:47:26 PM: Your problem is compiled with the CPP canonicalization backend.\n",
      "-------------------------------------------------------------------------------\n",
      "                                  Compilation                                  \n",
      "-------------------------------------------------------------------------------\n",
      "(CVXPY) Jan 28 02:47:26 PM: Compiling problem (target solver=MOSEK).\n",
      "(CVXPY) Jan 28 02:47:26 PM: Reduction chain: Dcp2Cone -> CvxAttr2Constr -> ConeMatrixStuffing -> MOSEK\n",
      "(CVXPY) Jan 28 02:47:26 PM: Applying reduction Dcp2Cone\n",
      "(CVXPY) Jan 28 02:47:26 PM: Applying reduction CvxAttr2Constr\n",
      "(CVXPY) Jan 28 02:47:26 PM: Applying reduction ConeMatrixStuffing\n",
      "(CVXPY) Jan 28 02:47:27 PM: Applying reduction MOSEK\n",
      "(CVXPY) Jan 28 02:47:27 PM: Finished problem compilation (took 1.405e+00 seconds).\n",
      "-------------------------------------------------------------------------------\n",
      "                                Numerical solver                               \n",
      "-------------------------------------------------------------------------------\n",
      "(CVXPY) Jan 28 02:47:27 PM: Invoking solver MOSEK  to obtain a solution.\n",
      "\n",
      "\n",
      "(CVXPY) Jan 28 02:47:28 PM: Problem\n",
      "(CVXPY) Jan 28 02:47:28 PM:   Name                   :                 \n",
      "(CVXPY) Jan 28 02:47:28 PM:   Objective sense        : maximize        \n",
      "(CVXPY) Jan 28 02:47:28 PM:   Type                   : CONIC (conic optimization problem)\n",
      "(CVXPY) Jan 28 02:47:28 PM:   Constraints            : 1959            \n",
      "(CVXPY) Jan 28 02:47:28 PM:   Affine conic cons.     : 0               \n",
      "(CVXPY) Jan 28 02:47:28 PM:   Disjunctive cons.      : 0               \n",
      "(CVXPY) Jan 28 02:47:28 PM:   Cones                  : 13              \n",
      "(CVXPY) Jan 28 02:47:28 PM:   Scalar variables       : 215748          \n",
      "(CVXPY) Jan 28 02:47:28 PM:   Matrix variables       : 0               \n",
      "(CVXPY) Jan 28 02:47:28 PM:   Integer variables      : 0               \n",
      "(CVXPY) Jan 28 02:47:28 PM: \n",
      "(CVXPY) Jan 28 02:47:28 PM: Optimizer started.\n",
      "(CVXPY) Jan 28 02:47:28 PM: Presolve started.\n",
      "(CVXPY) Jan 28 02:47:28 PM: Linear dependency checker started.\n",
      "(CVXPY) Jan 28 02:47:28 PM: Linear dependency checker terminated.\n",
      "(CVXPY) Jan 28 02:47:28 PM: Eliminator started.\n",
      "(CVXPY) Jan 28 02:47:28 PM: Freed constraints in eliminator : 0\n",
      "(CVXPY) Jan 28 02:47:28 PM: Eliminator terminated.\n",
      "(CVXPY) Jan 28 02:47:28 PM: Eliminator - tries                  : 1                 time                   : 0.00            \n",
      "(CVXPY) Jan 28 02:47:28 PM: Lin. dep.  - tries                  : 1                 time                   : 0.03            \n",
      "(CVXPY) Jan 28 02:47:28 PM: Lin. dep.  - primal attempts        : 1                 successes              : 1               \n",
      "(CVXPY) Jan 28 02:47:28 PM: Lin. dep.  - dual attempts          : 0                 successes              : 0               \n",
      "(CVXPY) Jan 28 02:47:28 PM: Lin. dep.  - primal deps.           : 0                 dual deps.             : 0               \n",
      "(CVXPY) Jan 28 02:47:28 PM: Presolve terminated. Time: 0.19    \n",
      "(CVXPY) Jan 28 02:47:28 PM: Optimizer  - threads                : 3               \n",
      "(CVXPY) Jan 28 02:47:28 PM: Optimizer  - solved problem         : the primal      \n",
      "(CVXPY) Jan 28 02:47:28 PM: Optimizer  - Constraints            : 1959            \n",
      "(CVXPY) Jan 28 02:47:28 PM: Optimizer  - Cones                  : 13              \n",
      "(CVXPY) Jan 28 02:47:28 PM: Optimizer  - Scalar variables       : 63183             conic                  : 50518           \n",
      "(CVXPY) Jan 28 02:47:28 PM: Optimizer  - Semi-definite variables: 0                 scalarized             : 0               \n",
      "(CVXPY) Jan 28 02:47:28 PM: Factor     - setup time             : 0.17            \n",
      "(CVXPY) Jan 28 02:47:28 PM: Factor     - dense det. time        : 0.00              GP order time          : 0.00            \n",
      "(CVXPY) Jan 28 02:47:28 PM: Factor     - nonzeros before factor : 2.46e+05          after factor           : 2.47e+05        \n",
      "(CVXPY) Jan 28 02:47:28 PM: Factor     - dense dim.             : 4                 flops                  : 8.21e+07        \n",
      "(CVXPY) Jan 28 02:47:28 PM: ITE PFEAS    DFEAS    GFEAS    PRSTATUS   POBJ              DOBJ              MU       TIME  \n",
      "(CVXPY) Jan 28 02:47:28 PM: 0   1.4e+02  2.3e+02  1.4e+01  0.00e+00   -1.300000000e+01  -0.000000000e+00  1.0e+00  0.50  \n",
      "(CVXPY) Jan 28 02:47:28 PM: 1   1.2e+02  1.9e+02  1.3e+01  -9.63e-01  4.679787643e+03   4.692415819e+03   8.4e-01  0.55  \n",
      "(CVXPY) Jan 28 02:47:28 PM: 2   7.5e+01  1.2e+02  9.1e+00  -8.68e-01  6.575663964e+03   6.586712761e+03   5.3e-01  0.58  \n",
      "(CVXPY) Jan 28 02:47:28 PM: 3   3.3e+01  5.4e+01  4.7e+00  -6.48e-01  5.483660804e+03   5.491376940e+03   2.3e-01  0.61  \n",
      "(CVXPY) Jan 28 02:47:28 PM: 4   1.7e+01  2.8e+01  2.3e+00  -1.90e-01  2.759695648e+03   2.764885110e+03   1.2e-01  0.64  \n",
      "(CVXPY) Jan 28 02:47:29 PM: 5   1.4e+01  2.3e+01  1.8e+00  1.40e-01   2.641460111e+03   2.645958464e+03   9.9e-02  0.67  \n",
      "(CVXPY) Jan 28 02:47:29 PM: 6   6.9e+00  1.1e+01  7.0e-01  3.32e-01   1.135836563e+03   1.138391456e+03   4.9e-02  0.70  \n",
      "(CVXPY) Jan 28 02:47:29 PM: 7   2.6e+00  4.3e+00  1.7e-01  6.90e-01   6.433717495e+02   6.443825583e+02   1.8e-02  0.73  \n",
      "(CVXPY) Jan 28 02:47:29 PM: 8   7.7e-01  1.3e+00  2.9e-02  9.19e-01   2.519392152e+02   2.522318222e+02   5.5e-03  0.78  \n",
      "(CVXPY) Jan 28 02:47:29 PM: 9   1.9e-01  3.1e-01  3.7e-03  1.00e+00   1.112136823e+02   1.112831916e+02   1.4e-03  0.81  \n",
      "(CVXPY) Jan 28 02:47:29 PM: 10  5.2e-02  8.4e-02  5.2e-04  1.01e+00   6.185792813e+01   6.187635074e+01   3.6e-04  0.86  \n",
      "(CVXPY) Jan 28 02:47:29 PM: 11  1.3e-02  2.2e-02  7.0e-05  1.00e+00   4.731442626e+01   4.731918194e+01   9.5e-05  0.91  \n",
      "(CVXPY) Jan 28 02:47:29 PM: 12  4.1e-03  6.7e-03  1.2e-05  1.00e+00   4.361501519e+01   4.361646033e+01   2.9e-05  0.95  \n",
      "(CVXPY) Jan 28 02:47:29 PM: 13  1.3e-03  2.1e-03  2.1e-06  9.99e-01   4.251789703e+01   4.251835712e+01   9.3e-06  0.98  \n",
      "(CVXPY) Jan 28 02:47:29 PM: 14  4.8e-04  7.9e-04  4.9e-07  9.99e-01   4.220398676e+01   4.220415346e+01   3.4e-06  1.02  \n",
      "(CVXPY) Jan 28 02:47:29 PM: 15  1.1e-04  1.7e-04  5.0e-08  1.00e+00   4.207786874e+01   4.207790501e+01   7.5e-07  1.06  \n",
      "(CVXPY) Jan 28 02:47:29 PM: 16  6.0e-06  9.7e-06  6.2e-10  1.00e+00   4.204776526e+01   4.204776745e+01   4.2e-08  1.09  \n",
      "(CVXPY) Jan 28 02:47:29 PM: 17  3.0e-06  1.8e-05  2.3e-10  9.67e-01   4.204639296e+01   4.204639405e+01   2.1e-08  1.12  \n",
      "(CVXPY) Jan 28 02:47:29 PM: 18  1.6e-06  9.6e-06  9.1e-11  9.98e-01   4.204592957e+01   4.204593015e+01   1.1e-08  1.16  \n",
      "(CVXPY) Jan 28 02:47:29 PM: 19  8.0e-07  4.7e-06  3.2e-11  9.88e-01   4.204558617e+01   4.204558645e+01   5.5e-09  1.19  \n",
      "(CVXPY) Jan 28 02:47:29 PM: 20  3.0e-07  1.8e-06  7.4e-12  9.86e-01   4.204545616e+01   4.204545626e+01   2.0e-09  1.22  \n",
      "(CVXPY) Jan 28 02:47:29 PM: 21  9.7e-08  2.7e-06  1.4e-12  9.94e-01   4.204539011e+01   4.204539014e+01   6.6e-10  1.30  \n",
      "(CVXPY) Jan 28 02:47:29 PM: Optimizer terminated. Time: 1.34    \n",
      "(CVXPY) Jan 28 02:47:29 PM: \n",
      "(CVXPY) Jan 28 02:47:29 PM: \n",
      "(CVXPY) Jan 28 02:47:29 PM: Interior-point solution summary\n",
      "(CVXPY) Jan 28 02:47:29 PM:   Problem status  : PRIMAL_AND_DUAL_FEASIBLE\n",
      "(CVXPY) Jan 28 02:47:29 PM:   Solution status : OPTIMAL\n",
      "(CVXPY) Jan 28 02:47:29 PM:   Primal.  obj: 4.2045390107e+01    nrm: 1e+02    Viol.  con: 1e-06    var: 5e-07    cones: 0e+00  \n",
      "(CVXPY) Jan 28 02:47:29 PM:   Dual.    obj: 4.2045390142e+01    nrm: 6e+03    Viol.  con: 0e+00    var: 9e-09    cones: 0e+00  \n",
      "-------------------------------------------------------------------------------\n",
      "                                    Summary                                    \n",
      "-------------------------------------------------------------------------------\n",
      "(CVXPY) Jan 28 02:47:29 PM: Problem status: optimal\n",
      "(CVXPY) Jan 28 02:47:29 PM: Optimal value: 4.205e+01\n",
      "(CVXPY) Jan 28 02:47:29 PM: Compilation took 1.405e+00 seconds\n",
      "(CVXPY) Jan 28 02:47:29 PM: Solver (including time spent in interface) took 1.865e+00 seconds\n",
      "Creating BEV..\n",
      "Loading full influence matrix..\n",
      "Done\n"
     ]
    }
   ],
   "source": [
    "data_dir = r'../data'\n",
    "data = pp.DataExplorer(data_dir=data_dir)\n",
    "patient_id = 'Lung_Phantom_Patient_1'\n",
    "data.patient_id = patient_id\n",
    "ct = pp.CT(data)\n",
    "structs = pp.Structures(data)\n",
    "beams = pp.Beams(data)\n",
    "opt_params = data.load_config_opt_params(protocol_name='Lung_2Gy_30Fx')\n",
    "structs.create_opt_structures(opt_params)\n",
    "inf_matrix_sparse = pp.InfluenceMatrix(ct=ct, structs=structs, beams=beams)\n",
    "protocol_name = 'Lung_2Gy_30Fx'\n",
    "clinical_criteria = pp.ClinicalCriteria(data, protocol_name)\n",
    "plan_sparse = pp.Plan(ct, structs, beams, inf_matrix_sparse, clinical_criteria)\n",
    "opt = pp.Optimization(plan_sparse, opt_params=opt_params)\n",
    "opt.create_cvxpy_problem()\n",
    "\n",
    "sol_sparse = opt.solve(solver='MOSEK', verbose=True)\n",
    "dose_sparse_1d = plan_sparse.inf_matrix.A @ (sol_sparse['optimal_intensity'] * plan_sparse.get_num_of_fractions())\n",
    "x_sparse =sol_sparse['optimal_intensity'] * plan_sparse.get_num_of_fractions()\n",
    "\n",
    "beams_full = pp.Beams(data, load_inf_matrix_full=True)\n",
    "inf_matrix_full = pp.InfluenceMatrix(ct=ct, structs=structs, beams=beams_full, is_full=True)\n",
    "plan_full = pp.Plan(ct, structs, beams, inf_matrix_full, clinical_criteria)\n",
    "dose_full_1d = plan_full.inf_matrix.A @ (sol_sparse['optimal_intensity'] * plan_full.get_num_of_fractions())\n",
    "\n",
    "A_full = plan_full.inf_matrix.A\n",
    "A_sparse = plan_sparse.inf_matrix.A\n"
   ]
  },
  {
   "cell_type": "code",
   "execution_count": 3,
   "id": "c8cb07c6",
   "metadata": {},
   "outputs": [
    {
     "name": "stdout",
     "output_type": "stream",
     "text": [
      "[[0. 0. 0. ... 0. 0. 0.]\n",
      " [0. 0. 0. ... 0. 0. 0.]\n",
      " [0. 0. 0. ... 0. 0. 0.]\n",
      " ...\n",
      " [0. 0. 0. ... 0. 0. 0.]\n",
      " [0. 0. 0. ... 0. 0. 0.]\n",
      " [0. 0. 0. ... 0. 0. 0.]]\n",
      "زمان ساخت ماتریس : 242.68908977508545 ثانیه\n"
     ]
    }
   ],
   "source": [
    "start_time = time.time()\n",
    "\n",
    "def importance_sampling(A, c):\n",
    "    d, n = A.shape\n",
    "    B = np.zeros((d, c))\n",
    "\n",
    "    for i in range(n):\n",
    "        # محاسبه احتمال p_i\n",
    "        p_i = calculate_probability(A[:, i])\n",
    "\n",
    "        for j in range(c):\n",
    "            # نمونه‌برداری با احتمال p_i و افزودن به B_(:.j)\n",
    "            sample = np.random.choice(d, p=p_i)\n",
    "            B[:, j] += A[:, i] / p_i[sample]\n",
    "\n",
    "    # مقیاس بندی مجدد\n",
    "    B /= c\n",
    "\n",
    "    return B\n",
    "\n",
    "def calculate_probability(row):\n",
    "    \n",
    "    # محاسبه احتمال p_i بر اساس مقدارهای ردیف A_(:.i)\n",
    "    return row / np.sum(row)\n",
    " \n",
    "c = 542\n",
    "A = A_full\n",
    "\n",
    "result = importance_sampling(A, c)\n",
    "print(result)\n",
    "\n",
    "end_time = time.time()\n",
    "total_execution_time = end_time - start_time\n",
    "print(f\"زمان ساخت ماتریس : {total_execution_time} ثانیه\")"
   ]
  },
  {
   "cell_type": "code",
   "execution_count": 4,
   "id": "00721dcb",
   "metadata": {},
   "outputs": [
    {
     "name": "stdout",
     "output_type": "stream",
     "text": [
      "B = (542, 60183)\n",
      "A = (60183, 542)\n",
      "d = (60183,)\n"
     ]
    }
   ],
   "source": [
    "B = result.T\n",
    "A = A_full\n",
    "d = dose_full_1d\n",
    "print(f'B = {B.shape}\\nA = {A.shape}\\nd = {d.shape}')"
   ]
  },
  {
   "cell_type": "code",
   "execution_count": 5,
   "id": "8bfb13ba",
   "metadata": {},
   "outputs": [
    {
     "name": "stdout",
     "output_type": "stream",
     "text": [
      "زمان حل کمترین مربعات0.4387798309326172 ثانیه\n"
     ]
    }
   ],
   "source": [
    "start_time = time.time()\n",
    "\n",
    "sol_ls_B = scipy.sparse.linalg.lsqr(B @ A, B @ d )\n",
    "    \n",
    "end_time = time.time()\n",
    "total_execution_time = end_time - start_time\n",
    "print(f\"زمان حل کمترین مربعات{total_execution_time} ثانیه\")\n",
    "\n"
   ]
  },
  {
   "cell_type": "code",
   "execution_count": 6,
   "id": "f2173b7a",
   "metadata": {},
   "outputs": [
    {
     "data": {
      "text/plain": [
       "198978324.31064004"
      ]
     },
     "execution_count": 6,
     "metadata": {},
     "output_type": "execute_result"
    }
   ],
   "source": [
    "x_sampling = sol_ls_B[0]\n",
    "cost = sum_squares(B @ A @ x_sampling - B @ d)\n",
    "prob = Problem(Minimize(cost))\n",
    "sol = prob.solve(solver='MOSEK', verbose=False)\n",
    "sol"
   ]
  },
  {
   "cell_type": "markdown",
   "id": "ca4b244d",
   "metadata": {},
   "source": [
    "<br><center> ***Minimize*** $\\lVert SAx - Sp\\rVert_{2}^2$\n",
    "\n",
    "  "
   ]
  },
  {
   "cell_type": "code",
   "execution_count": 8,
   "id": "685658b8",
   "metadata": {},
   "outputs": [
    {
     "name": "stdout",
     "output_type": "stream",
     "text": [
      "Objective Start\n",
      "Objective done\n",
      "Constraints Start\n",
      "Structure ESOPHAGUS not available!\n",
      "Structure ESOPHAGUS not available!\n",
      "Constraints done\n"
     ]
    }
   ],
   "source": [
    "opt = pp.Optimization(plan_full, opt_params=opt_params)\n",
    "opt.create_cvxpy_problem()\n",
    "\n",
    "sol_full = opt.solve(solver='MOSEK', verbose=False)\n",
    "\n",
    "x_full = sol_full['optimal_intensity'] * plan_full.get_num_of_fractions()"
   ]
  },
  {
   "cell_type": "code",
   "execution_count": 9,
   "id": "2d298528",
   "metadata": {},
   "outputs": [
    {
     "data": {
      "image/png": "[encoded data removed]",
      "text/plain": [
       "<Figure size 800x500 with 1 Axes>"
      ]
     },
     "metadata": {},
     "output_type": "display_data"
    },
    {
     "name": "stdout",
     "output_type": "stream",
     "text": [
      "Done!\n"
     ]
    }
   ],
   "source": [
    "# DVH Plot\n",
    "dose_full = plan_full.inf_matrix.A @ x_full\n",
    "dose_sampling = plan_full.inf_matrix.A @ x_sampling \n",
    "\n",
    "\n",
    "\n",
    "fig, ax = plt.subplots(figsize=(8, 5))\n",
    "struct_names = ['PTV', 'ESOPHAGUS', 'HEART', 'CORD']\n",
    "ax = pp.Visualization.plot_dvh(plan_full, dose_1d= dose_sampling, struct_names=struct_names, style='solid', ax=ax)\n",
    "ax = pp.Visualization.plot_dvh(plan_full, dose_1d=dose_full, struct_names=struct_names, style='dotted', ax=ax)\n",
    "ax.set_title('- Sampling Matrix ...  Full')\n",
    "plt.show()\n",
    "print('Done!')"
   ]
  },
  {
   "cell_type": "code",
   "execution_count": 10,
   "id": "329dd468",
   "metadata": {},
   "outputs": [
    {
     "name": "stdout",
     "output_type": "stream",
     "text": [
      "Data Type: float64\n",
      "Shape: (60183,)\n",
      "Size: 60183\n"
     ]
    }
   ],
   "source": [
    "# نوع داده\n",
    "print(\"Data Type:\", dose_sampling.dtype)\n",
    "\n",
    "# ابعاد\n",
    "print(\"Shape:\", dose_sampling.shape)\n",
    "\n",
    "# تعداد کل عناصر\n",
    "print(\"Size:\", dose_sampling.size)\n"
   ]
  },
  {
   "cell_type": "code",
   "execution_count": 11,
   "id": "a1e80a48",
   "metadata": {},
   "outputs": [
    {
     "name": "stdout",
     "output_type": "stream",
     "text": [
      "                  0\n",
      "count  60183.000000\n",
      "mean       6.518793\n",
      "std       12.206109\n",
      "min        0.000000\n",
      "25%        0.343048\n",
      "50%        1.353335\n",
      "75%        6.466537\n",
      "max       73.870515\n"
     ]
    }
   ],
   "source": [
    "import pandas as pd\n",
    "\n",
    "# تبدیل numpy.ndarray به DataFrame\n",
    "dose_sampling_df = pd.DataFrame(dose_sampling)\n",
    "\n",
    "# استفاده از متد describe روی DataFrame\n",
    "description = dose_sampling_df.describe()\n",
    "\n",
    "# نمایش توضیحات\n",
    "print(description)\n"
   ]
  },
  {
   "cell_type": "code",
   "execution_count": null,
   "id": "70c2f2eb",
   "metadata": {},
   "outputs": [],
   "source": [
    "nonzero_count = np.count_nonzero(A_full)\n",
    "print(\"تعداد مقادیر غیر صفر ماتریس کامل: \", nonzero_count)\n",
    "num_non_zero = np.count_nonzero(B @ A)\n",
    "print(\"تعداد عناصر غیر صفر در ماتریس SA :\", num_non_zero)"
   ]
  },
  {
   "cell_type": "code",
   "execution_count": null,
   "id": "4888915a",
   "metadata": {},
   "outputs": [],
   "source": [
    "##  بررسی  پراکندگی ماتریس\n",
    "\n",
    "is_sparse = sparse.issparse(result)\n",
    "is_sparse"
   ]
  },
  {
   "cell_type": "code",
   "execution_count": null,
   "id": "dae6574e",
   "metadata": {},
   "outputs": [],
   "source": [
    "x_sampling = sol_ls_B[0]\n",
    "print(f'x :\\t {x_sampling[0:6]}')"
   ]
  },
  {
   "cell_type": "code",
   "execution_count": 12,
   "id": "65123c3a",
   "metadata": {},
   "outputs": [
    {
     "name": "stdout",
     "output_type": "stream",
     "text": [
      "خطای نسبی بین دو بردار: 0.16286100848674087\n"
     ]
    }
   ],
   "source": [
    "sol_ls_A_full = scipy.sparse.linalg.lsqr(A_full, dose_sparse_1d)\n",
    "x_A_full = sol_ls_A_full[0]\n",
    "\n",
    "relative_error = np.linalg.norm(x_A_full - x_sampling) / np.linalg.norm(x_A_full)\n",
    "print(\"خطای نسبی بین دو بردار:\", relative_error)\n"
   ]
  },
  {
   "cell_type": "code",
   "execution_count": 15,
   "id": "432cef7d",
   "metadata": {},
   "outputs": [
    {
     "name": "stdout",
     "output_type": "stream",
     "text": [
      "x_A_full :\t [ 3.6748923  -1.87874125 -1.95530011 -2.4399406  12.06883105  5.92361035]\n"
     ]
    },
    {
     "data": {
      "text/plain": [
       "0.029430472233158783"
      ]
     },
     "execution_count": 15,
     "metadata": {},
     "output_type": "execute_result"
    }
   ],
   "source": [
    "x_A_full= sol_ls_A_full[0]\n",
    "print(f'x_A_full :\\t {x_A_full[0:6]}')\n",
    "\n",
    "cost = cp.sum_squares((A @ x_A_full  - A @ x_sampling  )/ cp.norm(A @ x_A_full))\n",
    "prob = cp.Problem(Minimize(cost))\n",
    "sol = prob.solve(solver='MOSEK', verbose=False)\n",
    "sol"
   ]
  },
  {
   "cell_type": "code",
   "execution_count": 17,
   "id": "c10a986d",
   "metadata": {},
   "outputs": [
    {
     "name": "stdout",
     "output_type": "stream",
     "text": [
      "x_A_full :\t [ 3.67488292 -1.8787623  -1.95529727 -2.43993656 12.0689664   5.92366068]\n"
     ]
    },
    {
     "data": {
      "text/plain": [
       "0.1715874574131074"
      ]
     },
     "execution_count": 17,
     "metadata": {},
     "output_type": "execute_result"
    }
   ],
   "source": [
    "import cvxpy as cp\n",
    "\n",
    "x_A_full = sol_ls_A_full[0]\n",
    "print(f'x_A_full :\\t {x_A_full[0:6]}')\n",
    "\n",
    "# تغییر تابع هدف به نرم فروبنیوس\n",
    "cost = cp.norm(A @ x_A_full - A @ x_sampling, \"fro\")/ cp.norm(A @ x_A_full, \"fro\")\n",
    "\n",
    "prob = cp.Problem(cp.Minimize(cost))\n",
    "\n",
    "prob.solve()\n"
   ]
  },
  {
   "cell_type": "code",
   "execution_count": 54,
   "id": "26fcba67",
   "metadata": {},
   "outputs": [
    {
     "name": "stdout",
     "output_type": "stream",
     "text": [
      "تعداد عناصر غیر صفر در ماتریس B: 0.8515859960453949\n",
      "تعداد عناصر غیر صفر در ماتریس B.A: 1.0\n",
      "تعداد عناصر غیر صفر در ماتریس کامل: 0.3151234981768092\n"
     ]
    }
   ],
   "source": [
    "#  تعداد عناصر غیر صفر\n",
    "num_non_zero_elements_dense = np.count_nonzero(B)/32619186\n",
    "print(\"تعداد عناصر غیر صفر در ماتریس B:\", num_non_zero_elements_dense)\n",
    "\n",
    "num_non_zero_elements_dense = np.count_nonzero(B @ A)/293764\n",
    "print(\"تعداد عناصر غیر صفر در ماتریس B.A:\", num_non_zero_elements_dense)\n",
    "\n",
    "num_non_zero_elements_A_full = np.count_nonzero(A_full)/32619186\n",
    "print(\"تعداد عناصر غیر صفر در ماتریس کامل:\", num_non_zero_elements_A_full)"
   ]
  },
  {
   "cell_type": "code",
   "execution_count": 29,
   "id": "3e3bb57e",
   "metadata": {},
   "outputs": [
    {
     "data": {
      "text/plain": [
       "9.95065527577104e-05"
      ]
     },
     "execution_count": 29,
     "metadata": {},
     "output_type": "execute_result"
    }
   ],
   "source": [
    "cost = cp.sum_squares((d  - A @ x_sampling  )/ cp.norm(d))\n",
    "prob = cp.Problem(Minimize(cost))\n",
    "prob.solve()"
   ]
  },
  {
   "cell_type": "code",
   "execution_count": 52,
   "id": "923fdebf",
   "metadata": {},
   "outputs": [
    {
     "name": "stdout",
     "output_type": "stream",
     "text": [
      "Mean Squared Error : 0.019059319313313693\n"
     ]
    }
   ],
   "source": [
    "## تابع (هدف)خطای میانگین مربعات\n",
    "## MSE = Mean Squared Error\n",
    "\n",
    "d_true = d          # دوز واقعی\n",
    "d_pred = A @ x_sampling   # دوز پیش‌بینی شده\n",
    "\n",
    "MSE = np.mean((d_true - d_pred) ** 2)\n",
    "print(\"Mean Squared Error :\", MSE)\n"
   ]
  },
  {
   "cell_type": "code",
   "execution_count": 53,
   "id": "f23ec070",
   "metadata": {},
   "outputs": [
    {
     "name": "stdout",
     "output_type": "stream",
     "text": [
      "Mean Squared Error : 4.152210989224798\n"
     ]
    }
   ],
   "source": [
    "## تابع (هدف)خطای میانگین مربعات\n",
    "## MSE = Mean Squared Error\n",
    "\n",
    "d_true = A @ x_A_full         # دوز واقعی\n",
    "d_pred = A @ x_sampling   # دوز پیش‌بینی شده\n",
    "\n",
    "MSE = np.mean((d_true - d_pred) ** 2)\n",
    "print(\"Mean Squared Error :\", MSE)\n"
   ]
  },
  {
   "cell_type": "code",
   "execution_count": 33,
   "id": "dd9147e2",
   "metadata": {},
   "outputs": [
    {
     "name": "stdout",
     "output_type": "stream",
     "text": [
      " رتبه ماتریس تقریب = 542\n",
      "رتبه ماتریس کامل = 542\n"
     ]
    }
   ],
   "source": [
    "r1 = np.linalg.matrix_rank(B@A_full) \n",
    "r2 = np.linalg.matrix_rank(A_full)      \n",
    "print( f' رتبه ماتریس تقریب = {r1}\\nرتبه ماتریس کامل = {r2}')"
   ]
  },
  {
   "cell_type": "code",
   "execution_count": 38,
   "id": "c8a42fc8",
   "metadata": {},
   "outputs": [
    {
     "name": "stdout",
     "output_type": "stream",
     "text": [
      "میزان حافظه sol_ls_JL_1 : 0.00011444091796875 مگابایت\n"
     ]
    }
   ],
   "source": [
    "memory_usage_sol_ls_B = sys.getsizeof(sol_ls_B )\n",
    "megabyte_size_sol_ls_B = memory_usage_sol_ls_B / 1024 / 1024\n",
    "\n",
    "print(f\"میزان حافظه sol_ls_JL_1 : {megabyte_size_sol_ls_B} مگابایت\")"
   ]
  },
  {
   "cell_type": "code",
   "execution_count": 39,
   "id": "5de115ba",
   "metadata": {},
   "outputs": [
    {
     "name": "stdout",
     "output_type": "stream",
     "text": [
      "میزان حافظه ساخت JL_1 : 0.0001220703125 مگابایت\n"
     ]
    }
   ],
   "source": [
    "memory_usage_B = sys.getsizeof(B)\n",
    "megabyte_size_B = memory_usage_B / 1024 / 1024\n",
    "\n",
    "print(f\"میزان حافظه ساخت JL_1 : {megabyte_size_B} مگابایت\")"
   ]
  },
  {
   "cell_type": "code",
   "execution_count": 40,
   "id": "9c645274",
   "metadata": {},
   "outputs": [
    {
     "name": "stdout",
     "output_type": "stream",
     "text": [
      "نرم خطای نسبی بین دو بردار: 0.161246670645027\n"
     ]
    }
   ],
   "source": [
    "import numpy as np\n",
    "\n",
    "def calculate_relative_error(vector1, vector2):\n",
    "   \n",
    "    array1 = np.array(x_A_full)\n",
    "    array2 = np.array(x_sampling)\n",
    "\n",
    "    norm_vector2 = np.linalg.norm(x_A_full)\n",
    "\n",
    "    relative_error = np.linalg.norm(x_A_full - x_sampling) / norm_vector2\n",
    "\n",
    "    return relative_error\n",
    "\n",
    "error = calculate_relative_error(x_A_full, x_sampling)\n",
    "print(f\"نرم خطای نسبی بین دو بردار: {error}\")\n"
   ]
  },
  {
   "cell_type": "code",
   "execution_count": 41,
   "id": "77bd8c0c",
   "metadata": {},
   "outputs": [
    {
     "name": "stdout",
     "output_type": "stream",
     "text": [
      "نرم خطای مطلق بین دو بردار: 649.4220669789167\n"
     ]
    }
   ],
   "source": [
    "import numpy as np\n",
    "\n",
    "def calculate_absolute_error(vector1, vector2):\n",
    "    array1 = np.array(x_A_full)\n",
    "    array2 = np.array(x_sampling)\n",
    "\n",
    "    absolute_error = np.linalg.norm(array1 - array2, ord=1) \n",
    "\n",
    "    return absolute_error\n",
    "\n",
    "\n",
    "error = calculate_absolute_error(x_A_full, x_sampling)\n",
    "print(f\"نرم خطای مطلق بین دو بردار: {error}\")\n"
   ]
  },
  {
   "cell_type": "raw",
   "id": "d82b3f21",
   "metadata": {
    "scrolled": true
   },
   "source": [
    "import numpy as np\n",
    "\n",
    "def compute_probability(row):\n",
    "    row_sum = np.sum(row)\n",
    "    if row_sum == 0:\n",
    "        return 0\n",
    "    else:\n",
    "        return np.sum(row) / row_sum\n",
    "\n",
    "def insert_and_rescale(B, i, j, pi):\n",
    "    B[:, j] += pi * A_full[:, i]\n",
    "\n",
    "def compute_B(A, c):\n",
    "    \n",
    "    if c < 1 or c > n:\n",
    "        raise ValueError(\"c باید بین 1 و n قرار داشته باشد.\")\n",
    "    \n",
    "    B_2 = np.zeros((d, c))\n",
    "\n",
    "    for i in range(n):\n",
    "        pi = compute_probability(A_full[:, i])\n",
    "        for j in range(c):\n",
    "            insert_and_rescale(B, i, j, pi)\n",
    "\n",
    "    return B_2\n"
   ]
  },
  {
   "cell_type": "code",
   "execution_count": null,
   "id": "79519690",
   "metadata": {},
   "outputs": [],
   "source": []
  }
 ],
 "metadata": {
  "kernelspec": {
   "display_name": "Python 3 (ipykernel)",
   "language": "python",
   "name": "python3"
  },
  "language_info": {
   "codemirror_mode": {
    "name": "ipython",
    "version": 3
   },
   "file_extension": ".py",
   "mimetype": "text/x-python",
   "name": "python",
   "nbconvert_exporter": "python",
   "pygments_lexer": "ipython3",
   "version": "3.10.9"
  }
 },
 "nbformat": 4,
 "nbformat_minor": 5
}
