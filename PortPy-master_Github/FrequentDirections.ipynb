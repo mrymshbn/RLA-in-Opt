{
 "cells": [
  {
   "cell_type": "code",
   "execution_count": 1,
   "id": "d1401545",
   "metadata": {},
   "outputs": [],
   "source": [
    "from scipy.linalg import svd\n",
    "import time\n",
    "import scipy\n",
    "import random\n",
    "import portpy.photon as pp\n",
    "import numpy as np\n",
    "from cvxpy import *\n",
    "from scipy import sparse\n",
    "import sklearn.metrics\n",
    "import cProfile\n",
    "import time\n",
    "import sys\n",
    "import psutil"
   ]
  },
  {
   "cell_type": "code",
   "execution_count": 3,
   "id": "68983088",
   "metadata": {
    "scrolled": true
   },
   "outputs": [
    {
     "name": "stdout",
     "output_type": "stream",
     "text": [
      "creating rinds.. This step may take some time due to dilation\n",
      "rinds created!!\n",
      "Creating BEV..\n",
      "Loading sparse influence matrix...\n",
      "Done\n",
      "Objective Start\n",
      "Objective done\n",
      "Constraints Start\n",
      "Structure ESOPHAGUS not available!\n",
      "Structure ESOPHAGUS not available!\n",
      "Constraints done\n",
      "===============================================================================\n",
      "                                     CVXPY                                     \n",
      "                                     v1.4.1                                    \n",
      "===============================================================================\n",
      "(CVXPY) Jan 27 08:12:06 PM: Your problem has 1946 variables, 14 constraints, and 0 parameters.\n",
      "(CVXPY) Jan 27 08:12:06 PM: It is compliant with the following grammars: DCP, DQCP\n",
      "(CVXPY) Jan 27 08:12:06 PM: (If you need to solve this problem multiple times, but with different data, consider using parameters.)\n",
      "(CVXPY) Jan 27 08:12:06 PM: CVXPY will first compile your problem; then, it will invoke a numerical solver to obtain a solution.\n",
      "(CVXPY) Jan 27 08:12:06 PM: Your problem is compiled with the CPP canonicalization backend.\n",
      "-------------------------------------------------------------------------------\n",
      "                                  Compilation                                  \n",
      "-------------------------------------------------------------------------------\n",
      "(CVXPY) Jan 27 08:12:06 PM: Compiling problem (target solver=MOSEK).\n",
      "(CVXPY) Jan 27 08:12:06 PM: Reduction chain: Dcp2Cone -> CvxAttr2Constr -> ConeMatrixStuffing -> MOSEK\n",
      "(CVXPY) Jan 27 08:12:06 PM: Applying reduction Dcp2Cone\n",
      "(CVXPY) Jan 27 08:12:06 PM: Applying reduction CvxAttr2Constr\n",
      "(CVXPY) Jan 27 08:12:06 PM: Applying reduction ConeMatrixStuffing\n",
      "(CVXPY) Jan 27 08:12:07 PM: Applying reduction MOSEK\n",
      "(CVXPY) Jan 27 08:12:08 PM: Finished problem compilation (took 1.343e+00 seconds).\n",
      "-------------------------------------------------------------------------------\n",
      "                                Numerical solver                               \n",
      "-------------------------------------------------------------------------------\n",
      "(CVXPY) Jan 27 08:12:08 PM: Invoking solver MOSEK  to obtain a solution.\n",
      "\n",
      "\n",
      "(CVXPY) Jan 27 08:12:08 PM: Problem\n",
      "(CVXPY) Jan 27 08:12:08 PM:   Name                   :                 \n",
      "(CVXPY) Jan 27 08:12:08 PM:   Objective sense        : maximize        \n",
      "(CVXPY) Jan 27 08:12:08 PM:   Type                   : CONIC (conic optimization problem)\n",
      "(CVXPY) Jan 27 08:12:08 PM:   Constraints            : 1959            \n",
      "(CVXPY) Jan 27 08:12:08 PM:   Affine conic cons.     : 0               \n",
      "(CVXPY) Jan 27 08:12:08 PM:   Disjunctive cons.      : 0               \n",
      "(CVXPY) Jan 27 08:12:08 PM:   Cones                  : 13              \n",
      "(CVXPY) Jan 27 08:12:08 PM:   Scalar variables       : 215748          \n",
      "(CVXPY) Jan 27 08:12:08 PM:   Matrix variables       : 0               \n",
      "(CVXPY) Jan 27 08:12:08 PM:   Integer variables      : 0               \n",
      "(CVXPY) Jan 27 08:12:08 PM: \n",
      "(CVXPY) Jan 27 08:12:08 PM: Optimizer started.\n",
      "(CVXPY) Jan 27 08:12:08 PM: Presolve started.\n",
      "(CVXPY) Jan 27 08:12:08 PM: Linear dependency checker started.\n",
      "(CVXPY) Jan 27 08:12:08 PM: Linear dependency checker terminated.\n",
      "(CVXPY) Jan 27 08:12:08 PM: Eliminator started.\n",
      "(CVXPY) Jan 27 08:12:08 PM: Freed constraints in eliminator : 0\n",
      "(CVXPY) Jan 27 08:12:08 PM: Eliminator terminated.\n",
      "(CVXPY) Jan 27 08:12:09 PM: Eliminator - tries                  : 1                 time                   : 0.00            \n",
      "(CVXPY) Jan 27 08:12:09 PM: Lin. dep.  - tries                  : 1                 time                   : 0.02            \n",
      "(CVXPY) Jan 27 08:12:09 PM: Lin. dep.  - primal attempts        : 1                 successes              : 1               \n",
      "(CVXPY) Jan 27 08:12:09 PM: Lin. dep.  - dual attempts          : 0                 successes              : 0               \n",
      "(CVXPY) Jan 27 08:12:09 PM: Lin. dep.  - primal deps.           : 0                 dual deps.             : 0               \n",
      "(CVXPY) Jan 27 08:12:09 PM: Presolve terminated. Time: 0.20    \n",
      "(CVXPY) Jan 27 08:12:09 PM: Optimizer  - threads                : 1               \n",
      "(CVXPY) Jan 27 08:12:09 PM: Optimizer  - solved problem         : the primal      \n",
      "(CVXPY) Jan 27 08:12:09 PM: Optimizer  - Constraints            : 1959            \n",
      "(CVXPY) Jan 27 08:12:09 PM: Optimizer  - Cones                  : 13              \n",
      "(CVXPY) Jan 27 08:12:09 PM: Optimizer  - Scalar variables       : 63183             conic                  : 50518           \n",
      "(CVXPY) Jan 27 08:12:09 PM: Optimizer  - Semi-definite variables: 0                 scalarized             : 0               \n",
      "(CVXPY) Jan 27 08:12:09 PM: Factor     - setup time             : 0.17            \n",
      "(CVXPY) Jan 27 08:12:09 PM: Factor     - dense det. time        : 0.00              GP order time          : 0.00            \n",
      "(CVXPY) Jan 27 08:12:09 PM: Factor     - nonzeros before factor : 2.46e+05          after factor           : 2.47e+05        \n",
      "(CVXPY) Jan 27 08:12:09 PM: Factor     - dense dim.             : 4                 flops                  : 8.21e+07        \n",
      "(CVXPY) Jan 27 08:12:09 PM: ITE PFEAS    DFEAS    GFEAS    PRSTATUS   POBJ              DOBJ              MU       TIME  \n",
      "(CVXPY) Jan 27 08:12:09 PM: 0   1.4e+02  2.3e+02  1.4e+01  0.00e+00   -1.300000000e+01  -0.000000000e+00  1.0e+00  0.55  \n",
      "(CVXPY) Jan 27 08:12:09 PM: 1   1.2e+02  1.9e+02  1.3e+01  -9.63e-01  4.679787643e+03   4.692415819e+03   8.4e-01  0.61  \n",
      "(CVXPY) Jan 27 08:12:09 PM: 2   7.5e+01  1.2e+02  9.1e+00  -8.68e-01  6.575663964e+03   6.586712761e+03   5.3e-01  0.66  \n",
      "(CVXPY) Jan 27 08:12:09 PM: 3   3.3e+01  5.4e+01  4.7e+00  -6.48e-01  5.483660804e+03   5.491376940e+03   2.3e-01  0.70  \n",
      "(CVXPY) Jan 27 08:12:09 PM: 4   1.7e+01  2.8e+01  2.3e+00  -1.90e-01  2.759695648e+03   2.764885110e+03   1.2e-01  0.75  \n",
      "(CVXPY) Jan 27 08:12:09 PM: 5   1.4e+01  2.3e+01  1.8e+00  1.40e-01   2.641460111e+03   2.645958464e+03   9.9e-02  0.80  \n",
      "(CVXPY) Jan 27 08:12:09 PM: 6   6.9e+00  1.1e+01  7.0e-01  3.32e-01   1.135836563e+03   1.138391456e+03   4.9e-02  0.84  \n",
      "(CVXPY) Jan 27 08:12:09 PM: 7   2.6e+00  4.3e+00  1.7e-01  6.90e-01   6.433717496e+02   6.443825583e+02   1.8e-02  0.89  \n",
      "(CVXPY) Jan 27 08:12:09 PM: 8   7.7e-01  1.3e+00  2.9e-02  9.19e-01   2.519392152e+02   2.522318222e+02   5.5e-03  0.95  \n",
      "(CVXPY) Jan 27 08:12:09 PM: 9   1.9e-01  3.1e-01  3.7e-03  1.00e+00   1.112136823e+02   1.112831916e+02   1.4e-03  1.00  \n",
      "(CVXPY) Jan 27 08:12:09 PM: 10  5.2e-02  8.4e-02  5.2e-04  1.01e+00   6.185792813e+01   6.187635074e+01   3.6e-04  1.06  \n",
      "(CVXPY) Jan 27 08:12:09 PM: 11  1.3e-02  2.2e-02  7.0e-05  1.00e+00   4.731442626e+01   4.731918194e+01   9.5e-05  1.12  \n",
      "(CVXPY) Jan 27 08:12:09 PM: 12  4.1e-03  6.7e-03  1.2e-05  1.00e+00   4.361501519e+01   4.361646033e+01   2.9e-05  1.19  \n",
      "(CVXPY) Jan 27 08:12:09 PM: 13  1.3e-03  2.1e-03  2.1e-06  9.99e-01   4.251789703e+01   4.251835713e+01   9.3e-06  1.23  \n",
      "(CVXPY) Jan 27 08:12:09 PM: 14  4.8e-04  7.9e-04  4.9e-07  9.99e-01   4.220398675e+01   4.220415345e+01   3.4e-06  1.28  \n",
      "(CVXPY) Jan 27 08:12:10 PM: 15  1.1e-04  1.7e-04  5.0e-08  1.00e+00   4.207786875e+01   4.207790502e+01   7.5e-07  1.33  \n",
      "(CVXPY) Jan 27 08:12:10 PM: 16  6.0e-06  9.7e-06  6.2e-10  1.00e+00   4.204776570e+01   4.204776790e+01   4.2e-08  1.39  \n",
      "(CVXPY) Jan 27 08:12:10 PM: 17  3.1e-06  8.5e-05  2.3e-10  9.71e-01   4.204640004e+01   4.204640115e+01   2.1e-08  1.42  \n",
      "(CVXPY) Jan 27 08:12:10 PM: 18  1.6e-06  4.5e-05  9.2e-11  9.98e-01   4.204593607e+01   4.204593666e+01   1.1e-08  1.47  \n",
      "(CVXPY) Jan 27 08:12:10 PM: 19  7.9e-07  2.2e-05  3.2e-11  9.96e-01   4.204558734e+01   4.204558762e+01   5.5e-09  1.52  \n",
      "(CVXPY) Jan 27 08:12:10 PM: 20  2.9e-07  8.1e-06  7.2e-12  9.84e-01   4.204545489e+01   4.204545499e+01   2.0e-09  1.56  \n",
      "(CVXPY) Jan 27 08:12:10 PM: 21  9.4e-08  2.6e-06  1.3e-12  9.93e-01   4.204539003e+01   4.204539006e+01   6.5e-10  1.67  \n",
      "(CVXPY) Jan 27 08:12:10 PM: Optimizer terminated. Time: 1.69    \n",
      "(CVXPY) Jan 27 08:12:10 PM: \n",
      "(CVXPY) Jan 27 08:12:10 PM: \n",
      "(CVXPY) Jan 27 08:12:10 PM: Interior-point solution summary\n",
      "(CVXPY) Jan 27 08:12:10 PM:   Problem status  : PRIMAL_AND_DUAL_FEASIBLE\n",
      "(CVXPY) Jan 27 08:12:10 PM:   Solution status : OPTIMAL\n"
     ]
    },
    {
     "name": "stdout",
     "output_type": "stream",
     "text": [
      "(CVXPY) Jan 27 08:12:10 PM:   Primal.  obj: 4.2045390026e+01    nrm: 1e+02    Viol.  con: 2e-06    var: 5e-07    cones: 0e+00  \n",
      "(CVXPY) Jan 27 08:12:10 PM:   Dual.    obj: 4.2045390059e+01    nrm: 6e+03    Viol.  con: 0e+00    var: 9e-09    cones: 0e+00  \n",
      "-------------------------------------------------------------------------------\n",
      "                                    Summary                                    \n",
      "-------------------------------------------------------------------------------\n",
      "(CVXPY) Jan 27 08:12:10 PM: Problem status: optimal\n",
      "(CVXPY) Jan 27 08:12:10 PM: Optimal value: 4.205e+01\n",
      "(CVXPY) Jan 27 08:12:10 PM: Compilation took 1.343e+00 seconds\n",
      "(CVXPY) Jan 27 08:12:10 PM: Solver (including time spent in interface) took 2.263e+00 seconds\n",
      "Creating BEV..\n",
      "Loading full influence matrix..\n",
      "Done\n"
     ]
    }
   ],
   "source": [
    "data_dir = r'../data'\n",
    "data = pp.DataExplorer(data_dir=data_dir)\n",
    "patient_id = 'Lung_Phantom_Patient_1'\n",
    "data.patient_id = patient_id\n",
    "ct = pp.CT(data)\n",
    "structs = pp.Structures(data)\n",
    "beams = pp.Beams(data)\n",
    "opt_params = data.load_config_opt_params(protocol_name='Lung_2Gy_30Fx')\n",
    "structs.create_opt_structures(opt_params)\n",
    "inf_matrix_sparse = pp.InfluenceMatrix(ct=ct, structs=structs, beams=beams)\n",
    "protocol_name = 'Lung_2Gy_30Fx'\n",
    "clinical_criteria = pp.ClinicalCriteria(data, protocol_name)\n",
    "plan_sparse = pp.Plan(ct, structs, beams, inf_matrix_sparse, clinical_criteria)\n",
    "opt = pp.Optimization(plan_sparse, opt_params=opt_params)\n",
    "opt.create_cvxpy_problem()\n",
    "\n",
    "sol_sparse = opt.solve(solver='MOSEK', verbose=True)\n",
    "dose_sparse_1d = plan_sparse.inf_matrix.A @ (sol_sparse['optimal_intensity'] * plan_sparse.get_num_of_fractions())\n",
    "x_sparse =sol_sparse['optimal_intensity'] * plan_sparse.get_num_of_fractions()\n",
    "\n",
    "beams_full = pp.Beams(data, load_inf_matrix_full=True)\n",
    "inf_matrix_full = pp.InfluenceMatrix(ct=ct, structs=structs, beams=beams_full, is_full=True)\n",
    "plan_full = pp.Plan(ct, structs, beams, inf_matrix_full, clinical_criteria)\n",
    "dose_full_1d = plan_full.inf_matrix.A @ (sol_sparse['optimal_intensity'] * plan_full.get_num_of_fractions())\n",
    "\n",
    "A_full = plan_full.inf_matrix.A\n",
    "A_sparse = plan_sparse.inf_matrix.A\n"
   ]
  },
  {
   "cell_type": "markdown",
   "id": "11d75344",
   "metadata": {},
   "source": [
    "مقاله ی ۱۵۰۱.۰۱۷۱۱"
   ]
  },
  {
   "cell_type": "raw",
   "id": "b04a2964",
   "metadata": {
    "scrolled": true
   },
   "source": [
    "start_time = time.time()\n",
    "\n",
    "def frequent_directions(l, A_full):\n",
    "    n, d = (A_full.T).shape\n",
    "    #l = int(np.ceil(1 / epsilon)) \n",
    "    B = np.zeros((l, d))\n",
    "    \n",
    "    for i in range(n):\n",
    "        Bl = A_full[i]\n",
    "        U, Sigma, Vt = svd(B, full_matrices=False)\n",
    "        #l = min(l, d)\n",
    "        delta = Sigma ** 2\n",
    "        #B = np.vstack((B[1:], np.zeros((1, d))))\n",
    "        B = np.sqrt(Sigma ** 2 - delta * np.identity(l)) @ Vt\n",
    "        #C += np.diag(Sigma) @ Vt  \n",
    "        \n",
    "    return B\n",
    "\n",
    "n, d = (A_full.T).shape\n",
    "l =d  #l   فقط 542 میشه. 60183 نمیشه! را چند بگیرم که مناسب باشه؟\n",
    "B = frequent_directions(l, A_full)\n",
    "print(B)  \n",
    "\n",
    "end_time = time.time()\n",
    "\n",
    "total_execution_time = end_time - start_time\n",
    "print(f\"زمان کل اجرا: {total_execution_time} ثانیه\")\n"
   ]
  },
  {
   "cell_type": "code",
   "execution_count": 4,
   "id": "d010c983",
   "metadata": {},
   "outputs": [
    {
     "name": "stdout",
     "output_type": "stream",
     "text": [
      "[[0. 0. 0. ... 0. 0. 0.]\n",
      " [0. 0. 0. ... 0. 0. 0.]\n",
      " [0. 0. 0. ... 0. 0. 0.]\n",
      " ...\n",
      " [0. 0. 0. ... 0. 0. 0.]\n",
      " [0. 0. 0. ... 0. 0. 0.]\n",
      " [0. 0. 0. ... 0. 0. 0.]]\n",
      "زمان کل اجرا: 1489.8521308898926 ثانیه\n"
     ]
    }
   ],
   "source": [
    "start_time = time.time()\n",
    "\n",
    "def frequent_directions(l, A_full):\n",
    "    n, d = (A_full.T).shape\n",
    "    #l = int(np.ceil(1 / epsilon)) \n",
    "    B = np.zeros((l, d))\n",
    "    \n",
    "    for i in range(n):\n",
    "        Bl = A_full[i]\n",
    "        U, Sigma, Vt = svd(B, full_matrices=False)\n",
    "        #l = min(l, d)\n",
    "        delta = Sigma ** 2\n",
    "        #B = np.vstack((B[1:], np.zeros((1, d))))\n",
    "        B = np.sqrt(Sigma ** 2 - delta * np.identity(l)) @ Vt\n",
    "        #C += np.diag(Sigma) @ Vt  \n",
    "        \n",
    "    return B\n",
    "\n",
    "n, d = (A_full.T).shape\n",
    "l = n  #l   فقط 542 میشه. 60183 نمیشه! را چند بگیرم که مناسب باشه؟\n",
    "B = frequent_directions(l, A_full)\n",
    "print(B)  \n",
    "\n",
    "end_time = time.time()\n",
    "\n",
    "total_execution_time = end_time - start_time\n",
    "print(f\"زمان کل اجرا: {total_execution_time} ثانیه\")\n"
   ]
  },
  {
   "cell_type": "code",
   "execution_count": 6,
   "id": "98258e09",
   "metadata": {},
   "outputs": [
    {
     "data": {
      "text/plain": [
       "False"
      ]
     },
     "execution_count": 6,
     "metadata": {},
     "output_type": "execute_result"
    }
   ],
   "source": [
    "## بررسی  پراکندگی ماتریس\n",
    "\n",
    "is_sparse = sparse.issparse(B)\n",
    "is_sparse"
   ]
  },
  {
   "cell_type": "code",
   "execution_count": 41,
   "id": "ef9ed037",
   "metadata": {},
   "outputs": [
    {
     "name": "stdout",
     "output_type": "stream",
     "text": [
      "B = (542, 60183)\n",
      "A = (60183, 542)\n",
      "d = (60183,)\n"
     ]
    }
   ],
   "source": [
    "B = B\n",
    "A = A_full\n",
    "d = dose_full_1d\n",
    "print(f'B = {B.shape}\\nA = {A.shape}\\nd = {d.shape}')"
   ]
  },
  {
   "cell_type": "code",
   "execution_count": 42,
   "id": "77486f52",
   "metadata": {},
   "outputs": [
    {
     "name": "stdout",
     "output_type": "stream",
     "text": [
      "زمان کل اجرا: 0.6757786273956299 ثانیه\n"
     ]
    }
   ],
   "source": [
    "start_time = time.time()\n",
    "\n",
    "sol_ls_B = scipy.sparse.linalg.lsqr(B @ A , B @ d)   \n",
    "\n",
    "end_time = time.time()\n",
    "\n",
    "total_execution_time = end_time - start_time\n",
    "print(f\"زمان کل اجرا: {total_execution_time} ثانیه\")"
   ]
  },
  {
   "cell_type": "code",
   "execution_count": 44,
   "id": "3a57877e",
   "metadata": {
    "collapsed": true
   },
   "outputs": [
    {
     "data": {
      "text/plain": [
       "(array([0., 0., 0., 0., 0., 0., 0., 0., 0., 0., 0., 0., 0., 0., 0., 0., 0.,\n",
       "        0., 0., 0., 0., 0., 0., 0., 0., 0., 0., 0., 0., 0., 0., 0., 0., 0.,\n",
       "        0., 0., 0., 0., 0., 0., 0., 0., 0., 0., 0., 0., 0., 0., 0., 0., 0.,\n",
       "        0., 0., 0., 0., 0., 0., 0., 0., 0., 0., 0., 0., 0., 0., 0., 0., 0.,\n",
       "        0., 0., 0., 0., 0., 0., 0., 0., 0., 0., 0., 0., 0., 0., 0., 0., 0.,\n",
       "        0., 0., 0., 0., 0., 0., 0., 0., 0., 0., 0., 0., 0., 0., 0., 0., 0.,\n",
       "        0., 0., 0., 0., 0., 0., 0., 0., 0., 0., 0., 0., 0., 0., 0., 0., 0.,\n",
       "        0., 0., 0., 0., 0., 0., 0., 0., 0., 0., 0., 0., 0., 0., 0., 0., 0.,\n",
       "        0., 0., 0., 0., 0., 0., 0., 0., 0., 0., 0., 0., 0., 0., 0., 0., 0.,\n",
       "        0., 0., 0., 0., 0., 0., 0., 0., 0., 0., 0., 0., 0., 0., 0., 0., 0.,\n",
       "        0., 0., 0., 0., 0., 0., 0., 0., 0., 0., 0., 0., 0., 0., 0., 0., 0.,\n",
       "        0., 0., 0., 0., 0., 0., 0., 0., 0., 0., 0., 0., 0., 0., 0., 0., 0.,\n",
       "        0., 0., 0., 0., 0., 0., 0., 0., 0., 0., 0., 0., 0., 0., 0., 0., 0.,\n",
       "        0., 0., 0., 0., 0., 0., 0., 0., 0., 0., 0., 0., 0., 0., 0., 0., 0.,\n",
       "        0., 0., 0., 0., 0., 0., 0., 0., 0., 0., 0., 0., 0., 0., 0., 0., 0.,\n",
       "        0., 0., 0., 0., 0., 0., 0., 0., 0., 0., 0., 0., 0., 0., 0., 0., 0.,\n",
       "        0., 0., 0., 0., 0., 0., 0., 0., 0., 0., 0., 0., 0., 0., 0., 0., 0.,\n",
       "        0., 0., 0., 0., 0., 0., 0., 0., 0., 0., 0., 0., 0., 0., 0., 0., 0.,\n",
       "        0., 0., 0., 0., 0., 0., 0., 0., 0., 0., 0., 0., 0., 0., 0., 0., 0.,\n",
       "        0., 0., 0., 0., 0., 0., 0., 0., 0., 0., 0., 0., 0., 0., 0., 0., 0.,\n",
       "        0., 0., 0., 0., 0., 0., 0., 0., 0., 0., 0., 0., 0., 0., 0., 0., 0.,\n",
       "        0., 0., 0., 0., 0., 0., 0., 0., 0., 0., 0., 0., 0., 0., 0., 0., 0.,\n",
       "        0., 0., 0., 0., 0., 0., 0., 0., 0., 0., 0., 0., 0., 0., 0., 0., 0.,\n",
       "        0., 0., 0., 0., 0., 0., 0., 0., 0., 0., 0., 0., 0., 0., 0., 0., 0.,\n",
       "        0., 0., 0., 0., 0., 0., 0., 0., 0., 0., 0., 0., 0., 0., 0., 0., 0.,\n",
       "        0., 0., 0., 0., 0., 0., 0., 0., 0., 0., 0., 0., 0., 0., 0., 0., 0.,\n",
       "        0., 0., 0., 0., 0., 0., 0., 0., 0., 0., 0., 0., 0., 0., 0., 0., 0.,\n",
       "        0., 0., 0., 0., 0., 0., 0., 0., 0., 0., 0., 0., 0., 0., 0., 0., 0.,\n",
       "        0., 0., 0., 0., 0., 0., 0., 0., 0., 0., 0., 0., 0., 0., 0., 0., 0.,\n",
       "        0., 0., 0., 0., 0., 0., 0., 0., 0., 0., 0., 0., 0., 0., 0., 0., 0.,\n",
       "        0., 0., 0., 0., 0., 0., 0., 0., 0., 0., 0., 0., 0., 0., 0., 0., 0.,\n",
       "        0., 0., 0., 0., 0., 0., 0., 0., 0., 0., 0., 0., 0., 0., 0.]),\n",
       " 0,\n",
       " 0,\n",
       " 0.0,\n",
       " 0.0,\n",
       " 0,\n",
       " 0,\n",
       " 0.0,\n",
       " 0,\n",
       " array([0., 0., 0., 0., 0., 0., 0., 0., 0., 0., 0., 0., 0., 0., 0., 0., 0.,\n",
       "        0., 0., 0., 0., 0., 0., 0., 0., 0., 0., 0., 0., 0., 0., 0., 0., 0.,\n",
       "        0., 0., 0., 0., 0., 0., 0., 0., 0., 0., 0., 0., 0., 0., 0., 0., 0.,\n",
       "        0., 0., 0., 0., 0., 0., 0., 0., 0., 0., 0., 0., 0., 0., 0., 0., 0.,\n",
       "        0., 0., 0., 0., 0., 0., 0., 0., 0., 0., 0., 0., 0., 0., 0., 0., 0.,\n",
       "        0., 0., 0., 0., 0., 0., 0., 0., 0., 0., 0., 0., 0., 0., 0., 0., 0.,\n",
       "        0., 0., 0., 0., 0., 0., 0., 0., 0., 0., 0., 0., 0., 0., 0., 0., 0.,\n",
       "        0., 0., 0., 0., 0., 0., 0., 0., 0., 0., 0., 0., 0., 0., 0., 0., 0.,\n",
       "        0., 0., 0., 0., 0., 0., 0., 0., 0., 0., 0., 0., 0., 0., 0., 0., 0.,\n",
       "        0., 0., 0., 0., 0., 0., 0., 0., 0., 0., 0., 0., 0., 0., 0., 0., 0.,\n",
       "        0., 0., 0., 0., 0., 0., 0., 0., 0., 0., 0., 0., 0., 0., 0., 0., 0.,\n",
       "        0., 0., 0., 0., 0., 0., 0., 0., 0., 0., 0., 0., 0., 0., 0., 0., 0.,\n",
       "        0., 0., 0., 0., 0., 0., 0., 0., 0., 0., 0., 0., 0., 0., 0., 0., 0.,\n",
       "        0., 0., 0., 0., 0., 0., 0., 0., 0., 0., 0., 0., 0., 0., 0., 0., 0.,\n",
       "        0., 0., 0., 0., 0., 0., 0., 0., 0., 0., 0., 0., 0., 0., 0., 0., 0.,\n",
       "        0., 0., 0., 0., 0., 0., 0., 0., 0., 0., 0., 0., 0., 0., 0., 0., 0.,\n",
       "        0., 0., 0., 0., 0., 0., 0., 0., 0., 0., 0., 0., 0., 0., 0., 0., 0.,\n",
       "        0., 0., 0., 0., 0., 0., 0., 0., 0., 0., 0., 0., 0., 0., 0., 0., 0.,\n",
       "        0., 0., 0., 0., 0., 0., 0., 0., 0., 0., 0., 0., 0., 0., 0., 0., 0.,\n",
       "        0., 0., 0., 0., 0., 0., 0., 0., 0., 0., 0., 0., 0., 0., 0., 0., 0.,\n",
       "        0., 0., 0., 0., 0., 0., 0., 0., 0., 0., 0., 0., 0., 0., 0., 0., 0.,\n",
       "        0., 0., 0., 0., 0., 0., 0., 0., 0., 0., 0., 0., 0., 0., 0., 0., 0.,\n",
       "        0., 0., 0., 0., 0., 0., 0., 0., 0., 0., 0., 0., 0., 0., 0., 0., 0.,\n",
       "        0., 0., 0., 0., 0., 0., 0., 0., 0., 0., 0., 0., 0., 0., 0., 0., 0.,\n",
       "        0., 0., 0., 0., 0., 0., 0., 0., 0., 0., 0., 0., 0., 0., 0., 0., 0.,\n",
       "        0., 0., 0., 0., 0., 0., 0., 0., 0., 0., 0., 0., 0., 0., 0., 0., 0.,\n",
       "        0., 0., 0., 0., 0., 0., 0., 0., 0., 0., 0., 0., 0., 0., 0., 0., 0.,\n",
       "        0., 0., 0., 0., 0., 0., 0., 0., 0., 0., 0., 0., 0., 0., 0., 0., 0.,\n",
       "        0., 0., 0., 0., 0., 0., 0., 0., 0., 0., 0., 0., 0., 0., 0., 0., 0.,\n",
       "        0., 0., 0., 0., 0., 0., 0., 0., 0., 0., 0., 0., 0., 0., 0., 0., 0.,\n",
       "        0., 0., 0., 0., 0., 0., 0., 0., 0., 0., 0., 0., 0., 0., 0., 0., 0.,\n",
       "        0., 0., 0., 0., 0., 0., 0., 0., 0., 0., 0., 0., 0., 0., 0.]))"
      ]
     },
     "execution_count": 44,
     "metadata": {},
     "output_type": "execute_result"
    }
   ],
   "source": [
    "sol_ls_B"
   ]
  },
  {
   "cell_type": "code",
   "execution_count": 43,
   "id": "3896a9d2",
   "metadata": {},
   "outputs": [
    {
     "data": {
      "text/plain": [
       "1.0"
      ]
     },
     "execution_count": 43,
     "metadata": {},
     "output_type": "execute_result"
    }
   ],
   "source": [
    "\n",
    "sol_ls_A_full = scipy.sparse.linalg.lsqr(A , d)\n",
    "\n",
    "x_A_full = sol_ls_A_full[0]\n",
    "\n",
    "cost = cp.norm(A @ x_A_full - A @ x_Fre, \"fro\")/ cp.norm(A @ x_A_full, \"fro\")\n",
    "\n",
    "\n",
    "# تغییر مسئله بهینه‌سازی\n",
    "prob = cp.Problem(cp.Minimize(cost))\n",
    "\n",
    "# حل مسئله\n",
    "prob.solve()\n"
   ]
  },
  {
   "cell_type": "code",
   "execution_count": 33,
   "id": "c575028f",
   "metadata": {},
   "outputs": [
    {
     "name": "stdout",
     "output_type": "stream",
     "text": [
      "نرم خطای مطلق بین دو بردار: 4095.8777787239264\n"
     ]
    }
   ],
   "source": [
    "import numpy as np\n",
    "\n",
    "def calculate_absolute_error(vector1, vector2):\n",
    "    array1 = np.array(x_A_full)\n",
    "    array2 = np.array(x_Fre)\n",
    "\n",
    "    absolute_error = np.linalg.norm(array1 - array2, ord=1) \n",
    "\n",
    "    return absolute_error\n",
    "\n",
    "\n",
    "error = calculate_absolute_error(x_A_full, x_Fre)\n",
    "print(f\"نرم خطای مطلق بین دو بردار: {error}\")\n"
   ]
  },
  {
   "cell_type": "code",
   "execution_count": 24,
   "id": "115e5052",
   "metadata": {},
   "outputs": [
    {
     "name": "stdout",
     "output_type": "stream",
     "text": [
      "x_Fre :\t [0. 0. 0. 0. 0. 0.]\n"
     ]
    },
    {
     "data": {
      "text/plain": [
       "1.0000000000000002"
      ]
     },
     "execution_count": 24,
     "metadata": {},
     "output_type": "execute_result"
    }
   ],
   "source": [
    "import cvxpy as cp\n",
    "x_Fre = sol_ls_B[0]\n",
    "print(f'x_Fre :\\t {x_Fre[0:6]}')\n",
    "\n",
    "\n",
    "cost = cp.sum_squares((A @ x_A_full  - A @ x_Fre  )/ cp.norm(A @ x_A_full))\n",
    "prob = cp.Problem(Minimize(cost))\n",
    "prob.solve()"
   ]
  },
  {
   "cell_type": "code",
   "execution_count": 34,
   "id": "00a83005",
   "metadata": {},
   "outputs": [
    {
     "name": "stdout",
     "output_type": "stream",
     "text": [
      "میزان حافظه sol_ls_JL_1 : 0.00011444091796875 مگابایت\n"
     ]
    }
   ],
   "source": [
    "memory_usage_sol_ls_B = sys.getsizeof(sol_ls_B )\n",
    "megabyte_size_sol_ls_B = memory_usage_sol_ls_B / 1024 / 1024\n",
    "\n",
    "print(f\"میزان حافظه sol_ls_JL_1 : {megabyte_size_sol_ls_B} مگابایت\")"
   ]
  },
  {
   "cell_type": "code",
   "execution_count": 35,
   "id": "ebbcb52e",
   "metadata": {},
   "outputs": [
    {
     "name": "stdout",
     "output_type": "stream",
     "text": [
      "میزان حافظه ساخت JL_2 : 0.0001220703125 مگابایت\n"
     ]
    }
   ],
   "source": [
    "memory_usage_B = sys.getsizeof(B )\n",
    "megabyte_size_B = memory_usage_B / 1024 / 1024\n",
    "\n",
    "print(f\"میزان حافظه ساخت JL_2 : {megabyte_size_B} مگابایت\")"
   ]
  },
  {
   "cell_type": "code",
   "execution_count": 36,
   "id": "e7199237",
   "metadata": {},
   "outputs": [
    {
     "name": "stdout",
     "output_type": "stream",
     "text": [
      "Mean Squared Error : 191.53833375899814\n"
     ]
    }
   ],
   "source": [
    "## MSE = Mean Squared Error\n",
    "\n",
    "d_true = d          # دوز واقعی\n",
    "d_pred = A @ x_Fre   # دوز پیش‌بینی شده\n",
    "\n",
    "MSE = np.mean((d_true - d_pred) ** 2)\n",
    "print(\"Mean Squared Error :\", MSE)\n"
   ]
  },
  {
   "cell_type": "code",
   "execution_count": 40,
   "id": "18c01e06",
   "metadata": {},
   "outputs": [
    {
     "name": "stdout",
     "output_type": "stream",
     "text": [
      "Mean Squared Error : 191.5383338107377\n"
     ]
    }
   ],
   "source": [
    "## تابع (هدف)خطای میانگین مربعات\n",
    "## MSE = Mean Squared Error\n",
    "\n",
    "d_true = A @ x_A_full        # دوز واقعی\n",
    "d_pred = A @ x_Fre   # دوز پیش‌بینی شده\n",
    "\n",
    "MSE = np.mean((d_true - d_pred) ** 2)\n",
    "print(\"Mean Squared Error :\", MSE)\n"
   ]
  },
  {
   "cell_type": "code",
   "execution_count": 27,
   "id": "e167989f",
   "metadata": {},
   "outputs": [
    {
     "name": "stdout",
     "output_type": "stream",
     "text": [
      "نرم خطای نسبی بین دو بردار: 1.0\n"
     ]
    }
   ],
   "source": [
    "import numpy as np\n",
    "\n",
    "def calculate_relative_error(vector1, vector2):\n",
    "   \n",
    "    array1 = np.array(x_A_full)\n",
    "    array2 = np.array(x_Fre)\n",
    "\n",
    "    norm_vector2 = np.linalg.norm(x_A_full)\n",
    "\n",
    "    relative_error = np.linalg.norm(x_A_full - x_Fre) / norm_vector2\n",
    "\n",
    "    return relative_error\n",
    "\n",
    "error = calculate_relative_error(x_A_full, x_Fre)\n",
    "print(f\"نرم خطای نسبی بین دو بردار: {error}\")\n"
   ]
  },
  {
   "cell_type": "code",
   "execution_count": 25,
   "id": "782b7a1d",
   "metadata": {},
   "outputs": [
    {
     "data": {
      "text/plain": [
       "1.0"
      ]
     },
     "execution_count": 25,
     "metadata": {},
     "output_type": "execute_result"
    }
   ],
   "source": [
    "cost = cp.sum_squares((A @ x_Fre - d )/ cp.norm(d))\n",
    "prob = cp.Problem(Minimize(cost))\n",
    "prob.solve()"
   ]
  },
  {
   "cell_type": "code",
   "execution_count": 30,
   "id": "8c0b4ed2",
   "metadata": {},
   "outputs": [
    {
     "name": "stdout",
     "output_type": "stream",
     "text": [
      " رتبه ماتریس تقریب = 0\n",
      "رتبه ماتریس کامل = 542\n"
     ]
    }
   ],
   "source": [
    "r1 = np.linalg.matrix_rank(B @ A_full ) \n",
    "r2 = np.linalg.matrix_rank(A_full)      \n",
    "print( f' رتبه ماتریس تقریب = {r1}\\nرتبه ماتریس کامل = {r2}')"
   ]
  },
  {
   "cell_type": "code",
   "execution_count": 18,
   "id": "fb64d040",
   "metadata": {},
   "outputs": [
    {
     "name": "stdout",
     "output_type": "stream",
     "text": [
      "تعداد مقادیر غیر صفر ماتریس کامل:  0\n",
      "تعداد عناصر غیر صفر در ماتریس BA : 0\n"
     ]
    }
   ],
   "source": [
    "nonzero_count = np.count_nonzero(B)\n",
    "print(\"تعداد مقادیر غیر صفر ماتریس کامل: \", nonzero_count)\n",
    "num_non_zero = np.count_nonzero(B @ A)\n",
    "print(\"تعداد عناصر غیر صفر در ماتریس BA :\", num_non_zero)"
   ]
  },
  {
   "cell_type": "raw",
   "id": "fdb4b531",
   "metadata": {
    "collapsed": true
   },
   "source": [
    "start_time = time.time()\n",
    "\n",
    "def frequent_directions(l, A_full):\n",
    "    n, d = A_full.shape\n",
    "    #l = int(np.ceil(1 / epsilon)) \n",
    "    B_2 = np.zeros((l, d))\n",
    "    \n",
    "    for i in range(n):\n",
    "        Bl = A_full[i]\n",
    "        U, Sigma, Vt = svd(B, full_matrices=False)\n",
    "        #l = min(l, d)\n",
    "        delta = Sigma ** 2\n",
    "        #B = np.vstack((B[1:], np.zeros((1, d))))\n",
    "        B_2 = np.sqrt(Sigma ** 2 - delta * np.identity(l)) @ Vt\n",
    "        #C += np.diag(Sigma) @ Vt  \n",
    "        \n",
    "    return B\n",
    "\n",
    "n, d = A_full.shape\n",
    "l = n  #l را چند بگیرم که مناسب باشه؟\n",
    "B_2 = frequent_directions(l, A_full)\n",
    "print(B_2)  \n",
    "\n",
    "end_time = time.time()\n",
    "\n",
    "total_execution_time = end_time - start_time\n",
    "print(f\"زمان کل اجرا: {total_execution_time} ثانیه\")\n"
   ]
  },
  {
   "cell_type": "raw",
   "id": "f7277212",
   "metadata": {},
   "source": [
    "B = np.zeros((int(l), A_sparse.shape[1] ), dtype=np.float32)  \n",
    "A_sparse = A_sparse.astype(np.float32)"
   ]
  },
  {
   "cell_type": "markdown",
   "id": "095a94fa",
   "metadata": {},
   "source": [
    "dose_sparse_1d.shape"
   ]
  },
  {
   "cell_type": "raw",
   "id": "23470783",
   "metadata": {},
   "source": [
    "start_time = time.time()\n",
    "\n",
    "def frequent_directions(k, epsilon, A_sparse):\n",
    "    n, d = A_sparse.shape\n",
    "    #l = int(np.ceil(1 / epsilon)) \n",
    "    l = k + 1/epsilon \n",
    "    B = np.zeros((int(l), A_sparse.shape[1]))\n",
    "    \n",
    "    for i in range(n):\n",
    "        B[int(l) - 1, :] = A_sparse[i, :]\n",
    "        U, Sigma, Vt = svd(B, full_matrices=False)\n",
    "        delta = Sigma ** 2\n",
    "        B = np.sqrt(Sigma ** 2 - delta * np.identity(int(l))) @ Vt\n",
    "    \n",
    "    return B \n"
   ]
  },
  {
   "cell_type": "code",
   "execution_count": null,
   "id": "d1aec2fd",
   "metadata": {},
   "outputs": [],
   "source": []
  }
 ],
 "metadata": {
  "kernelspec": {
   "display_name": "Python 3 (ipykernel)",
   "language": "python",
   "name": "python3"
  },
  "language_info": {
   "codemirror_mode": {
    "name": "ipython",
    "version": 3
   },
   "file_extension": ".py",
   "mimetype": "text/x-python",
   "name": "python",
   "nbconvert_exporter": "python",
   "pygments_lexer": "ipython3",
   "version": "3.10.9"
  }
 },
 "nbformat": 4,
 "nbformat_minor": 5
}
