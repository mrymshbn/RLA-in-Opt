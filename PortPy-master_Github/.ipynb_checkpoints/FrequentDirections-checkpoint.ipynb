{
 "cells": [
  {
   "cell_type": "code",
   "execution_count": 1,
   "id": "d1401545",
   "metadata": {},
   "outputs": [],
   "source": [
    "from scipy.linalg import svd\n",
    "import time\n",
    "import scipy\n",
    "import random\n",
    "import portpy.photon as pp\n",
    "import numpy as np\n",
    "from cvxpy import *\n",
    "from scipy import sparse\n",
    "import sklearn.metrics\n",
    "import cProfile\n",
    "import time\n",
    "import sys\n",
    "import psutil"
   ]
  },
  {
   "cell_type": "code",
   "execution_count": 2,
   "id": "68983088",
   "metadata": {
    "collapsed": true
   },
   "outputs": [
    {
     "name": "stdout",
     "output_type": "stream",
     "text": [
      "creating rinds.. This step may take some time due to dilation\n",
      "rinds created!!\n",
      "Creating BEV..\n",
      "Loading sparse influence matrix...\n",
      "Done\n",
      "Objective Start\n",
      "Objective done\n",
      "Constraints Start\n",
      "Structure ESOPHAGUS not available!\n",
      "Structure ESOPHAGUS not available!\n",
      "Constraints done\n",
      "===============================================================================\n",
      "                                     CVXPY                                     \n",
      "                                     v1.4.1                                    \n",
      "===============================================================================\n",
      "(CVXPY) Nov 15 07:53:07 PM: Your problem has 1946 variables, 14 constraints, and 0 parameters.\n",
      "(CVXPY) Nov 15 07:53:07 PM: It is compliant with the following grammars: DCP, DQCP\n",
      "(CVXPY) Nov 15 07:53:07 PM: (If you need to solve this problem multiple times, but with different data, consider using parameters.)\n",
      "(CVXPY) Nov 15 07:53:07 PM: CVXPY will first compile your problem; then, it will invoke a numerical solver to obtain a solution.\n",
      "(CVXPY) Nov 15 07:53:07 PM: Your problem is compiled with the CPP canonicalization backend.\n",
      "-------------------------------------------------------------------------------\n",
      "                                  Compilation                                  \n",
      "-------------------------------------------------------------------------------\n",
      "(CVXPY) Nov 15 07:53:07 PM: Compiling problem (target solver=MOSEK).\n",
      "(CVXPY) Nov 15 07:53:07 PM: Reduction chain: Dcp2Cone -> CvxAttr2Constr -> ConeMatrixStuffing -> MOSEK\n",
      "(CVXPY) Nov 15 07:53:07 PM: Applying reduction Dcp2Cone\n",
      "(CVXPY) Nov 15 07:53:07 PM: Applying reduction CvxAttr2Constr\n",
      "(CVXPY) Nov 15 07:53:07 PM: Applying reduction ConeMatrixStuffing\n",
      "(CVXPY) Nov 15 07:53:07 PM: Applying reduction MOSEK\n",
      "(CVXPY) Nov 15 07:53:08 PM: Finished problem compilation (took 9.960e-01 seconds).\n",
      "-------------------------------------------------------------------------------\n",
      "                                Numerical solver                               \n",
      "-------------------------------------------------------------------------------\n",
      "(CVXPY) Nov 15 07:53:08 PM: Invoking solver MOSEK  to obtain a solution.\n",
      "\n",
      "\n",
      "(CVXPY) Nov 15 07:53:08 PM: Problem\n",
      "(CVXPY) Nov 15 07:53:08 PM:   Name                   :                 \n",
      "(CVXPY) Nov 15 07:53:08 PM:   Objective sense        : maximize        \n",
      "(CVXPY) Nov 15 07:53:08 PM:   Type                   : CONIC (conic optimization problem)\n",
      "(CVXPY) Nov 15 07:53:08 PM:   Constraints            : 1959            \n",
      "(CVXPY) Nov 15 07:53:08 PM:   Affine conic cons.     : 0               \n",
      "(CVXPY) Nov 15 07:53:08 PM:   Disjunctive cons.      : 0               \n",
      "(CVXPY) Nov 15 07:53:08 PM:   Cones                  : 13              \n",
      "(CVXPY) Nov 15 07:53:08 PM:   Scalar variables       : 215748          \n",
      "(CVXPY) Nov 15 07:53:08 PM:   Matrix variables       : 0               \n",
      "(CVXPY) Nov 15 07:53:08 PM:   Integer variables      : 0               \n",
      "(CVXPY) Nov 15 07:53:08 PM: \n",
      "(CVXPY) Nov 15 07:53:08 PM: Optimizer started.\n",
      "(CVXPY) Nov 15 07:53:08 PM: Presolve started.\n",
      "(CVXPY) Nov 15 07:53:08 PM: Linear dependency checker started.\n",
      "(CVXPY) Nov 15 07:53:08 PM: Linear dependency checker terminated.\n",
      "(CVXPY) Nov 15 07:53:08 PM: Eliminator started.\n",
      "(CVXPY) Nov 15 07:53:08 PM: Freed constraints in eliminator : 0\n",
      "(CVXPY) Nov 15 07:53:08 PM: Eliminator terminated.\n",
      "(CVXPY) Nov 15 07:53:08 PM: Eliminator - tries                  : 1                 time                   : 0.00            \n",
      "(CVXPY) Nov 15 07:53:08 PM: Lin. dep.  - tries                  : 1                 time                   : 0.02            \n",
      "(CVXPY) Nov 15 07:53:08 PM: Lin. dep.  - primal attempts        : 1                 successes              : 1               \n",
      "(CVXPY) Nov 15 07:53:08 PM: Lin. dep.  - dual attempts          : 0                 successes              : 0               \n",
      "(CVXPY) Nov 15 07:53:08 PM: Lin. dep.  - primal deps.           : 0                 dual deps.             : 0               \n",
      "(CVXPY) Nov 15 07:53:08 PM: Presolve terminated. Time: 0.17    \n",
      "(CVXPY) Nov 15 07:53:08 PM: Optimizer  - threads                : 2               \n",
      "(CVXPY) Nov 15 07:53:08 PM: Optimizer  - solved problem         : the primal      \n",
      "(CVXPY) Nov 15 07:53:08 PM: Optimizer  - Constraints            : 1959            \n",
      "(CVXPY) Nov 15 07:53:08 PM: Optimizer  - Cones                  : 13              \n",
      "(CVXPY) Nov 15 07:53:08 PM: Optimizer  - Scalar variables       : 63183             conic                  : 50518           \n",
      "(CVXPY) Nov 15 07:53:08 PM: Optimizer  - Semi-definite variables: 0                 scalarized             : 0               \n",
      "(CVXPY) Nov 15 07:53:08 PM: Factor     - setup time             : 0.16            \n",
      "(CVXPY) Nov 15 07:53:08 PM: Factor     - dense det. time        : 0.00              GP order time          : 0.00            \n",
      "(CVXPY) Nov 15 07:53:08 PM: Factor     - nonzeros before factor : 2.46e+05          after factor           : 2.47e+05        \n",
      "(CVXPY) Nov 15 07:53:08 PM: Factor     - dense dim.             : 4                 flops                  : 8.21e+07        \n",
      "(CVXPY) Nov 15 07:53:08 PM: ITE PFEAS    DFEAS    GFEAS    PRSTATUS   POBJ              DOBJ              MU       TIME  \n",
      "(CVXPY) Nov 15 07:53:08 PM: 0   1.4e+02  2.3e+02  1.4e+01  0.00e+00   -1.300000000e+01  -0.000000000e+00  1.0e+00  0.47  \n",
      "(CVXPY) Nov 15 07:53:09 PM: 1   1.2e+02  1.9e+02  1.3e+01  -9.63e-01  4.679787643e+03   4.692415819e+03   8.4e-01  0.53  \n",
      "(CVXPY) Nov 15 07:53:09 PM: 2   7.5e+01  1.2e+02  9.1e+00  -8.68e-01  6.575663964e+03   6.586712761e+03   5.3e-01  0.56  \n",
      "(CVXPY) Nov 15 07:53:09 PM: 3   3.3e+01  5.4e+01  4.7e+00  -6.48e-01  5.483660804e+03   5.491376940e+03   2.3e-01  0.61  \n",
      "(CVXPY) Nov 15 07:53:09 PM: 4   1.7e+01  2.8e+01  2.3e+00  -1.90e-01  2.759695648e+03   2.764885110e+03   1.2e-01  0.64  \n",
      "(CVXPY) Nov 15 07:53:09 PM: 5   1.4e+01  2.3e+01  1.8e+00  1.40e-01   2.641460111e+03   2.645958464e+03   9.9e-02  0.67  \n",
      "(CVXPY) Nov 15 07:53:09 PM: 6   6.9e+00  1.1e+01  7.0e-01  3.32e-01   1.135836563e+03   1.138391456e+03   4.9e-02  0.70  \n",
      "(CVXPY) Nov 15 07:53:09 PM: 7   2.6e+00  4.3e+00  1.7e-01  6.90e-01   6.433717495e+02   6.443825583e+02   1.8e-02  0.73  \n",
      "(CVXPY) Nov 15 07:53:09 PM: 8   7.7e-01  1.3e+00  2.9e-02  9.19e-01   2.519392152e+02   2.522318222e+02   5.5e-03  0.78  \n",
      "(CVXPY) Nov 15 07:53:09 PM: 9   1.9e-01  3.1e-01  3.7e-03  1.00e+00   1.112136823e+02   1.112831916e+02   1.4e-03  0.81  \n",
      "(CVXPY) Nov 15 07:53:09 PM: 10  5.2e-02  8.4e-02  5.2e-04  1.01e+00   6.185792813e+01   6.187635074e+01   3.6e-04  0.86  \n",
      "(CVXPY) Nov 15 07:53:09 PM: 11  1.3e-02  2.2e-02  7.0e-05  1.00e+00   4.731442626e+01   4.731918194e+01   9.5e-05  0.89  \n",
      "(CVXPY) Nov 15 07:53:09 PM: 12  4.1e-03  6.7e-03  1.2e-05  1.00e+00   4.361501519e+01   4.361646033e+01   2.9e-05  0.92  \n",
      "(CVXPY) Nov 15 07:53:09 PM: 13  1.3e-03  2.1e-03  2.1e-06  9.99e-01   4.251789704e+01   4.251835713e+01   9.3e-06  0.97  \n",
      "(CVXPY) Nov 15 07:53:09 PM: 14  4.8e-04  7.9e-04  4.9e-07  9.99e-01   4.220398674e+01   4.220415344e+01   3.4e-06  0.98  \n",
      "(CVXPY) Nov 15 07:53:09 PM: 15  1.1e-04  1.7e-04  5.0e-08  1.00e+00   4.207786880e+01   4.207790508e+01   7.5e-07  1.03  \n",
      "(CVXPY) Nov 15 07:53:09 PM: 16  6.0e-06  9.7e-06  6.2e-10  1.00e+00   4.204776554e+01   4.204776773e+01   4.2e-08  1.06  \n",
      "(CVXPY) Nov 15 07:53:09 PM: 17  2.8e-06  7.5e-05  2.1e-10  9.70e-01   4.204635473e+01   4.204635574e+01   2.0e-08  1.09  \n",
      "(CVXPY) Nov 15 07:53:09 PM: 18  1.2e-06  3.3e-05  6.7e-11  1.05e+00   4.204586990e+01   4.204587033e+01   9.4e-09  1.12  \n",
      "(CVXPY) Nov 15 07:53:09 PM: 19  5.4e-07  1.5e-05  1.9e-11  9.11e-01   4.204553745e+01   4.204553764e+01   3.9e-09  1.19  \n",
      "(CVXPY) Nov 15 07:53:09 PM: 20  1.9e-07  5.2e-06  4.2e-12  1.00e+00   4.204543386e+01   4.204543393e+01   1.4e-09  1.25  \n",
      "(CVXPY) Nov 15 07:53:09 PM: Optimizer terminated. Time: 1.30    \n",
      "(CVXPY) Nov 15 07:53:09 PM: \n",
      "(CVXPY) Nov 15 07:53:09 PM: \n",
      "(CVXPY) Nov 15 07:53:09 PM: Interior-point solution summary\n",
      "(CVXPY) Nov 15 07:53:09 PM:   Problem status  : PRIMAL_AND_DUAL_FEASIBLE\n",
      "(CVXPY) Nov 15 07:53:09 PM:   Solution status : OPTIMAL\n",
      "(CVXPY) Nov 15 07:53:09 PM:   Primal.  obj: 4.2045433863e+01    nrm: 1e+02    Viol.  con: 3e-06    var: 1e-06    cones: 0e+00  \n"
     ]
    },
    {
     "name": "stdout",
     "output_type": "stream",
     "text": [
      "(CVXPY) Nov 15 07:53:09 PM:   Dual.    obj: 4.2045433929e+01    nrm: 6e+03    Viol.  con: 0e+00    var: 2e-08    cones: 0e+00  \n",
      "-------------------------------------------------------------------------------\n",
      "                                    Summary                                    \n",
      "-------------------------------------------------------------------------------\n",
      "(CVXPY) Nov 15 07:53:09 PM: Problem status: optimal\n",
      "(CVXPY) Nov 15 07:53:09 PM: Optimal value: 4.205e+01\n",
      "(CVXPY) Nov 15 07:53:09 PM: Compilation took 9.960e-01 seconds\n",
      "(CVXPY) Nov 15 07:53:09 PM: Solver (including time spent in interface) took 1.742e+00 seconds\n",
      "Creating BEV..\n",
      "Loading full influence matrix..\n",
      "Done\n"
     ]
    }
   ],
   "source": [
    "data_dir = r'../data'\n",
    "data = pp.DataExplorer(data_dir=data_dir)\n",
    "patient_id = 'Lung_Phantom_Patient_1'\n",
    "data.patient_id = patient_id\n",
    "ct = pp.CT(data)\n",
    "structs = pp.Structures(data)\n",
    "beams = pp.Beams(data)\n",
    "opt_params = data.load_config_opt_params(protocol_name='Lung_2Gy_30Fx')\n",
    "structs.create_opt_structures(opt_params)\n",
    "inf_matrix_sparse = pp.InfluenceMatrix(ct=ct, structs=structs, beams=beams)\n",
    "protocol_name = 'Lung_2Gy_30Fx'\n",
    "clinical_criteria = pp.ClinicalCriteria(data, protocol_name)\n",
    "plan_sparse = pp.Plan(ct, structs, beams, inf_matrix_sparse, clinical_criteria)\n",
    "opt = pp.Optimization(plan_sparse, opt_params=opt_params)\n",
    "opt.create_cvxpy_problem()\n",
    "\n",
    "sol_sparse = opt.solve(solver='MOSEK', verbose=True)\n",
    "dose_sparse_1d = plan_sparse.inf_matrix.A @ (sol_sparse['optimal_intensity'] * plan_sparse.get_num_of_fractions())\n",
    "x_sparse =sol_sparse['optimal_intensity'] * plan_sparse.get_num_of_fractions()\n",
    "\n",
    "beams_full = pp.Beams(data, load_inf_matrix_full=True)\n",
    "inf_matrix_full = pp.InfluenceMatrix(ct=ct, structs=structs, beams=beams_full, is_full=True)\n",
    "plan_full = pp.Plan(ct, structs, beams, inf_matrix_full, clinical_criteria)\n",
    "dose_full_1d = plan_full.inf_matrix.A @ (sol_sparse['optimal_intensity'] * plan_full.get_num_of_fractions())\n",
    "\n",
    "A_full = plan_full.inf_matrix.A\n",
    "A_sparse = plan_sparse.inf_matrix.A\n"
   ]
  },
  {
   "cell_type": "markdown",
   "id": "11d75344",
   "metadata": {},
   "source": [
    "مقاله ی ۱۵۰۱.۰۱۷۱۱"
   ]
  },
  {
   "cell_type": "code",
   "execution_count": 5,
   "id": "a77b8fc2",
   "metadata": {},
   "outputs": [],
   "source": [
    "import timeit\n",
    "import scipy.sparse.linalg\n",
    "import numpy as np\n",
    "\n",
    "# مقداردهی اولیه به ماتریس‌ها A، B و d\n",
    "A = np.matrix(A_full, dtype=np.float64)\n",
    "d = np.matrix(dose_full_1d, dtype=np.float64)\n",
    "#d = np.matrix([[9], [10]], dtype=np.float64)\n",
    "\n",
    "#def my_function():\n",
    " #   sol_ls_B = scipy.sparse.linalg.lsqr(B * A, B * d)\n",
    "\n",
    "#execution_time = timeit.timeit(my_function, number=1)     \n",
    "#print(f\"زمان اجرا: {execution_time} ثانیه\")\n"
   ]
  },
  {
   "cell_type": "code",
   "execution_count": 7,
   "id": "9f4b4dce",
   "metadata": {},
   "outputs": [
    {
     "ename": "ValueError",
     "evalue": "Too large work array required -- computation cannot be performed with standard 32-bit LAPACK.",
     "output_type": "error",
     "traceback": [
      "\u001b[1;31m---------------------------------------------------------------------------\u001b[0m",
      "\u001b[1;31mValueError\u001b[0m                                Traceback (most recent call last)",
      "Cell \u001b[1;32mIn[7], line 21\u001b[0m\n\u001b[0;32m     19\u001b[0m n, d \u001b[38;5;241m=\u001b[39m (A_full\u001b[38;5;241m.\u001b[39mT)\u001b[38;5;241m.\u001b[39mshape\n\u001b[0;32m     20\u001b[0m l \u001b[38;5;241m=\u001b[39m d  \u001b[38;5;66;03m#l را چند بگیرم که مناسب باشه؟\u001b[39;00m\n\u001b[1;32m---> 21\u001b[0m B \u001b[38;5;241m=\u001b[39m frequent_directions(l, A_full)\n\u001b[0;32m     22\u001b[0m \u001b[38;5;28mprint\u001b[39m(B)  \n\u001b[0;32m     24\u001b[0m end_time \u001b[38;5;241m=\u001b[39m time\u001b[38;5;241m.\u001b[39mtime()\n",
      "Cell \u001b[1;32mIn[7], line 10\u001b[0m, in \u001b[0;36mfrequent_directions\u001b[1;34m(l, A_full)\u001b[0m\n\u001b[0;32m      8\u001b[0m \u001b[38;5;28;01mfor\u001b[39;00m i \u001b[38;5;129;01min\u001b[39;00m \u001b[38;5;28mrange\u001b[39m(n):\n\u001b[0;32m      9\u001b[0m     Bl \u001b[38;5;241m=\u001b[39m A_full[i]\n\u001b[1;32m---> 10\u001b[0m     U, Sigma, Vt \u001b[38;5;241m=\u001b[39m svd(B, full_matrices\u001b[38;5;241m=\u001b[39m\u001b[38;5;28;01mFalse\u001b[39;00m)\n\u001b[0;32m     11\u001b[0m     \u001b[38;5;66;03m#l = min(l, d)\u001b[39;00m\n\u001b[0;32m     12\u001b[0m     delta \u001b[38;5;241m=\u001b[39m Sigma \u001b[38;5;241m*\u001b[39m\u001b[38;5;241m*\u001b[39m \u001b[38;5;241m2\u001b[39m\n",
      "File \u001b[1;32m~\\anaconda3\\Lib\\site-packages\\scipy\\linalg\\_decomp_svd.py:123\u001b[0m, in \u001b[0;36msvd\u001b[1;34m(a, full_matrices, compute_uv, overwrite_a, check_finite, lapack_driver)\u001b[0m\n\u001b[0;32m    120\u001b[0m gesXd, gesXd_lwork \u001b[38;5;241m=\u001b[39m get_lapack_funcs(funcs, (a1,), ilp64\u001b[38;5;241m=\u001b[39m\u001b[38;5;124m'\u001b[39m\u001b[38;5;124mpreferred\u001b[39m\u001b[38;5;124m'\u001b[39m)\n\u001b[0;32m    122\u001b[0m \u001b[38;5;66;03m# compute optimal lwork\u001b[39;00m\n\u001b[1;32m--> 123\u001b[0m lwork \u001b[38;5;241m=\u001b[39m _compute_lwork(gesXd_lwork, a1\u001b[38;5;241m.\u001b[39mshape[\u001b[38;5;241m0\u001b[39m], a1\u001b[38;5;241m.\u001b[39mshape[\u001b[38;5;241m1\u001b[39m],\n\u001b[0;32m    124\u001b[0m                        compute_uv\u001b[38;5;241m=\u001b[39mcompute_uv, full_matrices\u001b[38;5;241m=\u001b[39mfull_matrices)\n\u001b[0;32m    126\u001b[0m \u001b[38;5;66;03m# perform decomposition\u001b[39;00m\n\u001b[0;32m    127\u001b[0m u, s, v, info \u001b[38;5;241m=\u001b[39m gesXd(a1, compute_uv\u001b[38;5;241m=\u001b[39mcompute_uv, lwork\u001b[38;5;241m=\u001b[39mlwork,\n\u001b[0;32m    128\u001b[0m                       full_matrices\u001b[38;5;241m=\u001b[39mfull_matrices, overwrite_a\u001b[38;5;241m=\u001b[39moverwrite_a)\n",
      "File \u001b[1;32m~\\anaconda3\\Lib\\site-packages\\scipy\\linalg\\lapack.py:1008\u001b[0m, in \u001b[0;36m_compute_lwork\u001b[1;34m(routine, *args, **kwargs)\u001b[0m\n\u001b[0;32m   1004\u001b[0m     \u001b[38;5;28;01mraise\u001b[39;00m \u001b[38;5;167;01mValueError\u001b[39;00m(\u001b[38;5;124m\"\u001b[39m\u001b[38;5;124mInternal work array size computation failed: \u001b[39m\u001b[38;5;124m\"\u001b[39m\n\u001b[0;32m   1005\u001b[0m                      \u001b[38;5;124m\"\u001b[39m\u001b[38;5;132;01m%d\u001b[39;00m\u001b[38;5;124m\"\u001b[39m \u001b[38;5;241m%\u001b[39m (ret[\u001b[38;5;241m-\u001b[39m\u001b[38;5;241m1\u001b[39m],))\n\u001b[0;32m   1007\u001b[0m \u001b[38;5;28;01mif\u001b[39;00m \u001b[38;5;28mlen\u001b[39m(ret) \u001b[38;5;241m==\u001b[39m \u001b[38;5;241m2\u001b[39m:\n\u001b[1;32m-> 1008\u001b[0m     \u001b[38;5;28;01mreturn\u001b[39;00m _check_work_float(ret[\u001b[38;5;241m0\u001b[39m]\u001b[38;5;241m.\u001b[39mreal, dtype, int_dtype)\n\u001b[0;32m   1009\u001b[0m \u001b[38;5;28;01melse\u001b[39;00m:\n\u001b[0;32m   1010\u001b[0m     \u001b[38;5;28;01mreturn\u001b[39;00m \u001b[38;5;28mtuple\u001b[39m(_check_work_float(x\u001b[38;5;241m.\u001b[39mreal, dtype, int_dtype)\n\u001b[0;32m   1011\u001b[0m                  \u001b[38;5;28;01mfor\u001b[39;00m x \u001b[38;5;129;01min\u001b[39;00m ret[:\u001b[38;5;241m-\u001b[39m\u001b[38;5;241m1\u001b[39m])\n",
      "File \u001b[1;32m~\\anaconda3\\Lib\\site-packages\\scipy\\linalg\\lapack.py:1028\u001b[0m, in \u001b[0;36m_check_work_float\u001b[1;34m(value, dtype, int_dtype)\u001b[0m\n\u001b[0;32m   1026\u001b[0m \u001b[38;5;28;01mif\u001b[39;00m int_dtype\u001b[38;5;241m.\u001b[39mitemsize \u001b[38;5;241m==\u001b[39m \u001b[38;5;241m4\u001b[39m:\n\u001b[0;32m   1027\u001b[0m     \u001b[38;5;28;01mif\u001b[39;00m value \u001b[38;5;241m<\u001b[39m \u001b[38;5;241m0\u001b[39m \u001b[38;5;129;01mor\u001b[39;00m value \u001b[38;5;241m>\u001b[39m _int32_max:\n\u001b[1;32m-> 1028\u001b[0m         \u001b[38;5;28;01mraise\u001b[39;00m \u001b[38;5;167;01mValueError\u001b[39;00m(\u001b[38;5;124m\"\u001b[39m\u001b[38;5;124mToo large work array required -- computation \u001b[39m\u001b[38;5;124m\"\u001b[39m\n\u001b[0;32m   1029\u001b[0m                          \u001b[38;5;124m\"\u001b[39m\u001b[38;5;124mcannot be performed with standard 32-bit\u001b[39m\u001b[38;5;124m\"\u001b[39m\n\u001b[0;32m   1030\u001b[0m                          \u001b[38;5;124m\"\u001b[39m\u001b[38;5;124m LAPACK.\u001b[39m\u001b[38;5;124m\"\u001b[39m)\n\u001b[0;32m   1031\u001b[0m \u001b[38;5;28;01melif\u001b[39;00m int_dtype\u001b[38;5;241m.\u001b[39mitemsize \u001b[38;5;241m==\u001b[39m \u001b[38;5;241m8\u001b[39m:\n\u001b[0;32m   1032\u001b[0m     \u001b[38;5;28;01mif\u001b[39;00m value \u001b[38;5;241m<\u001b[39m \u001b[38;5;241m0\u001b[39m \u001b[38;5;129;01mor\u001b[39;00m value \u001b[38;5;241m>\u001b[39m _int64_max:\n",
      "\u001b[1;31mValueError\u001b[0m: Too large work array required -- computation cannot be performed with standard 32-bit LAPACK."
     ]
    }
   ],
   "source": [
    "start_time = time.time()\n",
    "\n",
    "def frequent_directions(l, A_full):\n",
    "    n, d = (A_full.T).shape\n",
    "    #l = int(np.ceil(1 / epsilon)) \n",
    "    B = np.zeros((l, d))\n",
    "    \n",
    "    for i in range(n):\n",
    "        Bl = A_full[i]\n",
    "        U, Sigma, Vt = svd(B, full_matrices=False)\n",
    "        #l = min(l, d)\n",
    "        delta = Sigma ** 2\n",
    "        #B = np.vstack((B[1:], np.zeros((1, d))))\n",
    "        B = np.sqrt(Sigma ** 2 - delta * np.identity(l)) @ Vt\n",
    "        #C += np.diag(Sigma) @ Vt  \n",
    "        \n",
    "    return B\n",
    "\n",
    "n, d = (A_full.T).shape\n",
    "l = d  #l   فقط 542 میشه. 60183 نمیشه! را چند بگیرم که مناسب باشه؟\n",
    "B = frequent_directions(l, A_full)\n",
    "print(B)  \n",
    "\n",
    "end_time = time.time()\n",
    "\n",
    "total_execution_time = end_time - start_time\n",
    "print(f\"زمان کل اجرا: {total_execution_time} ثانیه\")\n"
   ]
  },
  {
   "cell_type": "code",
   "execution_count": null,
   "id": "98258e09",
   "metadata": {},
   "outputs": [],
   "source": [
    "## بررسی  پراکندگی ماتریس\n",
    "\n",
    "is_sparse = sparse.issparse(B)\n",
    "is_sparse"
   ]
  },
  {
   "cell_type": "code",
   "execution_count": 10,
   "id": "ef9ed037",
   "metadata": {},
   "outputs": [
    {
     "name": "stdout",
     "output_type": "stream",
     "text": [
      "B = (542, 542)\n",
      "A = (542, 60183)\n",
      "d = (60183,)\n"
     ]
    }
   ],
   "source": [
    "B = B\n",
    "A = A_full.T\n",
    "d = dose_full_1d\n",
    "print(f'B = {B.shape}\\nA = {A.shape}\\nd = {d.shape}')"
   ]
  },
  {
   "cell_type": "code",
   "execution_count": 11,
   "id": "77486f52",
   "metadata": {},
   "outputs": [
    {
     "ename": "ValueError",
     "evalue": "matmul: Input operand 1 has a mismatch in its core dimension 0, with gufunc signature (n?,k),(k,m?)->(n?,m?) (size 60183 is different from 542)",
     "output_type": "error",
     "traceback": [
      "\u001b[1;31m---------------------------------------------------------------------------\u001b[0m",
      "\u001b[1;31mValueError\u001b[0m                                Traceback (most recent call last)",
      "Cell \u001b[1;32mIn[11], line 1\u001b[0m\n\u001b[1;32m----> 1\u001b[0m sol_ls_B \u001b[38;5;241m=\u001b[39m scipy\u001b[38;5;241m.\u001b[39msparse\u001b[38;5;241m.\u001b[39mlinalg\u001b[38;5;241m.\u001b[39mlsqr(B \u001b[38;5;241m@\u001b[39m A , B \u001b[38;5;241m@\u001b[39m d)\n",
      "\u001b[1;31mValueError\u001b[0m: matmul: Input operand 1 has a mismatch in its core dimension 0, with gufunc signature (n?,k),(k,m?)->(n?,m?) (size 60183 is different from 542)"
     ]
    }
   ],
   "source": [
    "sol_ls_B = scipy.sparse.linalg.lsqr(B @ A , B @ d)    #Erorrrrrrr"
   ]
  },
  {
   "cell_type": "code",
   "execution_count": 13,
   "id": "fb64d040",
   "metadata": {},
   "outputs": [
    {
     "name": "stdout",
     "output_type": "stream",
     "text": [
      "تعداد مقادیر غیر صفر ماتریس کامل:  10279072\n",
      "تعداد عناصر غیر صفر در ماتریس BA : 0\n"
     ]
    }
   ],
   "source": [
    "nonzero_count = np.count_nonzero(A_full)\n",
    "print(\"تعداد مقادیر غیر صفر ماتریس کامل: \", nonzero_count)\n",
    "num_non_zero = np.count_nonzero(B @ A)\n",
    "print(\"تعداد عناصر غیر صفر در ماتریس BA :\", num_non_zero)"
   ]
  },
  {
   "cell_type": "raw",
   "id": "fdb4b531",
   "metadata": {
    "collapsed": true
   },
   "source": [
    "start_time = time.time()\n",
    "\n",
    "def frequent_directions(l, A_full):\n",
    "    n, d = A_full.shape\n",
    "    #l = int(np.ceil(1 / epsilon)) \n",
    "    B_2 = np.zeros((l, d))\n",
    "    \n",
    "    for i in range(n):\n",
    "        Bl = A_full[i]\n",
    "        U, Sigma, Vt = svd(B, full_matrices=False)\n",
    "        #l = min(l, d)\n",
    "        delta = Sigma ** 2\n",
    "        #B = np.vstack((B[1:], np.zeros((1, d))))\n",
    "        B_2 = np.sqrt(Sigma ** 2 - delta * np.identity(l)) @ Vt\n",
    "        #C += np.diag(Sigma) @ Vt  \n",
    "        \n",
    "    return B\n",
    "\n",
    "n, d = A_full.shape\n",
    "l = n  #l را چند بگیرم که مناسب باشه؟\n",
    "B_2 = frequent_directions(l, A_full)\n",
    "print(B_2)  \n",
    "\n",
    "end_time = time.time()\n",
    "\n",
    "total_execution_time = end_time - start_time\n",
    "print(f\"زمان کل اجرا: {total_execution_time} ثانیه\")\n"
   ]
  },
  {
   "cell_type": "raw",
   "id": "a8238375",
   "metadata": {},
   "source": [
    "start_time = time.time()\n",
    "\n",
    "def frequent_directions(l, A_full):\n",
    "    n, d = A_full.shape\n",
    "    #l = int(np.ceil(1 / epsilon)) \n",
    "    B = np.zeros((l, d))\n",
    "    \n",
    "    for i in range(n):\n",
    "        Bl = A_full[i]\n",
    "        U, Sigma, Vt = svd(B, full_matrices=False)\n",
    "        #l = min(l, d)\n",
    "        delta = Sigma ** 2\n",
    "        #B = np.vstack((B[1:], np.zeros((1, d))))\n",
    "        B = np.sqrt(Sigma ** 2 - delta * np.identity(l)) @ Vt\n",
    "        #C += np.diag(Sigma) @ Vt  \n",
    "        \n",
    "    return B\n",
    "\n",
    "l = 60183  #l را چند بگیرم که مناسب باشه؟\n",
    "B = frequent_directions(l, A_full)\n",
    "print(B)  \n",
    "\n",
    "end_time = time.time()\n",
    "\n",
    "total_execution_time = end_time - start_time\n",
    "print(f\"زمان کل اجرا: {total_execution_time} ثانیه\")\n"
   ]
  },
  {
   "cell_type": "raw",
   "id": "f7277212",
   "metadata": {},
   "source": [
    "B = np.zeros((int(l), A_sparse.shape[1] ), dtype=np.float32)  \n",
    "A_sparse = A_sparse.astype(np.float32)"
   ]
  },
  {
   "cell_type": "markdown",
   "id": "095a94fa",
   "metadata": {},
   "source": [
    "dose_sparse_1d.shape"
   ]
  },
  {
   "cell_type": "code",
   "execution_count": 15,
   "id": "857a0904",
   "metadata": {},
   "outputs": [],
   "source": [
    "start_time = time.time()\n",
    "\n",
    "def frequent_directions(k, epsilon, A_sparse):\n",
    "    n, d = A_sparse.shape\n",
    "    #l = int(np.ceil(1 / epsilon)) \n",
    "    l = k + 1/epsilon \n",
    "    B = np.zeros((int(l), A_sparse.shape[1]))\n",
    "    \n",
    "    for i in range(n):\n",
    "        B[int(l) - 1, :] = A_sparse[i, :]\n",
    "        U, Sigma, Vt = svd(B, full_matrices=False)\n",
    "        delta = Sigma ** 2\n",
    "        B = np.sqrt(Sigma ** 2 - delta * np.identity(int(l))) @ Vt\n",
    "    \n",
    "    return B \n"
   ]
  },
  {
   "cell_type": "code",
   "execution_count": 16,
   "id": "e4b492d1",
   "metadata": {},
   "outputs": [
    {
     "ename": "ValueError",
     "evalue": "setting an array element with a sequence.",
     "output_type": "error",
     "traceback": [
      "\u001b[1;31m---------------------------------------------------------------------------\u001b[0m",
      "\u001b[1;31mTypeError\u001b[0m                                 Traceback (most recent call last)",
      "\u001b[1;31mTypeError\u001b[0m: float() argument must be a string or a real number, not 'csr_matrix'",
      "\nThe above exception was the direct cause of the following exception:\n",
      "\u001b[1;31mValueError\u001b[0m                                Traceback (most recent call last)",
      "Cell \u001b[1;32mIn[16], line 8\u001b[0m\n\u001b[0;32m      5\u001b[0m k\u001b[38;5;241m=\u001b[39m\u001b[38;5;241m2.01\u001b[39m    \u001b[38;5;66;03m#K<l      K=???\u001b[39;00m\n\u001b[0;32m      6\u001b[0m epsilon \u001b[38;5;241m=\u001b[39m \u001b[38;5;241m0.99\u001b[39m         \u001b[38;5;66;03m# 0<epsilon<1\u001b[39;00m\n\u001b[1;32m----> 8\u001b[0m B \u001b[38;5;241m=\u001b[39m frequent_directions(k, epsilon, A_sparse)\n\u001b[0;32m      9\u001b[0m \u001b[38;5;28mprint\u001b[39m(\u001b[38;5;124mf\u001b[39m\u001b[38;5;124m'\u001b[39m\u001b[38;5;124mB = \u001b[39m\u001b[38;5;132;01m{\u001b[39;00mB\u001b[38;5;132;01m}\u001b[39;00m\u001b[38;5;124m'\u001b[39m)  \n\u001b[0;32m     11\u001b[0m end_time \u001b[38;5;241m=\u001b[39m time\u001b[38;5;241m.\u001b[39mtime()\n",
      "Cell \u001b[1;32mIn[15], line 10\u001b[0m, in \u001b[0;36mfrequent_directions\u001b[1;34m(k, epsilon, A_sparse)\u001b[0m\n\u001b[0;32m      7\u001b[0m B \u001b[38;5;241m=\u001b[39m np\u001b[38;5;241m.\u001b[39mzeros((\u001b[38;5;28mint\u001b[39m(l), A_sparse\u001b[38;5;241m.\u001b[39mshape[\u001b[38;5;241m1\u001b[39m]))\n\u001b[0;32m      9\u001b[0m \u001b[38;5;28;01mfor\u001b[39;00m i \u001b[38;5;129;01min\u001b[39;00m \u001b[38;5;28mrange\u001b[39m(n):\n\u001b[1;32m---> 10\u001b[0m     B[\u001b[38;5;28mint\u001b[39m(l) \u001b[38;5;241m-\u001b[39m \u001b[38;5;241m1\u001b[39m, :] \u001b[38;5;241m=\u001b[39m A_sparse[i, :]\n\u001b[0;32m     11\u001b[0m     U, Sigma, Vt \u001b[38;5;241m=\u001b[39m svd(B, full_matrices\u001b[38;5;241m=\u001b[39m\u001b[38;5;28;01mFalse\u001b[39;00m)\n\u001b[0;32m     12\u001b[0m     delta \u001b[38;5;241m=\u001b[39m Sigma \u001b[38;5;241m*\u001b[39m\u001b[38;5;241m*\u001b[39m \u001b[38;5;241m2\u001b[39m\n",
      "\u001b[1;31mValueError\u001b[0m: setting an array element with a sequence."
     ]
    }
   ],
   "source": [
    "#A= np.array([[10, 2, 3],\n",
    "            #[4, 50, 69],\n",
    "            #[7, 80, 9]])\n",
    "\n",
    "k=2.01    #K<l      K=???\n",
    "epsilon = 0.99         # 0<epsilon<1\n",
    "\n",
    "B = frequent_directions(k, epsilon, A_sparse)\n",
    "print(f'B = {B}')  \n",
    "\n",
    "end_time = time.time()\n",
    "total_execution_time = end_time - start_time\n",
    "print(f\"زمان کل اجرا: {total_execution_time} ثانیه\")"
   ]
  },
  {
   "cell_type": "raw",
   "id": "f9dec591",
   "metadata": {
    "collapsed": true
   },
   "source": [
    "# جواب بهینه\n",
    "x_star = sol_ls_A_sparse[0]\n",
    "print(f'x_star :\\t {x_star[0:4]}')\n",
    "\n",
    "#  تعداد مراحل اجرای الگوریتم\n",
    "number_algorithm_execution_steps = sol_ls_A_sparse[2]\n",
    "print(f'number_algorithm_execution_steps :\\t {number_algorithm_execution_steps}')\n",
    "\n",
    "#  نرم بردار سمت راست d\n",
    "Rightـhandـsideـvectorـnormـd = sol_ls_A_sparse[3]\n",
    "print(f'Rightـhandـsideـvectorـnormـd :\\t {Rightـhandـsideـvectorـnormـd}')\n",
    "\n",
    "#شاخص برای ارزیابی خروجی الگوریتم کمترین مربعات است\tهرچقدر این نرم کوچکتر باشد نشانه بهتر بودن جواب بهینه است\n",
    "\n",
    "\n",
    "#نرم ضرب داخلی ماتریس در جواب\n",
    "l2_res = sol_ls_A_sparse[4]\n",
    "print(f'L2 norm of residuals :\\t{l2_res}')\n",
    "\n",
    "#   مجموع مربعات خطای سیستم \n",
    "sum_of_square1 = sol_ls_A_sparse[5]\n",
    "print(f'sum_of_square1 :\\t {sum_of_square1}')\n",
    "\n",
    "#   مجموع مربعات خطای ماتریس معکوس\n",
    "sum_of_square2 = sol_ls_A_sparse[6]\n",
    "print(f'sum_of_square2 :\\t {sum_of_square2}')\n",
    "\n",
    "# بردار صفر              ?????????????\n",
    "Zeroـvector = sol_ls_A_sparse[9]\n",
    "print(f'Zeroـvector :\\t {Zeroـvector[0:24]}')\n",
    "\n",
    "# کد بازگشتی \n",
    "Returnـcode = sol_ls_A_sparse[1]\n",
    "print(f'Returnـcode :\\t {Returnـcode}')"
   ]
  },
  {
   "cell_type": "code",
   "execution_count": null,
   "id": "d1aec2fd",
   "metadata": {},
   "outputs": [],
   "source": []
  }
 ],
 "metadata": {
  "kernelspec": {
   "display_name": "Python 3 (ipykernel)",
   "language": "python",
   "name": "python3"
  },
  "language_info": {
   "codemirror_mode": {
    "name": "ipython",
    "version": 3
   },
   "file_extension": ".py",
   "mimetype": "text/x-python",
   "name": "python",
   "nbconvert_exporter": "python",
   "pygments_lexer": "ipython3",
   "version": "3.11.5"
  }
 },
 "nbformat": 4,
 "nbformat_minor": 5
}
