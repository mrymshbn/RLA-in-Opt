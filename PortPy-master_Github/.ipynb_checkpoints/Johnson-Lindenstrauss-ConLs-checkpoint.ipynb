{
 "cells": [
  {
   "cell_type": "code",
   "execution_count": 2,
   "id": "78e194df",
   "metadata": {},
   "outputs": [],
   "source": [
    "import scipy\n",
    "import random\n",
    "import portpy.photon as pp\n",
    "import numpy as np\n",
    "from cvxpy import *\n",
    "from scipy import sparse\n",
    "import sklearn.metrics\n",
    "import cProfile\n",
    "import time\n",
    "import sys\n",
    "import psutil\n",
    "from sklearn.decomposition import PCA\n",
    "from scipy.linalg import hadamard\n",
    "import matplotlib.pyplot as plt\n",
    "import cvxpy as cp\n",
    "from scipy.optimize import lsq_linear\n",
    "import scipy.sparse"
   ]
  },
  {
   "cell_type": "code",
   "execution_count": 3,
   "id": "9da5c57d",
   "metadata": {},
   "outputs": [
    {
     "name": "stdout",
     "output_type": "stream",
     "text": [
      "creating rinds.. This step may take some time due to dilation\n",
      "rinds created!!\n",
      "Creating BEV..\n",
      "Loading sparse influence matrix...\n",
      "Done\n",
      "Objective Start\n",
      "Objective done\n",
      "Constraints Start\n",
      "Structure ESOPHAGUS not available!\n",
      "Structure ESOPHAGUS not available!\n",
      "Constraints done\n",
      "===============================================================================\n",
      "                                     CVXPY                                     \n",
      "                                     v1.5.1                                    \n",
      "===============================================================================\n",
      "(CVXPY) Jun 06 12:32:11 AM: Your problem has 1946 variables, 110663 constraints, and 0 parameters.\n",
      "(CVXPY) Jun 06 12:32:11 AM: It is compliant with the following grammars: DCP, DQCP\n",
      "(CVXPY) Jun 06 12:32:11 AM: (If you need to solve this problem multiple times, but with different data, consider using parameters.)\n",
      "(CVXPY) Jun 06 12:32:11 AM: CVXPY will first compile your problem; then, it will invoke a numerical solver to obtain a solution.\n",
      "(CVXPY) Jun 06 12:32:11 AM: Your problem is compiled with the CPP canonicalization backend.\n",
      "-------------------------------------------------------------------------------\n",
      "                                  Compilation                                  \n",
      "-------------------------------------------------------------------------------\n",
      "(CVXPY) Jun 06 12:32:11 AM: Compiling problem (target solver=MOSEK).\n",
      "(CVXPY) Jun 06 12:32:11 AM: Reduction chain: Dcp2Cone -> CvxAttr2Constr -> ConeMatrixStuffing -> MOSEK\n",
      "(CVXPY) Jun 06 12:32:11 AM: Applying reduction Dcp2Cone\n",
      "(CVXPY) Jun 06 12:32:11 AM: Applying reduction CvxAttr2Constr\n",
      "(CVXPY) Jun 06 12:32:11 AM: Applying reduction ConeMatrixStuffing\n",
      "(CVXPY) Jun 06 12:32:12 AM: Applying reduction MOSEK\n",
      "(CVXPY) Jun 06 12:32:12 AM: Finished problem compilation (took 9.823e-01 seconds).\n",
      "-------------------------------------------------------------------------------\n",
      "                                Numerical solver                               \n",
      "-------------------------------------------------------------------------------\n",
      "(CVXPY) Jun 06 12:32:12 AM: Invoking solver MOSEK  to obtain a solution.\n",
      "\n",
      "\n",
      "(CVXPY) Jun 06 12:32:13 AM: Problem\n",
      "(CVXPY) Jun 06 12:32:13 AM:   Name                   :                 \n",
      "(CVXPY) Jun 06 12:32:13 AM:   Objective sense        : maximize        \n",
      "(CVXPY) Jun 06 12:32:13 AM:   Type                   : CONIC (conic optimization problem)\n",
      "(CVXPY) Jun 06 12:32:13 AM:   Constraints            : 1959            \n",
      "(CVXPY) Jun 06 12:32:13 AM:   Affine conic cons.     : 0               \n",
      "(CVXPY) Jun 06 12:32:13 AM:   Disjunctive cons.      : 0               \n",
      "(CVXPY) Jun 06 12:32:13 AM:   Cones                  : 13              \n",
      "(CVXPY) Jun 06 12:32:13 AM:   Scalar variables       : 215748          \n",
      "(CVXPY) Jun 06 12:32:13 AM:   Matrix variables       : 0               \n",
      "(CVXPY) Jun 06 12:32:13 AM:   Integer variables      : 0               \n",
      "(CVXPY) Jun 06 12:32:13 AM: \n",
      "(CVXPY) Jun 06 12:32:13 AM: Optimizer started.\n",
      "(CVXPY) Jun 06 12:32:13 AM: Presolve started.\n",
      "(CVXPY) Jun 06 12:32:13 AM: Linear dependency checker started.\n",
      "(CVXPY) Jun 06 12:32:13 AM: Linear dependency checker terminated.\n",
      "(CVXPY) Jun 06 12:32:13 AM: Eliminator started.\n",
      "(CVXPY) Jun 06 12:32:13 AM: Freed constraints in eliminator : 0\n",
      "(CVXPY) Jun 06 12:32:13 AM: Eliminator terminated.\n",
      "(CVXPY) Jun 06 12:32:13 AM: Eliminator - tries                  : 1                 time                   : 0.00            \n",
      "(CVXPY) Jun 06 12:32:13 AM: Lin. dep.  - tries                  : 1                 time                   : 0.03            \n",
      "(CVXPY) Jun 06 12:32:13 AM: Lin. dep.  - primal attempts        : 1                 successes              : 1               \n",
      "(CVXPY) Jun 06 12:32:13 AM: Lin. dep.  - dual attempts          : 0                 successes              : 0               \n",
      "(CVXPY) Jun 06 12:32:13 AM: Lin. dep.  - primal deps.           : 0                 dual deps.             : 0               \n",
      "(CVXPY) Jun 06 12:32:13 AM: Presolve terminated. Time: 0.17    \n",
      "(CVXPY) Jun 06 12:32:13 AM: Optimizer  - threads                : 4               \n",
      "(CVXPY) Jun 06 12:32:13 AM: Optimizer  - solved problem         : the primal      \n",
      "(CVXPY) Jun 06 12:32:13 AM: Optimizer  - Constraints            : 1959            \n",
      "(CVXPY) Jun 06 12:32:13 AM: Optimizer  - Cones                  : 13              \n",
      "(CVXPY) Jun 06 12:32:13 AM: Optimizer  - Scalar variables       : 63183             conic                  : 50518           \n",
      "(CVXPY) Jun 06 12:32:13 AM: Optimizer  - Semi-definite variables: 0                 scalarized             : 0               \n",
      "(CVXPY) Jun 06 12:32:13 AM: Factor     - setup time             : 0.16            \n",
      "(CVXPY) Jun 06 12:32:13 AM: Factor     - dense det. time        : 0.00              GP order time          : 0.00            \n",
      "(CVXPY) Jun 06 12:32:13 AM: Factor     - nonzeros before factor : 2.46e+05          after factor           : 2.47e+05        \n",
      "(CVXPY) Jun 06 12:32:13 AM: Factor     - dense dim.             : 4                 flops                  : 8.21e+07        \n",
      "(CVXPY) Jun 06 12:32:13 AM: ITE PFEAS    DFEAS    GFEAS    PRSTATUS   POBJ              DOBJ              MU       TIME  \n",
      "(CVXPY) Jun 06 12:32:13 AM: 0   1.4e+02  2.3e+02  1.4e+01  0.00e+00   -1.300000000e+01  -0.000000000e+00  1.0e+00  0.48  \n",
      "(CVXPY) Jun 06 12:32:13 AM: 1   1.2e+02  1.9e+02  1.3e+01  -9.63e-01  4.679787643e+03   4.692415819e+03   8.4e-01  0.55  \n",
      "(CVXPY) Jun 06 12:32:13 AM: 2   7.5e+01  1.2e+02  9.1e+00  -8.68e-01  6.575663964e+03   6.586712761e+03   5.3e-01  0.58  \n",
      "(CVXPY) Jun 06 12:32:13 AM: 3   3.3e+01  5.4e+01  4.7e+00  -6.48e-01  5.483660804e+03   5.491376940e+03   2.3e-01  0.61  \n",
      "(CVXPY) Jun 06 12:32:13 AM: 4   1.7e+01  2.8e+01  2.3e+00  -1.90e-01  2.759695648e+03   2.764885110e+03   1.2e-01  0.64  \n",
      "(CVXPY) Jun 06 12:32:13 AM: 5   1.4e+01  2.3e+01  1.8e+00  1.40e-01   2.641460111e+03   2.645958464e+03   9.9e-02  0.67  \n",
      "(CVXPY) Jun 06 12:32:13 AM: 6   6.9e+00  1.1e+01  7.0e-01  3.32e-01   1.135836563e+03   1.138391456e+03   4.9e-02  0.69  \n",
      "(CVXPY) Jun 06 12:32:13 AM: 7   2.6e+00  4.3e+00  1.7e-01  6.90e-01   6.433717496e+02   6.443825583e+02   1.8e-02  0.73  \n",
      "(CVXPY) Jun 06 12:32:13 AM: 8   7.7e-01  1.3e+00  2.9e-02  9.19e-01   2.519392152e+02   2.522318222e+02   5.5e-03  0.77  \n",
      "(CVXPY) Jun 06 12:32:14 AM: 9   1.9e-01  3.1e-01  3.7e-03  1.00e+00   1.112136823e+02   1.112831916e+02   1.4e-03  0.80  \n",
      "(CVXPY) Jun 06 12:32:14 AM: 10  5.2e-02  8.4e-02  5.2e-04  1.01e+00   6.185792813e+01   6.187635074e+01   3.6e-04  0.84  \n",
      "(CVXPY) Jun 06 12:32:14 AM: 11  1.3e-02  2.2e-02  7.0e-05  1.00e+00   4.731442626e+01   4.731918194e+01   9.5e-05  0.88  \n",
      "(CVXPY) Jun 06 12:32:14 AM: 12  4.1e-03  6.7e-03  1.2e-05  1.00e+00   4.361501519e+01   4.361646033e+01   2.9e-05  0.91  \n",
      "(CVXPY) Jun 06 12:32:14 AM: 13  1.3e-03  2.1e-03  2.1e-06  9.99e-01   4.251789702e+01   4.251835712e+01   9.3e-06  0.95  \n",
      "(CVXPY) Jun 06 12:32:14 AM: 14  4.8e-04  7.9e-04  4.9e-07  9.99e-01   4.220398669e+01   4.220415339e+01   3.4e-06  0.97  \n",
      "(CVXPY) Jun 06 12:32:14 AM: 15  1.1e-04  1.7e-04  5.0e-08  1.00e+00   4.207786880e+01   4.207790508e+01   7.5e-07  1.02  \n",
      "(CVXPY) Jun 06 12:32:14 AM: 16  6.0e-06  9.7e-06  6.2e-10  1.00e+00   4.204776556e+01   4.204776775e+01   4.2e-08  1.05  \n",
      "(CVXPY) Jun 06 12:32:14 AM: 17  5.6e-06  9.1e-06  5.3e-10  5.71e-01   4.204729098e+01   4.204729299e+01   3.9e-08  1.08  \n",
      "(CVXPY) Jun 06 12:32:14 AM: 18  4.8e-06  7.8e-06  4.2e-10  9.28e-01   4.204684154e+01   4.204684326e+01   3.3e-08  1.11  \n",
      "(CVXPY) Jun 06 12:32:14 AM: 19  3.2e-06  5.3e-06  2.4e-10  9.85e-01   4.204654155e+01   4.204654271e+01   2.2e-08  1.14  \n",
      "(CVXPY) Jun 06 12:32:14 AM: 20  1.6e-06  2.6e-06  8.3e-11  9.43e-01   4.204577094e+01   4.204577151e+01   1.1e-08  1.17  \n",
      "(CVXPY) Jun 06 12:32:14 AM: 21  4.1e-07  2.9e-06  5.0e-12  1.02e+00   4.204543515e+01   4.204543523e+01   1.7e-09  1.20  \n",
      "(CVXPY) Jun 06 12:32:14 AM: 22  2.3e-07  3.5e-06  2.1e-12  9.95e-01   4.204540413e+01   4.204540417e+01   9.4e-10  1.27  \n",
      "(CVXPY) Jun 06 12:32:14 AM: Optimizer terminated. Time: 1.30    \n",
      "(CVXPY) Jun 06 12:32:14 AM: \n",
      "(CVXPY) Jun 06 12:32:14 AM: \n",
      "(CVXPY) Jun 06 12:32:14 AM: Interior-point solution summary\n"
     ]
    },
    {
     "name": "stdout",
     "output_type": "stream",
     "text": [
      "(CVXPY) Jun 06 12:32:14 AM:   Problem status  : PRIMAL_AND_DUAL_FEASIBLE\n",
      "(CVXPY) Jun 06 12:32:14 AM:   Solution status : OPTIMAL\n",
      "(CVXPY) Jun 06 12:32:14 AM:   Primal.  obj: 4.2045404128e+01    nrm: 1e+02    Viol.  con: 5e-06    var: 6e-07    cones: 0e+00  \n",
      "(CVXPY) Jun 06 12:32:14 AM:   Dual.    obj: 4.2045404171e+01    nrm: 6e+03    Viol.  con: 0e+00    var: 1e-08    cones: 0e+00  \n",
      "-------------------------------------------------------------------------------\n",
      "                                    Summary                                    \n",
      "-------------------------------------------------------------------------------\n",
      "(CVXPY) Jun 06 12:32:14 AM: Problem status: optimal\n",
      "(CVXPY) Jun 06 12:32:14 AM: Optimal value: 4.205e+01\n",
      "(CVXPY) Jun 06 12:32:14 AM: Compilation took 9.823e-01 seconds\n",
      "(CVXPY) Jun 06 12:32:14 AM: Solver (including time spent in interface) took 1.810e+00 seconds\n",
      "Creating BEV..\n",
      "Loading full influence matrix..\n",
      "Done\n"
     ]
    }
   ],
   "source": [
    "data_dir = r'../data'\n",
    "data = pp.DataExplorer(data_dir=data_dir)\n",
    "patient_id = 'Lung_Phantom_Patient_1'\n",
    "data.patient_id = patient_id\n",
    "ct = pp.CT(data)\n",
    "structs = pp.Structures(data)\n",
    "beams = pp.Beams(data)\n",
    "opt_params = data.load_config_opt_params(protocol_name='Lung_2Gy_30Fx')\n",
    "structs.create_opt_structures(opt_params)\n",
    "inf_matrix_sparse = pp.InfluenceMatrix(ct=ct, structs=structs, beams=beams)\n",
    "protocol_name = 'Lung_2Gy_30Fx'\n",
    "clinical_criteria = pp.ClinicalCriteria(data, protocol_name)\n",
    "plan_sparse = pp.Plan(ct, structs, beams, inf_matrix_sparse, clinical_criteria)\n",
    "opt = pp.Optimization(plan_sparse, opt_params=opt_params)\n",
    "opt.create_cvxpy_problem()\n",
    "\n",
    "sol_sparse = opt.solve(solver='MOSEK', verbose=True)\n",
    "dose_sparse_1d = plan_sparse.inf_matrix.A @ (sol_sparse['optimal_intensity'] * plan_sparse.get_num_of_fractions())\n",
    "x_sparse =sol_sparse['optimal_intensity'] * plan_sparse.get_num_of_fractions()\n",
    "\n",
    "beams_full = pp.Beams(data, load_inf_matrix_full=True)\n",
    "inf_matrix_full = pp.InfluenceMatrix(ct=ct, structs=structs, beams=beams_full, is_full=True)\n",
    "plan_full = pp.Plan(ct, structs, beams, inf_matrix_full, clinical_criteria)\n",
    "dose_full_1d = plan_full.inf_matrix.A @ (sol_sparse['optimal_intensity'] * plan_full.get_num_of_fractions())\n",
    "\n",
    "A_dense = plan_full.inf_matrix.A\n",
    "A_sparse = plan_sparse.inf_matrix.A\n"
   ]
  },
  {
   "cell_type": "code",
   "execution_count": 4,
   "id": "183a5543",
   "metadata": {
    "scrolled": true
   },
   "outputs": [
    {
     "name": "stdout",
     "output_type": "stream",
     "text": [
      "Objective Start\n",
      "Objective done\n",
      "Constraints Start\n",
      "Structure ESOPHAGUS not available!\n",
      "Structure ESOPHAGUS not available!\n",
      "Constraints done\n"
     ]
    }
   ],
   "source": [
    "opt = pp.Optimization(plan_full, opt_params=opt_params)\n",
    "opt.create_cvxpy_problem()\n",
    "\n",
    "sol_full = opt.solve(solver='MOSEK', verbose=False)\n",
    "\n",
    "x_full = sol_full['optimal_intensity'] * plan_full.get_num_of_fractions()"
   ]
  },
  {
   "cell_type": "code",
   "execution_count": 5,
   "id": "1182305c",
   "metadata": {},
   "outputs": [
    {
     "name": "stdout",
     "output_type": "stream",
     "text": [
      "زمان ساخت  0.28288984298706055 ثانیه\n"
     ]
    },
    {
     "data": {
      "text/plain": [
       "array([[0., 0., 0., ..., 0., 0., 0.],\n",
       "       [0., 0., 0., ..., 0., 0., 0.],\n",
       "       [0., 0., 0., ..., 0., 0., 0.],\n",
       "       [0., 0., 0., ..., 0., 0., 0.]])"
      ]
     },
     "execution_count": 5,
     "metadata": {},
     "output_type": "execute_result"
    }
   ],
   "source": [
    "start_time = time.time()\n",
    "\n",
    "def apply_JL_lemma(A_dense, k, eps):\n",
    "    \n",
    "    m, n = A_dense.shape    \n",
    "   \n",
    "    R = np.random.normal(0, 1, (n, k)) / np.sqrt(k)\n",
    "\n",
    "    R = R / np.linalg.norm(R, axis=0)\n",
    "\n",
    "   \n",
    "    projected_matrix_1 = np.dot(A_dense, R)\n",
    "\n",
    "    def linear_map_1(v):\n",
    "        return (1 / np.sqrt(k)) * np.dot(R.T, v)\n",
    "\n",
    "    return projected_matrix_1, linear_map_1\n",
    "\n",
    "# اعمال جانسون-لیندن‌استراوس بر روی ماتریس اصلی برای کاهش بُعد و اعمال اپسیلون \n",
    "projected_matrix_1, linear_map_1 = apply_JL_lemma(A_dense, k=542, eps=0.01)\n",
    "\n",
    "end_time = time.time()\n",
    "\n",
    "total_execution_time = end_time - start_time\n",
    "print(f\"زمان ساخت  {total_execution_time} ثانیه\")\n",
    "\n",
    "projected_matrix_1[:4,:]\n"
   ]
  },
  {
   "cell_type": "code",
   "execution_count": 6,
   "id": "342dcad3",
   "metadata": {},
   "outputs": [
    {
     "name": "stdout",
     "output_type": "stream",
     "text": [
      " S = (542, 60183)\n",
      " A = (60183, 542)\n",
      " p = (60183,)\n"
     ]
    }
   ],
   "source": [
    "JL_1 = projected_matrix_1.transpose()\n",
    "S = JL_1\n",
    "A = A_dense\n",
    "p = dose_full_1d\n",
    "print(f' S = {S.shape}\\n A = {A.shape}\\n p = {p.shape}')"
   ]
  },
  {
   "cell_type": "markdown",
   "id": "7282a22f",
   "metadata": {},
   "source": [
    "<center> \n",
    "Minimize $\\lVert Ax - p \\rVert_{2}^2$\n",
    "</center>\n",
    "<center>\n",
    "subject to $x \\succeq 0$\n",
    "</center>\n",
    "\n",
    "                                                            p = دوزتجویزی"
   ]
  },
  {
   "cell_type": "code",
   "execution_count": 7,
   "id": "3745ced6",
   "metadata": {},
   "outputs": [
    {
     "name": "stdout",
     "output_type": "stream",
     "text": [
      "زمان حل مسُله  0.6230940818786621 ثانیه\n"
     ]
    }
   ],
   "source": [
    "start_time = time.time()\n",
    "\n",
    "# حل مسئله کمترین مربعات با قید نامنفی بودن x\n",
    "sol_dense = lsq_linear (A, p, bounds=(0, np.inf))\n",
    "\n",
    "end_time = time.time ()\n",
    "\n",
    "total_execution_time = end_time - start_time\n",
    "print(f\"زمان حل مسُله  {total_execution_time} ثانیه\")\n",
    "\n",
    "# چاپ بردار x بهینه\n",
    "# print(f\"بردار x بهینه: {result.x}\")\n"
   ]
  },
  {
   "cell_type": "markdown",
   "id": "dc6c6c97",
   "metadata": {},
   "source": [
    "<center> \n",
    "Minimize $\\lVert SAx - Sp \\rVert_{2}^2$\n",
    "</center>\n",
    "<center>\n",
    "subject to $x \\succeq 0$\n",
    "</center>"
   ]
  },
  {
   "cell_type": "code",
   "execution_count": 8,
   "id": "fe10ba73",
   "metadata": {},
   "outputs": [
    {
     "name": "stdout",
     "output_type": "stream",
     "text": [
      "زمان حل مسُله  0.24587202072143555 ثانیه\n"
     ]
    }
   ],
   "source": [
    "start_time = time.time()\n",
    "\n",
    "# حل مسئله کمترین مربعات با قید نامنفی بودن x\n",
    "sol_JL_1 = lsq_linear (S @ A , S @ p, bounds=(0, np.inf))\n",
    "\n",
    "end_time = time.time()\n",
    "\n",
    "total_execution_time = end_time - start_time\n",
    "print(f\"زمان حل مسُله  {total_execution_time} ثانیه\")\n",
    "\n",
    "# print(f\"بردار x بهینه: {x_JL_1.x}\")\n"
   ]
  },
  {
   "cell_type": "code",
   "execution_count": 38,
   "id": "39b072ee",
   "metadata": {},
   "outputs": [],
   "source": [
    "x_dense = sol_dense.x\n",
    "x_Jl_1 = sol_JL_1.x"
   ]
  },
  {
   "cell_type": "code",
   "execution_count": 39,
   "id": "c8213c55",
   "metadata": {},
   "outputs": [
    {
     "data": {
      "image/png": "[encoded data removed]",
      "text/plain": [
       "<Figure size 700x500 with 1 Axes>"
      ]
     },
     "metadata": {},
     "output_type": "display_data"
    },
    {
     "name": "stdout",
     "output_type": "stream",
     "text": [
      "Done!\n"
     ]
    }
   ],
   "source": [
    "# DVH\n",
    "\n",
    "dose_full = plan_full.inf_matrix.A @ x_dense\n",
    "dose_JL_1 = plan_full.inf_matrix.A @ x_Jl_1\n",
    "\n",
    "\n",
    "fig, ax = plt.subplots(figsize=(7, 5))\n",
    "struct_names = ['PTV', 'ESOPHAGUS', 'HEART', 'CORD']\n",
    "ax = pp.Visualization.plot_dvh(plan_full, dose_1d=dose_JL_1, struct_names=struct_names, style='solid', ax=ax)\n",
    "ax = pp.Visualization.plot_dvh(plan_full, dose_1d=dose_full, struct_names=struct_names, style='dotted', ax=ax)\n",
    "ax.set_title('-  JL_1   .. Dense ')\n",
    "plt.show()\n",
    "print('Done!')"
   ]
  },
  {
   "cell_type": "code",
   "execution_count": 41,
   "id": "cb98c1bb",
   "metadata": {},
   "outputs": [
    {
     "ename": "NameError",
     "evalue": "name 'dose_JL1' is not defined",
     "output_type": "error",
     "traceback": [
      "\u001b[1;31m---------------------------------------------------------------------------\u001b[0m",
      "\u001b[1;31mNameError\u001b[0m                                 Traceback (most recent call last)",
      "Cell \u001b[1;32mIn[41], line 2\u001b[0m\n\u001b[0;32m      1\u001b[0m \u001b[38;5;66;03m# نوع داده\u001b[39;00m\n\u001b[1;32m----> 2\u001b[0m \u001b[38;5;28mprint\u001b[39m(\u001b[38;5;124m\"\u001b[39m\u001b[38;5;124mData Type:\u001b[39m\u001b[38;5;124m\"\u001b[39m, dose_JL1\u001b[38;5;241m.\u001b[39mdtype)\n\u001b[0;32m      4\u001b[0m \u001b[38;5;66;03m# ابعاد\u001b[39;00m\n\u001b[0;32m      5\u001b[0m \u001b[38;5;28mprint\u001b[39m(\u001b[38;5;124m\"\u001b[39m\u001b[38;5;124mShape:\u001b[39m\u001b[38;5;124m\"\u001b[39m, dose_JL1\u001b[38;5;241m.\u001b[39mshape)\n",
      "\u001b[1;31mNameError\u001b[0m: name 'dose_JL1' is not defined"
     ]
    }
   ],
   "source": [
    "# نوع داده\n",
    "print(\"Data Type:\", dose_JL1.dtype)\n",
    "\n",
    "# ابعاد\n",
    "print(\"Shape:\", dose_JL1.shape)\n",
    "\n",
    "# تعداد کل عناصر\n",
    "print(\"Size:\", dose_JL1.size)\n"
   ]
  },
  {
   "cell_type": "code",
   "execution_count": null,
   "id": "4dd95f19",
   "metadata": {},
   "outputs": [],
   "source": []
  },
  {
   "cell_type": "code",
   "execution_count": 44,
   "id": "c6304aad",
   "metadata": {},
   "outputs": [
    {
     "ename": "NameError",
     "evalue": "name 'dose_JL1' is not defined",
     "output_type": "error",
     "traceback": [
      "\u001b[1;31m---------------------------------------------------------------------------\u001b[0m",
      "\u001b[1;31mNameError\u001b[0m                                 Traceback (most recent call last)",
      "Cell \u001b[1;32mIn[44], line 4\u001b[0m\n\u001b[0;32m      1\u001b[0m \u001b[38;5;28;01mimport\u001b[39;00m \u001b[38;5;21;01mpandas\u001b[39;00m \u001b[38;5;28;01mas\u001b[39;00m \u001b[38;5;21;01mpd\u001b[39;00m\n\u001b[0;32m      3\u001b[0m \u001b[38;5;66;03m# تبدیل numpy.ndarray به DataFrame\u001b[39;00m\n\u001b[1;32m----> 4\u001b[0m dose_JL1_df \u001b[38;5;241m=\u001b[39m pd\u001b[38;5;241m.\u001b[39mDataFrame(dose_JL1)\n\u001b[0;32m      6\u001b[0m \u001b[38;5;66;03m# استفاده از متد describe روی DataFrame\u001b[39;00m\n\u001b[0;32m      7\u001b[0m description \u001b[38;5;241m=\u001b[39m dose_JL1_df\u001b[38;5;241m.\u001b[39mdescribe()\n",
      "\u001b[1;31mNameError\u001b[0m: name 'dose_JL1' is not defined"
     ]
    }
   ],
   "source": [
    "import pandas as pd\n",
    "\n",
    "# تبدیل numpy.ndarray به DataFrame\n",
    "dose_JL1_df = pd.DataFrame(dose_JL1)\n",
    "\n",
    "# استفاده از متد describe روی DataFrame\n",
    "description = dose_JL1_df.describe()\n",
    "\n",
    "# نمایش توضیحات\n",
    "print(description)\n"
   ]
  },
  {
   "cell_type": "code",
   "execution_count": 45,
   "id": "b095f991",
   "metadata": {},
   "outputs": [
    {
     "name": "stdout",
     "output_type": "stream",
     "text": [
      "Distance in original matrix: 0.01944325864315033\n",
      "Distance in reduced matrix: 0.0008366842109406076\n"
     ]
    }
   ],
   "source": [
    "# تست: بررسی حفظ فاصله\n",
    "# تولید دو نقطه تصادفی از ماتریس اصلی\n",
    "random_indices = np.random.choice(A_dense.shape[0], 2, replace=False)\n",
    "point1 = A_dense[random_indices[0]]\n",
    "point2 = A_dense[random_indices[1]]\n",
    "\n",
    "# محاسبه فواصل نقاط در ماتریس اصلی\n",
    "distance_original = np.linalg.norm(point1 - point2)\n",
    "\n",
    "# محاسبه فواصل نقاط در ماتریس کاهش یافته\n",
    "distance_projected_1 = np.linalg.norm(linear_map_1(point1) - linear_map_1(point2))\n",
    "\n",
    "print(f\"Distance in original matrix: {distance_original}\")\n",
    "print(f\"Distance in reduced matrix: {distance_projected_1}\")\n",
    "\n",
    "\n"
   ]
  },
  {
   "cell_type": "code",
   "execution_count": 46,
   "id": "0f1616bc",
   "metadata": {},
   "outputs": [
    {
     "data": {
      "text/plain": [
       "False"
      ]
     },
     "execution_count": 46,
     "metadata": {},
     "output_type": "execute_result"
    }
   ],
   "source": [
    "##  بررسی  پراکندگی ماتریس\n",
    "\n",
    "is_sparse = sparse.issparse(projected_matrix_1)\n",
    "is_sparse"
   ]
  },
  {
   "cell_type": "code",
   "execution_count": 47,
   "id": "91d5f0c4",
   "metadata": {},
   "outputs": [
    {
     "name": "stdout",
     "output_type": "stream",
     "text": [
      "تعداد عناصر غیر صفر در ماتریس S: 0.8515859960453949\n",
      "تعداد عناصر غیر صفر در ماتریس S.A: 1.0\n",
      "تعداد عناصر غیر صفر در ماتریس چگال: 0.3151234981768092\n"
     ]
    }
   ],
   "source": [
    "#  تعداد عناصر غیر صفر\n",
    "num_non_zero_elements_dense = np.count_nonzero(S)/32619186\n",
    "print(\"تعداد عناصر غیر صفر در ماتریس S:\", num_non_zero_elements_dense)\n",
    "\n",
    "num_non_zero_elements_dense = np.count_nonzero(S @ A)/293764\n",
    "print(\"تعداد عناصر غیر صفر در ماتریس S.A:\", num_non_zero_elements_dense)\n",
    "\n",
    "num_non_zero_elements_A_full = np.count_nonzero(A_dense)/32619186\n",
    "print(\"تعداد عناصر غیر صفر در ماتریس چگال:\", num_non_zero_elements_A_full)"
   ]
  },
  {
   "cell_type": "code",
   "execution_count": 48,
   "id": "6162a2a6",
   "metadata": {},
   "outputs": [
    {
     "data": {
      "text/plain": [
       "(60183, 542)"
      ]
     },
     "execution_count": 48,
     "metadata": {},
     "output_type": "execute_result"
    }
   ],
   "source": [
    "A.shape"
   ]
  },
  {
   "cell_type": "code",
   "execution_count": 49,
   "id": "69b10157",
   "metadata": {},
   "outputs": [
    {
     "ename": "NameError",
     "evalue": "name 'x_JL_1' is not defined",
     "output_type": "error",
     "traceback": [
      "\u001b[1;31m---------------------------------------------------------------------------\u001b[0m",
      "\u001b[1;31mNameError\u001b[0m                                 Traceback (most recent call last)",
      "Cell \u001b[1;32mIn[49], line 4\u001b[0m\n\u001b[0;32m      1\u001b[0m \u001b[38;5;66;03m# x_A_full= sol_ls_A_full[0]\u001b[39;00m\n\u001b[0;32m      2\u001b[0m \u001b[38;5;66;03m#print(f'x_A_full :\\t {x_A_full[0:6]}')\u001b[39;00m\n\u001b[1;32m----> 4\u001b[0m cost \u001b[38;5;241m=\u001b[39m cp\u001b[38;5;241m.\u001b[39msum_squares((A \u001b[38;5;241m@\u001b[39m x_dense  \u001b[38;5;241m-\u001b[39m A \u001b[38;5;241m@\u001b[39m x_JL_1  )\u001b[38;5;241m/\u001b[39m cp\u001b[38;5;241m.\u001b[39mnorm(A \u001b[38;5;241m@\u001b[39m x_dense))\n\u001b[0;32m      5\u001b[0m prob1 \u001b[38;5;241m=\u001b[39m cp\u001b[38;5;241m.\u001b[39mProblem(Minimize(cost))\n\u001b[0;32m      6\u001b[0m prob1\u001b[38;5;241m.\u001b[39msolve(solver\u001b[38;5;241m=\u001b[39m\u001b[38;5;124m'\u001b[39m\u001b[38;5;124mMOSEK\u001b[39m\u001b[38;5;124m'\u001b[39m, verbose\u001b[38;5;241m=\u001b[39m\u001b[38;5;28;01mFalse\u001b[39;00m)\n",
      "\u001b[1;31mNameError\u001b[0m: name 'x_JL_1' is not defined"
     ]
    }
   ],
   "source": [
    "# x_A_full= sol_ls_A_full[0]\n",
    "#print(f'x_A_full :\\t {x_A_full[0:6]}')\n",
    "\n",
    "cost = cp.sum_squares((A @ x_dense  - A @ x_JL_1  )/ cp.norm(A @ x_dense))\n",
    "prob1 = cp.Problem(Minimize(cost))\n",
    "prob1.solve(solver='MOSEK', verbose=False)"
   ]
  },
  {
   "cell_type": "code",
   "execution_count": 18,
   "id": "69d18eb8",
   "metadata": {},
   "outputs": [
    {
     "ename": "NameError",
     "evalue": "name 'sol_ls_A_full' is not defined",
     "output_type": "error",
     "traceback": [
      "\u001b[1;31m---------------------------------------------------------------------------\u001b[0m",
      "\u001b[1;31mNameError\u001b[0m                                 Traceback (most recent call last)",
      "Cell \u001b[1;32mIn[18], line 1\u001b[0m\n\u001b[1;32m----> 1\u001b[0m x_A_full\u001b[38;5;241m=\u001b[39m sol_ls_A_full[\u001b[38;5;241m0\u001b[39m]\n\u001b[0;32m      2\u001b[0m \u001b[38;5;28mprint\u001b[39m(\u001b[38;5;124mf\u001b[39m\u001b[38;5;124m'\u001b[39m\u001b[38;5;124mx_A_full :\u001b[39m\u001b[38;5;130;01m\\t\u001b[39;00m\u001b[38;5;124m \u001b[39m\u001b[38;5;132;01m{\u001b[39;00mx_A_full[\u001b[38;5;241m0\u001b[39m:\u001b[38;5;241m6\u001b[39m]\u001b[38;5;132;01m}\u001b[39;00m\u001b[38;5;124m'\u001b[39m)\n\u001b[0;32m      4\u001b[0m cost \u001b[38;5;241m=\u001b[39m cp\u001b[38;5;241m.\u001b[39msum_squares((A \u001b[38;5;241m@\u001b[39m x_JL_1 \u001b[38;5;241m-\u001b[39m d )\u001b[38;5;241m/\u001b[39m cp\u001b[38;5;241m.\u001b[39mnorm(d))\n",
      "\u001b[1;31mNameError\u001b[0m: name 'sol_ls_A_full' is not defined"
     ]
    }
   ],
   "source": [
    "x_A_full= sol_ls_A_full[0]\n",
    "print(f'x_A_full :\\t {x_A_full[0:6]}')\n",
    "\n",
    "cost = cp.sum_squares((A @ x_JL_1 - d )/ cp.norm(d))\n",
    "prob2 = cp.Problem(Minimize(cost))\n",
    "prob2.solve(solver='MOSEK', verbose=False)"
   ]
  },
  {
   "cell_type": "code",
   "execution_count": 51,
   "id": "5ed8ee2f",
   "metadata": {},
   "outputs": [
    {
     "ename": "KeyError",
     "evalue": "0",
     "output_type": "error",
     "traceback": [
      "\u001b[1;31m---------------------------------------------------------------------------\u001b[0m",
      "\u001b[1;31mKeyError\u001b[0m                                  Traceback (most recent call last)",
      "Cell \u001b[1;32mIn[51], line 1\u001b[0m\n\u001b[1;32m----> 1\u001b[0m x_JL_1 \u001b[38;5;241m=\u001b[39m sol_JL_1[\u001b[38;5;241m0\u001b[39m]\n\u001b[0;32m      2\u001b[0m \u001b[38;5;28mprint\u001b[39m(\u001b[38;5;124mf\u001b[39m\u001b[38;5;124m'\u001b[39m\u001b[38;5;124mx_JL_1 :\u001b[39m\u001b[38;5;130;01m\\t\u001b[39;00m\u001b[38;5;124m \u001b[39m\u001b[38;5;132;01m{\u001b[39;00mx_JL_1[\u001b[38;5;241m0\u001b[39m:\u001b[38;5;241m6\u001b[39m]\u001b[38;5;132;01m}\u001b[39;00m\u001b[38;5;124m'\u001b[39m)\n\u001b[0;32m      4\u001b[0m cost \u001b[38;5;241m=\u001b[39m sum_squares(JL_1 \u001b[38;5;241m@\u001b[39m A \u001b[38;5;241m@\u001b[39m x_JL_1  \u001b[38;5;241m-\u001b[39m  JL_1 \u001b[38;5;241m@\u001b[39m d)\n",
      "\u001b[1;31mKeyError\u001b[0m: 0"
     ]
    }
   ],
   "source": [
    "x_JL_1 = sol_JL_1[0]\n",
    "print(f'x_JL_1 :\\t {x_JL_1[0:6]}')\n",
    "\n",
    "cost = sum_squares(JL_1 @ A @ x_JL_1  -  JL_1 @ d)\n",
    "prob = Problem(Minimize(cost))\n",
    "prob.solve()"
   ]
  },
  {
   "cell_type": "code",
   "execution_count": 52,
   "id": "d836ecf0",
   "metadata": {},
   "outputs": [
    {
     "ename": "NameError",
     "evalue": "name 'A_full' is not defined",
     "output_type": "error",
     "traceback": [
      "\u001b[1;31m---------------------------------------------------------------------------\u001b[0m",
      "\u001b[1;31mNameError\u001b[0m                                 Traceback (most recent call last)",
      "Cell \u001b[1;32mIn[52], line 1\u001b[0m\n\u001b[1;32m----> 1\u001b[0m nonzero_count \u001b[38;5;241m=\u001b[39m np\u001b[38;5;241m.\u001b[39mcount_nonzero(A_full)\n\u001b[0;32m      2\u001b[0m \u001b[38;5;28mprint\u001b[39m(\u001b[38;5;124m\"\u001b[39m\u001b[38;5;124mتعداد مقادیر غیر صفر ماتریس کامل: \u001b[39m\u001b[38;5;124m\"\u001b[39m, nonzero_count)\n\u001b[0;32m      3\u001b[0m num_non_zero \u001b[38;5;241m=\u001b[39m np\u001b[38;5;241m.\u001b[39mcount_nonzero(JL_1 \u001b[38;5;241m@\u001b[39m A)\n",
      "\u001b[1;31mNameError\u001b[0m: name 'A_full' is not defined"
     ]
    }
   ],
   "source": [
    "nonzero_count = np.count_nonzero(A_full)\n",
    "print(\"تعداد مقادیر غیر صفر ماتریس کامل: \", nonzero_count)\n",
    "num_non_zero = np.count_nonzero(JL_1 @ A)\n",
    "print(\"تعداد عناصر غیر صفر در ماتریس SA :\", num_non_zero)"
   ]
  },
  {
   "cell_type": "code",
   "execution_count": 56,
   "id": "232faad6",
   "metadata": {},
   "outputs": [
    {
     "name": "stdout",
     "output_type": "stream",
     "text": [
      "خطای نسبی بین دو بردار: 0.15506539794081328\n"
     ]
    }
   ],
   "source": [
    "sol_ls_A_full = scipy.sparse.linalg.lsqr(A_dense, dose_sparse_1d)\n",
    "x_A_full = sol_ls_A_full[0]\n",
    "\n",
    "relative_error = np.linalg.norm(x_A_full - x_Jl_1) / np.linalg.norm(x_A_full)\n",
    "print(\"خطای نسبی بین دو بردار:\", relative_error)\n"
   ]
  },
  {
   "cell_type": "markdown",
   "id": "985d511d",
   "metadata": {},
   "source": [
    "## تعداد عناصر غیرصفر  ۱/۱۰۰ تعداد عناصر غیر صفر ماتریس کامل  شده است"
   ]
  },
  {
   "cell_type": "code",
   "execution_count": 53,
   "id": "12307073",
   "metadata": {},
   "outputs": [
    {
     "ename": "NameError",
     "evalue": "name 'x_JL_1' is not defined",
     "output_type": "error",
     "traceback": [
      "\u001b[1;31m---------------------------------------------------------------------------\u001b[0m",
      "\u001b[1;31mNameError\u001b[0m                                 Traceback (most recent call last)",
      "Cell \u001b[1;32mIn[53], line 5\u001b[0m\n\u001b[0;32m      1\u001b[0m \u001b[38;5;66;03m## تابع (هدف)خطای میانگین مربعات\u001b[39;00m\n\u001b[0;32m      2\u001b[0m \u001b[38;5;66;03m## MSE = Mean Squared Error\u001b[39;00m\n\u001b[0;32m      4\u001b[0m d_true \u001b[38;5;241m=\u001b[39m p          \u001b[38;5;66;03m# دوز تجویزی\u001b[39;00m\n\u001b[1;32m----> 5\u001b[0m d_pred \u001b[38;5;241m=\u001b[39m A \u001b[38;5;241m@\u001b[39m x_JL_1   \u001b[38;5;66;03m# دوز پیش‌بینی شده\u001b[39;00m\n\u001b[0;32m      7\u001b[0m MSE \u001b[38;5;241m=\u001b[39m np\u001b[38;5;241m.\u001b[39mmean((d_true \u001b[38;5;241m-\u001b[39m d_pred) \u001b[38;5;241m*\u001b[39m\u001b[38;5;241m*\u001b[39m \u001b[38;5;241m2\u001b[39m)\n\u001b[0;32m      8\u001b[0m \u001b[38;5;28mprint\u001b[39m(\u001b[38;5;124m\"\u001b[39m\u001b[38;5;124mMean Squared Error :\u001b[39m\u001b[38;5;124m\"\u001b[39m, MSE)\n",
      "\u001b[1;31mNameError\u001b[0m: name 'x_JL_1' is not defined"
     ]
    }
   ],
   "source": [
    "## تابع (هدف)خطای میانگین مربعات\n",
    "## MSE = Mean Squared Error\n",
    "\n",
    "d_true = p          # دوز تجویزی\n",
    "d_pred = A @ x_JL_1   # دوز پیش‌بینی شده\n",
    "\n",
    "MSE = np.mean((d_true - d_pred) ** 2)\n",
    "print(\"Mean Squared Error :\", MSE)\n"
   ]
  },
  {
   "cell_type": "code",
   "execution_count": 54,
   "id": "b514531e",
   "metadata": {},
   "outputs": [
    {
     "ename": "NameError",
     "evalue": "name 'x_JL_1' is not defined",
     "output_type": "error",
     "traceback": [
      "\u001b[1;31m---------------------------------------------------------------------------\u001b[0m",
      "\u001b[1;31mNameError\u001b[0m                                 Traceback (most recent call last)",
      "Cell \u001b[1;32mIn[54], line 5\u001b[0m\n\u001b[0;32m      1\u001b[0m \u001b[38;5;66;03m## تابع (هدف)خطای میانگین مربعات\u001b[39;00m\n\u001b[0;32m      2\u001b[0m \u001b[38;5;66;03m## MSE = Mean Squared Error\u001b[39;00m\n\u001b[0;32m      4\u001b[0m d_true \u001b[38;5;241m=\u001b[39m A \u001b[38;5;241m@\u001b[39m x_dense         \u001b[38;5;66;03m# دوز واقعی\u001b[39;00m\n\u001b[1;32m----> 5\u001b[0m d_pred \u001b[38;5;241m=\u001b[39m A \u001b[38;5;241m@\u001b[39m x_JL_1   \u001b[38;5;66;03m# دوز پیش‌بینی شده\u001b[39;00m\n\u001b[0;32m      7\u001b[0m MSE \u001b[38;5;241m=\u001b[39m np\u001b[38;5;241m.\u001b[39mmean((d_true \u001b[38;5;241m-\u001b[39m d_pred) \u001b[38;5;241m*\u001b[39m\u001b[38;5;241m*\u001b[39m \u001b[38;5;241m2\u001b[39m)\n\u001b[0;32m      8\u001b[0m \u001b[38;5;28mprint\u001b[39m(\u001b[38;5;124m\"\u001b[39m\u001b[38;5;124mMean Squared Error :\u001b[39m\u001b[38;5;124m\"\u001b[39m, MSE)\n",
      "\u001b[1;31mNameError\u001b[0m: name 'x_JL_1' is not defined"
     ]
    }
   ],
   "source": [
    "## تابع (هدف)خطای میانگین مربعات\n",
    "## MSE = Mean Squared Error\n",
    "\n",
    "d_true = A @ x_dense         # دوز واقعی\n",
    "d_pred = A @ x_JL_1   # دوز پیش‌بینی شده\n",
    "\n",
    "MSE = np.mean((d_true - d_pred) ** 2)\n",
    "print(\"Mean Squared Error :\", MSE)\n"
   ]
  },
  {
   "cell_type": "code",
   "execution_count": 17,
   "id": "3594a5a4",
   "metadata": {},
   "outputs": [
    {
     "ename": "NameError",
     "evalue": "name 'x_A_full' is not defined",
     "output_type": "error",
     "traceback": [
      "\u001b[1;31m---------------------------------------------------------------------------\u001b[0m",
      "\u001b[1;31mNameError\u001b[0m                                 Traceback (most recent call last)",
      "Cell \u001b[1;32mIn[17], line 14\u001b[0m\n\u001b[0;32m     10\u001b[0m     relative_error \u001b[38;5;241m=\u001b[39m np\u001b[38;5;241m.\u001b[39mlinalg\u001b[38;5;241m.\u001b[39mnorm(x_A_full \u001b[38;5;241m-\u001b[39m x_JL_1) \u001b[38;5;241m/\u001b[39m norm_vector2\n\u001b[0;32m     12\u001b[0m     \u001b[38;5;28;01mreturn\u001b[39;00m relative_error\n\u001b[1;32m---> 14\u001b[0m error \u001b[38;5;241m=\u001b[39m calculate_relative_error(x_A_full, x_JL_1)\n\u001b[0;32m     15\u001b[0m \u001b[38;5;28mprint\u001b[39m(\u001b[38;5;124mf\u001b[39m\u001b[38;5;124m\"\u001b[39m\u001b[38;5;124mنرم خطای نسبی بین دو بردار: \u001b[39m\u001b[38;5;132;01m{\u001b[39;00merror\u001b[38;5;132;01m}\u001b[39;00m\u001b[38;5;124m\"\u001b[39m)\n",
      "\u001b[1;31mNameError\u001b[0m: name 'x_A_full' is not defined"
     ]
    }
   ],
   "source": [
    "import numpy as np\n",
    "\n",
    "def calculate_relative_error(vector1, vector2):\n",
    "   \n",
    "    array1 = np.array(x_A_full)\n",
    "    array2 = np.array(x_JL_1)\n",
    "\n",
    "    norm_vector2 = np.linalg.norm(x_A_full)\n",
    "\n",
    "    relative_error = np.linalg.norm(x_A_full - x_JL_1) / norm_vector2\n",
    "\n",
    "    return relative_error\n",
    "\n",
    "error = calculate_relative_error(x_A_full, x_JL_1)\n",
    "print(f\"نرم خطای نسبی بین دو بردار: {error}\")\n"
   ]
  },
  {
   "cell_type": "code",
   "execution_count": 46,
   "id": "42089438",
   "metadata": {},
   "outputs": [
    {
     "name": "stdout",
     "output_type": "stream",
     "text": [
      "نرم خطای مطلق بین دو بردار: 140.93318675719672\n"
     ]
    }
   ],
   "source": [
    "import numpy as np\n",
    "\n",
    "def calculate_absolute_error(vector1, vector2):\n",
    "    array1 = np.array(x_A_full)\n",
    "    array2 = np.array(x_JL_1)\n",
    "\n",
    "    absolute_error = np.linalg.norm(array1 - array2, ord=1) \n",
    "\n",
    "    return absolute_error\n",
    "\n",
    "\n",
    "error = calculate_absolute_error(x_A_full, x_JL_1)\n",
    "print(f\"نرم خطای مطلق بین دو بردار: {error}\")\n"
   ]
  },
  {
   "cell_type": "raw",
   "id": "0f660ef5",
   "metadata": {},
   "source": [
    "# x - x^\n",
    "\n",
    "error = x_star -  x_JL_1\n",
    "error"
   ]
  },
  {
   "cell_type": "code",
   "execution_count": 18,
   "id": "e7229694",
   "metadata": {},
   "outputs": [
    {
     "name": "stdout",
     "output_type": "stream",
     "text": [
      "میزان حافظه sol_ls_JL_1 : 0.00011444091796875 مگابایت\n"
     ]
    }
   ],
   "source": [
    "memory_usage_sol_ls_JL_1 = sys.getsizeof(sol_ls_JL_1 )\n",
    "megabyte_size_sol_ls_JL_1 = memory_usage_sol_ls_JL_1 / 1024 / 1024\n",
    "\n",
    "print(f\"میزان حافظه sol_ls_JL_1 : {megabyte_size_sol_ls_JL_1} مگابایت\")"
   ]
  },
  {
   "cell_type": "code",
   "execution_count": 49,
   "id": "16318e77",
   "metadata": {},
   "outputs": [
    {
     "name": "stdout",
     "output_type": "stream",
     "text": [
      "میزان حافظه ساخت JL_1 : 0.0001220703125 مگابایت\n"
     ]
    }
   ],
   "source": [
    "memory_usage_JL_1 = sys.getsizeof(JL_1 )\n",
    "megabyte_size_JL_1 = memory_usage_JL_1 / 1024 / 1024\n",
    "\n",
    "print(f\"میزان حافظه ساخت JL_1 : {megabyte_size_JL_1} مگابایت\")"
   ]
  },
  {
   "cell_type": "code",
   "execution_count": 59,
   "id": "0b68a07e",
   "metadata": {},
   "outputs": [
    {
     "name": "stdout",
     "output_type": "stream",
     "text": [
      "میزان حافظه ساخت JL_1 : 27633.61743927002 مگابایت\n"
     ]
    }
   ],
   "source": [
    "memory_usage_JL_2 = sys.getsizeof(JL_2 )\n",
    "megabyte_size_JL_2 = memory_usage_JL_2 / 1024 / 1024\n",
    "\n",
    "print(f\"میزان حافظه ساخت JL_1 : {megabyte_size_JL_2} مگابایت\")"
   ]
  },
  {
   "cell_type": "code",
   "execution_count": 20,
   "id": "e39943e0",
   "metadata": {},
   "outputs": [
    {
     "name": "stdout",
     "output_type": "stream",
     "text": [
      " رتبه ماتریس تقریب = 542\n"
     ]
    }
   ],
   "source": [
    "r1 = np.linalg.matrix_rank(JL_1 @ A_full ) \n",
    "#r2 = np.linalg.matrix_rank(A_full)      \n",
    "print( f' رتبه ماتریس تقریب = {r1}')"
   ]
  },
  {
   "cell_type": "code",
   "execution_count": 4,
   "id": "22db7bab",
   "metadata": {},
   "outputs": [
    {
     "name": "stdout",
     "output_type": "stream",
     "text": [
      "زمان ساخت  26.283906936645508 ثانیه\n"
     ]
    }
   ],
   "source": [
    "# بررسی  با 60183\n",
    "\n",
    "\n",
    "\n",
    "start_time = time.time()\n",
    "\n",
    "#k = 60183\n",
    "#eps = 0.01\n",
    "m, n = A_full.shape\n",
    "\n",
    "    \n",
    "def apply_JL_lemma(A_full, k, eps):\n",
    "   \n",
    "    # eps: مقدار ارتباط فاصله\n",
    "    m, n = A_full.shape    \n",
    "\n",
    "    R = np.random.normal(0, 1, (n, k)) / np.sqrt(k)\n",
    "\n",
    "    # نرمال سازی ماتریس\n",
    "    R = R / np.linalg.norm(R, axis=0)\n",
    "\n",
    "    projected_matrix_2 = np.dot(A_full, R)\n",
    "\n",
    "    def linear_map_2(v):\n",
    "        return (1 / np.sqrt(k)) * np.dot(R.T, v)\n",
    "\n",
    "    return projected_matrix_2, linear_map_2\n",
    "\n",
    "# اعمال قضیه جانسون-لیندن‌استراوس بر روی ماتریس اصلی برای کاهش بُعد و مقدار epsilon = 0.1\n",
    "projected_matrix_2, linear_map_2 = apply_JL_lemma(A_full, k=m, eps=0.1)\n",
    "\n",
    "\n",
    "end_time = time.time()\n",
    "\n",
    "total_execution_time = end_time - start_time\n",
    "print(f\"زمان ساخت  {total_execution_time} ثانیه\")"
   ]
  },
  {
   "cell_type": "code",
   "execution_count": 5,
   "id": "46e5a0f9",
   "metadata": {},
   "outputs": [
    {
     "name": "stdout",
     "output_type": "stream",
     "text": [
      "JL_2 = (60183, 60183)\n",
      "A = (60183, 542)\n",
      "d = (60183,)\n"
     ]
    }
   ],
   "source": [
    "JL_2 = projected_matrix_2\n",
    "A = A_full\n",
    "d = dose_full_1d\n",
    "print(f'JL_2 = {JL_2.shape}\\nA = {A.shape}\\nd = {d.shape}')"
   ]
  },
  {
   "cell_type": "code",
   "execution_count": 6,
   "id": "97390bde",
   "metadata": {},
   "outputs": [
    {
     "name": "stdout",
     "output_type": "stream",
     "text": [
      "زمان حل کمترین مربعات36.6832172870636 ثانیه\n"
     ]
    }
   ],
   "source": [
    "start_time = time.time()\n",
    "\n",
    "sol_ls_JL_2 = scipy.sparse.linalg.lsqr(JL_2 @ A , JL_2 @ d)\n",
    "\n",
    "\n",
    "end_time = time.time()\n",
    "\n",
    "total_execution_time = end_time - start_time\n",
    "print(f\"زمان حل کمترین مربعات{total_execution_time} ثانیه\")"
   ]
  },
  {
   "cell_type": "raw",
   "id": "7a40ee90",
   "metadata": {},
   "source": [
    "x_JL_2 = sol_ls_JL_2[0]\n",
    "print(f'x_JL_2 :\\t {x_JL_2[0:6]}')\n",
    "\n",
    "\n",
    "cost = cp.sum_squares((A @ x_A_full  - A @ x_JL_2  )/ cp.norm(A @ x_A_full))\n",
    "prob = cp.Problem(Minimize(cost))\n",
    "prob.solve(solver='MOSEK', verbose=False)"
   ]
  },
  {
   "cell_type": "code",
   "execution_count": 7,
   "id": "740530bc",
   "metadata": {},
   "outputs": [
    {
     "name": "stdout",
     "output_type": "stream",
     "text": [
      "x_JL_2 :\t [ 6.32633089  0.76392897  1.82877719  2.55278294 10.17803847  8.1373959 ]\n"
     ]
    },
    {
     "data": {
      "text/plain": [
       "0.0001230028222348172"
      ]
     },
     "execution_count": 7,
     "metadata": {},
     "output_type": "execute_result"
    }
   ],
   "source": [
    "x_JL_2 = sol_ls_JL_2[0]\n",
    "print(f'x_JL_2 :\\t {x_JL_2[0:6]}')\n",
    "\n",
    "\n",
    "cost = cp.sum_squares((d  - A @ x_JL_2  )/ cp.norm(d))\n",
    "prob = cp.Problem(Minimize(cost))\n",
    "prob.solve(solver='MOSEK', verbose=False)"
   ]
  },
  {
   "cell_type": "code",
   "execution_count": 12,
   "id": "fc776b94",
   "metadata": {},
   "outputs": [],
   "source": [
    "x_JL_2 = sol_ls_JL_2[0]"
   ]
  },
  {
   "cell_type": "code",
   "execution_count": 39,
   "id": "df4ec8e7",
   "metadata": {},
   "outputs": [
    {
     "data": {
      "text/plain": [
       "7.538364969628534e-05"
      ]
     },
     "execution_count": 39,
     "metadata": {},
     "output_type": "execute_result"
    }
   ],
   "source": [
    "cost = cp.sum_squares((d  - A @ x_JL_2  )/ cp.norm(d))\n",
    "prob = cp.Problem(Minimize(cost))\n",
    "prob.solve(solver='MOSEK', verbose=False)"
   ]
  },
  {
   "cell_type": "code",
   "execution_count": 25,
   "id": "d975552a",
   "metadata": {},
   "outputs": [
    {
     "name": "stdout",
     "output_type": "stream",
     "text": [
      " رتبه ماتریس تقریب = 542\n",
      "رتبه ماتریس کامل = 542\n"
     ]
    }
   ],
   "source": [
    "r1 = np.linalg.matrix_rank(projected_matrix_2 @ A_full ) \n",
    "r2 = np.linalg.matrix_rank(A_full)      \n",
    "print( f' رتبه ماتریس تقریب = {r1}\\nرتبه ماتریس کامل = {r2}')"
   ]
  },
  {
   "cell_type": "code",
   "execution_count": 15,
   "id": "b556fefb",
   "metadata": {},
   "outputs": [
    {
     "data": {
      "image/png": "[encoded data removed]",
      "text/plain": [
       "<Figure size 800x500 with 1 Axes>"
      ]
     },
     "metadata": {},
     "output_type": "display_data"
    },
    {
     "name": "stdout",
     "output_type": "stream",
     "text": [
      "Done!\n"
     ]
    }
   ],
   "source": [
    "# DVH Plot\n",
    "dose_JL2 = plan_full.inf_matrix.A @ x_JL_2 \n",
    "dose_full = plan_full.inf_matrix.A @ x_full\n",
    "\n",
    "\n",
    "\n",
    "fig, ax = plt.subplots(figsize=(8, 5))\n",
    "struct_names = ['PTV', 'ESOPHAGUS', 'HEART', 'CORD']\n",
    "ax = pp.Visualization.plot_dvh(plan_full, dose_1d= dose_JL2, struct_names=struct_names, style='solid', ax=ax)\n",
    "ax = pp.Visualization.plot_dvh(plan_full, dose_1d=dose_full, struct_names=struct_names, style='dotted', ax=ax)\n",
    "ax.set_title('- JL2 Matrix  ...  Full')\n",
    "plt.show()\n",
    "print('Done!')"
   ]
  },
  {
   "cell_type": "code",
   "execution_count": 22,
   "id": "40320da7",
   "metadata": {},
   "outputs": [
    {
     "name": "stdout",
     "output_type": "stream",
     "text": [
      "Data Type: float64\n",
      "Shape: (60183,)\n",
      "Size: 60183\n"
     ]
    }
   ],
   "source": [
    "# نوع داده\n",
    "print(\"Data Type:\", dose_JL2.dtype)\n",
    "\n",
    "# ابعاد\n",
    "print(\"Shape:\", dose_JL2.shape)\n",
    "\n",
    "# تعداد کل عناصر\n",
    "print(\"Size:\", dose_JL2.size)\n"
   ]
  },
  {
   "cell_type": "code",
   "execution_count": 26,
   "id": "84c605aa",
   "metadata": {},
   "outputs": [
    {
     "name": "stdout",
     "output_type": "stream",
     "text": [
      "                  0\n",
      "count  60183.000000\n",
      "mean       6.567914\n",
      "std       12.136572\n",
      "min        0.000000\n",
      "25%        0.343364\n",
      "50%        1.415731\n",
      "75%        6.688543\n",
      "max       74.210873\n"
     ]
    }
   ],
   "source": [
    "import pandas as pd\n",
    "\n",
    "# تبدیل numpy.ndarray به DataFrame\n",
    "dose_JL2_df = pd.DataFrame(dose_JL2)\n",
    "\n",
    "# استفاده از متد describe روی DataFrame\n",
    "description = dose_JL2_df.describe()\n",
    "\n",
    "# نمایش توضیحات\n",
    "print(description)\n"
   ]
  },
  {
   "cell_type": "code",
   "execution_count": 25,
   "id": "7d95b810",
   "metadata": {},
   "outputs": [
    {
     "name": "stdout",
     "output_type": "stream",
     "text": [
      "                  0\n",
      "count  60183.000000\n",
      "mean       5.840937\n",
      "std       10.741495\n",
      "min        0.000000\n",
      "25%        0.297954\n",
      "50%        1.261218\n",
      "75%        6.208031\n",
      "max       65.613516\n"
     ]
    }
   ],
   "source": [
    "import pandas as pd\n",
    "\n",
    "# تبدیل numpy.ndarray به DataFrame\n",
    "dose_full_df = pd.DataFrame(dose_full)\n",
    "\n",
    "# استفاده از متد describe روی DataFrame\n",
    "description = dose_full_df.describe()\n",
    "\n",
    "# نمایش توضیحات\n",
    "print(description)\n"
   ]
  },
  {
   "cell_type": "code",
   "execution_count": 24,
   "id": "c33d4962",
   "metadata": {},
   "outputs": [
    {
     "name": "stdout",
     "output_type": "stream",
     "text": [
      "Data Type: float64\n",
      "Shape: (60183,)\n",
      "Size: 60183\n"
     ]
    }
   ],
   "source": [
    "# نوع داده\n",
    "print(\"Data Type:\", dose_full.dtype)\n",
    "\n",
    "# ابعاد\n",
    "print(\"Shape:\", dose_full.shape)\n",
    "\n",
    "# تعداد کل عناصر\n",
    "print(\"Size:\", dose_full.size)\n",
    "\n",
    "\n"
   ]
  },
  {
   "cell_type": "code",
   "execution_count": 60,
   "id": "456632fb",
   "metadata": {},
   "outputs": [
    {
     "name": "stdout",
     "output_type": "stream",
     "text": [
      "Mean Squared Error : 0.013226262767956241\n"
     ]
    }
   ],
   "source": [
    "## تابع (هدف)خطای میانگین مربعات\n",
    "## MSE = Mean Squared Error\n",
    "\n",
    "d_true = A @ x_A_full         # دوز واقعی\n",
    "d_pred = A @ x_JL_2   # دوز پیش‌بینی شده\n",
    "\n",
    "MSE = np.mean((d_true - d_pred) ** 2)\n",
    "print(\"Mean Squared Error :\", MSE)\n"
   ]
  },
  {
   "cell_type": "code",
   "execution_count": 61,
   "id": "a05e7d97",
   "metadata": {},
   "outputs": [
    {
     "name": "stdout",
     "output_type": "stream",
     "text": [
      "Mean Squared Error : 0.013224769537129883\n"
     ]
    }
   ],
   "source": [
    "## تابع (هدف)خطای میانگین مربعات\n",
    "## MSE = Mean Squared Error\n",
    "\n",
    "d_true = d         # دوز واقعی\n",
    "d_pred = A @ x_JL_2   # دوز پیش‌بینی شده\n",
    "\n",
    "MSE = np.mean((d_true - d_pred) ** 2)\n",
    "print(\"Mean Squared Error :\", MSE)\n"
   ]
  },
  {
   "cell_type": "code",
   "execution_count": 23,
   "id": "525cb3d4",
   "metadata": {},
   "outputs": [
    {
     "name": "stdout",
     "output_type": "stream",
     "text": [
      "Distance in original matrix: 0.5519641041755676\n",
      "Distance in reduced matrix: [[0. 0. 0. ... 0. 0. 0.]\n",
      " [0. 0. 0. ... 0. 0. 0.]\n",
      " [0. 0. 0. ... 0. 0. 0.]\n",
      " ...\n",
      " [0. 0. 0. ... 0. 0. 0.]\n",
      " [0. 0. 0. ... 0. 0. 0.]\n",
      " [0. 0. 0. ... 0. 0. 0.]]\n"
     ]
    }
   ],
   "source": [
    "# تولید دو نقطه تصادفی از ماتریس اصلی\n",
    "random_indices = np.random.choice(A_full.shape[0], 2, replace=False)\n",
    "point1 = A_full[random_indices[0]]\n",
    "point2 = A_full[random_indices[1]]\n",
    "\n",
    "# محاسبه فواصل نقاط در ماتریس اصلی\n",
    "distance_original = np.linalg.norm(point1 - point2)\n",
    "\n",
    "# محاسبه فواصل نقاط در ماتریس کاهش یافته\n",
    "distance_projected_2 = np.linalg.norm(linear_map_2(point1) - linear_map_2(point2))\n",
    "\n",
    "print(f\"Distance in original matrix: {distance_original}\")\n",
    "print(f\"Distance in reduced matrix: {projected_matrix_2}\")\n"
   ]
  },
  {
   "cell_type": "code",
   "execution_count": 30,
   "id": "82aafdad",
   "metadata": {},
   "outputs": [
    {
     "data": {
      "text/plain": [
       "942.2712308579363"
      ]
     },
     "execution_count": 30,
     "metadata": {},
     "output_type": "execute_result"
    }
   ],
   "source": [
    "x_JL_2 = sol_ls_JL_2[0]\n",
    "cost = sum_squares(A @ x_JL_2 -  d)\n",
    "prob_original = Problem(Minimize(cost))\n",
    "prob_original.solve()"
   ]
  },
  {
   "cell_type": "code",
   "execution_count": 52,
   "id": "89785ff5",
   "metadata": {},
   "outputs": [
    {
     "name": "stdout",
     "output_type": "stream",
     "text": [
      "x_A_full :\t [ 6.56993354  0.52249962  1.0313918   2.38895931 10.26382985  8.2465346 ]\n"
     ]
    },
    {
     "data": {
      "text/plain": [
       "0.008333098840964736"
      ]
     },
     "execution_count": 52,
     "metadata": {},
     "output_type": "execute_result"
    }
   ],
   "source": [
    "import cvxpy as cp\n",
    "\n",
    "x_A_full = sol_ls_A_full[0]\n",
    "print(f'x_A_full :\\t {x_A_full[0:6]}')\n",
    "\n",
    "# تغییر تابع هدف به نرم فروبنیوس\n",
    "cost = cp.norm(A @ x_A_full - A @ x_JL_2, \"fro\")/ cp.norm(A @ x_A_full, \"fro\")\n",
    "\n",
    "\n",
    "# تغییر مسئله بهینه‌سازی\n",
    "prob = cp.Problem(cp.Minimize(cost))\n",
    "\n",
    "# حل مسئله\n",
    "prob.solve()\n"
   ]
  },
  {
   "cell_type": "code",
   "execution_count": 42,
   "id": "c351b1c8",
   "metadata": {},
   "outputs": [
    {
     "name": "stdout",
     "output_type": "stream",
     "text": [
      "نرم خطای نسبی بین دو بردار: 0.031026630637414523\n"
     ]
    }
   ],
   "source": [
    "import numpy as np\n",
    "\n",
    "def calculate_relative_error(vector1, vector2):\n",
    "   \n",
    "    array1 = np.array(x_A_full)\n",
    "    array2 = np.array(x_JL_2)\n",
    "\n",
    "    norm_vector2 = np.linalg.norm(x_A_full)\n",
    "\n",
    "    relative_error = np.linalg.norm(x_A_full - x_JL_2) / norm_vector2\n",
    "\n",
    "    return relative_error\n",
    "\n",
    "error = calculate_relative_error(x_A_full, x_JL_2)\n",
    "print(f\"نرم خطای نسبی بین دو بردار: {error}\")\n"
   ]
  },
  {
   "cell_type": "code",
   "execution_count": 45,
   "id": "98ae66a2",
   "metadata": {},
   "outputs": [
    {
     "name": "stdout",
     "output_type": "stream",
     "text": [
      "نرم خطای مطلق بین دو بردار: 125.98748750518801\n"
     ]
    }
   ],
   "source": [
    "import numpy as np\n",
    "\n",
    "def calculate_absolute_error(vector1, vector2):\n",
    "    array1 = np.array(x_A_full)\n",
    "    array2 = np.array(x_JL_2)\n",
    "\n",
    "    absolute_error = np.linalg.norm(array1 - array2, ord=1) \n",
    "\n",
    "    return absolute_error\n",
    "\n",
    "\n",
    "error = calculate_absolute_error(x_A_full, x_JL_2)\n",
    "print(f\"نرم خطای مطلق بین دو بردار: {error}\")\n"
   ]
  },
  {
   "cell_type": "code",
   "execution_count": 19,
   "id": "42f69432",
   "metadata": {},
   "outputs": [
    {
     "name": "stdout",
     "output_type": "stream",
     "text": [
      "نرم خطای مطلق: 1795243.967586711\n"
     ]
    }
   ],
   "source": [
    "def calculate_absolute_error(matrix1, matrix2):\n",
    "    \n",
    "    array1 = np.array(A_full)\n",
    "    array2 = np.array(JL_2 @ A)\n",
    "\n",
    "    absolute_error = np.sum(np.abs(array1 - array2))\n",
    "    return absolute_error\n",
    "\n",
    "\n",
    "absolute_errorr = calculate_absolute_error(A_full, JL_2 @ A)\n",
    "print(f\"نرم خطای مطلق: {absolute_errorr}\")\n"
   ]
  },
  {
   "cell_type": "code",
   "execution_count": 22,
   "id": "e35fb007",
   "metadata": {},
   "outputs": [
    {
     "name": "stdout",
     "output_type": "stream",
     "text": [
      "نرم خطای مطلق بین دو ماتریس: 739.3085460329893\n"
     ]
    }
   ],
   "source": [
    "import numpy as np\n",
    "\n",
    "def calculate_relative_error(matrix1, matrix2):\n",
    "    array1 = np.array(A_full)\n",
    "    array2 = np.array(JL_2 @ A)\n",
    "\n",
    "    norm_error = np.linalg.norm(array1 - array2, 'fro') \n",
    "    \n",
    "    return norm_error\n",
    "\n",
    "error = calculate_relative_error(A_full, JL_2 @ A)\n",
    "print(f\"نرم خطای مطلق بین دو ماتریس: {error}\")\n"
   ]
  },
  {
   "cell_type": "code",
   "execution_count": 20,
   "id": "f70e2b74",
   "metadata": {},
   "outputs": [
    {
     "name": "stdout",
     "output_type": "stream",
     "text": [
      "نرم خطای نسبی بین دو ماتریس: 1.0147916170361297\n"
     ]
    }
   ],
   "source": [
    "import numpy as np\n",
    "\n",
    "def calculate_relative_error(matrix1, matrix2):\n",
    "    array1 = np.array(A_full)\n",
    "    array2 = np.array(JL_2 @ A)\n",
    "\n",
    "    norm_error = np.linalg.norm(array1 - array2, 'fro') \n",
    "    norm_matrix2 = np.linalg.norm(array2, 'fro') \n",
    "\n",
    "    relative_error = norm_error / norm_matrix2\n",
    "\n",
    "    return relative_error\n",
    "\n",
    "error = calculate_relative_error(A_full, JL_2 @ A)\n",
    "print(f\"نرم خطای نسبی بین دو ماتریس: {error}\")\n"
   ]
  },
  {
   "cell_type": "code",
   "execution_count": 66,
   "id": "64392f0e",
   "metadata": {},
   "outputs": [
    {
     "name": "stdout",
     "output_type": "stream",
     "text": [
      "تعداد عناصر غیر صفر در ماتریس JL_1: 0.8515859960453949\n",
      "تعداد عناصر غیر صفر در ماتریس JL_1.A: 0.8515859960453949\n",
      "تعداد عناصر غیر صفر در ماتریس کامل: 0.3151234981768092\n"
     ]
    }
   ],
   "source": [
    "#  تعداد عناصر غیر صفر\n",
    "num_non_zero_elements_dense = np.count_nonzero(JL_2)/3621993489\n",
    "print(\"تعداد عناصر غیر صفر در ماتریس JL_1:\", num_non_zero_elements_dense)\n",
    "\n",
    "num_non_zero_elements_dense = np.count_nonzero(JL_2 @ A)/32619186\n",
    "print(\"تعداد عناصر غیر صفر در ماتریس JL_1.A:\", num_non_zero_elements_dense)\n",
    "\n",
    "num_non_zero_elements_A_full = np.count_nonzero(A_full)/32619186\n",
    "print(\"تعداد عناصر غیر صفر در ماتریس کامل:\", num_non_zero_elements_A_full)"
   ]
  },
  {
   "cell_type": "code",
   "execution_count": 45,
   "id": "c34a5779",
   "metadata": {},
   "outputs": [
    {
     "name": "stdout",
     "output_type": "stream",
     "text": [
      "میزان حافظه sol_ls_JL_1 : 0.00011444091796875 مگابایت\n"
     ]
    }
   ],
   "source": [
    "memory_usage_sol_ls_JL_2 = sys.getsizeof(sol_ls_JL_2 )\n",
    "megabyte_size_sol_ls_JL_2 = memory_usage_sol_ls_JL_2 / 1024 / 1024\n",
    "\n",
    "print(f\"میزان حافظه sol_ls_JL_1 : {megabyte_size_sol_ls_JL_2} مگابایت\")"
   ]
  },
  {
   "cell_type": "code",
   "execution_count": 48,
   "id": "44a73988",
   "metadata": {},
   "outputs": [
    {
     "name": "stdout",
     "output_type": "stream",
     "text": [
      "میزان حافظه ساخت JL_2 : 27633.61743927002 مگابایت\n"
     ]
    }
   ],
   "source": [
    "memory_usage_JL_2 = sys.getsizeof(JL_2 )\n",
    "megabyte_size_JL_2 = memory_usage_JL_2 / 1024 / 1024\n",
    "\n",
    "print(f\"میزان حافظه ساخت JL_2 : {megabyte_size_JL_2} مگابایت\")"
   ]
  },
  {
   "cell_type": "code",
   "execution_count": 87,
   "id": "431908fb",
   "metadata": {},
   "outputs": [
    {
     "name": "stdout",
     "output_type": "stream",
     "text": [
      "راه حل:\n",
      "[[-0.33333333  0.22222222]\n",
      " [-0.33333333 -0.27777778]\n",
      " [-0.33333333 -0.77777778]]\n"
     ]
    }
   ],
   "source": [
    "import numpy as np\n",
    "\n",
    "D = np.array([[1, 2], [4, 4], [7, 7]])\n",
    "M = np.array([[10, 11, 12], [13, 14, 15], [16, 17, 18]])\n",
    "F = np.array([[0, -1, -2], [-3, -4, -5], [-6, -7, -8]])\n",
    "\n",
    "# ضرب ماتریسی M @ F\n",
    "MF_result = np.dot(M, F)\n",
    "\n",
    "# ضرب ماتریسی M @ D\n",
    "MD_result = np.dot(M, D)\n",
    "\n",
    "# حل معادله با استفاده از np.linalg.lstsq\n",
    "solution, residuals, rank, s = np.linalg.lstsq(MF_result, MD_result, rcond=None)\n",
    "\n",
    "print(\"راه حل:\")\n",
    "print(solution)\n"
   ]
  },
  {
   "cell_type": "code",
   "execution_count": null,
   "id": "0f9ae732",
   "metadata": {},
   "outputs": [],
   "source": []
  }
 ],
 "metadata": {
  "kernelspec": {
   "display_name": "Python 3 (ipykernel)",
   "language": "python",
   "name": "python3"
  },
  "language_info": {
   "codemirror_mode": {
    "name": "ipython",
    "version": 3
   },
   "file_extension": ".py",
   "mimetype": "text/x-python",
   "name": "python",
   "nbconvert_exporter": "python",
   "pygments_lexer": "ipython3",
   "version": "3.10.9"
  }
 },
 "nbformat": 4,
 "nbformat_minor": 5
}
