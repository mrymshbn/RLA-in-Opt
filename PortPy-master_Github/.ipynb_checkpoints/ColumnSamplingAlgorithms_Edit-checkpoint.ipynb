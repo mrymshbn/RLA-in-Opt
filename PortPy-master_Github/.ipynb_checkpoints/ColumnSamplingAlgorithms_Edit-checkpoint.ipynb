{
 "cells": [
  {
   "cell_type": "code",
   "execution_count": 2,
   "id": "4ef9f6bc",
   "metadata": {},
   "outputs": [],
   "source": [
    "import scipy\n",
    "import random\n",
    "import portpy.photon as pp\n",
    "import numpy as np\n",
    "from cvxpy import *\n",
    "from scipy import sparse\n",
    "import sklearn.metrics"
   ]
  },
  {
   "cell_type": "code",
   "execution_count": 3,
   "id": "de286b8e",
   "metadata": {},
   "outputs": [
    {
     "name": "stdout",
     "output_type": "stream",
     "text": [
      "creating rinds.. This step may take some time due to dilation\n",
      "rinds created!!\n",
      "Creating BEV..\n",
      "Loading sparse influence matrix...\n",
      "Done\n",
      "Objective Start\n",
      "Objective done\n",
      "Constraints Start\n",
      "Structure ESOPHAGUS not available!\n",
      "Structure ESOPHAGUS not available!\n",
      "Constraints done\n",
      "===============================================================================\n",
      "                                     CVXPY                                     \n",
      "                                     v1.3.1                                    \n",
      "===============================================================================\n",
      "(CVXPY) Oct 01 11:34:57 PM: Your problem has 1945 variables, 14 constraints, and 0 parameters.\n",
      "(CVXPY) Oct 01 11:34:57 PM: It is compliant with the following grammars: DCP, DQCP\n",
      "(CVXPY) Oct 01 11:34:57 PM: (If you need to solve this problem multiple times, but with different data, consider using parameters.)\n",
      "(CVXPY) Oct 01 11:34:57 PM: CVXPY will first compile your problem; then, it will invoke a numerical solver to obtain a solution.\n",
      "-------------------------------------------------------------------------------\n",
      "                                  Compilation                                  \n",
      "-------------------------------------------------------------------------------\n",
      "(CVXPY) Oct 01 11:34:57 PM: Compiling problem (target solver=MOSEK).\n",
      "(CVXPY) Oct 01 11:34:57 PM: Reduction chain: Dcp2Cone -> CvxAttr2Constr -> ConeMatrixStuffing -> MOSEK\n",
      "(CVXPY) Oct 01 11:34:57 PM: Applying reduction Dcp2Cone\n",
      "(CVXPY) Oct 01 11:34:57 PM: Applying reduction CvxAttr2Constr\n",
      "(CVXPY) Oct 01 11:34:57 PM: Applying reduction ConeMatrixStuffing\n",
      "(CVXPY) Oct 01 11:34:59 PM: Applying reduction MOSEK\n",
      "(CVXPY) Oct 01 11:34:59 PM: Finished problem compilation (took 2.217e+00 seconds).\n",
      "-------------------------------------------------------------------------------\n",
      "                                Numerical solver                               \n",
      "-------------------------------------------------------------------------------\n",
      "(CVXPY) Oct 01 11:34:59 PM: Invoking solver MOSEK  to obtain a solution.\n",
      "\n",
      "\n",
      "(CVXPY) Oct 01 11:35:00 PM: Problem\n",
      "(CVXPY) Oct 01 11:35:00 PM:   Name                   :                 \n",
      "(CVXPY) Oct 01 11:35:00 PM:   Objective sense        : maximize        \n",
      "(CVXPY) Oct 01 11:35:00 PM:   Type                   : CONIC (conic optimization problem)\n",
      "(CVXPY) Oct 01 11:35:00 PM:   Constraints            : 1958            \n",
      "(CVXPY) Oct 01 11:35:00 PM:   Affine conic cons.     : 0               \n",
      "(CVXPY) Oct 01 11:35:00 PM:   Disjunctive cons.      : 0               \n",
      "(CVXPY) Oct 01 11:35:00 PM:   Cones                  : 13              \n",
      "(CVXPY) Oct 01 11:35:00 PM:   Scalar variables       : 215745          \n",
      "(CVXPY) Oct 01 11:35:00 PM:   Matrix variables       : 0               \n",
      "(CVXPY) Oct 01 11:35:00 PM:   Integer variables      : 0               \n",
      "(CVXPY) Oct 01 11:35:00 PM: \n",
      "(CVXPY) Oct 01 11:35:00 PM: Optimizer started.\n",
      "(CVXPY) Oct 01 11:35:00 PM: Presolve started.\n",
      "(CVXPY) Oct 01 11:35:01 PM: Linear dependency checker started.\n",
      "(CVXPY) Oct 01 11:35:01 PM: Linear dependency checker terminated.\n",
      "(CVXPY) Oct 01 11:35:01 PM: Eliminator started.\n",
      "(CVXPY) Oct 01 11:35:01 PM: Freed constraints in eliminator : 0\n",
      "(CVXPY) Oct 01 11:35:01 PM: Eliminator terminated.\n",
      "(CVXPY) Oct 01 11:35:01 PM: Eliminator - tries                  : 1                 time                   : 0.00            \n",
      "(CVXPY) Oct 01 11:35:01 PM: Lin. dep.  - tries                  : 1                 time                   : 0.03            \n",
      "(CVXPY) Oct 01 11:35:01 PM: Lin. dep.  - number                 : 0               \n",
      "(CVXPY) Oct 01 11:35:01 PM: Presolve terminated. Time: 0.41    \n",
      "(CVXPY) Oct 01 11:35:01 PM: Problem\n",
      "(CVXPY) Oct 01 11:35:01 PM:   Name                   :                 \n",
      "(CVXPY) Oct 01 11:35:01 PM:   Objective sense        : maximize        \n",
      "(CVXPY) Oct 01 11:35:01 PM:   Type                   : CONIC (conic optimization problem)\n",
      "(CVXPY) Oct 01 11:35:01 PM:   Constraints            : 1958            \n",
      "(CVXPY) Oct 01 11:35:01 PM:   Affine conic cons.     : 0               \n",
      "(CVXPY) Oct 01 11:35:01 PM:   Disjunctive cons.      : 0               \n",
      "(CVXPY) Oct 01 11:35:01 PM:   Cones                  : 13              \n",
      "(CVXPY) Oct 01 11:35:01 PM:   Scalar variables       : 215745          \n",
      "(CVXPY) Oct 01 11:35:01 PM:   Matrix variables       : 0               \n",
      "(CVXPY) Oct 01 11:35:01 PM:   Integer variables      : 0               \n",
      "(CVXPY) Oct 01 11:35:01 PM: \n",
      "(CVXPY) Oct 01 11:35:01 PM: Optimizer  - threads                : 2               \n",
      "(CVXPY) Oct 01 11:35:01 PM: Optimizer  - solved problem         : the primal      \n",
      "(CVXPY) Oct 01 11:35:01 PM: Optimizer  - Constraints            : 1958\n",
      "(CVXPY) Oct 01 11:35:01 PM: Optimizer  - Cones                  : 13\n",
      "(CVXPY) Oct 01 11:35:01 PM: Optimizer  - Scalar variables       : 78514             conic                  : 49078           \n",
      "(CVXPY) Oct 01 11:35:01 PM: Optimizer  - Semi-definite variables: 0                 scalarized             : 0               \n",
      "(CVXPY) Oct 01 11:35:01 PM: Factor     - setup time             : 0.34              dense det. time        : 0.00            \n",
      "(CVXPY) Oct 01 11:35:01 PM: Factor     - ML order time          : 0.12              GP order time          : 0.00            \n",
      "(CVXPY) Oct 01 11:35:01 PM: Factor     - nonzeros before factor : 2.37e+05          after factor           : 2.38e+05        \n",
      "(CVXPY) Oct 01 11:35:01 PM: Factor     - dense dim.             : 4                 flops                  : 7.77e+07        \n",
      "(CVXPY) Oct 01 11:35:01 PM: ITE PFEAS    DFEAS    GFEAS    PRSTATUS   POBJ              DOBJ              MU       TIME  \n",
      "(CVXPY) Oct 01 11:35:01 PM: 0   1.4e+02  9.2e+02  1.4e+01  0.00e+00   -1.300000000e+01  0.000000000e+00   1.0e+00  1.05  \n",
      "(CVXPY) Oct 01 11:35:01 PM: 1   1.4e+02  9.1e+02  1.4e+01  -9.81e-01  3.679001887e+02   3.808833479e+02   9.9e-01  1.20  \n",
      "(CVXPY) Oct 01 11:35:01 PM: 2   9.4e+01  6.2e+02  1.1e+01  -9.80e-01  1.207821028e+04   1.209058459e+04   6.7e-01  1.28  \n",
      "(CVXPY) Oct 01 11:35:02 PM: 3   7.3e+01  4.7e+02  9.7e+00  -9.37e-01  2.048080558e+04   2.049258037e+04   5.1e-01  1.36  \n",
      "(CVXPY) Oct 01 11:35:02 PM: 4   2.5e+01  1.6e+02  5.1e+00  -8.88e-01  2.508604384e+04   2.509370321e+04   1.8e-01  1.44  \n",
      "(CVXPY) Oct 01 11:35:02 PM: 5   7.3e+00  4.7e+01  1.7e+00  -5.48e-01  1.049393948e+04   1.049529902e+04   5.2e-02  1.52  \n",
      "(CVXPY) Oct 01 11:35:02 PM: 6   3.8e+00  2.5e+01  7.7e-01  1.40e-01   7.557795987e+03   7.558304318e+03   2.7e-02  1.59  \n",
      "(CVXPY) Oct 01 11:35:02 PM: 7   2.1e+00  1.4e+01  3.4e-01  4.67e-01   4.906961600e+03   4.907256480e+03   1.5e-02  1.67  \n",
      "(CVXPY) Oct 01 11:35:02 PM: 8   1.0e+00  6.5e+00  1.2e-01  6.82e-01   2.508521478e+03   2.508657766e+03   7.1e-03  1.73  \n",
      "(CVXPY) Oct 01 11:35:02 PM: 9   5.1e-01  3.3e+00  4.3e-02  8.48e-01   1.451844904e+03   1.451900247e+03   3.6e-03  1.81  \n",
      "(CVXPY) Oct 01 11:35:02 PM: 10  2.3e-01  1.5e+00  1.3e-02  9.26e-01   6.830396397e+02   6.830524220e+02   1.6e-03  1.91  \n",
      "(CVXPY) Oct 01 11:35:02 PM: 11  8.8e-02  5.7e-01  3.3e-03  9.70e-01   2.934723158e+02   2.934711954e+02   6.2e-04  1.98  \n",
      "(CVXPY) Oct 01 11:35:02 PM: 12  4.0e-02  2.6e-01  1.0e-03  9.91e-01   1.712121248e+02   1.712098605e+02   2.9e-04  2.06  \n",
      "(CVXPY) Oct 01 11:35:02 PM: 13  1.5e-02  9.7e-02  2.4e-04  9.97e-01   8.733653079e+01   8.733491237e+01   1.1e-04  2.17  \n",
      "(CVXPY) Oct 01 11:35:02 PM: 14  5.8e-03  3.8e-02  5.8e-05  9.99e-01   6.218155735e+01   6.218074108e+01   4.1e-05  2.23  \n",
      "(CVXPY) Oct 01 11:35:02 PM: 15  1.9e-03  1.2e-02  1.1e-05  9.99e-01   4.963897073e+01   4.963865188e+01   1.3e-05  2.31  \n",
      "(CVXPY) Oct 01 11:35:03 PM: 16  7.2e-04  4.7e-03  2.5e-06  9.98e-01   4.627260745e+01   4.627247526e+01   5.1e-06  2.38  \n",
      "(CVXPY) Oct 01 11:35:03 PM: 17  2.0e-04  1.3e-03  3.8e-07  9.99e-01   4.459526825e+01   4.459522705e+01   1.4e-06  2.44  \n",
      "(CVXPY) Oct 01 11:35:03 PM: 18  5.2e-05  3.4e-04  5.0e-08  9.99e-01   4.415011466e+01   4.415010332e+01   3.6e-07  2.52  \n",
      "(CVXPY) Oct 01 11:35:03 PM: 19  8.3e-06  5.4e-05  3.2e-09  1.00e+00   4.403631689e+01   4.403631524e+01   5.9e-08  2.58  \n",
      "(CVXPY) Oct 01 11:35:03 PM: 20  1.6e-06  1.1e-05  2.8e-10  1.00e+00   4.401750575e+01   4.401750545e+01   1.2e-08  2.66  \n"
     ]
    },
    {
     "name": "stdout",
     "output_type": "stream",
     "text": [
      "(CVXPY) Oct 01 11:35:03 PM: 21  1.8e-07  1.2e-06  1.0e-11  1.00e+00   4.401324330e+01   4.401324328e+01   1.3e-09  2.72  \n",
      "(CVXPY) Oct 01 11:35:03 PM: 22  9.3e-08  3.8e-07  1.9e-12  1.00e+00   4.401280219e+01   4.401280217e+01   4.2e-10  2.89  \n",
      "(CVXPY) Oct 01 11:35:03 PM: 23  4.7e-08  3.5e-07  4.1e-13  1.01e+00   4.401267620e+01   4.401267619e+01   1.5e-10  3.03  \n",
      "(CVXPY) Oct 01 11:35:03 PM: Optimizer terminated. Time: 3.11    \n",
      "(CVXPY) Oct 01 11:35:03 PM: \n",
      "(CVXPY) Oct 01 11:35:03 PM: \n",
      "(CVXPY) Oct 01 11:35:03 PM: Interior-point solution summary\n",
      "(CVXPY) Oct 01 11:35:03 PM:   Problem status  : PRIMAL_AND_DUAL_FEASIBLE\n",
      "(CVXPY) Oct 01 11:35:03 PM:   Solution status : OPTIMAL\n",
      "(CVXPY) Oct 01 11:35:03 PM:   Primal.  obj: 4.4012676200e+01    nrm: 1e+02    Viol.  con: 3e-06    var: 2e-06    cones: 0e+00  \n",
      "(CVXPY) Oct 01 11:35:03 PM:   Dual.    obj: 4.4012676192e+01    nrm: 6e+03    Viol.  con: 0e+00    var: 6e-06    cones: 0e+00  \n",
      "-------------------------------------------------------------------------------\n",
      "                                    Summary                                    \n",
      "-------------------------------------------------------------------------------\n",
      "(CVXPY) Oct 01 11:35:03 PM: Problem status: optimal\n",
      "(CVXPY) Oct 01 11:35:03 PM: Optimal value: 4.401e+01\n",
      "(CVXPY) Oct 01 11:35:03 PM: Compilation took 2.217e+00 seconds\n",
      "(CVXPY) Oct 01 11:35:03 PM: Solver (including time spent in interface) took 4.011e+00 seconds\n"
     ]
    }
   ],
   "source": [
    "data_dir = r'../data'\n",
    "data = pp.DataExplorer(data_dir=data_dir)\n",
    "patient_id = 'Lung_Phantom_Patient_1'\n",
    "data.patient_id = patient_id\n",
    "ct = pp.CT(data)\n",
    "structs = pp.Structures(data)\n",
    "beams = pp.Beams(data)\n",
    "opt_params = data.load_config_opt_params(protocol_name='Lung_2Gy_30Fx')\n",
    "structs.create_opt_structures(opt_params)\n",
    "inf_matrix_sparse = pp.InfluenceMatrix(ct=ct, structs=structs, beams=beams)\n",
    "protocol_name = 'Lung_2Gy_30Fx'\n",
    "clinical_criteria = pp.ClinicalCriteria(data, protocol_name)\n",
    "plan_sparse = pp.Plan(ct, structs, beams, inf_matrix_sparse, clinical_criteria)\n",
    "opt = pp.Optimization(plan_sparse, opt_params=opt_params)\n",
    "opt.create_cvxpy_problem()\n",
    "\n",
    "sol_sparse = opt.solve(solver='MOSEK', verbose=True)\n",
    "\n",
    "dose_sparse_1d = plan_sparse.inf_matrix.A @ (sol_sparse['optimal_intensity'] * plan_sparse.get_num_of_fractions())\n",
    "x_sparse =sol_sparse['optimal_intensity'] * plan_sparse.get_num_of_fractions()\n"
   ]
  },
  {
   "cell_type": "code",
   "execution_count": 4,
   "id": "3cecc2b5",
   "metadata": {},
   "outputs": [],
   "source": [
    "plan_sparse = pp.Plan(ct, structs, beams, inf_matrix_sparse, clinical_criteria)\n",
    "A_sparse = plan_sparse.inf_matrix.A\n"
   ]
  },
  {
   "cell_type": "code",
   "execution_count": 5,
   "id": "a1ee84f8",
   "metadata": {},
   "outputs": [
    {
     "name": "stdout",
     "output_type": "stream",
     "text": [
      "d=60183\n",
      "n=541\n"
     ]
    }
   ],
   "source": [
    "d,n=A_sparse.shape\n",
    "print(f'd={d}\\nn={n}')"
   ]
  },
  {
   "cell_type": "code",
   "execution_count": 7,
   "id": "ab7fae47",
   "metadata": {},
   "outputs": [],
   "source": [
    "def compute_probability(row):\n",
    "    row_sum = np.sum(row)\n",
    "    if row_sum == 0:\n",
    "        return 0\n",
    "    else:\n",
    "        return np.sum(row) / row_sum\n",
    "\n",
    "def insert_and_rescale(B, i, j, pi):\n",
    "    B[:, j] += pi * A_sparse[:, i]\n",
    "\n",
    "def compute_B(A, c):\n",
    "    \n",
    "    if c < 1 or c > n:\n",
    "     \n",
    "        B = np.zeros((d, c))\n",
    "\n",
    "    for i in range(n):\n",
    "        pi = compute_probability(A_sparse[:, i])\n",
    "        for j in range(c):\n",
    "            insert_and_rescale(B, i, j, pi)\n",
    "\n",
    "    return B"
   ]
  },
  {
   "cell_type": "code",
   "execution_count": 14,
   "id": "0884c50a",
   "metadata": {
    "scrolled": true
   },
   "outputs": [
    {
     "ename": "UnboundLocalError",
     "evalue": "local variable 'B' referenced before assignment",
     "output_type": "error",
     "traceback": [
      "\u001b[1;31m---------------------------------------------------------------------------\u001b[0m",
      "\u001b[1;31mUnboundLocalError\u001b[0m                         Traceback (most recent call last)",
      "Input \u001b[1;32mIn [14]\u001b[0m, in \u001b[0;36m<cell line: 5>\u001b[1;34m()\u001b[0m\n\u001b[0;32m      1\u001b[0m \u001b[38;5;66;03m#min_c = 1\u001b[39;00m\n\u001b[0;32m      2\u001b[0m \u001b[38;5;66;03m#max_c = A_sparse.shape[1]\u001b[39;00m\n\u001b[0;32m      3\u001b[0m \u001b[38;5;66;03m#c = random.randint(min_c, max_c)\u001b[39;00m\n\u001b[0;32m      4\u001b[0m c \u001b[38;5;241m=\u001b[39m \u001b[38;5;241m90\u001b[39m\n\u001b[1;32m----> 5\u001b[0m result_B \u001b[38;5;241m=\u001b[39m \u001b[43mcompute_B\u001b[49m\u001b[43m(\u001b[49m\u001b[43mA_sparse\u001b[49m\u001b[43m,\u001b[49m\u001b[43m \u001b[49m\u001b[43mc\u001b[49m\u001b[43m)\u001b[49m\n\u001b[0;32m      6\u001b[0m \u001b[38;5;28mprint\u001b[39m(\u001b[38;5;124mf\u001b[39m\u001b[38;5;124m\"\u001b[39m\u001b[38;5;124mمقدار تصادفی c: \u001b[39m\u001b[38;5;132;01m{\u001b[39;00mc\u001b[38;5;132;01m}\u001b[39;00m\u001b[38;5;124m\"\u001b[39m)\n\u001b[0;32m      7\u001b[0m \u001b[38;5;28mprint\u001b[39m(result_B)\n",
      "Input \u001b[1;32mIn [7]\u001b[0m, in \u001b[0;36mcompute_B\u001b[1;34m(A, c)\u001b[0m\n\u001b[0;32m     18\u001b[0m     pi \u001b[38;5;241m=\u001b[39m compute_probability(A_sparse[:, i])\n\u001b[0;32m     19\u001b[0m     \u001b[38;5;28;01mfor\u001b[39;00m j \u001b[38;5;129;01min\u001b[39;00m \u001b[38;5;28mrange\u001b[39m(c):\n\u001b[1;32m---> 20\u001b[0m         insert_and_rescale(\u001b[43mB\u001b[49m, i, j, pi)\n\u001b[0;32m     22\u001b[0m \u001b[38;5;28;01mreturn\u001b[39;00m B\n",
      "\u001b[1;31mUnboundLocalError\u001b[0m: local variable 'B' referenced before assignment"
     ]
    }
   ],
   "source": [
    "#min_c = 1\n",
    "#max_c = A_sparse.shape[1]\n",
    "#c = random.randint(min_c, max_c)\n",
    "B = \n",
    "c = 90\n",
    "result_B = compute_B(A_sparse, c)\n",
    "print(f\"مقدار تصادفی c: {c}\")\n",
    "print(result_B)"
   ]
  },
  {
   "cell_type": "code",
   "execution_count": 15,
   "id": "992155f6",
   "metadata": {
    "scrolled": true
   },
   "outputs": [],
   "source": [
    "import numpy as np\n",
    "\n",
    "def compute_probability(row):\n",
    "    row_sum = np.sum(row)\n",
    "    if row_sum == 0:\n",
    "        return 0\n",
    "    else:\n",
    "        return np.sum(row) / row_sum\n",
    "\n",
    "def insert_and_rescale(B, i, j, pi):\n",
    "    B[:, j] += pi * A_sparse[:, i]\n",
    "\n",
    "def compute_B(A, c):\n",
    "    \n",
    "    if c < 1 or c > n:\n",
    "        raise ValueError(\"c باید بین 1 و n قرار داشته باشد.\")\n",
    "    \n",
    "    B = np.zeros((d, c))\n",
    "\n",
    "    for i in range(n):\n",
    "        pi = compute_probability(A_sparse[:, i])\n",
    "        for j in range(c):\n",
    "            insert_and_rescale(B, i, j, pi)\n",
    "\n",
    "    return B\n"
   ]
  },
  {
   "cell_type": "markdown",
   "id": "966f1e86",
   "metadata": {},
   "source": [
    "B = B[:, np.newaxis]"
   ]
  },
  {
   "cell_type": "code",
   "execution_count": 20,
   "id": "b21d0991",
   "metadata": {},
   "outputs": [
    {
     "ename": "ValueError",
     "evalue": "operands could not be broadcast together with remapped shapes [original->remapped]: (60183,)  and requested shape (60183,1)",
     "output_type": "error",
     "traceback": [
      "\u001b[1;31m---------------------------------------------------------------------------\u001b[0m",
      "\u001b[1;31mValueError\u001b[0m                                Traceback (most recent call last)",
      "Input \u001b[1;32mIn [20]\u001b[0m, in \u001b[0;36m<cell line: 9>\u001b[1;34m()\u001b[0m\n\u001b[0;32m      6\u001b[0m c \u001b[38;5;241m=\u001b[39m \u001b[38;5;241m10\u001b[39m\n\u001b[0;32m      7\u001b[0m \u001b[38;5;66;03m#d=60183\u001b[39;00m\n\u001b[0;32m      8\u001b[0m \u001b[38;5;66;03m# تعریف ماتریس B\u001b[39;00m\n\u001b[1;32m----> 9\u001b[0m result_B \u001b[38;5;241m=\u001b[39m \u001b[43mcompute_B\u001b[49m\u001b[43m(\u001b[49m\u001b[43mA_sparse\u001b[49m\u001b[43m,\u001b[49m\u001b[43m \u001b[49m\u001b[43mc\u001b[49m\u001b[43m)\u001b[49m\n\u001b[0;32m     10\u001b[0m \u001b[38;5;28mprint\u001b[39m(result_B)\n",
      "Input \u001b[1;32mIn [15]\u001b[0m, in \u001b[0;36mcompute_B\u001b[1;34m(A, c)\u001b[0m\n\u001b[0;32m     21\u001b[0m     pi \u001b[38;5;241m=\u001b[39m compute_probability(A_sparse[:, i])\n\u001b[0;32m     22\u001b[0m     \u001b[38;5;28;01mfor\u001b[39;00m j \u001b[38;5;129;01min\u001b[39;00m \u001b[38;5;28mrange\u001b[39m(c):\n\u001b[1;32m---> 23\u001b[0m         \u001b[43minsert_and_rescale\u001b[49m\u001b[43m(\u001b[49m\u001b[43mB\u001b[49m\u001b[43m,\u001b[49m\u001b[43m \u001b[49m\u001b[43mi\u001b[49m\u001b[43m,\u001b[49m\u001b[43m \u001b[49m\u001b[43mj\u001b[49m\u001b[43m,\u001b[49m\u001b[43m \u001b[49m\u001b[43mpi\u001b[49m\u001b[43m)\u001b[49m\n\u001b[0;32m     25\u001b[0m \u001b[38;5;28;01mreturn\u001b[39;00m B\n",
      "Input \u001b[1;32mIn [15]\u001b[0m, in \u001b[0;36minsert_and_rescale\u001b[1;34m(B, i, j, pi)\u001b[0m\n\u001b[0;32m     10\u001b[0m \u001b[38;5;28;01mdef\u001b[39;00m \u001b[38;5;21minsert_and_rescale\u001b[39m(B, i, j, pi):\n\u001b[1;32m---> 11\u001b[0m     B[:, j] \u001b[38;5;241m+\u001b[39m\u001b[38;5;241m=\u001b[39m pi \u001b[38;5;241m*\u001b[39m A_sparse[:, i]\n",
      "File \u001b[1;32mD:\\ANACONDA\\lib\\site-packages\\scipy\\sparse\\_base.py:480\u001b[0m, in \u001b[0;36mspmatrix.__radd__\u001b[1;34m(self, other)\u001b[0m\n\u001b[0;32m    479\u001b[0m \u001b[38;5;28;01mdef\u001b[39;00m \u001b[38;5;21m__radd__\u001b[39m(\u001b[38;5;28mself\u001b[39m,other):  \u001b[38;5;66;03m# other + self\u001b[39;00m\n\u001b[1;32m--> 480\u001b[0m     \u001b[38;5;28;01mreturn\u001b[39;00m \u001b[38;5;28;43mself\u001b[39;49m\u001b[38;5;241;43m.\u001b[39;49m\u001b[38;5;21;43m__add__\u001b[39;49m\u001b[43m(\u001b[49m\u001b[43mother\u001b[49m\u001b[43m)\u001b[49m\n",
      "File \u001b[1;32mD:\\ANACONDA\\lib\\site-packages\\cvxpy\\interface\\scipy_wrapper.py:32\u001b[0m, in \u001b[0;36mwrap_bin_op.<locals>.new_method\u001b[1;34m(self, other)\u001b[0m\n\u001b[0;32m     30\u001b[0m     \u001b[38;5;28;01mreturn\u001b[39;00m \u001b[38;5;28mNotImplemented\u001b[39m\n\u001b[0;32m     31\u001b[0m \u001b[38;5;28;01melse\u001b[39;00m:\n\u001b[1;32m---> 32\u001b[0m     \u001b[38;5;28;01mreturn\u001b[39;00m \u001b[43mmethod\u001b[49m\u001b[43m(\u001b[49m\u001b[38;5;28;43mself\u001b[39;49m\u001b[43m,\u001b[49m\u001b[43m \u001b[49m\u001b[43mother\u001b[49m\u001b[43m)\u001b[49m\n",
      "File \u001b[1;32mD:\\ANACONDA\\lib\\site-packages\\scipy\\sparse\\_base.py:474\u001b[0m, in \u001b[0;36mspmatrix.__add__\u001b[1;34m(self, other)\u001b[0m\n\u001b[0;32m    472\u001b[0m     \u001b[38;5;28;01mreturn\u001b[39;00m \u001b[38;5;28mself\u001b[39m\u001b[38;5;241m.\u001b[39m_add_sparse(other)\n\u001b[0;32m    473\u001b[0m \u001b[38;5;28;01melif\u001b[39;00m isdense(other):\n\u001b[1;32m--> 474\u001b[0m     other \u001b[38;5;241m=\u001b[39m \u001b[43mnp\u001b[49m\u001b[38;5;241;43m.\u001b[39;49m\u001b[43mbroadcast_to\u001b[49m\u001b[43m(\u001b[49m\u001b[43mother\u001b[49m\u001b[43m,\u001b[49m\u001b[43m \u001b[49m\u001b[38;5;28;43mself\u001b[39;49m\u001b[38;5;241;43m.\u001b[39;49m\u001b[43mshape\u001b[49m\u001b[43m)\u001b[49m\n\u001b[0;32m    475\u001b[0m     \u001b[38;5;28;01mreturn\u001b[39;00m \u001b[38;5;28mself\u001b[39m\u001b[38;5;241m.\u001b[39m_add_dense(other)\n\u001b[0;32m    476\u001b[0m \u001b[38;5;28;01melse\u001b[39;00m:\n",
      "File \u001b[1;32m<__array_function__ internals>:180\u001b[0m, in \u001b[0;36mbroadcast_to\u001b[1;34m(*args, **kwargs)\u001b[0m\n",
      "File \u001b[1;32mD:\\ANACONDA\\lib\\site-packages\\numpy\\lib\\stride_tricks.py:413\u001b[0m, in \u001b[0;36mbroadcast_to\u001b[1;34m(array, shape, subok)\u001b[0m\n\u001b[0;32m    367\u001b[0m \u001b[38;5;129m@array_function_dispatch\u001b[39m(_broadcast_to_dispatcher, module\u001b[38;5;241m=\u001b[39m\u001b[38;5;124m'\u001b[39m\u001b[38;5;124mnumpy\u001b[39m\u001b[38;5;124m'\u001b[39m)\n\u001b[0;32m    368\u001b[0m \u001b[38;5;28;01mdef\u001b[39;00m \u001b[38;5;21mbroadcast_to\u001b[39m(array, shape, subok\u001b[38;5;241m=\u001b[39m\u001b[38;5;28;01mFalse\u001b[39;00m):\n\u001b[0;32m    369\u001b[0m     \u001b[38;5;124;03m\"\"\"Broadcast an array to a new shape.\u001b[39;00m\n\u001b[0;32m    370\u001b[0m \n\u001b[0;32m    371\u001b[0m \u001b[38;5;124;03m    Parameters\u001b[39;00m\n\u001b[1;32m   (...)\u001b[0m\n\u001b[0;32m    411\u001b[0m \u001b[38;5;124;03m           [1, 2, 3]])\u001b[39;00m\n\u001b[0;32m    412\u001b[0m \u001b[38;5;124;03m    \"\"\"\u001b[39;00m\n\u001b[1;32m--> 413\u001b[0m     \u001b[38;5;28;01mreturn\u001b[39;00m \u001b[43m_broadcast_to\u001b[49m\u001b[43m(\u001b[49m\u001b[43marray\u001b[49m\u001b[43m,\u001b[49m\u001b[43m \u001b[49m\u001b[43mshape\u001b[49m\u001b[43m,\u001b[49m\u001b[43m \u001b[49m\u001b[43msubok\u001b[49m\u001b[38;5;241;43m=\u001b[39;49m\u001b[43msubok\u001b[49m\u001b[43m,\u001b[49m\u001b[43m \u001b[49m\u001b[43mreadonly\u001b[49m\u001b[38;5;241;43m=\u001b[39;49m\u001b[38;5;28;43;01mTrue\u001b[39;49;00m\u001b[43m)\u001b[49m\n",
      "File \u001b[1;32mD:\\ANACONDA\\lib\\site-packages\\numpy\\lib\\stride_tricks.py:349\u001b[0m, in \u001b[0;36m_broadcast_to\u001b[1;34m(array, shape, subok, readonly)\u001b[0m\n\u001b[0;32m    346\u001b[0m     \u001b[38;5;28;01mraise\u001b[39;00m \u001b[38;5;167;01mValueError\u001b[39;00m(\u001b[38;5;124m'\u001b[39m\u001b[38;5;124mall elements of broadcast shape must be non-\u001b[39m\u001b[38;5;124m'\u001b[39m\n\u001b[0;32m    347\u001b[0m                      \u001b[38;5;124m'\u001b[39m\u001b[38;5;124mnegative\u001b[39m\u001b[38;5;124m'\u001b[39m)\n\u001b[0;32m    348\u001b[0m extras \u001b[38;5;241m=\u001b[39m []\n\u001b[1;32m--> 349\u001b[0m it \u001b[38;5;241m=\u001b[39m \u001b[43mnp\u001b[49m\u001b[38;5;241;43m.\u001b[39;49m\u001b[43mnditer\u001b[49m\u001b[43m(\u001b[49m\n\u001b[0;32m    350\u001b[0m \u001b[43m    \u001b[49m\u001b[43m(\u001b[49m\u001b[43marray\u001b[49m\u001b[43m,\u001b[49m\u001b[43m)\u001b[49m\u001b[43m,\u001b[49m\u001b[43m \u001b[49m\u001b[43mflags\u001b[49m\u001b[38;5;241;43m=\u001b[39;49m\u001b[43m[\u001b[49m\u001b[38;5;124;43m'\u001b[39;49m\u001b[38;5;124;43mmulti_index\u001b[39;49m\u001b[38;5;124;43m'\u001b[39;49m\u001b[43m,\u001b[49m\u001b[43m \u001b[49m\u001b[38;5;124;43m'\u001b[39;49m\u001b[38;5;124;43mrefs_ok\u001b[39;49m\u001b[38;5;124;43m'\u001b[39;49m\u001b[43m,\u001b[49m\u001b[43m \u001b[49m\u001b[38;5;124;43m'\u001b[39;49m\u001b[38;5;124;43mzerosize_ok\u001b[39;49m\u001b[38;5;124;43m'\u001b[39;49m\u001b[43m]\u001b[49m\u001b[43m \u001b[49m\u001b[38;5;241;43m+\u001b[39;49m\u001b[43m \u001b[49m\u001b[43mextras\u001b[49m\u001b[43m,\u001b[49m\n\u001b[0;32m    351\u001b[0m \u001b[43m    \u001b[49m\u001b[43mop_flags\u001b[49m\u001b[38;5;241;43m=\u001b[39;49m\u001b[43m[\u001b[49m\u001b[38;5;124;43m'\u001b[39;49m\u001b[38;5;124;43mreadonly\u001b[39;49m\u001b[38;5;124;43m'\u001b[39;49m\u001b[43m]\u001b[49m\u001b[43m,\u001b[49m\u001b[43m \u001b[49m\u001b[43mitershape\u001b[49m\u001b[38;5;241;43m=\u001b[39;49m\u001b[43mshape\u001b[49m\u001b[43m,\u001b[49m\u001b[43m \u001b[49m\u001b[43morder\u001b[49m\u001b[38;5;241;43m=\u001b[39;49m\u001b[38;5;124;43m'\u001b[39;49m\u001b[38;5;124;43mC\u001b[39;49m\u001b[38;5;124;43m'\u001b[39;49m\u001b[43m)\u001b[49m\n\u001b[0;32m    352\u001b[0m \u001b[38;5;28;01mwith\u001b[39;00m it:\n\u001b[0;32m    353\u001b[0m     \u001b[38;5;66;03m# never really has writebackifcopy semantics\u001b[39;00m\n\u001b[0;32m    354\u001b[0m     broadcast \u001b[38;5;241m=\u001b[39m it\u001b[38;5;241m.\u001b[39mitviews[\u001b[38;5;241m0\u001b[39m]\n",
      "\u001b[1;31mValueError\u001b[0m: operands could not be broadcast together with remapped shapes [original->remapped]: (60183,)  and requested shape (60183,1)"
     ]
    }
   ],
   "source": [
    "# تعریف ماتریس A\n",
    "A = np.array([[1, 2, 3],\n",
    "              [4, 5, 6]])\n",
    "\n",
    "# تعریف تعداد ستون‌های ماتریس B\n",
    "c = 10\n",
    "#d=60183\n",
    "# تعریف ماتریس B\n",
    "result_B = compute_B(A_sparse, c)\n",
    "print(result_B)"
   ]
  },
  {
   "cell_type": "code",
   "execution_count": 16,
   "id": "88d1b57e",
   "metadata": {},
   "outputs": [],
   "source": [
    "import numpy as np\n",
    "from scipy.sparse import csr_matrix\n",
    "\n",
    "def compute_probability(row):\n",
    "    row_sum = np.sum(row)\n",
    "    if row_sum == 0:\n",
    "        return 0\n",
    "    else:\n",
    "        return np.sum(row) / row_sum\n",
    "\n",
    "def insert_and_rescale(B, i, j, pi):\n",
    "    B[:, j] += pi * A_sparse[:, i]\n",
    "\n",
    "def compute_sparse_B(A, c):\n",
    "    n = A_sparse.shape[1]\n",
    "    if c < 1 or c > n:\n",
    "        return csr_matrix((A_sparse.shape[0], c))\n",
    "\n",
    "    B = csr_matrix((A_sparse.shape[0], c))  # Create sparse matrix B\n",
    "\n",
    "    for i in range(n):\n",
    "        pi = compute_probability(A_sparse[:, i])\n",
    "        for j in range(c):\n",
    "            insert_and_rescale(B, i, j, pi)\n",
    "\n",
    "    return B\n",
    "\n"
   ]
  },
  {
   "cell_type": "code",
   "execution_count": 15,
   "id": "7e6cda67",
   "metadata": {
    "collapsed": true
   },
   "outputs": [
    {
     "ename": "KeyboardInterrupt",
     "evalue": "",
     "output_type": "error",
     "traceback": [
      "\u001b[1;31m---------------------------------------------------------------------------\u001b[0m",
      "\u001b[1;31mKeyboardInterrupt\u001b[0m                         Traceback (most recent call last)",
      "Input \u001b[1;32mIn [15]\u001b[0m, in \u001b[0;36m<cell line: 1>\u001b[1;34m()\u001b[0m\n\u001b[1;32m----> 1\u001b[0m result_B \u001b[38;5;241m=\u001b[39m \u001b[43mcompute_sparse_B\u001b[49m\u001b[43m(\u001b[49m\u001b[43mA_sparse\u001b[49m\u001b[43m,\u001b[49m\u001b[43m \u001b[49m\u001b[43mc\u001b[49m\u001b[43m)\u001b[49m\n",
      "Input \u001b[1;32mIn [11]\u001b[0m, in \u001b[0;36mcompute_sparse_B\u001b[1;34m(A, c)\u001b[0m\n\u001b[0;32m     22\u001b[0m     pi \u001b[38;5;241m=\u001b[39m compute_probability(A_sparse[:, i])\n\u001b[0;32m     23\u001b[0m     \u001b[38;5;28;01mfor\u001b[39;00m j \u001b[38;5;129;01min\u001b[39;00m \u001b[38;5;28mrange\u001b[39m(c):\n\u001b[1;32m---> 24\u001b[0m         \u001b[43minsert_and_rescale\u001b[49m\u001b[43m(\u001b[49m\u001b[43mB\u001b[49m\u001b[43m,\u001b[49m\u001b[43m \u001b[49m\u001b[43mi\u001b[49m\u001b[43m,\u001b[49m\u001b[43m \u001b[49m\u001b[43mj\u001b[49m\u001b[43m,\u001b[49m\u001b[43m \u001b[49m\u001b[43mpi\u001b[49m\u001b[43m)\u001b[49m\n\u001b[0;32m     26\u001b[0m \u001b[38;5;28;01mreturn\u001b[39;00m B\n",
      "Input \u001b[1;32mIn [11]\u001b[0m, in \u001b[0;36minsert_and_rescale\u001b[1;34m(B, i, j, pi)\u001b[0m\n\u001b[0;32m     11\u001b[0m \u001b[38;5;28;01mdef\u001b[39;00m \u001b[38;5;21minsert_and_rescale\u001b[39m(B, i, j, pi):\n\u001b[1;32m---> 12\u001b[0m     B[:, j] \u001b[38;5;241m+\u001b[39m\u001b[38;5;241m=\u001b[39m pi \u001b[38;5;241m*\u001b[39m A_sparse[:, i]\n",
      "File \u001b[1;32mD:\\ANACONDA\\lib\\site-packages\\scipy\\sparse\\_index.py:137\u001b[0m, in \u001b[0;36mIndexMixin.__setitem__\u001b[1;34m(self, key, x)\u001b[0m\n\u001b[0;32m    135\u001b[0m     x \u001b[38;5;241m=\u001b[39m x\u001b[38;5;241m.\u001b[39mtocoo(copy\u001b[38;5;241m=\u001b[39m\u001b[38;5;28;01mTrue\u001b[39;00m)\n\u001b[0;32m    136\u001b[0m     x\u001b[38;5;241m.\u001b[39msum_duplicates()\n\u001b[1;32m--> 137\u001b[0m     \u001b[38;5;28;43mself\u001b[39;49m\u001b[38;5;241;43m.\u001b[39;49m\u001b[43m_set_arrayXarray_sparse\u001b[49m\u001b[43m(\u001b[49m\u001b[43mi\u001b[49m\u001b[43m,\u001b[49m\u001b[43m \u001b[49m\u001b[43mj\u001b[49m\u001b[43m,\u001b[49m\u001b[43m \u001b[49m\u001b[43mx\u001b[49m\u001b[43m)\u001b[49m\n\u001b[0;32m    138\u001b[0m \u001b[38;5;28;01melse\u001b[39;00m:\n\u001b[0;32m    139\u001b[0m     \u001b[38;5;66;03m# Make x and i into the same shape\u001b[39;00m\n\u001b[0;32m    140\u001b[0m     x \u001b[38;5;241m=\u001b[39m np\u001b[38;5;241m.\u001b[39masarray(x, dtype\u001b[38;5;241m=\u001b[39m\u001b[38;5;28mself\u001b[39m\u001b[38;5;241m.\u001b[39mdtype)\n",
      "File \u001b[1;32mD:\\ANACONDA\\lib\\site-packages\\scipy\\sparse\\_compressed.py:848\u001b[0m, in \u001b[0;36m_cs_matrix._set_arrayXarray_sparse\u001b[1;34m(self, row, col, x)\u001b[0m\n\u001b[0;32m    846\u001b[0m \u001b[38;5;66;03m# only assign entries in the new sparsity structure\u001b[39;00m\n\u001b[0;32m    847\u001b[0m i, j \u001b[38;5;241m=\u001b[39m \u001b[38;5;28mself\u001b[39m\u001b[38;5;241m.\u001b[39m_swap((row[r, c], col[r, c]))\n\u001b[1;32m--> 848\u001b[0m \u001b[38;5;28;43mself\u001b[39;49m\u001b[38;5;241;43m.\u001b[39;49m\u001b[43m_set_many\u001b[49m\u001b[43m(\u001b[49m\u001b[43mi\u001b[49m\u001b[43m,\u001b[49m\u001b[43m \u001b[49m\u001b[43mj\u001b[49m\u001b[43m,\u001b[49m\u001b[43m \u001b[49m\u001b[43mx\u001b[49m\u001b[43m)\u001b[49m\n",
      "File \u001b[1;32mD:\\ANACONDA\\lib\\site-packages\\scipy\\sparse\\_compressed.py:936\u001b[0m, in \u001b[0;36m_cs_matrix._set_many\u001b[1;34m(self, i, j, x)\u001b[0m\n\u001b[0;32m    934\u001b[0m j \u001b[38;5;241m=\u001b[39m j[mask]\n\u001b[0;32m    935\u001b[0m j[j \u001b[38;5;241m<\u001b[39m \u001b[38;5;241m0\u001b[39m] \u001b[38;5;241m+\u001b[39m\u001b[38;5;241m=\u001b[39m N\n\u001b[1;32m--> 936\u001b[0m \u001b[38;5;28;43mself\u001b[39;49m\u001b[38;5;241;43m.\u001b[39;49m\u001b[43m_insert_many\u001b[49m\u001b[43m(\u001b[49m\u001b[43mi\u001b[49m\u001b[43m,\u001b[49m\u001b[43m \u001b[49m\u001b[43mj\u001b[49m\u001b[43m,\u001b[49m\u001b[43m \u001b[49m\u001b[43mx\u001b[49m\u001b[43m[\u001b[49m\u001b[43mmask\u001b[49m\u001b[43m]\u001b[49m\u001b[43m)\u001b[49m\n",
      "File \u001b[1;32mD:\\ANACONDA\\lib\\site-packages\\scipy\\sparse\\_compressed.py:1026\u001b[0m, in \u001b[0;36m_cs_matrix._insert_many\u001b[1;34m(self, i, j, x)\u001b[0m\n\u001b[0;32m   1023\u001b[0m \u001b[38;5;28;01mif\u001b[39;00m do_sort:\n\u001b[0;32m   1024\u001b[0m     \u001b[38;5;66;03m# TODO: only sort where necessary\u001b[39;00m\n\u001b[0;32m   1025\u001b[0m     \u001b[38;5;28mself\u001b[39m\u001b[38;5;241m.\u001b[39mhas_sorted_indices \u001b[38;5;241m=\u001b[39m \u001b[38;5;28;01mFalse\u001b[39;00m\n\u001b[1;32m-> 1026\u001b[0m     \u001b[38;5;28;43mself\u001b[39;49m\u001b[38;5;241;43m.\u001b[39;49m\u001b[43msort_indices\u001b[49m\u001b[43m(\u001b[49m\u001b[43m)\u001b[49m\n\u001b[0;32m   1028\u001b[0m \u001b[38;5;28mself\u001b[39m\u001b[38;5;241m.\u001b[39mcheck_format(full_check\u001b[38;5;241m=\u001b[39m\u001b[38;5;28;01mFalse\u001b[39;00m)\n",
      "File \u001b[1;32mD:\\ANACONDA\\lib\\site-packages\\scipy\\sparse\\_compressed.py:1164\u001b[0m, in \u001b[0;36m_cs_matrix.sort_indices\u001b[1;34m(self)\u001b[0m\n\u001b[0;32m   1160\u001b[0m \u001b[38;5;124;03m\"\"\"Sort the indices of this matrix *in place*\u001b[39;00m\n\u001b[0;32m   1161\u001b[0m \u001b[38;5;124;03m\"\"\"\u001b[39;00m\n\u001b[0;32m   1163\u001b[0m \u001b[38;5;28;01mif\u001b[39;00m \u001b[38;5;129;01mnot\u001b[39;00m \u001b[38;5;28mself\u001b[39m\u001b[38;5;241m.\u001b[39mhas_sorted_indices:\n\u001b[1;32m-> 1164\u001b[0m     \u001b[43m_sparsetools\u001b[49m\u001b[38;5;241;43m.\u001b[39;49m\u001b[43mcsr_sort_indices\u001b[49m\u001b[43m(\u001b[49m\u001b[38;5;28;43mlen\u001b[39;49m\u001b[43m(\u001b[49m\u001b[38;5;28;43mself\u001b[39;49m\u001b[38;5;241;43m.\u001b[39;49m\u001b[43mindptr\u001b[49m\u001b[43m)\u001b[49m\u001b[43m \u001b[49m\u001b[38;5;241;43m-\u001b[39;49m\u001b[43m \u001b[49m\u001b[38;5;241;43m1\u001b[39;49m\u001b[43m,\u001b[49m\u001b[43m \u001b[49m\u001b[38;5;28;43mself\u001b[39;49m\u001b[38;5;241;43m.\u001b[39;49m\u001b[43mindptr\u001b[49m\u001b[43m,\u001b[49m\n\u001b[0;32m   1165\u001b[0m \u001b[43m                                  \u001b[49m\u001b[38;5;28;43mself\u001b[39;49m\u001b[38;5;241;43m.\u001b[39;49m\u001b[43mindices\u001b[49m\u001b[43m,\u001b[49m\u001b[43m \u001b[49m\u001b[38;5;28;43mself\u001b[39;49m\u001b[38;5;241;43m.\u001b[39;49m\u001b[43mdata\u001b[49m\u001b[43m)\u001b[49m\n\u001b[0;32m   1166\u001b[0m     \u001b[38;5;28mself\u001b[39m\u001b[38;5;241m.\u001b[39mhas_sorted_indices \u001b[38;5;241m=\u001b[39m \u001b[38;5;28;01mTrue\u001b[39;00m\n",
      "\u001b[1;31mKeyboardInterrupt\u001b[0m: "
     ]
    }
   ],
   "source": [
    "result_B = compute_sparse_B(A_sparse, c) "
   ]
  },
  {
   "cell_type": "code",
   "execution_count": 17,
   "id": "ea66a2aa",
   "metadata": {},
   "outputs": [],
   "source": [
    "#sol_sparse = opt.solve(solver='MOSEK', verbose=True)\n",
    "dose_sparse_1d = plan_sparse.inf_matrix.A @ (sol_sparse['optimal_intensity'] * plan_sparse.get_num_of_fractions())"
   ]
  },
  {
   "cell_type": "code",
   "execution_count": 19,
   "id": "8bfb13ba",
   "metadata": {},
   "outputs": [
    {
     "ename": "NameError",
     "evalue": "name 'result_B' is not defined",
     "output_type": "error",
     "traceback": [
      "\u001b[1;31m---------------------------------------------------------------------------\u001b[0m",
      "\u001b[1;31mNameError\u001b[0m                                 Traceback (most recent call last)",
      "Input \u001b[1;32mIn [19]\u001b[0m, in \u001b[0;36m<cell line: 1>\u001b[1;34m()\u001b[0m\n\u001b[1;32m----> 1\u001b[0m sol_ls_B_sparse \u001b[38;5;241m=\u001b[39m scipy\u001b[38;5;241m.\u001b[39msparse\u001b[38;5;241m.\u001b[39mlinalg\u001b[38;5;241m.\u001b[39mlsqr(\u001b[43mresult_B\u001b[49m, dose_sparse_1d)\n",
      "\u001b[1;31mNameError\u001b[0m: name 'result_B' is not defined"
     ]
    }
   ],
   "source": [
    "sol_ls_B_sparse = scipy.sparse.linalg.lsqr(B, dose_sparse_1d)"
   ]
  },
  {
   "cell_type": "code",
   "execution_count": 13,
   "id": "816b626f",
   "metadata": {
    "collapsed": true
   },
   "outputs": [
    {
     "ename": "KeyboardInterrupt",
     "evalue": "",
     "output_type": "error",
     "traceback": [
      "\u001b[1;31m---------------------------------------------------------------------------\u001b[0m",
      "\u001b[1;31mKeyboardInterrupt\u001b[0m                         Traceback (most recent call last)",
      "Input \u001b[1;32mIn [13]\u001b[0m, in \u001b[0;36m<cell line: 14>\u001b[1;34m()\u001b[0m\n\u001b[0;32m      8\u001b[0m max_c \u001b[38;5;241m=\u001b[39m A_sparse\u001b[38;5;241m.\u001b[39mshape[\u001b[38;5;241m1\u001b[39m]  \u001b[38;5;66;03m# تعداد ستون‌های ماتریس A_sparse\u001b[39;00m\n\u001b[0;32m     10\u001b[0m \u001b[38;5;66;03m# تولید مقدار تصادفی برای c\u001b[39;00m\n\u001b[0;32m     11\u001b[0m \u001b[38;5;66;03m#c = random.randint(min_c, max_c)\u001b[39;00m\n\u001b[0;32m     12\u001b[0m \n\u001b[0;32m     13\u001b[0m \u001b[38;5;66;03m# محاسبه ماتریس B با مقدار c تصادفی\u001b[39;00m\n\u001b[1;32m---> 14\u001b[0m result_B \u001b[38;5;241m=\u001b[39m \u001b[43mcompute_sparse_B\u001b[49m\u001b[43m(\u001b[49m\u001b[43mA_sparse\u001b[49m\u001b[43m,\u001b[49m\u001b[43m \u001b[49m\u001b[43mc\u001b[49m\u001b[43m)\u001b[49m\n\u001b[0;32m     15\u001b[0m \u001b[38;5;28mprint\u001b[39m(\u001b[38;5;124mf\u001b[39m\u001b[38;5;124m\"\u001b[39m\u001b[38;5;124mمقدار تصادفی برای c: \u001b[39m\u001b[38;5;132;01m{\u001b[39;00mc\u001b[38;5;132;01m}\u001b[39;00m\u001b[38;5;124m\"\u001b[39m)\n\u001b[0;32m     18\u001b[0m c \u001b[38;5;241m=\u001b[39m \u001b[38;5;241m10\u001b[39m\n",
      "Input \u001b[1;32mIn [11]\u001b[0m, in \u001b[0;36mcompute_sparse_B\u001b[1;34m(A, c)\u001b[0m\n\u001b[0;32m     22\u001b[0m     pi \u001b[38;5;241m=\u001b[39m compute_probability(A_sparse[:, i])\n\u001b[0;32m     23\u001b[0m     \u001b[38;5;28;01mfor\u001b[39;00m j \u001b[38;5;129;01min\u001b[39;00m \u001b[38;5;28mrange\u001b[39m(c):\n\u001b[1;32m---> 24\u001b[0m         \u001b[43minsert_and_rescale\u001b[49m\u001b[43m(\u001b[49m\u001b[43mB\u001b[49m\u001b[43m,\u001b[49m\u001b[43m \u001b[49m\u001b[43mi\u001b[49m\u001b[43m,\u001b[49m\u001b[43m \u001b[49m\u001b[43mj\u001b[49m\u001b[43m,\u001b[49m\u001b[43m \u001b[49m\u001b[43mpi\u001b[49m\u001b[43m)\u001b[49m\n\u001b[0;32m     26\u001b[0m \u001b[38;5;28;01mreturn\u001b[39;00m B\n",
      "Input \u001b[1;32mIn [11]\u001b[0m, in \u001b[0;36minsert_and_rescale\u001b[1;34m(B, i, j, pi)\u001b[0m\n\u001b[0;32m     11\u001b[0m \u001b[38;5;28;01mdef\u001b[39;00m \u001b[38;5;21minsert_and_rescale\u001b[39m(B, i, j, pi):\n\u001b[1;32m---> 12\u001b[0m     B[:, j] \u001b[38;5;241m+\u001b[39m\u001b[38;5;241m=\u001b[39m pi \u001b[38;5;241m*\u001b[39m A_sparse[:, i]\n",
      "File \u001b[1;32mD:\\ANACONDA\\lib\\site-packages\\scipy\\sparse\\_index.py:137\u001b[0m, in \u001b[0;36mIndexMixin.__setitem__\u001b[1;34m(self, key, x)\u001b[0m\n\u001b[0;32m    135\u001b[0m     x \u001b[38;5;241m=\u001b[39m x\u001b[38;5;241m.\u001b[39mtocoo(copy\u001b[38;5;241m=\u001b[39m\u001b[38;5;28;01mTrue\u001b[39;00m)\n\u001b[0;32m    136\u001b[0m     x\u001b[38;5;241m.\u001b[39msum_duplicates()\n\u001b[1;32m--> 137\u001b[0m     \u001b[38;5;28;43mself\u001b[39;49m\u001b[38;5;241;43m.\u001b[39;49m\u001b[43m_set_arrayXarray_sparse\u001b[49m\u001b[43m(\u001b[49m\u001b[43mi\u001b[49m\u001b[43m,\u001b[49m\u001b[43m \u001b[49m\u001b[43mj\u001b[49m\u001b[43m,\u001b[49m\u001b[43m \u001b[49m\u001b[43mx\u001b[49m\u001b[43m)\u001b[49m\n\u001b[0;32m    138\u001b[0m \u001b[38;5;28;01melse\u001b[39;00m:\n\u001b[0;32m    139\u001b[0m     \u001b[38;5;66;03m# Make x and i into the same shape\u001b[39;00m\n\u001b[0;32m    140\u001b[0m     x \u001b[38;5;241m=\u001b[39m np\u001b[38;5;241m.\u001b[39masarray(x, dtype\u001b[38;5;241m=\u001b[39m\u001b[38;5;28mself\u001b[39m\u001b[38;5;241m.\u001b[39mdtype)\n",
      "File \u001b[1;32mD:\\ANACONDA\\lib\\site-packages\\scipy\\sparse\\_compressed.py:848\u001b[0m, in \u001b[0;36m_cs_matrix._set_arrayXarray_sparse\u001b[1;34m(self, row, col, x)\u001b[0m\n\u001b[0;32m    846\u001b[0m \u001b[38;5;66;03m# only assign entries in the new sparsity structure\u001b[39;00m\n\u001b[0;32m    847\u001b[0m i, j \u001b[38;5;241m=\u001b[39m \u001b[38;5;28mself\u001b[39m\u001b[38;5;241m.\u001b[39m_swap((row[r, c], col[r, c]))\n\u001b[1;32m--> 848\u001b[0m \u001b[38;5;28;43mself\u001b[39;49m\u001b[38;5;241;43m.\u001b[39;49m\u001b[43m_set_many\u001b[49m\u001b[43m(\u001b[49m\u001b[43mi\u001b[49m\u001b[43m,\u001b[49m\u001b[43m \u001b[49m\u001b[43mj\u001b[49m\u001b[43m,\u001b[49m\u001b[43m \u001b[49m\u001b[43mx\u001b[49m\u001b[43m)\u001b[49m\n",
      "File \u001b[1;32mD:\\ANACONDA\\lib\\site-packages\\scipy\\sparse\\_compressed.py:936\u001b[0m, in \u001b[0;36m_cs_matrix._set_many\u001b[1;34m(self, i, j, x)\u001b[0m\n\u001b[0;32m    934\u001b[0m j \u001b[38;5;241m=\u001b[39m j[mask]\n\u001b[0;32m    935\u001b[0m j[j \u001b[38;5;241m<\u001b[39m \u001b[38;5;241m0\u001b[39m] \u001b[38;5;241m+\u001b[39m\u001b[38;5;241m=\u001b[39m N\n\u001b[1;32m--> 936\u001b[0m \u001b[38;5;28;43mself\u001b[39;49m\u001b[38;5;241;43m.\u001b[39;49m\u001b[43m_insert_many\u001b[49m\u001b[43m(\u001b[49m\u001b[43mi\u001b[49m\u001b[43m,\u001b[49m\u001b[43m \u001b[49m\u001b[43mj\u001b[49m\u001b[43m,\u001b[49m\u001b[43m \u001b[49m\u001b[43mx\u001b[49m\u001b[43m[\u001b[49m\u001b[43mmask\u001b[49m\u001b[43m]\u001b[49m\u001b[43m)\u001b[49m\n",
      "File \u001b[1;32mD:\\ANACONDA\\lib\\site-packages\\scipy\\sparse\\_compressed.py:1026\u001b[0m, in \u001b[0;36m_cs_matrix._insert_many\u001b[1;34m(self, i, j, x)\u001b[0m\n\u001b[0;32m   1023\u001b[0m \u001b[38;5;28;01mif\u001b[39;00m do_sort:\n\u001b[0;32m   1024\u001b[0m     \u001b[38;5;66;03m# TODO: only sort where necessary\u001b[39;00m\n\u001b[0;32m   1025\u001b[0m     \u001b[38;5;28mself\u001b[39m\u001b[38;5;241m.\u001b[39mhas_sorted_indices \u001b[38;5;241m=\u001b[39m \u001b[38;5;28;01mFalse\u001b[39;00m\n\u001b[1;32m-> 1026\u001b[0m     \u001b[38;5;28;43mself\u001b[39;49m\u001b[38;5;241;43m.\u001b[39;49m\u001b[43msort_indices\u001b[49m\u001b[43m(\u001b[49m\u001b[43m)\u001b[49m\n\u001b[0;32m   1028\u001b[0m \u001b[38;5;28mself\u001b[39m\u001b[38;5;241m.\u001b[39mcheck_format(full_check\u001b[38;5;241m=\u001b[39m\u001b[38;5;28;01mFalse\u001b[39;00m)\n",
      "File \u001b[1;32mD:\\ANACONDA\\lib\\site-packages\\scipy\\sparse\\_compressed.py:1164\u001b[0m, in \u001b[0;36m_cs_matrix.sort_indices\u001b[1;34m(self)\u001b[0m\n\u001b[0;32m   1160\u001b[0m \u001b[38;5;124;03m\"\"\"Sort the indices of this matrix *in place*\u001b[39;00m\n\u001b[0;32m   1161\u001b[0m \u001b[38;5;124;03m\"\"\"\u001b[39;00m\n\u001b[0;32m   1163\u001b[0m \u001b[38;5;28;01mif\u001b[39;00m \u001b[38;5;129;01mnot\u001b[39;00m \u001b[38;5;28mself\u001b[39m\u001b[38;5;241m.\u001b[39mhas_sorted_indices:\n\u001b[1;32m-> 1164\u001b[0m     \u001b[43m_sparsetools\u001b[49m\u001b[38;5;241;43m.\u001b[39;49m\u001b[43mcsr_sort_indices\u001b[49m\u001b[43m(\u001b[49m\u001b[38;5;28;43mlen\u001b[39;49m\u001b[43m(\u001b[49m\u001b[38;5;28;43mself\u001b[39;49m\u001b[38;5;241;43m.\u001b[39;49m\u001b[43mindptr\u001b[49m\u001b[43m)\u001b[49m\u001b[43m \u001b[49m\u001b[38;5;241;43m-\u001b[39;49m\u001b[43m \u001b[49m\u001b[38;5;241;43m1\u001b[39;49m\u001b[43m,\u001b[49m\u001b[43m \u001b[49m\u001b[38;5;28;43mself\u001b[39;49m\u001b[38;5;241;43m.\u001b[39;49m\u001b[43mindptr\u001b[49m\u001b[43m,\u001b[49m\n\u001b[0;32m   1165\u001b[0m \u001b[43m                                  \u001b[49m\u001b[38;5;28;43mself\u001b[39;49m\u001b[38;5;241;43m.\u001b[39;49m\u001b[43mindices\u001b[49m\u001b[43m,\u001b[49m\u001b[43m \u001b[49m\u001b[38;5;28;43mself\u001b[39;49m\u001b[38;5;241;43m.\u001b[39;49m\u001b[43mdata\u001b[49m\u001b[43m)\u001b[49m\n\u001b[0;32m   1166\u001b[0m     \u001b[38;5;28mself\u001b[39m\u001b[38;5;241m.\u001b[39mhas_sorted_indices \u001b[38;5;241m=\u001b[39m \u001b[38;5;28;01mTrue\u001b[39;00m\n",
      "\u001b[1;31mKeyboardInterrupt\u001b[0m: "
     ]
    }
   ],
   "source": [
    "# Assuming A is a numpy array containing your data\n",
    "#A = np.array([[1, 2, 0], [3, 0, 4], [0, 5, 6]])\n",
    "import numpy as np\n",
    "import random\n",
    "\n",
    "# تعداد ستون‌های ماتریس A_sparse را به عنوان محدوده مقادیر تصادفی برای c در نظر بگیرید\n",
    "min_c = 1\n",
    "max_c = A_sparse.shape[1]  # تعداد ستون‌های ماتریس A_sparse\n",
    "\n",
    "# تولید مقدار تصادفی برای c\n",
    "#c = random.randint(min_c, max_c)\n",
    "\n",
    "# محاسبه ماتریس B با مقدار c تصادفی\n",
    "result_B = compute_sparse_B(A_sparse, c)\n",
    "print(f\"مقدار تصادفی برای c: {c}\")\n",
    "\n",
    "\n",
    "c = 10\n",
    "result_B = compute_sparse_B(A_sparse, c)\n",
    "print(result_B)"
   ]
  },
  {
   "cell_type": "code",
   "execution_count": 21,
   "id": "07e435c6",
   "metadata": {},
   "outputs": [],
   "source": [
    "import numpy as np\n",
    "\n",
    "def importance_sampling(A):\n",
    "    d, n = A.shape[0], A.shape[1]\n",
    "    if isinstance(A, np.ndarray):\n",
    "        B = np.zeros((d, n))\n",
    "    else:\n",
    "        B = A.copy()\n",
    "        B.data *= 0.0 \n",
    "    \n",
    "    for i in range(d):\n",
    "        pi = compute_probability(A[i, :])\n",
    "        \n",
    "        for j in range(n):\n",
    "            if np.random.random() < pi:\n",
    "                B[:, j] += (A[:, i] / (pi * c))\n",
    "    \n",
    "    return B\n",
    "\n",
    "def compute_probability(row):\n",
    "    # محاسبه احتمال pi برای ردیف A:,i\n",
    "    # این بخش باید بر اساس الگوریتم خاصی تعریف شود\n",
    "    # مقدار پیش‌فرض در اینجا نشان داده شده است\n",
    "    pi = 1 / len(row)\n",
    "    \n",
    "    return pi"
   ]
  },
  {
   "cell_type": "code",
   "execution_count": 24,
   "id": "10113f2c",
   "metadata": {},
   "outputs": [
    {
     "name": "stdout",
     "output_type": "stream",
     "text": [
      " B = \n",
      "[[0.6 0.  0.6]\n",
      " [1.5 0.  1.5]]\n"
     ]
    }
   ],
   "source": [
    "\n",
    "B = importance_sampling(A)  # محاسبه ماتریس B با فراخوانی تابع importance_sampling\n",
    "\n",
    "print(\" B = \")\n",
    "print(B)"
   ]
  },
  {
   "cell_type": "code",
   "execution_count": 23,
   "id": "e1b19e06",
   "metadata": {},
   "outputs": [
    {
     "data": {
      "text/plain": [
       "(2, 3)"
      ]
     },
     "execution_count": 23,
     "metadata": {},
     "output_type": "execute_result"
    }
   ],
   "source": [
    "B.shape"
   ]
  },
  {
   "cell_type": "code",
   "execution_count": 28,
   "id": "9c2b7844",
   "metadata": {},
   "outputs": [],
   "source": [
    "import random\n",
    "\n",
    "def importance_sampling(A, c):\n",
    "    n = len(A)\n",
    "    B = [[0] * c for _ in range(n)]\n",
    "    total_weight = sum(A)\n",
    "\n",
    "    for i in range(n):\n",
    "        pi = A[i] / total_weight\n",
    "        for j in range(c):\n",
    "            if random.random() < pi:\n",
    "                B[i][j] = A[i] / (pi * c)\n",
    "\n",
    "    return B"
   ]
  },
  {
   "cell_type": "code",
   "execution_count": 29,
   "id": "f7f77175",
   "metadata": {},
   "outputs": [
    {
     "ename": "Exception",
     "evalue": "Cannot evaluate the truth value of a constraint or chain constraints, e.g., 1 >= x >= 0.",
     "output_type": "error",
     "traceback": [
      "\u001b[1;31m---------------------------------------------------------------------------\u001b[0m",
      "\u001b[1;31mException\u001b[0m                                 Traceback (most recent call last)",
      "Input \u001b[1;32mIn [29]\u001b[0m, in \u001b[0;36m<cell line: 1>\u001b[1;34m()\u001b[0m\n\u001b[1;32m----> 1\u001b[0m B \u001b[38;5;241m=\u001b[39m \u001b[43mimportance_sampling\u001b[49m\u001b[43m(\u001b[49m\u001b[43mA\u001b[49m\u001b[43m,\u001b[49m\u001b[43m \u001b[49m\u001b[43mc\u001b[49m\u001b[43m)\u001b[49m\n\u001b[0;32m      2\u001b[0m B\n",
      "Input \u001b[1;32mIn [28]\u001b[0m, in \u001b[0;36mimportance_sampling\u001b[1;34m(A, c)\u001b[0m\n\u001b[0;32m      9\u001b[0m     pi \u001b[38;5;241m=\u001b[39m A[i] \u001b[38;5;241m/\u001b[39m total_weight\n\u001b[0;32m     10\u001b[0m     \u001b[38;5;28;01mfor\u001b[39;00m j \u001b[38;5;129;01min\u001b[39;00m \u001b[38;5;28mrange\u001b[39m(c):\n\u001b[1;32m---> 11\u001b[0m         \u001b[38;5;28;01mif\u001b[39;00m \u001b[43mrandom\u001b[49m\u001b[38;5;241;43m.\u001b[39;49m\u001b[43mrandom\u001b[49m\u001b[43m(\u001b[49m\u001b[43m)\u001b[49m\u001b[43m \u001b[49m\u001b[38;5;241;43m<\u001b[39;49m\u001b[38;5;241;43m=\u001b[39;49m\u001b[43m \u001b[49m\u001b[43mpi\u001b[49m:\n\u001b[0;32m     12\u001b[0m             B[i][j] \u001b[38;5;241m=\u001b[39m A[i] \u001b[38;5;241m/\u001b[39m (pi \u001b[38;5;241m*\u001b[39m c)\n\u001b[0;32m     14\u001b[0m \u001b[38;5;28;01mreturn\u001b[39;00m B\n",
      "File \u001b[1;32mD:\\ANACONDA\\lib\\site-packages\\cvxpy\\constraints\\constraint.py:233\u001b[0m, in \u001b[0;36mConstraint.__bool__\u001b[1;34m(self)\u001b[0m\n\u001b[0;32m    225\u001b[0m \u001b[38;5;28;01mdef\u001b[39;00m \u001b[38;5;21m__bool__\u001b[39m(\u001b[38;5;28mself\u001b[39m):\n\u001b[0;32m    226\u001b[0m     \u001b[38;5;124;03m\"\"\"Raises an exception when called.\u001b[39;00m\n\u001b[0;32m    227\u001b[0m \n\u001b[0;32m    228\u001b[0m \u001b[38;5;124;03m    Python 3 version.\u001b[39;00m\n\u001b[1;32m   (...)\u001b[0m\n\u001b[0;32m    231\u001b[0m \u001b[38;5;124;03m    Raising an error here prevents writing chained constraints.\u001b[39;00m\n\u001b[0;32m    232\u001b[0m \u001b[38;5;124;03m    \"\"\"\u001b[39;00m\n\u001b[1;32m--> 233\u001b[0m     \u001b[38;5;28;01mreturn\u001b[39;00m \u001b[38;5;28;43mself\u001b[39;49m\u001b[38;5;241;43m.\u001b[39;49m\u001b[43m_chain_constraints\u001b[49m\u001b[43m(\u001b[49m\u001b[43m)\u001b[49m\n",
      "File \u001b[1;32mD:\\ANACONDA\\lib\\site-packages\\cvxpy\\constraints\\constraint.py:220\u001b[0m, in \u001b[0;36mConstraint._chain_constraints\u001b[1;34m(self)\u001b[0m\n\u001b[0;32m    217\u001b[0m \u001b[38;5;28;01mdef\u001b[39;00m \u001b[38;5;21m_chain_constraints\u001b[39m(\u001b[38;5;28mself\u001b[39m):\n\u001b[0;32m    218\u001b[0m     \u001b[38;5;124;03m\"\"\"Raises an error due to chained constraints.\u001b[39;00m\n\u001b[0;32m    219\u001b[0m \u001b[38;5;124;03m    \"\"\"\u001b[39;00m\n\u001b[1;32m--> 220\u001b[0m     \u001b[38;5;28;01mraise\u001b[39;00m \u001b[38;5;167;01mException\u001b[39;00m(\n\u001b[0;32m    221\u001b[0m         (\u001b[38;5;124m\"\u001b[39m\u001b[38;5;124mCannot evaluate the truth value of a constraint or \u001b[39m\u001b[38;5;124m\"\u001b[39m\n\u001b[0;32m    222\u001b[0m          \u001b[38;5;124m\"\u001b[39m\u001b[38;5;124mchain constraints, e.g., 1 >= x >= 0.\u001b[39m\u001b[38;5;124m\"\u001b[39m)\n\u001b[0;32m    223\u001b[0m     )\n",
      "\u001b[1;31mException\u001b[0m: Cannot evaluate the truth value of a constraint or chain constraints, e.g., 1 >= x >= 0."
     ]
    }
   ],
   "source": [
    "B = importance_sampling(A, c)\n",
    "B"
   ]
  },
  {
   "cell_type": "code",
   "execution_count": 31,
   "id": "5626835a",
   "metadata": {},
   "outputs": [
    {
     "data": {
      "text/plain": [
       "3"
      ]
     },
     "execution_count": 31,
     "metadata": {},
     "output_type": "execute_result"
    }
   ],
   "source": [
    "count = len(B)\n",
    "count"
   ]
  },
  {
   "cell_type": "code",
   "execution_count": 31,
   "id": "84a81655",
   "metadata": {},
   "outputs": [
    {
     "ename": "TypeError",
     "evalue": "sparse matrix length is ambiguous; use getnnz() or shape[0]",
     "output_type": "error",
     "traceback": [
      "\u001b[1;31m---------------------------------------------------------------------------\u001b[0m",
      "\u001b[1;31mTypeError\u001b[0m                                 Traceback (most recent call last)",
      "Input \u001b[1;32mIn [31]\u001b[0m, in \u001b[0;36m<cell line: 11>\u001b[1;34m()\u001b[0m\n\u001b[0;32m      7\u001b[0m \u001b[38;5;66;03m# فرض می‌کنیم ماتریس B از تابع importance_sampling با ورودی‌های A و c ساخته شده است.\u001b[39;00m\n\u001b[0;32m      8\u001b[0m \u001b[38;5;66;03m#A = [0.2, 0.3, 0.5]\u001b[39;00m\n\u001b[0;32m      9\u001b[0m c \u001b[38;5;241m=\u001b[39m \u001b[38;5;241m541\u001b[39m\n\u001b[1;32m---> 11\u001b[0m B \u001b[38;5;241m=\u001b[39m \u001b[43mimportance_sampling\u001b[49m\u001b[43m(\u001b[49m\u001b[43mA\u001b[49m\u001b[43m,\u001b[49m\u001b[43m \u001b[49m\u001b[43mc\u001b[49m\u001b[43m)\u001b[49m\n\u001b[0;32m     13\u001b[0m \u001b[38;5;28mprint\u001b[39m(\u001b[38;5;124m\"\u001b[39m\u001b[38;5;124mماتریس B:\u001b[39m\u001b[38;5;124m\"\u001b[39m)\n\u001b[0;32m     14\u001b[0m print_matrix(B)\n",
      "Input \u001b[1;32mIn [28]\u001b[0m, in \u001b[0;36mimportance_sampling\u001b[1;34m(A, c)\u001b[0m\n\u001b[0;32m      3\u001b[0m \u001b[38;5;28;01mdef\u001b[39;00m \u001b[38;5;21mimportance_sampling\u001b[39m(A, c):\n\u001b[1;32m----> 4\u001b[0m     n \u001b[38;5;241m=\u001b[39m \u001b[38;5;28;43mlen\u001b[39;49m\u001b[43m(\u001b[49m\u001b[43mA\u001b[49m\u001b[43m)\u001b[49m\n\u001b[0;32m      5\u001b[0m     B \u001b[38;5;241m=\u001b[39m [[\u001b[38;5;241m0\u001b[39m] \u001b[38;5;241m*\u001b[39m c \u001b[38;5;28;01mfor\u001b[39;00m _ \u001b[38;5;129;01min\u001b[39;00m \u001b[38;5;28mrange\u001b[39m(n)]\n\u001b[0;32m      6\u001b[0m     total_weight \u001b[38;5;241m=\u001b[39m \u001b[38;5;28msum\u001b[39m(A)\n",
      "File \u001b[1;32mD:\\ANACONDA\\lib\\site-packages\\scipy\\sparse\\_base.py:345\u001b[0m, in \u001b[0;36mspmatrix.__len__\u001b[1;34m(self)\u001b[0m\n\u001b[0;32m    344\u001b[0m \u001b[38;5;28;01mdef\u001b[39;00m \u001b[38;5;21m__len__\u001b[39m(\u001b[38;5;28mself\u001b[39m):\n\u001b[1;32m--> 345\u001b[0m     \u001b[38;5;28;01mraise\u001b[39;00m \u001b[38;5;167;01mTypeError\u001b[39;00m(\u001b[38;5;124m\"\u001b[39m\u001b[38;5;124msparse matrix length is ambiguous; use getnnz()\u001b[39m\u001b[38;5;124m\"\u001b[39m\n\u001b[0;32m    346\u001b[0m                     \u001b[38;5;124m\"\u001b[39m\u001b[38;5;124m or shape[0]\u001b[39m\u001b[38;5;124m\"\u001b[39m)\n",
      "\u001b[1;31mTypeError\u001b[0m: sparse matrix length is ambiguous; use getnnz() or shape[0]"
     ]
    }
   ],
   "source": [
    "def print_matrix(matrix):\n",
    "    for row in matrix:\n",
    "        for elem in row:\n",
    "            print(elem, end='\\t')\n",
    "        print()\n",
    "A = A_sparse\n",
    "# فرض می‌کنیم ماتریس B از تابع importance_sampling با ورودی‌های A و c ساخته شده است.\n",
    "#A = [0.2, 0.3, 0.5]\n",
    "c = 541\n",
    "\n",
    "B = importance_sampling(A, c)\n",
    "\n",
    "print(\"ماتریس B:\")\n",
    "print_matrix(B)"
   ]
  },
  {
   "cell_type": "code",
   "execution_count": null,
   "id": "f11177b8",
   "metadata": {},
   "outputs": [],
   "source": []
  }
 ],
 "metadata": {
  "kernelspec": {
   "display_name": "Python 3 (ipykernel)",
   "language": "python",
   "name": "python3"
  },
  "language_info": {
   "codemirror_mode": {
    "name": "ipython",
    "version": 3
   },
   "file_extension": ".py",
   "mimetype": "text/x-python",
   "name": "python",
   "nbconvert_exporter": "python",
   "pygments_lexer": "ipython3",
   "version": "3.10.9"
  }
 },
 "nbformat": 4,
 "nbformat_minor": 5
}
