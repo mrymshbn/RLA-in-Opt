{
 "cells": [
  {
   "cell_type": "code",
   "execution_count": 1,
   "id": "4ef9f6bc",
   "metadata": {},
   "outputs": [],
   "source": [
    "import scipy\n",
    "import random\n",
    "import portpy.photon as pp\n",
    "import numpy as np\n",
    "from cvxpy import *\n",
    "from scipy import sparse\n",
    "import sklearn.metrics\n",
    "import cProfile\n",
    "import time\n",
    "import sys\n",
    "import psutil"
   ]
  },
  {
   "cell_type": "code",
   "execution_count": 2,
   "id": "de286b8e",
   "metadata": {},
   "outputs": [
    {
     "name": "stdout",
     "output_type": "stream",
     "text": [
      "creating rinds.. This step may take some time due to dilation\n",
      "rinds created!!\n",
      "Creating BEV..\n",
      "Loading sparse influence matrix...\n",
      "Done\n",
      "Objective Start\n",
      "Objective done\n",
      "Constraints Start\n",
      "Structure ESOPHAGUS not available!\n",
      "Structure ESOPHAGUS not available!\n",
      "Constraints done\n",
      "===============================================================================\n",
      "                                     CVXPY                                     \n",
      "                                     v1.3.1                                    \n",
      "===============================================================================\n",
      "(CVXPY) Oct 02 09:08:27 PM: Your problem has 1945 variables, 14 constraints, and 0 parameters.\n",
      "(CVXPY) Oct 02 09:08:27 PM: It is compliant with the following grammars: DCP, DQCP\n",
      "(CVXPY) Oct 02 09:08:27 PM: (If you need to solve this problem multiple times, but with different data, consider using parameters.)\n",
      "(CVXPY) Oct 02 09:08:27 PM: CVXPY will first compile your problem; then, it will invoke a numerical solver to obtain a solution.\n",
      "-------------------------------------------------------------------------------\n",
      "                                  Compilation                                  \n",
      "-------------------------------------------------------------------------------\n",
      "(CVXPY) Oct 02 09:08:27 PM: Compiling problem (target solver=MOSEK).\n",
      "(CVXPY) Oct 02 09:08:27 PM: Reduction chain: Dcp2Cone -> CvxAttr2Constr -> ConeMatrixStuffing -> MOSEK\n",
      "(CVXPY) Oct 02 09:08:27 PM: Applying reduction Dcp2Cone\n",
      "(CVXPY) Oct 02 09:08:27 PM: Applying reduction CvxAttr2Constr\n",
      "(CVXPY) Oct 02 09:08:27 PM: Applying reduction ConeMatrixStuffing\n",
      "(CVXPY) Oct 02 09:08:28 PM: Applying reduction MOSEK\n",
      "(CVXPY) Oct 02 09:08:29 PM: Finished problem compilation (took 2.056e+00 seconds).\n",
      "-------------------------------------------------------------------------------\n",
      "                                Numerical solver                               \n",
      "-------------------------------------------------------------------------------\n",
      "(CVXPY) Oct 02 09:08:29 PM: Invoking solver MOSEK  to obtain a solution.\n",
      "\n",
      "\n",
      "(CVXPY) Oct 02 09:08:30 PM: Problem\n",
      "(CVXPY) Oct 02 09:08:30 PM:   Name                   :                 \n",
      "(CVXPY) Oct 02 09:08:30 PM:   Objective sense        : maximize        \n",
      "(CVXPY) Oct 02 09:08:30 PM:   Type                   : CONIC (conic optimization problem)\n",
      "(CVXPY) Oct 02 09:08:30 PM:   Constraints            : 1958            \n",
      "(CVXPY) Oct 02 09:08:30 PM:   Affine conic cons.     : 0               \n",
      "(CVXPY) Oct 02 09:08:30 PM:   Disjunctive cons.      : 0               \n",
      "(CVXPY) Oct 02 09:08:30 PM:   Cones                  : 13              \n",
      "(CVXPY) Oct 02 09:08:30 PM:   Scalar variables       : 215745          \n",
      "(CVXPY) Oct 02 09:08:30 PM:   Matrix variables       : 0               \n",
      "(CVXPY) Oct 02 09:08:30 PM:   Integer variables      : 0               \n",
      "(CVXPY) Oct 02 09:08:30 PM: \n",
      "(CVXPY) Oct 02 09:08:30 PM: Optimizer started.\n",
      "(CVXPY) Oct 02 09:08:30 PM: Presolve started.\n",
      "(CVXPY) Oct 02 09:08:30 PM: Linear dependency checker started.\n",
      "(CVXPY) Oct 02 09:08:30 PM: Linear dependency checker terminated.\n",
      "(CVXPY) Oct 02 09:08:30 PM: Eliminator started.\n",
      "(CVXPY) Oct 02 09:08:30 PM: Freed constraints in eliminator : 0\n",
      "(CVXPY) Oct 02 09:08:30 PM: Eliminator terminated.\n",
      "(CVXPY) Oct 02 09:08:30 PM: Eliminator - tries                  : 1                 time                   : 0.00            \n",
      "(CVXPY) Oct 02 09:08:30 PM: Lin. dep.  - tries                  : 1                 time                   : 0.03            \n",
      "(CVXPY) Oct 02 09:08:30 PM: Lin. dep.  - number                 : 0               \n",
      "(CVXPY) Oct 02 09:08:30 PM: Presolve terminated. Time: 0.38    \n",
      "(CVXPY) Oct 02 09:08:31 PM: Problem\n",
      "(CVXPY) Oct 02 09:08:31 PM:   Name                   :                 \n",
      "(CVXPY) Oct 02 09:08:31 PM:   Objective sense        : maximize        \n",
      "(CVXPY) Oct 02 09:08:31 PM:   Type                   : CONIC (conic optimization problem)\n",
      "(CVXPY) Oct 02 09:08:31 PM:   Constraints            : 1958            \n",
      "(CVXPY) Oct 02 09:08:31 PM:   Affine conic cons.     : 0               \n",
      "(CVXPY) Oct 02 09:08:31 PM:   Disjunctive cons.      : 0               \n",
      "(CVXPY) Oct 02 09:08:31 PM:   Cones                  : 13              \n",
      "(CVXPY) Oct 02 09:08:31 PM:   Scalar variables       : 215745          \n",
      "(CVXPY) Oct 02 09:08:31 PM:   Matrix variables       : 0               \n",
      "(CVXPY) Oct 02 09:08:31 PM:   Integer variables      : 0               \n",
      "(CVXPY) Oct 02 09:08:31 PM: \n",
      "(CVXPY) Oct 02 09:08:31 PM: Optimizer  - threads                : 2               \n",
      "(CVXPY) Oct 02 09:08:31 PM: Optimizer  - solved problem         : the primal      \n",
      "(CVXPY) Oct 02 09:08:31 PM: Optimizer  - Constraints            : 1958\n",
      "(CVXPY) Oct 02 09:08:31 PM: Optimizer  - Cones                  : 13\n",
      "(CVXPY) Oct 02 09:08:31 PM: Optimizer  - Scalar variables       : 78514             conic                  : 49078           \n",
      "(CVXPY) Oct 02 09:08:31 PM: Optimizer  - Semi-definite variables: 0                 scalarized             : 0               \n",
      "(CVXPY) Oct 02 09:08:31 PM: Factor     - setup time             : 0.30              dense det. time        : 0.00            \n",
      "(CVXPY) Oct 02 09:08:31 PM: Factor     - ML order time          : 0.12              GP order time          : 0.00            \n",
      "(CVXPY) Oct 02 09:08:31 PM: Factor     - nonzeros before factor : 2.37e+05          after factor           : 2.38e+05        \n",
      "(CVXPY) Oct 02 09:08:31 PM: Factor     - dense dim.             : 4                 flops                  : 7.77e+07        \n",
      "(CVXPY) Oct 02 09:08:31 PM: ITE PFEAS    DFEAS    GFEAS    PRSTATUS   POBJ              DOBJ              MU       TIME  \n",
      "(CVXPY) Oct 02 09:08:31 PM: 0   1.4e+02  9.2e+02  1.4e+01  0.00e+00   -1.300000000e+01  0.000000000e+00   1.0e+00  0.94  \n",
      "(CVXPY) Oct 02 09:08:31 PM: 1   1.4e+02  9.1e+02  1.4e+01  -9.81e-01  3.679001887e+02   3.808833479e+02   9.9e-01  1.09  \n",
      "(CVXPY) Oct 02 09:08:31 PM: 2   9.4e+01  6.2e+02  1.1e+01  -9.80e-01  1.207821028e+04   1.209058459e+04   6.7e-01  1.17  \n",
      "(CVXPY) Oct 02 09:08:31 PM: 3   7.3e+01  4.7e+02  9.7e+00  -9.37e-01  2.048080558e+04   2.049258037e+04   5.1e-01  1.24  \n",
      "(CVXPY) Oct 02 09:08:31 PM: 4   2.5e+01  1.6e+02  5.1e+00  -8.88e-01  2.508604384e+04   2.509370321e+04   1.8e-01  1.31  \n",
      "(CVXPY) Oct 02 09:08:31 PM: 5   7.3e+00  4.7e+01  1.7e+00  -5.48e-01  1.049393948e+04   1.049529902e+04   5.2e-02  1.38  \n",
      "(CVXPY) Oct 02 09:08:31 PM: 6   3.8e+00  2.5e+01  7.7e-01  1.40e-01   7.557795987e+03   7.558304318e+03   2.7e-02  1.45  \n",
      "(CVXPY) Oct 02 09:08:31 PM: 7   2.1e+00  1.4e+01  3.4e-01  4.67e-01   4.906961600e+03   4.907256480e+03   1.5e-02  1.52  \n",
      "(CVXPY) Oct 02 09:08:32 PM: 8   1.0e+00  6.5e+00  1.2e-01  6.82e-01   2.508521478e+03   2.508657766e+03   7.1e-03  1.58  \n",
      "(CVXPY) Oct 02 09:08:32 PM: 9   5.1e-01  3.3e+00  4.3e-02  8.48e-01   1.451844904e+03   1.451900247e+03   3.6e-03  1.66  \n",
      "(CVXPY) Oct 02 09:08:32 PM: 10  2.3e-01  1.5e+00  1.3e-02  9.26e-01   6.830396397e+02   6.830524220e+02   1.6e-03  1.72  \n",
      "(CVXPY) Oct 02 09:08:32 PM: 11  8.8e-02  5.7e-01  3.3e-03  9.70e-01   2.934723158e+02   2.934711954e+02   6.2e-04  1.78  \n",
      "(CVXPY) Oct 02 09:08:32 PM: 12  4.0e-02  2.6e-01  1.0e-03  9.91e-01   1.712121248e+02   1.712098605e+02   2.9e-04  1.84  \n",
      "(CVXPY) Oct 02 09:08:32 PM: 13  1.5e-02  9.7e-02  2.4e-04  9.97e-01   8.733653079e+01   8.733491237e+01   1.1e-04  1.91  \n",
      "(CVXPY) Oct 02 09:08:32 PM: 14  5.8e-03  3.8e-02  5.8e-05  9.99e-01   6.218155735e+01   6.218074108e+01   4.1e-05  1.97  \n",
      "(CVXPY) Oct 02 09:08:32 PM: 15  1.9e-03  1.2e-02  1.1e-05  9.99e-01   4.963897073e+01   4.963865188e+01   1.3e-05  2.03  \n",
      "(CVXPY) Oct 02 09:08:32 PM: 16  7.2e-04  4.7e-03  2.5e-06  9.98e-01   4.627260745e+01   4.627247526e+01   5.1e-06  2.11  \n",
      "(CVXPY) Oct 02 09:08:32 PM: 17  2.0e-04  1.3e-03  3.8e-07  9.99e-01   4.459526825e+01   4.459522705e+01   1.4e-06  2.17  \n",
      "(CVXPY) Oct 02 09:08:32 PM: 18  5.2e-05  3.4e-04  5.0e-08  9.99e-01   4.415011466e+01   4.415010332e+01   3.6e-07  2.23  \n",
      "(CVXPY) Oct 02 09:08:32 PM: 19  8.3e-06  5.4e-05  3.2e-09  1.00e+00   4.403631689e+01   4.403631524e+01   5.9e-08  2.30  \n",
      "(CVXPY) Oct 02 09:08:32 PM: 20  1.6e-06  1.1e-05  2.8e-10  1.00e+00   4.401750575e+01   4.401750545e+01   1.2e-08  2.36  \n"
     ]
    },
    {
     "name": "stdout",
     "output_type": "stream",
     "text": [
      "(CVXPY) Oct 02 09:08:32 PM: 21  1.8e-07  1.2e-06  1.0e-11  1.00e+00   4.401324330e+01   4.401324328e+01   1.3e-09  2.44  \n",
      "(CVXPY) Oct 02 09:08:33 PM: 22  9.3e-08  3.8e-07  1.9e-12  1.00e+00   4.401280219e+01   4.401280217e+01   4.2e-10  2.58  \n",
      "(CVXPY) Oct 02 09:08:33 PM: 23  4.7e-08  3.5e-07  4.1e-13  1.01e+00   4.401267620e+01   4.401267619e+01   1.5e-10  2.72  \n",
      "(CVXPY) Oct 02 09:08:33 PM: Optimizer terminated. Time: 2.83    \n",
      "(CVXPY) Oct 02 09:08:33 PM: \n",
      "(CVXPY) Oct 02 09:08:33 PM: \n",
      "(CVXPY) Oct 02 09:08:33 PM: Interior-point solution summary\n",
      "(CVXPY) Oct 02 09:08:33 PM:   Problem status  : PRIMAL_AND_DUAL_FEASIBLE\n",
      "(CVXPY) Oct 02 09:08:33 PM:   Solution status : OPTIMAL\n",
      "(CVXPY) Oct 02 09:08:33 PM:   Primal.  obj: 4.4012676200e+01    nrm: 1e+02    Viol.  con: 3e-06    var: 2e-06    cones: 0e+00  \n",
      "(CVXPY) Oct 02 09:08:33 PM:   Dual.    obj: 4.4012676192e+01    nrm: 6e+03    Viol.  con: 0e+00    var: 6e-06    cones: 0e+00  \n",
      "-------------------------------------------------------------------------------\n",
      "                                    Summary                                    \n",
      "-------------------------------------------------------------------------------\n",
      "(CVXPY) Oct 02 09:08:33 PM: Problem status: optimal\n",
      "(CVXPY) Oct 02 09:08:33 PM: Optimal value: 4.401e+01\n",
      "(CVXPY) Oct 02 09:08:33 PM: Compilation took 2.056e+00 seconds\n",
      "(CVXPY) Oct 02 09:08:33 PM: Solver (including time spent in interface) took 3.744e+00 seconds\n"
     ]
    }
   ],
   "source": [
    "data_dir = r'../data'\n",
    "data = pp.DataExplorer(data_dir=data_dir)\n",
    "patient_id = 'Lung_Phantom_Patient_1'\n",
    "data.patient_id = patient_id\n",
    "ct = pp.CT(data)\n",
    "structs = pp.Structures(data)\n",
    "beams = pp.Beams(data)\n",
    "opt_params = data.load_config_opt_params(protocol_name='Lung_2Gy_30Fx')\n",
    "structs.create_opt_structures(opt_params)\n",
    "inf_matrix_sparse = pp.InfluenceMatrix(ct=ct, structs=structs, beams=beams)\n",
    "protocol_name = 'Lung_2Gy_30Fx'\n",
    "clinical_criteria = pp.ClinicalCriteria(data, protocol_name)\n",
    "plan_sparse = pp.Plan(ct, structs, beams, inf_matrix_sparse, clinical_criteria)\n",
    "opt = pp.Optimization(plan_sparse, opt_params=opt_params)\n",
    "opt.create_cvxpy_problem()\n",
    "\n",
    "sol_sparse = opt.solve(solver='MOSEK', verbose=True)\n",
    "\n",
    "dose_sparse_1d = plan_sparse.inf_matrix.A @ (sol_sparse['optimal_intensity'] * plan_sparse.get_num_of_fractions())\n",
    "x_sparse =sol_sparse['optimal_intensity'] * plan_sparse.get_num_of_fractions()\n"
   ]
  },
  {
   "cell_type": "code",
   "execution_count": 3,
   "id": "3cecc2b5",
   "metadata": {},
   "outputs": [],
   "source": [
    "plan_sparse = pp.Plan(ct, structs, beams, inf_matrix_sparse, clinical_criteria)\n",
    "A_sparse = plan_sparse.inf_matrix.A"
   ]
  },
  {
   "cell_type": "code",
   "execution_count": 4,
   "id": "a1ee84f8",
   "metadata": {},
   "outputs": [
    {
     "name": "stdout",
     "output_type": "stream",
     "text": [
      "d=60183\n",
      "n=541\n"
     ]
    }
   ],
   "source": [
    "d,n=A_sparse.shape\n",
    "print(f'd={d}\\nn={n}')"
   ]
  },
  {
   "cell_type": "code",
   "execution_count": 5,
   "id": "ea66a2aa",
   "metadata": {},
   "outputs": [],
   "source": [
    "#sol_sparse = opt.solve(solver='MOSEK', verbose=True)\n",
    "dose_sparse_1d = plan_sparse.inf_matrix.A @ (sol_sparse['optimal_intensity'] * plan_sparse.get_num_of_fractions())"
   ]
  },
  {
   "cell_type": "code",
   "execution_count": 6,
   "id": "ad5ca68e",
   "metadata": {},
   "outputs": [],
   "source": [
    "from scipy.sparse import csr_matrix\n",
    "\n",
    "def compute_probability(row):\n",
    "    row_sum = row.sum()\n",
    "    if row_sum == 0:\n",
    "        return 0\n",
    "    else:\n",
    "        return row.sum() / row_sum\n",
    "\n",
    "def insert_and_rescale(B, i, j, pi):\n",
    "    B[:, j] += pi * A_sparse[:, i]\n",
    "\n",
    "def compute_sparse_B(A, c):\n",
    "    n = A_sparse.shape[1]\n",
    "    if c < 1 or c > n:\n",
    "        return csr_matrix((A_sparse.shape[0], c))\n",
    "\n",
    "    num_rows, num_cols = A_sparse.shape\n",
    "    B = csr_matrix((num_rows, c))   \n",
    "\n",
    "    for i in range(n):\n",
    "        pi = compute_probability(A_sparse[:, i])\n",
    "        for j in range(c):\n",
    "            insert_and_rescale(B, i, j, pi)\n",
    "\n",
    "    return B\n"
   ]
  },
  {
   "cell_type": "code",
   "execution_count": 34,
   "id": "54f85507",
   "metadata": {},
   "outputs": [
    {
     "name": "stdout",
     "output_type": "stream",
     "text": [
      "زمان کل اجرا: 1.6934382915496826 ثانیه\n"
     ]
    }
   ],
   "source": [
    "start_time = time.time()\n",
    "c = 2   \n",
    "result_B = compute_sparse_B(A_sparse, c)\n",
    "\n",
    "\n",
    "end_time = time.time()\n",
    "total_execution_time = end_time - start_time\n",
    "print(f\"زمان کل اجرا: {total_execution_time} ثانیه\")\n"
   ]
  },
  {
   "cell_type": "code",
   "execution_count": 35,
   "id": "da0050f2",
   "metadata": {},
   "outputs": [
    {
     "name": "stdout",
     "output_type": "stream",
     "text": [
      "میزان حافظه مصرفی: 799.05 مگابایت\n"
     ]
    }
   ],
   "source": [
    "c = 3\n",
    "result_B = compute_sparse_B(A_sparse, c)\n",
    "\n",
    "process = psutil.Process()\n",
    "memory_usage = process.memory_info().rss / 1024 / 1024  # به مگابایت تبدیل\n",
    "\n",
    "print(f\"میزان حافظه مصرفی: {memory_usage:.2f} مگابایت\")\n"
   ]
  },
  {
   "cell_type": "code",
   "execution_count": 20,
   "id": "35b15df7",
   "metadata": {},
   "outputs": [
    {
     "name": "stderr",
     "output_type": "stream",
     "text": [
      "D:\\ANACONDA\\lib\\site-packages\\scipy\\sparse\\_index.py:137: SparseEfficiencyWarning: Changing the sparsity structure of a csr_matrix is expensive. lil_matrix is more efficient.\n",
      "  self._set_arrayXarray_sparse(i, j, x)\n"
     ]
    }
   ],
   "source": [
    "c = 3   # با مقادیر بیشتر ارور میده\n",
    "#min_c = 1\n",
    "#max_c = A_sparse.shape[1] \n",
    "#c = random.randint(min_c, max_c)\n",
    "B = compute_sparse_B(A_sparse, c)"
   ]
  },
  {
   "cell_type": "code",
   "execution_count": 21,
   "id": "21ce2b1c",
   "metadata": {},
   "outputs": [
    {
     "data": {
      "text/plain": [
       "<60183x3 sparse matrix of type '<class 'numpy.float64'>'\n",
       "\twith 88266 stored elements in Compressed Sparse Row format>"
      ]
     },
     "execution_count": 21,
     "metadata": {},
     "output_type": "execute_result"
    }
   ],
   "source": [
    "B"
   ]
  },
  {
   "cell_type": "code",
   "execution_count": 22,
   "id": "15987beb",
   "metadata": {},
   "outputs": [
    {
     "data": {
      "text/plain": [
       "(60183, 3)"
      ]
     },
     "execution_count": 22,
     "metadata": {},
     "output_type": "execute_result"
    }
   ],
   "source": [
    "B.shape"
   ]
  },
  {
   "cell_type": "code",
   "execution_count": 23,
   "id": "fee85e26",
   "metadata": {},
   "outputs": [
    {
     "data": {
      "text/plain": [
       "301922"
      ]
     },
     "execution_count": 23,
     "metadata": {},
     "output_type": "execute_result"
    }
   ],
   "source": [
    "num_non_zero_elements_A = A_sparse.getnnz()  # تعداد عناصر غیر صفر\n",
    "num_non_zero_elements_A"
   ]
  },
  {
   "cell_type": "code",
   "execution_count": 24,
   "id": "d236a1d3",
   "metadata": {},
   "outputs": [
    {
     "data": {
      "text/plain": [
       "88266"
      ]
     },
     "execution_count": 24,
     "metadata": {},
     "output_type": "execute_result"
    }
   ],
   "source": [
    "num_non_zero_elements_B = B.getnnz()  # تعداد عناصر غیر صفر\n",
    "num_non_zero_elements_B"
   ]
  },
  {
   "cell_type": "code",
   "execution_count": 25,
   "id": "e3fbe075",
   "metadata": {},
   "outputs": [],
   "source": [
    "sol_ls_B_sparse = scipy.sparse.linalg.lsqr(B, dose_sparse_1d)"
   ]
  },
  {
   "cell_type": "code",
   "execution_count": 31,
   "id": "3e0b50a8",
   "metadata": {},
   "outputs": [
    {
     "name": "stdout",
     "output_type": "stream",
     "text": [
      "میزان حافظه مصرفی: 120 بایت\n"
     ]
    }
   ],
   "source": [
    "sol_ls_B_sparse = scipy.sparse.linalg.lsqr(B, dose_sparse_1d)\n",
    "\n",
    "# میزان حافظه مصرفی توسط متغیر sol_ls_B_sparse\n",
    "memory_usage = sys.getsizeof(sol_ls_B_sparse)\n",
    "print(f\"میزان حافظه مصرفی: {memory_usage} بایت\")\n"
   ]
  },
  {
   "cell_type": "code",
   "execution_count": 32,
   "id": "591043bc",
   "metadata": {},
   "outputs": [
    {
     "name": "stdout",
     "output_type": "stream",
     "text": [
      "زمان اجرا: 0.006981849670410156 ثانیه\n"
     ]
    }
   ],
   "source": [
    "start_time = time.time() \n",
    "sol_ls_B_sparse = scipy.sparse.linalg.lsqr(B, dose_sparse_1d)\n",
    "end_time = time.time()  \n",
    "\n",
    "execution_time = end_time - start_time\n",
    "print(f\"زمان اجرا: {execution_time} ثانیه\")\n"
   ]
  },
  {
   "cell_type": "code",
   "execution_count": 30,
   "id": "9f6c6fac",
   "metadata": {
    "collapsed": true
   },
   "outputs": [
    {
     "name": "stdout",
     "output_type": "stream",
     "text": [
      "         431 function calls in 0.009 seconds\n",
      "\n",
      "   Ordered by: cumulative time\n",
      "\n",
      "   ncalls  tottime  percall  cumtime  percall filename:lineno(function)\n",
      "        1    0.000    0.000    0.009    0.009 {built-in method builtins.exec}\n",
      "        1    0.000    0.000    0.009    0.009 <string>:1(<module>)\n",
      "        1    0.000    0.000    0.009    0.009 334428951.py:3(my_function)\n",
      "        1    0.001    0.001    0.009    0.009 lsqr.py:96(lsqr)\n",
      "        2    0.000    0.000    0.005    0.002 _interface.py:248(rmatvec)\n",
      "        2    0.000    0.000    0.004    0.002 _interface.py:295(_rmatvec)\n",
      "        3    0.000    0.000    0.004    0.001 _interface.py:201(matvec)\n",
      "        3    0.000    0.000    0.003    0.001 _interface.py:189(_matvec)\n",
      "        3    0.000    0.000    0.003    0.001 _interface.py:303(matmat)\n",
      "        3    0.000    0.000    0.003    0.001 _interface.py:732(_matmat)\n",
      "        3    0.000    0.000    0.003    0.001 _base.py:400(dot)\n",
      "        3    0.000    0.000    0.003    0.001 _base.py:626(__matmul__)\n",
      "        3    0.000    0.000    0.003    0.001 _base.py:510(_mul_dispatch)\n",
      "        3    0.000    0.000    0.003    0.001 _compressed.py:480(_mul_vector)\n",
      "        2    0.000    0.000    0.003    0.001 _interface.py:470(adjoint)\n",
      "        2    0.000    0.000    0.003    0.001 _interface.py:735(_adjoint)\n",
      "        1    0.000    0.000    0.003    0.003 _interface.py:741(__init__)\n",
      "        1    0.000    0.000    0.002    0.002 _data.py:81(conj)\n",
      "        1    0.000    0.000    0.002    0.002 _data.py:91(copy)\n",
      "        4    0.001    0.000    0.001    0.000 {method 'copy' of 'numpy.ndarray' objects}\n",
      "        1    0.001    0.001    0.001    0.001 {built-in method scipy.sparse._sparsetools.csr_matvec}\n",
      "        2    0.000    0.000    0.001    0.001 _compressed.py:26(__init__)\n",
      "        1    0.000    0.000    0.001    0.001 _compressed.py:1224(_with_data)\n",
      "       18    0.000    0.000    0.001    0.000 {built-in method numpy.core._multiarray_umath.implement_array_function}\n",
      "        2    0.001    0.001    0.001    0.001 {built-in method scipy.sparse._sparsetools.csc_matvec}\n",
      "        5    0.000    0.000    0.001    0.000 <__array_function__ internals>:177(norm)\n",
      "        5    0.000    0.000    0.001    0.000 linalg.py:2357(norm)\n",
      "        1    0.000    0.000    0.001    0.001 _base.py:749(__getattr__)\n",
      "        1    0.000    0.000    0.001    0.001 _csr.py:135(transpose)\n",
      "        4    0.000    0.000    0.001    0.000 _sputils.py:147(get_index_dtype)\n",
      "        5    0.001    0.000    0.001    0.000 {method 'dot' of 'numpy.ndarray' objects}\n",
      "        2    0.000    0.000    0.000    0.000 _compressed.py:136(check_format)\n",
      "        1    0.000    0.000    0.000    0.000 _interface.py:775(aslinearoperator)\n",
      "        1    0.000    0.000    0.000    0.000 _interface.py:726(__init__)\n",
      "        3    0.000    0.000    0.000    0.000 _sputils.py:238(isshape)\n",
      "        1    0.000    0.000    0.000    0.000 _interface.py:157(__init__)\n",
      "        2    0.000    0.000    0.000    0.000 _sputils.py:216(isintlike)\n",
      "        4    0.000    0.000    0.000    0.000 <__array_function__ internals>:177(ndim)\n",
      "        8    0.000    0.000    0.000    0.000 <__array_function__ internals>:177(can_cast)\n",
      "        2    0.000    0.000    0.000    0.000 _compressed.py:1168(prune)\n",
      "        6    0.000    0.000    0.000    0.000 numeric.py:1873(isscalar)\n",
      "        5    0.000    0.000    0.000    0.000 {built-in method numpy.zeros}\n",
      "        8    0.000    0.000    0.000    0.000 getlimits.py:648(__init__)\n",
      "        2    0.000    0.000    0.000    0.000 _sputils.py:295(check_shape)\n",
      "       35    0.000    0.000    0.000    0.000 {built-in method builtins.isinstance}\n",
      "        4    0.000    0.000    0.000    0.000 fromnumeric.py:3121(ndim)\n",
      "        3    0.000    0.000    0.000    0.000 _sputils.py:211(isscalarlike)\n",
      "       26    0.000    0.000    0.000    0.000 {built-in method numpy.asarray}\n",
      "       11    0.000    0.000    0.000    0.000 {method 'reshape' of 'numpy.ndarray' objects}\n",
      "        8    0.000    0.000    0.000    0.000 _base.py:291(nnz)\n",
      "        1    0.000    0.000    0.000    0.000 <__array_function__ internals>:177(atleast_1d)\n",
      "        2    0.000    0.000    0.000    0.000 _interface.py:142(__new__)\n",
      "        1    0.000    0.000    0.000    0.000 _base.py:78(_csc_container)\n",
      "        1    0.000    0.000    0.000    0.000 {method 'copy' of 'numpy.generic' objects}\n",
      "        6    0.000    0.000    0.000    0.000 abc.py:117(__instancecheck__)\n",
      "        1    0.000    0.000    0.000    0.000 shape_base.py:23(atleast_1d)\n",
      "        1    0.000    0.000    0.000    0.000 lsqr.py:61(_sym_ortho)\n",
      "        2    0.000    0.000    0.000    0.000 _data.py:20(__init__)\n",
      "        8    0.000    0.000    0.000    0.000 _compressed.py:108(getnnz)\n",
      "        8    0.000    0.000    0.000    0.000 {method 'ravel' of 'numpy.ndarray' objects}\n",
      "       13    0.000    0.000    0.000    0.000 _base.py:119(get_shape)\n",
      "        3    0.000    0.000    0.000    0.000 _sputils.py:56(upcast_char)\n",
      "        1    0.000    0.000    0.000    0.000 numerictypes.py:356(issubdtype)\n",
      "        6    0.000    0.000    0.000    0.000 {built-in method _abc._abc_instancecheck}\n",
      "        1    0.000    0.000    0.000    0.000 <frozen importlib._bootstrap>:404(parent)\n",
      "        2    0.000    0.000    0.000    0.000 {built-in method builtins.any}\n",
      "       27    0.000    0.000    0.000    0.000 {built-in method builtins.len}\n",
      "        6    0.000    0.000    0.000    0.000 _sputils.py:308(<genexpr>)\n",
      "        4    0.000    0.000    0.000    0.000 getlimits.py:659(min)\n",
      "        2    0.000    0.000    0.000    0.000 _base.py:105(__init__)\n",
      "        5    0.000    0.000    0.000    0.000 linalg.py:117(isComplexType)\n",
      "        4    0.000    0.000    0.000    0.000 _util.py:143(_prune_array)\n",
      "        5    0.000    0.000    0.000    0.000 _data.py:23(_get_dtype)\n",
      "        4    0.000    0.000    0.000    0.000 getlimits.py:672(max)\n",
      "        6    0.000    0.000    0.000    0.000 {built-in method numpy.array}\n",
      "        3    0.000    0.000    0.000    0.000 _base.py:1301(isspmatrix)\n",
      "       13    0.000    0.000    0.000    0.000 {built-in method builtins.issubclass}\n",
      "        2    0.000    0.000    0.000    0.000 numerictypes.py:282(issubclass_)\n",
      "        3    0.000    0.000    0.000    0.000 _sputils.py:268(isdense)\n",
      "        9    0.000    0.000    0.000    0.000 {built-in method numpy.asanyarray}\n",
      "        8    0.000    0.000    0.000    0.000 multiarray.py:498(can_cast)\n",
      "        3    0.000    0.000    0.000    0.000 {built-in method builtins.getattr}\n",
      "        6    0.000    0.000    0.000    0.000 {built-in method math.sqrt}\n",
      "        6    0.000    0.000    0.000    0.000 _csc.py:230(_swap)\n",
      "        2    0.000    0.000    0.000    0.000 _sputils.py:93(to_native)\n",
      "        6    0.000    0.000    0.000    0.000 _sputils.py:313(<genexpr>)\n",
      "        2    0.000    0.000    0.000    0.000 {built-in method builtins.max}\n",
      "        6    0.000    0.000    0.000    0.000 {built-in method _operator.index}\n",
      "        3    0.000    0.000    0.000    0.000 {method 'get' of 'dict' objects}\n",
      "        5    0.000    0.000    0.000    0.000 linalg.py:2353(_norm_dispatcher)\n",
      "        2    0.000    0.000    0.000    0.000 {built-in method __new__ of type object at 0x00007FFEDBC0AD50}\n",
      "        4    0.000    0.000    0.000    0.000 fromnumeric.py:3117(_ndim_dispatcher)\n",
      "        1    0.000    0.000    0.000    0.000 {method 'rpartition' of 'str' objects}\n",
      "        1    0.000    0.000    0.000    0.000 {method 'astype' of 'numpy.ndarray' objects}\n",
      "        3    0.000    0.000    0.000    0.000 {built-in method builtins.abs}\n",
      "        1    0.000    0.000    0.000    0.000 {method 'append' of 'list' objects}\n",
      "        1    0.000    0.000    0.000    0.000 {method 'disable' of '_lsprof.Profiler' objects}\n",
      "        1    0.000    0.000    0.000    0.000 shape_base.py:19(_atleast_1d_dispatcher)\n",
      "\n",
      "\n"
     ]
    }
   ],
   "source": [
    "def my_function():\n",
    "    sol_ls_B_sparse = scipy.sparse.linalg.lsqr(B, dose_sparse_1d)\n",
    "\n",
    "cProfile.run(\"my_function()\", sort=\"cumulative\")\n"
   ]
  },
  {
   "cell_type": "code",
   "execution_count": 26,
   "id": "dd54f6cb",
   "metadata": {},
   "outputs": [
    {
     "name": "stdout",
     "output_type": "stream",
     "text": [
      "x_star :\t [2.44588123 2.44588123 2.44588123]\n",
      "number_algorithm_execution_steps :\t 1\n",
      "Rightـhandـsideـvectorـnormـd :\t 1025.4829550491854\n",
      "L2 norm of residuals :\t1025.4829550491854\n",
      "sum_of_square1 :\t 653.5691132112893\n",
      "sum_of_square2 :\t 1.0000000000000002\n",
      "Zeroـvector :\t [0. 0. 0.]\n",
      "Returnـcode :\t 2\n"
     ]
    }
   ],
   "source": [
    "# جواب بهینه\n",
    "x_star = sol_ls_B_sparse[0]\n",
    "print(f'x_star :\\t {x_star[0:4]}')\n",
    "\n",
    "#  تعداد مراحل اجرای الگوریتم\n",
    "number_algorithm_execution_steps = sol_ls_B_sparse[2]\n",
    "print(f'number_algorithm_execution_steps :\\t {number_algorithm_execution_steps}')\n",
    "\n",
    "#  نرم بردار سمت راست d\n",
    "Rightـhandـsideـvectorـnormـd = sol_ls_B_sparse[3]\n",
    "print(f'Rightـhandـsideـvectorـnormـd :\\t {Rightـhandـsideـvectorـnormـd}')\n",
    "\n",
    "#شاخص برای ارزیابی خروجی الگوریتم کمترین مربعات است\tهرچقدر این نرم کوچکتر باشد نشانه بهتر بودن جواب بهینه است\n",
    "\n",
    "\n",
    "#نرم ضرب داخلی ماتریس در جواب\n",
    "l2_res = sol_ls_B_sparse[4]\n",
    "print(f'L2 norm of residuals :\\t{l2_res}')\n",
    "\n",
    "#   مجموع مربعات خطای سیستم \n",
    "sum_of_square1 = sol_ls_B_sparse[5]\n",
    "print(f'sum_of_square1 :\\t {sum_of_square1}')\n",
    "\n",
    "#   مجموع مربعات خطای ماتریس معکوس\n",
    "sum_of_square2 = sol_ls_B_sparse[6]\n",
    "print(f'sum_of_square2 :\\t {sum_of_square2}')\n",
    "\n",
    "#    بردار صفر چیه              ????????\n",
    "Zeroـvector = sol_ls_B_sparse[9]\n",
    "print(f'Zeroـvector :\\t {Zeroـvector[0:24]}')\n",
    "\n",
    "# کد بازگشتی \n",
    "Returnـcode = sol_ls_B_sparse[1]\n",
    "print(f'Returnـcode :\\t {Returnـcode}')"
   ]
  }
 ],
 "metadata": {
  "kernelspec": {
   "display_name": "Python 3 (ipykernel)",
   "language": "python",
   "name": "python3"
  },
  "language_info": {
   "codemirror_mode": {
    "name": "ipython",
    "version": 3
   },
   "file_extension": ".py",
   "mimetype": "text/x-python",
   "name": "python",
   "nbconvert_exporter": "python",
   "pygments_lexer": "ipython3",
   "version": "3.10.9"
  }
 },
 "nbformat": 4,
 "nbformat_minor": 5
}
