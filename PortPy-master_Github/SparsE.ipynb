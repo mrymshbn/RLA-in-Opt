{
 "cells": [
  {
   "cell_type": "code",
   "execution_count": 1,
   "id": "8ed7050c",
   "metadata": {},
   "outputs": [],
   "source": [
    "# چند روش برای اسپارس کردن ماتریس"
   ]
  },
  {
   "cell_type": "code",
   "execution_count": 3,
   "id": "6f6b9243",
   "metadata": {},
   "outputs": [],
   "source": [
    "import scipy\n",
    "import random\n",
    "import portpy.photon as pp\n",
    "import numpy as np\n",
    "from cvxpy import *\n",
    "from scipy import sparse\n",
    "import sklearn.metrics\n",
    "import cProfile\n",
    "import time\n",
    "import sys\n",
    "import psutil\n",
    "from sklearn.decomposition import PCA"
   ]
  },
  {
   "cell_type": "code",
   "execution_count": 4,
   "id": "c4ab6e28",
   "metadata": {
    "collapsed": true
   },
   "outputs": [
    {
     "name": "stdout",
     "output_type": "stream",
     "text": [
      "creating rinds.. This step may take some time due to dilation\n",
      "rinds created!!\n",
      "Creating BEV..\n",
      "Loading sparse influence matrix...\n",
      "Done\n",
      "Objective Start\n",
      "Objective done\n",
      "Constraints Start\n",
      "Structure ESOPHAGUS not available!\n",
      "Structure ESOPHAGUS not available!\n",
      "Constraints done\n",
      "===============================================================================\n",
      "                                     CVXPY                                     \n",
      "                                     v1.4.1                                    \n",
      "===============================================================================\n",
      "(CVXPY) Nov 10 03:30:52 PM: Your problem has 1946 variables, 14 constraints, and 0 parameters.\n",
      "(CVXPY) Nov 10 03:30:52 PM: It is compliant with the following grammars: DCP, DQCP\n",
      "(CVXPY) Nov 10 03:30:52 PM: (If you need to solve this problem multiple times, but with different data, consider using parameters.)\n",
      "(CVXPY) Nov 10 03:30:52 PM: CVXPY will first compile your problem; then, it will invoke a numerical solver to obtain a solution.\n",
      "(CVXPY) Nov 10 03:30:52 PM: Your problem is compiled with the CPP canonicalization backend.\n",
      "-------------------------------------------------------------------------------\n",
      "                                  Compilation                                  \n",
      "-------------------------------------------------------------------------------\n",
      "(CVXPY) Nov 10 03:30:52 PM: Compiling problem (target solver=MOSEK).\n",
      "(CVXPY) Nov 10 03:30:52 PM: Reduction chain: Dcp2Cone -> CvxAttr2Constr -> ConeMatrixStuffing -> MOSEK\n",
      "(CVXPY) Nov 10 03:30:52 PM: Applying reduction Dcp2Cone\n",
      "(CVXPY) Nov 10 03:30:52 PM: Applying reduction CvxAttr2Constr\n",
      "(CVXPY) Nov 10 03:30:52 PM: Applying reduction ConeMatrixStuffing\n",
      "(CVXPY) Nov 10 03:30:53 PM: Applying reduction MOSEK\n",
      "(CVXPY) Nov 10 03:30:53 PM: Finished problem compilation (took 1.057e+00 seconds).\n",
      "-------------------------------------------------------------------------------\n",
      "                                Numerical solver                               \n",
      "-------------------------------------------------------------------------------\n",
      "(CVXPY) Nov 10 03:30:53 PM: Invoking solver MOSEK  to obtain a solution.\n",
      "\n",
      "\n",
      "(CVXPY) Nov 10 03:30:54 PM: Problem\n",
      "(CVXPY) Nov 10 03:30:54 PM:   Name                   :                 \n",
      "(CVXPY) Nov 10 03:30:54 PM:   Objective sense        : maximize        \n",
      "(CVXPY) Nov 10 03:30:54 PM:   Type                   : CONIC (conic optimization problem)\n",
      "(CVXPY) Nov 10 03:30:54 PM:   Constraints            : 1959            \n",
      "(CVXPY) Nov 10 03:30:54 PM:   Affine conic cons.     : 0               \n",
      "(CVXPY) Nov 10 03:30:54 PM:   Disjunctive cons.      : 0               \n",
      "(CVXPY) Nov 10 03:30:54 PM:   Cones                  : 13              \n",
      "(CVXPY) Nov 10 03:30:54 PM:   Scalar variables       : 215748          \n",
      "(CVXPY) Nov 10 03:30:54 PM:   Matrix variables       : 0               \n",
      "(CVXPY) Nov 10 03:30:54 PM:   Integer variables      : 0               \n",
      "(CVXPY) Nov 10 03:30:54 PM: \n",
      "(CVXPY) Nov 10 03:30:54 PM: Optimizer started.\n",
      "(CVXPY) Nov 10 03:30:54 PM: Presolve started.\n",
      "(CVXPY) Nov 10 03:30:54 PM: Linear dependency checker started.\n",
      "(CVXPY) Nov 10 03:30:54 PM: Linear dependency checker terminated.\n",
      "(CVXPY) Nov 10 03:30:54 PM: Eliminator started.\n",
      "(CVXPY) Nov 10 03:30:54 PM: Freed constraints in eliminator : 0\n",
      "(CVXPY) Nov 10 03:30:54 PM: Eliminator terminated.\n",
      "(CVXPY) Nov 10 03:30:54 PM: Eliminator - tries                  : 1                 time                   : 0.00            \n",
      "(CVXPY) Nov 10 03:30:54 PM: Lin. dep.  - tries                  : 1                 time                   : 0.01            \n",
      "(CVXPY) Nov 10 03:30:54 PM: Lin. dep.  - primal attempts        : 1                 successes              : 1               \n",
      "(CVXPY) Nov 10 03:30:54 PM: Lin. dep.  - dual attempts          : 0                 successes              : 0               \n",
      "(CVXPY) Nov 10 03:30:54 PM: Lin. dep.  - primal deps.           : 0                 dual deps.             : 0               \n",
      "(CVXPY) Nov 10 03:30:54 PM: Presolve terminated. Time: 0.19    \n",
      "(CVXPY) Nov 10 03:30:55 PM: Optimizer  - threads                : 2               \n",
      "(CVXPY) Nov 10 03:30:55 PM: Optimizer  - solved problem         : the primal      \n",
      "(CVXPY) Nov 10 03:30:55 PM: Optimizer  - Constraints            : 1959            \n",
      "(CVXPY) Nov 10 03:30:55 PM: Optimizer  - Cones                  : 13              \n",
      "(CVXPY) Nov 10 03:30:55 PM: Optimizer  - Scalar variables       : 63183             conic                  : 50518           \n",
      "(CVXPY) Nov 10 03:30:55 PM: Optimizer  - Semi-definite variables: 0                 scalarized             : 0               \n",
      "(CVXPY) Nov 10 03:30:55 PM: Factor     - setup time             : 0.19            \n",
      "(CVXPY) Nov 10 03:30:55 PM: Factor     - dense det. time        : 0.00              GP order time          : 0.00            \n",
      "(CVXPY) Nov 10 03:30:55 PM: Factor     - nonzeros before factor : 2.46e+05          after factor           : 2.47e+05        \n",
      "(CVXPY) Nov 10 03:30:55 PM: Factor     - dense dim.             : 4                 flops                  : 8.21e+07        \n",
      "(CVXPY) Nov 10 03:30:55 PM: ITE PFEAS    DFEAS    GFEAS    PRSTATUS   POBJ              DOBJ              MU       TIME  \n",
      "(CVXPY) Nov 10 03:30:55 PM: 0   1.4e+02  2.3e+02  1.4e+01  0.00e+00   -1.300000000e+01  -0.000000000e+00  1.0e+00  0.55  \n",
      "(CVXPY) Nov 10 03:30:55 PM: 1   1.2e+02  1.9e+02  1.3e+01  -9.63e-01  4.679787643e+03   4.692415819e+03   8.4e-01  0.59  \n",
      "(CVXPY) Nov 10 03:30:55 PM: 2   7.5e+01  1.2e+02  9.1e+00  -8.68e-01  6.575663964e+03   6.586712761e+03   5.3e-01  0.62  \n",
      "(CVXPY) Nov 10 03:30:55 PM: 3   3.3e+01  5.4e+01  4.7e+00  -6.48e-01  5.483660804e+03   5.491376940e+03   2.3e-01  0.67  \n",
      "(CVXPY) Nov 10 03:30:55 PM: 4   1.7e+01  2.8e+01  2.3e+00  -1.90e-01  2.759695648e+03   2.764885110e+03   1.2e-01  0.70  \n",
      "(CVXPY) Nov 10 03:30:55 PM: 5   1.4e+01  2.3e+01  1.8e+00  1.40e-01   2.641460111e+03   2.645958464e+03   9.9e-02  0.73  \n",
      "(CVXPY) Nov 10 03:30:55 PM: 6   6.9e+00  1.1e+01  7.0e-01  3.32e-01   1.135836563e+03   1.138391456e+03   4.9e-02  0.78  \n",
      "(CVXPY) Nov 10 03:30:55 PM: 7   2.6e+00  4.3e+00  1.7e-01  6.90e-01   6.433717495e+02   6.443825583e+02   1.8e-02  0.81  \n",
      "(CVXPY) Nov 10 03:30:55 PM: 8   7.7e-01  1.3e+00  2.9e-02  9.19e-01   2.519392152e+02   2.522318222e+02   5.5e-03  0.86  \n",
      "(CVXPY) Nov 10 03:30:55 PM: 9   1.9e-01  3.1e-01  3.7e-03  1.00e+00   1.112136823e+02   1.112831916e+02   1.4e-03  0.91  \n",
      "(CVXPY) Nov 10 03:30:55 PM: 10  5.2e-02  8.4e-02  5.2e-04  1.01e+00   6.185792813e+01   6.187635074e+01   3.6e-04  0.94  \n",
      "(CVXPY) Nov 10 03:30:55 PM: 11  1.3e-02  2.2e-02  7.0e-05  1.00e+00   4.731442626e+01   4.731918194e+01   9.5e-05  0.97  \n",
      "(CVXPY) Nov 10 03:30:55 PM: 12  4.1e-03  6.7e-03  1.2e-05  1.00e+00   4.361501519e+01   4.361646033e+01   2.9e-05  1.02  \n",
      "(CVXPY) Nov 10 03:30:55 PM: 13  1.3e-03  2.1e-03  2.1e-06  9.99e-01   4.251789704e+01   4.251835713e+01   9.3e-06  1.06  \n",
      "(CVXPY) Nov 10 03:30:55 PM: 14  4.8e-04  7.9e-04  4.9e-07  9.99e-01   4.220398674e+01   4.220415344e+01   3.4e-06  1.09  \n",
      "(CVXPY) Nov 10 03:30:55 PM: 15  1.1e-04  1.7e-04  5.0e-08  1.00e+00   4.207786880e+01   4.207790508e+01   7.5e-07  1.14  \n",
      "(CVXPY) Nov 10 03:30:55 PM: 16  6.0e-06  9.7e-06  6.2e-10  1.00e+00   4.204776554e+01   4.204776773e+01   4.2e-08  1.17  \n",
      "(CVXPY) Nov 10 03:30:55 PM: 17  2.8e-06  7.5e-05  2.1e-10  9.70e-01   4.204635473e+01   4.204635574e+01   2.0e-08  1.20  \n",
      "(CVXPY) Nov 10 03:30:55 PM: 18  1.2e-06  3.3e-05  6.7e-11  1.05e+00   4.204586990e+01   4.204587033e+01   9.4e-09  1.24  \n",
      "(CVXPY) Nov 10 03:30:55 PM: 19  5.4e-07  1.5e-05  1.9e-11  9.11e-01   4.204553745e+01   4.204553764e+01   3.9e-09  1.31  \n",
      "(CVXPY) Nov 10 03:30:55 PM: 20  1.9e-07  5.2e-06  4.2e-12  1.00e+00   4.204543386e+01   4.204543393e+01   1.4e-09  1.38  \n",
      "(CVXPY) Nov 10 03:30:55 PM: Optimizer terminated. Time: 1.41    \n",
      "(CVXPY) Nov 10 03:30:55 PM: \n",
      "(CVXPY) Nov 10 03:30:55 PM: \n",
      "(CVXPY) Nov 10 03:30:55 PM: Interior-point solution summary\n",
      "(CVXPY) Nov 10 03:30:55 PM:   Problem status  : PRIMAL_AND_DUAL_FEASIBLE\n",
      "(CVXPY) Nov 10 03:30:55 PM:   Solution status : OPTIMAL\n",
      "(CVXPY) Nov 10 03:30:55 PM:   Primal.  obj: 4.2045433863e+01    nrm: 1e+02    Viol.  con: 3e-06    var: 1e-06    cones: 0e+00  \n"
     ]
    },
    {
     "name": "stdout",
     "output_type": "stream",
     "text": [
      "(CVXPY) Nov 10 03:30:55 PM:   Dual.    obj: 4.2045433929e+01    nrm: 6e+03    Viol.  con: 0e+00    var: 2e-08    cones: 0e+00  \n",
      "-------------------------------------------------------------------------------\n",
      "                                    Summary                                    \n",
      "-------------------------------------------------------------------------------\n",
      "(CVXPY) Nov 10 03:30:55 PM: Problem status: optimal\n",
      "(CVXPY) Nov 10 03:30:55 PM: Optimal value: 4.205e+01\n",
      "(CVXPY) Nov 10 03:30:55 PM: Compilation took 1.057e+00 seconds\n",
      "(CVXPY) Nov 10 03:30:55 PM: Solver (including time spent in interface) took 1.937e+00 seconds\n",
      "Creating BEV..\n",
      "Loading full influence matrix..\n",
      "Done\n"
     ]
    }
   ],
   "source": [
    "data_dir = r'../data'\n",
    "data = pp.DataExplorer(data_dir=data_dir)\n",
    "patient_id = 'Lung_Phantom_Patient_1'\n",
    "data.patient_id = patient_id\n",
    "ct = pp.CT(data)\n",
    "structs = pp.Structures(data)\n",
    "beams = pp.Beams(data)\n",
    "opt_params = data.load_config_opt_params(protocol_name='Lung_2Gy_30Fx')\n",
    "structs.create_opt_structures(opt_params)\n",
    "inf_matrix_sparse = pp.InfluenceMatrix(ct=ct, structs=structs, beams=beams)\n",
    "protocol_name = 'Lung_2Gy_30Fx'\n",
    "clinical_criteria = pp.ClinicalCriteria(data, protocol_name)\n",
    "plan_sparse = pp.Plan(ct, structs, beams, inf_matrix_sparse, clinical_criteria)\n",
    "opt = pp.Optimization(plan_sparse, opt_params=opt_params)\n",
    "opt.create_cvxpy_problem()\n",
    "\n",
    "sol_sparse = opt.solve(solver='MOSEK', verbose=True)\n",
    "dose_sparse_1d = plan_sparse.inf_matrix.A @ (sol_sparse['optimal_intensity'] * plan_sparse.get_num_of_fractions())\n",
    "x_sparse =sol_sparse['optimal_intensity'] * plan_sparse.get_num_of_fractions()\n",
    "\n",
    "beams_full = pp.Beams(data, load_inf_matrix_full=True)\n",
    "inf_matrix_full = pp.InfluenceMatrix(ct=ct, structs=structs, beams=beams_full, is_full=True)\n",
    "plan_full = pp.Plan(ct, structs, beams, inf_matrix_full, clinical_criteria)\n",
    "dose_full_1d = plan_full.inf_matrix.A @ (sol_sparse['optimal_intensity'] * plan_full.get_num_of_fractions())\n",
    "\n",
    "A_full = plan_full.inf_matrix.A\n",
    "A_sparse = plan_sparse.inf_matrix.A\n"
   ]
  },
  {
   "cell_type": "code",
   "execution_count": 7,
   "id": "705cf36a",
   "metadata": {},
   "outputs": [
    {
     "name": "stdout",
     "output_type": "stream",
     "text": [
      "تعداد مقادیر غیر صفر ماتریس کامل:  10279072\n",
      "تعداد مقادیر غیر صفر ماتریس پراکنده:  335573\n"
     ]
    }
   ],
   "source": [
    "nonzero_count = np.count_nonzero(A_full)\n",
    "print(\"تعداد مقادیر غیر صفر ماتریس کامل: \", nonzero_count)\n",
    "print(\"تعداد مقادیر غیر صفر ماتریس پراکنده: \", A_sparse.getnnz())"
   ]
  },
  {
   "cell_type": "code",
   "execution_count": 9,
   "id": "d71ab9ce",
   "metadata": {},
   "outputs": [
    {
     "name": "stdout",
     "output_type": "stream",
     "text": [
      "[[0. 0. 0. ... 0. 0. 0.]\n",
      " [0. 0. 0. ... 0. 0. 0.]\n",
      " [0. 0. 0. ... 0. 0. 0.]\n",
      " ...\n",
      " [0. 0. 0. ... 0. 0. 0.]\n",
      " [0. 0. 0. ... 0. 0. 0.]\n",
      " [0. 0. 0. ... 0. 0. 0.]]\n"
     ]
    }
   ],
   "source": [
    "from scipy.sparse import coo_matrix\n",
    "\n",
    "A_sparse_coo = coo_matrix(A_full)\n",
    "\n",
    "print(A_sparse_coo.toarray())"
   ]
  },
  {
   "cell_type": "code",
   "execution_count": 12,
   "id": "99b83735",
   "metadata": {},
   "outputs": [
    {
     "name": "stdout",
     "output_type": "stream",
     "text": [
      "تعداد مقادیر غیر صفر ماتریس پراکنده:  10279072\n"
     ]
    }
   ],
   "source": [
    "print(\"تعداد مقادیر غیر صفر ماتریس پراکنده: \", A_sparse_coo.getnnz())"
   ]
  },
  {
   "cell_type": "code",
   "execution_count": null,
   "id": "96b6b693",
   "metadata": {},
   "outputs": [],
   "source": []
  }
 ],
 "metadata": {
  "kernelspec": {
   "display_name": "Python 3 (ipykernel)",
   "language": "python",
   "name": "python3"
  },
  "language_info": {
   "codemirror_mode": {
    "name": "ipython",
    "version": 3
   },
   "file_extension": ".py",
   "mimetype": "text/x-python",
   "name": "python",
   "nbconvert_exporter": "python",
   "pygments_lexer": "ipython3",
   "version": "3.11.5"
  }
 },
 "nbformat": 4,
 "nbformat_minor": 5
}
