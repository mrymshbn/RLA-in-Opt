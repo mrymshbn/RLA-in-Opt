{
 "cells": [
  {
   "cell_type": "code",
   "execution_count": 2,
   "id": "4ef9f6bc",
   "metadata": {},
   "outputs": [],
   "source": [
    "import scipy\n",
    "import random\n",
    "import portpy.photon as pp\n",
    "import numpy as np\n",
    "from cvxpy import *\n",
    "from scipy import sparse\n",
    "import sklearn.metrics\n",
    "import cProfile\n",
    "import time\n",
    "import sys\n",
    "import psutil\n",
    "from sklearn.decomposition import PCA\n",
    "from scipy.linalg import hadamard\n",
    "import matplotlib.pyplot as plt\n",
    "import cvxpy as cp\n",
    "from scipy.optimize import lsq_linear\n",
    "import scipy.sparse"
   ]
  },
  {
   "cell_type": "code",
   "execution_count": 3,
   "id": "de286b8e",
   "metadata": {},
   "outputs": [
    {
     "name": "stdout",
     "output_type": "stream",
     "text": [
      "creating rinds.. This step may take some time due to dilation\n",
      "rinds created!!\n",
      "Creating BEV..\n",
      "Loading sparse influence matrix...\n",
      "Done\n",
      "Objective Start\n",
      "Objective done\n",
      "Constraints Start\n",
      "Structure ESOPHAGUS not available!\n",
      "Structure ESOPHAGUS not available!\n",
      "Constraints done\n",
      "===============================================================================\n",
      "                                     CVXPY                                     \n",
      "                                     v1.5.1                                    \n",
      "===============================================================================\n",
      "(CVXPY) Jun 06 12:35:29 AM: Your problem has 1946 variables, 110663 constraints, and 0 parameters.\n",
      "(CVXPY) Jun 06 12:35:29 AM: It is compliant with the following grammars: DCP, DQCP\n",
      "(CVXPY) Jun 06 12:35:29 AM: (If you need to solve this problem multiple times, but with different data, consider using parameters.)\n",
      "(CVXPY) Jun 06 12:35:29 AM: CVXPY will first compile your problem; then, it will invoke a numerical solver to obtain a solution.\n",
      "(CVXPY) Jun 06 12:35:29 AM: Your problem is compiled with the CPP canonicalization backend.\n",
      "-------------------------------------------------------------------------------\n",
      "                                  Compilation                                  \n",
      "-------------------------------------------------------------------------------\n",
      "(CVXPY) Jun 06 12:35:29 AM: Compiling problem (target solver=MOSEK).\n",
      "(CVXPY) Jun 06 12:35:29 AM: Reduction chain: Dcp2Cone -> CvxAttr2Constr -> ConeMatrixStuffing -> MOSEK\n",
      "(CVXPY) Jun 06 12:35:29 AM: Applying reduction Dcp2Cone\n",
      "(CVXPY) Jun 06 12:35:29 AM: Applying reduction CvxAttr2Constr\n",
      "(CVXPY) Jun 06 12:35:29 AM: Applying reduction ConeMatrixStuffing\n",
      "(CVXPY) Jun 06 12:35:30 AM: Applying reduction MOSEK\n",
      "(CVXPY) Jun 06 12:35:30 AM: Finished problem compilation (took 9.531e-01 seconds).\n",
      "-------------------------------------------------------------------------------\n",
      "                                Numerical solver                               \n",
      "-------------------------------------------------------------------------------\n",
      "(CVXPY) Jun 06 12:35:30 AM: Invoking solver MOSEK  to obtain a solution.\n",
      "\n",
      "\n",
      "(CVXPY) Jun 06 12:35:31 AM: Problem\n",
      "(CVXPY) Jun 06 12:35:31 AM:   Name                   :                 \n",
      "(CVXPY) Jun 06 12:35:31 AM:   Objective sense        : maximize        \n",
      "(CVXPY) Jun 06 12:35:31 AM:   Type                   : CONIC (conic optimization problem)\n",
      "(CVXPY) Jun 06 12:35:31 AM:   Constraints            : 1959            \n",
      "(CVXPY) Jun 06 12:35:31 AM:   Affine conic cons.     : 0               \n",
      "(CVXPY) Jun 06 12:35:31 AM:   Disjunctive cons.      : 0               \n",
      "(CVXPY) Jun 06 12:35:31 AM:   Cones                  : 13              \n",
      "(CVXPY) Jun 06 12:35:31 AM:   Scalar variables       : 215748          \n",
      "(CVXPY) Jun 06 12:35:31 AM:   Matrix variables       : 0               \n",
      "(CVXPY) Jun 06 12:35:31 AM:   Integer variables      : 0               \n",
      "(CVXPY) Jun 06 12:35:31 AM: \n",
      "(CVXPY) Jun 06 12:35:31 AM: Optimizer started.\n",
      "(CVXPY) Jun 06 12:35:31 AM: Presolve started.\n",
      "(CVXPY) Jun 06 12:35:31 AM: Linear dependency checker started.\n",
      "(CVXPY) Jun 06 12:35:31 AM: Linear dependency checker terminated.\n",
      "(CVXPY) Jun 06 12:35:31 AM: Eliminator started.\n",
      "(CVXPY) Jun 06 12:35:31 AM: Freed constraints in eliminator : 0\n",
      "(CVXPY) Jun 06 12:35:31 AM: Eliminator terminated.\n",
      "(CVXPY) Jun 06 12:35:31 AM: Eliminator - tries                  : 1                 time                   : 0.00            \n",
      "(CVXPY) Jun 06 12:35:31 AM: Lin. dep.  - tries                  : 1                 time                   : 0.00            \n",
      "(CVXPY) Jun 06 12:35:31 AM: Lin. dep.  - primal attempts        : 1                 successes              : 1               \n",
      "(CVXPY) Jun 06 12:35:31 AM: Lin. dep.  - dual attempts          : 0                 successes              : 0               \n",
      "(CVXPY) Jun 06 12:35:31 AM: Lin. dep.  - primal deps.           : 0                 dual deps.             : 0               \n",
      "(CVXPY) Jun 06 12:35:31 AM: Presolve terminated. Time: 0.19    \n",
      "(CVXPY) Jun 06 12:35:31 AM: Optimizer  - threads                : 4               \n",
      "(CVXPY) Jun 06 12:35:31 AM: Optimizer  - solved problem         : the primal      \n",
      "(CVXPY) Jun 06 12:35:31 AM: Optimizer  - Constraints            : 1959            \n",
      "(CVXPY) Jun 06 12:35:31 AM: Optimizer  - Cones                  : 13              \n",
      "(CVXPY) Jun 06 12:35:31 AM: Optimizer  - Scalar variables       : 63183             conic                  : 50518           \n",
      "(CVXPY) Jun 06 12:35:31 AM: Optimizer  - Semi-definite variables: 0                 scalarized             : 0               \n",
      "(CVXPY) Jun 06 12:35:31 AM: Factor     - setup time             : 0.16            \n",
      "(CVXPY) Jun 06 12:35:31 AM: Factor     - dense det. time        : 0.00              GP order time          : 0.00            \n",
      "(CVXPY) Jun 06 12:35:31 AM: Factor     - nonzeros before factor : 2.46e+05          after factor           : 2.47e+05        \n",
      "(CVXPY) Jun 06 12:35:31 AM: Factor     - dense dim.             : 4                 flops                  : 8.21e+07        \n",
      "(CVXPY) Jun 06 12:35:31 AM: ITE PFEAS    DFEAS    GFEAS    PRSTATUS   POBJ              DOBJ              MU       TIME  \n",
      "(CVXPY) Jun 06 12:35:31 AM: 0   1.4e+02  2.3e+02  1.4e+01  0.00e+00   -1.300000000e+01  -0.000000000e+00  1.0e+00  0.50  \n",
      "(CVXPY) Jun 06 12:35:31 AM: 1   1.2e+02  1.9e+02  1.3e+01  -9.63e-01  4.679787643e+03   4.692415819e+03   8.4e-01  0.55  \n",
      "(CVXPY) Jun 06 12:35:31 AM: 2   7.5e+01  1.2e+02  9.1e+00  -8.68e-01  6.575663964e+03   6.586712761e+03   5.3e-01  0.58  \n",
      "(CVXPY) Jun 06 12:35:31 AM: 3   3.3e+01  5.4e+01  4.7e+00  -6.48e-01  5.483660804e+03   5.491376940e+03   2.3e-01  0.61  \n",
      "(CVXPY) Jun 06 12:35:31 AM: 4   1.7e+01  2.8e+01  2.3e+00  -1.90e-01  2.759695648e+03   2.764885110e+03   1.2e-01  0.64  \n",
      "(CVXPY) Jun 06 12:35:31 AM: 5   1.4e+01  2.3e+01  1.8e+00  1.40e-01   2.641460111e+03   2.645958464e+03   9.9e-02  0.67  \n",
      "(CVXPY) Jun 06 12:35:31 AM: 6   6.9e+00  1.1e+01  7.0e-01  3.32e-01   1.135836563e+03   1.138391456e+03   4.9e-02  0.70  \n",
      "(CVXPY) Jun 06 12:35:31 AM: 7   2.6e+00  4.3e+00  1.7e-01  6.90e-01   6.433717496e+02   6.443825583e+02   1.8e-02  0.73  \n",
      "(CVXPY) Jun 06 12:35:31 AM: 8   7.7e-01  1.3e+00  2.9e-02  9.19e-01   2.519392152e+02   2.522318222e+02   5.5e-03  0.77  \n",
      "(CVXPY) Jun 06 12:35:32 AM: 9   1.9e-01  3.1e-01  3.7e-03  1.00e+00   1.112136823e+02   1.112831916e+02   1.4e-03  0.80  \n",
      "(CVXPY) Jun 06 12:35:32 AM: 10  5.2e-02  8.4e-02  5.2e-04  1.01e+00   6.185792813e+01   6.187635074e+01   3.6e-04  0.84  \n",
      "(CVXPY) Jun 06 12:35:32 AM: 11  1.3e-02  2.2e-02  7.0e-05  1.00e+00   4.731442626e+01   4.731918194e+01   9.5e-05  0.88  \n",
      "(CVXPY) Jun 06 12:35:32 AM: 12  4.1e-03  6.7e-03  1.2e-05  1.00e+00   4.361501519e+01   4.361646033e+01   2.9e-05  0.91  \n",
      "(CVXPY) Jun 06 12:35:32 AM: 13  1.3e-03  2.1e-03  2.1e-06  9.99e-01   4.251789702e+01   4.251835712e+01   9.3e-06  0.94  \n",
      "(CVXPY) Jun 06 12:35:32 AM: 14  4.8e-04  7.9e-04  4.9e-07  9.99e-01   4.220398669e+01   4.220415339e+01   3.4e-06  0.97  \n",
      "(CVXPY) Jun 06 12:35:32 AM: 15  1.1e-04  1.7e-04  5.0e-08  1.00e+00   4.207786880e+01   4.207790508e+01   7.5e-07  1.02  \n",
      "(CVXPY) Jun 06 12:35:32 AM: 16  6.0e-06  9.7e-06  6.2e-10  1.00e+00   4.204776556e+01   4.204776775e+01   4.2e-08  1.05  \n",
      "(CVXPY) Jun 06 12:35:32 AM: 17  5.6e-06  9.1e-06  5.3e-10  5.71e-01   4.204729098e+01   4.204729299e+01   3.9e-08  1.08  \n",
      "(CVXPY) Jun 06 12:35:32 AM: 18  4.8e-06  7.8e-06  4.2e-10  9.28e-01   4.204684154e+01   4.204684326e+01   3.3e-08  1.11  \n",
      "(CVXPY) Jun 06 12:35:32 AM: 19  3.2e-06  5.3e-06  2.4e-10  9.85e-01   4.204654155e+01   4.204654271e+01   2.2e-08  1.14  \n",
      "(CVXPY) Jun 06 12:35:32 AM: 20  1.6e-06  2.6e-06  8.3e-11  9.43e-01   4.204577094e+01   4.204577151e+01   1.1e-08  1.17  \n",
      "(CVXPY) Jun 06 12:35:32 AM: 21  4.1e-07  2.9e-06  5.0e-12  1.02e+00   4.204543515e+01   4.204543523e+01   1.7e-09  1.20  \n",
      "(CVXPY) Jun 06 12:35:32 AM: 22  2.3e-07  3.5e-06  2.1e-12  9.95e-01   4.204540413e+01   4.204540417e+01   9.4e-10  1.27  \n",
      "(CVXPY) Jun 06 12:35:32 AM: Optimizer terminated. Time: 1.28    \n",
      "(CVXPY) Jun 06 12:35:32 AM: \n",
      "(CVXPY) Jun 06 12:35:32 AM: \n",
      "(CVXPY) Jun 06 12:35:32 AM: Interior-point solution summary\n"
     ]
    },
    {
     "name": "stdout",
     "output_type": "stream",
     "text": [
      "(CVXPY) Jun 06 12:35:32 AM:   Problem status  : PRIMAL_AND_DUAL_FEASIBLE\n",
      "(CVXPY) Jun 06 12:35:32 AM:   Solution status : OPTIMAL\n",
      "(CVXPY) Jun 06 12:35:32 AM:   Primal.  obj: 4.2045404128e+01    nrm: 1e+02    Viol.  con: 5e-06    var: 6e-07    cones: 0e+00  \n",
      "(CVXPY) Jun 06 12:35:32 AM:   Dual.    obj: 4.2045404171e+01    nrm: 6e+03    Viol.  con: 0e+00    var: 1e-08    cones: 0e+00  \n",
      "-------------------------------------------------------------------------------\n",
      "                                    Summary                                    \n",
      "-------------------------------------------------------------------------------\n",
      "(CVXPY) Jun 06 12:35:32 AM: Problem status: optimal\n",
      "(CVXPY) Jun 06 12:35:32 AM: Optimal value: 4.205e+01\n",
      "(CVXPY) Jun 06 12:35:32 AM: Compilation took 9.531e-01 seconds\n",
      "(CVXPY) Jun 06 12:35:32 AM: Solver (including time spent in interface) took 1.781e+00 seconds\n",
      "Creating BEV..\n",
      "Loading full influence matrix..\n",
      "Done\n"
     ]
    }
   ],
   "source": [
    "data_dir = r'../data'\n",
    "data = pp.DataExplorer(data_dir=data_dir)\n",
    "patient_id = 'Lung_Phantom_Patient_1'\n",
    "data.patient_id = patient_id\n",
    "ct = pp.CT(data)\n",
    "structs = pp.Structures(data)\n",
    "beams = pp.Beams(data)\n",
    "opt_params = data.load_config_opt_params(protocol_name='Lung_2Gy_30Fx')\n",
    "structs.create_opt_structures(opt_params)\n",
    "inf_matrix_sparse = pp.InfluenceMatrix(ct=ct, structs=structs, beams=beams)\n",
    "protocol_name = 'Lung_2Gy_30Fx'\n",
    "clinical_criteria = pp.ClinicalCriteria(data, protocol_name)\n",
    "plan_sparse = pp.Plan(ct, structs, beams, inf_matrix_sparse, clinical_criteria)\n",
    "opt = pp.Optimization(plan_sparse, opt_params=opt_params)\n",
    "opt.create_cvxpy_problem()\n",
    "\n",
    "sol_sparse = opt.solve(solver='MOSEK', verbose=True)\n",
    "dose_sparse_1d = plan_sparse.inf_matrix.A @ (sol_sparse['optimal_intensity'] * plan_sparse.get_num_of_fractions())\n",
    "x_sparse =sol_sparse['optimal_intensity'] * plan_sparse.get_num_of_fractions()\n",
    "\n",
    "beams_full = pp.Beams(data, load_inf_matrix_full=True)\n",
    "inf_matrix_full = pp.InfluenceMatrix(ct=ct, structs=structs, beams=beams_full, is_full=True)\n",
    "plan_full = pp.Plan(ct, structs, beams, inf_matrix_full, clinical_criteria)\n",
    "dose_full_1d = plan_full.inf_matrix.A @ (sol_sparse['optimal_intensity'] * plan_full.get_num_of_fractions())\n",
    "\n",
    "A_dense = plan_full.inf_matrix.A\n",
    "A_sparse = plan_sparse.inf_matrix.A\n"
   ]
  },
  {
   "cell_type": "code",
   "execution_count": 4,
   "id": "c8cb07c6",
   "metadata": {},
   "outputs": [
    {
     "name": "stdout",
     "output_type": "stream",
     "text": [
      "[[0. 0. 0. ... 0. 0. 0.]\n",
      " [0. 0. 0. ... 0. 0. 0.]\n",
      " [0. 0. 0. ... 0. 0. 0.]\n",
      " ...\n",
      " [0. 0. 0. ... 0. 0. 0.]\n",
      " [0. 0. 0. ... 0. 0. 0.]\n",
      " [0. 0. 0. ... 0. 0. 0.]]\n",
      "زمان ساخت ماتریس : 274.12364649772644 ثانیه\n"
     ]
    }
   ],
   "source": [
    "start_time = time.time()\n",
    "\n",
    "def importance_sampling(A, c):\n",
    "    m, n = A.shape\n",
    "    S = np.zeros((m, c))\n",
    "\n",
    "    for i in range(n):\n",
    "        # محاسبه احتمال p_i\n",
    "        p_i = calculate_probability(A[:, i])\n",
    "\n",
    "        for j in range(c):\n",
    "            # نمونه‌برداری با احتمال p_i و افزودن به S_(:.j)\n",
    "            sample = np.random.choice(m, p=p_i)\n",
    "            S[:, j] += A[:, i] / p_i[sample]\n",
    "\n",
    "    # مقیاس بندی مجدد\n",
    "    S /= c\n",
    "\n",
    "    return S\n",
    "\n",
    "def calculate_probability(row):\n",
    "    \n",
    "    # محاسبه احتمال p_i بر اساس مقدارهای ردیف A_(:.i)\n",
    "    return row / np.sum(row)\n",
    " \n",
    "c = 542\n",
    "A = A_dense\n",
    "\n",
    "result = importance_sampling(A, c)\n",
    "print(result)\n",
    "\n",
    "end_time = time.time()\n",
    "total_execution_time = end_time - start_time\n",
    "print(f\"زمان ساخت ماتریس : {total_execution_time} ثانیه\")"
   ]
  },
  {
   "cell_type": "code",
   "execution_count": 5,
   "id": "00721dcb",
   "metadata": {},
   "outputs": [
    {
     "name": "stdout",
     "output_type": "stream",
     "text": [
      " S = (542, 60183)\n",
      " A = (60183, 542)\n",
      " p = (60183,)\n"
     ]
    }
   ],
   "source": [
    "S = result.T\n",
    "A = A_dense\n",
    "p = dose_full_1d\n",
    "print(f' S = {S.shape}\\n A = {A.shape}\\n p = {p.shape}')"
   ]
  },
  {
   "cell_type": "markdown",
   "id": "0acdd72e",
   "metadata": {},
   "source": [
    "<center> \n",
    "Minimize $\\lVert Ax - p \\rVert_{2}^2$\n",
    "</center>\n",
    "<center>\n",
    "subject to $x \\succeq 0$\n",
    "</center>\n",
    "\n",
    "                                                            p = دوزتجویزی"
   ]
  },
  {
   "cell_type": "code",
   "execution_count": 6,
   "id": "12eeda34",
   "metadata": {},
   "outputs": [
    {
     "name": "stdout",
     "output_type": "stream",
     "text": [
      "زمان حل مسُله  0.6212918758392334 ثانیه\n"
     ]
    }
   ],
   "source": [
    "start_time = time.time()\n",
    "\n",
    "# حل مسئله کمترین مربعات با قید نامنفی بودن x\n",
    "sol_dense = lsq_linear (A, p, bounds=(0, np.inf))\n",
    "\n",
    "end_time = time.time ()\n",
    "\n",
    "total_execution_time = end_time - start_time\n",
    "print(f\"زمان حل مسُله  {total_execution_time} ثانیه\")\n",
    "\n",
    "# چاپ بردار x بهینه\n",
    "# print(f\"بردار x بهینه: {result.x}\")\n"
   ]
  },
  {
   "cell_type": "markdown",
   "id": "6ceb70c3",
   "metadata": {},
   "source": [
    "<center> \n",
    "Minimize $\\lVert SAx - Sp \\rVert_{2}^2$\n",
    "</center>\n",
    "<center>\n",
    "subject to $x \\succeq 0$\n",
    "</center>"
   ]
  },
  {
   "cell_type": "code",
   "execution_count": 7,
   "id": "f5ec203c",
   "metadata": {},
   "outputs": [
    {
     "name": "stdout",
     "output_type": "stream",
     "text": [
      "زمان حل مسُله  0.2413651943206787 ثانیه\n"
     ]
    }
   ],
   "source": [
    "start_time = time.time()\n",
    "\n",
    "# حل مسئله کمترین مربعات با قید نامنفی بودن x\n",
    "sol_sampling = lsq_linear (S @ A , S @ p, bounds=(0, np.inf))\n",
    "\n",
    "end_time = time.time()\n",
    "\n",
    "total_execution_time = end_time - start_time\n",
    "print(f\"زمان حل مسُله  {total_execution_time} ثانیه\")\n",
    "\n",
    "# print(f\"بردار x بهینه: {x_JL_1.x}\")\n"
   ]
  },
  {
   "cell_type": "code",
   "execution_count": 8,
   "id": "db3976f3",
   "metadata": {},
   "outputs": [],
   "source": [
    "x_dense = sol_dense.x\n",
    "x_sampling = sol_sampling.x"
   ]
  },
  {
   "cell_type": "code",
   "execution_count": 14,
   "id": "10a5be84",
   "metadata": {},
   "outputs": [
    {
     "data": {
      "image/png": "[encoded data removed]",
      "text/plain": [
       "<Figure size 700x500 with 1 Axes>"
      ]
     },
     "metadata": {},
     "output_type": "display_data"
    },
    {
     "name": "stdout",
     "output_type": "stream",
     "text": [
      "Done!\n"
     ]
    }
   ],
   "source": [
    "#DVH\n",
    "\n",
    "dose_full = plan_full.inf_matrix.A @ x_dense\n",
    "dose_sampling = plan_full.inf_matrix.A @ x_sampling\n",
    "\n",
    "\n",
    "fig, ax = plt.subplots(figsize=(7, 5))\n",
    "struct_names = ['PTV', 'ESOPHAGUS', 'HEART', 'CORD']\n",
    "ax = pp.Visualization.plot_dvh(plan_full, dose_1d=dose_sampling, struct_names=struct_names, style='solid', ax=ax)\n",
    "ax = pp.Visualization.plot_dvh(plan_full, dose_1d=dose_full, struct_names=struct_names, style='dotted', ax=ax)\n",
    "ax.set_title('-  Sampling   .. Dense ')\n",
    "plt.show()\n",
    "print('Done!')"
   ]
  },
  {
   "cell_type": "raw",
   "id": "d2f4b7d0",
   "metadata": {},
   "source": [
    " x_sampling = sol_ls_S[0]\n",
    "cost = sum_squares(S @ A @ x_sampling - S @ p)\n",
    "prob = Problem(Minimize(cost))\n",
    "sol = prob.solve(solver='MOSEK', verbose=False)\n",
    "sol"
   ]
  },
  {
   "cell_type": "markdown",
   "id": "6c64571d",
   "metadata": {},
   "source": [
    "# visualize plan metrics based upon clinical criteria\n",
    "pp.Evaluation.display_clinical_criteria(plan_full, sol=sol)"
   ]
  },
  {
   "cell_type": "code",
   "execution_count": 18,
   "id": "685658b8",
   "metadata": {
    "scrolled": true
   },
   "outputs": [
    {
     "name": "stdout",
     "output_type": "stream",
     "text": [
      "Objective Start\n",
      "Objective done\n",
      "Constraints Start\n",
      "Structure ESOPHAGUS not available!\n",
      "Structure ESOPHAGUS not available!\n",
      "Constraints done\n"
     ]
    }
   ],
   "source": [
    "opt = pp.Optimization(plan_full, opt_params=opt_params)\n",
    "opt.create_cvxpy_problem()\n",
    "\n",
    "sol_full = opt.solve(solver='MOSEK', verbose=False)\n",
    "\n",
    "x_dense = sol_full['optimal_intensity'] * plan_full.get_num_of_fractions()"
   ]
  },
  {
   "cell_type": "code",
   "execution_count": 20,
   "id": "2d298528",
   "metadata": {
    "collapsed": true
   },
   "outputs": [
    {
     "ename": "ValueError",
     "evalue": "matmul: Input operand 1 does not have enough dimensions (has 0, gufunc core with signature (n?,k),(k,m?)->(n?,m?) requires 1)",
     "output_type": "error",
     "traceback": [
      "\u001b[1;31m---------------------------------------------------------------------------\u001b[0m",
      "\u001b[1;31mValueError\u001b[0m                                Traceback (most recent call last)",
      "Cell \u001b[1;32mIn[20], line 3\u001b[0m\n\u001b[0;32m      1\u001b[0m \u001b[38;5;66;03m# DVH Plot\u001b[39;00m\n\u001b[0;32m      2\u001b[0m dose_dense \u001b[38;5;241m=\u001b[39m plan_full\u001b[38;5;241m.\u001b[39minf_matrix\u001b[38;5;241m.\u001b[39mA \u001b[38;5;241m@\u001b[39m x_dense\n\u001b[1;32m----> 3\u001b[0m dose_sampling \u001b[38;5;241m=\u001b[39m plan_full\u001b[38;5;241m.\u001b[39minf_matrix\u001b[38;5;241m.\u001b[39mA \u001b[38;5;241m@\u001b[39m x_sampling \n\u001b[0;32m      7\u001b[0m fig, ax \u001b[38;5;241m=\u001b[39m plt\u001b[38;5;241m.\u001b[39msubplots(figsize\u001b[38;5;241m=\u001b[39m(\u001b[38;5;241m8\u001b[39m, \u001b[38;5;241m5\u001b[39m))\n\u001b[0;32m      8\u001b[0m struct_names \u001b[38;5;241m=\u001b[39m [\u001b[38;5;124m'\u001b[39m\u001b[38;5;124mPTV\u001b[39m\u001b[38;5;124m'\u001b[39m, \u001b[38;5;124m'\u001b[39m\u001b[38;5;124mESOPHAGUS\u001b[39m\u001b[38;5;124m'\u001b[39m, \u001b[38;5;124m'\u001b[39m\u001b[38;5;124mHEART\u001b[39m\u001b[38;5;124m'\u001b[39m, \u001b[38;5;124m'\u001b[39m\u001b[38;5;124mCORD\u001b[39m\u001b[38;5;124m'\u001b[39m]\n",
      "\u001b[1;31mValueError\u001b[0m: matmul: Input operand 1 does not have enough dimensions (has 0, gufunc core with signature (n?,k),(k,m?)->(n?,m?) requires 1)"
     ]
    }
   ],
   "source": [
    "# DVH Plot\n",
    "dose_dense = plan_full.inf_matrix.A @ x_dense\n",
    "dose_sampling = plan_full.inf_matrix.A @ x_sampling \n",
    "\n",
    "\n",
    "\n",
    "fig, ax = plt.subplots(figsize=(8, 5))\n",
    "struct_names = ['PTV', 'ESOPHAGUS', 'HEART', 'CORD']\n",
    "ax = pp.Visualization.plot_dvh(plan_full, dose_1d= dose_sampling, struct_names=struct_names, style='solid', ax=ax)\n",
    "ax = pp.Visualization.plot_dvh(plan_full, dose_1d=dose_full, struct_names=struct_names, style='dotted', ax=ax)\n",
    "ax.set_title('- Sampling Matrix ...  dense')\n",
    "plt.show()\n",
    "print('Done!')"
   ]
  },
  {
   "cell_type": "code",
   "execution_count": 10,
   "id": "329dd468",
   "metadata": {},
   "outputs": [
    {
     "name": "stdout",
     "output_type": "stream",
     "text": [
      "Data Type: float64\n",
      "Shape: (60183,)\n",
      "Size: 60183\n"
     ]
    }
   ],
   "source": [
    "# نوع داده\n",
    "print(\"Data Type:\", dose_sampling.dtype)\n",
    "\n",
    "# ابعاد\n",
    "print(\"Shape:\", dose_sampling.shape)\n",
    "\n",
    "# تعداد کل عناصر\n",
    "print(\"Size:\", dose_sampling.size)\n"
   ]
  },
  {
   "cell_type": "code",
   "execution_count": 11,
   "id": "a1e80a48",
   "metadata": {},
   "outputs": [
    {
     "name": "stdout",
     "output_type": "stream",
     "text": [
      "                  0\n",
      "count  60183.000000\n",
      "mean       6.518793\n",
      "std       12.206109\n",
      "min        0.000000\n",
      "25%        0.343048\n",
      "50%        1.353335\n",
      "75%        6.466537\n",
      "max       73.870515\n"
     ]
    }
   ],
   "source": [
    "import pandas as pd\n",
    "\n",
    "# تبدیل numpy.ndarray به DataFrame\n",
    "dose_sampling_df = pd.DataFrame(dose_sampling)\n",
    "\n",
    "# استفاده از متد describe روی DataFrame\n",
    "description = dose_sampling_df.describe()\n",
    "\n",
    "# نمایش توضیحات\n",
    "print(description)\n"
   ]
  },
  {
   "cell_type": "code",
   "execution_count": null,
   "id": "70c2f2eb",
   "metadata": {},
   "outputs": [],
   "source": [
    "nonzero_count = np.count_nonzero(A_full)\n",
    "print(\"تعداد مقادیر غیر صفر ماتریس کامل: \", nonzero_count)\n",
    "num_non_zero = np.count_nonzero(B @ A)\n",
    "print(\"تعداد عناصر غیر صفر در ماتریس SA :\", num_non_zero)"
   ]
  },
  {
   "cell_type": "code",
   "execution_count": null,
   "id": "4888915a",
   "metadata": {},
   "outputs": [],
   "source": [
    "##  بررسی  پراکندگی ماتریس\n",
    "\n",
    "is_sparse = sparse.issparse(result)\n",
    "is_sparse"
   ]
  },
  {
   "cell_type": "code",
   "execution_count": null,
   "id": "dae6574e",
   "metadata": {},
   "outputs": [],
   "source": [
    "x_sampling = sol_ls_B[0]\n",
    "print(f'x :\\t {x_sampling[0:6]}')"
   ]
  },
  {
   "cell_type": "code",
   "execution_count": 16,
   "id": "65123c3a",
   "metadata": {},
   "outputs": [
    {
     "name": "stdout",
     "output_type": "stream",
     "text": [
      "خطای نسبی بین دو بردار: 0.15506539794204055\n"
     ]
    }
   ],
   "source": [
    "sol_ls_A_full = scipy.sparse.linalg.lsqr(A_dense, dose_sparse_1d)\n",
    "x_A_full = sol_ls_A_full[0]\n",
    "\n",
    "relative_error = np.linalg.norm(x_A_full - x_sampling) / np.linalg.norm(x_A_full)\n",
    "print(\"خطای نسبی بین دو بردار:\", relative_error)\n"
   ]
  },
  {
   "cell_type": "code",
   "execution_count": 15,
   "id": "432cef7d",
   "metadata": {},
   "outputs": [
    {
     "name": "stdout",
     "output_type": "stream",
     "text": [
      "x_A_full :\t [ 3.6748923  -1.87874125 -1.95530011 -2.4399406  12.06883105  5.92361035]\n"
     ]
    },
    {
     "data": {
      "text/plain": [
       "0.029430472233158783"
      ]
     },
     "execution_count": 15,
     "metadata": {},
     "output_type": "execute_result"
    }
   ],
   "source": [
    "x_A_full= sol_ls_A_full[0]\n",
    "print(f'x_A_full :\\t {x_A_full[0:6]}')\n",
    "\n",
    "cost = cp.sum_squares((A @ x_A_full  - A @ x_sampling  )/ cp.norm(A @ x_A_full))\n",
    "prob = cp.Problem(Minimize(cost))\n",
    "sol = prob.solve(solver='MOSEK', verbose=False)\n",
    "sol"
   ]
  },
  {
   "cell_type": "code",
   "execution_count": 17,
   "id": "c10a986d",
   "metadata": {},
   "outputs": [
    {
     "name": "stdout",
     "output_type": "stream",
     "text": [
      "x_A_full :\t [ 3.67488292 -1.8787623  -1.95529727 -2.43993656 12.0689664   5.92366068]\n"
     ]
    },
    {
     "data": {
      "text/plain": [
       "0.1715874574131074"
      ]
     },
     "execution_count": 17,
     "metadata": {},
     "output_type": "execute_result"
    }
   ],
   "source": [
    "import cvxpy as cp\n",
    "\n",
    "x_A_full = sol_ls_A_full[0]\n",
    "print(f'x_A_full :\\t {x_A_full[0:6]}')\n",
    "\n",
    "# تغییر تابع هدف به نرم فروبنیوس\n",
    "cost = cp.norm(A @ x_A_full - A @ x_sampling, \"fro\")/ cp.norm(A @ x_A_full, \"fro\")\n",
    "\n",
    "prob = cp.Problem(cp.Minimize(cost))\n",
    "\n",
    "prob.solve()\n"
   ]
  },
  {
   "cell_type": "code",
   "execution_count": 54,
   "id": "26fcba67",
   "metadata": {},
   "outputs": [
    {
     "name": "stdout",
     "output_type": "stream",
     "text": [
      "تعداد عناصر غیر صفر در ماتریس B: 0.8515859960453949\n",
      "تعداد عناصر غیر صفر در ماتریس B.A: 1.0\n",
      "تعداد عناصر غیر صفر در ماتریس کامل: 0.3151234981768092\n"
     ]
    }
   ],
   "source": [
    "#  تعداد عناصر غیر صفر\n",
    "num_non_zero_elements_dense = np.count_nonzero(B)/32619186\n",
    "print(\"تعداد عناصر غیر صفر در ماتریس B:\", num_non_zero_elements_dense)\n",
    "\n",
    "num_non_zero_elements_dense = np.count_nonzero(B @ A)/293764\n",
    "print(\"تعداد عناصر غیر صفر در ماتریس B.A:\", num_non_zero_elements_dense)\n",
    "\n",
    "num_non_zero_elements_A_full = np.count_nonzero(A_full)/32619186\n",
    "print(\"تعداد عناصر غیر صفر در ماتریس کامل:\", num_non_zero_elements_A_full)"
   ]
  },
  {
   "cell_type": "code",
   "execution_count": 29,
   "id": "3e3bb57e",
   "metadata": {},
   "outputs": [
    {
     "data": {
      "text/plain": [
       "9.95065527577104e-05"
      ]
     },
     "execution_count": 29,
     "metadata": {},
     "output_type": "execute_result"
    }
   ],
   "source": [
    "cost = cp.sum_squares((d  - A @ x_sampling  )/ cp.norm(d))\n",
    "prob = cp.Problem(Minimize(cost))\n",
    "prob.solve()"
   ]
  },
  {
   "cell_type": "code",
   "execution_count": 52,
   "id": "923fdebf",
   "metadata": {},
   "outputs": [
    {
     "name": "stdout",
     "output_type": "stream",
     "text": [
      "Mean Squared Error : 0.019059319313313693\n"
     ]
    }
   ],
   "source": [
    "## تابع (هدف)خطای میانگین مربعات\n",
    "## MSE = Mean Squared Error\n",
    "\n",
    "d_true = d          # دوز واقعی\n",
    "d_pred = A @ x_sampling   # دوز پیش‌بینی شده\n",
    "\n",
    "MSE = np.mean((d_true - d_pred) ** 2)\n",
    "print(\"Mean Squared Error :\", MSE)\n"
   ]
  },
  {
   "cell_type": "code",
   "execution_count": 53,
   "id": "f23ec070",
   "metadata": {},
   "outputs": [
    {
     "name": "stdout",
     "output_type": "stream",
     "text": [
      "Mean Squared Error : 4.152210989224798\n"
     ]
    }
   ],
   "source": [
    "## تابع (هدف)خطای میانگین مربعات\n",
    "## MSE = Mean Squared Error\n",
    "\n",
    "d_true = A @ x_A_full         # دوز واقعی\n",
    "d_pred = A @ x_sampling   # دوز پیش‌بینی شده\n",
    "\n",
    "MSE = np.mean((d_true - d_pred) ** 2)\n",
    "print(\"Mean Squared Error :\", MSE)\n"
   ]
  },
  {
   "cell_type": "code",
   "execution_count": 33,
   "id": "dd9147e2",
   "metadata": {},
   "outputs": [
    {
     "name": "stdout",
     "output_type": "stream",
     "text": [
      " رتبه ماتریس تقریب = 542\n",
      "رتبه ماتریس کامل = 542\n"
     ]
    }
   ],
   "source": [
    "r1 = np.linalg.matrix_rank(B@A_full) \n",
    "r2 = np.linalg.matrix_rank(A_full)      \n",
    "print( f' رتبه ماتریس تقریب = {r1}\\nرتبه ماتریس کامل = {r2}')"
   ]
  },
  {
   "cell_type": "code",
   "execution_count": 38,
   "id": "c8a42fc8",
   "metadata": {},
   "outputs": [
    {
     "name": "stdout",
     "output_type": "stream",
     "text": [
      "میزان حافظه sol_ls_JL_1 : 0.00011444091796875 مگابایت\n"
     ]
    }
   ],
   "source": [
    "memory_usage_sol_ls_B = sys.getsizeof(sol_ls_B )\n",
    "megabyte_size_sol_ls_B = memory_usage_sol_ls_B / 1024 / 1024\n",
    "\n",
    "print(f\"میزان حافظه sol_ls_JL_1 : {megabyte_size_sol_ls_B} مگابایت\")"
   ]
  },
  {
   "cell_type": "code",
   "execution_count": 39,
   "id": "5de115ba",
   "metadata": {},
   "outputs": [
    {
     "name": "stdout",
     "output_type": "stream",
     "text": [
      "میزان حافظه ساخت JL_1 : 0.0001220703125 مگابایت\n"
     ]
    }
   ],
   "source": [
    "memory_usage_B = sys.getsizeof(B)\n",
    "megabyte_size_B = memory_usage_B / 1024 / 1024\n",
    "\n",
    "print(f\"میزان حافظه ساخت JL_1 : {megabyte_size_B} مگابایت\")"
   ]
  },
  {
   "cell_type": "code",
   "execution_count": 40,
   "id": "9c645274",
   "metadata": {},
   "outputs": [
    {
     "name": "stdout",
     "output_type": "stream",
     "text": [
      "نرم خطای نسبی بین دو بردار: 0.161246670645027\n"
     ]
    }
   ],
   "source": [
    "import numpy as np\n",
    "\n",
    "def calculate_relative_error(vector1, vector2):\n",
    "   \n",
    "    array1 = np.array(x_A_full)\n",
    "    array2 = np.array(x_sampling)\n",
    "\n",
    "    norm_vector2 = np.linalg.norm(x_A_full)\n",
    "\n",
    "    relative_error = np.linalg.norm(x_A_full - x_sampling) / norm_vector2\n",
    "\n",
    "    return relative_error\n",
    "\n",
    "error = calculate_relative_error(x_A_full, x_sampling)\n",
    "print(f\"نرم خطای نسبی بین دو بردار: {error}\")\n"
   ]
  },
  {
   "cell_type": "code",
   "execution_count": 41,
   "id": "77bd8c0c",
   "metadata": {},
   "outputs": [
    {
     "name": "stdout",
     "output_type": "stream",
     "text": [
      "نرم خطای مطلق بین دو بردار: 649.4220669789167\n"
     ]
    }
   ],
   "source": [
    "import numpy as np\n",
    "\n",
    "def calculate_absolute_error(vector1, vector2):\n",
    "    array1 = np.array(x_A_full)\n",
    "    array2 = np.array(x_sampling)\n",
    "\n",
    "    absolute_error = np.linalg.norm(array1 - array2, ord=1) \n",
    "\n",
    "    return absolute_error\n",
    "\n",
    "\n",
    "error = calculate_absolute_error(x_A_full, x_sampling)\n",
    "print(f\"نرم خطای مطلق بین دو بردار: {error}\")\n"
   ]
  },
  {
   "cell_type": "code",
   "execution_count": 56,
   "id": "0e7cf149",
   "metadata": {
    "collapsed": true,
    "jupyter": {
     "outputs_hidden": true
    }
   },
   "outputs": [
    {
     "ename": "ValueError",
     "evalue": "operands could not be broadcast together with shapes (60183,542) (542,542) ",
     "output_type": "error",
     "traceback": [
      "\u001b[1;31m---------------------------------------------------------------------------\u001b[0m",
      "\u001b[1;31mValueError\u001b[0m                                Traceback (most recent call last)",
      "Cell \u001b[1;32mIn[56], line 10\u001b[0m\n\u001b[0;32m      6\u001b[0m     absolute_error \u001b[38;5;241m=\u001b[39m np\u001b[38;5;241m.\u001b[39msum(np\u001b[38;5;241m.\u001b[39mabs(array1 \u001b[38;5;241m-\u001b[39m array2))\n\u001b[0;32m      7\u001b[0m     \u001b[38;5;28;01mreturn\u001b[39;00m absolute_error\n\u001b[1;32m---> 10\u001b[0m absolute_errorr \u001b[38;5;241m=\u001b[39m calculate_absolute_error(A_full, B \u001b[38;5;241m@\u001b[39m A)\n\u001b[0;32m     11\u001b[0m \u001b[38;5;28mprint\u001b[39m(\u001b[38;5;124mf\u001b[39m\u001b[38;5;124m\"\u001b[39m\u001b[38;5;124mنرم خطای مطلق: \u001b[39m\u001b[38;5;132;01m{\u001b[39;00mabsolute_errorr\u001b[38;5;132;01m}\u001b[39;00m\u001b[38;5;124m\"\u001b[39m)\n",
      "Cell \u001b[1;32mIn[56], line 6\u001b[0m, in \u001b[0;36mcalculate_absolute_error\u001b[1;34m(matrix1, matrix2)\u001b[0m\n\u001b[0;32m      3\u001b[0m array1 \u001b[38;5;241m=\u001b[39m np\u001b[38;5;241m.\u001b[39marray(A_full)\n\u001b[0;32m      4\u001b[0m array2 \u001b[38;5;241m=\u001b[39m np\u001b[38;5;241m.\u001b[39marray(B \u001b[38;5;241m@\u001b[39m A)\n\u001b[1;32m----> 6\u001b[0m absolute_error \u001b[38;5;241m=\u001b[39m np\u001b[38;5;241m.\u001b[39msum(np\u001b[38;5;241m.\u001b[39mabs(array1 \u001b[38;5;241m-\u001b[39m array2))\n\u001b[0;32m      7\u001b[0m \u001b[38;5;28;01mreturn\u001b[39;00m absolute_error\n",
      "\u001b[1;31mValueError\u001b[0m: operands could not be broadcast together with shapes (60183,542) (542,542) "
     ]
    }
   ],
   "source": [
    "def calculate_absolute_error(matrix1, matrix2):\n",
    "    \n",
    "    array1 = np.array(A_full)\n",
    "    array2 = np.array(B @ A)\n",
    "\n",
    "    absolute_error = np.sum(np.abs(array1 - array2))\n",
    "    return absolute_error\n",
    "\n",
    "\n",
    "absolute_errorr = calculate_absolute_error(A_full, B @ A)\n",
    "print(f\"نرم خطای مطلق: {absolute_errorr}\")\n"
   ]
  },
  {
   "cell_type": "raw",
   "id": "1cad8563",
   "metadata": {},
   "source": [
    "#min_c = 1\n",
    "#max_c = A_sparse.shape[1]\n",
    "#c = random.randint(min_c, max_c)\n",
    "c = 300\n",
    "result_B = compute_B(A_full, c)\n",
    "print(f\"مقدار تصادفی c: {c}\")\n",
    "print(result_B)"
   ]
  },
  {
   "cell_type": "code",
   "execution_count": 35,
   "id": "992155f6",
   "metadata": {
    "scrolled": true
   },
   "outputs": [],
   "source": [
    "import numpy as np\n",
    "\n",
    "def compute_probability(row):\n",
    "    row_sum = np.sum(row)\n",
    "    if row_sum == 0:\n",
    "        return 0\n",
    "    else:\n",
    "        return np.sum(row) / row_sum\n",
    "\n",
    "def insert_and_rescale(B, i, j, pi):\n",
    "    B[:, j] += pi * A_full[:, i]\n",
    "\n",
    "def compute_B(A, c):\n",
    "    \n",
    "    if c < 1 or c > n:\n",
    "        raise ValueError(\"c باید بین 1 و n قرار داشته باشد.\")\n",
    "    \n",
    "    B_2 = np.zeros((d, c))\n",
    "\n",
    "    for i in range(n):\n",
    "        pi = compute_probability(A_full[:, i])\n",
    "        for j in range(c):\n",
    "            insert_and_rescale(B, i, j, pi)\n",
    "\n",
    "    return B_2\n"
   ]
  },
  {
   "cell_type": "markdown",
   "id": "966f1e86",
   "metadata": {},
   "source": [
    "B = B[:, np.newaxis]"
   ]
  },
  {
   "cell_type": "code",
   "execution_count": 36,
   "id": "7c5dc749",
   "metadata": {
    "collapsed": true,
    "jupyter": {
     "outputs_hidden": true
    }
   },
   "outputs": [
    {
     "ename": "NameError",
     "evalue": "name 'n' is not defined",
     "output_type": "error",
     "traceback": [
      "\u001b[1;31m---------------------------------------------------------------------------\u001b[0m",
      "\u001b[1;31mNameError\u001b[0m                                 Traceback (most recent call last)",
      "Cell \u001b[1;32mIn[36], line 1\u001b[0m\n\u001b[1;32m----> 1\u001b[0m B_2 \u001b[38;5;241m=\u001b[39m compute_B(A, c)\n\u001b[0;32m      2\u001b[0m B_2\n",
      "Cell \u001b[1;32mIn[35], line 15\u001b[0m, in \u001b[0;36mcompute_B\u001b[1;34m(A, c)\u001b[0m\n\u001b[0;32m     13\u001b[0m \u001b[38;5;28;01mdef\u001b[39;00m \u001b[38;5;21mcompute_B\u001b[39m(A, c):\n\u001b[1;32m---> 15\u001b[0m     \u001b[38;5;28;01mif\u001b[39;00m c \u001b[38;5;241m<\u001b[39m \u001b[38;5;241m1\u001b[39m \u001b[38;5;129;01mor\u001b[39;00m c \u001b[38;5;241m>\u001b[39m n:\n\u001b[0;32m     16\u001b[0m         \u001b[38;5;28;01mraise\u001b[39;00m \u001b[38;5;167;01mValueError\u001b[39;00m(\u001b[38;5;124m\"\u001b[39m\u001b[38;5;124mc باید بین 1 و n قرار داشته باشد.\u001b[39m\u001b[38;5;124m\"\u001b[39m)\n\u001b[0;32m     18\u001b[0m     B_2 \u001b[38;5;241m=\u001b[39m np\u001b[38;5;241m.\u001b[39mzeros((d, c))\n",
      "\u001b[1;31mNameError\u001b[0m: name 'n' is not defined"
     ]
    }
   ],
   "source": [
    "B_2 = compute_B(A, c)\n",
    "B_2"
   ]
  },
  {
   "cell_type": "code",
   "execution_count": 37,
   "id": "11aadbff",
   "metadata": {},
   "outputs": [
    {
     "name": "stdout",
     "output_type": "stream",
     "text": [
      "\n",
      "A = (60183, 542)\n",
      "D = (60183,)\n",
      "\n",
      "d= 60183\n",
      "n = 542\n"
     ]
    }
   ],
   "source": [
    "#B = B_1.transpose()    B = {B.shape}\n",
    "A = A_full\n",
    "D = dose_full_1d  \n",
    "print(f'\\nA = {A.shape}\\nD = {D.shape}')\n",
    "#d,n = A.shape\n",
    "print(f\"\\nd= {A.shape[0]}\\nn = {A.shape[1]}\")"
   ]
  },
  {
   "cell_type": "raw",
   "id": "67b69c3d",
   "metadata": {},
   "source": [
    "import numpy as np\n",
    "\n",
    "def importance_sampling(A, c):\n",
    "    if c < 1 or c > A.shape[0]:\n",
    "        raise ValueError(\"c باید بین 1 و تعداد ستون‌های A قرار داشته باشد.\")\n",
    "\n",
    "    n = A.shape[0]\n",
    "    B = np.zeros((n, c))\n",
    "    total_weight = np.sum(A)\n",
    "\n",
    "    for i in range(n):\n",
    "        pi = A[i] / total_weight\n",
    "        # تعداد نمونه‌ها برابر با اندازه واقعی A\n",
    "        num_samples = min(c, A.shape[0])\n",
    "        # ایجاد یک کپی از A با تعداد ستون‌های c\n",
    "        A_copy = np.hstack([A[i, :], np.zeros(c - A.shape[0])])\n",
    "        # استفاده از np.random.multinomial برای انتخاب نمونه‌ها با توزیع چندجمله‌ای\n",
    "        samples = np.random.multinomial(num_samples, pi, size=1)\n",
    "        B[i, :] = A_copy * samples / num_samples\n",
    "\n",
    "    return B\n",
    "\n",
    "# مثال استفاده\n",
    "d = 60183\n",
    "n = 542\n",
    "#c = np.random.randint(1, n + 1)  # انتخاب یک مقدار تصادفی برای c بین 1 و n\n",
    "c = 542\n",
    "\n",
    "d, n = A.shape\n",
    "result = importance_sampling(A, c)\n",
    "print(result)\n"
   ]
  }
 ],
 "metadata": {
  "kernelspec": {
   "display_name": "Python 3 (ipykernel)",
   "language": "python",
   "name": "python3"
  },
  "language_info": {
   "codemirror_mode": {
    "name": "ipython",
    "version": 3
   },
   "file_extension": ".py",
   "mimetype": "text/x-python",
   "name": "python",
   "nbconvert_exporter": "python",
   "pygments_lexer": "ipython3",
   "version": "3.10.9"
  }
 },
 "nbformat": 4,
 "nbformat_minor": 5
}
