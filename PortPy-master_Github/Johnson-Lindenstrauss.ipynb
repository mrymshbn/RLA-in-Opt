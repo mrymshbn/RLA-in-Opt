{
 "cells": [
  {
   "cell_type": "code",
   "execution_count": 1,
   "id": "78e194df",
   "metadata": {},
   "outputs": [],
   "source": [
    "import scipy\n",
    "import random\n",
    "import portpy.photon as pp\n",
    "import numpy as np\n",
    "from cvxpy import *\n",
    "from scipy import sparse\n",
    "import sklearn.metrics\n",
    "import cProfile\n",
    "import time\n",
    "import sys\n",
    "import psutil\n",
    "from sklearn.decomposition import PCA\n",
    "from scipy.linalg import hadamard\n",
    "import matplotlib.pyplot as plt\n",
    "import cvxpy as cp"
   ]
  },
  {
   "cell_type": "code",
   "execution_count": 2,
   "id": "9da5c57d",
   "metadata": {
    "collapsed": true
   },
   "outputs": [
    {
     "name": "stdout",
     "output_type": "stream",
     "text": [
      "creating rinds.. This step may take some time due to dilation\n",
      "rinds created!!\n",
      "Creating BEV..\n",
      "Loading sparse influence matrix...\n",
      "Done\n",
      "Objective Start\n",
      "Objective done\n",
      "Constraints Start\n",
      "Structure ESOPHAGUS not available!\n",
      "Structure ESOPHAGUS not available!\n",
      "Constraints done\n",
      "===============================================================================\n",
      "                                     CVXPY                                     \n",
      "                                     v1.3.1                                    \n",
      "===============================================================================\n",
      "(CVXPY) May 28 01:31:37 PM: Your problem has 1946 variables, 14 constraints, and 0 parameters.\n",
      "(CVXPY) May 28 01:31:37 PM: It is compliant with the following grammars: DCP, DQCP\n",
      "(CVXPY) May 28 01:31:37 PM: (If you need to solve this problem multiple times, but with different data, consider using parameters.)\n",
      "(CVXPY) May 28 01:31:37 PM: CVXPY will first compile your problem; then, it will invoke a numerical solver to obtain a solution.\n",
      "-------------------------------------------------------------------------------\n",
      "                                  Compilation                                  \n",
      "-------------------------------------------------------------------------------\n",
      "(CVXPY) May 28 01:31:37 PM: Compiling problem (target solver=MOSEK).\n",
      "(CVXPY) May 28 01:31:37 PM: Reduction chain: Dcp2Cone -> CvxAttr2Constr -> ConeMatrixStuffing -> MOSEK\n",
      "(CVXPY) May 28 01:31:37 PM: Applying reduction Dcp2Cone\n",
      "(CVXPY) May 28 01:31:37 PM: Applying reduction CvxAttr2Constr\n",
      "(CVXPY) May 28 01:31:37 PM: Applying reduction ConeMatrixStuffing\n",
      "(CVXPY) May 28 01:31:39 PM: Applying reduction MOSEK\n",
      "(CVXPY) May 28 01:31:39 PM: Finished problem compilation (took 2.478e+00 seconds).\n",
      "-------------------------------------------------------------------------------\n",
      "                                Numerical solver                               \n",
      "-------------------------------------------------------------------------------\n",
      "(CVXPY) May 28 01:31:39 PM: Invoking solver MOSEK  to obtain a solution.\n",
      "\n",
      "\n",
      "(CVXPY) May 28 01:31:41 PM: Problem\n",
      "(CVXPY) May 28 01:31:41 PM:   Name                   :                 \n",
      "(CVXPY) May 28 01:31:41 PM:   Objective sense        : maximize        \n",
      "(CVXPY) May 28 01:31:41 PM:   Type                   : CONIC (conic optimization problem)\n",
      "(CVXPY) May 28 01:31:41 PM:   Constraints            : 1959            \n",
      "(CVXPY) May 28 01:31:41 PM:   Affine conic cons.     : 0               \n",
      "(CVXPY) May 28 01:31:41 PM:   Disjunctive cons.      : 0               \n",
      "(CVXPY) May 28 01:31:41 PM:   Cones                  : 13              \n",
      "(CVXPY) May 28 01:31:41 PM:   Scalar variables       : 215748          \n",
      "(CVXPY) May 28 01:31:41 PM:   Matrix variables       : 0               \n",
      "(CVXPY) May 28 01:31:41 PM:   Integer variables      : 0               \n",
      "(CVXPY) May 28 01:31:41 PM: \n",
      "(CVXPY) May 28 01:31:41 PM: Optimizer started.\n",
      "(CVXPY) May 28 01:31:41 PM: Presolve started.\n",
      "(CVXPY) May 28 01:31:41 PM: Linear dependency checker started.\n",
      "(CVXPY) May 28 01:31:41 PM: Linear dependency checker terminated.\n",
      "(CVXPY) May 28 01:31:41 PM: Eliminator started.\n",
      "(CVXPY) May 28 01:31:41 PM: Freed constraints in eliminator : 0\n",
      "(CVXPY) May 28 01:31:41 PM: Eliminator terminated.\n",
      "(CVXPY) May 28 01:31:41 PM: Eliminator - tries                  : 1                 time                   : 0.00            \n",
      "(CVXPY) May 28 01:31:41 PM: Lin. dep.  - tries                  : 1                 time                   : 0.03            \n",
      "(CVXPY) May 28 01:31:41 PM: Lin. dep.  - number                 : 0               \n",
      "(CVXPY) May 28 01:31:41 PM: Presolve terminated. Time: 0.44    \n",
      "(CVXPY) May 28 01:31:42 PM: Problem\n",
      "(CVXPY) May 28 01:31:42 PM:   Name                   :                 \n",
      "(CVXPY) May 28 01:31:42 PM:   Objective sense        : maximize        \n",
      "(CVXPY) May 28 01:31:42 PM:   Type                   : CONIC (conic optimization problem)\n",
      "(CVXPY) May 28 01:31:42 PM:   Constraints            : 1959            \n",
      "(CVXPY) May 28 01:31:42 PM:   Affine conic cons.     : 0               \n",
      "(CVXPY) May 28 01:31:42 PM:   Disjunctive cons.      : 0               \n",
      "(CVXPY) May 28 01:31:42 PM:   Cones                  : 13              \n",
      "(CVXPY) May 28 01:31:42 PM:   Scalar variables       : 215748          \n",
      "(CVXPY) May 28 01:31:42 PM:   Matrix variables       : 0               \n",
      "(CVXPY) May 28 01:31:42 PM:   Integer variables      : 0               \n",
      "(CVXPY) May 28 01:31:42 PM: \n",
      "(CVXPY) May 28 01:31:42 PM: Optimizer  - threads                : 2               \n",
      "(CVXPY) May 28 01:31:42 PM: Optimizer  - solved problem         : the primal      \n",
      "(CVXPY) May 28 01:31:42 PM: Optimizer  - Constraints            : 1959\n",
      "(CVXPY) May 28 01:31:42 PM: Optimizer  - Cones                  : 13\n",
      "(CVXPY) May 28 01:31:42 PM: Optimizer  - Scalar variables       : 80782             conic                  : 50518           \n",
      "(CVXPY) May 28 01:31:42 PM: Optimizer  - Semi-definite variables: 0                 scalarized             : 0               \n",
      "(CVXPY) May 28 01:31:42 PM: Factor     - setup time             : 0.42              dense det. time        : 0.00            \n",
      "(CVXPY) May 28 01:31:42 PM: Factor     - ML order time          : 0.16              GP order time          : 0.00            \n",
      "(CVXPY) May 28 01:31:42 PM: Factor     - nonzeros before factor : 2.46e+05          after factor           : 2.47e+05        \n",
      "(CVXPY) May 28 01:31:42 PM: Factor     - dense dim.             : 4                 flops                  : 8.22e+07        \n",
      "(CVXPY) May 28 01:31:42 PM: ITE PFEAS    DFEAS    GFEAS    PRSTATUS   POBJ              DOBJ              MU       TIME  \n",
      "(CVXPY) May 28 01:31:42 PM: 0   1.4e+02  4.6e+02  1.4e+01  0.00e+00   -1.300000000e+01  0.000000000e+00   1.0e+00  1.31  \n",
      "(CVXPY) May 28 01:31:42 PM: 1   1.2e+02  4.1e+02  1.3e+01  -9.86e-01  4.131473144e+03   4.144316302e+03   8.8e-01  1.53  \n",
      "(CVXPY) May 28 01:31:42 PM: 2   6.8e+01  2.2e+02  9.5e+00  -9.79e-01  3.094326949e+04   3.095500114e+04   4.8e-01  1.61  \n",
      "(CVXPY) May 28 01:31:42 PM: 3   3.7e+01  1.2e+02  6.7e+00  -9.13e-01  2.557584936e+04   2.558558020e+04   2.6e-01  1.70  \n",
      "(CVXPY) May 28 01:31:43 PM: 4   1.4e+01  4.5e+01  3.3e+00  -7.64e-01  1.640479432e+04   1.640934897e+04   9.8e-02  1.78  \n",
      "(CVXPY) May 28 01:31:43 PM: 5   5.6e+00  1.8e+01  1.3e+00  -3.34e-01  1.093889194e+04   1.093978543e+04   4.0e-02  1.86  \n",
      "(CVXPY) May 28 01:31:43 PM: 6   2.3e+00  7.5e+00  4.3e-01  1.75e-01   6.846000428e+03   6.845975883e+03   1.6e-02  1.92  \n",
      "(CVXPY) May 28 01:31:43 PM: 7   8.9e-01  2.9e+00  1.1e-01  5.88e-01   3.360682466e+03   3.360609709e+03   6.3e-03  2.02  \n",
      "(CVXPY) May 28 01:31:43 PM: 8   3.5e-01  1.2e+00  3.0e-02  8.33e-01   1.471831416e+03   1.471769013e+03   2.5e-03  2.09  \n",
      "(CVXPY) May 28 01:31:43 PM: 9   1.3e-01  4.4e-01  7.2e-03  9.37e-01   5.963000267e+02   5.962595743e+02   9.5e-04  2.17  \n",
      "(CVXPY) May 28 01:31:43 PM: 10  5.4e-02  1.8e-01  1.9e-03  9.80e-01   2.794354503e+02   2.794136331e+02   3.8e-04  2.23  \n",
      "(CVXPY) May 28 01:31:43 PM: 11  1.9e-02  6.3e-02  4.1e-04  9.94e-01   1.242764277e+02   1.242668016e+02   1.4e-04  2.33  \n",
      "(CVXPY) May 28 01:31:43 PM: 12  7.8e-03  2.5e-02  1.1e-04  1.00e+00   7.813161372e+01   7.812729158e+01   5.5e-05  2.41  \n",
      "(CVXPY) May 28 01:31:43 PM: 13  2.8e-03  9.1e-03  2.3e-05  1.00e+00   5.422719759e+01   5.422550144e+01   2.0e-05  2.47  \n",
      "(CVXPY) May 28 01:31:43 PM: 14  1.3e-03  4.1e-03  7.1e-06  1.00e+00   4.690658089e+01   4.690577191e+01   8.9e-06  2.56  \n",
      "(CVXPY) May 28 01:31:43 PM: 15  4.3e-04  1.4e-03  1.4e-06  9.99e-01   4.377742727e+01   4.377714147e+01   3.0e-06  2.64  \n",
      "(CVXPY) May 28 01:31:43 PM: 16  1.4e-04  4.7e-04  2.8e-07  9.99e-01   4.262818861e+01   4.262808998e+01   1.0e-06  2.72  \n",
      "(CVXPY) May 28 01:31:44 PM: 17  6.3e-05  2.1e-04  8.1e-08  9.99e-01   4.229317671e+01   4.229313228e+01   4.5e-07  2.80  \n",
      "(CVXPY) May 28 01:31:44 PM: 18  1.6e-05  5.2e-05  1.0e-08  1.00e+00   4.210759535e+01   4.210758419e+01   1.1e-07  2.88  \n",
      "(CVXPY) May 28 01:31:44 PM: 19  2.3e-06  7.4e-06  5.5e-10  1.00e+00   4.205327967e+01   4.205327802e+01   1.6e-08  2.95  \n",
      "(CVXPY) May 28 01:31:44 PM: 20  8.8e-07  2.9e-06  1.3e-10  9.99e-01   4.204837457e+01   4.204837392e+01   6.2e-09  3.03  \n"
     ]
    },
    {
     "name": "stdout",
     "output_type": "stream",
     "text": [
      "(CVXPY) May 28 01:31:44 PM: 21  3.3e-07  1.1e-06  3.1e-11  1.00e+00   4.204653231e+01   4.204653206e+01   2.3e-09  3.11  \n",
      "(CVXPY) May 28 01:31:44 PM: 22  9.5e-08  3.1e-07  4.8e-12  9.56e-01   4.204568395e+01   4.204568387e+01   6.6e-10  3.19  \n",
      "(CVXPY) May 28 01:31:44 PM: 23  7.2e-08  7.8e-08  6.2e-13  1.01e+00   4.204544808e+01   4.204544806e+01   1.7e-10  3.27  \n",
      "(CVXPY) May 28 01:31:44 PM: Optimizer terminated. Time: 3.39    \n",
      "(CVXPY) May 28 01:31:44 PM: \n",
      "(CVXPY) May 28 01:31:44 PM: \n",
      "(CVXPY) May 28 01:31:44 PM: Interior-point solution summary\n",
      "(CVXPY) May 28 01:31:44 PM:   Problem status  : PRIMAL_AND_DUAL_FEASIBLE\n",
      "(CVXPY) May 28 01:31:44 PM:   Solution status : OPTIMAL\n",
      "(CVXPY) May 28 01:31:44 PM:   Primal.  obj: 4.2045448085e+01    nrm: 1e+02    Viol.  con: 6e-06    var: 2e-06    cones: 0e+00  \n",
      "(CVXPY) May 28 01:31:44 PM:   Dual.    obj: 4.2045448063e+01    nrm: 6e+03    Viol.  con: 0e+00    var: 8e-07    cones: 0e+00  \n",
      "-------------------------------------------------------------------------------\n",
      "                                    Summary                                    \n",
      "-------------------------------------------------------------------------------\n",
      "(CVXPY) May 28 01:31:44 PM: Problem status: optimal\n",
      "(CVXPY) May 28 01:31:44 PM: Optimal value: 4.205e+01\n",
      "(CVXPY) May 28 01:31:44 PM: Compilation took 2.478e+00 seconds\n",
      "(CVXPY) May 28 01:31:44 PM: Solver (including time spent in interface) took 4.860e+00 seconds\n",
      "Creating BEV..\n",
      "Loading full influence matrix..\n",
      "Done\n"
     ]
    }
   ],
   "source": [
    "data_dir = r'../data'\n",
    "data = pp.DataExplorer(data_dir=data_dir)\n",
    "patient_id = 'Lung_Phantom_Patient_1'\n",
    "data.patient_id = patient_id\n",
    "ct = pp.CT(data)\n",
    "structs = pp.Structures(data)\n",
    "beams = pp.Beams(data)\n",
    "opt_params = data.load_config_opt_params(protocol_name='Lung_2Gy_30Fx')\n",
    "structs.create_opt_structures(opt_params)\n",
    "inf_matrix_sparse = pp.InfluenceMatrix(ct=ct, structs=structs, beams=beams)\n",
    "protocol_name = 'Lung_2Gy_30Fx'\n",
    "clinical_criteria = pp.ClinicalCriteria(data, protocol_name)\n",
    "plan_sparse = pp.Plan(ct, structs, beams, inf_matrix_sparse, clinical_criteria)\n",
    "opt = pp.Optimization(plan_sparse, opt_params=opt_params)\n",
    "opt.create_cvxpy_problem()\n",
    "\n",
    "sol_sparse = opt.solve(solver='MOSEK', verbose=True)\n",
    "dose_sparse_1d = plan_sparse.inf_matrix.A @ (sol_sparse['optimal_intensity'] * plan_sparse.get_num_of_fractions())\n",
    "x_sparse =sol_sparse['optimal_intensity'] * plan_sparse.get_num_of_fractions()\n",
    "\n",
    "beams_full = pp.Beams(data, load_inf_matrix_full=True)\n",
    "inf_matrix_full = pp.InfluenceMatrix(ct=ct, structs=structs, beams=beams_full, is_full=True)\n",
    "plan_full = pp.Plan(ct, structs, beams, inf_matrix_full, clinical_criteria)\n",
    "dose_full_1d = plan_full.inf_matrix.A @ (sol_sparse['optimal_intensity'] * plan_full.get_num_of_fractions())\n",
    "\n",
    "A_full = plan_full.inf_matrix.A\n",
    "A_sparse = plan_sparse.inf_matrix.A\n"
   ]
  },
  {
   "cell_type": "code",
   "execution_count": 3,
   "id": "d4d3320f",
   "metadata": {},
   "outputs": [
    {
     "name": "stdout",
     "output_type": "stream",
     "text": [
      "زمان ساخت  0.7556347846984863 ثانیه\n"
     ]
    },
    {
     "data": {
      "text/plain": [
       "array([[0., 0., 0., ..., 0., 0., 0.],\n",
       "       [0., 0., 0., ..., 0., 0., 0.],\n",
       "       [0., 0., 0., ..., 0., 0., 0.],\n",
       "       [0., 0., 0., ..., 0., 0., 0.]])"
      ]
     },
     "execution_count": 3,
     "metadata": {},
     "output_type": "execute_result"
    }
   ],
   "source": [
    "start_time = time.time()\n",
    "\n",
    "def apply_JL_lemma(A_full, k, eps):\n",
    "    \n",
    "    m, n = A_full.shape    \n",
    "   \n",
    "    R = np.random.normal(0, 1, (n, k)) / np.sqrt(k)\n",
    "\n",
    "    R = R / np.linalg.norm(R, axis=0)\n",
    "\n",
    "   \n",
    "    projected_matrix_1 = np.dot(A_full, R)\n",
    "\n",
    "    def linear_map_1(v):\n",
    "        return (1 / np.sqrt(k)) * np.dot(R.T, v)\n",
    "\n",
    "    return projected_matrix_1, linear_map_1\n",
    "\n",
    "# اعمال جانسون-لیندن‌استراوس بر روی ماتریس اصلی برای کاهش بُعد و اعمال اپسیلون \n",
    "projected_matrix_1, linear_map_1 = apply_JL_lemma(A_full, k=542, eps=0.01)\n",
    "\n",
    "end_time = time.time()\n",
    "\n",
    "total_execution_time = end_time - start_time\n",
    "print(f\"زمان ساخت  {total_execution_time} ثانیه\")\n",
    "\n",
    "projected_matrix_1[:4,:]\n"
   ]
  },
  {
   "cell_type": "code",
   "execution_count": 3,
   "id": "183a5543",
   "metadata": {},
   "outputs": [
    {
     "name": "stdout",
     "output_type": "stream",
     "text": [
      "Objective Start\n",
      "Objective done\n",
      "Constraints Start\n",
      "Structure ESOPHAGUS not available!\n",
      "Structure ESOPHAGUS not available!\n",
      "Constraints done\n",
      "Running Optimization..\n",
      "Optimal value: 50.53283914315873\n",
      "Elapsed time: 107.08635091781616 seconds\n"
     ]
    }
   ],
   "source": [
    "opt = pp.Optimization(plan_full, opt_params=opt_params)\n",
    "opt.create_cvxpy_problem()\n",
    "\n",
    "sol_full = opt.solve(solver='MOSEK', verbose=False)\n",
    "\n",
    "x_full = sol_full['optimal_intensity'] * plan_full.get_num_of_fractions()"
   ]
  },
  {
   "cell_type": "code",
   "execution_count": 20,
   "id": "c8213c55",
   "metadata": {},
   "outputs": [
    {
     "data": {
      "image/png": "[encoded data removed]",
      "text/plain": [
       "<Figure size 800x500 with 1 Axes>"
      ]
     },
     "metadata": {},
     "output_type": "display_data"
    },
    {
     "name": "stdout",
     "output_type": "stream",
     "text": [
      "Done!\n"
     ]
    }
   ],
   "source": [
    "# DVH Plot\n",
    "dose_JL1 = plan_full.inf_matrix.A @ x_JL_1\n",
    "dose_full = plan_full.inf_matrix.A @ x_full\n",
    "\n",
    "\n",
    "\n",
    "fig, ax = plt.subplots(figsize=(8, 5))\n",
    "struct_names = ['PTV', 'ESOPHAGUS', 'HEART', 'CORD']\n",
    "ax = pp.Visualization.plot_dvh(plan_full, dose_1d= dose_JL1, struct_names=struct_names, style='solid', ax=ax)\n",
    "ax = pp.Visualization.plot_dvh(plan_full, dose_1d=dose_full, struct_names=struct_names, style='dotted', ax=ax)\n",
    "ax.set_title('- JL1 Matrix  ..  Full')\n",
    "plt.show()\n",
    "print('Done!')"
   ]
  },
  {
   "cell_type": "code",
   "execution_count": 28,
   "id": "7c0cd53b",
   "metadata": {},
   "outputs": [
    {
     "name": "stdout",
     "output_type": "stream",
     "text": [
      "Data Type: float64\n",
      "Shape: (60183,)\n",
      "Size: 60183\n"
     ]
    }
   ],
   "source": [
    "# نوع داده\n",
    "print(\"Data Type:\", dose_JL1.dtype)\n",
    "\n",
    "# ابعاد\n",
    "print(\"Shape:\", dose_JL1.shape)\n",
    "\n",
    "# تعداد کل عناصر\n",
    "print(\"Size:\", dose_JL1.size)\n"
   ]
  },
  {
   "cell_type": "code",
   "execution_count": 27,
   "id": "c6304aad",
   "metadata": {},
   "outputs": [
    {
     "name": "stdout",
     "output_type": "stream",
     "text": [
      "                  0\n",
      "count  60183.000000\n",
      "mean       6.567914\n",
      "std       12.136572\n",
      "min        0.000000\n",
      "25%        0.343364\n",
      "50%        1.415731\n",
      "75%        6.688543\n",
      "max       74.210873\n"
     ]
    }
   ],
   "source": [
    "import pandas as pd\n",
    "\n",
    "# تبدیل numpy.ndarray به DataFrame\n",
    "dose_JL1_df = pd.DataFrame(dose_JL1)\n",
    "\n",
    "# استفاده از متد describe روی DataFrame\n",
    "description = dose_JL1_df.describe()\n",
    "\n",
    "# نمایش توضیحات\n",
    "print(description)\n"
   ]
  },
  {
   "cell_type": "code",
   "execution_count": 6,
   "id": "b095f991",
   "metadata": {},
   "outputs": [
    {
     "name": "stdout",
     "output_type": "stream",
     "text": [
      "Distance in original matrix: 0.01635405607521534\n",
      "Distance in reduced matrix: 0.0007336361498533134\n"
     ]
    }
   ],
   "source": [
    "# تست: بررسی حفظ فاصله\n",
    "# تولید دو نقطه تصادفی از ماتریس اصلی\n",
    "random_indices = np.random.choice(A_full.shape[0], 2, replace=False)\n",
    "point1 = A_full[random_indices[0]]\n",
    "point2 = A_full[random_indices[1]]\n",
    "\n",
    "# محاسبه فواصل نقاط در ماتریس اصلی\n",
    "distance_original = np.linalg.norm(point1 - point2)\n",
    "\n",
    "# محاسبه فواصل نقاط در ماتریس کاهش یافته\n",
    "distance_projected_1 = np.linalg.norm(linear_map_1(point1) - linear_map_1(point2))\n",
    "\n",
    "print(f\"Distance in original matrix: {distance_original}\")\n",
    "print(f\"Distance in reduced matrix: {distance_projected_1}\")\n",
    "\n",
    "\n"
   ]
  },
  {
   "cell_type": "code",
   "execution_count": 7,
   "id": "0f1616bc",
   "metadata": {},
   "outputs": [
    {
     "data": {
      "text/plain": [
       "False"
      ]
     },
     "execution_count": 7,
     "metadata": {},
     "output_type": "execute_result"
    }
   ],
   "source": [
    "##  بررسی  پراکندگی ماتریس\n",
    "\n",
    "is_sparse = sparse.issparse(projected_matrix_1)\n",
    "is_sparse"
   ]
  },
  {
   "cell_type": "code",
   "execution_count": 8,
   "id": "342dcad3",
   "metadata": {},
   "outputs": [
    {
     "name": "stdout",
     "output_type": "stream",
     "text": [
      "JL_1 = (542, 60183)\n",
      "A = (60183, 542)\n",
      "d = (60183,)\n"
     ]
    }
   ],
   "source": [
    "JL_1 = projected_matrix_1.transpose()\n",
    "A = A_full\n",
    "d = dose_full_1d\n",
    "print(f'JL_1 = {JL_1.shape}\\nA = {A.shape}\\nd = {d.shape}')"
   ]
  },
  {
   "cell_type": "code",
   "execution_count": 9,
   "id": "91d5f0c4",
   "metadata": {},
   "outputs": [
    {
     "name": "stdout",
     "output_type": "stream",
     "text": [
      "تعداد عناصر غیر صفر در ماتریس JL_1: 0.8515859960453949\n",
      "تعداد عناصر غیر صفر در ماتریس JL_1.A: 1.0\n",
      "تعداد عناصر غیر صفر در ماتریس کامل: 0.3151234981768092\n"
     ]
    }
   ],
   "source": [
    "#  تعداد عناصر غیر صفر\n",
    "num_non_zero_elements_dense = np.count_nonzero(JL_1)/32619186\n",
    "print(\"تعداد عناصر غیر صفر در ماتریس JL_1:\", num_non_zero_elements_dense)\n",
    "\n",
    "num_non_zero_elements_dense = np.count_nonzero(JL_1 @ A)/293764\n",
    "print(\"تعداد عناصر غیر صفر در ماتریس JL_1.A:\", num_non_zero_elements_dense)\n",
    "\n",
    "num_non_zero_elements_A_full = np.count_nonzero(A_full)/32619186\n",
    "print(\"تعداد عناصر غیر صفر در ماتریس کامل:\", num_non_zero_elements_A_full)"
   ]
  },
  {
   "cell_type": "code",
   "execution_count": 10,
   "id": "68670569",
   "metadata": {},
   "outputs": [
    {
     "name": "stdout",
     "output_type": "stream",
     "text": [
      "زمان حل کمترین مربعات0.8934316635131836 ثانیه\n"
     ]
    }
   ],
   "source": [
    "start_time = time.time()\n",
    "\n",
    "sol_ls_JL_1 = scipy.sparse.linalg.lsqr(JL_1 @ A,JL_1 @ d)\n",
    "\n",
    "\n",
    "end_time = time.time()\n",
    "\n",
    "total_execution_time = end_time - start_time\n",
    "print(f\"زمان حل کمترین مربعات{total_execution_time} ثانیه\")"
   ]
  },
  {
   "cell_type": "code",
   "execution_count": 11,
   "id": "1dd99cae",
   "metadata": {},
   "outputs": [
    {
     "name": "stdout",
     "output_type": "stream",
     "text": [
      "زمان حل کمترین مربعات9.306113243103027 ثانیه\n"
     ]
    }
   ],
   "source": [
    "start_time = time.time()\n",
    "\n",
    "sol_ls_A_full = scipy.sparse.linalg.lsqr(A , d)\n",
    "\n",
    "\n",
    "end_time = time.time()\n",
    "\n",
    "total_execution_time = end_time - start_time\n",
    "print(f\"زمان حل کمترین مربعات{total_execution_time} ثانیه\")"
   ]
  },
  {
   "cell_type": "code",
   "execution_count": 12,
   "id": "6162a2a6",
   "metadata": {},
   "outputs": [
    {
     "data": {
      "text/plain": [
       "(60183, 542)"
      ]
     },
     "execution_count": 12,
     "metadata": {},
     "output_type": "execute_result"
    }
   ],
   "source": [
    "A.shape"
   ]
  },
  {
   "cell_type": "code",
   "execution_count": 21,
   "id": "4a2aa4f7",
   "metadata": {},
   "outputs": [
    {
     "name": "stdout",
     "output_type": "stream",
     "text": [
      "x_A_full :\t [ 6.56995926  0.52251208  1.03137273  2.38897658 10.26379303  8.24650726]\n"
     ]
    },
    {
     "data": {
      "text/plain": [
       "5.834014636248233e-05"
      ]
     },
     "execution_count": 21,
     "metadata": {},
     "output_type": "execute_result"
    }
   ],
   "source": [
    "x_A_full= sol_ls_A_full[0]\n",
    "print(f'x_A_full :\\t {x_A_full[0:6]}')\n",
    "\n",
    "cost = cp.sum_squares((A @ x_A_full  - A @ x_JL_1  )/ cp.norm(A @ x_A_full))\n",
    "prob1 = cp.Problem(Minimize(cost))\n",
    "prob1.solve(solver='MOSEK', verbose=False)"
   ]
  },
  {
   "cell_type": "code",
   "execution_count": 22,
   "id": "69d18eb8",
   "metadata": {},
   "outputs": [
    {
     "name": "stdout",
     "output_type": "stream",
     "text": [
      "x_A_full :\t [ 6.56995926  0.52251208  1.03137273  2.38897658 10.26379303  8.24650726]\n"
     ]
    },
    {
     "data": {
      "text/plain": [
       "5.833353779594215e-05"
      ]
     },
     "execution_count": 22,
     "metadata": {},
     "output_type": "execute_result"
    }
   ],
   "source": [
    "x_A_full= sol_ls_A_full[0]\n",
    "print(f'x_A_full :\\t {x_A_full[0:6]}')\n",
    "\n",
    "cost = cp.sum_squares((A @ x_JL_1 - d )/ cp.norm(d))\n",
    "prob2 = cp.Problem(Minimize(cost))\n",
    "prob2.solve(solver='MOSEK', verbose=False)"
   ]
  },
  {
   "cell_type": "code",
   "execution_count": 15,
   "id": "5ed8ee2f",
   "metadata": {},
   "outputs": [
    {
     "name": "stdout",
     "output_type": "stream",
     "text": [
      "x_JL_1 :\t [ 6.49918869  0.40605364  0.87791708  2.85544334 10.30166815  8.22199416]\n"
     ]
    },
    {
     "data": {
      "text/plain": [
       "1.0356618774136976"
      ]
     },
     "execution_count": 15,
     "metadata": {},
     "output_type": "execute_result"
    }
   ],
   "source": [
    "x_JL_1 = sol_ls_JL_1[0]\n",
    "print(f'x_JL_1 :\\t {x_JL_1[0:6]}')\n",
    "\n",
    "cost = sum_squares(JL_1 @ A @ x_JL_1  -  JL_1 @ d)\n",
    "prob = Problem(Minimize(cost))\n",
    "prob.solve()"
   ]
  },
  {
   "cell_type": "code",
   "execution_count": 14,
   "id": "d836ecf0",
   "metadata": {},
   "outputs": [
    {
     "name": "stdout",
     "output_type": "stream",
     "text": [
      "تعداد مقادیر غیر صفر ماتریس کامل:  10279072\n",
      "تعداد عناصر غیر صفر در ماتریس SA : 293764\n"
     ]
    }
   ],
   "source": [
    "nonzero_count = np.count_nonzero(A_full)\n",
    "print(\"تعداد مقادیر غیر صفر ماتریس کامل: \", nonzero_count)\n",
    "num_non_zero = np.count_nonzero(JL_1 @ A)\n",
    "print(\"تعداد عناصر غیر صفر در ماتریس SA :\", num_non_zero)"
   ]
  },
  {
   "cell_type": "markdown",
   "id": "985d511d",
   "metadata": {},
   "source": [
    "## تعداد عناصر غیرصفر  ۱/۱۰۰ تعداد عناصر غیر صفر ماتریس کامل  شده است"
   ]
  },
  {
   "cell_type": "code",
   "execution_count": 62,
   "id": "12307073",
   "metadata": {},
   "outputs": [
    {
     "name": "stdout",
     "output_type": "stream",
     "text": [
      "Mean Squared Error : 0.006997034515740285\n"
     ]
    }
   ],
   "source": [
    "## تابع (هدف)خطای میانگین مربعات\n",
    "## MSE = Mean Squared Error\n",
    "\n",
    "d_true = d          # دوز واقعی\n",
    "d_pred = A @ x_JL_1   # دوز پیش‌بینی شده\n",
    "\n",
    "MSE = np.mean((d_true - d_pred) ** 2)\n",
    "print(\"Mean Squared Error :\", MSE)\n"
   ]
  },
  {
   "cell_type": "code",
   "execution_count": 63,
   "id": "b514531e",
   "metadata": {},
   "outputs": [
    {
     "name": "stdout",
     "output_type": "stream",
     "text": [
      "Mean Squared Error : 0.0069981613088980245\n"
     ]
    }
   ],
   "source": [
    "## تابع (هدف)خطای میانگین مربعات\n",
    "## MSE = Mean Squared Error\n",
    "\n",
    "d_true = A @ x_A_full         # دوز واقعی\n",
    "d_pred = A @ x_JL_1   # دوز پیش‌بینی شده\n",
    "\n",
    "MSE = np.mean((d_true - d_pred) ** 2)\n",
    "print(\"Mean Squared Error :\", MSE)\n"
   ]
  },
  {
   "cell_type": "code",
   "execution_count": 43,
   "id": "3594a5a4",
   "metadata": {},
   "outputs": [
    {
     "name": "stdout",
     "output_type": "stream",
     "text": [
      "نرم خطای نسبی بین دو بردار: 0.03690427572167035\n"
     ]
    }
   ],
   "source": [
    "import numpy as np\n",
    "\n",
    "def calculate_relative_error(vector1, vector2):\n",
    "   \n",
    "    array1 = np.array(x_A_full)\n",
    "    array2 = np.array(x_JL_1)\n",
    "\n",
    "    norm_vector2 = np.linalg.norm(x_A_full)\n",
    "\n",
    "    relative_error = np.linalg.norm(x_A_full - x_JL_1) / norm_vector2\n",
    "\n",
    "    return relative_error\n",
    "\n",
    "error = calculate_relative_error(x_A_full, x_JL_1)\n",
    "print(f\"نرم خطای نسبی بین دو بردار: {error}\")\n"
   ]
  },
  {
   "cell_type": "code",
   "execution_count": 46,
   "id": "42089438",
   "metadata": {},
   "outputs": [
    {
     "name": "stdout",
     "output_type": "stream",
     "text": [
      "نرم خطای مطلق بین دو بردار: 140.93318675719672\n"
     ]
    }
   ],
   "source": [
    "import numpy as np\n",
    "\n",
    "def calculate_absolute_error(vector1, vector2):\n",
    "    array1 = np.array(x_A_full)\n",
    "    array2 = np.array(x_JL_1)\n",
    "\n",
    "    absolute_error = np.linalg.norm(array1 - array2, ord=1) \n",
    "\n",
    "    return absolute_error\n",
    "\n",
    "\n",
    "error = calculate_absolute_error(x_A_full, x_JL_1)\n",
    "print(f\"نرم خطای مطلق بین دو بردار: {error}\")\n"
   ]
  },
  {
   "cell_type": "raw",
   "id": "0f660ef5",
   "metadata": {},
   "source": [
    "# x - x^\n",
    "\n",
    "error = x_star -  x_JL_1\n",
    "error"
   ]
  },
  {
   "cell_type": "code",
   "execution_count": 18,
   "id": "e7229694",
   "metadata": {},
   "outputs": [
    {
     "name": "stdout",
     "output_type": "stream",
     "text": [
      "میزان حافظه sol_ls_JL_1 : 0.00011444091796875 مگابایت\n"
     ]
    }
   ],
   "source": [
    "memory_usage_sol_ls_JL_1 = sys.getsizeof(sol_ls_JL_1 )\n",
    "megabyte_size_sol_ls_JL_1 = memory_usage_sol_ls_JL_1 / 1024 / 1024\n",
    "\n",
    "print(f\"میزان حافظه sol_ls_JL_1 : {megabyte_size_sol_ls_JL_1} مگابایت\")"
   ]
  },
  {
   "cell_type": "code",
   "execution_count": 49,
   "id": "16318e77",
   "metadata": {},
   "outputs": [
    {
     "name": "stdout",
     "output_type": "stream",
     "text": [
      "میزان حافظه ساخت JL_1 : 0.0001220703125 مگابایت\n"
     ]
    }
   ],
   "source": [
    "memory_usage_JL_1 = sys.getsizeof(JL_1 )\n",
    "megabyte_size_JL_1 = memory_usage_JL_1 / 1024 / 1024\n",
    "\n",
    "print(f\"میزان حافظه ساخت JL_1 : {megabyte_size_JL_1} مگابایت\")"
   ]
  },
  {
   "cell_type": "code",
   "execution_count": 59,
   "id": "0b68a07e",
   "metadata": {},
   "outputs": [
    {
     "name": "stdout",
     "output_type": "stream",
     "text": [
      "میزان حافظه ساخت JL_1 : 27633.61743927002 مگابایت\n"
     ]
    }
   ],
   "source": [
    "memory_usage_JL_2 = sys.getsizeof(JL_2 )\n",
    "megabyte_size_JL_2 = memory_usage_JL_2 / 1024 / 1024\n",
    "\n",
    "print(f\"میزان حافظه ساخت JL_1 : {megabyte_size_JL_2} مگابایت\")"
   ]
  },
  {
   "cell_type": "code",
   "execution_count": 20,
   "id": "e39943e0",
   "metadata": {},
   "outputs": [
    {
     "name": "stdout",
     "output_type": "stream",
     "text": [
      " رتبه ماتریس تقریب = 542\n"
     ]
    }
   ],
   "source": [
    "r1 = np.linalg.matrix_rank(JL_1 @ A_full ) \n",
    "#r2 = np.linalg.matrix_rank(A_full)      \n",
    "print( f' رتبه ماتریس تقریب = {r1}')"
   ]
  },
  {
   "cell_type": "code",
   "execution_count": 4,
   "id": "22db7bab",
   "metadata": {},
   "outputs": [
    {
     "name": "stdout",
     "output_type": "stream",
     "text": [
      "زمان ساخت  26.283906936645508 ثانیه\n"
     ]
    }
   ],
   "source": [
    "# بررسی  با 60183\n",
    "\n",
    "\n",
    "\n",
    "start_time = time.time()\n",
    "\n",
    "#k = 60183\n",
    "#eps = 0.01\n",
    "m, n = A_full.shape\n",
    "\n",
    "    \n",
    "def apply_JL_lemma(A_full, k, eps):\n",
    "   \n",
    "    # eps: مقدار ارتباط فاصله\n",
    "    m, n = A_full.shape    \n",
    "\n",
    "    R = np.random.normal(0, 1, (n, k)) / np.sqrt(k)\n",
    "\n",
    "    # نرمال سازی ماتریس\n",
    "    R = R / np.linalg.norm(R, axis=0)\n",
    "\n",
    "    projected_matrix_2 = np.dot(A_full, R)\n",
    "\n",
    "    def linear_map_2(v):\n",
    "        return (1 / np.sqrt(k)) * np.dot(R.T, v)\n",
    "\n",
    "    return projected_matrix_2, linear_map_2\n",
    "\n",
    "# اعمال قضیه جانسون-لیندن‌استراوس بر روی ماتریس اصلی برای کاهش بُعد و مقدار epsilon = 0.1\n",
    "projected_matrix_2, linear_map_2 = apply_JL_lemma(A_full, k=m, eps=0.1)\n",
    "\n",
    "\n",
    "end_time = time.time()\n",
    "\n",
    "total_execution_time = end_time - start_time\n",
    "print(f\"زمان ساخت  {total_execution_time} ثانیه\")"
   ]
  },
  {
   "cell_type": "code",
   "execution_count": 5,
   "id": "46e5a0f9",
   "metadata": {},
   "outputs": [
    {
     "name": "stdout",
     "output_type": "stream",
     "text": [
      "JL_2 = (60183, 60183)\n",
      "A = (60183, 542)\n",
      "d = (60183,)\n"
     ]
    }
   ],
   "source": [
    "JL_2 = projected_matrix_2\n",
    "A = A_full\n",
    "d = dose_full_1d\n",
    "print(f'JL_2 = {JL_2.shape}\\nA = {A.shape}\\nd = {d.shape}')"
   ]
  },
  {
   "cell_type": "code",
   "execution_count": 6,
   "id": "97390bde",
   "metadata": {},
   "outputs": [
    {
     "name": "stdout",
     "output_type": "stream",
     "text": [
      "زمان حل کمترین مربعات36.6832172870636 ثانیه\n"
     ]
    }
   ],
   "source": [
    "start_time = time.time()\n",
    "\n",
    "sol_ls_JL_2 = scipy.sparse.linalg.lsqr(JL_2 @ A , JL_2 @ d)\n",
    "\n",
    "\n",
    "end_time = time.time()\n",
    "\n",
    "total_execution_time = end_time - start_time\n",
    "print(f\"زمان حل کمترین مربعات{total_execution_time} ثانیه\")"
   ]
  },
  {
   "cell_type": "raw",
   "id": "7a40ee90",
   "metadata": {},
   "source": [
    "x_JL_2 = sol_ls_JL_2[0]\n",
    "print(f'x_JL_2 :\\t {x_JL_2[0:6]}')\n",
    "\n",
    "\n",
    "cost = cp.sum_squares((A @ x_A_full  - A @ x_JL_2  )/ cp.norm(A @ x_A_full))\n",
    "prob = cp.Problem(Minimize(cost))\n",
    "prob.solve(solver='MOSEK', verbose=False)"
   ]
  },
  {
   "cell_type": "code",
   "execution_count": 7,
   "id": "740530bc",
   "metadata": {},
   "outputs": [
    {
     "name": "stdout",
     "output_type": "stream",
     "text": [
      "x_JL_2 :\t [ 6.32633089  0.76392897  1.82877719  2.55278294 10.17803847  8.1373959 ]\n"
     ]
    },
    {
     "data": {
      "text/plain": [
       "0.0001230028222348172"
      ]
     },
     "execution_count": 7,
     "metadata": {},
     "output_type": "execute_result"
    }
   ],
   "source": [
    "x_JL_2 = sol_ls_JL_2[0]\n",
    "print(f'x_JL_2 :\\t {x_JL_2[0:6]}')\n",
    "\n",
    "\n",
    "cost = cp.sum_squares((d  - A @ x_JL_2  )/ cp.norm(d))\n",
    "prob = cp.Problem(Minimize(cost))\n",
    "prob.solve(solver='MOSEK', verbose=False)"
   ]
  },
  {
   "cell_type": "code",
   "execution_count": 12,
   "id": "fc776b94",
   "metadata": {},
   "outputs": [],
   "source": [
    "x_JL_2 = sol_ls_JL_2[0]"
   ]
  },
  {
   "cell_type": "code",
   "execution_count": 39,
   "id": "df4ec8e7",
   "metadata": {},
   "outputs": [
    {
     "data": {
      "text/plain": [
       "7.538364969628534e-05"
      ]
     },
     "execution_count": 39,
     "metadata": {},
     "output_type": "execute_result"
    }
   ],
   "source": [
    "cost = cp.sum_squares((d  - A @ x_JL_2  )/ cp.norm(d))\n",
    "prob = cp.Problem(Minimize(cost))\n",
    "prob.solve(solver='MOSEK', verbose=False)"
   ]
  },
  {
   "cell_type": "code",
   "execution_count": 25,
   "id": "d975552a",
   "metadata": {},
   "outputs": [
    {
     "name": "stdout",
     "output_type": "stream",
     "text": [
      " رتبه ماتریس تقریب = 542\n",
      "رتبه ماتریس کامل = 542\n"
     ]
    }
   ],
   "source": [
    "r1 = np.linalg.matrix_rank(projected_matrix_2 @ A_full ) \n",
    "r2 = np.linalg.matrix_rank(A_full)      \n",
    "print( f' رتبه ماتریس تقریب = {r1}\\nرتبه ماتریس کامل = {r2}')"
   ]
  },
  {
   "cell_type": "code",
   "execution_count": 15,
   "id": "b556fefb",
   "metadata": {},
   "outputs": [
    {
     "data": {
      "image/png": "[encoded data removed]",
      "text/plain": [
       "<Figure size 800x500 with 1 Axes>"
      ]
     },
     "metadata": {},
     "output_type": "display_data"
    },
    {
     "name": "stdout",
     "output_type": "stream",
     "text": [
      "Done!\n"
     ]
    }
   ],
   "source": [
    "# DVH Plot\n",
    "dose_JL2 = plan_full.inf_matrix.A @ x_JL_2 \n",
    "dose_full = plan_full.inf_matrix.A @ x_full\n",
    "\n",
    "\n",
    "\n",
    "fig, ax = plt.subplots(figsize=(8, 5))\n",
    "struct_names = ['PTV', 'ESOPHAGUS', 'HEART', 'CORD']\n",
    "ax = pp.Visualization.plot_dvh(plan_full, dose_1d= dose_JL2, struct_names=struct_names, style='solid', ax=ax)\n",
    "ax = pp.Visualization.plot_dvh(plan_full, dose_1d=dose_full, struct_names=struct_names, style='dotted', ax=ax)\n",
    "ax.set_title('- JL2 Matrix  ...  Full')\n",
    "plt.show()\n",
    "print('Done!')"
   ]
  },
  {
   "cell_type": "code",
   "execution_count": 22,
   "id": "40320da7",
   "metadata": {},
   "outputs": [
    {
     "name": "stdout",
     "output_type": "stream",
     "text": [
      "Data Type: float64\n",
      "Shape: (60183,)\n",
      "Size: 60183\n"
     ]
    }
   ],
   "source": [
    "# نوع داده\n",
    "print(\"Data Type:\", dose_JL2.dtype)\n",
    "\n",
    "# ابعاد\n",
    "print(\"Shape:\", dose_JL2.shape)\n",
    "\n",
    "# تعداد کل عناصر\n",
    "print(\"Size:\", dose_JL2.size)\n"
   ]
  },
  {
   "cell_type": "code",
   "execution_count": 26,
   "id": "84c605aa",
   "metadata": {},
   "outputs": [
    {
     "name": "stdout",
     "output_type": "stream",
     "text": [
      "                  0\n",
      "count  60183.000000\n",
      "mean       6.567914\n",
      "std       12.136572\n",
      "min        0.000000\n",
      "25%        0.343364\n",
      "50%        1.415731\n",
      "75%        6.688543\n",
      "max       74.210873\n"
     ]
    }
   ],
   "source": [
    "import pandas as pd\n",
    "\n",
    "# تبدیل numpy.ndarray به DataFrame\n",
    "dose_JL2_df = pd.DataFrame(dose_JL2)\n",
    "\n",
    "# استفاده از متد describe روی DataFrame\n",
    "description = dose_JL2_df.describe()\n",
    "\n",
    "# نمایش توضیحات\n",
    "print(description)\n"
   ]
  },
  {
   "cell_type": "code",
   "execution_count": 25,
   "id": "7d95b810",
   "metadata": {},
   "outputs": [
    {
     "name": "stdout",
     "output_type": "stream",
     "text": [
      "                  0\n",
      "count  60183.000000\n",
      "mean       5.840937\n",
      "std       10.741495\n",
      "min        0.000000\n",
      "25%        0.297954\n",
      "50%        1.261218\n",
      "75%        6.208031\n",
      "max       65.613516\n"
     ]
    }
   ],
   "source": [
    "import pandas as pd\n",
    "\n",
    "# تبدیل numpy.ndarray به DataFrame\n",
    "dose_full_df = pd.DataFrame(dose_full)\n",
    "\n",
    "# استفاده از متد describe روی DataFrame\n",
    "description = dose_full_df.describe()\n",
    "\n",
    "# نمایش توضیحات\n",
    "print(description)\n"
   ]
  },
  {
   "cell_type": "code",
   "execution_count": 24,
   "id": "c33d4962",
   "metadata": {},
   "outputs": [
    {
     "name": "stdout",
     "output_type": "stream",
     "text": [
      "Data Type: float64\n",
      "Shape: (60183,)\n",
      "Size: 60183\n"
     ]
    }
   ],
   "source": [
    "# نوع داده\n",
    "print(\"Data Type:\", dose_full.dtype)\n",
    "\n",
    "# ابعاد\n",
    "print(\"Shape:\", dose_full.shape)\n",
    "\n",
    "# تعداد کل عناصر\n",
    "print(\"Size:\", dose_full.size)\n",
    "\n",
    "\n"
   ]
  },
  {
   "cell_type": "code",
   "execution_count": 60,
   "id": "456632fb",
   "metadata": {},
   "outputs": [
    {
     "name": "stdout",
     "output_type": "stream",
     "text": [
      "Mean Squared Error : 0.013226262767956241\n"
     ]
    }
   ],
   "source": [
    "## تابع (هدف)خطای میانگین مربعات\n",
    "## MSE = Mean Squared Error\n",
    "\n",
    "d_true = A @ x_A_full         # دوز واقعی\n",
    "d_pred = A @ x_JL_2   # دوز پیش‌بینی شده\n",
    "\n",
    "MSE = np.mean((d_true - d_pred) ** 2)\n",
    "print(\"Mean Squared Error :\", MSE)\n"
   ]
  },
  {
   "cell_type": "code",
   "execution_count": 61,
   "id": "a05e7d97",
   "metadata": {},
   "outputs": [
    {
     "name": "stdout",
     "output_type": "stream",
     "text": [
      "Mean Squared Error : 0.013224769537129883\n"
     ]
    }
   ],
   "source": [
    "## تابع (هدف)خطای میانگین مربعات\n",
    "## MSE = Mean Squared Error\n",
    "\n",
    "d_true = d         # دوز واقعی\n",
    "d_pred = A @ x_JL_2   # دوز پیش‌بینی شده\n",
    "\n",
    "MSE = np.mean((d_true - d_pred) ** 2)\n",
    "print(\"Mean Squared Error :\", MSE)\n"
   ]
  },
  {
   "cell_type": "code",
   "execution_count": 23,
   "id": "525cb3d4",
   "metadata": {},
   "outputs": [
    {
     "name": "stdout",
     "output_type": "stream",
     "text": [
      "Distance in original matrix: 0.5519641041755676\n",
      "Distance in reduced matrix: [[0. 0. 0. ... 0. 0. 0.]\n",
      " [0. 0. 0. ... 0. 0. 0.]\n",
      " [0. 0. 0. ... 0. 0. 0.]\n",
      " ...\n",
      " [0. 0. 0. ... 0. 0. 0.]\n",
      " [0. 0. 0. ... 0. 0. 0.]\n",
      " [0. 0. 0. ... 0. 0. 0.]]\n"
     ]
    }
   ],
   "source": [
    "# تولید دو نقطه تصادفی از ماتریس اصلی\n",
    "random_indices = np.random.choice(A_full.shape[0], 2, replace=False)\n",
    "point1 = A_full[random_indices[0]]\n",
    "point2 = A_full[random_indices[1]]\n",
    "\n",
    "# محاسبه فواصل نقاط در ماتریس اصلی\n",
    "distance_original = np.linalg.norm(point1 - point2)\n",
    "\n",
    "# محاسبه فواصل نقاط در ماتریس کاهش یافته\n",
    "distance_projected_2 = np.linalg.norm(linear_map_2(point1) - linear_map_2(point2))\n",
    "\n",
    "print(f\"Distance in original matrix: {distance_original}\")\n",
    "print(f\"Distance in reduced matrix: {projected_matrix_2}\")\n"
   ]
  },
  {
   "cell_type": "code",
   "execution_count": 30,
   "id": "82aafdad",
   "metadata": {},
   "outputs": [
    {
     "data": {
      "text/plain": [
       "942.2712308579363"
      ]
     },
     "execution_count": 30,
     "metadata": {},
     "output_type": "execute_result"
    }
   ],
   "source": [
    "x_JL_2 = sol_ls_JL_2[0]\n",
    "cost = sum_squares(A @ x_JL_2 -  d)\n",
    "prob_original = Problem(Minimize(cost))\n",
    "prob_original.solve()"
   ]
  },
  {
   "cell_type": "code",
   "execution_count": 52,
   "id": "89785ff5",
   "metadata": {},
   "outputs": [
    {
     "name": "stdout",
     "output_type": "stream",
     "text": [
      "x_A_full :\t [ 6.56993354  0.52249962  1.0313918   2.38895931 10.26382985  8.2465346 ]\n"
     ]
    },
    {
     "data": {
      "text/plain": [
       "0.008333098840964736"
      ]
     },
     "execution_count": 52,
     "metadata": {},
     "output_type": "execute_result"
    }
   ],
   "source": [
    "import cvxpy as cp\n",
    "\n",
    "x_A_full = sol_ls_A_full[0]\n",
    "print(f'x_A_full :\\t {x_A_full[0:6]}')\n",
    "\n",
    "# تغییر تابع هدف به نرم فروبنیوس\n",
    "cost = cp.norm(A @ x_A_full - A @ x_JL_2, \"fro\")/ cp.norm(A @ x_A_full, \"fro\")\n",
    "\n",
    "\n",
    "# تغییر مسئله بهینه‌سازی\n",
    "prob = cp.Problem(cp.Minimize(cost))\n",
    "\n",
    "# حل مسئله\n",
    "prob.solve()\n"
   ]
  },
  {
   "cell_type": "code",
   "execution_count": 42,
   "id": "c351b1c8",
   "metadata": {},
   "outputs": [
    {
     "name": "stdout",
     "output_type": "stream",
     "text": [
      "نرم خطای نسبی بین دو بردار: 0.031026630637414523\n"
     ]
    }
   ],
   "source": [
    "import numpy as np\n",
    "\n",
    "def calculate_relative_error(vector1, vector2):\n",
    "   \n",
    "    array1 = np.array(x_A_full)\n",
    "    array2 = np.array(x_JL_2)\n",
    "\n",
    "    norm_vector2 = np.linalg.norm(x_A_full)\n",
    "\n",
    "    relative_error = np.linalg.norm(x_A_full - x_JL_2) / norm_vector2\n",
    "\n",
    "    return relative_error\n",
    "\n",
    "error = calculate_relative_error(x_A_full, x_JL_2)\n",
    "print(f\"نرم خطای نسبی بین دو بردار: {error}\")\n"
   ]
  },
  {
   "cell_type": "code",
   "execution_count": 45,
   "id": "98ae66a2",
   "metadata": {},
   "outputs": [
    {
     "name": "stdout",
     "output_type": "stream",
     "text": [
      "نرم خطای مطلق بین دو بردار: 125.98748750518801\n"
     ]
    }
   ],
   "source": [
    "import numpy as np\n",
    "\n",
    "def calculate_absolute_error(vector1, vector2):\n",
    "    array1 = np.array(x_A_full)\n",
    "    array2 = np.array(x_JL_2)\n",
    "\n",
    "    absolute_error = np.linalg.norm(array1 - array2, ord=1) \n",
    "\n",
    "    return absolute_error\n",
    "\n",
    "\n",
    "error = calculate_absolute_error(x_A_full, x_JL_2)\n",
    "print(f\"نرم خطای مطلق بین دو بردار: {error}\")\n"
   ]
  },
  {
   "cell_type": "code",
   "execution_count": 19,
   "id": "42f69432",
   "metadata": {},
   "outputs": [
    {
     "name": "stdout",
     "output_type": "stream",
     "text": [
      "نرم خطای مطلق: 1795243.967586711\n"
     ]
    }
   ],
   "source": [
    "def calculate_absolute_error(matrix1, matrix2):\n",
    "    \n",
    "    array1 = np.array(A_full)\n",
    "    array2 = np.array(JL_2 @ A)\n",
    "\n",
    "    absolute_error = np.sum(np.abs(array1 - array2))\n",
    "    return absolute_error\n",
    "\n",
    "\n",
    "absolute_errorr = calculate_absolute_error(A_full, JL_2 @ A)\n",
    "print(f\"نرم خطای مطلق: {absolute_errorr}\")\n"
   ]
  },
  {
   "cell_type": "code",
   "execution_count": 22,
   "id": "e35fb007",
   "metadata": {},
   "outputs": [
    {
     "name": "stdout",
     "output_type": "stream",
     "text": [
      "نرم خطای مطلق بین دو ماتریس: 739.3085460329893\n"
     ]
    }
   ],
   "source": [
    "import numpy as np\n",
    "\n",
    "def calculate_relative_error(matrix1, matrix2):\n",
    "    array1 = np.array(A_full)\n",
    "    array2 = np.array(JL_2 @ A)\n",
    "\n",
    "    norm_error = np.linalg.norm(array1 - array2, 'fro') \n",
    "    \n",
    "    return norm_error\n",
    "\n",
    "error = calculate_relative_error(A_full, JL_2 @ A)\n",
    "print(f\"نرم خطای مطلق بین دو ماتریس: {error}\")\n"
   ]
  },
  {
   "cell_type": "code",
   "execution_count": 20,
   "id": "f70e2b74",
   "metadata": {},
   "outputs": [
    {
     "name": "stdout",
     "output_type": "stream",
     "text": [
      "نرم خطای نسبی بین دو ماتریس: 1.0147916170361297\n"
     ]
    }
   ],
   "source": [
    "import numpy as np\n",
    "\n",
    "def calculate_relative_error(matrix1, matrix2):\n",
    "    array1 = np.array(A_full)\n",
    "    array2 = np.array(JL_2 @ A)\n",
    "\n",
    "    norm_error = np.linalg.norm(array1 - array2, 'fro') \n",
    "    norm_matrix2 = np.linalg.norm(array2, 'fro') \n",
    "\n",
    "    relative_error = norm_error / norm_matrix2\n",
    "\n",
    "    return relative_error\n",
    "\n",
    "error = calculate_relative_error(A_full, JL_2 @ A)\n",
    "print(f\"نرم خطای نسبی بین دو ماتریس: {error}\")\n"
   ]
  },
  {
   "cell_type": "code",
   "execution_count": 66,
   "id": "64392f0e",
   "metadata": {},
   "outputs": [
    {
     "name": "stdout",
     "output_type": "stream",
     "text": [
      "تعداد عناصر غیر صفر در ماتریس JL_1: 0.8515859960453949\n",
      "تعداد عناصر غیر صفر در ماتریس JL_1.A: 0.8515859960453949\n",
      "تعداد عناصر غیر صفر در ماتریس کامل: 0.3151234981768092\n"
     ]
    }
   ],
   "source": [
    "#  تعداد عناصر غیر صفر\n",
    "num_non_zero_elements_dense = np.count_nonzero(JL_2)/3621993489\n",
    "print(\"تعداد عناصر غیر صفر در ماتریس JL_1:\", num_non_zero_elements_dense)\n",
    "\n",
    "num_non_zero_elements_dense = np.count_nonzero(JL_2 @ A)/32619186\n",
    "print(\"تعداد عناصر غیر صفر در ماتریس JL_1.A:\", num_non_zero_elements_dense)\n",
    "\n",
    "num_non_zero_elements_A_full = np.count_nonzero(A_full)/32619186\n",
    "print(\"تعداد عناصر غیر صفر در ماتریس کامل:\", num_non_zero_elements_A_full)"
   ]
  },
  {
   "cell_type": "code",
   "execution_count": 45,
   "id": "c34a5779",
   "metadata": {},
   "outputs": [
    {
     "name": "stdout",
     "output_type": "stream",
     "text": [
      "میزان حافظه sol_ls_JL_1 : 0.00011444091796875 مگابایت\n"
     ]
    }
   ],
   "source": [
    "memory_usage_sol_ls_JL_2 = sys.getsizeof(sol_ls_JL_2 )\n",
    "megabyte_size_sol_ls_JL_2 = memory_usage_sol_ls_JL_2 / 1024 / 1024\n",
    "\n",
    "print(f\"میزان حافظه sol_ls_JL_1 : {megabyte_size_sol_ls_JL_2} مگابایت\")"
   ]
  },
  {
   "cell_type": "code",
   "execution_count": 48,
   "id": "44a73988",
   "metadata": {},
   "outputs": [
    {
     "name": "stdout",
     "output_type": "stream",
     "text": [
      "میزان حافظه ساخت JL_2 : 27633.61743927002 مگابایت\n"
     ]
    }
   ],
   "source": [
    "memory_usage_JL_2 = sys.getsizeof(JL_2 )\n",
    "megabyte_size_JL_2 = memory_usage_JL_2 / 1024 / 1024\n",
    "\n",
    "print(f\"میزان حافظه ساخت JL_2 : {megabyte_size_JL_2} مگابایت\")"
   ]
  }
 ],
 "metadata": {
  "kernelspec": {
   "display_name": "Python 3 (ipykernel)",
   "language": "python",
   "name": "python3"
  },
  "language_info": {
   "codemirror_mode": {
    "name": "ipython",
    "version": 3
   },
   "file_extension": ".py",
   "mimetype": "text/x-python",
   "name": "python",
   "nbconvert_exporter": "python",
   "pygments_lexer": "ipython3",
   "version": "3.10.9"
  }
 },
 "nbformat": 4,
 "nbformat_minor": 5
}
