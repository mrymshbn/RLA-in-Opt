{
 "cells": [
  {
   "cell_type": "code",
   "execution_count": null,
   "id": "264b5ed9",
   "metadata": {
    "collapsed": true
   },
   "outputs": [
    {
     "name": "stdout",
     "output_type": "stream",
     "text": [
      "creating rinds.. This step may take some time due to dilation\n",
      "rinds created!!\n",
      "Creating BEV..\n",
      "Loading sparse influence matrix...\n",
      "Done\n",
      "Objective Start\n",
      "Objective done\n",
      "Constraints Start\n",
      "Structure HEART not available!\n",
      "Structure HEART not available!\n",
      "Constraints done\n",
      "===============================================================================\n",
      "                                     CVXPY                                     \n",
      "                                     v1.3.1                                    \n",
      "===============================================================================\n",
      "(CVXPY) Jul 17 11:26:01 AM: Your problem has 18157 variables, 14 constraints, and 0 parameters.\n",
      "(CVXPY) Jul 17 11:26:01 AM: It is compliant with the following grammars: DCP, DQCP\n",
      "(CVXPY) Jul 17 11:26:01 AM: (If you need to solve this problem multiple times, but with different data, consider using parameters.)\n",
      "(CVXPY) Jul 17 11:26:01 AM: CVXPY will first compile your problem; then, it will invoke a numerical solver to obtain a solution.\n",
      "-------------------------------------------------------------------------------\n",
      "                                  Compilation                                  \n",
      "-------------------------------------------------------------------------------\n",
      "(CVXPY) Jul 17 11:26:01 AM: Compiling problem (target solver=MOSEK).\n",
      "(CVXPY) Jul 17 11:26:01 AM: Reduction chain: Dcp2Cone -> CvxAttr2Constr -> ConeMatrixStuffing -> MOSEK\n",
      "(CVXPY) Jul 17 11:26:01 AM: Applying reduction Dcp2Cone\n",
      "(CVXPY) Jul 17 11:26:01 AM: Applying reduction CvxAttr2Constr\n",
      "(CVXPY) Jul 17 11:26:01 AM: Applying reduction ConeMatrixStuffing\n",
      "(CVXPY) Jul 17 11:26:32 AM: Applying reduction MOSEK\n",
      "(CVXPY) Jul 17 11:26:46 AM: Finished problem compilation (took 4.531e+01 seconds).\n",
      "-------------------------------------------------------------------------------\n",
      "                                Numerical solver                               \n",
      "-------------------------------------------------------------------------------\n",
      "(CVXPY) Jul 17 11:26:46 AM: Invoking solver MOSEK  to obtain a solution.\n",
      "\n",
      "\n",
      "(CVXPY) Jul 17 11:27:04 AM: Problem\n",
      "(CVXPY) Jul 17 11:27:04 AM:   Name                   :                 \n",
      "(CVXPY) Jul 17 11:27:04 AM:   Objective sense        : maximize        \n",
      "(CVXPY) Jul 17 11:27:04 AM:   Type                   : CONIC (conic optimization problem)\n",
      "(CVXPY) Jul 17 11:27:04 AM:   Constraints            : 18170           \n",
      "(CVXPY) Jul 17 11:27:04 AM:   Affine conic cons.     : 0               \n",
      "(CVXPY) Jul 17 11:27:04 AM:   Disjunctive cons.      : 0               \n",
      "(CVXPY) Jul 17 11:27:04 AM:   Cones                  : 13              \n",
      "(CVXPY) Jul 17 11:27:04 AM:   Scalar variables       : 979628          \n",
      "(CVXPY) Jul 17 11:27:04 AM:   Matrix variables       : 0               \n",
      "(CVXPY) Jul 17 11:27:04 AM:   Integer variables      : 0               \n",
      "(CVXPY) Jul 17 11:27:04 AM: \n",
      "(CVXPY) Jul 17 11:27:05 AM: Optimizer started.\n",
      "(CVXPY) Jul 17 11:27:07 AM: Presolve started.\n",
      "(CVXPY) Jul 17 11:27:10 AM: Linear dependency checker started.\n",
      "(CVXPY) Jul 17 11:27:10 AM: Linear dependency checker terminated.\n",
      "(CVXPY) Jul 17 11:27:10 AM: Eliminator started.\n",
      "(CVXPY) Jul 17 11:27:12 AM: Freed constraints in eliminator : 0\n",
      "(CVXPY) Jul 17 11:27:12 AM: Eliminator terminated.\n",
      "(CVXPY) Jul 17 11:27:12 AM: Eliminator - tries                  : 1                 time                   : 0.00            \n",
      "(CVXPY) Jul 17 11:27:12 AM: Lin. dep.  - tries                  : 1                 time                   : 0.41            \n",
      "(CVXPY) Jul 17 11:27:12 AM: Lin. dep.  - number                 : 0               \n",
      "(CVXPY) Jul 17 11:27:12 AM: Presolve terminated. Time: 5.55    \n",
      "(CVXPY) Jul 17 11:27:24 AM: Problem\n",
      "(CVXPY) Jul 17 11:27:24 AM:   Name                   :                 \n",
      "(CVXPY) Jul 17 11:27:24 AM:   Objective sense        : maximize        \n",
      "(CVXPY) Jul 17 11:27:24 AM:   Type                   : CONIC (conic optimization problem)\n",
      "(CVXPY) Jul 17 11:27:24 AM:   Constraints            : 18170           \n",
      "(CVXPY) Jul 17 11:27:24 AM:   Affine conic cons.     : 0               \n",
      "(CVXPY) Jul 17 11:27:24 AM:   Disjunctive cons.      : 0               \n",
      "(CVXPY) Jul 17 11:27:24 AM:   Cones                  : 13              \n",
      "(CVXPY) Jul 17 11:27:24 AM:   Scalar variables       : 979628          \n",
      "(CVXPY) Jul 17 11:27:24 AM:   Matrix variables       : 0               \n",
      "(CVXPY) Jul 17 11:27:24 AM:   Integer variables      : 0               \n",
      "(CVXPY) Jul 17 11:27:24 AM: \n",
      "(CVXPY) Jul 17 11:27:24 AM: Optimizer  - threads                : 2               \n",
      "(CVXPY) Jul 17 11:27:24 AM: Optimizer  - solved problem         : the primal      \n",
      "(CVXPY) Jul 17 11:27:24 AM: Optimizer  - Constraints            : 18170\n",
      "(CVXPY) Jul 17 11:27:24 AM: Optimizer  - Cones                  : 13\n",
      "(CVXPY) Jul 17 11:27:24 AM: Optimizer  - Scalar variables       : 546797            conic                  : 289440          \n",
      "(CVXPY) Jul 17 11:27:24 AM: Optimizer  - Semi-definite variables: 0                 scalarized             : 0               \n",
      "(CVXPY) Jul 17 11:27:24 AM: Factor     - setup time             : 9.00              dense det. time        : 0.00            \n",
      "(CVXPY) Jul 17 11:27:24 AM: Factor     - ML order time          : 3.14              GP order time          : 0.00            \n",
      "(CVXPY) Jul 17 11:27:24 AM: Factor     - nonzeros before factor : 5.74e+06          after factor           : 5.75e+06        \n",
      "(CVXPY) Jul 17 11:27:24 AM: Factor     - dense dim.             : 4                 flops                  : 7.50e+09        \n",
      "(CVXPY) Jul 17 11:27:24 AM: ITE PFEAS    DFEAS    GFEAS    PRSTATUS   POBJ              DOBJ              MU       TIME  \n",
      "(CVXPY) Jul 17 11:27:24 AM: 0   1.2e+01  5.4e+02  1.4e+01  0.00e+00   -1.300000000e+01  0.000000000e+00   1.0e+00  18.95 \n",
      "(CVXPY) Jul 17 11:27:27 AM: 1   9.9e+00  4.5e+02  1.3e+01  -9.94e-01  4.917054907e+03   4.929839481e+03   8.3e-01  21.86 \n",
      "(CVXPY) Jul 17 11:27:29 AM: 2   4.4e+00  2.0e+02  8.4e+00  -9.91e-01  6.838258120e+04   6.839380152e+04   3.7e-01  24.19 \n",
      "(CVXPY) Jul 17 11:27:31 AM: 3   3.4e+00  1.6e+02  7.4e+00  -9.67e-01  1.281185020e+05   1.281289487e+05   2.9e-01  26.12 \n",
      "(CVXPY) Jul 17 11:27:33 AM: 4   2.3e+00  1.1e+02  6.0e+00  -9.46e-01  2.490510905e+05   2.490599257e+05   2.0e-01  28.11 \n",
      "(CVXPY) Jul 17 11:27:35 AM: 5   1.5e+00  6.9e+01  4.6e+00  -8.90e-01  3.678543641e+05   3.678607761e+05   1.3e-01  30.30 \n",
      "(CVXPY) Jul 17 11:27:38 AM: 6   7.1e-01  3.2e+01  2.7e+00  -7.77e-01  4.158621376e+05   4.158626843e+05   5.9e-02  32.78 \n",
      "(CVXPY) Jul 17 11:27:41 AM: 7   1.2e-01  5.2e+00  4.8e-01  -4.32e-01  2.862266850e+05   2.862181235e+05   9.7e-03  35.91 \n",
      "(CVXPY) Jul 17 11:27:43 AM: 8   8.1e-02  3.6e+00  2.8e-01  6.05e-01   2.336142117e+05   2.336083600e+05   6.8e-03  37.91 \n",
      "(CVXPY) Jul 17 11:27:45 AM: 9   5.3e-02  2.4e+00  1.5e-01  7.31e-01   1.099291950e+05   1.099254268e+05   4.5e-03  39.73 \n",
      "(CVXPY) Jul 17 11:27:46 AM: 10  3.4e-02  1.5e+00  7.7e-02  8.18e-01   8.236457757e+04   8.236222136e+04   2.9e-03  41.69 \n",
      "(CVXPY) Jul 17 11:27:48 AM: 11  1.7e-02  7.7e-01  2.7e-02  8.86e-01   4.454361579e+04   4.454246573e+04   1.4e-03  43.56 \n",
      "(CVXPY) Jul 17 11:27:50 AM: 12  6.7e-03  3.0e-01  6.6e-03  9.55e-01   1.362890835e+04   1.362847392e+04   5.6e-04  45.34 \n",
      "(CVXPY) Jul 17 11:27:52 AM: 13  2.2e-03  1.0e-01  1.3e-03  9.89e-01   5.047668906e+03   5.047523558e+03   1.9e-04  47.08 \n",
      "(CVXPY) Jul 17 11:27:55 AM: 14  3.2e-04  1.4e-02  6.7e-05  1.00e+00   7.198206338e+02   7.198012971e+02   2.6e-05  50.11 \n",
      "(CVXPY) Jul 17 11:27:57 AM: 15  2.1e-04  9.3e-03  3.6e-05  1.00e+00   4.598780816e+02   4.598653183e+02   1.7e-05  51.91 \n",
      "(CVXPY) Jul 17 11:27:58 AM: 16  1.6e-04  7.2e-03  2.4e-05  1.00e+00   3.772532931e+02   3.772433635e+02   1.3e-05  53.66 \n",
      "(CVXPY) Jul 17 11:28:02 AM: 17  2.7e-05  1.2e-03  1.7e-06  1.00e+00   1.216183248e+02   1.216166824e+02   2.3e-06  56.73 \n",
      "(CVXPY) Jul 17 11:28:03 AM: 18  2.0e-05  8.9e-04  1.0e-06  9.99e-01   1.025079908e+02   1.025068007e+02   1.6e-06  58.58 \n",
      "(CVXPY) Jul 17 11:28:05 AM: 19  1.6e-05  7.2e-04  7.6e-07  9.99e-01   9.368651937e+01   9.368554468e+01   1.3e-06  60.33 \n",
      "(CVXPY) Jul 17 11:28:07 AM: 20  8.7e-06  3.9e-04  3.0e-07  9.97e-01   7.643281100e+01   7.643227767e+01   7.3e-07  62.56 \n"
     ]
    },
    {
     "name": "stdout",
     "output_type": "stream",
     "text": [
      "(CVXPY) Jul 17 11:28:09 AM: 21  5.4e-06  2.4e-04  1.5e-07  9.97e-01   6.885623398e+01   6.885590044e+01   4.5e-07  64.55 \n",
      "(CVXPY) Jul 17 11:28:11 AM: 22  2.8e-06  1.3e-04  5.8e-08  9.97e-01   6.319117843e+01   6.319099956e+01   2.4e-07  66.59 \n",
      "(CVXPY) Jul 17 11:28:13 AM: 23  2.2e-06  9.9e-05  3.9e-08  9.98e-01   6.182279417e+01   6.182265579e+01   1.8e-07  68.59 \n",
      "(CVXPY) Jul 17 11:28:16 AM: 24  7.1e-07  3.2e-05  7.2e-09  9.98e-01   5.877349114e+01   5.877344572e+01   5.9e-08  71.61 \n",
      "(CVXPY) Jul 17 11:28:18 AM: 25  4.7e-07  2.1e-05  3.9e-09  9.99e-01   5.834956200e+01   5.834953185e+01   3.9e-08  73.44 \n",
      "(CVXPY) Jul 17 11:28:21 AM: 26  1.0e-07  4.7e-06  4.1e-10  9.99e-01   5.771511919e+01   5.771511243e+01   8.7e-09  76.28 \n",
      "(CVXPY) Jul 17 11:28:24 AM: 27  1.6e-08  7.4e-07  2.5e-11  1.00e+00   5.758082438e+01   5.758082332e+01   1.4e-09  79.17 \n",
      "(CVXPY) Jul 17 11:28:28 AM: 28  5.5e-09  2.5e-07  4.9e-12  1.00e+00   5.756473477e+01   5.756473441e+01   4.6e-10  83.16 \n",
      "(CVXPY) Jul 17 11:28:31 AM: 29  4.9e-09  2.0e-07  2.6e-12  9.99e-01   5.756211135e+01   5.756211111e+01   3.0e-10  86.59 \n",
      "(CVXPY) Jul 17 11:28:35 AM: 30  3.0e-09  3.5e-07  2.0e-12  1.00e+00   5.756120643e+01   5.756120624e+01   2.5e-10  89.73 \n",
      "(CVXPY) Jul 17 11:28:35 AM: Optimizer terminated. Time: 90.77   \n",
      "(CVXPY) Jul 17 11:28:35 AM: \n",
      "(CVXPY) Jul 17 11:28:35 AM: \n",
      "(CVXPY) Jul 17 11:28:35 AM: Interior-point solution summary\n",
      "(CVXPY) Jul 17 11:28:35 AM:   Problem status  : PRIMAL_AND_DUAL_FEASIBLE\n",
      "(CVXPY) Jul 17 11:28:35 AM:   Solution status : OPTIMAL\n",
      "(CVXPY) Jul 17 11:28:36 AM:   Primal.  obj: 5.7561206430e+01    nrm: 1e+01    Viol.  con: 4e-07    var: 2e-06    cones: 0e+00  \n",
      "(CVXPY) Jul 17 11:28:36 AM:   Dual.    obj: 5.7561206237e+01    nrm: 3e+04    Viol.  con: 0e+00    var: 2e-08    cones: 0e+00  \n",
      "-------------------------------------------------------------------------------\n",
      "                                    Summary                                    \n",
      "-------------------------------------------------------------------------------\n",
      "(CVXPY) Jul 17 11:28:37 AM: Problem status: optimal\n",
      "(CVXPY) Jul 17 11:28:37 AM: Optimal value: 5.756e+01\n",
      "(CVXPY) Jul 17 11:28:37 AM: Compilation took 4.531e+01 seconds\n",
      "(CVXPY) Jul 17 11:28:37 AM: Solver (including time spent in interface) took 1.096e+02 seconds\n",
      "Creating BEV..\n",
      "Loading full influence matrix..\n",
      "Done\n"
     ]
    },
    {
     "data": {
      "image/png": "[encoded data removed]",
      "text/plain": [
       "<Figure size 864x576 with 1 Axes>"
      ]
     },
     "metadata": {
      "needs_background": "light"
     },
     "output_type": "display_data"
    },
    {
     "name": "stdout",
     "output_type": "stream",
     "text": [
      "Done\n"
     ]
    }
   ],
   "source": [
    "\"\"\"\n",
    "### PortPy provides full dense influence matrix (i.e., including all scattering components) and a truncated sparse\n",
    "    version (used for computational efficiency). This example clarifies the relationship and differences between\n",
    "    these matrices by showing the followings:\n",
    "    1- generating a plan using the sparse matrix (default matrix in PortPy)\n",
    "    2- calculating the full dose for the plan using the full matrix\n",
    "    3- manually calculating the sparse matrix from the full matrix\n",
    "\"\"\"\n",
    "\n",
    "import portpy.photon as pp\n",
    "import numpy as np\n",
    "import matplotlib.pyplot as plt\n",
    "\n",
    "\n",
    "def ex_4_inf_matrix_sparsification():\n",
    "    \"\"\"\n",
    "    1) generating a plan using the sparse matrix (default matrix in PortPy)\n",
    "\n",
    "    \"\"\"\n",
    "    # Create plan_sparse object\n",
    "    # By default, load_inf_matrix_full=False, and it only loads the sparse matrix\n",
    "    data_dir = r'../data'\n",
    "    data = pp.DataExplorer(data_dir=data_dir)\n",
    "    patient_id = 'Lung_Patient_7'\n",
    "    data.patient_id = patient_id\n",
    "\n",
    "    # Load ct, structure and beams as an object\n",
    "    ct = pp.CT(data)\n",
    "    structs = pp.Structures(data)\n",
    "    beams = pp.Beams(data)\n",
    "\n",
    "    # create rinds based upon rind definition in optimization params\n",
    "    opt_params = data.load_config_opt_params(protocol_name='Lung_2Gy_30Fx')\n",
    "    structs.create_opt_structures(opt_params)\n",
    "\n",
    "    # load influence matrix based upon beams and structure set\n",
    "    inf_matrix_sparse = pp.InfluenceMatrix(ct=ct, structs=structs, beams=beams)\n",
    "\n",
    "    # load clinical criteria from the config files for which plan to be optimized\n",
    "    protocol_name = 'Lung_2Gy_30Fx'\n",
    "    clinical_criteria = pp.ClinicalCriteria(data, protocol_name)\n",
    "\n",
    "    # Create my_plan object which would load and store all the data needed for optimization\n",
    "    plan_sparse = pp.Plan(ct, structs, beams, inf_matrix_sparse, clinical_criteria)\n",
    "\n",
    "    # create cvxpy problem using the clinical criteria and optimization parameters\n",
    "    opt = pp.Optimization(plan_sparse, opt_params=opt_params)\n",
    "    opt.create_cvxpy_problem()\n",
    "\n",
    "    sol_sparse = opt.solve(solver='MOSEK', verbose=True)\n",
    "\n",
    "    # Calculate the dose using the sparse matrix\n",
    "    dose_sparse_1d = plan_sparse.inf_matrix.A @ (sol_sparse['optimal_intensity'] * plan_sparse.get_num_of_fractions())\n",
    "\n",
    "    \"\"\"\n",
    "    3) calculating the full dose for the plan using the full matrix\n",
    "    \n",
    "    \"\"\"\n",
    "    # Note: It is often computationally impractical to use the full matrix for optimization. We just use the\n",
    "    #   full matrix to calculate the dose for the solution obtained by sparse matrix and show the resultant discrepancy\n",
    "\n",
    "    # create plan_full object by specifying load_inf_matrix_full=True\n",
    "    beams_full = pp.Beams(data, load_inf_matrix_full=True)\n",
    "    # load influence matrix based upon beams and structure set\n",
    "    inf_matrix_full = pp.InfluenceMatrix(ct=ct, structs=structs, beams=beams_full, is_full=True)\n",
    "    plan_full = pp.Plan(ct, structs, beams, inf_matrix_full, clinical_criteria)\n",
    "    # use the full influence matrix to calculate the dose for the plan obtained by sparse matrix\n",
    "    dose_full_1d = plan_full.inf_matrix.A @ (sol_sparse['optimal_intensity'] * plan_full.get_num_of_fractions())\n",
    "\n",
    "    # Visualize the DVH discrepancy\n",
    "    struct_names = ['PTV', 'ESOPHAGUS', 'HEART', 'CORD']\n",
    "    fig, ax = plt.subplots(figsize=(12, 8))\n",
    "    ax = pp.Visualization.plot_dvh(plan_sparse, dose_1d=dose_sparse_1d, struct_names=struct_names, style='solid', ax=ax, norm_flag=True)\n",
    "    ax = pp.Visualization.plot_dvh(plan_full, dose_1d=dose_full_1d, struct_names=struct_names, style='dotted', ax=ax, norm_flag=True)\n",
    "    ax.set_title('- Sparse .. Full')\n",
    "    plt.show()\n",
    "    print('Done')\n",
    "\n",
    "    \"\"\" \n",
    "    3) manually calculating the sparse matrix from the full matrix\n",
    "    \n",
    "    \"\"\"\n",
    "    # The sparse and full matrices are both pre-calculated and included in PorPy data.\n",
    "    #   The sparse matrix; however, was obtained by simply zeroing out the small elements in the full matrix that were\n",
    "    #   less than a threshold specified in \"my_plan.inf_matrix.sparse_tol\". Here, we manually generate the sparse\n",
    "    #   matrix from the full matrix using this threshold to clarify the process\n",
    "\n",
    "    #  Get A_sparse and A_full\n",
    "    A_full = plan_full.inf_matrix.A\n",
    "    A_sparse = plan_sparse.inf_matrix.A\n",
    "    # Get the threshold value used by PortPy to truncate the matrix\n",
    "    # sparse tol is 1% of the maximum of influence matrix of planner beams\n",
    "    sparse_tol = plan_sparse.inf_matrix.sparse_tol\n",
    "    # sparse_tol = 0.01*np.amax(A_full)\n",
    "\n",
    "    # Truncate the full matrix\n",
    "    A_full[A_full <= sparse_tol] = 0\n",
    "    test = np.abs(A_full - A_sparse.todense()) <= 1e-3\n",
    "    # Check if both influence matrices agree\n",
    "    assert test.all()\n",
    "\n",
    "\n",
    "if __name__ == \"__main__\":\n",
    "    ex_4_inf_matrix_sparsification()\n"
   ]
  },
  {
   "cell_type": "code",
   "execution_count": 1,
   "id": "d5f49514",
   "metadata": {},
   "outputs": [
    {
     "name": "stdout",
     "output_type": "stream",
     "text": [
      "Creating BEV..\n",
      "Loading sparse influence matrix...\n",
      "Done\n"
     ]
    }
   ],
   "source": [
    "import portpy.photon as pp\n",
    "import numpy as np\n",
    "data_dir = r'../data'\n",
    "data = pp.DataExplorer(data_dir=data_dir)\n",
    "patient_id = 'Lung_Phantom_Patient_1'\n",
    "data.patient_id = patient_id\n",
    "ct = pp.CT(data)\n",
    "structs = pp.Structures(data)\n",
    "beams = pp.Beams(data)\n",
    "#opt_params = data.load_config_opt_params(protocol_name='Lung_2Gy_30Fx')\n",
    "#structs.create_opt_structures(opt_params)\n",
    "inf_matrix_sparse = pp.InfluenceMatrix(ct=ct, structs=structs, beams=beams)"
   ]
  },
  {
   "cell_type": "code",
   "execution_count": 4,
   "id": "e3c690be",
   "metadata": {},
   "outputs": [
    {
     "name": "stdout",
     "output_type": "stream",
     "text": [
      "Creating BEV..\n",
      "Loading sparse influence matrix...\n",
      "Done\n",
      "Creating BEV..\n",
      "Loading full influence matrix..\n",
      "Done\n"
     ]
    }
   ],
   "source": [
    "import portpy.photon as pp\n",
    "\n",
    "data_dir = r'../data'\n",
    "data = pp.DataExplorer(data_dir=data_dir)\n",
    "patient_id = 'Lung_Patient_7'\n",
    "data.patient_id = patient_id\n",
    "\n",
    "ct = pp.CT(data)\n",
    "structs = pp.Structures(data)\n",
    "beams = pp.Beams(data)\n",
    "beams_full = pp.Beams(data, load_inf_matrix_full=True)\n",
    "\n",
    "protocol_name = 'Lung_2Gy_30Fx'\n",
    "clinical_criteria = pp.ClinicalCriteria(data, protocol_name)\n",
    "\n",
    "inf_matrix_sparse = pp.InfluenceMatrix(ct=ct, structs=structs, beams=beams)\n",
    "inf_matrix_full = pp.InfluenceMatrix(ct=ct, structs=structs, beams=beams_full, is_full=True)\n",
    "\n",
    "plan_full = pp.Plan(ct, structs, beams, inf_matrix_full, clinical_criteria)\n",
    "\n",
    "#A_full = plan_full.inf_matrix.A\n",
    "#A_sparse = plan_sparse.inf_matrix.A\n",
    "\n",
    "#sparse_tol = plan_sparse.inf_matrix.sparse_tol\n",
    "\n",
    "#A_full[A_full <= sparse_tol] = 0\n",
    "#test = np.abs(A_full - A_sparse.todense()) <= 1e-3\n",
    "\n",
    "# assert test.all()"
   ]
  },
  {
   "cell_type": "code",
   "execution_count": 5,
   "id": "ceeb4731",
   "metadata": {},
   "outputs": [],
   "source": [
    "plan_full = pp.Plan(ct, structs, beams, inf_matrix_full, clinical_criteria)\n",
    "plan_sparse = pp.Plan(ct, structs, beams, inf_matrix_sparse, clinical_criteria)"
   ]
  },
  {
   "cell_type": "code",
   "execution_count": 6,
   "id": "dd922aff",
   "metadata": {},
   "outputs": [],
   "source": [
    "A_full = plan_full.inf_matrix.A\n",
    "A_sparse = plan_sparse.inf_matrix.A"
   ]
  },
  {
   "cell_type": "code",
   "execution_count": 7,
   "id": "fe196ce1",
   "metadata": {},
   "outputs": [
    {
     "name": "stdout",
     "output_type": "stream",
     "text": [
      "373877 2679\n"
     ]
    }
   ],
   "source": [
    "m,n = A_full.shape\n",
    "print(m,n)"
   ]
  },
  {
   "cell_type": "code",
   "execution_count": 8,
   "id": "00b529be",
   "metadata": {},
   "outputs": [
    {
     "name": "stdout",
     "output_type": "stream",
     "text": [
      "تعداد مقادیر غیر صفر:  363297695\n"
     ]
    }
   ],
   "source": [
    "##A_full.count_nonzero()    #Number of non-zero entries, equivalent to\n",
    "import numpy as np\n",
    "nonzero_count = np.count_nonzero(A_full)\n",
    "print(\"تعداد مقادیر غیر صفر: \", nonzero_count)\n"
   ]
  },
  {
   "cell_type": "code",
   "execution_count": 9,
   "id": "189e01c6",
   "metadata": {},
   "outputs": [
    {
     "data": {
      "text/plain": [
       "2"
      ]
     },
     "execution_count": 9,
     "metadata": {},
     "output_type": "execute_result"
    }
   ],
   "source": [
    "A_full.ndim"
   ]
  },
  {
   "cell_type": "code",
   "execution_count": 10,
   "id": "b03c45fb",
   "metadata": {},
   "outputs": [
    {
     "data": {
      "text/plain": [
       "False"
      ]
     },
     "execution_count": 10,
     "metadata": {},
     "output_type": "execute_result"
    }
   ],
   "source": [
    "## بررسی اسپارس بودن ماتریس\n",
    "\n",
    "\n",
    "from scipy import sparse\n",
    "\n",
    "is_sparse = sparse.issparse(A_full)\n",
    "\n",
    "is_sparse"
   ]
  },
  {
   "cell_type": "code",
   "execution_count": 11,
   "id": "e8962a34",
   "metadata": {},
   "outputs": [
    {
     "name": "stdout",
     "output_type": "stream",
     "text": [
      "373877 2679\n"
     ]
    }
   ],
   "source": [
    "r,p = A_sparse.shape\n",
    "print(r,p)"
   ]
  },
  {
   "cell_type": "code",
   "execution_count": 13,
   "id": "856d677d",
   "metadata": {},
   "outputs": [
    {
     "data": {
      "text/plain": [
       "5779548"
      ]
     },
     "execution_count": 13,
     "metadata": {},
     "output_type": "execute_result"
    }
   ],
   "source": [
    "A_sparse.getnnz()    #Number of non-zero entries, equivalent to"
   ]
  },
  {
   "cell_type": "code",
   "execution_count": 16,
   "id": "f24fc3c5",
   "metadata": {},
   "outputs": [
    {
     "data": {
      "text/plain": [
       "True"
      ]
     },
     "execution_count": 16,
     "metadata": {},
     "output_type": "execute_result"
    }
   ],
   "source": [
    "## بررسی اسپارس بودن ماتریس\n",
    "\n",
    "\n",
    "from scipy import sparse\n",
    "\n",
    "is_sparse = sparse.issparse(A_sparse)\n",
    "\n",
    "is_sparse"
   ]
  },
  {
   "cell_type": "code",
   "execution_count": 15,
   "id": "e6f4ffef",
   "metadata": {},
   "outputs": [
    {
     "data": {
      "text/plain": [
       "'csr'"
      ]
     },
     "execution_count": 15,
     "metadata": {},
     "output_type": "execute_result"
    }
   ],
   "source": [
    "A_sparse.format"
   ]
  },
  {
   "cell_type": "code",
   "execution_count": 53,
   "id": "b86afc31",
   "metadata": {},
   "outputs": [
    {
     "data": {
      "text/plain": [
       "<bound method spmatrix.getmaxprint of <373877x2679 sparse matrix of type '<class 'numpy.float32'>'\n",
       "\twith 5779548 stored elements in Compressed Sparse Row format>>"
      ]
     },
     "execution_count": 53,
     "metadata": {},
     "output_type": "execute_result"
    }
   ],
   "source": [
    "A_sparse.getmaxprint         #Maximum number of elements to display when printed."
   ]
  },
  {
   "cell_type": "code",
   "execution_count": 55,
   "id": "de38cb38",
   "metadata": {},
   "outputs": [
    {
     "data": {
      "text/plain": [
       "(array([ 54317,  54318,  54330, ..., 329775, 329775, 329912]),\n",
       " array([ 735,  734,  736, ..., 1881, 1882, 1881]))"
      ]
     },
     "execution_count": 55,
     "metadata": {},
     "output_type": "execute_result"
    }
   ],
   "source": [
    "A_sparse.nonzero()    #nonzero indices"
   ]
  },
  {
   "cell_type": "code",
   "execution_count": 76,
   "id": "12d134ff",
   "metadata": {},
   "outputs": [],
   "source": [
    "# تریم کردن ماتریس کامل ـ صفر کردن درایه های زیر آستانه اش با،  sparse_tol\n",
    "sparse_tol = plan_sparse.inf_matrix.sparse_tol \n",
    "\n",
    "##trimmed_A_full = (A_full[A_full <= sparse_tol] = 0)\n",
    "\n",
    "trimmed_A_full = np.copy(A_full)\n",
    "trimmed_A_full[trimmed_A_full <= sparse_tol] = 0\n",
    "\n",
    "\n",
    "test = np.abs(A_full - A_sparse.todense()) <= 1e-3\n",
    "assert test.all()"
   ]
  },
  {
   "cell_type": "code",
   "execution_count": 75,
   "id": "b7da6520",
   "metadata": {},
   "outputs": [],
   "source": [
    "##trimmed_A_full = A_full[A_full <= sparse_tol]\n",
    "##trimmed_A_full_shape = trimmed_A_full.shape\n",
    "##print(f\"trimmed_A_full_shape{trimmed_A_full_shape}\")\n"
   ]
  },
  {
   "cell_type": "code",
   "execution_count": 77,
   "id": "4389adb6",
   "metadata": {},
   "outputs": [
    {
     "data": {
      "text/plain": [
       "2"
      ]
     },
     "execution_count": 77,
     "metadata": {},
     "output_type": "execute_result"
    }
   ],
   "source": [
    "trimmed_A_full.ndim"
   ]
  },
  {
   "cell_type": "code",
   "execution_count": 94,
   "id": "badf307d",
   "metadata": {},
   "outputs": [
    {
     "data": {
      "text/plain": [
       "(373877, 2679)"
      ]
     },
     "execution_count": 94,
     "metadata": {},
     "output_type": "execute_result"
    }
   ],
   "source": [
    "trimmed_A_full.shape"
   ]
  },
  {
   "cell_type": "code",
   "execution_count": 78,
   "id": "39cc8d8a",
   "metadata": {},
   "outputs": [
    {
     "name": "stdout",
     "output_type": "stream",
     "text": [
      "تعداد مقادیر غیر صفر:  5779548\n"
     ]
    }
   ],
   "source": [
    "nonzero_count = np.count_nonzero(trimmed_A_full)\n",
    "print(\"تعداد مقادیر غیر صفر: \", nonzero_count)\n",
    "\n",
    "##   همه مقادیر ماتریس  غیر صفر ??      \n",
    "##    چرا با ماتریس فول برابره ؟؟؟  "
   ]
  },
  {
   "cell_type": "code",
   "execution_count": 87,
   "id": "179198df",
   "metadata": {},
   "outputs": [
    {
     "name": "stdout",
     "output_type": "stream",
     "text": [
      "زیرماتریس:\n",
      "[[0. 0. 0. 0. 0. 0. 0. 0. 0. 0.]\n",
      " [0. 0. 0. 0. 0. 0. 0. 0. 0. 0.]\n",
      " [0. 0. 0. 0. 0. 0. 0. 0. 0. 0.]\n",
      " [0. 0. 0. 0. 0. 0. 0. 0. 0. 0.]\n",
      " [0. 0. 0. 0. 0. 0. 0. 0. 0. 0.]\n",
      " [0. 0. 0. 0. 0. 0. 0. 0. 0. 0.]\n",
      " [0. 0. 0. 0. 0. 0. 0. 0. 0. 0.]\n",
      " [0. 0. 0. 0. 0. 0. 0. 0. 0. 0.]\n",
      " [0. 0. 0. 0. 0. 0. 0. 0. 0. 0.]\n",
      " [0. 0. 0. 0. 0. 0. 0. 0. 0. 0.]]\n"
     ]
    }
   ],
   "source": [
    "## ??????????\n",
    "\n",
    "\n",
    "start_row =500 # شروع ردیف\n",
    "end_row = 510# پایان ردیف\n",
    "start_col = 500  # شروع ستون\n",
    "end_col = 510  # پایان ستون\n",
    "\n",
    "submatrix = A_full[start_row:end_row, start_col:end_col]\n",
    "print(\"زیرماتریس:\")\n",
    "print(submatrix)\n"
   ]
  },
  {
   "cell_type": "code",
   "execution_count": 79,
   "id": "fb07689c",
   "metadata": {},
   "outputs": [
    {
     "data": {
      "text/plain": [
       "array([[0., 0., 0., ..., 0., 0., 0.],\n",
       "       [0., 0., 0., ..., 0., 0., 0.],\n",
       "       [0., 0., 0., ..., 0., 0., 0.],\n",
       "       ...,\n",
       "       [0., 0., 0., ..., 0., 0., 0.],\n",
       "       [0., 0., 0., ..., 0., 0., 0.],\n",
       "       [0., 0., 0., ..., 0., 0., 0.]], dtype=float32)"
      ]
     },
     "execution_count": 79,
     "metadata": {},
     "output_type": "execute_result"
    }
   ],
   "source": [
    "trimmed_A_full                     ##?????????????"
   ]
  },
  {
   "cell_type": "code",
   "execution_count": 90,
   "id": "1a57a660",
   "metadata": {},
   "outputs": [
    {
     "name": "stdout",
     "output_type": "stream",
     "text": [
      "ابعاد بردار تصادفی: (2679,)\n"
     ]
    }
   ],
   "source": [
    "import numpy as np\n",
    "\n",
    "A_full_shape = (373877, 2679)\n",
    "\n",
    "# تولید بردار تصادفی\n",
    "random_vector = np.random.rand(A_full_shape[1])\n",
    "\n",
    "###         چرا ابعاد بردار باید متناسب با ستون ماتریس باشه؟؟؟؟\n",
    "print(\"ابعاد بردار تصادفی:\", random_vector.shape)\n"
   ]
  },
  {
   "cell_type": "code",
   "execution_count": 97,
   "id": "3bc5bc70",
   "metadata": {},
   "outputs": [],
   "source": [
    "m = 2679\n",
    "n = 1\n",
    "random_vector = np.random.rand(m * n).reshape(m, n)"
   ]
  },
  {
   "cell_type": "raw",
   "id": "8d866107",
   "metadata": {},
   "source": [
    "## ERRORRRRRRR\n",
    "W = np.matmul(random_vector , A_full)\n",
    "یا\n",
    "\n",
    "m = 1\n",
    "n = 2679\n",
    "random_vector = np.random.rand(m * n).reshape(m, n)\n",
    "W = np.matmul(random_vector,A_full)\n"
   ]
  },
  {
   "cell_type": "code",
   "execution_count": 98,
   "id": "d53db4ae",
   "metadata": {},
   "outputs": [],
   "source": [
    "W = np.matmul(A_full, random_vector)\n"
   ]
  },
  {
   "cell_type": "code",
   "execution_count": 99,
   "id": "495d5369",
   "metadata": {},
   "outputs": [
    {
     "data": {
      "text/plain": [
       "(373877, 1)"
      ]
     },
     "execution_count": 99,
     "metadata": {},
     "output_type": "execute_result"
    }
   ],
   "source": [
    "W.shape"
   ]
  },
  {
   "cell_type": "code",
   "execution_count": 117,
   "id": "889190f6",
   "metadata": {},
   "outputs": [
    {
     "name": "stdout",
     "output_type": "stream",
     "text": [
      "ابعاد بردار تصادفی: (2679,)\n"
     ]
    }
   ],
   "source": [
    "import numpy as np\n",
    "\n",
    "trimmed_A_full_shape = (373877, 2679)\n",
    "\n",
    "# تولید بردار تصادفی\n",
    "random_vector = np.random.rand(trimmed_A_full_shape[1])\n",
    "\n",
    "###         چرا ابعاد بردار باید متناسب با ستون ماتریس باشه؟؟؟؟\n",
    "print(\"ابعاد بردار تصادفی:\", random_vector.shape)\n"
   ]
  },
  {
   "cell_type": "code",
   "execution_count": 118,
   "id": "0653a56a",
   "metadata": {},
   "outputs": [
    {
     "data": {
      "text/plain": [
       "(373877,)"
      ]
     },
     "execution_count": 118,
     "metadata": {},
     "output_type": "execute_result"
    }
   ],
   "source": [
    "W_trim= np.matmul(trimmed_A_full, random_vector)\n",
    "W_trim.shape"
   ]
  },
  {
   "cell_type": "code",
   "execution_count": null,
   "id": "bb062bd9",
   "metadata": {},
   "outputs": [],
   "source": []
  },
  {
   "cell_type": "raw",
   "id": "9d79d824",
   "metadata": {},
   "source": [
    "import json\n",
    "# Opening JSON file\n",
    "f1 = open('../Data/Lung_Patient_1/ClinicalCriteria_MetaData.json')\n",
    "f2 = open('../Data/Lung_Patient_1/OptimizationVoxels_MetaData.json')\n",
    "f3 = open('../Data/Lung_Patient_1/PlannerBeams.json')\n",
    "f4 = open('../Data/Lung_Patient_1/StructureSet_MetaData.json')\n",
    "# returns JSON object as\n",
    "# a dictionary\n",
    "data1 = json.load(f1)\n",
    "data2 = json.load(f2)\n",
    "data3 = json.load(f3)\n",
    "data4 = json.load(f4)\n",
    "infM=[]\n",
    "print(data1)\n",
    "##Iterating through the json\n",
    "##list\n",
    "for i in data['emp_details']:\n",
    "        print(i)\n",
    "    Closing file\n",
    "f.close()"
   ]
  },
  {
   "cell_type": "code",
   "execution_count": null,
   "id": "a253dd8d",
   "metadata": {},
   "outputs": [],
   "source": []
  }
 ],
 "metadata": {
  "kernelspec": {
   "display_name": "Python 3 (ipykernel)",
   "language": "python",
   "name": "python3"
  },
  "language_info": {
   "codemirror_mode": {
    "name": "ipython",
    "version": 3
   },
   "file_extension": ".py",
   "mimetype": "text/x-python",
   "name": "python",
   "nbconvert_exporter": "python",
   "pygments_lexer": "ipython3",
   "version": "3.11.5"
  }
 },
 "nbformat": 4,
 "nbformat_minor": 5
}
