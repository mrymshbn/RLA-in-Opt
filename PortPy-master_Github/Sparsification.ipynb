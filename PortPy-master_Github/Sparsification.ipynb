{
 "cells": [
  {
   "cell_type": "code",
   "execution_count": 1,
   "id": "f37c67a6",
   "metadata": {},
   "outputs": [],
   "source": [
    "import scipy\n",
    "import random\n",
    "import math\n",
    "import portpy.photon as pp\n",
    "import numpy as np\n",
    "from cvxpy import *\n",
    "from scipy import sparse\n",
    "import sklearn.metrics\n",
    "import cProfile\n",
    "import time\n",
    "import sys\n",
    "import psutil\n",
    "import scipy.sparse as sp\n",
    "import matplotlib.pyplot as plt\n",
    "import scipy.sparse as coo_matrix\n",
    "import scipy.sparse as csr_matrix"
   ]
  },
  {
   "cell_type": "code",
   "execution_count": 2,
   "id": "cc051ee9",
   "metadata": {},
   "outputs": [
    {
     "name": "stdout",
     "output_type": "stream",
     "text": [
      "creating rinds.. This step may take some time due to dilation\n",
      "rinds created!!\n",
      "Creating BEV..\n",
      "Loading sparse influence matrix...\n",
      "Done\n",
      "Objective Start\n",
      "Objective done\n",
      "Constraints Start\n",
      "Structure ESOPHAGUS not available!\n",
      "Structure ESOPHAGUS not available!\n",
      "Constraints done\n",
      "===============================================================================\n",
      "                                     CVXPY                                     \n",
      "                                     v1.4.1                                    \n",
      "===============================================================================\n",
      "(CVXPY) Jan 28 01:05:44 PM: Your problem has 1946 variables, 14 constraints, and 0 parameters.\n",
      "(CVXPY) Jan 28 01:05:44 PM: It is compliant with the following grammars: DCP, DQCP\n",
      "(CVXPY) Jan 28 01:05:44 PM: (If you need to solve this problem multiple times, but with different data, consider using parameters.)\n",
      "(CVXPY) Jan 28 01:05:44 PM: CVXPY will first compile your problem; then, it will invoke a numerical solver to obtain a solution.\n",
      "(CVXPY) Jan 28 01:05:44 PM: Your problem is compiled with the CPP canonicalization backend.\n",
      "-------------------------------------------------------------------------------\n",
      "                                  Compilation                                  \n",
      "-------------------------------------------------------------------------------\n",
      "(CVXPY) Jan 28 01:05:44 PM: Compiling problem (target solver=MOSEK).\n",
      "(CVXPY) Jan 28 01:05:44 PM: Reduction chain: Dcp2Cone -> CvxAttr2Constr -> ConeMatrixStuffing -> MOSEK\n",
      "(CVXPY) Jan 28 01:05:44 PM: Applying reduction Dcp2Cone\n",
      "(CVXPY) Jan 28 01:05:44 PM: Applying reduction CvxAttr2Constr\n",
      "(CVXPY) Jan 28 01:05:44 PM: Applying reduction ConeMatrixStuffing\n",
      "(CVXPY) Jan 28 01:05:45 PM: Applying reduction MOSEK\n",
      "(CVXPY) Jan 28 01:05:46 PM: Finished problem compilation (took 1.487e+00 seconds).\n",
      "-------------------------------------------------------------------------------\n",
      "                                Numerical solver                               \n",
      "-------------------------------------------------------------------------------\n",
      "(CVXPY) Jan 28 01:05:46 PM: Invoking solver MOSEK  to obtain a solution.\n",
      "\n",
      "\n",
      "(CVXPY) Jan 28 01:05:46 PM: Problem\n",
      "(CVXPY) Jan 28 01:05:46 PM:   Name                   :                 \n",
      "(CVXPY) Jan 28 01:05:46 PM:   Objective sense        : maximize        \n",
      "(CVXPY) Jan 28 01:05:46 PM:   Type                   : CONIC (conic optimization problem)\n",
      "(CVXPY) Jan 28 01:05:46 PM:   Constraints            : 1959            \n",
      "(CVXPY) Jan 28 01:05:46 PM:   Affine conic cons.     : 0               \n",
      "(CVXPY) Jan 28 01:05:46 PM:   Disjunctive cons.      : 0               \n",
      "(CVXPY) Jan 28 01:05:46 PM:   Cones                  : 13              \n",
      "(CVXPY) Jan 28 01:05:46 PM:   Scalar variables       : 215748          \n",
      "(CVXPY) Jan 28 01:05:46 PM:   Matrix variables       : 0               \n",
      "(CVXPY) Jan 28 01:05:46 PM:   Integer variables      : 0               \n",
      "(CVXPY) Jan 28 01:05:46 PM: \n",
      "(CVXPY) Jan 28 01:05:46 PM: Optimizer started.\n",
      "(CVXPY) Jan 28 01:05:46 PM: Presolve started.\n",
      "(CVXPY) Jan 28 01:05:46 PM: Linear dependency checker started.\n",
      "(CVXPY) Jan 28 01:05:47 PM: Linear dependency checker terminated.\n",
      "(CVXPY) Jan 28 01:05:47 PM: Eliminator started.\n",
      "(CVXPY) Jan 28 01:05:47 PM: Freed constraints in eliminator : 0\n",
      "(CVXPY) Jan 28 01:05:47 PM: Eliminator terminated.\n",
      "(CVXPY) Jan 28 01:05:47 PM: Eliminator - tries                  : 1                 time                   : 0.00            \n",
      "(CVXPY) Jan 28 01:05:47 PM: Lin. dep.  - tries                  : 1                 time                   : 0.02            \n",
      "(CVXPY) Jan 28 01:05:47 PM: Lin. dep.  - primal attempts        : 1                 successes              : 1               \n",
      "(CVXPY) Jan 28 01:05:47 PM: Lin. dep.  - dual attempts          : 0                 successes              : 0               \n",
      "(CVXPY) Jan 28 01:05:47 PM: Lin. dep.  - primal deps.           : 0                 dual deps.             : 0               \n",
      "(CVXPY) Jan 28 01:05:47 PM: Presolve terminated. Time: 0.17    \n",
      "(CVXPY) Jan 28 01:05:47 PM: Optimizer  - threads                : 3               \n",
      "(CVXPY) Jan 28 01:05:47 PM: Optimizer  - solved problem         : the primal      \n",
      "(CVXPY) Jan 28 01:05:47 PM: Optimizer  - Constraints            : 1959            \n",
      "(CVXPY) Jan 28 01:05:47 PM: Optimizer  - Cones                  : 13              \n",
      "(CVXPY) Jan 28 01:05:47 PM: Optimizer  - Scalar variables       : 63183             conic                  : 50518           \n",
      "(CVXPY) Jan 28 01:05:47 PM: Optimizer  - Semi-definite variables: 0                 scalarized             : 0               \n",
      "(CVXPY) Jan 28 01:05:47 PM: Factor     - setup time             : 0.17            \n",
      "(CVXPY) Jan 28 01:05:47 PM: Factor     - dense det. time        : 0.00              GP order time          : 0.00            \n",
      "(CVXPY) Jan 28 01:05:47 PM: Factor     - nonzeros before factor : 2.46e+05          after factor           : 2.47e+05        \n",
      "(CVXPY) Jan 28 01:05:47 PM: Factor     - dense dim.             : 4                 flops                  : 8.21e+07        \n",
      "(CVXPY) Jan 28 01:05:47 PM: ITE PFEAS    DFEAS    GFEAS    PRSTATUS   POBJ              DOBJ              MU       TIME  \n",
      "(CVXPY) Jan 28 01:05:47 PM: 0   1.4e+02  2.3e+02  1.4e+01  0.00e+00   -1.300000000e+01  -0.000000000e+00  1.0e+00  0.48  \n",
      "(CVXPY) Jan 28 01:05:47 PM: 1   1.2e+02  1.9e+02  1.3e+01  -9.63e-01  4.679787643e+03   4.692415819e+03   8.4e-01  0.53  \n",
      "(CVXPY) Jan 28 01:05:47 PM: 2   7.5e+01  1.2e+02  9.1e+00  -8.68e-01  6.575663964e+03   6.586712761e+03   5.3e-01  0.56  \n",
      "(CVXPY) Jan 28 01:05:47 PM: 3   3.3e+01  5.4e+01  4.7e+00  -6.48e-01  5.483660804e+03   5.491376940e+03   2.3e-01  0.59  \n",
      "(CVXPY) Jan 28 01:05:47 PM: 4   1.7e+01  2.8e+01  2.3e+00  -1.90e-01  2.759695648e+03   2.764885110e+03   1.2e-01  0.62  \n",
      "(CVXPY) Jan 28 01:05:47 PM: 5   1.4e+01  2.3e+01  1.8e+00  1.40e-01   2.641460111e+03   2.645958464e+03   9.9e-02  0.66  \n",
      "(CVXPY) Jan 28 01:05:47 PM: 6   6.9e+00  1.1e+01  7.0e-01  3.32e-01   1.135836563e+03   1.138391456e+03   4.9e-02  0.69  \n",
      "(CVXPY) Jan 28 01:05:47 PM: 7   2.6e+00  4.3e+00  1.7e-01  6.90e-01   6.433717495e+02   6.443825583e+02   1.8e-02  0.72  \n",
      "(CVXPY) Jan 28 01:05:47 PM: 8   7.7e-01  1.3e+00  2.9e-02  9.19e-01   2.519392152e+02   2.522318222e+02   5.5e-03  0.77  \n",
      "(CVXPY) Jan 28 01:05:47 PM: 9   1.9e-01  3.1e-01  3.7e-03  1.00e+00   1.112136823e+02   1.112831916e+02   1.4e-03  0.80  \n",
      "(CVXPY) Jan 28 01:05:47 PM: 10  5.2e-02  8.4e-02  5.2e-04  1.01e+00   6.185792813e+01   6.187635074e+01   3.6e-04  0.84  \n",
      "(CVXPY) Jan 28 01:05:47 PM: 11  1.3e-02  2.2e-02  7.0e-05  1.00e+00   4.731442626e+01   4.731918194e+01   9.5e-05  0.88  \n",
      "(CVXPY) Jan 28 01:05:47 PM: 12  4.1e-03  6.7e-03  1.2e-05  1.00e+00   4.361501519e+01   4.361646033e+01   2.9e-05  0.91  \n",
      "(CVXPY) Jan 28 01:05:47 PM: 13  1.3e-03  2.1e-03  2.1e-06  9.99e-01   4.251789703e+01   4.251835712e+01   9.3e-06  0.95  \n",
      "(CVXPY) Jan 28 01:05:47 PM: 14  4.8e-04  7.9e-04  4.9e-07  9.99e-01   4.220398676e+01   4.220415346e+01   3.4e-06  0.98  \n",
      "(CVXPY) Jan 28 01:05:47 PM: 15  1.1e-04  1.7e-04  5.0e-08  1.00e+00   4.207786874e+01   4.207790501e+01   7.5e-07  1.02  \n",
      "(CVXPY) Jan 28 01:05:47 PM: 16  6.0e-06  9.7e-06  6.2e-10  1.00e+00   4.204776526e+01   4.204776745e+01   4.2e-08  1.06  \n",
      "(CVXPY) Jan 28 01:05:47 PM: 17  3.0e-06  1.8e-05  2.3e-10  9.67e-01   4.204639296e+01   4.204639405e+01   2.1e-08  1.09  \n",
      "(CVXPY) Jan 28 01:05:47 PM: 18  1.6e-06  9.6e-06  9.1e-11  9.98e-01   4.204592957e+01   4.204593015e+01   1.1e-08  1.12  \n",
      "(CVXPY) Jan 28 01:05:47 PM: 19  8.0e-07  4.7e-06  3.2e-11  9.88e-01   4.204558617e+01   4.204558645e+01   5.5e-09  1.16  \n",
      "(CVXPY) Jan 28 01:05:47 PM: 20  3.0e-07  1.8e-06  7.4e-12  9.86e-01   4.204545616e+01   4.204545626e+01   2.0e-09  1.19  \n",
      "(CVXPY) Jan 28 01:05:48 PM: 21  9.7e-08  2.7e-06  1.4e-12  9.94e-01   4.204539011e+01   4.204539014e+01   6.6e-10  1.25  \n",
      "(CVXPY) Jan 28 01:05:48 PM: Optimizer terminated. Time: 1.30    \n",
      "(CVXPY) Jan 28 01:05:48 PM: \n",
      "(CVXPY) Jan 28 01:05:48 PM: \n",
      "(CVXPY) Jan 28 01:05:48 PM: Interior-point solution summary\n",
      "(CVXPY) Jan 28 01:05:48 PM:   Problem status  : PRIMAL_AND_DUAL_FEASIBLE\n",
      "(CVXPY) Jan 28 01:05:48 PM:   Solution status : OPTIMAL\n"
     ]
    },
    {
     "name": "stdout",
     "output_type": "stream",
     "text": [
      "(CVXPY) Jan 28 01:05:48 PM:   Primal.  obj: 4.2045390107e+01    nrm: 1e+02    Viol.  con: 1e-06    var: 5e-07    cones: 0e+00  \n",
      "(CVXPY) Jan 28 01:05:48 PM:   Dual.    obj: 4.2045390142e+01    nrm: 6e+03    Viol.  con: 0e+00    var: 9e-09    cones: 0e+00  \n",
      "-------------------------------------------------------------------------------\n",
      "                                    Summary                                    \n",
      "-------------------------------------------------------------------------------\n",
      "(CVXPY) Jan 28 01:05:48 PM: Problem status: optimal\n",
      "(CVXPY) Jan 28 01:05:48 PM: Optimal value: 4.205e+01\n",
      "(CVXPY) Jan 28 01:05:48 PM: Compilation took 1.487e+00 seconds\n",
      "(CVXPY) Jan 28 01:05:48 PM: Solver (including time spent in interface) took 1.822e+00 seconds\n",
      "Creating BEV..\n",
      "Loading full influence matrix..\n",
      "Done\n"
     ]
    }
   ],
   "source": [
    "    data_dir = r'../data'\n",
    "    data = pp.DataExplorer(data_dir=data_dir)\n",
    "    patient_id = 'Lung_Phantom_Patient_1'\n",
    "    data.patient_id = patient_id\n",
    "\n",
    "    ct = pp.CT(data)\n",
    "    structs = pp.Structures(data)\n",
    "    beams = pp.Beams(data)\n",
    "\n",
    "    opt_params = data.load_config_opt_params(protocol_name='Lung_2Gy_30Fx')\n",
    "    structs.create_opt_structures(opt_params)\n",
    "\n",
    "    inf_matrix_sparse = pp.InfluenceMatrix(ct=ct, structs=structs, beams=beams)\n",
    "\n",
    "    protocol_name = 'Lung_2Gy_30Fx'\n",
    "    clinical_criteria = pp.ClinicalCriteria(data, protocol_name)\n",
    "\n",
    "    plan_sparse = pp.Plan(ct, structs, beams, inf_matrix_sparse, clinical_criteria)\n",
    "\n",
    " \n",
    "    opt = pp.Optimization(plan_sparse, opt_params=opt_params)\n",
    "    opt.create_cvxpy_problem()\n",
    "\n",
    "    sol_sparse = opt.solve(solver='MOSEK', verbose=True)\n",
    "\n",
    "   \n",
    "    dose_sparse_1d = plan_sparse.inf_matrix.A @ (sol_sparse['optimal_intensity'] * plan_sparse.get_num_of_fractions())\n",
    "\n",
    "    beams_full = pp.Beams(data, load_inf_matrix_full=True)\n",
    "   \n",
    "    inf_matrix_full = pp.InfluenceMatrix(ct=ct, structs=structs, beams=beams_full, is_full=True)\n",
    "    plan_full = pp.Plan(ct, structs, beams, inf_matrix_full, clinical_criteria)\n",
    "    \n",
    "    dose_full_1d = plan_full.inf_matrix.A @ (sol_sparse['optimal_intensity'] * plan_full.get_num_of_fractions())\n",
    "\n",
    "\n",
    "    A_full = plan_full.inf_matrix.A\n",
    "    A_sparse = plan_sparse.inf_matrix.A\n"
   ]
  },
  {
   "cell_type": "code",
   "execution_count": 11,
   "id": "15037738",
   "metadata": {},
   "outputs": [],
   "source": [
    "\n",
    "# تبدیل ماتریس متراکم به ماتریس پراکنده (CSR format)\n",
    "sparse_matrix = sp.csr_matrix(A_full)\n"
   ]
  },
  {
   "cell_type": "code",
   "execution_count": 12,
   "id": "7c1a1c3b",
   "metadata": {},
   "outputs": [
    {
     "name": "stderr",
     "output_type": "stream",
     "text": [
      "C:\\Users\\user01\\AppData\\Roaming\\Python\\Python311\\site-packages\\cvxpy\\problems\\problem.py:158: UserWarning: Objective contains too many subexpressions. Consider vectorizing your CVXPY code to speed up compilation.\n",
      "  warnings.warn(\"Objective contains too many subexpressions. \"\n"
     ]
    },
    {
     "name": "stdout",
     "output_type": "stream",
     "text": [
      "357348.2541442041\n",
      "0\n",
      "زمان کل اجرا: 256.7787721157074 ثانیه\n"
     ]
    }
   ],
   "source": [
    "start_time = time.time()\n",
    "\n",
    "norm_fro_squared =scipy.sparse.linalg.norm(A_full, ord='fro', axis=None)**2\n",
    "norm_1 = np.abs(A_full).sum()\n",
    "X = A_full.nonzero()[0]\n",
    "Y = A_full.nonzero()[1]\n",
    "squared_columns = sparse_matrix.multiply(A_full).sum(0)\n",
    "squared_rows = sparse_matrix.multiply(A_full).sum(1)\n",
    "\n",
    "data_omega = []\n",
    "row_omega = []\n",
    "column_omega = []\n",
    "data_w = []\n",
    "\n",
    "m,r,T = 1000,300,20  \n",
    "n,d = A_full.shape\n",
    "\n",
    "for i in range(len(X)):\n",
    "    q = (m * ((squared_columns.item(0, Y[i]) + squared_rows.item(X[i], 0))/(2 * (n + d) * norm_fro_squared) + np.abs(A_full[X[i],Y[i]]) / norm_1))\n",
    "\n",
    "\n",
    "    q_hat = q\n",
    "    if 1 < q:\n",
    "        q_hat = 1\n",
    "    if q_hat > 0 :\n",
    "        data_w.append(math.sqrt(1/q_hat))\n",
    "    else:\n",
    "        data_w.append(0)\n",
    "    if random.random() < q_hat:\n",
    "        data_omega.append(A_full[X[i], Y[i]])\n",
    "        row_omega.append(X[i])\n",
    "        column_omega.append(Y[i])\n",
    "\n",
    "data_omega = np.array(data_omega)\n",
    "row_omega = np.array(row_omega)\n",
    "column_omega = np.array(column_omega)\n",
    "data_w = np.array(data_w)\n",
    "W = scipy.sparse.csr_matrix((data_w, (X, Y)), shape=(n, d))\n",
    "W\n",
    "\n",
    "\n",
    "r = 200\n",
    "def partition (list_in, n):\n",
    "    random.shuffle(list_in)\n",
    "    return [list_in[i::n] for i in range(n)]\n",
    "\n",
    "partitions = partition(np.arange(len(row_omega)), 2 * T + 1)\n",
    "R0 = scipy.sparse.csr_matrix((data_omega[partitions[0]], (row_omega[partitions[0]], column_omega[partitions[0]])), shape=(n, d))\n",
    "[U, S, V] = scipy.sparse.linalg.svds(R0.multiply(W).multiply(W), k=r)\n",
    "\n",
    "for t in range(1):\n",
    "    V = Variable((r, d))\n",
    "    cost = 0\n",
    "    datas = data_w[partitions[2 * t + 1]]\n",
    "    data_R = data_omega[partitions[2 * t + 1]]\n",
    "    row_R = row_omega[partitions[2 * t + 1]]\n",
    "    column_R = column_omega[partitions[2 * t + 1]]\n",
    "    for i in range(len(data_R)):\n",
    "        temp = 0\n",
    "        for j in range(r):\n",
    "            temp += U[row_R[i], j] * V[j, column_R[i]] * datas[i]\n",
    "        cost += (temp - data_R[i] * datas[i])**2\n",
    "    prob = Problem(Minimize(cost))\n",
    "    prob.solve(solver='MOSEK')\n",
    "    print(prob.value)\n",
    "    V = scipy.sparse.csr_matrix(V.value)\n",
    "    print(len(V.nonzero()[0]))\n",
    "\n",
    "n,d = A_full.shape\n",
    "m,r,T = 1000,300,20    \n",
    "\n",
    "sparsed_matrix = U @ V\n",
    "sparsed_matrix\n",
    "\n",
    "end_time = time.time()\n",
    "\n",
    "total_execution_time = end_time - start_time\n",
    "print(f\"زمان کل اجرا: {total_execution_time} ثانیه\")"
   ]
  },
  {
   "cell_type": "code",
   "execution_count": 22,
   "id": "c93f3701",
   "metadata": {},
   "outputs": [
    {
     "name": "stdout",
     "output_type": "stream",
     "text": [
      "تعداد عناصر غیر صفر در ماتریس SA : 0\n"
     ]
    }
   ],
   "source": [
    "S = sparsed_matrix.T\n",
    "A = A_full\n",
    "#nonzero_count = np.count_nonzero(A_full)\n",
    "#print(\"تعداد مقادیر غیر صفر ماتریس کامل: \", nonzero_count)\n",
    "num_non_zero = np.count_nonzero(S @ A)\n",
    "print(\"تعداد عناصر غیر صفر در ماتریس SA :\", num_non_zero)"
   ]
  },
  {
   "cell_type": "code",
   "execution_count": 23,
   "id": "f3ae23a0",
   "metadata": {},
   "outputs": [
    {
     "data": {
      "text/plain": [
       "0"
      ]
     },
     "execution_count": 23,
     "metadata": {},
     "output_type": "execute_result"
    }
   ],
   "source": [
    "np.linalg.matrix_rank(S@A)"
   ]
  },
  {
   "cell_type": "code",
   "execution_count": 24,
   "id": "f758c196",
   "metadata": {},
   "outputs": [
    {
     "data": {
      "text/plain": [
       "(542, 60183)"
      ]
     },
     "execution_count": 24,
     "metadata": {},
     "output_type": "execute_result"
    }
   ],
   "source": [
    "S.shape"
   ]
  },
  {
   "cell_type": "code",
   "execution_count": 25,
   "id": "7c673371",
   "metadata": {},
   "outputs": [
    {
     "data": {
      "text/plain": [
       "False"
      ]
     },
     "execution_count": 25,
     "metadata": {},
     "output_type": "execute_result"
    }
   ],
   "source": [
    "##  بررسی  پراکندگی ماتریس\n",
    "## چرا پراکنده نشد؟؟\n",
    "\n",
    "is_sparse = sparse.issparse(sparsed_matrix)\n",
    "is_sparse"
   ]
  },
  {
   "cell_type": "code",
   "execution_count": 26,
   "id": "de17030c",
   "metadata": {},
   "outputs": [],
   "source": [
    "\n",
    "sparsed_matrix_T = sparsed_matrix.transpose()\n"
   ]
  },
  {
   "cell_type": "code",
   "execution_count": 29,
   "id": "04e0d4c2",
   "metadata": {},
   "outputs": [
    {
     "ename": "ValueError",
     "evalue": "matmul: Input operand 1 does not have enough dimensions (has 0, gufunc core with signature (n?,k),(k,m?)->(n?,m?) requires 1)",
     "output_type": "error",
     "traceback": [
      "\u001b[1;31m---------------------------------------------------------------------------\u001b[0m",
      "\u001b[1;31mValueError\u001b[0m                                Traceback (most recent call last)",
      "Cell \u001b[1;32mIn[29], line 3\u001b[0m\n\u001b[0;32m      1\u001b[0m start_time \u001b[38;5;241m=\u001b[39m time\u001b[38;5;241m.\u001b[39mtime()\n\u001b[1;32m----> 3\u001b[0m sol_ls_A_Sparse \u001b[38;5;241m=\u001b[39m scipy\u001b[38;5;241m.\u001b[39msparse\u001b[38;5;241m.\u001b[39mlinalg\u001b[38;5;241m.\u001b[39mlsqr(S \u001b[38;5;241m@\u001b[39m A, S \u001b[38;5;241m@\u001b[39m d)\n\u001b[0;32m      6\u001b[0m end_time \u001b[38;5;241m=\u001b[39m time\u001b[38;5;241m.\u001b[39mtime()\n\u001b[0;32m      8\u001b[0m total_execution_time \u001b[38;5;241m=\u001b[39m end_time \u001b[38;5;241m-\u001b[39m start_time\n",
      "\u001b[1;31mValueError\u001b[0m: matmul: Input operand 1 does not have enough dimensions (has 0, gufunc core with signature (n?,k),(k,m?)->(n?,m?) requires 1)"
     ]
    }
   ],
   "source": [
    "start_time = time.time()\n",
    "\n",
    "sol_ls_A_Sparse = scipy.sparse.linalg.lsqr(S @ A, S @ d)\n",
    "\n",
    "\n",
    "end_time = time.time()\n",
    "\n",
    "total_execution_time = end_time - start_time\n",
    "print(f\"زمان حل کمترین مربعات{total_execution_time} ثانیه\")"
   ]
  },
  {
   "cell_type": "code",
   "execution_count": 28,
   "id": "d987bb1d",
   "metadata": {},
   "outputs": [
    {
     "ename": "NameError",
     "evalue": "name 'sol_ls_A_Sparse' is not defined",
     "output_type": "error",
     "traceback": [
      "\u001b[1;31m---------------------------------------------------------------------------\u001b[0m",
      "\u001b[1;31mNameError\u001b[0m                                 Traceback (most recent call last)",
      "Cell \u001b[1;32mIn[28], line 2\u001b[0m\n\u001b[0;32m      1\u001b[0m \u001b[38;5;66;03m# جواب بهینه\u001b[39;00m\n\u001b[1;32m----> 2\u001b[0m x_star \u001b[38;5;241m=\u001b[39m sol_ls_A_Sparse[\u001b[38;5;241m0\u001b[39m]\n\u001b[0;32m      3\u001b[0m \u001b[38;5;28mprint\u001b[39m(\u001b[38;5;124mf\u001b[39m\u001b[38;5;124m'\u001b[39m\u001b[38;5;124mx_star :\u001b[39m\u001b[38;5;130;01m\\t\u001b[39;00m\u001b[38;5;124m \u001b[39m\u001b[38;5;132;01m{\u001b[39;00mx_star[\u001b[38;5;241m0\u001b[39m:\u001b[38;5;241m4\u001b[39m]\u001b[38;5;132;01m}\u001b[39;00m\u001b[38;5;124m'\u001b[39m)\n\u001b[0;32m      5\u001b[0m \u001b[38;5;66;03m#  تعداد مراحل اجرای الگوریتم\u001b[39;00m\n",
      "\u001b[1;31mNameError\u001b[0m: name 'sol_ls_A_Sparse' is not defined"
     ]
    }
   ],
   "source": [
    "# جواب بهینه\n",
    "x_star = sol_ls_A_Sparse[0]\n",
    "print(f'x_star :\\t {x_star[0:4]}')\n",
    "   \n",
    "#  تعداد مراحل اجرای الگوریتم\n",
    "number_algorithm_execution_steps = sol_ls_A_Sparse[2]\n",
    "print(f'number_algorithm_execution_steps :\\t {number_algorithm_execution_steps}')\n",
    "\n",
    "#  نرم بردار سمت راست d\n",
    "Rightـhandـsideـvectorـnormـd = sol_ls_A_Sparse[3]\n",
    "print(f'Rightـhandـsideـvectorـnormـd :\\t {Rightـhandـsideـvectorـnormـd}')\n",
    "\n",
    "#شاخص برای ارزیابی خروجی الگوریتم کمترین مربعات است\tهرچقدر این نرم کوچکتر باشد نشانه بهتر بودن جواب بهینه است\n",
    "\n",
    "\n",
    "#نرم ضرب داخلی ماتریس در جواب\n",
    "l2_res = sol_ls_A_Sparse[4]\n",
    "print(f'L2 norm of residuals :\\t {l2_res}')\n",
    "\n",
    "#   مجموع مربعات خطای سیستم \n",
    "sum_of_square1 = sol_ls_A_Sparse[5]\n",
    "print(f'sum_of_square1 :\\t {sum_of_square1}')\n",
    "\n",
    "#   مجموع مربعات خطای ماتریس معکوس\n",
    "sum_of_square2 = sol_ls_A_Sparse[6]\n",
    "print(f'sum_of_square2 :\\t {sum_of_square2}')\n",
    "\n",
    "# بردار صفر              ?????????????\n",
    "Zeroـvector = sol_ls_A_Sparse[9]\n",
    "print(f'Zeroـvector :\\t{Zeroـvector[0:24]}')\n",
    "\n",
    "# کد بازگشتی \n",
    "Returnـcode = sol_ls_A_Sparse[1]\n",
    "print(f'Returnـcode :\\t{Returnـcode}')"
   ]
  },
  {
   "cell_type": "code",
   "execution_count": 29,
   "id": "1d2469b2",
   "metadata": {},
   "outputs": [
    {
     "name": "stdout",
     "output_type": "stream",
     "text": [
      "میزان حافظه ماتریس پراکنده : 0.0001220703125 مگابایت\n",
      "میزان حافظه کمترین مربعات : 0.00011444091796875 مگابایت\n"
     ]
    }
   ],
   "source": [
    "\n",
    "memory_usage_sparsed_matrix = sys.getsizeof(sparsed_matrix )\n",
    "megabyte_size_sparsed_matrix= memory_usage_sparsed_matrix / 1024 / 1024\n",
    "\n",
    "print(f\"میزان حافظه ماتریس پراکنده : {megabyte_size_sparsed_matrix} مگابایت\")\n",
    "\n",
    "memory_usage_sol_ls_A_Sparse = sys.getsizeof(sol_ls_A_Sparse )\n",
    "megabyte_size_sol_ls_A_Sparse = memory_usage_sol_ls_A_Sparse / 1024 / 1024\n",
    "\n",
    "print(f\"میزان حافظه کمترین مربعات : {megabyte_size_sol_ls_A_Sparse} مگابایت\")"
   ]
  },
  {
   "cell_type": "markdown",
   "id": "ea5b412c",
   "metadata": {},
   "source": [
    "<br><center> ***Minimize*** $\\lVert Ax - d\\rVert_{2}^2$\n",
    "<br><center> ***subject to*** $x\\succeq 0$"
   ]
  },
  {
   "cell_type": "code",
   "execution_count": 32,
   "id": "25924829",
   "metadata": {},
   "outputs": [],
   "source": [
    "n,d = sparsed_matrix_T.shape\n",
    "\n",
    "x = cp.Variable(n, nonneg=True)    \n",
    "\n",
    "obj = cp.Minimize(cp.sum_squares(sparsed_matrix_T@A_full@x - sparsed_matrix_T@dose_full_1d))\n",
    "\n",
    "prob = cp.Problem(obj)"
   ]
  },
  {
   "cell_type": "code",
   "execution_count": 33,
   "id": "19dff337",
   "metadata": {},
   "outputs": [
    {
     "name": "stdout",
     "output_type": "stream",
     "text": [
      "Objective Value: 0.0\n",
      "زمان کل اجرای کمترین مربعات مقید \t: 1.718602180480957 ثانیه\n"
     ]
    }
   ],
   "source": [
    "start_time = time.time()\n",
    "\n",
    "prob.solve()\n",
    "objective_value = prob.value\n",
    "print(\"Objective Value:\", objective_value)\n",
    "\n",
    "end_time = time.time()\n",
    "total_execution_time = end_time - start_time\n",
    "print(f\"زمان کل اجرای کمترین مربعات مقید \\t: {total_execution_time} ثانیه\")\n"
   ]
  },
  {
   "cell_type": "code",
   "execution_count": 34,
   "id": "5f1d101b",
   "metadata": {},
   "outputs": [
    {
     "name": "stdout",
     "output_type": "stream",
     "text": [
      "میزان حافظه ی حل کمترین مربعات مقید با ماتریس کامل  :\t 2.288818359375e-05 مگابایت\n"
     ]
    }
   ],
   "source": [
    "memory_usage_objective_value = sys.getsizeof(objective_value )\n",
    "megabyte_size_objective_value = memory_usage_objective_value / 1024 / 1024\n",
    "\n",
    "print(f\"میزان حافظه ی حل کمترین مربعات مقید با ماتریس کامل  :\\t {megabyte_size_objective_value} مگابایت\")"
   ]
  },
  {
   "cell_type": "code",
   "execution_count": null,
   "id": "37902159",
   "metadata": {},
   "outputs": [],
   "source": []
  }
 ],
 "metadata": {
  "kernelspec": {
   "display_name": "Python 3 (ipykernel)",
   "language": "python",
   "name": "python3"
  },
  "language_info": {
   "codemirror_mode": {
    "name": "ipython",
    "version": 3
   },
   "file_extension": ".py",
   "mimetype": "text/x-python",
   "name": "python",
   "nbconvert_exporter": "python",
   "pygments_lexer": "ipython3",
   "version": "3.11.5"
  }
 },
 "nbformat": 4,
 "nbformat_minor": 5
}
