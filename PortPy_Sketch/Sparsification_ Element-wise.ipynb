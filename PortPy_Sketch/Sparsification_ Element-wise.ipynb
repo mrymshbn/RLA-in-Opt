{
 "cells": [
  {
   "cell_type": "code",
   "execution_count": 64,
   "id": "72a272b6",
   "metadata": {},
   "outputs": [],
   "source": [
    "\n",
    "import scipy\n",
    "import pandas as pd\n",
    "import random\n",
    "import portpy.photon as pp\n",
    "import numpy as np\n",
    "from cvxpy import *\n",
    "from scipy import sparse\n",
    "import sklearn.metrics\n",
    "import cProfile\n",
    "import time\n",
    "import sys\n",
    "import psutil\n",
    "from sklearn.decomposition import PCA\n",
    "import cvxpy as cp\n",
    "import matplotlib.pyplot as plt\n",
    "from scipy.optimize import lsq_linear\n",
    "import scipy.sparse\n"
   ]
  },
  {
   "cell_type": "code",
   "execution_count": 4,
   "id": "e0e22c59",
   "metadata": {},
   "outputs": [
    {
     "name": "stdout",
     "output_type": "stream",
     "text": [
      "creating rinds.. This step may take some time due to dilation\n",
      "rinds created!!\n",
      "Creating BEV..\n",
      "Loading sparse influence matrix...\n",
      "Done\n",
      "Objective Start\n",
      "Objective done\n",
      "Constraints Start\n",
      "Structure ESOPHAGUS not available!\n",
      "Structure ESOPHAGUS not available!\n",
      "Constraints done\n",
      "===============================================================================\n",
      "                                     CVXPY                                     \n",
      "                                     v1.5.2                                    \n",
      "===============================================================================\n",
      "(CVXPY) Sep 11 01:32:43 PM: Your problem has 1946 variables, 110663 constraints, and 0 parameters.\n",
      "(CVXPY) Sep 11 01:32:43 PM: It is compliant with the following grammars: DCP, DQCP\n",
      "(CVXPY) Sep 11 01:32:43 PM: (If you need to solve this problem multiple times, but with different data, consider using parameters.)\n",
      "(CVXPY) Sep 11 01:32:44 PM: CVXPY will first compile your problem; then, it will invoke a numerical solver to obtain a solution.\n",
      "(CVXPY) Sep 11 01:32:44 PM: Your problem is compiled with the CPP canonicalization backend.\n",
      "-------------------------------------------------------------------------------\n",
      "                                  Compilation                                  \n",
      "-------------------------------------------------------------------------------\n",
      "(CVXPY) Sep 11 01:32:44 PM: Compiling problem (target solver=MOSEK).\n",
      "(CVXPY) Sep 11 01:32:44 PM: Reduction chain: Dcp2Cone -> CvxAttr2Constr -> ConeMatrixStuffing -> MOSEK\n",
      "(CVXPY) Sep 11 01:32:44 PM: Applying reduction Dcp2Cone\n",
      "(CVXPY) Sep 11 01:32:44 PM: Applying reduction CvxAttr2Constr\n",
      "(CVXPY) Sep 11 01:32:44 PM: Applying reduction ConeMatrixStuffing\n",
      "(CVXPY) Sep 11 01:32:45 PM: Applying reduction MOSEK\n",
      "(CVXPY) Sep 11 01:32:45 PM: Finished problem compilation (took 1.926e+00 seconds).\n",
      "-------------------------------------------------------------------------------\n",
      "                                Numerical solver                               \n",
      "-------------------------------------------------------------------------------\n",
      "(CVXPY) Sep 11 01:32:45 PM: Invoking solver MOSEK  to obtain a solution.\n",
      "\n",
      "\n",
      "(CVXPY) Sep 11 01:32:46 PM: Problem\n",
      "(CVXPY) Sep 11 01:32:46 PM:   Name                   :                 \n",
      "(CVXPY) Sep 11 01:32:46 PM:   Objective sense        : maximize        \n",
      "(CVXPY) Sep 11 01:32:46 PM:   Type                   : CONIC (conic optimization problem)\n",
      "(CVXPY) Sep 11 01:32:46 PM:   Constraints            : 1959            \n",
      "(CVXPY) Sep 11 01:32:46 PM:   Affine conic cons.     : 0               \n",
      "(CVXPY) Sep 11 01:32:46 PM:   Disjunctive cons.      : 0               \n",
      "(CVXPY) Sep 11 01:32:46 PM:   Cones                  : 13              \n",
      "(CVXPY) Sep 11 01:32:46 PM:   Scalar variables       : 215748          \n",
      "(CVXPY) Sep 11 01:32:46 PM:   Matrix variables       : 0               \n",
      "(CVXPY) Sep 11 01:32:46 PM:   Integer variables      : 0               \n",
      "(CVXPY) Sep 11 01:32:46 PM: \n",
      "(CVXPY) Sep 11 01:32:46 PM: Optimizer started.\n",
      "(CVXPY) Sep 11 01:32:46 PM: Presolve started.\n",
      "(CVXPY) Sep 11 01:32:46 PM: Linear dependency checker started.\n",
      "(CVXPY) Sep 11 01:32:46 PM: Linear dependency checker terminated.\n",
      "(CVXPY) Sep 11 01:32:46 PM: Eliminator started.\n",
      "(CVXPY) Sep 11 01:32:47 PM: Freed constraints in eliminator : 0\n",
      "(CVXPY) Sep 11 01:32:47 PM: Eliminator terminated.\n",
      "(CVXPY) Sep 11 01:32:47 PM: Eliminator - tries                  : 1                 time                   : 0.00            \n",
      "(CVXPY) Sep 11 01:32:47 PM: Lin. dep.  - tries                  : 1                 time                   : 0.01            \n",
      "(CVXPY) Sep 11 01:32:47 PM: Lin. dep.  - primal attempts        : 1                 successes              : 1               \n",
      "(CVXPY) Sep 11 01:32:47 PM: Lin. dep.  - dual attempts          : 0                 successes              : 0               \n",
      "(CVXPY) Sep 11 01:32:47 PM: Lin. dep.  - primal deps.           : 0                 dual deps.             : 0               \n",
      "(CVXPY) Sep 11 01:32:47 PM: Presolve terminated. Time: 0.23    \n",
      "(CVXPY) Sep 11 01:32:47 PM: Optimizer  - threads                : 2               \n",
      "(CVXPY) Sep 11 01:32:47 PM: Optimizer  - solved problem         : the primal      \n",
      "(CVXPY) Sep 11 01:32:47 PM: Optimizer  - Constraints            : 1959            \n",
      "(CVXPY) Sep 11 01:32:47 PM: Optimizer  - Cones                  : 13              \n",
      "(CVXPY) Sep 11 01:32:47 PM: Optimizer  - Scalar variables       : 63183             conic                  : 50518           \n",
      "(CVXPY) Sep 11 01:32:47 PM: Optimizer  - Semi-definite variables: 0                 scalarized             : 0               \n",
      "(CVXPY) Sep 11 01:32:47 PM: Factor     - setup time             : 0.17            \n",
      "(CVXPY) Sep 11 01:32:47 PM: Factor     - dense det. time        : 0.00              GP order time          : 0.00            \n",
      "(CVXPY) Sep 11 01:32:47 PM: Factor     - nonzeros before factor : 2.46e+05          after factor           : 2.47e+05        \n",
      "(CVXPY) Sep 11 01:32:47 PM: Factor     - dense dim.             : 4                 flops                  : 8.21e+07        \n",
      "(CVXPY) Sep 11 01:32:47 PM: ITE PFEAS    DFEAS    GFEAS    PRSTATUS   POBJ              DOBJ              MU       TIME  \n",
      "(CVXPY) Sep 11 01:32:47 PM: 0   1.4e+02  2.3e+02  1.4e+01  0.00e+00   -1.300000000e+01  -0.000000000e+00  1.0e+00  0.61  \n",
      "(CVXPY) Sep 11 01:32:47 PM: 1   1.2e+02  1.9e+02  1.3e+01  -9.63e-01  4.679787643e+03   4.692415819e+03   8.4e-01  0.67  \n",
      "(CVXPY) Sep 11 01:32:47 PM: 2   7.5e+01  1.2e+02  9.1e+00  -8.68e-01  6.575663964e+03   6.586712761e+03   5.3e-01  0.69  \n",
      "(CVXPY) Sep 11 01:32:47 PM: 3   3.3e+01  5.4e+01  4.7e+00  -6.48e-01  5.483660804e+03   5.491376940e+03   2.3e-01  0.73  \n",
      "(CVXPY) Sep 11 01:32:47 PM: 4   1.7e+01  2.8e+01  2.3e+00  -1.90e-01  2.759695648e+03   2.764885110e+03   1.2e-01  0.78  \n",
      "(CVXPY) Sep 11 01:32:47 PM: 5   1.4e+01  2.3e+01  1.8e+00  1.40e-01   2.641460111e+03   2.645958464e+03   9.9e-02  0.81  \n",
      "(CVXPY) Sep 11 01:32:47 PM: 6   6.9e+00  1.1e+01  7.0e-01  3.32e-01   1.135836563e+03   1.138391456e+03   4.9e-02  0.86  \n",
      "(CVXPY) Sep 11 01:32:47 PM: 7   2.6e+00  4.3e+00  1.7e-01  6.90e-01   6.433717496e+02   6.443825583e+02   1.8e-02  0.91  \n",
      "(CVXPY) Sep 11 01:32:47 PM: 8   7.7e-01  1.3e+00  2.9e-02  9.19e-01   2.519392152e+02   2.522318222e+02   5.5e-03  0.97  \n",
      "(CVXPY) Sep 11 01:32:47 PM: 9   1.9e-01  3.1e-01  3.7e-03  1.00e+00   1.112136823e+02   1.112831916e+02   1.4e-03  1.02  \n",
      "(CVXPY) Sep 11 01:32:47 PM: 10  5.2e-02  8.4e-02  5.2e-04  1.01e+00   6.185792813e+01   6.187635074e+01   3.6e-04  1.06  \n",
      "(CVXPY) Sep 11 01:32:47 PM: 11  1.3e-02  2.2e-02  7.0e-05  1.00e+00   4.731442626e+01   4.731918194e+01   9.5e-05  1.11  \n",
      "(CVXPY) Sep 11 01:32:47 PM: 12  4.1e-03  6.7e-03  1.2e-05  1.00e+00   4.361501519e+01   4.361646033e+01   2.9e-05  1.16  \n",
      "(CVXPY) Sep 11 01:32:47 PM: 13  1.3e-03  2.1e-03  2.1e-06  9.99e-01   4.251789703e+01   4.251835713e+01   9.3e-06  1.20  \n",
      "(CVXPY) Sep 11 01:32:47 PM: 14  4.8e-04  7.9e-04  4.9e-07  9.99e-01   4.220398667e+01   4.220415337e+01   3.4e-06  1.25  \n",
      "(CVXPY) Sep 11 01:32:47 PM: 15  1.1e-04  1.7e-04  5.0e-08  1.00e+00   4.207786888e+01   4.207790516e+01   7.5e-07  1.30  \n",
      "(CVXPY) Sep 11 01:32:47 PM: 16  6.0e-06  9.7e-06  6.2e-10  1.00e+00   4.204776636e+01   4.204776856e+01   4.2e-08  1.33  \n",
      "(CVXPY) Sep 11 01:32:48 PM: 17  2.8e-06  8.3e-05  2.1e-10  9.89e-01   4.204632880e+01   4.204632978e+01   2.0e-08  1.38  \n",
      "(CVXPY) Sep 11 01:32:48 PM: 18  1.1e-06  3.2e-05  5.1e-11  1.00e+00   4.204577656e+01   4.204577693e+01   7.8e-09  1.41  \n",
      "(CVXPY) Sep 11 01:32:48 PM: 19  2.2e-07  4.6e-06  2.5e-12  9.75e-01   4.204541631e+01   4.204541637e+01   9.9e-10  1.45  \n",
      "(CVXPY) Sep 11 01:32:48 PM: Optimizer terminated. Time: 1.50    \n",
      "(CVXPY) Sep 11 01:32:48 PM: \n",
      "(CVXPY) Sep 11 01:32:48 PM: \n",
      "(CVXPY) Sep 11 01:32:48 PM: Interior-point solution summary\n",
      "(CVXPY) Sep 11 01:32:48 PM:   Problem status  : PRIMAL_AND_DUAL_FEASIBLE\n",
      "(CVXPY) Sep 11 01:32:48 PM:   Solution status : OPTIMAL\n",
      "(CVXPY) Sep 11 01:32:48 PM:   Primal.  obj: 4.2045416314e+01    nrm: 1e+02    Viol.  con: 5e-06    var: 8e-07    cones: 0e+00  \n",
      "(CVXPY) Sep 11 01:32:48 PM:   Dual.    obj: 4.2045416367e+01    nrm: 6e+03    Viol.  con: 0e+00    var: 1e-08    cones: 0e+00  \n",
      "-------------------------------------------------------------------------------\n",
      "                                    Summary                                    \n",
      "-------------------------------------------------------------------------------\n",
      "(CVXPY) Sep 11 01:32:48 PM: Problem status: optimal\n",
      "(CVXPY) Sep 11 01:32:48 PM: Optimal value: 4.205e+01\n",
      "(CVXPY) Sep 11 01:32:48 PM: Compilation took 1.926e+00 seconds\n",
      "(CVXPY) Sep 11 01:32:48 PM: Solver (including time spent in interface) took 2.217e+00 seconds\n",
      "Creating BEV..\n",
      "Loading full influence matrix..\n",
      "Done\n"
     ]
    }
   ],
   "source": [
    "\n",
    "data_dir = r'../data'\n",
    "data = pp.DataExplorer(data_dir=data_dir)\n",
    "patient_id = 'Lung_Phantom_Patient_1'\n",
    "data.patient_id = patient_id\n",
    "ct = pp.CT(data)\n",
    "structs = pp.Structures(data)\n",
    "beams = pp.Beams(data)\n",
    "opt_params = data.load_config_opt_params(protocol_name='Lung_2Gy_30Fx')\n",
    "structs.create_opt_structures(opt_params)\n",
    "inf_matrix_sparse = pp.InfluenceMatrix(ct=ct, structs=structs, beams=beams)\n",
    "protocol_name = 'Lung_2Gy_30Fx'\n",
    "clinical_criteria = pp.ClinicalCriteria(data, protocol_name)\n",
    "plan_sparse = pp.Plan(ct, structs, beams, inf_matrix_sparse, clinical_criteria)\n",
    "opt = pp.Optimization(plan_sparse, opt_params=opt_params)\n",
    "opt.create_cvxpy_problem()\n",
    "\n",
    "sol_sparse = opt.solve(solver='MOSEK', verbose=True)\n",
    "dose_sparse_1d = plan_sparse.inf_matrix.A @ (sol_sparse['optimal_intensity'] * plan_sparse.get_num_of_fractions())\n",
    "x_sparse =sol_sparse['optimal_intensity'] * plan_sparse.get_num_of_fractions()\n",
    "\n",
    "beams_dense = pp.Beams(data, load_inf_matrix_full=True)\n",
    "inf_matrix_dense = pp.InfluenceMatrix(ct=ct, structs=structs, beams=beams_dense, is_full=True)\n",
    "plan_dense = pp.Plan(ct, structs, beams, inf_matrix_dense, clinical_criteria)\n",
    "dose_dense_1d = plan_dense.inf_matrix.A @ (sol_sparse['optimal_intensity'] * plan_dense.get_num_of_fractions())\n",
    "A_dense = plan_dense.inf_matrix.A\n",
    "# sparse_tol = plan_sparse.inf_matrix.sparse_tol\n",
    "#print(sol_sparse['problem_value'])\n"
   ]
  },
  {
   "cell_type": "code",
   "execution_count": 6,
   "id": "f5235184",
   "metadata": {},
   "outputs": [],
   "source": [
    "import numpy as np\n",
    "from scipy.sparse import coo_matrix, csr_matrix\n",
    "\n",
    "def matrix_sparsification(A, epsilon, verbose=False):\n",
    "    \"\"\"\n",
    "    Matrix Sparsification Algorithm\n",
    "    \n",
    "    Parameters:\n",
    "    A (numpy.ndarray): The input matrix of size n x n.\n",
    "    epsilon (float): Accuracy parameter.\n",
    "    verbose (bool): If True, print detailed steps.\n",
    "    \n",
    "    Returns:\n",
    "    scipy.sparse.csr_matrix: The sparsified matrix.\n",
    "    \"\"\"\n",
    "    m, n = A.shape\n",
    "    \n",
    "    # Step 1: Zero-out small entries\n",
    "    threshold = epsilon / (2.0 * n)\n",
    "    A_tilde = np.copy(A)\n",
    "    A_tilde[np.abs(A_tilde) < threshold] = 0\n",
    "    \n",
    "    if verbose:\n",
    "        print(f\"Threshold for zero-out: {threshold}\")\n",
    "        print(\"A_tilde after zero-out:\\n\", A_tilde)\n",
    "    \n",
    "    # Step 2: Set s\n",
    "    fro_norm_A_tilde = np.linalg.norm(A_tilde, 'fro')\n",
    "    s = int((28 * n * np.log(n * np.sqrt(2 *n)) / (epsilon**2)) * (fro_norm_A_tilde**2))\n",
    "    \n",
    "    if verbose:\n",
    "        print(f\"Frobenius norm of A_tilde: {fro_norm_A_tilde}\")\n",
    "        print(f\"Number of samples (s): {s}\")\n",
    "    \n",
    "    # Step 3: Randomly sample indices\n",
    "    p_ij = (A_tilde**2) / fro_norm_A_tilde**2\n",
    "    flattened_indices = np.arange(m * n)\n",
    "    sampled_indices = np.random.choice(flattened_indices, size=s, p=p_ij.flatten())\n",
    "    \n",
    "    row_indices = sampled_indices // n\n",
    "    col_indices = sampled_indices % n\n",
    "    \n",
    "    if verbose:\n",
    "        print(\"Sampled row indices:\\n\", row_indices)\n",
    "        print(\"Sampled col indices:\\n\", col_indices)\n",
    "    \n",
    "    # Step 4: Construct the approximated matrix\n",
    "    A_hat_data = A_tilde[row_indices, col_indices] / p_ij[row_indices, col_indices]\n",
    "    A_hat_data /= s\n",
    "    A_hat = csr_matrix((A_hat_data, (row_indices, col_indices)), shape=(m, n)).tocsr()\n",
    "    \n",
    "    if verbose:\n",
    "        print(\"A_hat after construction:\\n\", A_hat)\n",
    "    \n",
    "    return A_hat\n",
    "\n"
   ]
  },
  {
   "cell_type": "code",
   "execution_count": 8,
   "id": "e1125082",
   "metadata": {},
   "outputs": [
    {
     "name": "stdout",
     "output_type": "stream",
     "text": [
      " Matrix Build Runtime : 4460.680576324463 Second\n"
     ]
    }
   ],
   "source": [
    "\n",
    "m,n = A_dense.shape\n",
    "d = m*n\n",
    "epsilon = 0.9900\n",
    "\n",
    "start_time = time.time()\n",
    "\n",
    "A_sparsified = matrix_sparsification(A_dense, epsilon, verbose=False)\n",
    "\n",
    "end_time = time.time()\n",
    "\n",
    "total_execution_time = end_time - start_time\n",
    "print(f\" Matrix Build Runtime : {total_execution_time} Second\")\n"
   ]
  },
  {
   "cell_type": "code",
   "execution_count": 12,
   "id": "79dcaf56",
   "metadata": {},
   "outputs": [
    {
     "name": "stdout",
     "output_type": "stream",
     "text": [
      "nnz A Matrix:  0.3151234981768092\n",
      "nnz sparsified matrix: 0.0516048745054521\n"
     ]
    }
   ],
   "source": [
    "m,n = A_dense.shape\n",
    "d = m*n\n",
    "m,n = A_sparsified.shape\n",
    "d2 = m*n\n",
    "\n",
    "nonzero_count = (np.count_nonzero(A_dense))/d\n",
    "print(\"nnz A Matrix: \", nonzero_count)\n",
    "\n",
    "# Count non-zero entries in the sparsified matrix\n",
    "nnz_S = (A_sparsified.nnz)/d2\n",
    "print(\"nnz sparsified matrix:\", nnz_S)"
   ]
  },
  {
   "cell_type": "code",
   "execution_count": 14,
   "id": "aba3d691-fa47-454d-b354-c40413f6d572",
   "metadata": {},
   "outputs": [
    {
     "name": "stdout",
     "output_type": "stream",
     "text": [
      "A_hat = (60183, 542)\n",
      "A = (60183, 542)\n",
      "p = (60183,)\n"
     ]
    }
   ],
   "source": [
    "A_hat = A_sparsified\n",
    "A = A_dense\n",
    "p = dose_dense_1d\n",
    "print(f'A_hat = {A_hat.shape}\\nA = {A_dense.shape}\\np = {p.shape}')"
   ]
  },
  {
   "cell_type": "markdown",
   "id": "dcc1291a-d736-4542-ba94-50b75a2b439e",
   "metadata": {},
   "source": [
    "<center> \n",
    "Minimize $\\lVert A^* x - p \\rVert_{2}^2$\n",
    "</center>\n",
    "<center> \n",
    " p = دوزتجویزی\n",
    "</center>\n",
    "\n",
    "                                                           "
   ]
  },
  {
   "cell_type": "code",
   "execution_count": 19,
   "id": "949f5e4c-4a02-44d7-bcf5-2e6e7c2516d8",
   "metadata": {},
   "outputs": [
    {
     "name": "stdout",
     "output_type": "stream",
     "text": [
      "Total execution time of the sparse matrix LS \t: 0.9418549537658691 Second\n"
     ]
    }
   ],
   "source": [
    "start_time = time.time()\n",
    "\n",
    "sol_ls_A_sparse = scipy.sparse.linalg.lsqr(A_hat, p)\n",
    "\n",
    "end_time = time.time()\n",
    "total_execution_time = end_time - start_time\n",
    "print(f\"Total execution time of the sparse matrix LS \\t: {total_execution_time} Second\")\n",
    "\n"
   ]
  },
  {
   "cell_type": "code",
   "execution_count": 21,
   "id": "6b4f54c6-e815-4d22-8103-213ffa7195ff",
   "metadata": {},
   "outputs": [
    {
     "data": {
      "text/plain": [
       "True"
      ]
     },
     "execution_count": 21,
     "metadata": {},
     "output_type": "execute_result"
    }
   ],
   "source": [
    "##  Examination of matrix sparsification\n",
    "is_sparse = sparse.issparse(A_hat)\n",
    "is_sparse"
   ]
  },
  {
   "cell_type": "code",
   "execution_count": 25,
   "id": "5da059f7-fb65-40d3-bc3f-c105a5aac55a",
   "metadata": {},
   "outputs": [
    {
     "data": {
      "text/plain": [
       "array([-2.85523274, -2.06709019, -1.95530732, -2.43994748, -2.38719333,\n",
       "       -1.54658055])"
      ]
     },
     "execution_count": 25,
     "metadata": {},
     "output_type": "execute_result"
    }
   ],
   "source": [
    "sol_ls_A_dense = scipy.sparse.linalg.lsqr(A_dense, dose_sparse_1d)\n",
    "x_A_dense = sol_ls_A_dense[0]\n",
    "error = x_A_dense - x_sparse \n",
    "error[0:6]"
   ]
  },
  {
   "cell_type": "code",
   "execution_count": 26,
   "id": "a0a19af8-3377-4518-ad9f-d01978724193",
   "metadata": {},
   "outputs": [
    {
     "name": "stdout",
     "output_type": "stream",
     "text": [
      "x_sparse = (542,)\tx_A_dense = (542,)\tp = (60183,)\n",
      "\n",
      "x_sparse = 1\tx_A_dense = 1\tp = 1\n"
     ]
    }
   ],
   "source": [
    "print(f'x_sparse = {x_sparse.shape}\\tx_A_dense = {x_A_dense.shape}\\tp = {p.shape}')\n",
    "print(f'\\nx_sparse = {x_sparse.ndim}\\tx_A_dense = {x_A_dense.ndim}\\tp = {p.ndim}')"
   ]
  },
  {
   "cell_type": "code",
   "execution_count": 29,
   "id": "495b9d9f-c941-49e2-9fd5-6a225333900a",
   "metadata": {},
   "outputs": [
    {
     "name": "stdout",
     "output_type": "stream",
     "text": [
      "x_sparse :\t [ 7.01575734  0.54675514  0.30466842  0.38351193 14.90265652  7.6188924 ]\n"
     ]
    }
   ],
   "source": [
    "x_sparse = sol_ls_A_sparse[0]\n",
    "print(f'x_sparse :\\t {x_sparse[0:6]}')\n"
   ]
  },
  {
   "cell_type": "code",
   "execution_count": 31,
   "id": "bec8c271-28ef-422b-9819-c327b6742509",
   "metadata": {},
   "outputs": [
    {
     "data": {
      "text/plain": [
       "0.03840220560900765"
      ]
     },
     "execution_count": 31,
     "metadata": {},
     "output_type": "execute_result"
    }
   ],
   "source": [
    "cost = cp.sum_squares((A @ x_A_dense  - A @ x_sparse  )/ cp.norm(A @ x_A_dense))\n",
    "prob = cp.Problem(Minimize(cost))\n",
    "prob.solve()"
   ]
  },
  {
   "cell_type": "code",
   "execution_count": 33,
   "id": "e9a7ec59-6db2-48fd-8273-b57bdadfd5a5",
   "metadata": {},
   "outputs": [
    {
     "name": "stdout",
     "output_type": "stream",
     "text": [
      "===============================================================================\n",
      "                                     CVXPY                                     \n",
      "                                     v1.5.2                                    \n",
      "===============================================================================\n",
      "(CVXPY) Sep 11 03:01:47 PM: Your problem has 0 variables, 0 constraints, and 0 parameters.\n",
      "(CVXPY) Sep 11 03:01:47 PM: It is compliant with the following grammars: DCP, DGP, DQCP\n",
      "(CVXPY) Sep 11 03:01:47 PM: (If you need to solve this problem multiple times, but with different data, consider using parameters.)\n",
      "(CVXPY) Sep 11 03:01:47 PM: CVXPY will first compile your problem; then, it will invoke a numerical solver to obtain a solution.\n",
      "(CVXPY) Sep 11 03:01:47 PM: Your problem is compiled with the CPP canonicalization backend.\n",
      "-------------------------------------------------------------------------------\n",
      "                                  Compilation                                  \n",
      "-------------------------------------------------------------------------------\n",
      "(CVXPY) Sep 11 03:01:47 PM: Compiling problem (target solver=CONSTANT_SOLVER).\n",
      "(CVXPY) Sep 11 03:01:47 PM: Reduction chain: ConstantSolver\n",
      "(CVXPY) Sep 11 03:01:47 PM: Applying reduction ConstantSolver\n",
      "(CVXPY) Sep 11 03:01:47 PM: Finished problem compilation (took 1.999e-03 seconds).\n",
      "-------------------------------------------------------------------------------\n",
      "                                Numerical solver                               \n",
      "-------------------------------------------------------------------------------\n",
      "(CVXPY) Sep 11 03:01:47 PM: Invoking solver CONSTANT_SOLVER  to obtain a solution.\n",
      "-------------------------------------------------------------------------------\n",
      "                                    Summary                                    \n",
      "-------------------------------------------------------------------------------\n",
      "(CVXPY) Sep 11 03:01:47 PM: Problem status: optimal\n",
      "(CVXPY) Sep 11 03:01:47 PM: Optimal value: 4.950e-04\n",
      "(CVXPY) Sep 11 03:01:47 PM: Compilation took 1.999e-03 seconds\n",
      "(CVXPY) Sep 11 03:01:47 PM: Solver (including time spent in interface) took 9.997e-04 seconds\n"
     ]
    },
    {
     "data": {
      "text/plain": [
       "0.0004950128165940973"
      ]
     },
     "execution_count": 33,
     "metadata": {},
     "output_type": "execute_result"
    }
   ],
   "source": [
    "cost = cp.sum_squares((A @ x_sparse - p )/ cp.norm(p))\n",
    "prob_2 = cp.Problem(Minimize(cost))\n",
    "prob_2.solve(solver='MOSEK', verbose=True)"
   ]
  },
  {
   "cell_type": "code",
   "execution_count": 35,
   "id": "f7b9fa69-b539-46c2-ad7d-66f0d204de27",
   "metadata": {},
   "outputs": [
    {
     "name": "stdout",
     "output_type": "stream",
     "text": [
      "x_A_dense :\t [ 3.67488051 -1.8787341  -1.95530416 -2.43994502]\n"
     ]
    },
    {
     "data": {
      "text/plain": [
       "0.19596480706751315"
      ]
     },
     "execution_count": 35,
     "metadata": {},
     "output_type": "execute_result"
    }
   ],
   "source": [
    "\n",
    "x_A_dense = sol_ls_A_dense[0]\n",
    "print(f'x_A_dense :\\t {x_A_dense[0:4]}')\n",
    "\n",
    "cost = cp.norm(A @ x_A_dense - A @ x_sparse, \"fro\")/ cp.norm(A @ x_A_dense, \"fro\")\n",
    "\n",
    "prob = cp.Problem(cp.Minimize(cost))\n",
    " \n",
    "prob.solve()\n"
   ]
  },
  {
   "cell_type": "code",
   "execution_count": 37,
   "id": "3b696872-3c3d-4bb7-87c3-c74af1a5dcc6",
   "metadata": {},
   "outputs": [
    {
     "data": {
      "text/plain": [
       "5706.186647521602"
      ]
     },
     "execution_count": 37,
     "metadata": {},
     "output_type": "execute_result"
    }
   ],
   "source": [
    "x_sparse = sol_ls_A_sparse[0]\n",
    "cost = sum_squares(A @ x_sparse -  p)\n",
    "prob_original = Problem(Minimize(cost))\n",
    "prob_original.solve()"
   ]
  },
  {
   "cell_type": "code",
   "execution_count": 39,
   "id": "c33478fa-865d-41ad-995b-6e9e2895724a",
   "metadata": {},
   "outputs": [
    {
     "data": {
      "text/plain": [
       "8713.224891708158"
      ]
     },
     "execution_count": 39,
     "metadata": {},
     "output_type": "execute_result"
    }
   ],
   "source": [
    "cost = cp.sum_squares(A_hat @ x_sparse -  p)\n",
    "prob = cp.Problem(Minimize(cost))\n",
    "prob.solve()"
   ]
  },
  {
   "cell_type": "code",
   "execution_count": 41,
   "id": "3c02c3c1-af74-48ba-98a2-8cf51e4c081f",
   "metadata": {},
   "outputs": [
    {
     "name": "stdout",
     "output_type": "stream",
     "text": [
      "Relative error: 0.18062511720573346\n"
     ]
    }
   ],
   "source": [
    "def calculate_relative_error(vector1, vector2):\n",
    "   \n",
    "    array1 = np.array(x_A_dense)\n",
    "    array2 = np.array(x_sparse)\n",
    "\n",
    "    norm_vector2 = np.linalg.norm(x_A_dense)\n",
    "\n",
    "    relative_error = np.linalg.norm(array1 - array2) / norm_vector2\n",
    "\n",
    "    return relative_error\n",
    "\n",
    "error = calculate_relative_error(x_A_dense, x_sparse)\n",
    "print(f\"Relative error: {error}\")\n"
   ]
  },
  {
   "cell_type": "code",
   "execution_count": 43,
   "id": "c0a2c127-9404-44ac-80e8-425db59b660c",
   "metadata": {},
   "outputs": [
    {
     "name": "stdout",
     "output_type": "stream",
     "text": [
      "Absolute Error: 730.5638416071884\n"
     ]
    }
   ],
   "source": [
    "\n",
    "def calculate_absolute_error(vector1, vector2):\n",
    "    array1 = np.array(x_A_dense)\n",
    "    array2 = np.array(x_sparse)\n",
    "\n",
    "    absolute_error = np.linalg.norm(array1 - array2, ord=1) \n",
    "\n",
    "    return absolute_error\n",
    "\n",
    "\n",
    "error = calculate_absolute_error(x_A_dense, x_sparse)\n",
    "print(f\"Absolute Error: {error}\")\n"
   ]
  },
  {
   "cell_type": "code",
   "execution_count": 45,
   "id": "41f58c99-b3ad-436c-88a2-56ac9caddd54",
   "metadata": {},
   "outputs": [
    {
     "name": "stdout",
     "output_type": "stream",
     "text": [
      "Mean Squared Error : 0.09481392831067913\n"
     ]
    }
   ],
   "source": [
    "## MSE = Mean Squared Error\n",
    "\n",
    "d_true = p          # (prescription) Actual Dose \n",
    "d_pred = A @ x_sparse   # Predicted Dose\n",
    "\n",
    "MSE = np.mean((d_true - d_pred) ** 2)\n",
    "print(\"Mean Squared Error :\", MSE)\n",
    "\n"
   ]
  },
  {
   "cell_type": "code",
   "execution_count": 47,
   "id": "a0bd40f4-6d35-4ee1-a707-92e1a7b4e8f2",
   "metadata": {},
   "outputs": [
    {
     "name": "stdout",
     "output_type": "stream",
     "text": [
      "Mean Squared Error : 5.4323706210108424\n"
     ]
    }
   ],
   "source": [
    "# Mean Squared Error\n",
    "\n",
    "d_true = A @ x_A_dense         \n",
    "d_pred = A @ x_sparse  \n",
    "\n",
    "MSE = np.mean((d_true - d_pred) ** 2)\n",
    "print(\"Mean Squared Error :\", MSE)\n"
   ]
  },
  {
   "cell_type": "code",
   "execution_count": 49,
   "id": "5c509da6-e46d-4f07-99f2-caf9ae24c6ae",
   "metadata": {},
   "outputs": [
    {
     "name": "stdout",
     "output_type": "stream",
     "text": [
      "Memory sol_ls_A_sparse : 0.00011444091796875 MB\n"
     ]
    }
   ],
   "source": [
    "memory_usage_sol_ls_sparse = sys.getsizeof(sol_ls_A_sparse )\n",
    "megabyte_size_sol_ls_sparse = memory_usage_sol_ls_sparse / 1024 / 1024\n",
    "\n",
    "print(f\"Memory sol_ls_A_sparse : {megabyte_size_sol_ls_sparse} MB\")"
   ]
  },
  {
   "cell_type": "code",
   "execution_count": 53,
   "id": "a0741399-e31b-428a-b1cb-959d99a9bed6",
   "metadata": {},
   "outputs": [
    {
     "name": "stdout",
     "output_type": "stream",
     "text": [
      "Memory A_hat : 5.340576171875e-05 MB\n"
     ]
    }
   ],
   "source": [
    "memory_usage_A_hat = sys.getsizeof(A_hat)\n",
    "megabyte_size_A_hat= memory_usage_A_hat / 1024 / 1024\n",
    "\n",
    "print(f\"Memory A_hat : {megabyte_size_A_hat} MB\")"
   ]
  },
  {
   "cell_type": "markdown",
   "id": "0478b6a2-720a-43ee-b9bc-aadff83c8d69",
   "metadata": {},
   "source": [
    "<center> \n",
    "Minimize $\\lVert Ax - p \\rVert_{2}^2$\n",
    "</center>\n",
    "<center>\n",
    "subject to $x \\succeq 0$\n",
    "</center>\n",
    "<center>\n",
    "p = دوزتجویزی\n",
    "</center>\n"
   ]
  },
  {
   "cell_type": "code",
   "execution_count": 68,
   "id": "0758ba33-9b43-4799-92fe-c794f8792645",
   "metadata": {},
   "outputs": [
    {
     "name": "stdout",
     "output_type": "stream",
     "text": [
      "Time to solve the problem Sol_dense: 1.3824543952941895 Second\n"
     ]
    }
   ],
   "source": [
    "start_time = time.time()\n",
    "\n",
    "# Solving the LS Problem with  Constant  x>=0\n",
    "sol_dense_con = lsq_linear (A, p, bounds=(0, np.inf))\n",
    "\n",
    "end_time = time.time ()\n",
    "\n",
    "total_execution_time = end_time - start_time\n",
    "print(f\"Time to solve the problem Sol_dense: {total_execution_time} Second\")\n"
   ]
  },
  {
   "cell_type": "code",
   "execution_count": 70,
   "id": "dd3f76e8-7867-4c42-8e08-28891909bb71",
   "metadata": {},
   "outputs": [
    {
     "data": {
      "text/plain": [
       "       message: The unconstrained solution is optimal.\n",
       "       success: True\n",
       "        status: 3\n",
       "           fun: [ 0.000e+00  0.000e+00 ...  0.000e+00  0.000e+00]\n",
       "             x: [ 6.530e+00  1.884e-01 ...  3.678e-06  3.540e+00]\n",
       "           nit: 0\n",
       "          cost: 4.624375278197093e-23\n",
       "    optimality: 1.1475319910957398e-11\n",
       "   active_mask: [ 0.000e+00  0.000e+00 ...  0.000e+00  0.000e+00]\n",
       " unbounded_sol: (array([ 6.530e+00,  1.884e-01, ...,  3.678e-06,  3.540e+00]), array([ 7.547e-23]), 542, array([ 2.014e+01,  1.663e+01, ...,  1.636e+00,  1.373e+00]))"
      ]
     },
     "execution_count": 70,
     "metadata": {},
     "output_type": "execute_result"
    }
   ],
   "source": [
    "# In this problem, the unconstrained solution is also optimal.\n",
    "# sol_dense.message: 'The unconstrained solution is optimal.'\n",
    "sol_dense_con"
   ]
  },
  {
   "cell_type": "code",
   "execution_count": 72,
   "id": "35fc2ef7-85ba-4be2-880e-2d7f10d3fea2",
   "metadata": {},
   "outputs": [
    {
     "name": "stdout",
     "output_type": "stream",
     "text": [
      "Time to solve the problem Sol_sparse: 58.60578179359436 Second\n"
     ]
    }
   ],
   "source": [
    "start_time = time.time()\n",
    "\n",
    "# Solving the LS Problem with  Constant - x>=0\n",
    "sol_sparse_con = lsq_linear (A_hat ,  p, bounds=(0, np.inf))\n",
    "\n",
    "end_time = time.time()\n",
    "\n",
    "total_execution_time = end_time - start_time\n",
    "print(f\"Time to solve the problem Sol_sparse: {total_execution_time} Second\")\n"
   ]
  },
  {
   "cell_type": "code",
   "execution_count": 74,
   "id": "1a7b6dd1-0939-4c49-b129-b95ba2834318",
   "metadata": {},
   "outputs": [
    {
     "data": {
      "text/plain": [
       "       message: The relative change of the cost function is less than `tol`.\n",
       "       success: True\n",
       "        status: 2\n",
       "           fun: [ 0.000e+00  0.000e+00 ...  0.000e+00  0.000e+00]\n",
       "             x: [ 7.011e+00  5.462e-01 ...  3.026e-02  4.160e+00]\n",
       "           nit: 8\n",
       "          cost: 4356.957506857213\n",
       "    optimality: 2.4942509192315263e-08\n",
       "   active_mask: [0 0 ... 0 0]\n",
       " unbounded_sol: (array([ 7.016e+00,  5.468e-01, ...,  7.257e-02,  4.154e+00]), 2, 92, 93.34465646370825, 6.908479367491754e-09, 97.26453188193372, 4.495676916837934, 231.37394019310196)"
      ]
     },
     "execution_count": 74,
     "metadata": {},
     "output_type": "execute_result"
    }
   ],
   "source": [
    "sol_sparse_con"
   ]
  },
  {
   "cell_type": "markdown",
   "id": "ca9cfb06-8336-43b0-a7b0-9994ce0e7f77",
   "metadata": {},
   "source": [
    "   ## DVH Plot"
   ]
  },
  {
   "cell_type": "code",
   "execution_count": 85,
   "id": "bf09a323-7c00-4351-aec2-eb56d06f6f9d",
   "metadata": {},
   "outputs": [
    {
     "data": {
      "image/png": "[encoded data removed]",
      "text/plain": [
       "<Figure size 700x500 with 1 Axes>"
      ]
     },
     "metadata": {},
     "output_type": "display_data"
    },
    {
     "name": "stdout",
     "output_type": "stream",
     "text": [
      "Done!\n"
     ]
    }
   ],
   "source": [
    "#  DVH\n",
    "\n",
    "dose_dense = plan_dense.inf_matrix.A @ x_A_dense\n",
    "dose_sparse = plan_dense.inf_matrix.A @ x_sparse\n",
    "\n",
    "fig, ax = plt.subplots(figsize=(7, 5))\n",
    "struct_names = ['PTV', 'ESOPHAGUS', 'HEART', 'CORD']\n",
    "ax = pp.Visualization.plot_dvh(plan_dense, dose_1d=dose_sparse, struct_names=struct_names, style='solid', ax=ax)\n",
    "ax = pp.Visualization.plot_dvh(plan_dense, dose_1d=dose_dense, struct_names=struct_names, style='dotted', ax=ax)\n",
    "ax.set_title('-  EW Sparse  .. Dense ')\n",
    "plt.show()\n",
    "print('Done!')"
   ]
  },
  {
   "cell_type": "code",
   "execution_count": 87,
   "id": "c4cf7e84-986e-45ce-b296-c4ebb2c9a337",
   "metadata": {},
   "outputs": [
    {
     "name": "stdout",
     "output_type": "stream",
     "text": [
      "                  0\n",
      "count  60183.000000\n",
      "mean       6.674670\n",
      "std       12.443227\n",
      "min        0.000000\n",
      "25%        0.352807\n",
      "50%        1.406160\n",
      "75%        6.652810\n",
      "max       75.166410\n"
     ]
    }
   ],
   "source": [
    "\n",
    "dose_sparse_df = pd.DataFrame(dose_sparse)\n",
    "\n",
    "description = dose_sparse_df.describe()\n",
    "print(description)\n"
   ]
  },
  {
   "cell_type": "code",
   "execution_count": 89,
   "id": "7891aa27-6d1f-437f-8cb7-0e3bfd8e998a",
   "metadata": {},
   "outputs": [
    {
     "data": {
      "text/plain": [
       "4.6030544014422725"
      ]
     },
     "execution_count": 89,
     "metadata": {},
     "output_type": "execute_result"
    }
   ],
   "source": [
    "# Norm Frobenius\n",
    "\n",
    "cost = cp.norm(A_dense  - A_hat , \"fro\")\n",
    "\n",
    "prob = cp.Problem(cp.Minimize(cost))\n",
    "\n",
    "prob.solve()\n"
   ]
  },
  {
   "cell_type": "code",
   "execution_count": 91,
   "id": "c908aec8-9d35-47a9-9220-dda501985912",
   "metadata": {},
   "outputs": [
    {
     "data": {
      "text/plain": [
       "0.03538347769759582"
      ]
     },
     "execution_count": 91,
     "metadata": {},
     "output_type": "execute_result"
    }
   ],
   "source": [
    "# Norm Frobenius\n",
    "\n",
    "cost = cp.norm(A_dense  - A_hat , \"fro\")/ cp.norm(A_dense , \"fro\")\n",
    "\n",
    "prob = cp.Problem(cp.Minimize(cost))\n",
    "\n",
    "prob.solve()\n"
   ]
  },
  {
   "cell_type": "code",
   "execution_count": null,
   "id": "2a3e482e-955d-491a-bd89-b11ada5b8a77",
   "metadata": {},
   "outputs": [],
   "source": []
  }
 ],
 "metadata": {
  "kernelspec": {
   "display_name": "Python 3 (ipykernel)",
   "language": "python",
   "name": "python3"
  },
  "language_info": {
   "codemirror_mode": {
    "name": "ipython",
    "version": 3
   },
   "file_extension": ".py",
   "mimetype": "text/x-python",
   "name": "python",
   "nbconvert_exporter": "python",
   "pygments_lexer": "ipython3",
   "version": "3.11.5"
  }
 },
 "nbformat": 4,
 "nbformat_minor": 5
}
