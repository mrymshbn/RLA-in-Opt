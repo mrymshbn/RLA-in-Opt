{
 "cells": [
  {
   "cell_type": "code",
   "execution_count": 1,
   "id": "65739bac",
   "metadata": {},
   "outputs": [],
   "source": [
    "import scipy\n",
    "import random\n",
    "import portpy.photon as pp\n",
    "import numpy as np\n",
    "from cvxpy import *\n",
    "from scipy import sparse\n",
    "import sklearn.metrics\n",
    "import cProfile\n",
    "import time\n",
    "import sys\n",
    "import psutil\n",
    "from sklearn.decomposition import PCA\n",
    "import cvxpy as cp"
   ]
  },
  {
   "cell_type": "code",
   "execution_count": 2,
   "id": "7217211f",
   "metadata": {
    "scrolled": true
   },
   "outputs": [
    {
     "name": "stdout",
     "output_type": "stream",
     "text": [
      "creating rinds.. This step may take some time due to dilation\n",
      "rinds created!!\n",
      "Creating BEV..\n",
      "Loading sparse influence matrix...\n",
      "Done\n",
      "Objective Start\n",
      "Objective done\n",
      "Constraints Start\n",
      "Structure ESOPHAGUS not available!\n",
      "Structure ESOPHAGUS not available!\n",
      "Constraints done\n",
      "===============================================================================\n",
      "                                     CVXPY                                     \n",
      "                                     v1.4.1                                    \n",
      "===============================================================================\n",
      "(CVXPY) Nov 16 11:15:28 PM: Your problem has 1946 variables, 14 constraints, and 0 parameters.\n",
      "(CVXPY) Nov 16 11:15:28 PM: It is compliant with the following grammars: DCP, DQCP\n",
      "(CVXPY) Nov 16 11:15:28 PM: (If you need to solve this problem multiple times, but with different data, consider using parameters.)\n",
      "(CVXPY) Nov 16 11:15:28 PM: CVXPY will first compile your problem; then, it will invoke a numerical solver to obtain a solution.\n",
      "(CVXPY) Nov 16 11:15:28 PM: Your problem is compiled with the CPP canonicalization backend.\n",
      "-------------------------------------------------------------------------------\n",
      "                                  Compilation                                  \n",
      "-------------------------------------------------------------------------------\n",
      "(CVXPY) Nov 16 11:15:28 PM: Compiling problem (target solver=MOSEK).\n",
      "(CVXPY) Nov 16 11:15:28 PM: Reduction chain: Dcp2Cone -> CvxAttr2Constr -> ConeMatrixStuffing -> MOSEK\n",
      "(CVXPY) Nov 16 11:15:28 PM: Applying reduction Dcp2Cone\n",
      "(CVXPY) Nov 16 11:15:28 PM: Applying reduction CvxAttr2Constr\n",
      "(CVXPY) Nov 16 11:15:28 PM: Applying reduction ConeMatrixStuffing\n",
      "(CVXPY) Nov 16 11:15:30 PM: Applying reduction MOSEK\n",
      "(CVXPY) Nov 16 11:15:31 PM: Finished problem compilation (took 2.893e+00 seconds).\n",
      "-------------------------------------------------------------------------------\n",
      "                                Numerical solver                               \n",
      "-------------------------------------------------------------------------------\n",
      "(CVXPY) Nov 16 11:15:31 PM: Invoking solver MOSEK  to obtain a solution.\n",
      "\n",
      "\n",
      "(CVXPY) Nov 16 11:15:32 PM: Problem\n",
      "(CVXPY) Nov 16 11:15:32 PM:   Name                   :                 \n",
      "(CVXPY) Nov 16 11:15:32 PM:   Objective sense        : maximize        \n",
      "(CVXPY) Nov 16 11:15:32 PM:   Type                   : CONIC (conic optimization problem)\n",
      "(CVXPY) Nov 16 11:15:32 PM:   Constraints            : 1959            \n",
      "(CVXPY) Nov 16 11:15:32 PM:   Affine conic cons.     : 0               \n",
      "(CVXPY) Nov 16 11:15:32 PM:   Disjunctive cons.      : 0               \n",
      "(CVXPY) Nov 16 11:15:32 PM:   Cones                  : 13              \n",
      "(CVXPY) Nov 16 11:15:32 PM:   Scalar variables       : 215748          \n",
      "(CVXPY) Nov 16 11:15:32 PM:   Matrix variables       : 0               \n",
      "(CVXPY) Nov 16 11:15:32 PM:   Integer variables      : 0               \n",
      "(CVXPY) Nov 16 11:15:32 PM: \n",
      "(CVXPY) Nov 16 11:15:32 PM: Optimizer started.\n",
      "(CVXPY) Nov 16 11:15:32 PM: Presolve started.\n",
      "(CVXPY) Nov 16 11:15:32 PM: Linear dependency checker started.\n",
      "(CVXPY) Nov 16 11:15:32 PM: Linear dependency checker terminated.\n",
      "(CVXPY) Nov 16 11:15:32 PM: Eliminator started.\n",
      "(CVXPY) Nov 16 11:15:32 PM: Freed constraints in eliminator : 0\n",
      "(CVXPY) Nov 16 11:15:32 PM: Eliminator terminated.\n",
      "(CVXPY) Nov 16 11:15:32 PM: Eliminator - tries                  : 1                 time                   : 0.00            \n",
      "(CVXPY) Nov 16 11:15:32 PM: Lin. dep.  - tries                  : 1                 time                   : 0.05            \n",
      "(CVXPY) Nov 16 11:15:32 PM: Lin. dep.  - primal attempts        : 1                 successes              : 1               \n",
      "(CVXPY) Nov 16 11:15:32 PM: Lin. dep.  - dual attempts          : 0                 successes              : 0               \n",
      "(CVXPY) Nov 16 11:15:32 PM: Lin. dep.  - primal deps.           : 0                 dual deps.             : 0               \n",
      "(CVXPY) Nov 16 11:15:32 PM: Presolve terminated. Time: 0.42    \n",
      "(CVXPY) Nov 16 11:15:33 PM: Optimizer  - threads                : 4               \n",
      "(CVXPY) Nov 16 11:15:33 PM: Optimizer  - solved problem         : the primal      \n",
      "(CVXPY) Nov 16 11:15:33 PM: Optimizer  - Constraints            : 1959            \n",
      "(CVXPY) Nov 16 11:15:33 PM: Optimizer  - Cones                  : 13              \n",
      "(CVXPY) Nov 16 11:15:33 PM: Optimizer  - Scalar variables       : 63183             conic                  : 50518           \n",
      "(CVXPY) Nov 16 11:15:33 PM: Optimizer  - Semi-definite variables: 0                 scalarized             : 0               \n",
      "(CVXPY) Nov 16 11:15:33 PM: Factor     - setup time             : 0.31            \n",
      "(CVXPY) Nov 16 11:15:33 PM: Factor     - dense det. time        : 0.00              GP order time          : 0.00            \n",
      "(CVXPY) Nov 16 11:15:33 PM: Factor     - nonzeros before factor : 2.46e+05          after factor           : 2.47e+05        \n",
      "(CVXPY) Nov 16 11:15:33 PM: Factor     - dense dim.             : 4                 flops                  : 8.21e+07        \n",
      "(CVXPY) Nov 16 11:15:33 PM: ITE PFEAS    DFEAS    GFEAS    PRSTATUS   POBJ              DOBJ              MU       TIME  \n",
      "(CVXPY) Nov 16 11:15:33 PM: 0   1.4e+02  2.3e+02  1.4e+01  0.00e+00   -1.300000000e+01  -0.000000000e+00  1.0e+00  1.05  \n",
      "(CVXPY) Nov 16 11:15:33 PM: 1   1.2e+02  1.9e+02  1.3e+01  -9.63e-01  4.679787643e+03   4.692415819e+03   8.4e-01  1.14  \n",
      "(CVXPY) Nov 16 11:15:33 PM: 2   7.5e+01  1.2e+02  9.1e+00  -8.68e-01  6.575663964e+03   6.586712761e+03   5.3e-01  1.20  \n",
      "(CVXPY) Nov 16 11:15:33 PM: 3   3.3e+01  5.4e+01  4.7e+00  -6.48e-01  5.483660804e+03   5.491376940e+03   2.3e-01  1.25  \n",
      "(CVXPY) Nov 16 11:15:33 PM: 4   1.7e+01  2.8e+01  2.3e+00  -1.90e-01  2.759695648e+03   2.764885110e+03   1.2e-01  1.31  \n",
      "(CVXPY) Nov 16 11:15:33 PM: 5   1.4e+01  2.3e+01  1.8e+00  1.40e-01   2.641460111e+03   2.645958464e+03   9.9e-02  1.36  \n",
      "(CVXPY) Nov 16 11:15:33 PM: 6   6.9e+00  1.1e+01  7.0e-01  3.32e-01   1.135836563e+03   1.138391456e+03   4.9e-02  1.41  \n",
      "(CVXPY) Nov 16 11:15:33 PM: 7   2.6e+00  4.3e+00  1.7e-01  6.90e-01   6.433717496e+02   6.443825583e+02   1.8e-02  1.47  \n",
      "(CVXPY) Nov 16 11:15:33 PM: 8   7.7e-01  1.3e+00  2.9e-02  9.19e-01   2.519392152e+02   2.522318222e+02   5.5e-03  1.53  \n",
      "(CVXPY) Nov 16 11:15:33 PM: 9   1.9e-01  3.1e-01  3.7e-03  1.00e+00   1.112136823e+02   1.112831916e+02   1.4e-03  1.61  \n",
      "(CVXPY) Nov 16 11:15:33 PM: 10  5.2e-02  8.4e-02  5.2e-04  1.01e+00   6.185792813e+01   6.187635074e+01   3.6e-04  1.67  \n",
      "(CVXPY) Nov 16 11:15:34 PM: 11  1.3e-02  2.2e-02  7.0e-05  1.00e+00   4.731442626e+01   4.731918194e+01   9.5e-05  1.73  \n",
      "(CVXPY) Nov 16 11:15:34 PM: 12  4.1e-03  6.7e-03  1.2e-05  1.00e+00   4.361501519e+01   4.361646033e+01   2.9e-05  1.81  \n",
      "(CVXPY) Nov 16 11:15:34 PM: 13  1.3e-03  2.1e-03  2.1e-06  9.99e-01   4.251789703e+01   4.251835713e+01   9.3e-06  1.88  \n",
      "(CVXPY) Nov 16 11:15:34 PM: 14  4.8e-04  7.9e-04  4.9e-07  9.99e-01   4.220398675e+01   4.220415345e+01   3.4e-06  1.94  \n",
      "(CVXPY) Nov 16 11:15:34 PM: 15  1.1e-04  1.7e-04  5.0e-08  1.00e+00   4.207786904e+01   4.207790531e+01   7.5e-07  2.02  \n",
      "(CVXPY) Nov 16 11:15:34 PM: 16  6.0e-06  9.7e-06  6.2e-10  1.00e+00   4.204776544e+01   4.204776763e+01   4.2e-08  2.08  \n",
      "(CVXPY) Nov 16 11:15:34 PM: 17  3.5e-06  1.1e-05  2.8e-10  9.21e-01   4.204654335e+01   4.204654465e+01   2.4e-08  2.14  \n",
      "(CVXPY) Nov 16 11:15:34 PM: 18  2.2e-06  6.9e-06  1.4e-10  9.65e-01   4.204608741e+01   4.204608821e+01   1.5e-08  2.20  \n",
      "(CVXPY) Nov 16 11:15:34 PM: 19  1.2e-06  3.8e-06  5.6e-11  9.86e-01   4.204568053e+01   4.204568096e+01   7.9e-09  2.27  \n",
      "(CVXPY) Nov 16 11:15:34 PM: 20  5.1e-07  1.7e-06  1.4e-11  1.00e+00   4.204550763e+01   4.204550780e+01   3.2e-09  2.31  \n",
      "(CVXPY) Nov 16 11:15:34 PM: 21  1.6e-07  1.5e-06  2.5e-12  9.94e-01   4.204540150e+01   4.204540155e+01   9.9e-10  2.44  \n",
      "(CVXPY) Nov 16 11:15:34 PM: Optimizer terminated. Time: 2.55    \n",
      "(CVXPY) Nov 16 11:15:34 PM: \n",
      "(CVXPY) Nov 16 11:15:34 PM: \n",
      "(CVXPY) Nov 16 11:15:34 PM: Interior-point solution summary\n",
      "(CVXPY) Nov 16 11:15:34 PM:   Problem status  : PRIMAL_AND_DUAL_FEASIBLE\n",
      "(CVXPY) Nov 16 11:15:34 PM:   Solution status : OPTIMAL\n"
     ]
    },
    {
     "name": "stdout",
     "output_type": "stream",
     "text": [
      "(CVXPY) Nov 16 11:15:34 PM:   Primal.  obj: 4.2045401498e+01    nrm: 1e+02    Viol.  con: 3e-06    var: 7e-07    cones: 0e+00  \n",
      "(CVXPY) Nov 16 11:15:34 PM:   Dual.    obj: 4.2045401550e+01    nrm: 6e+03    Viol.  con: 0e+00    var: 1e-08    cones: 0e+00  \n",
      "-------------------------------------------------------------------------------\n",
      "                                    Summary                                    \n",
      "-------------------------------------------------------------------------------\n",
      "(CVXPY) Nov 16 11:15:35 PM: Problem status: optimal\n",
      "(CVXPY) Nov 16 11:15:35 PM: Optimal value: 4.205e+01\n",
      "(CVXPY) Nov 16 11:15:35 PM: Compilation took 2.893e+00 seconds\n",
      "(CVXPY) Nov 16 11:15:35 PM: Solver (including time spent in interface) took 3.583e+00 seconds\n",
      "Creating BEV..\n",
      "Loading full influence matrix..\n",
      "Done\n"
     ]
    }
   ],
   "source": [
    "data_dir = r'../data'\n",
    "data = pp.DataExplorer(data_dir=data_dir)\n",
    "patient_id = 'Lung_Phantom_Patient_1'\n",
    "data.patient_id = patient_id\n",
    "ct = pp.CT(data)\n",
    "structs = pp.Structures(data)\n",
    "beams = pp.Beams(data)\n",
    "opt_params = data.load_config_opt_params(protocol_name='Lung_2Gy_30Fx')\n",
    "structs.create_opt_structures(opt_params)\n",
    "inf_matrix_sparse = pp.InfluenceMatrix(ct=ct, structs=structs, beams=beams)\n",
    "protocol_name = 'Lung_2Gy_30Fx'\n",
    "clinical_criteria = pp.ClinicalCriteria(data, protocol_name)\n",
    "plan_sparse = pp.Plan(ct, structs, beams, inf_matrix_sparse, clinical_criteria)\n",
    "opt = pp.Optimization(plan_sparse, opt_params=opt_params)\n",
    "opt.create_cvxpy_problem()\n",
    "\n",
    "sol_sparse = opt.solve(solver='MOSEK', verbose=True)\n",
    "dose_sparse_1d = plan_sparse.inf_matrix.A @ (sol_sparse['optimal_intensity'] * plan_sparse.get_num_of_fractions())\n",
    "x_sparse =sol_sparse['optimal_intensity'] * plan_sparse.get_num_of_fractions()\n",
    "\n",
    "beams_full = pp.Beams(data, load_inf_matrix_full=True)\n",
    "inf_matrix_full = pp.InfluenceMatrix(ct=ct, structs=structs, beams=beams_full, is_full=True)\n",
    "plan_full = pp.Plan(ct, structs, beams, inf_matrix_full, clinical_criteria)\n",
    "dose_full_1d = plan_full.inf_matrix.A @ (sol_sparse['optimal_intensity'] * plan_full.get_num_of_fractions())\n",
    "\n",
    "A_full = plan_full.inf_matrix.A\n",
    "A_sparse = plan_sparse.inf_matrix.A\n"
   ]
  },
  {
   "cell_type": "code",
   "execution_count": 3,
   "id": "cd80f18b",
   "metadata": {},
   "outputs": [
    {
     "name": "stdout",
     "output_type": "stream",
     "text": [
      "زمان کل اجرای ساخت ماتریس پراکنده  \t: 0.7857480049133301 ثانیه\n"
     ]
    }
   ],
   "source": [
    "# Get the threshold value used by PortPy to truncate the matrix    \n",
    "# sparse tol is 1% of the maximum of influence matrix of planner beams\n",
    "\n",
    "start_time = time.time()\n",
    "\n",
    "sparse_tol = plan_sparse.inf_matrix.sparse_tol\n",
    "# sparse_tol = 0.01*np.amax(A_full)\n",
    "\n",
    "# Truncate the full matrix   \n",
    "A_full[A_full <= sparse_tol] = 0\n",
    "test = np.abs(A_full - A_sparse.todense()) <= 1e-3\n",
    "# Check if both influence matrices agree\n",
    "assert test.all()\n",
    "\n",
    "end_time = time.time()\n",
    "total_execution_time = end_time - start_time\n",
    "print(f\"زمان کل اجرای ساخت ماتریس پراکنده  \\t: {total_execution_time} ثانیه\")"
   ]
  },
  {
   "cell_type": "code",
   "execution_count": 4,
   "id": "55f7ca34",
   "metadata": {},
   "outputs": [
    {
     "name": "stdout",
     "output_type": "stream",
     "text": [
      "S = (542, 60183)\n",
      "A = (60183, 542)\n",
      "d = (60183,)\n"
     ]
    }
   ],
   "source": [
    "S = A_sparse.transpose()\n",
    "A = A_full\n",
    "d = dose_full_1d\n",
    "print(f'S = {S.shape}\\nA = {A.shape}\\nd = {d.shape}')"
   ]
  },
  {
   "cell_type": "code",
   "execution_count": 5,
   "id": "ce023c93",
   "metadata": {},
   "outputs": [
    {
     "name": "stdout",
     "output_type": "stream",
     "text": [
      "زمان کل اجرای کمترین مربعات ماتریس پراکنده\n",
      ": 0.7746622562408447 ثانیه\n"
     ]
    }
   ],
   "source": [
    "start_time = time.time()\n",
    "\n",
    "sol_ls_A_sparse = scipy.sparse.linalg.lsqr(S@A, S@d)\n",
    "\n",
    "end_time = time.time()\n",
    "total_execution_time = end_time - start_time\n",
    "print(f\"زمان کل اجرای کمترین مربعات ماتریس پراکنده\\n: {total_execution_time} ثانیه\")\n",
    "\n"
   ]
  },
  {
   "cell_type": "code",
   "execution_count": 6,
   "id": "88fabdd5",
   "metadata": {},
   "outputs": [
    {
     "name": "stdout",
     "output_type": "stream",
     "text": [
      "x_sparse :\t [9.62223118 2.36913567 2.05466416 2.74339945]\n",
      "number_algorithm_execution_steps :\t 154\n",
      "Rightـhandـsideـvectorـnormـd :\t 0.49925664837018396\n",
      "L2 norm of residuals :\t0.49925664837018396\n",
      "sum_of_square1 :\t 1763.7146111253926\n",
      "sum_of_square2 :\t 1063.7767167299899\n",
      "Zeroـvector :\t [0. 0. 0. 0. 0. 0. 0. 0. 0. 0. 0. 0. 0. 0. 0. 0. 0. 0. 0. 0. 0. 0. 0. 0.]\n",
      "Returnـcode :\t 1\n"
     ]
    }
   ],
   "source": [
    "# جواب بهینه\n",
    "x_sparse = sol_ls_A_sparse[0]\n",
    "print(f'x_sparse :\\t {x_sparse[0:4]}')\n",
    "\n",
    "#  تعداد مراحل اجرای الگوریتم\n",
    "number_algorithm_execution_steps = sol_ls_A_sparse[2]\n",
    "print(f'number_algorithm_execution_steps :\\t {number_algorithm_execution_steps}')\n",
    "\n",
    "#  نرم بردار سمت راست d\n",
    "Rightـhandـsideـvectorـnormـd = sol_ls_A_sparse[3]\n",
    "print(f'Rightـhandـsideـvectorـnormـd :\\t {Rightـhandـsideـvectorـnormـd}')\n",
    "\n",
    "#شاخص برای ارزیابی خروجی الگوریتم کمترین مربعات است\tهرچقدر این نرم کوچکتر باشد نشانه بهتر بودن جواب بهینه است\n",
    "\n",
    "\n",
    "#نرم ضرب داخلی ماتریس در جواب\n",
    "l2_res = sol_ls_A_sparse[4]\n",
    "print(f'L2 norm of residuals :\\t{l2_res}')\n",
    "\n",
    "#   مجموع مربعات خطای سیستم \n",
    "sum_of_square1 = sol_ls_A_sparse[5]\n",
    "print(f'sum_of_square1 :\\t {sum_of_square1}')\n",
    "\n",
    "#   مجموع مربعات خطای ماتریس معکوس\n",
    "sum_of_square2 = sol_ls_A_sparse[6]\n",
    "print(f'sum_of_square2 :\\t {sum_of_square2}')\n",
    "\n",
    "# بردار صفر              ?????????????\n",
    "Zeroـvector = sol_ls_A_sparse[9]\n",
    "print(f'Zeroـvector :\\t {Zeroـvector[0:24]}')\n",
    "\n",
    "# کد بازگشتی \n",
    "Returnـcode = sol_ls_A_sparse[1]\n",
    "print(f'Returnـcode :\\t {Returnـcode}')"
   ]
  },
  {
   "cell_type": "code",
   "execution_count": 7,
   "id": "3119dc67",
   "metadata": {},
   "outputs": [
    {
     "data": {
      "text/plain": [
       "True"
      ]
     },
     "execution_count": 7,
     "metadata": {},
     "output_type": "execute_result"
    }
   ],
   "source": [
    "##  بررسی  پراکندگی ماتریس\n",
    "\n",
    "is_sparse = sparse.issparse(S)\n",
    "is_sparse"
   ]
  },
  {
   "cell_type": "code",
   "execution_count": 8,
   "id": "cbf8d2d5",
   "metadata": {},
   "outputs": [
    {
     "name": "stdout",
     "output_type": "stream",
     "text": [
      "x_sparse :\t [ 9.62223118  2.36913567  2.05466416  2.74339945 17.12036345  9.16262077]\n"
     ]
    }
   ],
   "source": [
    "x_sparse = sol_ls_A_sparse[0]\n",
    "print(f'x_sparse :\\t {x_sparse[0:6]}')\n"
   ]
  },
  {
   "cell_type": "code",
   "execution_count": 9,
   "id": "acbb2e16",
   "metadata": {},
   "outputs": [
    {
     "name": "stdout",
     "output_type": "stream",
     "text": [
      "تعداد عناصر غیر صفر در ماتریس SA: 181940\n",
      "تعداد عناصر غیر صفر در ماتریس کامل: 335573\n",
      "تعداد عناصر غیر صفر در ماتریس portpy_sparse: 335573\n"
     ]
    }
   ],
   "source": [
    "#  تعداد عناصر غیر صفر\n",
    "num_non_zero_elements_dense = np.count_nonzero(S@A)\n",
    "print(\"تعداد عناصر غیر صفر در ماتریس SA:\", num_non_zero_elements_dense)\n",
    "num_non_zero_elements_A_full = np.count_nonzero(A_full)\n",
    "print(\"تعداد عناصر غیر صفر در ماتریس کامل:\", num_non_zero_elements_A_full)\n",
    "num_non_zero_elements_dense = S.getnnz()\n",
    "print(\"تعداد عناصر غیر صفر در ماتریس portpy_sparse:\", num_non_zero_elements_dense)"
   ]
  },
  {
   "cell_type": "code",
   "execution_count": 10,
   "id": "e71f72a2",
   "metadata": {},
   "outputs": [
    {
     "data": {
      "text/plain": [
       "array([-3.09223519, -2.18086209, -2.05469304, -2.74342774, -2.66439341,\n",
       "       -1.69238621])"
      ]
     },
     "execution_count": 10,
     "metadata": {},
     "output_type": "execute_result"
    }
   ],
   "source": [
    "sol_ls_A_full = scipy.sparse.linalg.lsqr(A_full, dose_sparse_1d)\n",
    "x_A_full = sol_ls_A_full[0]\n",
    "error = x_A_full - x_sparse \n",
    "error[0:6]"
   ]
  },
  {
   "cell_type": "code",
   "execution_count": 11,
   "id": "81126c40",
   "metadata": {},
   "outputs": [
    {
     "name": "stdout",
     "output_type": "stream",
     "text": [
      "زمان حل کمترین مربعات0.7624828815460205 ثانیه\n"
     ]
    }
   ],
   "source": [
    "start_time = time.time()\n",
    "\n",
    "sol_ls_A_Sparse= scipy.sparse.linalg.lsqr(S @ A,S @ d)\n",
    "\n",
    "\n",
    "end_time = time.time()\n",
    "\n",
    "total_execution_time = end_time - start_time\n",
    "print(f\"زمان حل کمترین مربعات{total_execution_time} ثانیه\")"
   ]
  },
  {
   "cell_type": "code",
   "execution_count": 12,
   "id": "02408c56",
   "metadata": {},
   "outputs": [
    {
     "data": {
      "text/plain": [
       "0.02620494186108159"
      ]
     },
     "execution_count": 12,
     "metadata": {},
     "output_type": "execute_result"
    }
   ],
   "source": [
    "cost = cp.sum_squares((A @ x_A_full  - A @ x_sparse  )/ cp.norm(A @ x_A_full))\n",
    "prob = cp.Problem(Minimize(cost))\n",
    "prob.solve()"
   ]
  },
  {
   "cell_type": "code",
   "execution_count": 13,
   "id": "bbc4e7ab",
   "metadata": {},
   "outputs": [
    {
     "data": {
      "text/plain": [
       "0.007658021703824507"
      ]
     },
     "execution_count": 13,
     "metadata": {},
     "output_type": "execute_result"
    }
   ],
   "source": [
    "cost = cp.sum_squares((d  - A @ x_sparse  )/ cp.norm(d))\n",
    "prob = cp.Problem(Minimize(cost))\n",
    "prob.solve()"
   ]
  },
  {
   "cell_type": "code",
   "execution_count": 14,
   "id": "3663489b",
   "metadata": {},
   "outputs": [
    {
     "name": "stdout",
     "output_type": "stream",
     "text": [
      "x_A_full :\t [ 6.52999599e+00  1.88273577e-01 -2.88755364e-05 -2.82870896e-05\n",
      "  1.44559700e+01  7.47023456e+00]\n"
     ]
    },
    {
     "data": {
      "text/plain": [
       "0.16187940530247072"
      ]
     },
     "execution_count": 14,
     "metadata": {},
     "output_type": "execute_result"
    }
   ],
   "source": [
    "import cvxpy as cp\n",
    "\n",
    "x_A_full = sol_ls_A_full[0]\n",
    "print(f'x_A_full :\\t {x_A_full[0:6]}')\n",
    "\n",
    "cost = cp.norm(A @ x_A_full - A @ x_sparse, \"fro\")/ cp.norm(A @ x_A_full, \"fro\")\n",
    "\n",
    "prob = cp.Problem(cp.Minimize(cost))\n",
    " \n",
    "prob.solve()\n"
   ]
  },
  {
   "cell_type": "code",
   "execution_count": 21,
   "id": "9c2c04f8",
   "metadata": {},
   "outputs": [
    {
     "data": {
      "text/plain": [
       "88276.61303798057"
      ]
     },
     "execution_count": 21,
     "metadata": {},
     "output_type": "execute_result"
    }
   ],
   "source": [
    "x_sparse = sol_ls_A_Sparse[0]\n",
    "cost = sum_squares(A @ x_sparse -  d)\n",
    "prob_original = Problem(Minimize(cost))\n",
    "prob_original.solve()"
   ]
  },
  {
   "cell_type": "code",
   "execution_count": 18,
   "id": "a432369c",
   "metadata": {},
   "outputs": [
    {
     "name": "stdout",
     "output_type": "stream",
     "text": [
      "نرم خطای نسبی بین دو بردار: 0.15216846525413494\n"
     ]
    }
   ],
   "source": [
    "def calculate_relative_error(vector1, vector2):\n",
    "   \n",
    "    array1 = np.array(x_A_full)\n",
    "    array2 = np.array(x_sparse)\n",
    "\n",
    "    norm_vector2 = np.linalg.norm(x_A_full)\n",
    "\n",
    "    relative_error = np.linalg.norm(array1 - array2) / norm_vector2\n",
    "\n",
    "    return relative_error\n",
    "\n",
    "error = calculate_relative_error(x_A_full, x_sparse)\n",
    "print(f\"نرم خطای نسبی بین دو بردار: {error}\")\n"
   ]
  },
  {
   "cell_type": "code",
   "execution_count": 22,
   "id": "ab903a3b",
   "metadata": {},
   "outputs": [
    {
     "name": "stdout",
     "output_type": "stream",
     "text": [
      "Mean Squared Error : 0.0\n"
     ]
    }
   ],
   "source": [
    "## تابع (هدف)خطای میانگین مربعات\n",
    "## MSE = Mean Squared Error\n",
    "\n",
    "\n",
    "d_true = d          # دوز واقعی\n",
    "d_pred = A @ x_sparse   # دوز پیش‌بینی شده\n",
    "\n",
    "MSE = np.mean((d_true - d_true) ** 2)\n",
    "print(\"Mean Squared Error :\", MSE)\n",
    "\n"
   ]
  },
  {
   "cell_type": "code",
   "execution_count": 30,
   "id": "bfa79f36",
   "metadata": {},
   "outputs": [
    {
     "name": "stdout",
     "output_type": "stream",
     "text": [
      "نرم خطای مطلق بین دو بردار: 707.3589911529449\n"
     ]
    }
   ],
   "source": [
    "import numpy as np\n",
    "\n",
    "def calculate_absolute_error(vector1, vector2):\n",
    "    array1 = np.array(x_star)\n",
    "    array2 = np.array(x_sparse)\n",
    "\n",
    "    absolute_error = np.linalg.norm(array1 - array2, ord=1) \n",
    "\n",
    "    return absolute_error\n",
    "\n",
    "\n",
    "error = calculate_absolute_error(x_star, x_sparse)\n",
    "print(f\"نرم خطای مطلق بین دو بردار: {error}\")\n"
   ]
  },
  {
   "cell_type": "code",
   "execution_count": 8,
   "id": "04a7cb19",
   "metadata": {},
   "outputs": [
    {
     "name": "stdout",
     "output_type": "stream",
     "text": [
      "بردار بهینه x: None\n",
      "زمان کل اجرای نرم یک ماتریس پراکنده  \n",
      ": 0.20345401763916016 ثانیه\n"
     ]
    }
   ],
   "source": [
    "import numpy as np\n",
    "from scipy.optimize import linprog\n",
    "\n",
    "start_time = time.time()\n",
    "\n",
    "c = np.ones(A_sparse.shape[1])  # تابع هدف معمولاً یک بردار تمام یک‌ها است\n",
    "  \n",
    "result = linprog(c, A_eq=A_sparse, b_eq=dose_full_1d, bounds=(0, None))\n",
    " \n",
    "x_opt = result.x\n",
    "print(\"بردار بهینه x:\", x_opt)\n",
    "\n",
    "end_time = time.time()\n",
    "total_execution_time = end_time - start_time\n",
    "print(f\"زمان کل اجرای نرم یک ماتریس پراکنده  \\n: {total_execution_time} ثانیه\")\n",
    "\n",
    "\n"
   ]
  },
  {
   "cell_type": "code",
   "execution_count": 32,
   "id": "6936dda5",
   "metadata": {},
   "outputs": [
    {
     "name": "stdout",
     "output_type": "stream",
     "text": [
      "میزان حافظه sol_ls_JL_1 : 0.00011444091796875 مگابایت\n"
     ]
    }
   ],
   "source": [
    "memory_usage_sol_ls_sparse = sys.getsizeof(sol_ls_A_sparse )\n",
    "megabyte_size_sol_ls_sparse = memory_usage_sol_ls_sparse / 1024 / 1024\n",
    "\n",
    "print(f\"میزان حافظه sol_ls_JL_1 : {megabyte_size_sol_ls_sparse} مگابایت\")"
   ]
  },
  {
   "cell_type": "code",
   "execution_count": 33,
   "id": "aa87e72d",
   "metadata": {},
   "outputs": [
    {
     "name": "stdout",
     "output_type": "stream",
     "text": [
      "میزان حافظه ساخت JL_1 : 5.340576171875e-05 مگابایت\n"
     ]
    }
   ],
   "source": [
    "memory_usage_A_sparse = sys.getsizeof(S )\n",
    "megabyte_size_A_sparse= memory_usage_A_sparse / 1024 / 1024\n",
    "\n",
    "print(f\"میزان حافظه ساخت JL_1 : {megabyte_size_A_sparse} مگابایت\")"
   ]
  },
  {
   "cell_type": "code",
   "execution_count": 34,
   "id": "0a31c54c",
   "metadata": {},
   "outputs": [
    {
     "name": "stdout",
     "output_type": "stream",
     "text": [
      " رتبه ماتریس تقریب = 542\n"
     ]
    }
   ],
   "source": [
    "r1 = np.linalg.matrix_rank(S @ A_full ) \n",
    "#r2 = np.linalg.matrix_rank(A_full)      \n",
    "print( f' رتبه ماتریس تقریب = {r1}')"
   ]
  },
  {
   "cell_type": "code",
   "execution_count": 17,
   "id": "93c96f44",
   "metadata": {},
   "outputs": [
    {
     "name": "stdout",
     "output_type": "stream",
     "text": [
      "نرم خطای نسبی بین دو بردار: 0.15216846525413494\n"
     ]
    }
   ],
   "source": [
    "import numpy as np\n",
    "\n",
    "def calculate_relative_error(vector1, vector2):\n",
    "   \n",
    "    array1 = np.array(x_star)\n",
    "    array2 = np.array(x_sparse)\n",
    "\n",
    "    norm_vector2 = np.linalg.norm(x_star)\n",
    "\n",
    "    relative_error = np.linalg.norm(x_star - x_sparse) / norm_vector2\n",
    "\n",
    "    return relative_error\n",
    "\n",
    "error = calculate_relative_error(x_star, x_sparse)\n",
    "print(f\"نرم خطای نسبی بین دو بردار: {error}\")\n"
   ]
  },
  {
   "cell_type": "code",
   "execution_count": null,
   "id": "6e082fa9",
   "metadata": {},
   "outputs": [],
   "source": []
  }
 ],
 "metadata": {
  "kernelspec": {
   "display_name": "Python 3 (ipykernel)",
   "language": "python",
   "name": "python3"
  },
  "language_info": {
   "codemirror_mode": {
    "name": "ipython",
    "version": 3
   },
   "file_extension": ".py",
   "mimetype": "text/x-python",
   "name": "python",
   "nbconvert_exporter": "python",
   "pygments_lexer": "ipython3",
   "version": "3.11.5"
  }
 },
 "nbformat": 4,
 "nbformat_minor": 5
}
