{
 "cells": [
  {
   "cell_type": "code",
   "execution_count": 1,
   "id": "0f723b86-c17e-4935-a1fd-81056b806f0b",
   "metadata": {},
   "outputs": [],
   "source": [
    "import scipy\n",
    "import random\n",
    "import portpy.photon as pp\n",
    "from skimage import measure\n",
    "import numpy as np\n",
    "from cvxpy import *\n",
    "from scipy import sparse\n",
    "import sklearn.metrics\n",
    "import cProfile\n",
    "import time\n",
    "import sys\n",
    "import psutil\n",
    "import cvxpy as cp\n",
    "from scipy.linalg import LinAlgError\n",
    "import matplotlib.pyplot as plt\n",
    "from scipy.optimize import lsq_linear\n",
    "import scipy.sparse\n",
    "from sklearn.decomposition import PCA\n"
   ]
  },
  {
   "cell_type": "code",
   "execution_count": 3,
   "id": "bb65e21d-1fe0-491a-8330-3be2b1f5dee3",
   "metadata": {},
   "outputs": [
    {
     "name": "stdout",
     "output_type": "stream",
     "text": [
      "creating rinds.. This step may take some time due to dilation\n",
      "rinds created!!\n",
      "Creating BEV..\n",
      "Loading sparse influence matrix...\n",
      "Done\n",
      "Objective Start\n",
      "Objective done\n",
      "Constraints Start\n",
      "Structure ESOPHAGUS not available!\n",
      "Structure ESOPHAGUS not available!\n",
      "Constraints done\n",
      "===============================================================================\n",
      "                                     CVXPY                                     \n",
      "                                     v1.5.2                                    \n",
      "===============================================================================\n",
      "(CVXPY) Sep 11 03:24:06 PM: Your problem has 1946 variables, 110663 constraints, and 0 parameters.\n",
      "(CVXPY) Sep 11 03:24:06 PM: It is compliant with the following grammars: DCP, DQCP\n",
      "(CVXPY) Sep 11 03:24:06 PM: (If you need to solve this problem multiple times, but with different data, consider using parameters.)\n",
      "(CVXPY) Sep 11 03:24:06 PM: CVXPY will first compile your problem; then, it will invoke a numerical solver to obtain a solution.\n",
      "(CVXPY) Sep 11 03:24:06 PM: Your problem is compiled with the CPP canonicalization backend.\n",
      "-------------------------------------------------------------------------------\n",
      "                                  Compilation                                  \n",
      "-------------------------------------------------------------------------------\n",
      "(CVXPY) Sep 11 03:24:06 PM: Compiling problem (target solver=MOSEK).\n",
      "(CVXPY) Sep 11 03:24:06 PM: Reduction chain: Dcp2Cone -> CvxAttr2Constr -> ConeMatrixStuffing -> MOSEK\n",
      "(CVXPY) Sep 11 03:24:06 PM: Applying reduction Dcp2Cone\n",
      "(CVXPY) Sep 11 03:24:06 PM: Applying reduction CvxAttr2Constr\n",
      "(CVXPY) Sep 11 03:24:06 PM: Applying reduction ConeMatrixStuffing\n",
      "(CVXPY) Sep 11 03:24:08 PM: Applying reduction MOSEK\n",
      "(CVXPY) Sep 11 03:24:08 PM: Finished problem compilation (took 1.607e+00 seconds).\n",
      "-------------------------------------------------------------------------------\n",
      "                                Numerical solver                               \n",
      "-------------------------------------------------------------------------------\n",
      "(CVXPY) Sep 11 03:24:08 PM: Invoking solver MOSEK  to obtain a solution.\n",
      "\n",
      "\n",
      "(CVXPY) Sep 11 03:24:08 PM: Problem\n",
      "(CVXPY) Sep 11 03:24:08 PM:   Name                   :                 \n",
      "(CVXPY) Sep 11 03:24:08 PM:   Objective sense        : maximize        \n",
      "(CVXPY) Sep 11 03:24:08 PM:   Type                   : CONIC (conic optimization problem)\n",
      "(CVXPY) Sep 11 03:24:08 PM:   Constraints            : 1959            \n",
      "(CVXPY) Sep 11 03:24:08 PM:   Affine conic cons.     : 0               \n",
      "(CVXPY) Sep 11 03:24:08 PM:   Disjunctive cons.      : 0               \n",
      "(CVXPY) Sep 11 03:24:08 PM:   Cones                  : 13              \n",
      "(CVXPY) Sep 11 03:24:08 PM:   Scalar variables       : 215748          \n",
      "(CVXPY) Sep 11 03:24:08 PM:   Matrix variables       : 0               \n",
      "(CVXPY) Sep 11 03:24:08 PM:   Integer variables      : 0               \n",
      "(CVXPY) Sep 11 03:24:08 PM: \n",
      "(CVXPY) Sep 11 03:24:08 PM: Optimizer started.\n",
      "(CVXPY) Sep 11 03:24:09 PM: Presolve started.\n",
      "(CVXPY) Sep 11 03:24:09 PM: Linear dependency checker started.\n",
      "(CVXPY) Sep 11 03:24:09 PM: Linear dependency checker terminated.\n",
      "(CVXPY) Sep 11 03:24:09 PM: Eliminator started.\n",
      "(CVXPY) Sep 11 03:24:09 PM: Freed constraints in eliminator : 0\n",
      "(CVXPY) Sep 11 03:24:09 PM: Eliminator terminated.\n",
      "(CVXPY) Sep 11 03:24:09 PM: Eliminator - tries                  : 1                 time                   : 0.00            \n",
      "(CVXPY) Sep 11 03:24:09 PM: Lin. dep.  - tries                  : 1                 time                   : 0.02            \n",
      "(CVXPY) Sep 11 03:24:09 PM: Lin. dep.  - primal attempts        : 1                 successes              : 1               \n",
      "(CVXPY) Sep 11 03:24:09 PM: Lin. dep.  - dual attempts          : 0                 successes              : 0               \n",
      "(CVXPY) Sep 11 03:24:09 PM: Lin. dep.  - primal deps.           : 0                 dual deps.             : 0               \n",
      "(CVXPY) Sep 11 03:24:09 PM: Presolve terminated. Time: 0.19    \n",
      "(CVXPY) Sep 11 03:24:09 PM: Optimizer  - threads                : 2               \n",
      "(CVXPY) Sep 11 03:24:09 PM: Optimizer  - solved problem         : the primal      \n",
      "(CVXPY) Sep 11 03:24:09 PM: Optimizer  - Constraints            : 1959            \n",
      "(CVXPY) Sep 11 03:24:09 PM: Optimizer  - Cones                  : 13              \n",
      "(CVXPY) Sep 11 03:24:09 PM: Optimizer  - Scalar variables       : 63183             conic                  : 50518           \n",
      "(CVXPY) Sep 11 03:24:09 PM: Optimizer  - Semi-definite variables: 0                 scalarized             : 0               \n",
      "(CVXPY) Sep 11 03:24:09 PM: Factor     - setup time             : 0.17            \n",
      "(CVXPY) Sep 11 03:24:09 PM: Factor     - dense det. time        : 0.00              GP order time          : 0.00            \n",
      "(CVXPY) Sep 11 03:24:09 PM: Factor     - nonzeros before factor : 2.46e+05          after factor           : 2.47e+05        \n",
      "(CVXPY) Sep 11 03:24:09 PM: Factor     - dense dim.             : 4                 flops                  : 8.21e+07        \n",
      "(CVXPY) Sep 11 03:24:09 PM: ITE PFEAS    DFEAS    GFEAS    PRSTATUS   POBJ              DOBJ              MU       TIME  \n",
      "(CVXPY) Sep 11 03:24:09 PM: 0   1.4e+02  2.3e+02  1.4e+01  0.00e+00   -1.300000000e+01  -0.000000000e+00  1.0e+00  0.56  \n",
      "(CVXPY) Sep 11 03:24:09 PM: 1   1.2e+02  1.9e+02  1.3e+01  -9.63e-01  4.679787643e+03   4.692415819e+03   8.4e-01  0.61  \n",
      "(CVXPY) Sep 11 03:24:09 PM: 2   7.5e+01  1.2e+02  9.1e+00  -8.68e-01  6.575663964e+03   6.586712761e+03   5.3e-01  0.66  \n",
      "(CVXPY) Sep 11 03:24:09 PM: 3   3.3e+01  5.4e+01  4.7e+00  -6.48e-01  5.483660804e+03   5.491376940e+03   2.3e-01  0.70  \n",
      "(CVXPY) Sep 11 03:24:09 PM: 4   1.7e+01  2.8e+01  2.3e+00  -1.90e-01  2.759695648e+03   2.764885110e+03   1.2e-01  0.73  \n",
      "(CVXPY) Sep 11 03:24:09 PM: 5   1.4e+01  2.3e+01  1.8e+00  1.40e-01   2.641460111e+03   2.645958464e+03   9.9e-02  0.77  \n",
      "(CVXPY) Sep 11 03:24:09 PM: 6   6.9e+00  1.1e+01  7.0e-01  3.32e-01   1.135836563e+03   1.138391456e+03   4.9e-02  0.80  \n",
      "(CVXPY) Sep 11 03:24:09 PM: 7   2.6e+00  4.3e+00  1.7e-01  6.90e-01   6.433717496e+02   6.443825583e+02   1.8e-02  0.84  \n",
      "(CVXPY) Sep 11 03:24:09 PM: 8   7.7e-01  1.3e+00  2.9e-02  9.19e-01   2.519392152e+02   2.522318222e+02   5.5e-03  0.89  \n",
      "(CVXPY) Sep 11 03:24:09 PM: 9   1.9e-01  3.1e-01  3.7e-03  1.00e+00   1.112136823e+02   1.112831916e+02   1.4e-03  0.92  \n",
      "(CVXPY) Sep 11 03:24:09 PM: 10  5.2e-02  8.4e-02  5.2e-04  1.01e+00   6.185792813e+01   6.187635074e+01   3.6e-04  0.97  \n",
      "(CVXPY) Sep 11 03:24:10 PM: 11  1.3e-02  2.2e-02  7.0e-05  1.00e+00   4.731442626e+01   4.731918194e+01   9.5e-05  1.02  \n",
      "(CVXPY) Sep 11 03:24:10 PM: 12  4.1e-03  6.7e-03  1.2e-05  1.00e+00   4.361501519e+01   4.361646033e+01   2.9e-05  1.06  \n",
      "(CVXPY) Sep 11 03:24:10 PM: 13  1.3e-03  2.1e-03  2.1e-06  9.99e-01   4.251789703e+01   4.251835713e+01   9.3e-06  1.09  \n",
      "(CVXPY) Sep 11 03:24:10 PM: 14  4.8e-04  7.9e-04  4.9e-07  9.99e-01   4.220398667e+01   4.220415337e+01   3.4e-06  1.14  \n",
      "(CVXPY) Sep 11 03:24:10 PM: 15  1.1e-04  1.7e-04  5.0e-08  1.00e+00   4.207786888e+01   4.207790516e+01   7.5e-07  1.19  \n",
      "(CVXPY) Sep 11 03:24:10 PM: 16  6.0e-06  9.7e-06  6.2e-10  1.00e+00   4.204776636e+01   4.204776856e+01   4.2e-08  1.22  \n",
      "(CVXPY) Sep 11 03:24:10 PM: 17  2.8e-06  8.3e-05  2.1e-10  9.89e-01   4.204632880e+01   4.204632978e+01   2.0e-08  1.25  \n",
      "(CVXPY) Sep 11 03:24:10 PM: 18  1.1e-06  3.2e-05  5.1e-11  1.00e+00   4.204577656e+01   4.204577693e+01   7.8e-09  1.30  \n",
      "(CVXPY) Sep 11 03:24:10 PM: 19  2.2e-07  4.6e-06  2.5e-12  9.75e-01   4.204541631e+01   4.204541637e+01   9.9e-10  1.34  \n",
      "(CVXPY) Sep 11 03:24:10 PM: Optimizer terminated. Time: 1.39    \n",
      "(CVXPY) Sep 11 03:24:10 PM: \n",
      "(CVXPY) Sep 11 03:24:10 PM: \n",
      "(CVXPY) Sep 11 03:24:10 PM: Interior-point solution summary\n",
      "(CVXPY) Sep 11 03:24:10 PM:   Problem status  : PRIMAL_AND_DUAL_FEASIBLE\n",
      "(CVXPY) Sep 11 03:24:10 PM:   Solution status : OPTIMAL\n",
      "(CVXPY) Sep 11 03:24:10 PM:   Primal.  obj: 4.2045416314e+01    nrm: 1e+02    Viol.  con: 5e-06    var: 8e-07    cones: 0e+00  \n",
      "(CVXPY) Sep 11 03:24:10 PM:   Dual.    obj: 4.2045416367e+01    nrm: 6e+03    Viol.  con: 0e+00    var: 1e-08    cones: 0e+00  \n",
      "-------------------------------------------------------------------------------\n",
      "                                    Summary                                    \n",
      "-------------------------------------------------------------------------------\n",
      "(CVXPY) Sep 11 03:24:10 PM: Problem status: optimal\n",
      "(CVXPY) Sep 11 03:24:10 PM: Optimal value: 4.205e+01\n",
      "(CVXPY) Sep 11 03:24:10 PM: Compilation took 1.607e+00 seconds\n",
      "(CVXPY) Sep 11 03:24:10 PM: Solver (including time spent in interface) took 1.949e+00 seconds\n",
      "Creating BEV..\n",
      "Loading full influence matrix..\n",
      "Done\n"
     ]
    }
   ],
   "source": [
    "\n",
    "data_dir = r'../data'\n",
    "data = pp.DataExplorer(data_dir=data_dir)\n",
    "patient_id = 'Lung_Phantom_Patient_1'\n",
    "data.patient_id = patient_id\n",
    "ct = pp.CT(data)\n",
    "structs = pp.Structures(data)\n",
    "beams = pp.Beams(data)\n",
    "opt_params = data.load_config_opt_params(protocol_name='Lung_2Gy_30Fx')\n",
    "structs.create_opt_structures(opt_params)\n",
    "inf_matrix_sparse = pp.InfluenceMatrix(ct=ct, structs=structs, beams=beams)\n",
    "protocol_name = 'Lung_2Gy_30Fx'\n",
    "clinical_criteria = pp.ClinicalCriteria(data, protocol_name)\n",
    "plan_sparse = pp.Plan(ct, structs, beams, inf_matrix_sparse, clinical_criteria)\n",
    "opt = pp.Optimization(plan_sparse, opt_params=opt_params)\n",
    "opt.create_cvxpy_problem()\n",
    "\n",
    "sol_sparse = opt.solve(solver='MOSEK', verbose=True)\n",
    "dose_sparse_1d = plan_sparse.inf_matrix.A @ (sol_sparse['optimal_intensity'] * plan_sparse.get_num_of_fractions())\n",
    "x_sparse =sol_sparse['optimal_intensity'] * plan_sparse.get_num_of_fractions()\n",
    "\n",
    "beams_dense = pp.Beams(data, load_inf_matrix_full=True)\n",
    "inf_matrix_dense = pp.InfluenceMatrix(ct=ct, structs=structs, beams=beams_dense, is_full=True)\n",
    "plan_dense = pp.Plan(ct, structs, beams, inf_matrix_dense, clinical_criteria)\n",
    "dose_dense_1d = plan_dense.inf_matrix.A @ (sol_sparse['optimal_intensity'] * plan_dense.get_num_of_fractions())\n",
    "A_dense = plan_dense.inf_matrix.A\n",
    "# sparse_tol = plan_sparse.inf_matrix.sparse_tol\n",
    "#print(sol_sparse['problem_value'])\n"
   ]
  },
  {
   "cell_type": "code",
   "execution_count": 4,
   "id": "7e420751-16a5-422e-b3eb-d0888b1d308e",
   "metadata": {},
   "outputs": [
    {
     "data": {
      "image/png": "[encoded data removed]",
      "text/plain": [
       "<Figure size 640x480 with 1 Axes>"
      ]
     },
     "metadata": {},
     "output_type": "display_data"
    },
    {
     "name": "stdout",
     "output_type": "stream",
     "text": [
      "k_opt: 452\n"
     ]
    }
   ],
   "source": [
    "\n",
    "def optimal_k(A, threshold=0.95):\n",
    "    #  SVD\n",
    "    U, Sigma, VT = np.linalg.svd(A, full_matrices=False)\n",
    "    #   Cumulative Energy\n",
    "    cumulative_energy = np.cumsum(Sigma**2) / np.sum(Sigma**2)\n",
    "    \n",
    "    # Threshold\n",
    "    k_optimal = np.where(cumulative_energy >= threshold)[0][0] + 1\n",
    "    \n",
    "    plt.plot(cumulative_energy)\n",
    "    plt.xlabel('Rank k')\n",
    "    plt.ylabel('Cumulative Energy')\n",
    "    plt.title('Scree Plot for Optimal k Selection')\n",
    "    plt.axvline(x=k_optimal, color='r', linestyle='--')\n",
    "    plt.show()\n",
    "    \n",
    "    return k_optimal\n",
    "\n",
    "#  Optimal k \n",
    "k_opt = optimal_k(A_dense, threshold=0.95)\n",
    "print(f\"k_opt: {k_opt}\")\n"
   ]
  },
  {
   "cell_type": "code",
   "execution_count": 5,
   "id": "fad66193-f739-485d-8694-837300ac4ede",
   "metadata": {},
   "outputs": [
    {
     "name": "stdout",
     "output_type": "stream",
     "text": [
      "Original Matrix:\n",
      " [[0. 0. 0. ... 0. 0. 0.]\n",
      " [0. 0. 0. ... 0. 0. 0.]\n",
      " [0. 0. 0. ... 0. 0. 0.]]\n",
      "Reduced Matrix (A_reduced):\n",
      " [[-2.9713543e-02 -1.3995385e-03 -1.6040793e-02 ...  2.3650555e-05\n",
      "   5.4605698e-06  2.5882546e-05]\n",
      " [-2.9713543e-02 -1.3995385e-03 -1.6040793e-02 ...  2.3650555e-05\n",
      "   5.4605698e-06  2.5882546e-05]\n",
      " [-2.9713543e-02 -1.3995385e-03 -1.6040793e-02 ...  2.3650555e-05\n",
      "   5.4605698e-06  2.5882546e-05]]\n",
      "Approximated Matrix (A_approx):\n",
      " [[-5.24683855e-07 -1.11379195e-05  2.24506948e-06 ...  7.17886724e-06\n",
      "  -1.60201453e-05  2.80478271e-05]\n",
      " [-5.24683855e-07 -1.11379195e-05  2.24506948e-06 ...  7.17886724e-06\n",
      "  -1.60201453e-05  2.80478271e-05]\n",
      " [-5.24683855e-07 -1.11379195e-05  2.24506948e-06 ...  7.17886724e-06\n",
      "  -1.60201453e-05  2.80478271e-05]]\n"
     ]
    }
   ],
   "source": [
    "# PCA\n",
    "pca = PCA(n_components=k_opt)\n",
    "A_reduced = pca.fit_transform(A_dense)\n",
    "\n",
    "# Inverse Transform\n",
    "A_approx = pca.inverse_transform(A_reduced)\n",
    "\n",
    "print(\"Original Matrix:\\n\", A_dense[:3])\n",
    "print(\"Reduced Matrix (A_reduced):\\n\", A_reduced[:3])\n",
    "print(\"Approximated Matrix (A_approx):\\n\", A_approx[:3])\n"
   ]
  },
  {
   "cell_type": "code",
   "execution_count": 6,
   "id": "a14db6b6-0dcc-4fd7-a0be-f9115fc0dad3",
   "metadata": {},
   "outputs": [
    {
     "name": "stdout",
     "output_type": "stream",
     "text": [
      " rank1: 542\n",
      " rank1: 452\n"
     ]
    }
   ],
   "source": [
    "rank1= np.linalg.matrix_rank(A_dense)\n",
    "print(f\" rank1: {rank1}\")\n",
    "\n",
    "rank2= np.linalg.matrix_rank(A_approx)\n",
    "print(f\" rank1: {rank2}\")"
   ]
  },
  {
   "cell_type": "code",
   "execution_count": 11,
   "id": "c5e9724e-b214-4d38-bddf-4a25d35db376",
   "metadata": {},
   "outputs": [
    {
     "name": "stdout",
     "output_type": "stream",
     "text": [
      "S = (542, 60183)\n",
      "A = (60183, 542)\n",
      "p = (60183,)\n"
     ]
    }
   ],
   "source": [
    "S = A_approx.T\n",
    "A = A_dense\n",
    "p = dose_dense_1d\n",
    "print(f'S = {S.shape}\\nA = {A_dense.shape}\\np = {p.shape}')"
   ]
  },
  {
   "cell_type": "code",
   "execution_count": 15,
   "id": "bb014710-6b96-4649-bb5a-8b279f88cb9f",
   "metadata": {},
   "outputs": [
    {
     "name": "stdout",
     "output_type": "stream",
     "text": [
      "nnz A Matrix:  10279072\n",
      "nnz approx matrix: 32619155\n"
     ]
    }
   ],
   "source": [
    "nonzero_count = (np.count_nonzero(A_dense))\n",
    "print(\"nnz A Matrix: \", nonzero_count)\n",
    "\n",
    "# Count non-zero entries in the sparsified matrix\n",
    "nnz_S = (np.count_nonzero(A_approx))\n",
    "print(\"nnz approx matrix:\", nnz_S)"
   ]
  },
  {
   "cell_type": "code",
   "execution_count": 13,
   "id": "3a76c0ea-c318-4655-ac82-7c3a64f79209",
   "metadata": {},
   "outputs": [
    {
     "name": "stdout",
     "output_type": "stream",
     "text": [
      "LS solution time: 0.6002726554870605 Second\n"
     ]
    }
   ],
   "source": [
    "start_time = time.time()\n",
    "\n",
    "sol_ls_S = scipy.sparse.linalg.lsqr(S @ A, S @ p )\n",
    "    \n",
    "end_time = time.time()\n",
    "total_execution_time = end_time - start_time\n",
    "print(f\"LS solution time: {total_execution_time} Second\")\n"
   ]
  },
  {
   "cell_type": "code",
   "execution_count": 22,
   "id": "8c643f2b-c20c-493b-8eaf-53b855da96d9",
   "metadata": {},
   "outputs": [
    {
     "data": {
      "text/plain": [
       "0.08999575212206337"
      ]
     },
     "execution_count": 22,
     "metadata": {},
     "output_type": "execute_result"
    }
   ],
   "source": [
    "x_pca = sol_ls_S[0]\n",
    "cost = sum_squares(S @ A @ x_pca - S @ p)\n",
    "prob = Problem(Minimize(cost))\n",
    "sol = prob.solve(solver='MOSEK', verbose=False)\n",
    "sol"
   ]
  },
  {
   "cell_type": "markdown",
   "id": "f1529f04-efa0-4da1-83ca-d6bbfb70512c",
   "metadata": {},
   "source": [
    "<br><center> ***Minimize*** $\\lVert SAx - Sp\\rVert_{2}^2$\n",
    "\n",
    "  "
   ]
  },
  {
   "cell_type": "code",
   "execution_count": 26,
   "id": "8fc4833c-fb77-4a20-9480-03ec4cf326e7",
   "metadata": {},
   "outputs": [
    {
     "name": "stdout",
     "output_type": "stream",
     "text": [
      "Objective Start\n",
      "Objective done\n",
      "Constraints Start\n",
      "Structure ESOPHAGUS not available!\n",
      "Structure ESOPHAGUS not available!\n",
      "Constraints done\n"
     ]
    }
   ],
   "source": [
    "opt = pp.Optimization(plan_dense, opt_params=opt_params)\n",
    "opt.create_cvxpy_problem()\n",
    "\n",
    "sol_dense = opt.solve(solver='MOSEK', verbose=False)\n",
    "\n",
    "x_dense = sol_dense['optimal_intensity'] * plan_dense.get_num_of_fractions()"
   ]
  },
  {
   "cell_type": "code",
   "execution_count": 32,
   "id": "6ddb1836-5b35-4e72-a41f-ba533e056646",
   "metadata": {},
   "outputs": [
    {
     "data": {
      "image/png": "[encoded data removed]",
      "text/plain": [
       "<Figure size 800x600 with 1 Axes>"
      ]
     },
     "metadata": {},
     "output_type": "display_data"
    },
    {
     "name": "stdout",
     "output_type": "stream",
     "text": [
      "Done!\n"
     ]
    }
   ],
   "source": [
    "# DVH Plot\n",
    "dose_dense = plan_dense.inf_matrix.A @ x_dense\n",
    "dose_pca = plan_dense.inf_matrix.A @ x_pca \n",
    "\n",
    "fig, ax = plt.subplots(figsize=(8, 6))\n",
    "struct_names = ['PTV', 'ESOPHAGUS', 'HEART', 'CORD']\n",
    "ax = pp.Visualization.plot_dvh(plan_dense, dose_1d= dose_pca, struct_names=struct_names, style='solid', ax=ax)\n",
    "ax = pp.Visualization.plot_dvh(plan_dense, dose_1d=dose_dense, struct_names=struct_names, style='dotted', ax=ax)\n",
    "ax.set_title('- Sampling Matrix ...  Dense Matrix')\n",
    "plt.savefig('DVH_Sampling.png')\n",
    "plt.show()\n",
    "print('Done!')"
   ]
  },
  {
   "cell_type": "code",
   "execution_count": 34,
   "id": "6891ab56-d294-4098-a4ef-071260920c00",
   "metadata": {},
   "outputs": [
    {
     "name": "stdout",
     "output_type": "stream",
     "text": [
      "Data Type: float64\n",
      "Shape: (60183,)\n"
     ]
    }
   ],
   "source": [
    "print(\"Data Type:\", dose_pca.dtype)\n",
    "\n",
    "print(\"Shape:\", dose_pca.shape)\n"
   ]
  },
  {
   "cell_type": "code",
   "execution_count": 38,
   "id": "eba89b33-a6e1-4bc1-b65c-a83018bbb9dc",
   "metadata": {},
   "outputs": [
    {
     "name": "stdout",
     "output_type": "stream",
     "text": [
      "                  0\n",
      "count  60183.000000\n",
      "mean       6.514755\n",
      "std       12.200318\n",
      "min        0.000000\n",
      "25%        0.342700\n",
      "50%        1.342530\n",
      "75%        6.480949\n",
      "max       77.726369\n"
     ]
    }
   ],
   "source": [
    "import pandas as pd\n",
    "# Convert ndarray to DataFrame\n",
    "dose_pca_df = pd.DataFrame(dose_pca)\n",
    "\n",
    "# Describe\n",
    "description = dose_pca_df.describe()\n",
    "\n",
    "print(description)\n"
   ]
  },
  {
   "cell_type": "code",
   "execution_count": 40,
   "id": "27b96997-094f-454f-9f04-d6997a68b4ea",
   "metadata": {},
   "outputs": [
    {
     "data": {
      "text/plain": [
       "False"
      ]
     },
     "execution_count": 40,
     "metadata": {},
     "output_type": "execute_result"
    }
   ],
   "source": [
    "##  Analysis of matrix sparsity\n",
    "\n",
    "is_sparse = sparse.issparse(S)\n",
    "is_sparse"
   ]
  },
  {
   "cell_type": "code",
   "execution_count": 42,
   "id": "d4483e4f-9a3a-4927-a014-0245098bbfa4",
   "metadata": {},
   "outputs": [
    {
     "name": "stdout",
     "output_type": "stream",
     "text": [
      "x :\t [ 5.85643076  0.31542094  1.49005179 -0.52749364 14.8839057   7.95059975]\n"
     ]
    }
   ],
   "source": [
    "x_pca = sol_ls_S[0]\n",
    "print(f'x :\\t {x_sampling[0:6]}')"
   ]
  },
  {
   "cell_type": "code",
   "execution_count": 44,
   "id": "bda203e7-e94b-480a-b236-11191d665cf5",
   "metadata": {},
   "outputs": [
    {
     "name": "stdout",
     "output_type": "stream",
     "text": [
      "Relative Error: 0.2332288405594943\n"
     ]
    }
   ],
   "source": [
    "sol_ls_A_Dense = scipy.sparse.linalg.lsqr(A_dense,dose_sparse_1d)\n",
    "x_A_dense = sol_ls_A_Dense[0]\n",
    "\n",
    "relative_error = np.linalg.norm(x_A_dense - x_pca) / np.linalg.norm(x_A_dense)\n",
    "print(f'Relative Error:', relative_error)\n"
   ]
  },
  {
   "cell_type": "code",
   "execution_count": 45,
   "id": "27b899a2-d68b-4cc8-ba0f-5b9b887f3a01",
   "metadata": {},
   "outputs": [
    {
     "name": "stdout",
     "output_type": "stream",
     "text": [
      "x_A_dense :\t [ 3.67488051 -1.8787341  -1.95530416 -2.43994502 12.06894575  5.92360281]\n"
     ]
    },
    {
     "data": {
      "text/plain": [
       "0.03074580842555681"
      ]
     },
     "execution_count": 45,
     "metadata": {},
     "output_type": "execute_result"
    }
   ],
   "source": [
    "x_A_dense= sol_ls_A_Dense[0]\n",
    "print(f'x_A_dense :\\t {x_A_dense[0:6]}')\n",
    "\n",
    "cost = cp.sum_squares((A_dense @ x_A_dense  - A_dense @ x_pca  )/ cp.norm(A_dense @ x_A_dense))\n",
    "prob = cp.Problem(Minimize(cost))\n",
    "sol = prob.solve(solver='MOSEK', verbose=False)\n",
    "sol"
   ]
  },
  {
   "cell_type": "code",
   "execution_count": 46,
   "id": "f2908cfc-670d-467c-addb-38a62b28dbd9",
   "metadata": {},
   "outputs": [
    {
     "data": {
      "text/plain": [
       "0.17534482719931271"
      ]
     },
     "execution_count": 46,
     "metadata": {},
     "output_type": "execute_result"
    }
   ],
   "source": [
    "# Norm Frobenius\n",
    "\n",
    "cost = cp.norm(A_dense @ x_A_dense - A_dense @ x_sampling, \"fro\")/ cp.norm(A_dense @ x_A_dense, \"fro\")\n",
    "\n",
    "prob = cp.Problem(cp.Minimize(cost))\n",
    "\n",
    "prob.solve()\n"
   ]
  },
  {
   "cell_type": "code",
   "execution_count": 50,
   "id": "91ab4b04-c0f6-482a-a9a9-fb69f30df968",
   "metadata": {},
   "outputs": [
    {
     "name": "stdout",
     "output_type": "stream",
     "text": [
      "nnz A Matrix:  0.3151234981768092\n",
      "nnz SA Matrix : 1.0\n",
      "nnz S Matrix : 0.9999990496390683\n"
     ]
    }
   ],
   "source": [
    "m,n = A_dense.shape\n",
    "d = m*n\n",
    "a,b = S.shape\n",
    "r = a*b\n",
    "t,v = (S @ A).shape\n",
    "f = t*v\n",
    "nonzero_count = np.count_nonzero(A_dense)/d\n",
    "print(\"nnz A Matrix: \", nonzero_count)\n",
    "num_non_zero = np.count_nonzero(S @ A)/f\n",
    "print(\"nnz SA Matrix :\", num_non_zero)\n",
    "nnz_S = np.count_nonzero(S )/r\n",
    "print(\"nnz S Matrix :\", nnz_S)"
   ]
  },
  {
   "cell_type": "code",
   "execution_count": 60,
   "id": "3e220908-287e-47e9-af30-447c33266a10",
   "metadata": {},
   "outputs": [
    {
     "data": {
      "text/plain": [
       "0.001288117469987998"
      ]
     },
     "execution_count": 60,
     "metadata": {},
     "output_type": "execute_result"
    }
   ],
   "source": [
    "cost = cp.sum_squares(( A_dense @ x_pca -p )/ cp.norm(p))\n",
    "prob = cp.Problem(Minimize(cost))\n",
    "prob.solve()"
   ]
  },
  {
   "cell_type": "code",
   "execution_count": 62,
   "id": "7c168107-c841-427e-9748-4c10dff0d781",
   "metadata": {},
   "outputs": [
    {
     "name": "stdout",
     "output_type": "stream",
     "text": [
      "Mean Squared Error : 0.24672386928381557\n"
     ]
    }
   ],
   "source": [
    "## MSE \n",
    "\n",
    "d_true = p          # Real Dose \n",
    "d_pred = A_dense @ x_pca   # Predicted Dose  \n",
    "\n",
    "MSE1 = np.mean((d_true - d_pred) ** 2)\n",
    "print(\"Mean Squared Error :\", MSE1)\n"
   ]
  },
  {
   "cell_type": "code",
   "execution_count": 64,
   "id": "fe55d385-a8ce-4f55-ae5b-a96307f42db3",
   "metadata": {},
   "outputs": [
    {
     "name": "stdout",
     "output_type": "stream",
     "text": [
      "Mean Squared Error : 4.349297748956522\n"
     ]
    }
   ],
   "source": [
    "## MSE \n",
    "\n",
    "d_true = A_dense @ x_A_dense            # Real Dose \n",
    "d_pred = A_dense @ x_pca   # Predicted Dose  \n",
    "\n",
    "MSE2 = np.mean((d_true - d_pred) ** 2)\n",
    "print(\"Mean Squared Error :\", MSE2)\n",
    " "
   ]
  },
  {
   "cell_type": "code",
   "execution_count": 68,
   "id": "2f745aa0-b3c5-4ebe-bbbf-e1fe4b3fb5ed",
   "metadata": {},
   "outputs": [
    {
     "name": "stdout",
     "output_type": "stream",
     "text": [
      "Rank approximation matrix = 452\n",
      " Rank  Dense matrix = 542\n"
     ]
    }
   ],
   "source": [
    "r1 = np.linalg.matrix_rank(S @ A_dense) \n",
    "r2 = np.linalg.matrix_rank(A_dense)      \n",
    "print( f'Rank approximation matrix = {r1}\\n Rank  Dense matrix = {r2}')"
   ]
  },
  {
   "cell_type": "code",
   "execution_count": 70,
   "id": "b0b2e098-2889-4a2c-9a3f-62bf4bd53f19",
   "metadata": {},
   "outputs": [
    {
     "name": "stdout",
     "output_type": "stream",
     "text": [
      "Memory sol_ls_S:  0.00011444091796875 MB\n"
     ]
    }
   ],
   "source": [
    "memory_usage_sol_ls_S = sys.getsizeof(sol_ls_S )\n",
    "megabyte_size_sol_ls_S = memory_usage_sol_ls_S / 1024 / 1024\n",
    "\n",
    "print(f\"Memory sol_ls_S:  {megabyte_size_sol_ls_S} MB\")"
   ]
  },
  {
   "cell_type": "code",
   "execution_count": 72,
   "id": "f1d4a0a5-c11a-41ea-9705-986e68e29d01",
   "metadata": {},
   "outputs": [
    {
     "name": "stdout",
     "output_type": "stream",
     "text": [
      "Memory S : 0.0001220703125 MB\n"
     ]
    }
   ],
   "source": [
    "memory_usage_S = sys.getsizeof(S)\n",
    "megabyte_size_S = memory_usage_S / 1024 / 1024\n",
    "\n",
    "print(f\"Memory S : {megabyte_size_S} MB\")"
   ]
  },
  {
   "cell_type": "code",
   "execution_count": 74,
   "id": "13c440f6-fc4c-4d6d-bd79-adc1791baccf",
   "metadata": {},
   "outputs": [
    {
     "name": "stdout",
     "output_type": "stream",
     "text": [
      "Absolute Error: 822.5391787557969\n"
     ]
    }
   ],
   "source": [
    "import numpy as np\n",
    "\n",
    "def calculate_absolute_error(vector1, vector2):\n",
    "    array1 = np.array(x_A_dense)\n",
    "    array2 = np.array(x_sampling)\n",
    "\n",
    "    absolute_error = np.linalg.norm(array1 - array2, ord=1) \n",
    "\n",
    "    return absolute_error\n",
    "\n",
    "\n",
    "error = calculate_absolute_error(x_A_dense, x_sampling)\n",
    "print(f\"Absolute Error: {error}\")\n"
   ]
  },
  {
   "cell_type": "markdown",
   "id": "f4b80275-5b63-4284-b762-9cdd9ba7007f",
   "metadata": {},
   "source": [
    "<center> \n",
    "Minimize $\\lVert SAx - Sp \\rVert_{2}^2$\n",
    "</center>\n",
    "<center>\n",
    "subject to $x \\succeq 0$\n",
    "</center>\n",
    "<center>\n",
    "p = دوزتجویزی\n",
    "</center>\n"
   ]
  },
  {
   "cell_type": "code",
   "execution_count": 83,
   "id": "d78b387d-23a8-4331-9b5c-a6a128a8d41b",
   "metadata": {},
   "outputs": [
    {
     "name": "stdout",
     "output_type": "stream",
     "text": [
      "Time to solve the problem Sol_LS: 2.710179090499878 Second\n"
     ]
    }
   ],
   "source": [
    "start_time = time.time()\n",
    "\n",
    "# Solving the LS Problem with  Constant - x>=0\n",
    "sol_sparse_con = lsq_linear (S @ A ,  S @ p, bounds=(0, np.inf))\n",
    "\n",
    "end_time = time.time()\n",
    "\n",
    "total_execution_time = end_time - start_time\n",
    "print(f\"Time to solve the problem Sol_LS: {total_execution_time} Second\")\n"
   ]
  },
  {
   "cell_type": "code",
   "execution_count": null,
   "id": "dae361b7-7208-4451-ba07-c0dd3ea0299d",
   "metadata": {},
   "outputs": [],
   "source": []
  }
 ],
 "metadata": {
  "kernelspec": {
   "display_name": "Python 3 (ipykernel)",
   "language": "python",
   "name": "python3"
  },
  "language_info": {
   "codemirror_mode": {
    "name": "ipython",
    "version": 3
   },
   "file_extension": ".py",
   "mimetype": "text/x-python",
   "name": "python",
   "nbconvert_exporter": "python",
   "pygments_lexer": "ipython3",
   "version": "3.11.5"
  }
 },
 "nbformat": 4,
 "nbformat_minor": 5
}
